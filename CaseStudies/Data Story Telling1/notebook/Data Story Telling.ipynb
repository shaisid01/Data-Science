{
 "cells": [
  {
   "cell_type": "markdown",
   "id": "1004db66",
   "metadata": {},
   "source": [
    "### Data Story Telling"
   ]
  },
  {
   "cell_type": "markdown",
   "id": "82ec2b3b",
   "metadata": {},
   "source": [
    "## Starbucks Locations Worldwide"
   ]
  },
  {
   "cell_type": "markdown",
   "id": "33a374e8",
   "metadata": {},
   "source": [
    "## Goal"
   ]
  },
  {
   "cell_type": "markdown",
   "id": "ffa07ad1",
   "metadata": {},
   "source": [
    "This case study is to explore and analyze the Starbucks Location worldwide and provide insights."
   ]
  },
  {
   "cell_type": "markdown",
   "id": "bacfc08c",
   "metadata": {},
   "source": [
    "### Context"
   ]
  },
  {
   "cell_type": "markdown",
   "id": "3186ffb9",
   "metadata": {},
   "source": [
    "Starbucks started as a roaster and retailer of whole bean and ground coffee, tea and spices with a single store in Seattle’s Pike Place Market in 1971. The company now operates more than 24,000 retail stores in 70 countries.\n",
    "\n",
    "This dataset includes a record for every Starbucks or subsidiary store location currently in operation as of February 2017"
   ]
  },
  {
   "cell_type": "markdown",
   "id": "ab4b49d3",
   "metadata": {},
   "source": [
    "### Imports"
   ]
  },
  {
   "cell_type": "code",
   "execution_count": 1,
   "id": "174dcc3c",
   "metadata": {},
   "outputs": [],
   "source": [
    "import numpy as np\n",
    "import pandas as pd\n",
    "import matplotlib.pyplot as plt\n",
    "import seaborn as sns\n",
    "\n",
    "# remove warning\n",
    "import warnings\n",
    "warnings.filterwarnings(\"ignore\")"
   ]
  },
  {
   "cell_type": "code",
   "execution_count": 2,
   "id": "e9c6d81e",
   "metadata": {},
   "outputs": [],
   "source": [
    "df = pd.read_csv(\"../data/starbucks_locations.csv\")"
   ]
  },
  {
   "cell_type": "code",
   "execution_count": 3,
   "id": "84da628c",
   "metadata": {},
   "outputs": [
    {
     "data": {
      "text/html": [
       "<div>\n",
       "<style scoped>\n",
       "    .dataframe tbody tr th:only-of-type {\n",
       "        vertical-align: middle;\n",
       "    }\n",
       "\n",
       "    .dataframe tbody tr th {\n",
       "        vertical-align: top;\n",
       "    }\n",
       "\n",
       "    .dataframe thead th {\n",
       "        text-align: right;\n",
       "    }\n",
       "</style>\n",
       "<table border=\"1\" class=\"dataframe\">\n",
       "  <thead>\n",
       "    <tr style=\"text-align: right;\">\n",
       "      <th></th>\n",
       "      <th>index</th>\n",
       "      <th>Brand</th>\n",
       "      <th>Store Number</th>\n",
       "      <th>Store Name</th>\n",
       "      <th>Ownership Type</th>\n",
       "      <th>Street Address</th>\n",
       "      <th>City</th>\n",
       "      <th>State/Province</th>\n",
       "      <th>Country</th>\n",
       "      <th>Postcode</th>\n",
       "      <th>Phone Number</th>\n",
       "      <th>Timezone</th>\n",
       "      <th>Longitude</th>\n",
       "      <th>Latitude</th>\n",
       "    </tr>\n",
       "  </thead>\n",
       "  <tbody>\n",
       "    <tr>\n",
       "      <th>0</th>\n",
       "      <td>0</td>\n",
       "      <td>Starbucks</td>\n",
       "      <td>47370-257954</td>\n",
       "      <td>Meritxell, 96</td>\n",
       "      <td>Licensed</td>\n",
       "      <td>Av. Meritxell, 96</td>\n",
       "      <td>Andorra la Vella</td>\n",
       "      <td>7</td>\n",
       "      <td>AD</td>\n",
       "      <td>AD500</td>\n",
       "      <td>376818720</td>\n",
       "      <td>GMT+1:00 Europe/Andorra</td>\n",
       "      <td>1.53</td>\n",
       "      <td>42.51</td>\n",
       "    </tr>\n",
       "    <tr>\n",
       "      <th>1</th>\n",
       "      <td>1</td>\n",
       "      <td>Starbucks</td>\n",
       "      <td>22331-212325</td>\n",
       "      <td>Ajman Drive Thru</td>\n",
       "      <td>Licensed</td>\n",
       "      <td>1 Street 69, Al Jarf</td>\n",
       "      <td>Ajman</td>\n",
       "      <td>AJ</td>\n",
       "      <td>AE</td>\n",
       "      <td>NaN</td>\n",
       "      <td>NaN</td>\n",
       "      <td>GMT+04:00 Asia/Dubai</td>\n",
       "      <td>55.47</td>\n",
       "      <td>25.42</td>\n",
       "    </tr>\n",
       "    <tr>\n",
       "      <th>2</th>\n",
       "      <td>2</td>\n",
       "      <td>Starbucks</td>\n",
       "      <td>47089-256771</td>\n",
       "      <td>Dana Mall</td>\n",
       "      <td>Licensed</td>\n",
       "      <td>Sheikh Khalifa Bin Zayed St.</td>\n",
       "      <td>Ajman</td>\n",
       "      <td>AJ</td>\n",
       "      <td>AE</td>\n",
       "      <td>NaN</td>\n",
       "      <td>NaN</td>\n",
       "      <td>GMT+04:00 Asia/Dubai</td>\n",
       "      <td>55.47</td>\n",
       "      <td>25.39</td>\n",
       "    </tr>\n",
       "    <tr>\n",
       "      <th>3</th>\n",
       "      <td>3</td>\n",
       "      <td>Starbucks</td>\n",
       "      <td>22126-218024</td>\n",
       "      <td>Twofour 54</td>\n",
       "      <td>Licensed</td>\n",
       "      <td>Al Salam Street</td>\n",
       "      <td>Abu Dhabi</td>\n",
       "      <td>AZ</td>\n",
       "      <td>AE</td>\n",
       "      <td>NaN</td>\n",
       "      <td>NaN</td>\n",
       "      <td>GMT+04:00 Asia/Dubai</td>\n",
       "      <td>54.38</td>\n",
       "      <td>24.48</td>\n",
       "    </tr>\n",
       "    <tr>\n",
       "      <th>4</th>\n",
       "      <td>4</td>\n",
       "      <td>Starbucks</td>\n",
       "      <td>17127-178586</td>\n",
       "      <td>Al Ain Tower</td>\n",
       "      <td>Licensed</td>\n",
       "      <td>Khaldiya Area, Abu Dhabi Island</td>\n",
       "      <td>Abu Dhabi</td>\n",
       "      <td>AZ</td>\n",
       "      <td>AE</td>\n",
       "      <td>NaN</td>\n",
       "      <td>NaN</td>\n",
       "      <td>GMT+04:00 Asia/Dubai</td>\n",
       "      <td>54.54</td>\n",
       "      <td>24.51</td>\n",
       "    </tr>\n",
       "    <tr>\n",
       "      <th>...</th>\n",
       "      <td>...</td>\n",
       "      <td>...</td>\n",
       "      <td>...</td>\n",
       "      <td>...</td>\n",
       "      <td>...</td>\n",
       "      <td>...</td>\n",
       "      <td>...</td>\n",
       "      <td>...</td>\n",
       "      <td>...</td>\n",
       "      <td>...</td>\n",
       "      <td>...</td>\n",
       "      <td>...</td>\n",
       "      <td>...</td>\n",
       "      <td>...</td>\n",
       "    </tr>\n",
       "    <tr>\n",
       "      <th>25595</th>\n",
       "      <td>25595</td>\n",
       "      <td>Starbucks</td>\n",
       "      <td>21401-212072</td>\n",
       "      <td>Rex</td>\n",
       "      <td>Licensed</td>\n",
       "      <td>141 Nguyễn Huệ, Quận 1, Góc đường Pasteur và L...</td>\n",
       "      <td>Thành Phố Hồ Chí Minh</td>\n",
       "      <td>SG</td>\n",
       "      <td>VN</td>\n",
       "      <td>70000</td>\n",
       "      <td>08 3824 4668</td>\n",
       "      <td>GMT+000000 Asia/Saigon</td>\n",
       "      <td>106.70</td>\n",
       "      <td>10.78</td>\n",
       "    </tr>\n",
       "    <tr>\n",
       "      <th>25596</th>\n",
       "      <td>25596</td>\n",
       "      <td>Starbucks</td>\n",
       "      <td>24010-226985</td>\n",
       "      <td>Panorama</td>\n",
       "      <td>Licensed</td>\n",
       "      <td>SN-44, Tòa Nhà Panorama, 208 Trần Văn Trà, Quận 7</td>\n",
       "      <td>Thành Phố Hồ Chí Minh</td>\n",
       "      <td>SG</td>\n",
       "      <td>VN</td>\n",
       "      <td>70000</td>\n",
       "      <td>08 5413 8292</td>\n",
       "      <td>GMT+000000 Asia/Saigon</td>\n",
       "      <td>106.71</td>\n",
       "      <td>10.72</td>\n",
       "    </tr>\n",
       "    <tr>\n",
       "      <th>25597</th>\n",
       "      <td>25597</td>\n",
       "      <td>Starbucks</td>\n",
       "      <td>47608-253804</td>\n",
       "      <td>Rosebank Mall</td>\n",
       "      <td>Licensed</td>\n",
       "      <td>Cnr Tyrwhitt and Cradock Avenue, Rosebank</td>\n",
       "      <td>Johannesburg</td>\n",
       "      <td>GT</td>\n",
       "      <td>ZA</td>\n",
       "      <td>2194</td>\n",
       "      <td>27873500159</td>\n",
       "      <td>GMT+000000 Africa/Johannesburg</td>\n",
       "      <td>28.04</td>\n",
       "      <td>-26.15</td>\n",
       "    </tr>\n",
       "    <tr>\n",
       "      <th>25598</th>\n",
       "      <td>25598</td>\n",
       "      <td>Starbucks</td>\n",
       "      <td>47640-253809</td>\n",
       "      <td>Menlyn Maine</td>\n",
       "      <td>Licensed</td>\n",
       "      <td>Shop 61B, Central Square, Cnr Aramist &amp; Coroba...</td>\n",
       "      <td>Menlyn</td>\n",
       "      <td>GT</td>\n",
       "      <td>ZA</td>\n",
       "      <td>181</td>\n",
       "      <td>NaN</td>\n",
       "      <td>GMT+000000 Africa/Johannesburg</td>\n",
       "      <td>28.28</td>\n",
       "      <td>-25.79</td>\n",
       "    </tr>\n",
       "    <tr>\n",
       "      <th>25599</th>\n",
       "      <td>25599</td>\n",
       "      <td>Starbucks</td>\n",
       "      <td>47609-253286</td>\n",
       "      <td>Mall of Africa</td>\n",
       "      <td>Licensed</td>\n",
       "      <td>Shop 2077, Upper Level, Waterfall City</td>\n",
       "      <td>Midrand</td>\n",
       "      <td>GT</td>\n",
       "      <td>ZA</td>\n",
       "      <td>1682</td>\n",
       "      <td>27873500215</td>\n",
       "      <td>GMT+000000 Africa/Johannesburg</td>\n",
       "      <td>28.11</td>\n",
       "      <td>-26.02</td>\n",
       "    </tr>\n",
       "  </tbody>\n",
       "</table>\n",
       "<p>25600 rows × 14 columns</p>\n",
       "</div>"
      ],
      "text/plain": [
       "       index      Brand  Store Number        Store Name Ownership Type  \\\n",
       "0          0  Starbucks  47370-257954     Meritxell, 96       Licensed   \n",
       "1          1  Starbucks  22331-212325  Ajman Drive Thru       Licensed   \n",
       "2          2  Starbucks  47089-256771         Dana Mall       Licensed   \n",
       "3          3  Starbucks  22126-218024        Twofour 54       Licensed   \n",
       "4          4  Starbucks  17127-178586      Al Ain Tower       Licensed   \n",
       "...      ...        ...           ...               ...            ...   \n",
       "25595  25595  Starbucks  21401-212072               Rex       Licensed   \n",
       "25596  25596  Starbucks  24010-226985          Panorama       Licensed   \n",
       "25597  25597  Starbucks  47608-253804     Rosebank Mall       Licensed   \n",
       "25598  25598  Starbucks  47640-253809      Menlyn Maine       Licensed   \n",
       "25599  25599  Starbucks  47609-253286    Mall of Africa       Licensed   \n",
       "\n",
       "                                          Street Address  \\\n",
       "0                                      Av. Meritxell, 96   \n",
       "1                                   1 Street 69, Al Jarf   \n",
       "2                           Sheikh Khalifa Bin Zayed St.   \n",
       "3                                        Al Salam Street   \n",
       "4                        Khaldiya Area, Abu Dhabi Island   \n",
       "...                                                  ...   \n",
       "25595  141 Nguyễn Huệ, Quận 1, Góc đường Pasteur và L...   \n",
       "25596  SN-44, Tòa Nhà Panorama, 208 Trần Văn Trà, Quận 7   \n",
       "25597          Cnr Tyrwhitt and Cradock Avenue, Rosebank   \n",
       "25598  Shop 61B, Central Square, Cnr Aramist & Coroba...   \n",
       "25599             Shop 2077, Upper Level, Waterfall City   \n",
       "\n",
       "                        City State/Province Country Postcode  Phone Number  \\\n",
       "0           Andorra la Vella              7      AD    AD500     376818720   \n",
       "1                      Ajman             AJ      AE      NaN           NaN   \n",
       "2                      Ajman             AJ      AE      NaN           NaN   \n",
       "3                  Abu Dhabi             AZ      AE      NaN           NaN   \n",
       "4                  Abu Dhabi             AZ      AE      NaN           NaN   \n",
       "...                      ...            ...     ...      ...           ...   \n",
       "25595  Thành Phố Hồ Chí Minh             SG      VN    70000  08 3824 4668   \n",
       "25596  Thành Phố Hồ Chí Minh             SG      VN    70000  08 5413 8292   \n",
       "25597           Johannesburg             GT      ZA     2194   27873500159   \n",
       "25598                 Menlyn             GT      ZA      181           NaN   \n",
       "25599                Midrand             GT      ZA     1682   27873500215   \n",
       "\n",
       "                             Timezone  Longitude  Latitude  \n",
       "0             GMT+1:00 Europe/Andorra       1.53     42.51  \n",
       "1                GMT+04:00 Asia/Dubai      55.47     25.42  \n",
       "2                GMT+04:00 Asia/Dubai      55.47     25.39  \n",
       "3                GMT+04:00 Asia/Dubai      54.38     24.48  \n",
       "4                GMT+04:00 Asia/Dubai      54.54     24.51  \n",
       "...                               ...        ...       ...  \n",
       "25595          GMT+000000 Asia/Saigon     106.70     10.78  \n",
       "25596          GMT+000000 Asia/Saigon     106.71     10.72  \n",
       "25597  GMT+000000 Africa/Johannesburg      28.04    -26.15  \n",
       "25598  GMT+000000 Africa/Johannesburg      28.28    -25.79  \n",
       "25599  GMT+000000 Africa/Johannesburg      28.11    -26.02  \n",
       "\n",
       "[25600 rows x 14 columns]"
      ]
     },
     "execution_count": 3,
     "metadata": {},
     "output_type": "execute_result"
    }
   ],
   "source": [
    "df.head().T\n",
    "df.reset_index()"
   ]
  },
  {
   "cell_type": "code",
   "execution_count": 4,
   "id": "5e6a01ae",
   "metadata": {},
   "outputs": [
    {
     "name": "stdout",
     "output_type": "stream",
     "text": [
      "<class 'pandas.core.frame.DataFrame'>\n",
      "RangeIndex: 25600 entries, 0 to 25599\n",
      "Data columns (total 13 columns):\n",
      " #   Column          Non-Null Count  Dtype  \n",
      "---  ------          --------------  -----  \n",
      " 0   Brand           25600 non-null  object \n",
      " 1   Store Number    25600 non-null  object \n",
      " 2   Store Name      25600 non-null  object \n",
      " 3   Ownership Type  25600 non-null  object \n",
      " 4   Street Address  25598 non-null  object \n",
      " 5   City            25585 non-null  object \n",
      " 6   State/Province  25600 non-null  object \n",
      " 7   Country         25600 non-null  object \n",
      " 8   Postcode        24078 non-null  object \n",
      " 9   Phone Number    18739 non-null  object \n",
      " 10  Timezone        25600 non-null  object \n",
      " 11  Longitude       25599 non-null  float64\n",
      " 12  Latitude        25599 non-null  float64\n",
      "dtypes: float64(2), object(11)\n",
      "memory usage: 2.5+ MB\n"
     ]
    }
   ],
   "source": [
    "df.info()"
   ]
  },
  {
   "cell_type": "markdown",
   "id": "5ea60c9e",
   "metadata": {},
   "source": [
    "#### How many Starbucks stores are open around the world?"
   ]
  },
  {
   "cell_type": "code",
   "execution_count": 5,
   "id": "64b1653c",
   "metadata": {},
   "outputs": [
    {
     "data": {
      "text/plain": [
       "(25600, 13)"
      ]
     },
     "execution_count": 5,
     "metadata": {},
     "output_type": "execute_result"
    }
   ],
   "source": [
    "df.shape"
   ]
  },
  {
   "cell_type": "markdown",
   "id": "f4040996",
   "metadata": {},
   "source": [
    "25600 stores are open around the world"
   ]
  },
  {
   "cell_type": "markdown",
   "id": "8491c9c0",
   "metadata": {},
   "source": [
    "#### How many brands are there?"
   ]
  },
  {
   "cell_type": "code",
   "execution_count": 6,
   "id": "f7867f8d",
   "metadata": {},
   "outputs": [
    {
     "data": {
      "text/plain": [
       "Starbucks                25249\n",
       "Teavana                    348\n",
       "Evolution Fresh              2\n",
       "Coffee House Holdings        1\n",
       "Name: Brand, dtype: int64"
      ]
     },
     "execution_count": 6,
     "metadata": {},
     "output_type": "execute_result"
    }
   ],
   "source": [
    "x = df[\"Brand\"].value_counts()\n",
    "x"
   ]
  },
  {
   "cell_type": "code",
   "execution_count": 7,
   "id": "eb5d2ed7",
   "metadata": {},
   "outputs": [
    {
     "data": {
      "text/plain": [
       "Text(0.5, 1.0, 'Distribution of Brands')"
      ]
     },
     "execution_count": 7,
     "metadata": {},
     "output_type": "execute_result"
    },
    {
     "data": {
      "image/png": "[encoded data removed]",
      "text/plain": [
       "<Figure size 576x432 with 1 Axes>"
      ]
     },
     "metadata": {
      "needs_background": "light"
     },
     "output_type": "display_data"
    }
   ],
   "source": [
    "plt.figure(figsize=(8, 6))\n",
    "fig=sns.barplot(x.index,x.values)\n",
    "plt.xlabel('Brands')\n",
    "plt.ylabel('Counts')\n",
    "fig.set_title('Distribution of Brands')"
   ]
  },
  {
   "cell_type": "markdown",
   "id": "aa706c72",
   "metadata": {},
   "source": [
    "4 different types of Brands are run by StartBucks and popular is Starbucks"
   ]
  },
  {
   "cell_type": "markdown",
   "id": "219ca547",
   "metadata": {},
   "source": [
    "#### How many different type of ownerships are there?"
   ]
  },
  {
   "cell_type": "code",
   "execution_count": 8,
   "id": "7fd7992d",
   "metadata": {},
   "outputs": [
    {
     "data": {
      "text/plain": [
       "Company Owned    11932\n",
       "Licensed          9375\n",
       "Joint Venture     3976\n",
       "Franchise          317\n",
       "Name: Ownership Type, dtype: int64"
      ]
     },
     "execution_count": 8,
     "metadata": {},
     "output_type": "execute_result"
    }
   ],
   "source": [
    "x=df[\"Ownership Type\"].value_counts()\n",
    "x"
   ]
  },
  {
   "cell_type": "code",
   "execution_count": 9,
   "id": "70f7984e",
   "metadata": {},
   "outputs": [
    {
     "data": {
      "text/plain": [
       "Text(0.5, 1.0, 'Distribution of Ownership Type')"
      ]
     },
     "execution_count": 9,
     "metadata": {},
     "output_type": "execute_result"
    },
    {
     "data": {
      "image/png": "[encoded data removed]",
      "text/plain": [
       "<Figure size 576x432 with 1 Axes>"
      ]
     },
     "metadata": {
      "needs_background": "light"
     },
     "output_type": "display_data"
    }
   ],
   "source": [
    "plt.figure(figsize=(8, 6))\n",
    "fig=sns.barplot(x.index,x.values)\n",
    "plt.xlabel('Ownership Type')\n",
    "plt.ylabel('Counts')\n",
    "fig.set_title('Distribution of Ownership Type')"
   ]
  },
  {
   "cell_type": "markdown",
   "id": "88695775",
   "metadata": {},
   "source": [
    "There are 4 different types of Ownership and most of it is owned by StarBucks itself."
   ]
  },
  {
   "cell_type": "markdown",
   "id": "8dc5bfd9",
   "metadata": {},
   "source": [
    "#### How many countries it is spread across?"
   ]
  },
  {
   "cell_type": "code",
   "execution_count": 10,
   "id": "6d246a6c",
   "metadata": {},
   "outputs": [
    {
     "data": {
      "text/plain": [
       "US    13608\n",
       "CN     2734\n",
       "CA     1468\n",
       "JP     1237\n",
       "KR      993\n",
       "      ...  \n",
       "SK        3\n",
       "ZA        3\n",
       "MC        2\n",
       "LU        2\n",
       "AD        1\n",
       "Name: Country, Length: 73, dtype: int64"
      ]
     },
     "execution_count": 10,
     "metadata": {},
     "output_type": "execute_result"
    }
   ],
   "source": [
    "x=df[\"Country\"].value_counts()\n",
    "x"
   ]
  },
  {
   "cell_type": "markdown",
   "id": "885a5f6f",
   "metadata": {},
   "source": [
    "StarBucks has its presence across 73 countries"
   ]
  },
  {
   "cell_type": "code",
   "execution_count": 11,
   "id": "cb29fc31",
   "metadata": {},
   "outputs": [
    {
     "data": {
      "text/plain": [
       "Text(0.5, 1.0, 'Distribution of Ownership Type')"
      ]
     },
     "execution_count": 11,
     "metadata": {},
     "output_type": "execute_result"
    },
    {
     "data": {
      "image/png": "[encoded data removed]",
      "text/plain": [
       "<Figure size 1296x432 with 1 Axes>"
      ]
     },
     "metadata": {
      "needs_background": "light"
     },
     "output_type": "display_data"
    }
   ],
   "source": [
    "plt.figure(figsize=(18, 6))\n",
    "fig=sns.barplot(x.index,x.values)\n",
    "plt.xlabel('Ownership Type')\n",
    "plt.ylabel('Counts')\n",
    "fig.set_title('Distribution of Ownership Type')"
   ]
  },
  {
   "cell_type": "markdown",
   "id": "c1a3e7c0",
   "metadata": {},
   "source": [
    "#### How StarBucks is distributed across the World, continent wise?"
   ]
  },
  {
   "cell_type": "code",
   "execution_count": 12,
   "id": "17e05f13",
   "metadata": {
    "scrolled": true
   },
   "outputs": [
    {
     "data": {
      "text/plain": [
       "GMT-05:00 America/New_York       4889\n",
       "GMT-08:00 America/Los_Angeles    4194\n",
       "GMT-06:00 America/Chicago        2901\n",
       "GMT+08:00 Asia/Beijing           2731\n",
       "GMT+09:00 Asia/Tokyo             1237\n",
       "                                 ... \n",
       "GMT+1:00 Europe/Luxembourg          2\n",
       "GMT+0:00 Atlantic/Canary            1\n",
       "GMT+4:00 Europe/Samara              1\n",
       "GMT+2:00 Asia/Jerusalem             1\n",
       "GMT+1:00 Europe/Andorra             1\n",
       "Name: Timezone, Length: 101, dtype: int64"
      ]
     },
     "execution_count": 12,
     "metadata": {},
     "output_type": "execute_result"
    }
   ],
   "source": [
    "df[\"Timezone\"].value_counts()"
   ]
  },
  {
   "cell_type": "code",
   "execution_count": 13,
   "id": "6445f556",
   "metadata": {},
   "outputs": [
    {
     "data": {
      "image/png": "[encoded data removed]",
      "text/plain": [
       "<Figure size 432x288 with 1 Axes>"
      ]
     },
     "metadata": {
      "needs_background": "light"
     },
     "output_type": "display_data"
    }
   ],
   "source": [
    "# Bar graph for StarBucks across the continent\n",
    "plt.figure()\n",
    "continents = df.Timezone.apply(lambda s: s.split('/')[0].split()[-1]).value_counts()\n",
    "sns.barplot(continents.index, continents.values)\n",
    "plt.title('Continent wise StarBucks Store')\n",
    "plt.ylabel('Counts', fontsize=12)\n",
    "plt.xlabel('Continent', fontsize=12)\n",
    "plt.show()"
   ]
  },
  {
   "cell_type": "markdown",
   "id": "b18ba001",
   "metadata": {},
   "source": [
    "America Stands first with maximum number of Starbucks stores followed by Asaia and Europe"
   ]
  },
  {
   "cell_type": "markdown",
   "id": "0227bcfb",
   "metadata": {},
   "source": [
    "#### Bar graph for First 10 Countries starBucks across the world "
   ]
  },
  {
   "cell_type": "code",
   "execution_count": 14,
   "id": "1d8fb881",
   "metadata": {},
   "outputs": [
    {
     "data": {
      "image/png": "[encoded data removed]",
      "text/plain": [
       "<Figure size 720x360 with 1 Axes>"
      ]
     },
     "metadata": {
      "needs_background": "light"
     },
     "output_type": "display_data"
    }
   ],
   "source": [
    "Countries  = df['Country'].value_counts()\n",
    "count = Countries[:10,]\n",
    "plt.figure(figsize=(10,5))\n",
    "sns.barplot(x=count.index, y=count.values, alpha=0.8)\n",
    "plt.title('Starbucks across the world -First top 10.')\n",
    "plt.ylabel('Counts', fontsize=12)\n",
    "plt.xlabel('Country', fontsize=12)\n",
    "plt.show()"
   ]
  },
  {
   "cell_type": "markdown",
   "id": "817ad6d6",
   "metadata": {},
   "source": [
    "#### Plotting a bar graph of the number of stores in each city, for the first ten cities listed"
   ]
  },
  {
   "cell_type": "code",
   "execution_count": 15,
   "id": "a27f9180",
   "metadata": {},
   "outputs": [
    {
     "data": {
      "image/png": "[encoded data removed]",
      "text/plain": [
       "<Figure size 720x360 with 1 Axes>"
      ]
     },
     "metadata": {
      "needs_background": "light"
     },
     "output_type": "display_data"
    }
   ],
   "source": [
    "# in the column 'City'\n",
    "city_count  = df['City'].value_counts()\n",
    "city_count = city_count[:10,]\n",
    "plt.figure(figsize=(10,5))\n",
    "sns.barplot(city_count.index, city_count.values, alpha=0.8)\n",
    "plt.title('Starbucks in top 10 cities in the World')\n",
    "plt.ylabel('Number of Occurrences', fontsize=12)\n",
    "plt.xlabel('city', fontsize=12)\n",
    "plt.show()"
   ]
  },
  {
   "cell_type": "markdown",
   "id": "4f8a37d8",
   "metadata": {},
   "source": [
    "#### Countries prefer 'Starbucks' brand?"
   ]
  },
  {
   "cell_type": "code",
   "execution_count": 16,
   "id": "a5834e2f",
   "metadata": {},
   "outputs": [
    {
     "name": "stdout",
     "output_type": "stream",
     "text": [
      "CN    2734\n",
      "CA    1415\n",
      "JP    1237\n",
      "KR     993\n",
      "GB     901\n",
      "MX     579\n",
      "TW     394\n",
      "TR     326\n",
      "PH     298\n",
      "Name: Country, dtype: int64\n"
     ]
    },
    {
     "data": {
      "text/plain": [
       "Text(0.5, 1.0, 'Distribution of Starbucks Brand')"
      ]
     },
     "execution_count": 16,
     "metadata": {},
     "output_type": "execute_result"
    },
    {
     "data": {
      "image/png": "[encoded data removed]",
      "text/plain": [
       "<Figure size 576x432 with 1 Axes>"
      ]
     },
     "metadata": {
      "needs_background": "light"
     },
     "output_type": "display_data"
    }
   ],
   "source": [
    "x=df[df['Brand']=='Starbucks']['Country'].value_counts()[1:10]\n",
    "print(x)\n",
    "plt.figure(figsize=(8, 6))\n",
    "fig=sns.barplot(x.index,x.values)\n",
    "plt.xlabel('Country')\n",
    "plt.ylabel('Density')\n",
    "fig.set_title('Distribution of Starbucks Brand')"
   ]
  },
  {
   "cell_type": "markdown",
   "id": "0e8319e2",
   "metadata": {},
   "source": [
    "China stands First followed with Canada and Japan"
   ]
  },
  {
   "cell_type": "code",
   "execution_count": null,
   "id": "be39031d",
   "metadata": {},
   "outputs": [],
   "source": []
  }
 ],
 "metadata": {
  "kernelspec": {
   "display_name": "Python 3",
   "language": "python",
   "name": "python3"
  },
  "language_info": {
   "codemirror_mode": {
    "name": "ipython",
    "version": 3
   },
   "file_extension": ".py",
   "mimetype": "text/x-python",
   "name": "python",
   "nbconvert_exporter": "python",
   "pygments_lexer": "ipython3",
   "version": "3.8.8"
  }
 },
 "nbformat": 4,
 "nbformat_minor": 5
}
