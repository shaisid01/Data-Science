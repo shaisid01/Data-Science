{
 "cells": [
  {
   "cell_type": "markdown",
   "metadata": {},
   "source": [
    "# 2 Data wrangling<a id='2_Data_wrangling'></a>"
   ]
  },
  {
   "cell_type": "markdown",
   "metadata": {},
   "source": [
    "## Contents<a id='Contents'></a>\n",
    "* [Data wrangling](#Data_wrangling)\n",
    "  * [Contents](#Contents)\n",
    "  * [Introduction](#Introduction)\n",
    "    * [Recap Of Data Science Problem](#Recap_Of_Data_Science_Problem)\n",
    "  * [Imports](#Imports)\n",
    "  * [Objectives](#Objectives)\n",
    "  * [Data Dictionary](#Data_Dictionary)\n",
    "  * [Load The Credit Card Customer Attrition Prediction Data](#Load_The_CC_Attrition_Data)\n",
    "      * [Categorical Features](#Categorical_Features)\n",
    "      * [Numeric Features](#Numeric_Features)\n",
    "  * [Save data](#Save_data)\n",
    "  * [Target Feature](#Target_Feature)\n",
    "  * [Summary](#Summary)\n"
   ]
  },
  {
   "cell_type": "markdown",
   "metadata": {},
   "source": [
    "## Introduction<a id='Introduction'></a>"
   ]
  },
  {
   "cell_type": "markdown",
   "metadata": {},
   "source": [
    "Identify and visualize which factors contribute to customer churn:The customer churn, also known as customer attrition, refers a customer ending relationship with bank for some reasons.\n",
    "\n",
    "Build a prediction model that will perform the following:\n",
    "Classify if a customer is leaving or not.\n",
    "customer service team can contact customers on the list to better understand their needs or propose new offers or different products and do necessary steps from churning.\n"
   ]
  },
  {
   "cell_type": "markdown",
   "metadata": {},
   "source": [
    "### Recap Of Data Science Problem<a id='Recap_Of_Data_Science_Problem'></a>"
   ]
  },
  {
   "cell_type": "markdown",
   "metadata": {},
   "source": [
    "A manager at the bank is disturbed with more and more customers leaving their credit card services. They would really appreciate it if one could predict for them who will get churned so they can proactively improve the service, so that the bank can run profitably.Because it is well known that getting new customer is more costlier than retaining customer.\n",
    "\n",
    "Credit cards are a good source of income for banks because of different kinds of fees charged by the banks like annual fees, balance transfer fees, and cash advance fees, late payment fees, foreign transaction fees, and others. Some fees are charged to every user irrespective of usage, while others are charged under specified circumstances.\n",
    "Customers’ leaving credit cards services would lead bank to loss, so the bank wants to analyze the data of customers and identify the customers who will leave their credit card services and reason for same – so that bank could improve upon those areas.\n"
   ]
  },
  {
   "cell_type": "markdown",
   "metadata": {},
   "source": [
    "## Imports<a id='Imports'></a>"
   ]
  },
  {
   "cell_type": "code",
   "execution_count": 1,
   "metadata": {},
   "outputs": [],
   "source": [
    "#Import pandas, matplotlib.pyplot, and seaborn in the correct lines below\n",
    "import pandas as pd\n",
    "import numpy as np\n",
    "import matplotlib.pyplot as plt\n",
    "import seaborn as sns\n",
    "import os\n",
    "\n",
    "from library.sb_utils import save_file"
   ]
  },
  {
   "cell_type": "markdown",
   "metadata": {},
   "source": [
    "## Objectives<a id='Objectives'></a>"
   ]
  },
  {
   "cell_type": "markdown",
   "metadata": {},
   "source": [
    "* Explore the dataset and visualize the same\n",
    "* Build a model to predict the customer is going to churn or not\n",
    "* Optimize the model with appropriate techniques \n",
    "* Generate a set of insights and recommendations that may help the bank"
   ]
  },
  {
   "cell_type": "markdown",
   "metadata": {},
   "source": [
    "## Data Dictionary<a id='Data Dictionary'></a>"
   ]
  },
  {
   "cell_type": "markdown",
   "metadata": {},
   "source": [
    "* CLIENTNUM: Client number. Unique identifier for the customer holding the account\n",
    "* Attrition_Flag: if the account is closed then \"Attrited Customer\" else \"Existing Customer\"\n",
    "* Customer_Age: Age in Years\n",
    "* Gender: Gender of the customer\n",
    "* Dependent_count: Number of dependents\n",
    "* Education_Level: Educational Qualification -Graduate, High School, Unknown, Uneducated, College, Post-Graduate, Doctorate.\n",
    "* Marital_Status: Marital Status\n",
    "* Income_Category: Annual Income Category \n",
    "* Card_Category: Type of Card\n",
    "* Months_on_book: Time frame with the bank\n",
    "* Total_Relationship_Count: Total no. of products held by the customer\n",
    "* Months_Inactive_12_mon: No. of months inactive in the last 12 months(one year)\n",
    "* Contacts_Count_12_mon: No. of Contacts between the customer and bank in the last 12 months(one year)\n",
    "* Credit_Limit: Credit Limit on the Credit Card\n",
    "* Total_Revolving_Bal: The balance that carries over from one month to the next is the revolving balance\n",
    "* Avg_Open_To_Buy: Open to Buy refers to the amount left on the credit card to use (Average of last 12 months)\n",
    "* Total_Trans_Amt: Total Transaction Amount in Last 12 months((one year))\n",
    "* Total_Trans_Ct: Total Transaction Count in Last 12 months((one year))\n",
    "* Total_Ct_Chng_Q4_Q1: Ratio of the total transaction count in 4th quarter and the total transaction count in 1st quarter\n",
    "* Total_Amt_Chng_Q4_Q1: Ratio of the total transaction amount in 4th quarter and the total transaction amount in 1st quarter\n",
    "* Avg_Utilization_Ratio: Represents how much of the available credit the customer spent\n"
   ]
  },
  {
   "cell_type": "markdown",
   "metadata": {},
   "source": [
    "## Load The Credit Card Customer Attrition Prediction Data<a id='Load_The_CC_Attrition_Data'></a>"
   ]
  },
  {
   "cell_type": "code",
   "execution_count": 2,
   "metadata": {},
   "outputs": [],
   "source": [
    "ccattr_data = pd.read_csv('../Data/BankChurners.csv')"
   ]
  },
  {
   "cell_type": "markdown",
   "metadata": {},
   "source": [
    "Good first steps in auditing the data are the info method and displaying the first few records with head."
   ]
  },
  {
   "cell_type": "code",
   "execution_count": 3,
   "metadata": {},
   "outputs": [
    {
     "data": {
      "text/html": [
       "<div>\n",
       "<style scoped>\n",
       "    .dataframe tbody tr th:only-of-type {\n",
       "        vertical-align: middle;\n",
       "    }\n",
       "\n",
       "    .dataframe tbody tr th {\n",
       "        vertical-align: top;\n",
       "    }\n",
       "\n",
       "    .dataframe thead th {\n",
       "        text-align: right;\n",
       "    }\n",
       "</style>\n",
       "<table border=\"1\" class=\"dataframe\">\n",
       "  <thead>\n",
       "    <tr style=\"text-align: right;\">\n",
       "      <th></th>\n",
       "      <th>CLIENTNUM</th>\n",
       "      <th>Attrition_Flag</th>\n",
       "      <th>Customer_Age</th>\n",
       "      <th>Gender</th>\n",
       "      <th>Dependent_count</th>\n",
       "      <th>Education_Level</th>\n",
       "      <th>Marital_Status</th>\n",
       "      <th>Income_Category</th>\n",
       "      <th>Card_Category</th>\n",
       "      <th>Months_on_book</th>\n",
       "      <th>...</th>\n",
       "      <th>Credit_Limit</th>\n",
       "      <th>Total_Revolving_Bal</th>\n",
       "      <th>Avg_Open_To_Buy</th>\n",
       "      <th>Total_Amt_Chng_Q4_Q1</th>\n",
       "      <th>Total_Trans_Amt</th>\n",
       "      <th>Total_Trans_Ct</th>\n",
       "      <th>Total_Ct_Chng_Q4_Q1</th>\n",
       "      <th>Avg_Utilization_Ratio</th>\n",
       "      <th>Naive_Bayes_Classifier_Attrition_Flag_Card_Category_Contacts_Count_12_mon_Dependent_count_Education_Level_Months_Inactive_12_mon_1</th>\n",
       "      <th>Naive_Bayes_Classifier_Attrition_Flag_Card_Category_Contacts_Count_12_mon_Dependent_count_Education_Level_Months_Inactive_12_mon_2</th>\n",
       "    </tr>\n",
       "  </thead>\n",
       "  <tbody>\n",
       "    <tr>\n",
       "      <th>0</th>\n",
       "      <td>768805383</td>\n",
       "      <td>Existing Customer</td>\n",
       "      <td>45</td>\n",
       "      <td>M</td>\n",
       "      <td>3</td>\n",
       "      <td>High School</td>\n",
       "      <td>Married</td>\n",
       "      <td>$60K - $80K</td>\n",
       "      <td>Blue</td>\n",
       "      <td>39</td>\n",
       "      <td>...</td>\n",
       "      <td>12691.0</td>\n",
       "      <td>777</td>\n",
       "      <td>11914.0</td>\n",
       "      <td>1.335</td>\n",
       "      <td>1144</td>\n",
       "      <td>42</td>\n",
       "      <td>1.625</td>\n",
       "      <td>0.061</td>\n",
       "      <td>0.000093</td>\n",
       "      <td>0.99991</td>\n",
       "    </tr>\n",
       "    <tr>\n",
       "      <th>1</th>\n",
       "      <td>818770008</td>\n",
       "      <td>Existing Customer</td>\n",
       "      <td>49</td>\n",
       "      <td>F</td>\n",
       "      <td>5</td>\n",
       "      <td>Graduate</td>\n",
       "      <td>Single</td>\n",
       "      <td>Less than $40K</td>\n",
       "      <td>Blue</td>\n",
       "      <td>44</td>\n",
       "      <td>...</td>\n",
       "      <td>8256.0</td>\n",
       "      <td>864</td>\n",
       "      <td>7392.0</td>\n",
       "      <td>1.541</td>\n",
       "      <td>1291</td>\n",
       "      <td>33</td>\n",
       "      <td>3.714</td>\n",
       "      <td>0.105</td>\n",
       "      <td>0.000057</td>\n",
       "      <td>0.99994</td>\n",
       "    </tr>\n",
       "    <tr>\n",
       "      <th>2</th>\n",
       "      <td>713982108</td>\n",
       "      <td>Existing Customer</td>\n",
       "      <td>51</td>\n",
       "      <td>M</td>\n",
       "      <td>3</td>\n",
       "      <td>Graduate</td>\n",
       "      <td>Married</td>\n",
       "      <td>$80K - $120K</td>\n",
       "      <td>Blue</td>\n",
       "      <td>36</td>\n",
       "      <td>...</td>\n",
       "      <td>3418.0</td>\n",
       "      <td>0</td>\n",
       "      <td>3418.0</td>\n",
       "      <td>2.594</td>\n",
       "      <td>1887</td>\n",
       "      <td>20</td>\n",
       "      <td>2.333</td>\n",
       "      <td>0.000</td>\n",
       "      <td>0.000021</td>\n",
       "      <td>0.99998</td>\n",
       "    </tr>\n",
       "    <tr>\n",
       "      <th>3</th>\n",
       "      <td>769911858</td>\n",
       "      <td>Existing Customer</td>\n",
       "      <td>40</td>\n",
       "      <td>F</td>\n",
       "      <td>4</td>\n",
       "      <td>High School</td>\n",
       "      <td>Unknown</td>\n",
       "      <td>Less than $40K</td>\n",
       "      <td>Blue</td>\n",
       "      <td>34</td>\n",
       "      <td>...</td>\n",
       "      <td>3313.0</td>\n",
       "      <td>2517</td>\n",
       "      <td>796.0</td>\n",
       "      <td>1.405</td>\n",
       "      <td>1171</td>\n",
       "      <td>20</td>\n",
       "      <td>2.333</td>\n",
       "      <td>0.760</td>\n",
       "      <td>0.000134</td>\n",
       "      <td>0.99987</td>\n",
       "    </tr>\n",
       "    <tr>\n",
       "      <th>4</th>\n",
       "      <td>709106358</td>\n",
       "      <td>Existing Customer</td>\n",
       "      <td>40</td>\n",
       "      <td>M</td>\n",
       "      <td>3</td>\n",
       "      <td>Uneducated</td>\n",
       "      <td>Married</td>\n",
       "      <td>$60K - $80K</td>\n",
       "      <td>Blue</td>\n",
       "      <td>21</td>\n",
       "      <td>...</td>\n",
       "      <td>4716.0</td>\n",
       "      <td>0</td>\n",
       "      <td>4716.0</td>\n",
       "      <td>2.175</td>\n",
       "      <td>816</td>\n",
       "      <td>28</td>\n",
       "      <td>2.500</td>\n",
       "      <td>0.000</td>\n",
       "      <td>0.000022</td>\n",
       "      <td>0.99998</td>\n",
       "    </tr>\n",
       "  </tbody>\n",
       "</table>\n",
       "<p>5 rows × 23 columns</p>\n",
       "</div>"
      ],
      "text/plain": [
       "   CLIENTNUM     Attrition_Flag  Customer_Age Gender  Dependent_count  \\\n",
       "0  768805383  Existing Customer            45      M                3   \n",
       "1  818770008  Existing Customer            49      F                5   \n",
       "2  713982108  Existing Customer            51      M                3   \n",
       "3  769911858  Existing Customer            40      F                4   \n",
       "4  709106358  Existing Customer            40      M                3   \n",
       "\n",
       "  Education_Level Marital_Status Income_Category Card_Category  \\\n",
       "0     High School        Married     $60K - $80K          Blue   \n",
       "1        Graduate         Single  Less than $40K          Blue   \n",
       "2        Graduate        Married    $80K - $120K          Blue   \n",
       "3     High School        Unknown  Less than $40K          Blue   \n",
       "4      Uneducated        Married     $60K - $80K          Blue   \n",
       "\n",
       "   Months_on_book  ...  Credit_Limit  Total_Revolving_Bal  Avg_Open_To_Buy  \\\n",
       "0              39  ...       12691.0                  777          11914.0   \n",
       "1              44  ...        8256.0                  864           7392.0   \n",
       "2              36  ...        3418.0                    0           3418.0   \n",
       "3              34  ...        3313.0                 2517            796.0   \n",
       "4              21  ...        4716.0                    0           4716.0   \n",
       "\n",
       "   Total_Amt_Chng_Q4_Q1  Total_Trans_Amt  Total_Trans_Ct  Total_Ct_Chng_Q4_Q1  \\\n",
       "0                 1.335             1144              42                1.625   \n",
       "1                 1.541             1291              33                3.714   \n",
       "2                 2.594             1887              20                2.333   \n",
       "3                 1.405             1171              20                2.333   \n",
       "4                 2.175              816              28                2.500   \n",
       "\n",
       "   Avg_Utilization_Ratio  \\\n",
       "0                  0.061   \n",
       "1                  0.105   \n",
       "2                  0.000   \n",
       "3                  0.760   \n",
       "4                  0.000   \n",
       "\n",
       "   Naive_Bayes_Classifier_Attrition_Flag_Card_Category_Contacts_Count_12_mon_Dependent_count_Education_Level_Months_Inactive_12_mon_1  \\\n",
       "0                                           0.000093                                                                                    \n",
       "1                                           0.000057                                                                                    \n",
       "2                                           0.000021                                                                                    \n",
       "3                                           0.000134                                                                                    \n",
       "4                                           0.000022                                                                                    \n",
       "\n",
       "   Naive_Bayes_Classifier_Attrition_Flag_Card_Category_Contacts_Count_12_mon_Dependent_count_Education_Level_Months_Inactive_12_mon_2  \n",
       "0                                            0.99991                                                                                   \n",
       "1                                            0.99994                                                                                   \n",
       "2                                            0.99998                                                                                   \n",
       "3                                            0.99987                                                                                   \n",
       "4                                            0.99998                                                                                   \n",
       "\n",
       "[5 rows x 23 columns]"
      ]
     },
     "execution_count": 3,
     "metadata": {},
     "output_type": "execute_result"
    }
   ],
   "source": [
    "# see a summary of the data\n",
    "ccattr_data.head()"
   ]
  },
  {
   "cell_type": "markdown",
   "metadata": {},
   "source": [
    "The last 2 columns appear to be predictions. Change their name to be more readable."
   ]
  },
  {
   "cell_type": "code",
   "execution_count": 4,
   "metadata": {},
   "outputs": [],
   "source": [
    "col1 = \"Naive_Bayes_Classifier_Attrition_Flag_Card_Category_Contacts_Count_12_mon_Dependent_count_Education_Level_Months_Inactive_12_mon_1\"\n",
    "col2 = \"Naive_Bayes_Classifier_Attrition_Flag_Card_Category_Contacts_Count_12_mon_Dependent_count_Education_Level_Months_Inactive_12_mon_2\"\n",
    "ccattr_data.rename(columns={col1 : \"naive_cls1\", col2 : \"naive_cls2\"}, inplace=True)"
   ]
  },
  {
   "cell_type": "code",
   "execution_count": 5,
   "metadata": {},
   "outputs": [
    {
     "name": "stdout",
     "output_type": "stream",
     "text": [
      "<class 'pandas.core.frame.DataFrame'>\n",
      "RangeIndex: 10127 entries, 0 to 10126\n",
      "Data columns (total 23 columns):\n",
      " #   Column                    Non-Null Count  Dtype  \n",
      "---  ------                    --------------  -----  \n",
      " 0   CLIENTNUM                 10127 non-null  int64  \n",
      " 1   Attrition_Flag            10127 non-null  object \n",
      " 2   Customer_Age              10127 non-null  int64  \n",
      " 3   Gender                    10127 non-null  object \n",
      " 4   Dependent_count           10127 non-null  int64  \n",
      " 5   Education_Level           10127 non-null  object \n",
      " 6   Marital_Status            10127 non-null  object \n",
      " 7   Income_Category           10127 non-null  object \n",
      " 8   Card_Category             10127 non-null  object \n",
      " 9   Months_on_book            10127 non-null  int64  \n",
      " 10  Total_Relationship_Count  10127 non-null  int64  \n",
      " 11  Months_Inactive_12_mon    10127 non-null  int64  \n",
      " 12  Contacts_Count_12_mon     10127 non-null  int64  \n",
      " 13  Credit_Limit              10127 non-null  float64\n",
      " 14  Total_Revolving_Bal       10127 non-null  int64  \n",
      " 15  Avg_Open_To_Buy           10127 non-null  float64\n",
      " 16  Total_Amt_Chng_Q4_Q1      10127 non-null  float64\n",
      " 17  Total_Trans_Amt           10127 non-null  int64  \n",
      " 18  Total_Trans_Ct            10127 non-null  int64  \n",
      " 19  Total_Ct_Chng_Q4_Q1       10127 non-null  float64\n",
      " 20  Avg_Utilization_Ratio     10127 non-null  float64\n",
      " 21  naive_cls1                10127 non-null  float64\n",
      " 22  naive_cls2                10127 non-null  float64\n",
      "dtypes: float64(7), int64(10), object(6)\n",
      "memory usage: 1.8+ MB\n"
     ]
    }
   ],
   "source": [
    "#Check the data types of the columns\n",
    "ccattr_data.info()"
   ]
  },
  {
   "cell_type": "markdown",
   "metadata": {},
   "source": [
    "There are 10127 rows and 23 columns.\n",
    "There are no missing values.\n",
    "\n",
    "Most of the columns are numerical and 6 are categorical, and those are -\n",
    "* Attrition_Flag\n",
    "* Gender\n",
    "* Education_Level\n",
    "* Marital_Status\n",
    "* Income_Category\n",
    "* Card_Category"
   ]
  },
  {
   "cell_type": "code",
   "execution_count": 6,
   "metadata": {},
   "outputs": [
    {
     "data": {
      "text/html": [
       "<div>\n",
       "<style scoped>\n",
       "    .dataframe tbody tr th:only-of-type {\n",
       "        vertical-align: middle;\n",
       "    }\n",
       "\n",
       "    .dataframe tbody tr th {\n",
       "        vertical-align: top;\n",
       "    }\n",
       "\n",
       "    .dataframe thead th {\n",
       "        text-align: right;\n",
       "    }\n",
       "</style>\n",
       "<table border=\"1\" class=\"dataframe\">\n",
       "  <thead>\n",
       "    <tr style=\"text-align: right;\">\n",
       "      <th></th>\n",
       "      <th>count</th>\n",
       "      <th>mean</th>\n",
       "      <th>std</th>\n",
       "      <th>min</th>\n",
       "      <th>25%</th>\n",
       "      <th>50%</th>\n",
       "      <th>75%</th>\n",
       "      <th>max</th>\n",
       "    </tr>\n",
       "  </thead>\n",
       "  <tbody>\n",
       "    <tr>\n",
       "      <th>CLIENTNUM</th>\n",
       "      <td>10127.0</td>\n",
       "      <td>7.391776e+08</td>\n",
       "      <td>3.690378e+07</td>\n",
       "      <td>7.080821e+08</td>\n",
       "      <td>7.130368e+08</td>\n",
       "      <td>7.179264e+08</td>\n",
       "      <td>7.731435e+08</td>\n",
       "      <td>8.283431e+08</td>\n",
       "    </tr>\n",
       "    <tr>\n",
       "      <th>Customer_Age</th>\n",
       "      <td>10127.0</td>\n",
       "      <td>4.632596e+01</td>\n",
       "      <td>8.016814e+00</td>\n",
       "      <td>2.600000e+01</td>\n",
       "      <td>4.100000e+01</td>\n",
       "      <td>4.600000e+01</td>\n",
       "      <td>5.200000e+01</td>\n",
       "      <td>7.300000e+01</td>\n",
       "    </tr>\n",
       "    <tr>\n",
       "      <th>Dependent_count</th>\n",
       "      <td>10127.0</td>\n",
       "      <td>2.346203e+00</td>\n",
       "      <td>1.298908e+00</td>\n",
       "      <td>0.000000e+00</td>\n",
       "      <td>1.000000e+00</td>\n",
       "      <td>2.000000e+00</td>\n",
       "      <td>3.000000e+00</td>\n",
       "      <td>5.000000e+00</td>\n",
       "    </tr>\n",
       "    <tr>\n",
       "      <th>Months_on_book</th>\n",
       "      <td>10127.0</td>\n",
       "      <td>3.592841e+01</td>\n",
       "      <td>7.986416e+00</td>\n",
       "      <td>1.300000e+01</td>\n",
       "      <td>3.100000e+01</td>\n",
       "      <td>3.600000e+01</td>\n",
       "      <td>4.000000e+01</td>\n",
       "      <td>5.600000e+01</td>\n",
       "    </tr>\n",
       "    <tr>\n",
       "      <th>Total_Relationship_Count</th>\n",
       "      <td>10127.0</td>\n",
       "      <td>3.812580e+00</td>\n",
       "      <td>1.554408e+00</td>\n",
       "      <td>1.000000e+00</td>\n",
       "      <td>3.000000e+00</td>\n",
       "      <td>4.000000e+00</td>\n",
       "      <td>5.000000e+00</td>\n",
       "      <td>6.000000e+00</td>\n",
       "    </tr>\n",
       "    <tr>\n",
       "      <th>Months_Inactive_12_mon</th>\n",
       "      <td>10127.0</td>\n",
       "      <td>2.341167e+00</td>\n",
       "      <td>1.010622e+00</td>\n",
       "      <td>0.000000e+00</td>\n",
       "      <td>2.000000e+00</td>\n",
       "      <td>2.000000e+00</td>\n",
       "      <td>3.000000e+00</td>\n",
       "      <td>6.000000e+00</td>\n",
       "    </tr>\n",
       "    <tr>\n",
       "      <th>Contacts_Count_12_mon</th>\n",
       "      <td>10127.0</td>\n",
       "      <td>2.455317e+00</td>\n",
       "      <td>1.106225e+00</td>\n",
       "      <td>0.000000e+00</td>\n",
       "      <td>2.000000e+00</td>\n",
       "      <td>2.000000e+00</td>\n",
       "      <td>3.000000e+00</td>\n",
       "      <td>6.000000e+00</td>\n",
       "    </tr>\n",
       "    <tr>\n",
       "      <th>Credit_Limit</th>\n",
       "      <td>10127.0</td>\n",
       "      <td>8.631954e+03</td>\n",
       "      <td>9.088777e+03</td>\n",
       "      <td>1.438300e+03</td>\n",
       "      <td>2.555000e+03</td>\n",
       "      <td>4.549000e+03</td>\n",
       "      <td>1.106750e+04</td>\n",
       "      <td>3.451600e+04</td>\n",
       "    </tr>\n",
       "    <tr>\n",
       "      <th>Total_Revolving_Bal</th>\n",
       "      <td>10127.0</td>\n",
       "      <td>1.162814e+03</td>\n",
       "      <td>8.149873e+02</td>\n",
       "      <td>0.000000e+00</td>\n",
       "      <td>3.590000e+02</td>\n",
       "      <td>1.276000e+03</td>\n",
       "      <td>1.784000e+03</td>\n",
       "      <td>2.517000e+03</td>\n",
       "    </tr>\n",
       "    <tr>\n",
       "      <th>Avg_Open_To_Buy</th>\n",
       "      <td>10127.0</td>\n",
       "      <td>7.469140e+03</td>\n",
       "      <td>9.090685e+03</td>\n",
       "      <td>3.000000e+00</td>\n",
       "      <td>1.324500e+03</td>\n",
       "      <td>3.474000e+03</td>\n",
       "      <td>9.859000e+03</td>\n",
       "      <td>3.451600e+04</td>\n",
       "    </tr>\n",
       "    <tr>\n",
       "      <th>Total_Amt_Chng_Q4_Q1</th>\n",
       "      <td>10127.0</td>\n",
       "      <td>7.599407e-01</td>\n",
       "      <td>2.192068e-01</td>\n",
       "      <td>0.000000e+00</td>\n",
       "      <td>6.310000e-01</td>\n",
       "      <td>7.360000e-01</td>\n",
       "      <td>8.590000e-01</td>\n",
       "      <td>3.397000e+00</td>\n",
       "    </tr>\n",
       "    <tr>\n",
       "      <th>Total_Trans_Amt</th>\n",
       "      <td>10127.0</td>\n",
       "      <td>4.404086e+03</td>\n",
       "      <td>3.397129e+03</td>\n",
       "      <td>5.100000e+02</td>\n",
       "      <td>2.155500e+03</td>\n",
       "      <td>3.899000e+03</td>\n",
       "      <td>4.741000e+03</td>\n",
       "      <td>1.848400e+04</td>\n",
       "    </tr>\n",
       "    <tr>\n",
       "      <th>Total_Trans_Ct</th>\n",
       "      <td>10127.0</td>\n",
       "      <td>6.485869e+01</td>\n",
       "      <td>2.347257e+01</td>\n",
       "      <td>1.000000e+01</td>\n",
       "      <td>4.500000e+01</td>\n",
       "      <td>6.700000e+01</td>\n",
       "      <td>8.100000e+01</td>\n",
       "      <td>1.390000e+02</td>\n",
       "    </tr>\n",
       "    <tr>\n",
       "      <th>Total_Ct_Chng_Q4_Q1</th>\n",
       "      <td>10127.0</td>\n",
       "      <td>7.122224e-01</td>\n",
       "      <td>2.380861e-01</td>\n",
       "      <td>0.000000e+00</td>\n",
       "      <td>5.820000e-01</td>\n",
       "      <td>7.020000e-01</td>\n",
       "      <td>8.180000e-01</td>\n",
       "      <td>3.714000e+00</td>\n",
       "    </tr>\n",
       "    <tr>\n",
       "      <th>Avg_Utilization_Ratio</th>\n",
       "      <td>10127.0</td>\n",
       "      <td>2.748936e-01</td>\n",
       "      <td>2.756915e-01</td>\n",
       "      <td>0.000000e+00</td>\n",
       "      <td>2.300000e-02</td>\n",
       "      <td>1.760000e-01</td>\n",
       "      <td>5.030000e-01</td>\n",
       "      <td>9.990000e-01</td>\n",
       "    </tr>\n",
       "    <tr>\n",
       "      <th>naive_cls1</th>\n",
       "      <td>10127.0</td>\n",
       "      <td>1.599975e-01</td>\n",
       "      <td>3.653010e-01</td>\n",
       "      <td>7.664200e-06</td>\n",
       "      <td>9.898300e-05</td>\n",
       "      <td>1.814600e-04</td>\n",
       "      <td>3.373000e-04</td>\n",
       "      <td>9.995800e-01</td>\n",
       "    </tr>\n",
       "    <tr>\n",
       "      <th>naive_cls2</th>\n",
       "      <td>10127.0</td>\n",
       "      <td>8.400026e-01</td>\n",
       "      <td>3.653010e-01</td>\n",
       "      <td>4.199800e-04</td>\n",
       "      <td>9.996600e-01</td>\n",
       "      <td>9.998200e-01</td>\n",
       "      <td>9.999000e-01</td>\n",
       "      <td>9.999900e-01</td>\n",
       "    </tr>\n",
       "  </tbody>\n",
       "</table>\n",
       "</div>"
      ],
      "text/plain": [
       "                            count          mean           std           min  \\\n",
       "CLIENTNUM                 10127.0  7.391776e+08  3.690378e+07  7.080821e+08   \n",
       "Customer_Age              10127.0  4.632596e+01  8.016814e+00  2.600000e+01   \n",
       "Dependent_count           10127.0  2.346203e+00  1.298908e+00  0.000000e+00   \n",
       "Months_on_book            10127.0  3.592841e+01  7.986416e+00  1.300000e+01   \n",
       "Total_Relationship_Count  10127.0  3.812580e+00  1.554408e+00  1.000000e+00   \n",
       "Months_Inactive_12_mon    10127.0  2.341167e+00  1.010622e+00  0.000000e+00   \n",
       "Contacts_Count_12_mon     10127.0  2.455317e+00  1.106225e+00  0.000000e+00   \n",
       "Credit_Limit              10127.0  8.631954e+03  9.088777e+03  1.438300e+03   \n",
       "Total_Revolving_Bal       10127.0  1.162814e+03  8.149873e+02  0.000000e+00   \n",
       "Avg_Open_To_Buy           10127.0  7.469140e+03  9.090685e+03  3.000000e+00   \n",
       "Total_Amt_Chng_Q4_Q1      10127.0  7.599407e-01  2.192068e-01  0.000000e+00   \n",
       "Total_Trans_Amt           10127.0  4.404086e+03  3.397129e+03  5.100000e+02   \n",
       "Total_Trans_Ct            10127.0  6.485869e+01  2.347257e+01  1.000000e+01   \n",
       "Total_Ct_Chng_Q4_Q1       10127.0  7.122224e-01  2.380861e-01  0.000000e+00   \n",
       "Avg_Utilization_Ratio     10127.0  2.748936e-01  2.756915e-01  0.000000e+00   \n",
       "naive_cls1                10127.0  1.599975e-01  3.653010e-01  7.664200e-06   \n",
       "naive_cls2                10127.0  8.400026e-01  3.653010e-01  4.199800e-04   \n",
       "\n",
       "                                   25%           50%           75%  \\\n",
       "CLIENTNUM                 7.130368e+08  7.179264e+08  7.731435e+08   \n",
       "Customer_Age              4.100000e+01  4.600000e+01  5.200000e+01   \n",
       "Dependent_count           1.000000e+00  2.000000e+00  3.000000e+00   \n",
       "Months_on_book            3.100000e+01  3.600000e+01  4.000000e+01   \n",
       "Total_Relationship_Count  3.000000e+00  4.000000e+00  5.000000e+00   \n",
       "Months_Inactive_12_mon    2.000000e+00  2.000000e+00  3.000000e+00   \n",
       "Contacts_Count_12_mon     2.000000e+00  2.000000e+00  3.000000e+00   \n",
       "Credit_Limit              2.555000e+03  4.549000e+03  1.106750e+04   \n",
       "Total_Revolving_Bal       3.590000e+02  1.276000e+03  1.784000e+03   \n",
       "Avg_Open_To_Buy           1.324500e+03  3.474000e+03  9.859000e+03   \n",
       "Total_Amt_Chng_Q4_Q1      6.310000e-01  7.360000e-01  8.590000e-01   \n",
       "Total_Trans_Amt           2.155500e+03  3.899000e+03  4.741000e+03   \n",
       "Total_Trans_Ct            4.500000e+01  6.700000e+01  8.100000e+01   \n",
       "Total_Ct_Chng_Q4_Q1       5.820000e-01  7.020000e-01  8.180000e-01   \n",
       "Avg_Utilization_Ratio     2.300000e-02  1.760000e-01  5.030000e-01   \n",
       "naive_cls1                9.898300e-05  1.814600e-04  3.373000e-04   \n",
       "naive_cls2                9.996600e-01  9.998200e-01  9.999000e-01   \n",
       "\n",
       "                                   max  \n",
       "CLIENTNUM                 8.283431e+08  \n",
       "Customer_Age              7.300000e+01  \n",
       "Dependent_count           5.000000e+00  \n",
       "Months_on_book            5.600000e+01  \n",
       "Total_Relationship_Count  6.000000e+00  \n",
       "Months_Inactive_12_mon    6.000000e+00  \n",
       "Contacts_Count_12_mon     6.000000e+00  \n",
       "Credit_Limit              3.451600e+04  \n",
       "Total_Revolving_Bal       2.517000e+03  \n",
       "Avg_Open_To_Buy           3.451600e+04  \n",
       "Total_Amt_Chng_Q4_Q1      3.397000e+00  \n",
       "Total_Trans_Amt           1.848400e+04  \n",
       "Total_Trans_Ct            1.390000e+02  \n",
       "Total_Ct_Chng_Q4_Q1       3.714000e+00  \n",
       "Avg_Utilization_Ratio     9.990000e-01  \n",
       "naive_cls1                9.995800e-01  \n",
       "naive_cls2                9.999900e-01  "
      ]
     },
     "execution_count": 6,
     "metadata": {},
     "output_type": "execute_result"
    }
   ],
   "source": [
    "ccattr_data.describe().T"
   ]
  },
  {
   "cell_type": "markdown",
   "metadata": {},
   "source": [
    "* Average customer age is ~46 and min and max customer age is 70 to 82.\n",
    "* Average period of relationship with the bank is ~36 months with minimum of 13 and max as 56.\n",
    "* Average Total number of product with the customer ~4 and maximum is 6.\n",
    "* Mean of Credit_limit 8631 while median is 4549 ,data may have outliers.\n",
    "* Total_Revolving_Bal(unpaid portion) has mean as 1162 while median is 1276, No outliers.\n",
    "* Avg_Open_To_Buy(amount left on the credit card) has mean 7469 and max as 34516.Appears some outliers.\n",
    "* Total_Trans_Amt has an average of 4404 and median of 3899. This indicate outliers."
   ]
  },
  {
   "cell_type": "markdown",
   "metadata": {},
   "source": [
    "## Explore The Data<a id='Explore_The_Data'></a>"
   ]
  },
  {
   "cell_type": "markdown",
   "metadata": {},
   "source": [
    "### Number Of Missing Values By Column<a id='Number_Of_Missing_Values_By_Column'></a>"
   ]
  },
  {
   "cell_type": "markdown",
   "metadata": {},
   "source": [
    "Count the number of missing values in each column and sort them."
   ]
  },
  {
   "cell_type": "code",
   "execution_count": 7,
   "metadata": {},
   "outputs": [
    {
     "data": {
      "text/html": [
       "<div>\n",
       "<style scoped>\n",
       "    .dataframe tbody tr th:only-of-type {\n",
       "        vertical-align: middle;\n",
       "    }\n",
       "\n",
       "    .dataframe tbody tr th {\n",
       "        vertical-align: top;\n",
       "    }\n",
       "\n",
       "    .dataframe thead th {\n",
       "        text-align: right;\n",
       "    }\n",
       "</style>\n",
       "<table border=\"1\" class=\"dataframe\">\n",
       "  <thead>\n",
       "    <tr style=\"text-align: right;\">\n",
       "      <th></th>\n",
       "      <th>count</th>\n",
       "      <th>%</th>\n",
       "    </tr>\n",
       "  </thead>\n",
       "  <tbody>\n",
       "    <tr>\n",
       "      <th>CLIENTNUM</th>\n",
       "      <td>0.0</td>\n",
       "      <td>0.0</td>\n",
       "    </tr>\n",
       "    <tr>\n",
       "      <th>Contacts_Count_12_mon</th>\n",
       "      <td>0.0</td>\n",
       "      <td>0.0</td>\n",
       "    </tr>\n",
       "    <tr>\n",
       "      <th>naive_cls1</th>\n",
       "      <td>0.0</td>\n",
       "      <td>0.0</td>\n",
       "    </tr>\n",
       "    <tr>\n",
       "      <th>Avg_Utilization_Ratio</th>\n",
       "      <td>0.0</td>\n",
       "      <td>0.0</td>\n",
       "    </tr>\n",
       "    <tr>\n",
       "      <th>Total_Ct_Chng_Q4_Q1</th>\n",
       "      <td>0.0</td>\n",
       "      <td>0.0</td>\n",
       "    </tr>\n",
       "    <tr>\n",
       "      <th>Total_Trans_Ct</th>\n",
       "      <td>0.0</td>\n",
       "      <td>0.0</td>\n",
       "    </tr>\n",
       "    <tr>\n",
       "      <th>Total_Trans_Amt</th>\n",
       "      <td>0.0</td>\n",
       "      <td>0.0</td>\n",
       "    </tr>\n",
       "    <tr>\n",
       "      <th>Total_Amt_Chng_Q4_Q1</th>\n",
       "      <td>0.0</td>\n",
       "      <td>0.0</td>\n",
       "    </tr>\n",
       "    <tr>\n",
       "      <th>Avg_Open_To_Buy</th>\n",
       "      <td>0.0</td>\n",
       "      <td>0.0</td>\n",
       "    </tr>\n",
       "    <tr>\n",
       "      <th>Total_Revolving_Bal</th>\n",
       "      <td>0.0</td>\n",
       "      <td>0.0</td>\n",
       "    </tr>\n",
       "    <tr>\n",
       "      <th>Credit_Limit</th>\n",
       "      <td>0.0</td>\n",
       "      <td>0.0</td>\n",
       "    </tr>\n",
       "    <tr>\n",
       "      <th>Months_Inactive_12_mon</th>\n",
       "      <td>0.0</td>\n",
       "      <td>0.0</td>\n",
       "    </tr>\n",
       "    <tr>\n",
       "      <th>Attrition_Flag</th>\n",
       "      <td>0.0</td>\n",
       "      <td>0.0</td>\n",
       "    </tr>\n",
       "    <tr>\n",
       "      <th>Total_Relationship_Count</th>\n",
       "      <td>0.0</td>\n",
       "      <td>0.0</td>\n",
       "    </tr>\n",
       "    <tr>\n",
       "      <th>Months_on_book</th>\n",
       "      <td>0.0</td>\n",
       "      <td>0.0</td>\n",
       "    </tr>\n",
       "    <tr>\n",
       "      <th>Card_Category</th>\n",
       "      <td>0.0</td>\n",
       "      <td>0.0</td>\n",
       "    </tr>\n",
       "    <tr>\n",
       "      <th>Income_Category</th>\n",
       "      <td>0.0</td>\n",
       "      <td>0.0</td>\n",
       "    </tr>\n",
       "    <tr>\n",
       "      <th>Marital_Status</th>\n",
       "      <td>0.0</td>\n",
       "      <td>0.0</td>\n",
       "    </tr>\n",
       "    <tr>\n",
       "      <th>Education_Level</th>\n",
       "      <td>0.0</td>\n",
       "      <td>0.0</td>\n",
       "    </tr>\n",
       "    <tr>\n",
       "      <th>Dependent_count</th>\n",
       "      <td>0.0</td>\n",
       "      <td>0.0</td>\n",
       "    </tr>\n",
       "    <tr>\n",
       "      <th>Gender</th>\n",
       "      <td>0.0</td>\n",
       "      <td>0.0</td>\n",
       "    </tr>\n",
       "    <tr>\n",
       "      <th>Customer_Age</th>\n",
       "      <td>0.0</td>\n",
       "      <td>0.0</td>\n",
       "    </tr>\n",
       "    <tr>\n",
       "      <th>naive_cls2</th>\n",
       "      <td>0.0</td>\n",
       "      <td>0.0</td>\n",
       "    </tr>\n",
       "  </tbody>\n",
       "</table>\n",
       "</div>"
      ],
      "text/plain": [
       "                          count    %\n",
       "CLIENTNUM                   0.0  0.0\n",
       "Contacts_Count_12_mon       0.0  0.0\n",
       "naive_cls1                  0.0  0.0\n",
       "Avg_Utilization_Ratio       0.0  0.0\n",
       "Total_Ct_Chng_Q4_Q1         0.0  0.0\n",
       "Total_Trans_Ct              0.0  0.0\n",
       "Total_Trans_Amt             0.0  0.0\n",
       "Total_Amt_Chng_Q4_Q1        0.0  0.0\n",
       "Avg_Open_To_Buy             0.0  0.0\n",
       "Total_Revolving_Bal         0.0  0.0\n",
       "Credit_Limit                0.0  0.0\n",
       "Months_Inactive_12_mon      0.0  0.0\n",
       "Attrition_Flag              0.0  0.0\n",
       "Total_Relationship_Count    0.0  0.0\n",
       "Months_on_book              0.0  0.0\n",
       "Card_Category               0.0  0.0\n",
       "Income_Category             0.0  0.0\n",
       "Marital_Status              0.0  0.0\n",
       "Education_Level             0.0  0.0\n",
       "Dependent_count             0.0  0.0\n",
       "Gender                      0.0  0.0\n",
       "Customer_Age                0.0  0.0\n",
       "naive_cls2                  0.0  0.0"
      ]
     },
     "execution_count": 7,
     "metadata": {},
     "output_type": "execute_result"
    }
   ],
   "source": [
    "missing = pd.concat([ccattr_data.isnull().mean(), 100 * ccattr_data.isnull().mean()],axis=1)\n",
    "missing.columns=['count','%']\n",
    "missing.sort_values(by= 'count', ascending=False)"
   ]
  },
  {
   "cell_type": "markdown",
   "metadata": {},
   "source": [
    "No missing values"
   ]
  },
  {
   "cell_type": "markdown",
   "metadata": {},
   "source": [
    "### Categorical Features<a id='Categorical_Features'></a>"
   ]
  },
  {
   "cell_type": "code",
   "execution_count": 8,
   "metadata": {},
   "outputs": [
    {
     "data": {
      "text/html": [
       "<div>\n",
       "<style scoped>\n",
       "    .dataframe tbody tr th:only-of-type {\n",
       "        vertical-align: middle;\n",
       "    }\n",
       "\n",
       "    .dataframe tbody tr th {\n",
       "        vertical-align: top;\n",
       "    }\n",
       "\n",
       "    .dataframe thead th {\n",
       "        text-align: right;\n",
       "    }\n",
       "</style>\n",
       "<table border=\"1\" class=\"dataframe\">\n",
       "  <thead>\n",
       "    <tr style=\"text-align: right;\">\n",
       "      <th></th>\n",
       "      <th>Attrition_Flag</th>\n",
       "      <th>Gender</th>\n",
       "      <th>Education_Level</th>\n",
       "      <th>Marital_Status</th>\n",
       "      <th>Income_Category</th>\n",
       "      <th>Card_Category</th>\n",
       "    </tr>\n",
       "  </thead>\n",
       "  <tbody>\n",
       "    <tr>\n",
       "      <th>0</th>\n",
       "      <td>Existing Customer</td>\n",
       "      <td>M</td>\n",
       "      <td>High School</td>\n",
       "      <td>Married</td>\n",
       "      <td>$60K - $80K</td>\n",
       "      <td>Blue</td>\n",
       "    </tr>\n",
       "    <tr>\n",
       "      <th>1</th>\n",
       "      <td>Existing Customer</td>\n",
       "      <td>F</td>\n",
       "      <td>Graduate</td>\n",
       "      <td>Single</td>\n",
       "      <td>Less than $40K</td>\n",
       "      <td>Blue</td>\n",
       "    </tr>\n",
       "    <tr>\n",
       "      <th>2</th>\n",
       "      <td>Existing Customer</td>\n",
       "      <td>M</td>\n",
       "      <td>Graduate</td>\n",
       "      <td>Married</td>\n",
       "      <td>$80K - $120K</td>\n",
       "      <td>Blue</td>\n",
       "    </tr>\n",
       "    <tr>\n",
       "      <th>3</th>\n",
       "      <td>Existing Customer</td>\n",
       "      <td>F</td>\n",
       "      <td>High School</td>\n",
       "      <td>Unknown</td>\n",
       "      <td>Less than $40K</td>\n",
       "      <td>Blue</td>\n",
       "    </tr>\n",
       "    <tr>\n",
       "      <th>4</th>\n",
       "      <td>Existing Customer</td>\n",
       "      <td>M</td>\n",
       "      <td>Uneducated</td>\n",
       "      <td>Married</td>\n",
       "      <td>$60K - $80K</td>\n",
       "      <td>Blue</td>\n",
       "    </tr>\n",
       "    <tr>\n",
       "      <th>...</th>\n",
       "      <td>...</td>\n",
       "      <td>...</td>\n",
       "      <td>...</td>\n",
       "      <td>...</td>\n",
       "      <td>...</td>\n",
       "      <td>...</td>\n",
       "    </tr>\n",
       "    <tr>\n",
       "      <th>10122</th>\n",
       "      <td>Existing Customer</td>\n",
       "      <td>M</td>\n",
       "      <td>Graduate</td>\n",
       "      <td>Single</td>\n",
       "      <td>$40K - $60K</td>\n",
       "      <td>Blue</td>\n",
       "    </tr>\n",
       "    <tr>\n",
       "      <th>10123</th>\n",
       "      <td>Attrited Customer</td>\n",
       "      <td>M</td>\n",
       "      <td>Unknown</td>\n",
       "      <td>Divorced</td>\n",
       "      <td>$40K - $60K</td>\n",
       "      <td>Blue</td>\n",
       "    </tr>\n",
       "    <tr>\n",
       "      <th>10124</th>\n",
       "      <td>Attrited Customer</td>\n",
       "      <td>F</td>\n",
       "      <td>High School</td>\n",
       "      <td>Married</td>\n",
       "      <td>Less than $40K</td>\n",
       "      <td>Blue</td>\n",
       "    </tr>\n",
       "    <tr>\n",
       "      <th>10125</th>\n",
       "      <td>Attrited Customer</td>\n",
       "      <td>M</td>\n",
       "      <td>Graduate</td>\n",
       "      <td>Unknown</td>\n",
       "      <td>$40K - $60K</td>\n",
       "      <td>Blue</td>\n",
       "    </tr>\n",
       "    <tr>\n",
       "      <th>10126</th>\n",
       "      <td>Attrited Customer</td>\n",
       "      <td>F</td>\n",
       "      <td>Graduate</td>\n",
       "      <td>Married</td>\n",
       "      <td>Less than $40K</td>\n",
       "      <td>Silver</td>\n",
       "    </tr>\n",
       "  </tbody>\n",
       "</table>\n",
       "<p>10127 rows × 6 columns</p>\n",
       "</div>"
      ],
      "text/plain": [
       "          Attrition_Flag Gender Education_Level Marital_Status  \\\n",
       "0      Existing Customer      M     High School        Married   \n",
       "1      Existing Customer      F        Graduate         Single   \n",
       "2      Existing Customer      M        Graduate        Married   \n",
       "3      Existing Customer      F     High School        Unknown   \n",
       "4      Existing Customer      M      Uneducated        Married   \n",
       "...                  ...    ...             ...            ...   \n",
       "10122  Existing Customer      M        Graduate         Single   \n",
       "10123  Attrited Customer      M         Unknown       Divorced   \n",
       "10124  Attrited Customer      F     High School        Married   \n",
       "10125  Attrited Customer      M        Graduate        Unknown   \n",
       "10126  Attrited Customer      F        Graduate        Married   \n",
       "\n",
       "      Income_Category Card_Category  \n",
       "0         $60K - $80K          Blue  \n",
       "1      Less than $40K          Blue  \n",
       "2        $80K - $120K          Blue  \n",
       "3      Less than $40K          Blue  \n",
       "4         $60K - $80K          Blue  \n",
       "...               ...           ...  \n",
       "10122     $40K - $60K          Blue  \n",
       "10123     $40K - $60K          Blue  \n",
       "10124  Less than $40K          Blue  \n",
       "10125     $40K - $60K          Blue  \n",
       "10126  Less than $40K        Silver  \n",
       "\n",
       "[10127 rows x 6 columns]"
      ]
     },
     "execution_count": 8,
     "metadata": {},
     "output_type": "execute_result"
    }
   ],
   "source": [
    "#Use ccattr_data's `select_dtypes` method to select columns of dtype 'object'\n",
    "ccattr_data.select_dtypes(object)"
   ]
  },
  {
   "cell_type": "markdown",
   "metadata": {},
   "source": [
    "Education level and Marital status have unknown values."
   ]
  },
  {
   "cell_type": "markdown",
   "metadata": {},
   "source": [
    "Apart from above categorical features below  4 features may play role in churning rate.\n",
    "* Dependent_count\n",
    "* Total_Relationship_Count\n",
    "* Months_Inactive_12_mon\n",
    "* Contacts_Count_12_mon \n",
    "\n",
    "These features will provide insights for churning rate with Attrition_Flag being target value. And need to explore more about these feature.\n",
    "* Gender \n",
    "* Education_Level \n",
    "* Marital_Status \n",
    "* Income_Category\n",
    "* Card_Category\n",
    "* Dependent_count\n",
    "* Total_Relationship_Count\n",
    "* Months_Inactive_12_mon\n",
    "* Contacts_Count_12_mon"
   ]
  },
  {
   "cell_type": "markdown",
   "metadata": {},
   "source": [
    "**Unique_values**"
   ]
  },
  {
   "cell_type": "code",
   "execution_count": 9,
   "metadata": {},
   "outputs": [
    {
     "data": {
      "text/plain": [
       "CLIENTNUM                   10127\n",
       "Avg_Open_To_Buy              6813\n",
       "Credit_Limit                 6205\n",
       "Total_Trans_Amt              5033\n",
       "Total_Revolving_Bal          1974\n",
       "naive_cls1                   1704\n",
       "Total_Amt_Chng_Q4_Q1         1158\n",
       "Avg_Utilization_Ratio         964\n",
       "Total_Ct_Chng_Q4_Q1           830\n",
       "naive_cls2                    640\n",
       "Total_Trans_Ct                126\n",
       "Customer_Age                   45\n",
       "Months_on_book                 44\n",
       "Contacts_Count_12_mon           7\n",
       "Education_Level                 7\n",
       "Months_Inactive_12_mon          7\n",
       "Total_Relationship_Count        6\n",
       "Income_Category                 6\n",
       "Dependent_count                 6\n",
       "Card_Category                   4\n",
       "Marital_Status                  4\n",
       "Attrition_Flag                  2\n",
       "Gender                          2\n",
       "dtype: int64"
      ]
     },
     "execution_count": 9,
     "metadata": {},
     "output_type": "execute_result"
    }
   ],
   "source": [
    "# Checking for nunique value in the data attributes\n",
    "ccattr_data.nunique().sort_values(ascending = False)"
   ]
  },
  {
   "cell_type": "markdown",
   "metadata": {},
   "source": [
    " CLIENTNUM appears to be unique value. May need to drop this, as this of no use.This also tells there are no duplicate values."
   ]
  },
  {
   "cell_type": "code",
   "execution_count": 10,
   "metadata": {},
   "outputs": [],
   "source": [
    "#dropping CLIENTNUM\n",
    "ccattr_data.drop(['CLIENTNUM'],axis=1,inplace=True)"
   ]
  },
  {
   "cell_type": "code",
   "execution_count": 11,
   "metadata": {},
   "outputs": [
    {
     "name": "stdout",
     "output_type": "stream",
     "text": [
      "Attrition_Flag     2\n",
      "Gender             2\n",
      "Education_Level    7\n",
      "Marital_Status     4\n",
      "Income_Category    6\n",
      "Card_Category      4\n",
      "dtype: int64\n"
     ]
    }
   ],
   "source": [
    "# get into more specfic , find the unique values for categorical data\n",
    "cat_col = ccattr_data.select_dtypes(include = ['object'])\n",
    "unique_values = cat_col.nunique(dropna=False)\n",
    "print (unique_values)"
   ]
  },
  {
   "cell_type": "markdown",
   "metadata": {},
   "source": [
    "**Find the unique values and their counts for these below features.**\n",
    "* Attrition_Flag \n",
    "* Gender \n",
    "* Education_Level \n",
    "* Marital_Status \n",
    "* Income_Category\n",
    "* Card_Category\n",
    "* Dependent_count\n",
    "* Total_Relationship_Count\n",
    "* Months_Inactive_12_mon\n",
    "* Contacts_Count_12_mon\n"
   ]
  },
  {
   "cell_type": "code",
   "execution_count": 12,
   "metadata": {},
   "outputs": [
    {
     "data": {
      "text/html": [
       "<div>\n",
       "<style scoped>\n",
       "    .dataframe tbody tr th:only-of-type {\n",
       "        vertical-align: middle;\n",
       "    }\n",
       "\n",
       "    .dataframe tbody tr th {\n",
       "        vertical-align: top;\n",
       "    }\n",
       "\n",
       "    .dataframe thead th {\n",
       "        text-align: right;\n",
       "    }\n",
       "</style>\n",
       "<table border=\"1\" class=\"dataframe\">\n",
       "  <thead>\n",
       "    <tr style=\"text-align: right;\">\n",
       "      <th></th>\n",
       "      <th>Counts</th>\n",
       "    </tr>\n",
       "  </thead>\n",
       "  <tbody>\n",
       "    <tr>\n",
       "      <th>Existing Customer</th>\n",
       "      <td>8500</td>\n",
       "    </tr>\n",
       "    <tr>\n",
       "      <th>Attrited Customer</th>\n",
       "      <td>1627</td>\n",
       "    </tr>\n",
       "  </tbody>\n",
       "</table>\n",
       "</div>"
      ],
      "text/plain": [
       "                   Counts\n",
       "Existing Customer    8500\n",
       "Attrited Customer    1627"
      ]
     },
     "execution_count": 12,
     "metadata": {},
     "output_type": "execute_result"
    }
   ],
   "source": [
    "#unique values and their counts Attrition_Flag\n",
    "pd.DataFrame({\"Counts\": ccattr_data['Attrition_Flag'].\n",
    "              value_counts(dropna=False)}).sort_values(by='Counts', ascending=False)"
   ]
  },
  {
   "cell_type": "code",
   "execution_count": 13,
   "metadata": {},
   "outputs": [
    {
     "data": {
      "text/html": [
       "<div>\n",
       "<style scoped>\n",
       "    .dataframe tbody tr th:only-of-type {\n",
       "        vertical-align: middle;\n",
       "    }\n",
       "\n",
       "    .dataframe tbody tr th {\n",
       "        vertical-align: top;\n",
       "    }\n",
       "\n",
       "    .dataframe thead th {\n",
       "        text-align: right;\n",
       "    }\n",
       "</style>\n",
       "<table border=\"1\" class=\"dataframe\">\n",
       "  <thead>\n",
       "    <tr style=\"text-align: right;\">\n",
       "      <th></th>\n",
       "      <th>Counts</th>\n",
       "    </tr>\n",
       "  </thead>\n",
       "  <tbody>\n",
       "    <tr>\n",
       "      <th>F</th>\n",
       "      <td>5358</td>\n",
       "    </tr>\n",
       "    <tr>\n",
       "      <th>M</th>\n",
       "      <td>4769</td>\n",
       "    </tr>\n",
       "  </tbody>\n",
       "</table>\n",
       "</div>"
      ],
      "text/plain": [
       "   Counts\n",
       "F    5358\n",
       "M    4769"
      ]
     },
     "execution_count": 13,
     "metadata": {},
     "output_type": "execute_result"
    }
   ],
   "source": [
    "#unique values and their counts for Gender\n",
    "pd.DataFrame({\"Counts\": ccattr_data['Gender'].\n",
    "              value_counts(dropna=False)}).sort_values(by='Counts', ascending=False)"
   ]
  },
  {
   "cell_type": "code",
   "execution_count": 14,
   "metadata": {},
   "outputs": [
    {
     "data": {
      "text/html": [
       "<div>\n",
       "<style scoped>\n",
       "    .dataframe tbody tr th:only-of-type {\n",
       "        vertical-align: middle;\n",
       "    }\n",
       "\n",
       "    .dataframe tbody tr th {\n",
       "        vertical-align: top;\n",
       "    }\n",
       "\n",
       "    .dataframe thead th {\n",
       "        text-align: right;\n",
       "    }\n",
       "</style>\n",
       "<table border=\"1\" class=\"dataframe\">\n",
       "  <thead>\n",
       "    <tr style=\"text-align: right;\">\n",
       "      <th></th>\n",
       "      <th>Counts</th>\n",
       "    </tr>\n",
       "  </thead>\n",
       "  <tbody>\n",
       "    <tr>\n",
       "      <th>Graduate</th>\n",
       "      <td>3128</td>\n",
       "    </tr>\n",
       "    <tr>\n",
       "      <th>High School</th>\n",
       "      <td>2013</td>\n",
       "    </tr>\n",
       "    <tr>\n",
       "      <th>Unknown</th>\n",
       "      <td>1519</td>\n",
       "    </tr>\n",
       "    <tr>\n",
       "      <th>Uneducated</th>\n",
       "      <td>1487</td>\n",
       "    </tr>\n",
       "    <tr>\n",
       "      <th>College</th>\n",
       "      <td>1013</td>\n",
       "    </tr>\n",
       "    <tr>\n",
       "      <th>Post-Graduate</th>\n",
       "      <td>516</td>\n",
       "    </tr>\n",
       "    <tr>\n",
       "      <th>Doctorate</th>\n",
       "      <td>451</td>\n",
       "    </tr>\n",
       "  </tbody>\n",
       "</table>\n",
       "</div>"
      ],
      "text/plain": [
       "               Counts\n",
       "Graduate         3128\n",
       "High School      2013\n",
       "Unknown          1519\n",
       "Uneducated       1487\n",
       "College          1013\n",
       "Post-Graduate     516\n",
       "Doctorate         451"
      ]
     },
     "execution_count": 14,
     "metadata": {},
     "output_type": "execute_result"
    }
   ],
   "source": [
    "#unique values and their counts for Education_Level\n",
    "pd.DataFrame({\"Counts\": ccattr_data['Education_Level'].\n",
    "              value_counts(dropna=False)}).sort_values(by='Counts', ascending=False)"
   ]
  },
  {
   "cell_type": "code",
   "execution_count": 15,
   "metadata": {},
   "outputs": [
    {
     "data": {
      "text/html": [
       "<div>\n",
       "<style scoped>\n",
       "    .dataframe tbody tr th:only-of-type {\n",
       "        vertical-align: middle;\n",
       "    }\n",
       "\n",
       "    .dataframe tbody tr th {\n",
       "        vertical-align: top;\n",
       "    }\n",
       "\n",
       "    .dataframe thead th {\n",
       "        text-align: right;\n",
       "    }\n",
       "</style>\n",
       "<table border=\"1\" class=\"dataframe\">\n",
       "  <thead>\n",
       "    <tr style=\"text-align: right;\">\n",
       "      <th></th>\n",
       "      <th>Counts</th>\n",
       "    </tr>\n",
       "  </thead>\n",
       "  <tbody>\n",
       "    <tr>\n",
       "      <th>Married</th>\n",
       "      <td>4687</td>\n",
       "    </tr>\n",
       "    <tr>\n",
       "      <th>Single</th>\n",
       "      <td>3943</td>\n",
       "    </tr>\n",
       "    <tr>\n",
       "      <th>Unknown</th>\n",
       "      <td>749</td>\n",
       "    </tr>\n",
       "    <tr>\n",
       "      <th>Divorced</th>\n",
       "      <td>748</td>\n",
       "    </tr>\n",
       "  </tbody>\n",
       "</table>\n",
       "</div>"
      ],
      "text/plain": [
       "          Counts\n",
       "Married     4687\n",
       "Single      3943\n",
       "Unknown      749\n",
       "Divorced     748"
      ]
     },
     "execution_count": 15,
     "metadata": {},
     "output_type": "execute_result"
    }
   ],
   "source": [
    "#unique values and their counts for Marital_Status\n",
    "pd.DataFrame({\"Counts\": ccattr_data['Marital_Status'].\n",
    "              value_counts(dropna=False)}).sort_values(by='Counts', ascending=False)"
   ]
  },
  {
   "cell_type": "code",
   "execution_count": 16,
   "metadata": {},
   "outputs": [
    {
     "data": {
      "text/html": [
       "<div>\n",
       "<style scoped>\n",
       "    .dataframe tbody tr th:only-of-type {\n",
       "        vertical-align: middle;\n",
       "    }\n",
       "\n",
       "    .dataframe tbody tr th {\n",
       "        vertical-align: top;\n",
       "    }\n",
       "\n",
       "    .dataframe thead th {\n",
       "        text-align: right;\n",
       "    }\n",
       "</style>\n",
       "<table border=\"1\" class=\"dataframe\">\n",
       "  <thead>\n",
       "    <tr style=\"text-align: right;\">\n",
       "      <th></th>\n",
       "      <th>Counts</th>\n",
       "    </tr>\n",
       "  </thead>\n",
       "  <tbody>\n",
       "    <tr>\n",
       "      <th>Less than $40K</th>\n",
       "      <td>3561</td>\n",
       "    </tr>\n",
       "    <tr>\n",
       "      <th>$40K - $60K</th>\n",
       "      <td>1790</td>\n",
       "    </tr>\n",
       "    <tr>\n",
       "      <th>$80K - $120K</th>\n",
       "      <td>1535</td>\n",
       "    </tr>\n",
       "    <tr>\n",
       "      <th>$60K - $80K</th>\n",
       "      <td>1402</td>\n",
       "    </tr>\n",
       "    <tr>\n",
       "      <th>Unknown</th>\n",
       "      <td>1112</td>\n",
       "    </tr>\n",
       "    <tr>\n",
       "      <th>$120K +</th>\n",
       "      <td>727</td>\n",
       "    </tr>\n",
       "  </tbody>\n",
       "</table>\n",
       "</div>"
      ],
      "text/plain": [
       "                Counts\n",
       "Less than $40K    3561\n",
       "$40K - $60K       1790\n",
       "$80K - $120K      1535\n",
       "$60K - $80K       1402\n",
       "Unknown           1112\n",
       "$120K +            727"
      ]
     },
     "execution_count": 16,
     "metadata": {},
     "output_type": "execute_result"
    }
   ],
   "source": [
    "#unique values and their counts for Income_Category\n",
    "pd.DataFrame({\"Counts\": ccattr_data['Income_Category'].\n",
    "              value_counts(dropna=False)}).sort_values(by='Counts', ascending=False)"
   ]
  },
  {
   "cell_type": "code",
   "execution_count": 17,
   "metadata": {},
   "outputs": [
    {
     "data": {
      "text/html": [
       "<div>\n",
       "<style scoped>\n",
       "    .dataframe tbody tr th:only-of-type {\n",
       "        vertical-align: middle;\n",
       "    }\n",
       "\n",
       "    .dataframe tbody tr th {\n",
       "        vertical-align: top;\n",
       "    }\n",
       "\n",
       "    .dataframe thead th {\n",
       "        text-align: right;\n",
       "    }\n",
       "</style>\n",
       "<table border=\"1\" class=\"dataframe\">\n",
       "  <thead>\n",
       "    <tr style=\"text-align: right;\">\n",
       "      <th></th>\n",
       "      <th>Counts</th>\n",
       "    </tr>\n",
       "  </thead>\n",
       "  <tbody>\n",
       "    <tr>\n",
       "      <th>Blue</th>\n",
       "      <td>9436</td>\n",
       "    </tr>\n",
       "    <tr>\n",
       "      <th>Silver</th>\n",
       "      <td>555</td>\n",
       "    </tr>\n",
       "    <tr>\n",
       "      <th>Gold</th>\n",
       "      <td>116</td>\n",
       "    </tr>\n",
       "    <tr>\n",
       "      <th>Platinum</th>\n",
       "      <td>20</td>\n",
       "    </tr>\n",
       "  </tbody>\n",
       "</table>\n",
       "</div>"
      ],
      "text/plain": [
       "          Counts\n",
       "Blue        9436\n",
       "Silver       555\n",
       "Gold         116\n",
       "Platinum      20"
      ]
     },
     "execution_count": 17,
     "metadata": {},
     "output_type": "execute_result"
    }
   ],
   "source": [
    "#unique values and their counts for Card_Category\n",
    "pd.DataFrame({\"Counts\": ccattr_data['Card_Category'].\n",
    "              value_counts(dropna=False)}).sort_values(by='Counts', ascending=False)"
   ]
  },
  {
   "cell_type": "code",
   "execution_count": 18,
   "metadata": {},
   "outputs": [
    {
     "data": {
      "text/html": [
       "<div>\n",
       "<style scoped>\n",
       "    .dataframe tbody tr th:only-of-type {\n",
       "        vertical-align: middle;\n",
       "    }\n",
       "\n",
       "    .dataframe tbody tr th {\n",
       "        vertical-align: top;\n",
       "    }\n",
       "\n",
       "    .dataframe thead th {\n",
       "        text-align: right;\n",
       "    }\n",
       "</style>\n",
       "<table border=\"1\" class=\"dataframe\">\n",
       "  <thead>\n",
       "    <tr style=\"text-align: right;\">\n",
       "      <th></th>\n",
       "      <th>Counts</th>\n",
       "    </tr>\n",
       "  </thead>\n",
       "  <tbody>\n",
       "    <tr>\n",
       "      <th>3</th>\n",
       "      <td>2732</td>\n",
       "    </tr>\n",
       "    <tr>\n",
       "      <th>2</th>\n",
       "      <td>2655</td>\n",
       "    </tr>\n",
       "    <tr>\n",
       "      <th>1</th>\n",
       "      <td>1838</td>\n",
       "    </tr>\n",
       "    <tr>\n",
       "      <th>4</th>\n",
       "      <td>1574</td>\n",
       "    </tr>\n",
       "    <tr>\n",
       "      <th>0</th>\n",
       "      <td>904</td>\n",
       "    </tr>\n",
       "    <tr>\n",
       "      <th>5</th>\n",
       "      <td>424</td>\n",
       "    </tr>\n",
       "  </tbody>\n",
       "</table>\n",
       "</div>"
      ],
      "text/plain": [
       "   Counts\n",
       "3    2732\n",
       "2    2655\n",
       "1    1838\n",
       "4    1574\n",
       "0     904\n",
       "5     424"
      ]
     },
     "execution_count": 18,
     "metadata": {},
     "output_type": "execute_result"
    }
   ],
   "source": [
    "#unique values and their counts for Dependent_count\n",
    "pd.DataFrame({\"Counts\": ccattr_data['Dependent_count'].\n",
    "              value_counts(dropna=False)}).sort_values(by='Counts', ascending=False)"
   ]
  },
  {
   "cell_type": "code",
   "execution_count": 19,
   "metadata": {},
   "outputs": [
    {
     "data": {
      "text/html": [
       "<div>\n",
       "<style scoped>\n",
       "    .dataframe tbody tr th:only-of-type {\n",
       "        vertical-align: middle;\n",
       "    }\n",
       "\n",
       "    .dataframe tbody tr th {\n",
       "        vertical-align: top;\n",
       "    }\n",
       "\n",
       "    .dataframe thead th {\n",
       "        text-align: right;\n",
       "    }\n",
       "</style>\n",
       "<table border=\"1\" class=\"dataframe\">\n",
       "  <thead>\n",
       "    <tr style=\"text-align: right;\">\n",
       "      <th></th>\n",
       "      <th>Counts</th>\n",
       "    </tr>\n",
       "  </thead>\n",
       "  <tbody>\n",
       "    <tr>\n",
       "      <th>3</th>\n",
       "      <td>2305</td>\n",
       "    </tr>\n",
       "    <tr>\n",
       "      <th>4</th>\n",
       "      <td>1912</td>\n",
       "    </tr>\n",
       "    <tr>\n",
       "      <th>5</th>\n",
       "      <td>1891</td>\n",
       "    </tr>\n",
       "    <tr>\n",
       "      <th>6</th>\n",
       "      <td>1866</td>\n",
       "    </tr>\n",
       "    <tr>\n",
       "      <th>2</th>\n",
       "      <td>1243</td>\n",
       "    </tr>\n",
       "    <tr>\n",
       "      <th>1</th>\n",
       "      <td>910</td>\n",
       "    </tr>\n",
       "  </tbody>\n",
       "</table>\n",
       "</div>"
      ],
      "text/plain": [
       "   Counts\n",
       "3    2305\n",
       "4    1912\n",
       "5    1891\n",
       "6    1866\n",
       "2    1243\n",
       "1     910"
      ]
     },
     "execution_count": 19,
     "metadata": {},
     "output_type": "execute_result"
    }
   ],
   "source": [
    "#unique values and their counts for Total_Relationship_Count\n",
    "pd.DataFrame({\"Counts\": ccattr_data['Total_Relationship_Count'].\n",
    "              value_counts(dropna=False)}).sort_values(by='Counts', ascending=False)"
   ]
  },
  {
   "cell_type": "code",
   "execution_count": 20,
   "metadata": {},
   "outputs": [
    {
     "data": {
      "text/html": [
       "<div>\n",
       "<style scoped>\n",
       "    .dataframe tbody tr th:only-of-type {\n",
       "        vertical-align: middle;\n",
       "    }\n",
       "\n",
       "    .dataframe tbody tr th {\n",
       "        vertical-align: top;\n",
       "    }\n",
       "\n",
       "    .dataframe thead th {\n",
       "        text-align: right;\n",
       "    }\n",
       "</style>\n",
       "<table border=\"1\" class=\"dataframe\">\n",
       "  <thead>\n",
       "    <tr style=\"text-align: right;\">\n",
       "      <th></th>\n",
       "      <th>Counts</th>\n",
       "    </tr>\n",
       "  </thead>\n",
       "  <tbody>\n",
       "    <tr>\n",
       "      <th>3</th>\n",
       "      <td>3846</td>\n",
       "    </tr>\n",
       "    <tr>\n",
       "      <th>2</th>\n",
       "      <td>3282</td>\n",
       "    </tr>\n",
       "    <tr>\n",
       "      <th>1</th>\n",
       "      <td>2233</td>\n",
       "    </tr>\n",
       "    <tr>\n",
       "      <th>4</th>\n",
       "      <td>435</td>\n",
       "    </tr>\n",
       "    <tr>\n",
       "      <th>5</th>\n",
       "      <td>178</td>\n",
       "    </tr>\n",
       "    <tr>\n",
       "      <th>6</th>\n",
       "      <td>124</td>\n",
       "    </tr>\n",
       "    <tr>\n",
       "      <th>0</th>\n",
       "      <td>29</td>\n",
       "    </tr>\n",
       "  </tbody>\n",
       "</table>\n",
       "</div>"
      ],
      "text/plain": [
       "   Counts\n",
       "3    3846\n",
       "2    3282\n",
       "1    2233\n",
       "4     435\n",
       "5     178\n",
       "6     124\n",
       "0      29"
      ]
     },
     "execution_count": 20,
     "metadata": {},
     "output_type": "execute_result"
    }
   ],
   "source": [
    "#unique values and their counts for Months_Inactive_12_mon\n",
    "pd.DataFrame({\"Counts\": ccattr_data['Months_Inactive_12_mon'].\n",
    "              value_counts(dropna=False)}).sort_values(by='Counts', ascending=False)"
   ]
  },
  {
   "cell_type": "code",
   "execution_count": 21,
   "metadata": {},
   "outputs": [
    {
     "data": {
      "text/html": [
       "<div>\n",
       "<style scoped>\n",
       "    .dataframe tbody tr th:only-of-type {\n",
       "        vertical-align: middle;\n",
       "    }\n",
       "\n",
       "    .dataframe tbody tr th {\n",
       "        vertical-align: top;\n",
       "    }\n",
       "\n",
       "    .dataframe thead th {\n",
       "        text-align: right;\n",
       "    }\n",
       "</style>\n",
       "<table border=\"1\" class=\"dataframe\">\n",
       "  <thead>\n",
       "    <tr style=\"text-align: right;\">\n",
       "      <th></th>\n",
       "      <th>Counts</th>\n",
       "    </tr>\n",
       "  </thead>\n",
       "  <tbody>\n",
       "    <tr>\n",
       "      <th>3</th>\n",
       "      <td>3380</td>\n",
       "    </tr>\n",
       "    <tr>\n",
       "      <th>2</th>\n",
       "      <td>3227</td>\n",
       "    </tr>\n",
       "    <tr>\n",
       "      <th>1</th>\n",
       "      <td>1499</td>\n",
       "    </tr>\n",
       "    <tr>\n",
       "      <th>4</th>\n",
       "      <td>1392</td>\n",
       "    </tr>\n",
       "    <tr>\n",
       "      <th>0</th>\n",
       "      <td>399</td>\n",
       "    </tr>\n",
       "    <tr>\n",
       "      <th>5</th>\n",
       "      <td>176</td>\n",
       "    </tr>\n",
       "    <tr>\n",
       "      <th>6</th>\n",
       "      <td>54</td>\n",
       "    </tr>\n",
       "  </tbody>\n",
       "</table>\n",
       "</div>"
      ],
      "text/plain": [
       "   Counts\n",
       "3    3380\n",
       "2    3227\n",
       "1    1499\n",
       "4    1392\n",
       "0     399\n",
       "5     176\n",
       "6      54"
      ]
     },
     "execution_count": 21,
     "metadata": {},
     "output_type": "execute_result"
    }
   ],
   "source": [
    "#unique values and their counts for Contacts_Count_12_mon\n",
    "pd.DataFrame({\"Counts\": ccattr_data['Contacts_Count_12_mon'].\n",
    "              value_counts(dropna=False)}).sort_values(by='Counts', ascending=False)"
   ]
  },
  {
   "cell_type": "markdown",
   "metadata": {},
   "source": [
    "A casual inspection by eye reveals following\n",
    "* Total of 1657 customers has attrited against 8500 are still with bank.\n",
    "* Bank has both Male and Female are almost same number.\n",
    "* More customer are with education \"Graduate\", with \"Doctorate\" and \"Post Graduate\" are almost the same.\n",
    "* Blue card has more customers.\n",
    "* More customer stayed inactive for 3 months.\n",
    "* Education level,Income,martial status has Unknown category , this will have to be treated as missing value and will have to be imputed.\n",
    "\n"
   ]
  },
  {
   "cell_type": "markdown",
   "metadata": {},
   "source": [
    "**Fix the Unknown Income Category,Education Levels and Marital Status according to the mode**"
   ]
  },
  {
   "cell_type": "code",
   "execution_count": 22,
   "metadata": {},
   "outputs": [
    {
     "data": {
      "image/png": "[encoded data removed]",
      "text/plain": [
       "<Figure size 432x288 with 1 Axes>"
      ]
     },
     "metadata": {
      "needs_background": "light"
     },
     "output_type": "display_data"
    }
   ],
   "source": [
    "ccattr_data[\"Income_Category\"].hist(bins=30)\n",
    "plt.xlabel('Income_Category')\n",
    "plt.ylabel('Count')\n",
    "plt.title('Distribution of Income Category');"
   ]
  },
  {
   "cell_type": "code",
   "execution_count": 23,
   "metadata": {},
   "outputs": [
    {
     "data": {
      "image/png": "[encoded data removed]",
      "text/plain": [
       "<Figure size 432x288 with 1 Axes>"
      ]
     },
     "metadata": {
      "needs_background": "light"
     },
     "output_type": "display_data"
    }
   ],
   "source": [
    "ccattr_data[\"Education_Level\"].hist(bins=30)\n",
    "plt.xlabel('Education_Level')\n",
    "plt.ylabel('Count')\n",
    "plt.title('Distribution of Education Level');"
   ]
  },
  {
   "cell_type": "code",
   "execution_count": 24,
   "metadata": {},
   "outputs": [
    {
     "data": {
      "image/png": "[encoded data removed]",
      "text/plain": [
       "<Figure size 432x288 with 1 Axes>"
      ]
     },
     "metadata": {
      "needs_background": "light"
     },
     "output_type": "display_data"
    }
   ],
   "source": [
    "ccattr_data[\"Marital_Status\"].hist(bins=30)\n",
    "plt.xlabel('Marital_Status')\n",
    "plt.ylabel('Count')\n",
    "plt.title('Distribution of Education Level');"
   ]
  },
  {
   "cell_type": "code",
   "execution_count": 25,
   "metadata": {},
   "outputs": [],
   "source": [
    "col = ccattr_data['Income_Category']\n",
    "mode = col.mode()[0]\n",
    "ccattr_data.loc[ccattr_data['Income_Category'] == 'Unknown', 'Income_Category'] = mode\n",
    "\n",
    "col = ccattr_data['Education_Level']\n",
    "mode = col.mode()[0]\n",
    "ccattr_data.loc[ccattr_data['Education_Level'] == 'Unknown', 'Education_Level'] = mode\n",
    "\n",
    "col = ccattr_data['Marital_Status']\n",
    "mode = col.mode()[0]\n",
    "ccattr_data.loc[ccattr_data['Marital_Status'] == 'Unknown', 'Marital_Status'] = mode"
   ]
  },
  {
   "cell_type": "markdown",
   "metadata": {},
   "source": [
    "**Check for \"Unknown\" values with 'Education_Level', 'Marital_Status', 'Income_Category'**"
   ]
  },
  {
   "cell_type": "code",
   "execution_count": 26,
   "metadata": {},
   "outputs": [],
   "source": [
    "CCAttr_cols = ['Education_Level', 'Marital_Status', 'Income_Category']"
   ]
  },
  {
   "cell_type": "code",
   "execution_count": 27,
   "metadata": {},
   "outputs": [
    {
     "name": "stdout",
     "output_type": "stream",
     "text": [
      "-------------------------\n",
      "Feature: Education_Level\n",
      "-------------------------\n",
      "               Counts\n",
      "Graduate         4647\n",
      "High School      2013\n",
      "Uneducated       1487\n",
      "College          1013\n",
      "Post-Graduate     516\n",
      "Doctorate         451\n",
      "-------------------------\n",
      "-------------------------\n",
      "Feature: Marital_Status\n",
      "-------------------------\n",
      "          Counts\n",
      "Married     5436\n",
      "Single      3943\n",
      "Divorced     748\n",
      "-------------------------\n",
      "-------------------------\n",
      "Feature: Income_Category\n",
      "-------------------------\n",
      "                Counts\n",
      "Less than $40K    4673\n",
      "$40K - $60K       1790\n",
      "$80K - $120K      1535\n",
      "$60K - $80K       1402\n",
      "$120K +            727\n",
      "-------------------------\n"
     ]
    }
   ],
   "source": [
    "for col in CCAttr_cols:\n",
    "    print(\"-------------------------\")\n",
    "    print(f\"Feature: {col}\")\n",
    "    print(\"-------------------------\")\n",
    "    print(pd.DataFrame({\"Counts\": ccattr_data[col].value_counts(dropna=False)}).\n",
    "          sort_values(by='Counts', ascending=False))\n",
    "    print(\"-------------------------\")"
   ]
  },
  {
   "cell_type": "markdown",
   "metadata": {},
   "source": [
    "All looks good, there is No \"Unknown\" values."
   ]
  },
  {
   "cell_type": "markdown",
   "metadata": {},
   "source": [
    "### Numeric Features<a id='Numeric_Features'></a>"
   ]
  },
  {
   "cell_type": "code",
   "execution_count": 28,
   "metadata": {},
   "outputs": [
    {
     "data": {
      "text/html": [
       "<div>\n",
       "<style scoped>\n",
       "    .dataframe tbody tr th:only-of-type {\n",
       "        vertical-align: middle;\n",
       "    }\n",
       "\n",
       "    .dataframe tbody tr th {\n",
       "        vertical-align: top;\n",
       "    }\n",
       "\n",
       "    .dataframe thead th {\n",
       "        text-align: right;\n",
       "    }\n",
       "</style>\n",
       "<table border=\"1\" class=\"dataframe\">\n",
       "  <thead>\n",
       "    <tr style=\"text-align: right;\">\n",
       "      <th></th>\n",
       "      <th>count</th>\n",
       "      <th>mean</th>\n",
       "      <th>std</th>\n",
       "      <th>min</th>\n",
       "      <th>25%</th>\n",
       "      <th>50%</th>\n",
       "      <th>75%</th>\n",
       "      <th>max</th>\n",
       "    </tr>\n",
       "  </thead>\n",
       "  <tbody>\n",
       "    <tr>\n",
       "      <th>Customer_Age</th>\n",
       "      <td>10127.0</td>\n",
       "      <td>46.325960</td>\n",
       "      <td>8.016814</td>\n",
       "      <td>26.000000</td>\n",
       "      <td>41.000000</td>\n",
       "      <td>46.000000</td>\n",
       "      <td>52.000000</td>\n",
       "      <td>73.00000</td>\n",
       "    </tr>\n",
       "    <tr>\n",
       "      <th>Dependent_count</th>\n",
       "      <td>10127.0</td>\n",
       "      <td>2.346203</td>\n",
       "      <td>1.298908</td>\n",
       "      <td>0.000000</td>\n",
       "      <td>1.000000</td>\n",
       "      <td>2.000000</td>\n",
       "      <td>3.000000</td>\n",
       "      <td>5.00000</td>\n",
       "    </tr>\n",
       "    <tr>\n",
       "      <th>Months_on_book</th>\n",
       "      <td>10127.0</td>\n",
       "      <td>35.928409</td>\n",
       "      <td>7.986416</td>\n",
       "      <td>13.000000</td>\n",
       "      <td>31.000000</td>\n",
       "      <td>36.000000</td>\n",
       "      <td>40.000000</td>\n",
       "      <td>56.00000</td>\n",
       "    </tr>\n",
       "    <tr>\n",
       "      <th>Total_Relationship_Count</th>\n",
       "      <td>10127.0</td>\n",
       "      <td>3.812580</td>\n",
       "      <td>1.554408</td>\n",
       "      <td>1.000000</td>\n",
       "      <td>3.000000</td>\n",
       "      <td>4.000000</td>\n",
       "      <td>5.000000</td>\n",
       "      <td>6.00000</td>\n",
       "    </tr>\n",
       "    <tr>\n",
       "      <th>Months_Inactive_12_mon</th>\n",
       "      <td>10127.0</td>\n",
       "      <td>2.341167</td>\n",
       "      <td>1.010622</td>\n",
       "      <td>0.000000</td>\n",
       "      <td>2.000000</td>\n",
       "      <td>2.000000</td>\n",
       "      <td>3.000000</td>\n",
       "      <td>6.00000</td>\n",
       "    </tr>\n",
       "    <tr>\n",
       "      <th>Contacts_Count_12_mon</th>\n",
       "      <td>10127.0</td>\n",
       "      <td>2.455317</td>\n",
       "      <td>1.106225</td>\n",
       "      <td>0.000000</td>\n",
       "      <td>2.000000</td>\n",
       "      <td>2.000000</td>\n",
       "      <td>3.000000</td>\n",
       "      <td>6.00000</td>\n",
       "    </tr>\n",
       "    <tr>\n",
       "      <th>Credit_Limit</th>\n",
       "      <td>10127.0</td>\n",
       "      <td>8631.953698</td>\n",
       "      <td>9088.776650</td>\n",
       "      <td>1438.300000</td>\n",
       "      <td>2555.000000</td>\n",
       "      <td>4549.000000</td>\n",
       "      <td>11067.500000</td>\n",
       "      <td>34516.00000</td>\n",
       "    </tr>\n",
       "    <tr>\n",
       "      <th>Total_Revolving_Bal</th>\n",
       "      <td>10127.0</td>\n",
       "      <td>1162.814061</td>\n",
       "      <td>814.987335</td>\n",
       "      <td>0.000000</td>\n",
       "      <td>359.000000</td>\n",
       "      <td>1276.000000</td>\n",
       "      <td>1784.000000</td>\n",
       "      <td>2517.00000</td>\n",
       "    </tr>\n",
       "    <tr>\n",
       "      <th>Avg_Open_To_Buy</th>\n",
       "      <td>10127.0</td>\n",
       "      <td>7469.139637</td>\n",
       "      <td>9090.685324</td>\n",
       "      <td>3.000000</td>\n",
       "      <td>1324.500000</td>\n",
       "      <td>3474.000000</td>\n",
       "      <td>9859.000000</td>\n",
       "      <td>34516.00000</td>\n",
       "    </tr>\n",
       "    <tr>\n",
       "      <th>Total_Amt_Chng_Q4_Q1</th>\n",
       "      <td>10127.0</td>\n",
       "      <td>0.759941</td>\n",
       "      <td>0.219207</td>\n",
       "      <td>0.000000</td>\n",
       "      <td>0.631000</td>\n",
       "      <td>0.736000</td>\n",
       "      <td>0.859000</td>\n",
       "      <td>3.39700</td>\n",
       "    </tr>\n",
       "    <tr>\n",
       "      <th>Total_Trans_Amt</th>\n",
       "      <td>10127.0</td>\n",
       "      <td>4404.086304</td>\n",
       "      <td>3397.129254</td>\n",
       "      <td>510.000000</td>\n",
       "      <td>2155.500000</td>\n",
       "      <td>3899.000000</td>\n",
       "      <td>4741.000000</td>\n",
       "      <td>18484.00000</td>\n",
       "    </tr>\n",
       "    <tr>\n",
       "      <th>Total_Trans_Ct</th>\n",
       "      <td>10127.0</td>\n",
       "      <td>64.858695</td>\n",
       "      <td>23.472570</td>\n",
       "      <td>10.000000</td>\n",
       "      <td>45.000000</td>\n",
       "      <td>67.000000</td>\n",
       "      <td>81.000000</td>\n",
       "      <td>139.00000</td>\n",
       "    </tr>\n",
       "    <tr>\n",
       "      <th>Total_Ct_Chng_Q4_Q1</th>\n",
       "      <td>10127.0</td>\n",
       "      <td>0.712222</td>\n",
       "      <td>0.238086</td>\n",
       "      <td>0.000000</td>\n",
       "      <td>0.582000</td>\n",
       "      <td>0.702000</td>\n",
       "      <td>0.818000</td>\n",
       "      <td>3.71400</td>\n",
       "    </tr>\n",
       "    <tr>\n",
       "      <th>Avg_Utilization_Ratio</th>\n",
       "      <td>10127.0</td>\n",
       "      <td>0.274894</td>\n",
       "      <td>0.275691</td>\n",
       "      <td>0.000000</td>\n",
       "      <td>0.023000</td>\n",
       "      <td>0.176000</td>\n",
       "      <td>0.503000</td>\n",
       "      <td>0.99900</td>\n",
       "    </tr>\n",
       "    <tr>\n",
       "      <th>naive_cls1</th>\n",
       "      <td>10127.0</td>\n",
       "      <td>0.159997</td>\n",
       "      <td>0.365301</td>\n",
       "      <td>0.000008</td>\n",
       "      <td>0.000099</td>\n",
       "      <td>0.000181</td>\n",
       "      <td>0.000337</td>\n",
       "      <td>0.99958</td>\n",
       "    </tr>\n",
       "    <tr>\n",
       "      <th>naive_cls2</th>\n",
       "      <td>10127.0</td>\n",
       "      <td>0.840003</td>\n",
       "      <td>0.365301</td>\n",
       "      <td>0.000420</td>\n",
       "      <td>0.999660</td>\n",
       "      <td>0.999820</td>\n",
       "      <td>0.999900</td>\n",
       "      <td>0.99999</td>\n",
       "    </tr>\n",
       "  </tbody>\n",
       "</table>\n",
       "</div>"
      ],
      "text/plain": [
       "                            count         mean          std          min  \\\n",
       "Customer_Age              10127.0    46.325960     8.016814    26.000000   \n",
       "Dependent_count           10127.0     2.346203     1.298908     0.000000   \n",
       "Months_on_book            10127.0    35.928409     7.986416    13.000000   \n",
       "Total_Relationship_Count  10127.0     3.812580     1.554408     1.000000   \n",
       "Months_Inactive_12_mon    10127.0     2.341167     1.010622     0.000000   \n",
       "Contacts_Count_12_mon     10127.0     2.455317     1.106225     0.000000   \n",
       "Credit_Limit              10127.0  8631.953698  9088.776650  1438.300000   \n",
       "Total_Revolving_Bal       10127.0  1162.814061   814.987335     0.000000   \n",
       "Avg_Open_To_Buy           10127.0  7469.139637  9090.685324     3.000000   \n",
       "Total_Amt_Chng_Q4_Q1      10127.0     0.759941     0.219207     0.000000   \n",
       "Total_Trans_Amt           10127.0  4404.086304  3397.129254   510.000000   \n",
       "Total_Trans_Ct            10127.0    64.858695    23.472570    10.000000   \n",
       "Total_Ct_Chng_Q4_Q1       10127.0     0.712222     0.238086     0.000000   \n",
       "Avg_Utilization_Ratio     10127.0     0.274894     0.275691     0.000000   \n",
       "naive_cls1                10127.0     0.159997     0.365301     0.000008   \n",
       "naive_cls2                10127.0     0.840003     0.365301     0.000420   \n",
       "\n",
       "                                  25%          50%           75%          max  \n",
       "Customer_Age                41.000000    46.000000     52.000000     73.00000  \n",
       "Dependent_count              1.000000     2.000000      3.000000      5.00000  \n",
       "Months_on_book              31.000000    36.000000     40.000000     56.00000  \n",
       "Total_Relationship_Count     3.000000     4.000000      5.000000      6.00000  \n",
       "Months_Inactive_12_mon       2.000000     2.000000      3.000000      6.00000  \n",
       "Contacts_Count_12_mon        2.000000     2.000000      3.000000      6.00000  \n",
       "Credit_Limit              2555.000000  4549.000000  11067.500000  34516.00000  \n",
       "Total_Revolving_Bal        359.000000  1276.000000   1784.000000   2517.00000  \n",
       "Avg_Open_To_Buy           1324.500000  3474.000000   9859.000000  34516.00000  \n",
       "Total_Amt_Chng_Q4_Q1         0.631000     0.736000      0.859000      3.39700  \n",
       "Total_Trans_Amt           2155.500000  3899.000000   4741.000000  18484.00000  \n",
       "Total_Trans_Ct              45.000000    67.000000     81.000000    139.00000  \n",
       "Total_Ct_Chng_Q4_Q1          0.582000     0.702000      0.818000      3.71400  \n",
       "Avg_Utilization_Ratio        0.023000     0.176000      0.503000      0.99900  \n",
       "naive_cls1                   0.000099     0.000181      0.000337      0.99958  \n",
       "naive_cls2                   0.999660     0.999820      0.999900      0.99999  "
      ]
     },
     "execution_count": 28,
     "metadata": {},
     "output_type": "execute_result"
    }
   ],
   "source": [
    "#Call sccattr_data's `describe` method for a statistical summary of the numerical columns\n",
    "ccattr_data.describe().T"
   ]
  },
  {
   "cell_type": "markdown",
   "metadata": {},
   "source": [
    "Since there is no missing values, these data appears to be good and valid."
   ]
  },
  {
   "cell_type": "markdown",
   "metadata": {},
   "source": [
    "Converting data type for Attrition flag to \"int\" and changing values to 1 for Existing and 0 for Attrited customer."
   ]
  },
  {
   "cell_type": "code",
   "execution_count": 29,
   "metadata": {},
   "outputs": [],
   "source": [
    "# Change \"Existing customer\" to 1 and \"Attrited Customer\" to 0\n",
    "ccattr_data.loc[ccattr_data['Attrition_Flag'] == 'Attrited Customer', 'Attrition_Flag'] = 0\n",
    "ccattr_data.loc[ccattr_data['Attrition_Flag'] == 'Existing Customer', 'Attrition_Flag'] = 1\n",
    "ccattr_data['Attrition_Flag'] = ccattr_data['Attrition_Flag'].astype(int)"
   ]
  },
  {
   "cell_type": "markdown",
   "metadata": {},
   "source": [
    "**Detecting Outliers using Tukey Boxplot**"
   ]
  },
  {
   "cell_type": "code",
   "execution_count": 30,
   "metadata": {},
   "outputs": [
    {
     "data": {
      "image/png": "[encoded data removed]",
      "text/plain": [
       "<Figure size 864x432 with 1 Axes>"
      ]
     },
     "metadata": {
      "needs_background": "light"
     },
     "output_type": "display_data"
    }
   ],
   "source": [
    "plt.figure(figsize=(12,6))\n",
    "bplot = ccattr_data.boxplot(patch_artist=True)\n",
    "plt.xticks(rotation=90)       \n",
    "plt.show()"
   ]
  },
  {
   "cell_type": "markdown",
   "metadata": {},
   "source": [
    "As we can see from turkey box plot, there are outlier on these features,Credit Limit,Avg_Open_To_Buy: Open to Buy refers to the amount left on the credit card to use (Average of last 12 months),Total_Trans_Amt: Total Transaction Amount (Last 12 months)."
   ]
  },
  {
   "cell_type": "markdown",
   "metadata": {},
   "source": [
    "**How the distribution looks for these outliers.**"
   ]
  },
  {
   "cell_type": "code",
   "execution_count": 31,
   "metadata": {
    "scrolled": true
   },
   "outputs": [
    {
     "data": {
      "text/plain": [
       "Text(0.5, 1.0, 'Distribution of Credit Limit')"
      ]
     },
     "execution_count": 31,
     "metadata": {},
     "output_type": "execute_result"
    },
    {
     "data": {
      "image/png": "[encoded data removed]",
      "text/plain": [
       "<Figure size 432x288 with 1 Axes>"
      ]
     },
     "metadata": {
      "needs_background": "light"
     },
     "output_type": "display_data"
    }
   ],
   "source": [
    "#Distribution for Credit Limit above 25000\n",
    "ccattr_data[\"Credit_Limit\"][ccattr_data[\"Credit_Limit\"] > 25000].hist(bins=30)\n",
    "plt.xlabel('[\"Credit_Limit\"]')\n",
    "plt.ylabel('Count')\n",
    "plt.title('Distribution of Credit Limit')"
   ]
  },
  {
   "cell_type": "markdown",
   "metadata": {},
   "source": [
    "There are around 500 customer never used their credit cards. May be potential Churners."
   ]
  },
  {
   "cell_type": "code",
   "execution_count": 32,
   "metadata": {},
   "outputs": [
    {
     "data": {
      "text/plain": [
       "Text(0.5, 1.0, 'Distribution of Avgerage Open to Buy')"
      ]
     },
     "execution_count": 32,
     "metadata": {},
     "output_type": "execute_result"
    },
    {
     "data": {
      "image/png": "[encoded data removed]",
      "text/plain": [
       "<Figure size 432x288 with 1 Axes>"
      ]
     },
     "metadata": {
      "needs_background": "light"
     },
     "output_type": "display_data"
    }
   ],
   "source": [
    "#Distribution for Avgerage Open to Buy above 30000\n",
    "#Open to Buy refers to the amount left on the credit card to use (Average of last 12 months)\n",
    "ccattr_data[\"Avg_Open_To_Buy\"][ccattr_data[\"Avg_Open_To_Buy\"] > 30000].hist(bins=30)\n",
    "plt.xlabel('[\"Avg_Open_To_Buy\"]')\n",
    "plt.ylabel('Count')\n",
    "plt.title('Distribution of Avgerage Open to Buy')"
   ]
  },
  {
   "cell_type": "markdown",
   "metadata": {},
   "source": [
    "Around 100 Customers have the full credit Limit.Looks they have not used the creditcard since last 12 months."
   ]
  },
  {
   "cell_type": "code",
   "execution_count": 33,
   "metadata": {},
   "outputs": [
    {
     "data": {
      "text/plain": [
       "Text(0.5, 1.0, 'Distribution of Total Transaction Amount')"
      ]
     },
     "execution_count": 33,
     "metadata": {},
     "output_type": "execute_result"
    },
    {
     "data": {
      "image/png": "[encoded data removed]",
      "text/plain": [
       "<Figure size 432x288 with 1 Axes>"
      ]
     },
     "metadata": {
      "needs_background": "light"
     },
     "output_type": "display_data"
    }
   ],
   "source": [
    "##Distribution for Avgerage Total_Trans_Amt\n",
    "# Total_Trans_Amt: Total Transaction Amount (Last 12 months)\n",
    "ccattr_data[\"Total_Trans_Amt\"].hist(bins=30)\n",
    "plt.xlabel('[\"Total_Trans_Amt\"]')\n",
    "plt.ylabel('Count')\n",
    "plt.title('Distribution of Total Transaction Amount')"
   ]
  },
  {
   "cell_type": "markdown",
   "metadata": {},
   "source": [
    "Most of the Customers are limiting their Transaction amount to 5000."
   ]
  },
  {
   "cell_type": "markdown",
   "metadata": {},
   "source": [
    "#### Distributions Of Feature Values<a id='Distributions_Of_Feature_Values'></a>"
   ]
  },
  {
   "cell_type": "code",
   "execution_count": 34,
   "metadata": {},
   "outputs": [
    {
     "data": {
      "image/png": "[encoded data removed]",
      "text/plain": [
       "<Figure size 1080x720 with 20 Axes>"
      ]
     },
     "metadata": {
      "needs_background": "light"
     },
     "output_type": "display_data"
    }
   ],
   "source": [
    "ccattr_data.hist(figsize=(15, 10))\n",
    "plt.subplots_adjust(hspace=0.5);"
   ]
  },
  {
   "cell_type": "markdown",
   "metadata": {},
   "source": [
    "Features have possible cause for concern about and why?\n",
    "* naive_cls1- because values are clustered down the low end.\n",
    "* naive_cls1- because values are clustered down the high end."
   ]
  },
  {
   "cell_type": "code",
   "execution_count": 35,
   "metadata": {},
   "outputs": [],
   "source": [
    "ccattr_data.drop(['naive_cls1'],axis=1,inplace=True)\n",
    "ccattr_data.drop(['naive_cls2'],axis=1,inplace=True)"
   ]
  },
  {
   "cell_type": "code",
   "execution_count": 36,
   "metadata": {},
   "outputs": [
    {
     "data": {
      "text/plain": [
       "(10127, 20)"
      ]
     },
     "execution_count": 36,
     "metadata": {},
     "output_type": "execute_result"
    }
   ],
   "source": [
    "ccattr_data.shape"
   ]
  },
  {
   "cell_type": "code",
   "execution_count": 37,
   "metadata": {},
   "outputs": [
    {
     "data": {
      "text/plain": [
       "Index(['Attrition_Flag', 'Customer_Age', 'Gender', 'Dependent_count',\n",
       "       'Education_Level', 'Marital_Status', 'Income_Category', 'Card_Category',\n",
       "       'Months_on_book', 'Total_Relationship_Count', 'Months_Inactive_12_mon',\n",
       "       'Contacts_Count_12_mon', 'Credit_Limit', 'Total_Revolving_Bal',\n",
       "       'Avg_Open_To_Buy', 'Total_Amt_Chng_Q4_Q1', 'Total_Trans_Amt',\n",
       "       'Total_Trans_Ct', 'Total_Ct_Chng_Q4_Q1', 'Avg_Utilization_Ratio'],\n",
       "      dtype='object')"
      ]
     },
     "execution_count": 37,
     "metadata": {},
     "output_type": "execute_result"
    }
   ],
   "source": [
    "ccattr_data.columns"
   ]
  },
  {
   "cell_type": "markdown",
   "metadata": {},
   "source": [
    "##  Target Feature<a id='Target_Feature'></a>"
   ]
  },
  {
   "cell_type": "markdown",
   "metadata": {},
   "source": [
    "How the\" Attrition_Flag\" relate too the 'Exit' status."
   ]
  },
  {
   "cell_type": "code",
   "execution_count": 38,
   "metadata": {
    "scrolled": true
   },
   "outputs": [
    {
     "data": {
      "text/plain": [
       "<AxesSubplot:>"
      ]
     },
     "execution_count": 38,
     "metadata": {},
     "output_type": "execute_result"
    },
    {
     "data": {
      "image/png": "[encoded data removed]",
      "text/plain": [
       "<Figure size 360x360 with 1 Axes>"
      ]
     },
     "metadata": {
      "needs_background": "light"
     },
     "output_type": "display_data"
    }
   ],
   "source": [
    "#How attrition flag distribution looks like.\n",
    "ccattr_data[\"Attrition_Flag\"].value_counts().plot.bar(figsize=(5,5))"
   ]
  },
  {
   "cell_type": "code",
   "execution_count": 39,
   "metadata": {
    "scrolled": true
   },
   "outputs": [
    {
     "data": {
      "image/png": "[encoded data removed]",
      "text/plain": [
       "<Figure size 576x360 with 1 Axes>"
      ]
     },
     "metadata": {},
     "output_type": "display_data"
    }
   ],
   "source": [
    "labels = 'Existing Customer', 'Churned Customer'\n",
    "sizes = [ccattr_data.Attrition_Flag[ccattr_data['Attrition_Flag']==1].count(), \n",
    "         ccattr_data.Attrition_Flag[ccattr_data['Attrition_Flag']==0].count()]\n",
    "explode = (0, 0.1)\n",
    "fig1, ax1 = plt.subplots(figsize=(8, 5))\n",
    "ax1.pie(sizes, explode=explode, labels=labels, autopct='%1.1f%%',\n",
    "        shadow=True, startangle=90)\n",
    "ax1.axis('equal')\n",
    "plt.title(\"Customer Churned and Existing\", size = 20)\n",
    "plt.show()"
   ]
  },
  {
   "cell_type": "markdown",
   "metadata": {},
   "source": [
    "Less than 2000 customer against 10000 customer data are churned. Same can be seen on pie chart as well with about 16% of the customers have churned. Given 16% is a small number, we need to ensure that the chosen model does predict with great accuracy."
   ]
  },
  {
   "cell_type": "markdown",
   "metadata": {},
   "source": [
    "##  Save Data<a id='Save_Data'></a>"
   ]
  },
  {
   "cell_type": "markdown",
   "metadata": {},
   "source": [
    "Save this to your data directory, separately. Note that you were provided with the data in `raw_data` and you should saving derived data in a separate location. This guards against overwriting our original data."
   ]
  },
  {
   "cell_type": "code",
   "execution_count": 40,
   "metadata": {},
   "outputs": [
    {
     "name": "stdout",
     "output_type": "stream",
     "text": [
      "A file already exists with this name.\n",
      "\n",
      "Do you want to overwrite? (Y/N)y\n",
      "Writing file.  \"../data\\ccattr_data_cleaned.csv\"\n"
     ]
    }
   ],
   "source": [
    "# save the data to a new csv file\n",
    "datapath = '../data'\n",
    "save_file(ccattr_data, 'ccattr_data_cleaned.csv', datapath)"
   ]
  },
  {
   "cell_type": "markdown",
   "metadata": {},
   "source": [
    "## Summary<a id='Summary'></a>"
   ]
  },
  {
   "cell_type": "markdown",
   "metadata": {},
   "source": [
    "The dataset for this project is titled ‘ccattr_data’ and it is in Excel format and contains data types float64, int64, and object. The dataset has 10127 rows and 23 columns, with a total of 232,921 observations recorded. After completing the necessary modifications within this stage the final ccattr_data dataset contains 20 columns and 10127 rows, with a total of 202,540 observations remaining.\n",
    "\n",
    "Over all there is no missing values, however Education level and Marital status have unknown values. These unknown values are fixed with their \"Mode\". The targetalue is identified as \"Attrition_Flag\".\n",
    "\n",
    "Finally with all intial data cleanup, the new CSV file is saved in data folder with the name \"ccattr_data_cleaned.csv\".\n"
   ]
  },
  {
   "cell_type": "code",
   "execution_count": null,
   "metadata": {},
   "outputs": [],
   "source": []
  }
 ],
 "metadata": {
  "kernelspec": {
   "display_name": "Python 3",
   "language": "python",
   "name": "python3"
  },
  "language_info": {
   "codemirror_mode": {
    "name": "ipython",
    "version": 3
   },
   "file_extension": ".py",
   "mimetype": "text/x-python",
   "name": "python",
   "nbconvert_exporter": "python",
   "pygments_lexer": "ipython3",
   "version": "3.8.8"
  },
  "toc": {
   "base_numbering": 1,
   "nav_menu": {},
   "number_sections": true,
   "sideBar": true,
   "skip_h1_title": false,
   "title_cell": "Table of Contents",
   "title_sidebar": "Contents",
   "toc_cell": false,
   "toc_position": {},
   "toc_section_display": true,
   "toc_window_display": true
  },
  "varInspector": {
   "cols": {
    "lenName": 16,
    "lenType": 16,
    "lenVar": 40
   },
   "kernels_config": {
    "python": {
     "delete_cmd_postfix": "",
     "delete_cmd_prefix": "del ",
     "library": "var_list.py",
     "varRefreshCmd": "print(var_dic_list())"
    },
    "r": {
     "delete_cmd_postfix": ") ",
     "delete_cmd_prefix": "rm(",
     "library": "var_list.r",
     "varRefreshCmd": "cat(var_dic_list()) "
    }
   },
   "types_to_exclude": [
    "module",
    "function",
    "builtin_function_or_method",
    "instance",
    "_Feature"
   ],
   "window_display": false
  }
 },
 "nbformat": 4,
 "nbformat_minor": 4
}
