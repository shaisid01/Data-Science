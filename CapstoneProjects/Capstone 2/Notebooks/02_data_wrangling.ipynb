{
 "cells": [
  {
   "cell_type": "markdown",
   "metadata": {},
   "source": [
    "# 2 Data Wrangling<a id='2_Data_wrangling'></a>"
   ]
  },
  {
   "cell_type": "markdown",
   "metadata": {},
   "source": [
    "## Contents<a id='Contents'></a>\n",
    "* [Data wrangling](#Data_wrangling)\n",
    "  * [Contents](#Contents)\n",
    "  * [Introduction](#Introduction)\n",
    "    * [Recap Of Data Science Problem](#Recap_Of_Data_Science_Problem)\n",
    "  * [Imports](#Imports)\n",
    "  * [Objectives](#Objectives)\n",
    "  * [Data Dictionary](#Data_Dictionary)\n",
    "  * [Load The Credit Card Customer Attrition Prediction Data](#Load_The_CC_Attrition_Data)\n",
    "      * [Categorical Features](#Categorical_Features)\n",
    "      * [Numeric Features](#Numeric_Features)\n",
    "      * [Feature Scaling](#Feature_Scaling)\n",
    "  * [Save data](#Save_data)\n",
    "  * [Target Feature](#Target_Feature)\n",
    "  * [Summary](#Summary)\n"
   ]
  },
  {
   "cell_type": "markdown",
   "metadata": {},
   "source": [
    "## Introduction<a id='Introduction'></a>"
   ]
  },
  {
   "cell_type": "markdown",
   "metadata": {},
   "source": [
    "Identify and visualize which factors contribute to customer churn:The customer churn, also known as customer attrition, refers a customer ending relationship with bank for some reasons.\n",
    "\n",
    "Build a prediction model that will perform the following:\n",
    "Classify if a customer is leaving or not.\n",
    "customer service team can contact customers on the list to better understand their needs or propose new offers or different products and do necessary steps from churning.\n"
   ]
  },
  {
   "cell_type": "markdown",
   "metadata": {},
   "source": [
    "### Recap Of Data Science Problem<a id='Recap_Of_Data_Science_Problem'></a>"
   ]
  },
  {
   "cell_type": "markdown",
   "metadata": {},
   "source": [
    "A manager at the bank is disturbed with more and more customers leaving their credit card services. They would really appreciate it if one could predict for them who will get churned so they can proactively improve the service, so that the bank can run profitably.Because it is well known that getting new customer is more costlier than retaining customer.\n",
    "\n",
    "Credit cards are a good source of income for banks because of different kinds of fees charged by the banks like annual fees, balance transfer fees, and cash advance fees, late payment fees, foreign transaction fees, and others. Some fees are charged to every user irrespective of usage, while others are charged under specified circumstances.\n",
    "Customers’ leaving credit cards services would lead bank to loss, so the bank wants to analyze the data of customers and identify the customers who will leave their credit card services and reason for same – so that bank could improve upon those areas.\n"
   ]
  },
  {
   "cell_type": "markdown",
   "metadata": {},
   "source": [
    "## Imports<a id='Imports'></a>"
   ]
  },
  {
   "cell_type": "code",
   "execution_count": 1,
   "metadata": {},
   "outputs": [],
   "source": [
    "#Import pandas, matplotlib.pyplot, and seaborn in the correct lines below\n",
    "import pandas as pd\n",
    "import numpy as np\n",
    "import matplotlib.pyplot as plt\n",
    "import seaborn as sns\n",
    "import os\n",
    "\n",
    "from library.sb_utils import save_file"
   ]
  },
  {
   "cell_type": "markdown",
   "metadata": {},
   "source": [
    "## Objectives<a id='Objectives'></a>"
   ]
  },
  {
   "cell_type": "markdown",
   "metadata": {},
   "source": [
    "* Explore the dataset and visualize the same\n",
    "* Build a model to predict the customer is going to churn or not\n",
    "* Optimize the model with appropriate techniques \n",
    "* Generate a set of insights and recommendations that may help the bank"
   ]
  },
  {
   "cell_type": "markdown",
   "metadata": {},
   "source": [
    "## Data Dictionary<a id='Data Dictionary'></a>"
   ]
  },
  {
   "cell_type": "markdown",
   "metadata": {},
   "source": [
    "* CLIENTNUM: Client number. Unique identifier for the customer holding the account\n",
    "* Attrition_Flag: if the account is closed then \"Attrited Customer\" else \"Existing Customer\"\n",
    "* Customer_Age: Age in Years\n",
    "* Gender: Gender of the customer\n",
    "* Dependent_count: Number of dependents\n",
    "* Education_Level: Educational Qualification -Graduate, High School, Unknown, Uneducated, College, Post-Graduate, Doctorate.\n",
    "* Marital_Status: Marital Status\n",
    "* Income_Category: Annual Income Category \n",
    "* Card_Category: Type of Card\n",
    "* Months_on_book: Time frame with the bank\n",
    "* Total_Relationship_Count: Total no. of products held by the customer\n",
    "* Months_Inactive_12_mon: No. of months inactive in the last 12 months(one year)\n",
    "* Contacts_Count_12_mon: No. of Contacts between the customer and bank in the last 12 months(one year)\n",
    "* Credit_Limit: Credit Limit on the Credit Card\n",
    "* Total_Revolving_Bal: The balance that carries over from one month to the next is the revolving balance\n",
    "* Avg_Open_To_Buy: Open to Buy refers to the amount left on the credit card to use (Average of last 12 months)\n",
    "* Total_Trans_Amt: Total Transaction Amount in Last 12 months((one year))\n",
    "* Total_Trans_Ct: Total Transaction Count in Last 12 months((one year))\n",
    "* Total_Ct_Chng_Q4_Q1: Ratio of the total transaction count in 4th quarter and the total transaction count in 1st quarter\n",
    "* Total_Amt_Chng_Q4_Q1: Ratio of the total transaction amount in 4th quarter and the total transaction amount in 1st quarter\n",
    "* Avg_Utilization_Ratio: Represents how much of the available credit the customer spent\n"
   ]
  },
  {
   "cell_type": "markdown",
   "metadata": {},
   "source": [
    "## Load The Credit Card Customer Attrition Prediction Data<a id='Load_The_CC_Attrition_Data'></a>"
   ]
  },
  {
   "cell_type": "code",
   "execution_count": 2,
   "metadata": {},
   "outputs": [],
   "source": [
    "ccattr_data = pd.read_csv('../Data/BankChurners.csv',header=0)"
   ]
  },
  {
   "cell_type": "markdown",
   "metadata": {},
   "source": [
    "Good first steps in auditing the data are the info method and displaying the first few records with head."
   ]
  },
  {
   "cell_type": "code",
   "execution_count": 3,
   "metadata": {},
   "outputs": [
    {
     "data": {
      "text/html": [
       "<div>\n",
       "<style scoped>\n",
       "    .dataframe tbody tr th:only-of-type {\n",
       "        vertical-align: middle;\n",
       "    }\n",
       "\n",
       "    .dataframe tbody tr th {\n",
       "        vertical-align: top;\n",
       "    }\n",
       "\n",
       "    .dataframe thead th {\n",
       "        text-align: right;\n",
       "    }\n",
       "</style>\n",
       "<table border=\"1\" class=\"dataframe\">\n",
       "  <thead>\n",
       "    <tr style=\"text-align: right;\">\n",
       "      <th></th>\n",
       "      <th>CLIENTNUM</th>\n",
       "      <th>Attrition_Flag</th>\n",
       "      <th>Customer_Age</th>\n",
       "      <th>Gender</th>\n",
       "      <th>Dependent_count</th>\n",
       "      <th>Education_Level</th>\n",
       "      <th>Marital_Status</th>\n",
       "      <th>Income_Category</th>\n",
       "      <th>Card_Category</th>\n",
       "      <th>Months_on_book</th>\n",
       "      <th>...</th>\n",
       "      <th>Credit_Limit</th>\n",
       "      <th>Total_Revolving_Bal</th>\n",
       "      <th>Avg_Open_To_Buy</th>\n",
       "      <th>Total_Amt_Chng_Q4_Q1</th>\n",
       "      <th>Total_Trans_Amt</th>\n",
       "      <th>Total_Trans_Ct</th>\n",
       "      <th>Total_Ct_Chng_Q4_Q1</th>\n",
       "      <th>Avg_Utilization_Ratio</th>\n",
       "      <th>Naive_Bayes_Classifier_Attrition_Flag_Card_Category_Contacts_Count_12_mon_Dependent_count_Education_Level_Months_Inactive_12_mon_1</th>\n",
       "      <th>Naive_Bayes_Classifier_Attrition_Flag_Card_Category_Contacts_Count_12_mon_Dependent_count_Education_Level_Months_Inactive_12_mon_2</th>\n",
       "    </tr>\n",
       "  </thead>\n",
       "  <tbody>\n",
       "    <tr>\n",
       "      <th>0</th>\n",
       "      <td>768805383</td>\n",
       "      <td>Existing Customer</td>\n",
       "      <td>45</td>\n",
       "      <td>M</td>\n",
       "      <td>3</td>\n",
       "      <td>High School</td>\n",
       "      <td>Married</td>\n",
       "      <td>$60K - $80K</td>\n",
       "      <td>Blue</td>\n",
       "      <td>39</td>\n",
       "      <td>...</td>\n",
       "      <td>12691.0</td>\n",
       "      <td>777</td>\n",
       "      <td>11914.0</td>\n",
       "      <td>1.335</td>\n",
       "      <td>1144</td>\n",
       "      <td>42</td>\n",
       "      <td>1.625</td>\n",
       "      <td>0.061</td>\n",
       "      <td>0.000093</td>\n",
       "      <td>0.99991</td>\n",
       "    </tr>\n",
       "    <tr>\n",
       "      <th>1</th>\n",
       "      <td>818770008</td>\n",
       "      <td>Existing Customer</td>\n",
       "      <td>49</td>\n",
       "      <td>F</td>\n",
       "      <td>5</td>\n",
       "      <td>Graduate</td>\n",
       "      <td>Single</td>\n",
       "      <td>Less than $40K</td>\n",
       "      <td>Blue</td>\n",
       "      <td>44</td>\n",
       "      <td>...</td>\n",
       "      <td>8256.0</td>\n",
       "      <td>864</td>\n",
       "      <td>7392.0</td>\n",
       "      <td>1.541</td>\n",
       "      <td>1291</td>\n",
       "      <td>33</td>\n",
       "      <td>3.714</td>\n",
       "      <td>0.105</td>\n",
       "      <td>0.000057</td>\n",
       "      <td>0.99994</td>\n",
       "    </tr>\n",
       "    <tr>\n",
       "      <th>2</th>\n",
       "      <td>713982108</td>\n",
       "      <td>Existing Customer</td>\n",
       "      <td>51</td>\n",
       "      <td>M</td>\n",
       "      <td>3</td>\n",
       "      <td>Graduate</td>\n",
       "      <td>Married</td>\n",
       "      <td>$80K - $120K</td>\n",
       "      <td>Blue</td>\n",
       "      <td>36</td>\n",
       "      <td>...</td>\n",
       "      <td>3418.0</td>\n",
       "      <td>0</td>\n",
       "      <td>3418.0</td>\n",
       "      <td>2.594</td>\n",
       "      <td>1887</td>\n",
       "      <td>20</td>\n",
       "      <td>2.333</td>\n",
       "      <td>0.000</td>\n",
       "      <td>0.000021</td>\n",
       "      <td>0.99998</td>\n",
       "    </tr>\n",
       "    <tr>\n",
       "      <th>3</th>\n",
       "      <td>769911858</td>\n",
       "      <td>Existing Customer</td>\n",
       "      <td>40</td>\n",
       "      <td>F</td>\n",
       "      <td>4</td>\n",
       "      <td>High School</td>\n",
       "      <td>Unknown</td>\n",
       "      <td>Less than $40K</td>\n",
       "      <td>Blue</td>\n",
       "      <td>34</td>\n",
       "      <td>...</td>\n",
       "      <td>3313.0</td>\n",
       "      <td>2517</td>\n",
       "      <td>796.0</td>\n",
       "      <td>1.405</td>\n",
       "      <td>1171</td>\n",
       "      <td>20</td>\n",
       "      <td>2.333</td>\n",
       "      <td>0.760</td>\n",
       "      <td>0.000134</td>\n",
       "      <td>0.99987</td>\n",
       "    </tr>\n",
       "    <tr>\n",
       "      <th>4</th>\n",
       "      <td>709106358</td>\n",
       "      <td>Existing Customer</td>\n",
       "      <td>40</td>\n",
       "      <td>M</td>\n",
       "      <td>3</td>\n",
       "      <td>Uneducated</td>\n",
       "      <td>Married</td>\n",
       "      <td>$60K - $80K</td>\n",
       "      <td>Blue</td>\n",
       "      <td>21</td>\n",
       "      <td>...</td>\n",
       "      <td>4716.0</td>\n",
       "      <td>0</td>\n",
       "      <td>4716.0</td>\n",
       "      <td>2.175</td>\n",
       "      <td>816</td>\n",
       "      <td>28</td>\n",
       "      <td>2.500</td>\n",
       "      <td>0.000</td>\n",
       "      <td>0.000022</td>\n",
       "      <td>0.99998</td>\n",
       "    </tr>\n",
       "  </tbody>\n",
       "</table>\n",
       "<p>5 rows × 23 columns</p>\n",
       "</div>"
      ],
      "text/plain": [
       "   CLIENTNUM     Attrition_Flag  Customer_Age Gender  Dependent_count  \\\n",
       "0  768805383  Existing Customer            45      M                3   \n",
       "1  818770008  Existing Customer            49      F                5   \n",
       "2  713982108  Existing Customer            51      M                3   \n",
       "3  769911858  Existing Customer            40      F                4   \n",
       "4  709106358  Existing Customer            40      M                3   \n",
       "\n",
       "  Education_Level Marital_Status Income_Category Card_Category  \\\n",
       "0     High School        Married     $60K - $80K          Blue   \n",
       "1        Graduate         Single  Less than $40K          Blue   \n",
       "2        Graduate        Married    $80K - $120K          Blue   \n",
       "3     High School        Unknown  Less than $40K          Blue   \n",
       "4      Uneducated        Married     $60K - $80K          Blue   \n",
       "\n",
       "   Months_on_book  ...  Credit_Limit  Total_Revolving_Bal  Avg_Open_To_Buy  \\\n",
       "0              39  ...       12691.0                  777          11914.0   \n",
       "1              44  ...        8256.0                  864           7392.0   \n",
       "2              36  ...        3418.0                    0           3418.0   \n",
       "3              34  ...        3313.0                 2517            796.0   \n",
       "4              21  ...        4716.0                    0           4716.0   \n",
       "\n",
       "   Total_Amt_Chng_Q4_Q1  Total_Trans_Amt  Total_Trans_Ct  Total_Ct_Chng_Q4_Q1  \\\n",
       "0                 1.335             1144              42                1.625   \n",
       "1                 1.541             1291              33                3.714   \n",
       "2                 2.594             1887              20                2.333   \n",
       "3                 1.405             1171              20                2.333   \n",
       "4                 2.175              816              28                2.500   \n",
       "\n",
       "   Avg_Utilization_Ratio  \\\n",
       "0                  0.061   \n",
       "1                  0.105   \n",
       "2                  0.000   \n",
       "3                  0.760   \n",
       "4                  0.000   \n",
       "\n",
       "   Naive_Bayes_Classifier_Attrition_Flag_Card_Category_Contacts_Count_12_mon_Dependent_count_Education_Level_Months_Inactive_12_mon_1  \\\n",
       "0                                           0.000093                                                                                    \n",
       "1                                           0.000057                                                                                    \n",
       "2                                           0.000021                                                                                    \n",
       "3                                           0.000134                                                                                    \n",
       "4                                           0.000022                                                                                    \n",
       "\n",
       "   Naive_Bayes_Classifier_Attrition_Flag_Card_Category_Contacts_Count_12_mon_Dependent_count_Education_Level_Months_Inactive_12_mon_2  \n",
       "0                                            0.99991                                                                                   \n",
       "1                                            0.99994                                                                                   \n",
       "2                                            0.99998                                                                                   \n",
       "3                                            0.99987                                                                                   \n",
       "4                                            0.99998                                                                                   \n",
       "\n",
       "[5 rows x 23 columns]"
      ]
     },
     "execution_count": 3,
     "metadata": {},
     "output_type": "execute_result"
    }
   ],
   "source": [
    "# see a summary of the data\n",
    "ccattr_data.head()"
   ]
  },
  {
   "cell_type": "markdown",
   "metadata": {},
   "source": [
    "The last 2 columns appear to be predictions. Change their name to be more readable."
   ]
  },
  {
   "cell_type": "code",
   "execution_count": 4,
   "metadata": {},
   "outputs": [],
   "source": [
    "col1 = \"Naive_Bayes_Classifier_Attrition_Flag_Card_Category_Contacts_Count_12_mon_Dependent_count_Education_Level_Months_Inactive_12_mon_1\"\n",
    "col2 = \"Naive_Bayes_Classifier_Attrition_Flag_Card_Category_Contacts_Count_12_mon_Dependent_count_Education_Level_Months_Inactive_12_mon_2\"\n",
    "ccattr_data.rename(columns={col1 : \"naive_cls1\", col2 : \"naive_cls2\"}, inplace=True)"
   ]
  },
  {
   "cell_type": "code",
   "execution_count": 5,
   "metadata": {},
   "outputs": [
    {
     "name": "stdout",
     "output_type": "stream",
     "text": [
      "<class 'pandas.core.frame.DataFrame'>\n",
      "RangeIndex: 10127 entries, 0 to 10126\n",
      "Data columns (total 23 columns):\n",
      " #   Column                    Non-Null Count  Dtype  \n",
      "---  ------                    --------------  -----  \n",
      " 0   CLIENTNUM                 10127 non-null  int64  \n",
      " 1   Attrition_Flag            10127 non-null  object \n",
      " 2   Customer_Age              10127 non-null  int64  \n",
      " 3   Gender                    10127 non-null  object \n",
      " 4   Dependent_count           10127 non-null  int64  \n",
      " 5   Education_Level           10127 non-null  object \n",
      " 6   Marital_Status            10127 non-null  object \n",
      " 7   Income_Category           10127 non-null  object \n",
      " 8   Card_Category             10127 non-null  object \n",
      " 9   Months_on_book            10127 non-null  int64  \n",
      " 10  Total_Relationship_Count  10127 non-null  int64  \n",
      " 11  Months_Inactive_12_mon    10127 non-null  int64  \n",
      " 12  Contacts_Count_12_mon     10127 non-null  int64  \n",
      " 13  Credit_Limit              10127 non-null  float64\n",
      " 14  Total_Revolving_Bal       10127 non-null  int64  \n",
      " 15  Avg_Open_To_Buy           10127 non-null  float64\n",
      " 16  Total_Amt_Chng_Q4_Q1      10127 non-null  float64\n",
      " 17  Total_Trans_Amt           10127 non-null  int64  \n",
      " 18  Total_Trans_Ct            10127 non-null  int64  \n",
      " 19  Total_Ct_Chng_Q4_Q1       10127 non-null  float64\n",
      " 20  Avg_Utilization_Ratio     10127 non-null  float64\n",
      " 21  naive_cls1                10127 non-null  float64\n",
      " 22  naive_cls2                10127 non-null  float64\n",
      "dtypes: float64(7), int64(10), object(6)\n",
      "memory usage: 1.8+ MB\n"
     ]
    }
   ],
   "source": [
    "#Check the data types of the columns\n",
    "ccattr_data.info()"
   ]
  },
  {
   "cell_type": "markdown",
   "metadata": {},
   "source": [
    "There are 10127 rows and 23 columns.\n",
    "There are no missing values.\n",
    "\n",
    "Most of the columns are numerical and 6 are categorical, and those are -\n",
    "* Attrition_Flag\n",
    "* Gender\n",
    "* Education_Level\n",
    "* Marital_Status\n",
    "* Income_Category\n",
    "* Card_Category"
   ]
  },
  {
   "cell_type": "code",
   "execution_count": 6,
   "metadata": {},
   "outputs": [
    {
     "data": {
      "text/html": [
       "<div>\n",
       "<style scoped>\n",
       "    .dataframe tbody tr th:only-of-type {\n",
       "        vertical-align: middle;\n",
       "    }\n",
       "\n",
       "    .dataframe tbody tr th {\n",
       "        vertical-align: top;\n",
       "    }\n",
       "\n",
       "    .dataframe thead th {\n",
       "        text-align: right;\n",
       "    }\n",
       "</style>\n",
       "<table border=\"1\" class=\"dataframe\">\n",
       "  <thead>\n",
       "    <tr style=\"text-align: right;\">\n",
       "      <th></th>\n",
       "      <th>count</th>\n",
       "      <th>mean</th>\n",
       "      <th>std</th>\n",
       "      <th>min</th>\n",
       "      <th>25%</th>\n",
       "      <th>50%</th>\n",
       "      <th>75%</th>\n",
       "      <th>max</th>\n",
       "    </tr>\n",
       "  </thead>\n",
       "  <tbody>\n",
       "    <tr>\n",
       "      <th>CLIENTNUM</th>\n",
       "      <td>10127.0</td>\n",
       "      <td>7.391776e+08</td>\n",
       "      <td>3.690378e+07</td>\n",
       "      <td>7.080821e+08</td>\n",
       "      <td>7.130368e+08</td>\n",
       "      <td>7.179264e+08</td>\n",
       "      <td>7.731435e+08</td>\n",
       "      <td>8.283431e+08</td>\n",
       "    </tr>\n",
       "    <tr>\n",
       "      <th>Customer_Age</th>\n",
       "      <td>10127.0</td>\n",
       "      <td>4.632596e+01</td>\n",
       "      <td>8.016814e+00</td>\n",
       "      <td>2.600000e+01</td>\n",
       "      <td>4.100000e+01</td>\n",
       "      <td>4.600000e+01</td>\n",
       "      <td>5.200000e+01</td>\n",
       "      <td>7.300000e+01</td>\n",
       "    </tr>\n",
       "    <tr>\n",
       "      <th>Dependent_count</th>\n",
       "      <td>10127.0</td>\n",
       "      <td>2.346203e+00</td>\n",
       "      <td>1.298908e+00</td>\n",
       "      <td>0.000000e+00</td>\n",
       "      <td>1.000000e+00</td>\n",
       "      <td>2.000000e+00</td>\n",
       "      <td>3.000000e+00</td>\n",
       "      <td>5.000000e+00</td>\n",
       "    </tr>\n",
       "    <tr>\n",
       "      <th>Months_on_book</th>\n",
       "      <td>10127.0</td>\n",
       "      <td>3.592841e+01</td>\n",
       "      <td>7.986416e+00</td>\n",
       "      <td>1.300000e+01</td>\n",
       "      <td>3.100000e+01</td>\n",
       "      <td>3.600000e+01</td>\n",
       "      <td>4.000000e+01</td>\n",
       "      <td>5.600000e+01</td>\n",
       "    </tr>\n",
       "    <tr>\n",
       "      <th>Total_Relationship_Count</th>\n",
       "      <td>10127.0</td>\n",
       "      <td>3.812580e+00</td>\n",
       "      <td>1.554408e+00</td>\n",
       "      <td>1.000000e+00</td>\n",
       "      <td>3.000000e+00</td>\n",
       "      <td>4.000000e+00</td>\n",
       "      <td>5.000000e+00</td>\n",
       "      <td>6.000000e+00</td>\n",
       "    </tr>\n",
       "    <tr>\n",
       "      <th>Months_Inactive_12_mon</th>\n",
       "      <td>10127.0</td>\n",
       "      <td>2.341167e+00</td>\n",
       "      <td>1.010622e+00</td>\n",
       "      <td>0.000000e+00</td>\n",
       "      <td>2.000000e+00</td>\n",
       "      <td>2.000000e+00</td>\n",
       "      <td>3.000000e+00</td>\n",
       "      <td>6.000000e+00</td>\n",
       "    </tr>\n",
       "    <tr>\n",
       "      <th>Contacts_Count_12_mon</th>\n",
       "      <td>10127.0</td>\n",
       "      <td>2.455317e+00</td>\n",
       "      <td>1.106225e+00</td>\n",
       "      <td>0.000000e+00</td>\n",
       "      <td>2.000000e+00</td>\n",
       "      <td>2.000000e+00</td>\n",
       "      <td>3.000000e+00</td>\n",
       "      <td>6.000000e+00</td>\n",
       "    </tr>\n",
       "    <tr>\n",
       "      <th>Credit_Limit</th>\n",
       "      <td>10127.0</td>\n",
       "      <td>8.631954e+03</td>\n",
       "      <td>9.088777e+03</td>\n",
       "      <td>1.438300e+03</td>\n",
       "      <td>2.555000e+03</td>\n",
       "      <td>4.549000e+03</td>\n",
       "      <td>1.106750e+04</td>\n",
       "      <td>3.451600e+04</td>\n",
       "    </tr>\n",
       "    <tr>\n",
       "      <th>Total_Revolving_Bal</th>\n",
       "      <td>10127.0</td>\n",
       "      <td>1.162814e+03</td>\n",
       "      <td>8.149873e+02</td>\n",
       "      <td>0.000000e+00</td>\n",
       "      <td>3.590000e+02</td>\n",
       "      <td>1.276000e+03</td>\n",
       "      <td>1.784000e+03</td>\n",
       "      <td>2.517000e+03</td>\n",
       "    </tr>\n",
       "    <tr>\n",
       "      <th>Avg_Open_To_Buy</th>\n",
       "      <td>10127.0</td>\n",
       "      <td>7.469140e+03</td>\n",
       "      <td>9.090685e+03</td>\n",
       "      <td>3.000000e+00</td>\n",
       "      <td>1.324500e+03</td>\n",
       "      <td>3.474000e+03</td>\n",
       "      <td>9.859000e+03</td>\n",
       "      <td>3.451600e+04</td>\n",
       "    </tr>\n",
       "    <tr>\n",
       "      <th>Total_Amt_Chng_Q4_Q1</th>\n",
       "      <td>10127.0</td>\n",
       "      <td>7.599407e-01</td>\n",
       "      <td>2.192068e-01</td>\n",
       "      <td>0.000000e+00</td>\n",
       "      <td>6.310000e-01</td>\n",
       "      <td>7.360000e-01</td>\n",
       "      <td>8.590000e-01</td>\n",
       "      <td>3.397000e+00</td>\n",
       "    </tr>\n",
       "    <tr>\n",
       "      <th>Total_Trans_Amt</th>\n",
       "      <td>10127.0</td>\n",
       "      <td>4.404086e+03</td>\n",
       "      <td>3.397129e+03</td>\n",
       "      <td>5.100000e+02</td>\n",
       "      <td>2.155500e+03</td>\n",
       "      <td>3.899000e+03</td>\n",
       "      <td>4.741000e+03</td>\n",
       "      <td>1.848400e+04</td>\n",
       "    </tr>\n",
       "    <tr>\n",
       "      <th>Total_Trans_Ct</th>\n",
       "      <td>10127.0</td>\n",
       "      <td>6.485869e+01</td>\n",
       "      <td>2.347257e+01</td>\n",
       "      <td>1.000000e+01</td>\n",
       "      <td>4.500000e+01</td>\n",
       "      <td>6.700000e+01</td>\n",
       "      <td>8.100000e+01</td>\n",
       "      <td>1.390000e+02</td>\n",
       "    </tr>\n",
       "    <tr>\n",
       "      <th>Total_Ct_Chng_Q4_Q1</th>\n",
       "      <td>10127.0</td>\n",
       "      <td>7.122224e-01</td>\n",
       "      <td>2.380861e-01</td>\n",
       "      <td>0.000000e+00</td>\n",
       "      <td>5.820000e-01</td>\n",
       "      <td>7.020000e-01</td>\n",
       "      <td>8.180000e-01</td>\n",
       "      <td>3.714000e+00</td>\n",
       "    </tr>\n",
       "    <tr>\n",
       "      <th>Avg_Utilization_Ratio</th>\n",
       "      <td>10127.0</td>\n",
       "      <td>2.748936e-01</td>\n",
       "      <td>2.756915e-01</td>\n",
       "      <td>0.000000e+00</td>\n",
       "      <td>2.300000e-02</td>\n",
       "      <td>1.760000e-01</td>\n",
       "      <td>5.030000e-01</td>\n",
       "      <td>9.990000e-01</td>\n",
       "    </tr>\n",
       "    <tr>\n",
       "      <th>naive_cls1</th>\n",
       "      <td>10127.0</td>\n",
       "      <td>1.599975e-01</td>\n",
       "      <td>3.653010e-01</td>\n",
       "      <td>7.664200e-06</td>\n",
       "      <td>9.898300e-05</td>\n",
       "      <td>1.814600e-04</td>\n",
       "      <td>3.373000e-04</td>\n",
       "      <td>9.995800e-01</td>\n",
       "    </tr>\n",
       "    <tr>\n",
       "      <th>naive_cls2</th>\n",
       "      <td>10127.0</td>\n",
       "      <td>8.400026e-01</td>\n",
       "      <td>3.653010e-01</td>\n",
       "      <td>4.199800e-04</td>\n",
       "      <td>9.996600e-01</td>\n",
       "      <td>9.998200e-01</td>\n",
       "      <td>9.999000e-01</td>\n",
       "      <td>9.999900e-01</td>\n",
       "    </tr>\n",
       "  </tbody>\n",
       "</table>\n",
       "</div>"
      ],
      "text/plain": [
       "                            count          mean           std           min  \\\n",
       "CLIENTNUM                 10127.0  7.391776e+08  3.690378e+07  7.080821e+08   \n",
       "Customer_Age              10127.0  4.632596e+01  8.016814e+00  2.600000e+01   \n",
       "Dependent_count           10127.0  2.346203e+00  1.298908e+00  0.000000e+00   \n",
       "Months_on_book            10127.0  3.592841e+01  7.986416e+00  1.300000e+01   \n",
       "Total_Relationship_Count  10127.0  3.812580e+00  1.554408e+00  1.000000e+00   \n",
       "Months_Inactive_12_mon    10127.0  2.341167e+00  1.010622e+00  0.000000e+00   \n",
       "Contacts_Count_12_mon     10127.0  2.455317e+00  1.106225e+00  0.000000e+00   \n",
       "Credit_Limit              10127.0  8.631954e+03  9.088777e+03  1.438300e+03   \n",
       "Total_Revolving_Bal       10127.0  1.162814e+03  8.149873e+02  0.000000e+00   \n",
       "Avg_Open_To_Buy           10127.0  7.469140e+03  9.090685e+03  3.000000e+00   \n",
       "Total_Amt_Chng_Q4_Q1      10127.0  7.599407e-01  2.192068e-01  0.000000e+00   \n",
       "Total_Trans_Amt           10127.0  4.404086e+03  3.397129e+03  5.100000e+02   \n",
       "Total_Trans_Ct            10127.0  6.485869e+01  2.347257e+01  1.000000e+01   \n",
       "Total_Ct_Chng_Q4_Q1       10127.0  7.122224e-01  2.380861e-01  0.000000e+00   \n",
       "Avg_Utilization_Ratio     10127.0  2.748936e-01  2.756915e-01  0.000000e+00   \n",
       "naive_cls1                10127.0  1.599975e-01  3.653010e-01  7.664200e-06   \n",
       "naive_cls2                10127.0  8.400026e-01  3.653010e-01  4.199800e-04   \n",
       "\n",
       "                                   25%           50%           75%  \\\n",
       "CLIENTNUM                 7.130368e+08  7.179264e+08  7.731435e+08   \n",
       "Customer_Age              4.100000e+01  4.600000e+01  5.200000e+01   \n",
       "Dependent_count           1.000000e+00  2.000000e+00  3.000000e+00   \n",
       "Months_on_book            3.100000e+01  3.600000e+01  4.000000e+01   \n",
       "Total_Relationship_Count  3.000000e+00  4.000000e+00  5.000000e+00   \n",
       "Months_Inactive_12_mon    2.000000e+00  2.000000e+00  3.000000e+00   \n",
       "Contacts_Count_12_mon     2.000000e+00  2.000000e+00  3.000000e+00   \n",
       "Credit_Limit              2.555000e+03  4.549000e+03  1.106750e+04   \n",
       "Total_Revolving_Bal       3.590000e+02  1.276000e+03  1.784000e+03   \n",
       "Avg_Open_To_Buy           1.324500e+03  3.474000e+03  9.859000e+03   \n",
       "Total_Amt_Chng_Q4_Q1      6.310000e-01  7.360000e-01  8.590000e-01   \n",
       "Total_Trans_Amt           2.155500e+03  3.899000e+03  4.741000e+03   \n",
       "Total_Trans_Ct            4.500000e+01  6.700000e+01  8.100000e+01   \n",
       "Total_Ct_Chng_Q4_Q1       5.820000e-01  7.020000e-01  8.180000e-01   \n",
       "Avg_Utilization_Ratio     2.300000e-02  1.760000e-01  5.030000e-01   \n",
       "naive_cls1                9.898300e-05  1.814600e-04  3.373000e-04   \n",
       "naive_cls2                9.996600e-01  9.998200e-01  9.999000e-01   \n",
       "\n",
       "                                   max  \n",
       "CLIENTNUM                 8.283431e+08  \n",
       "Customer_Age              7.300000e+01  \n",
       "Dependent_count           5.000000e+00  \n",
       "Months_on_book            5.600000e+01  \n",
       "Total_Relationship_Count  6.000000e+00  \n",
       "Months_Inactive_12_mon    6.000000e+00  \n",
       "Contacts_Count_12_mon     6.000000e+00  \n",
       "Credit_Limit              3.451600e+04  \n",
       "Total_Revolving_Bal       2.517000e+03  \n",
       "Avg_Open_To_Buy           3.451600e+04  \n",
       "Total_Amt_Chng_Q4_Q1      3.397000e+00  \n",
       "Total_Trans_Amt           1.848400e+04  \n",
       "Total_Trans_Ct            1.390000e+02  \n",
       "Total_Ct_Chng_Q4_Q1       3.714000e+00  \n",
       "Avg_Utilization_Ratio     9.990000e-01  \n",
       "naive_cls1                9.995800e-01  \n",
       "naive_cls2                9.999900e-01  "
      ]
     },
     "execution_count": 6,
     "metadata": {},
     "output_type": "execute_result"
    }
   ],
   "source": [
    "ccattr_data.describe().T"
   ]
  },
  {
   "cell_type": "markdown",
   "metadata": {},
   "source": [
    "* Average customer age is ~46 and min and max customer age is 70 to 82.\n",
    "* Average period of relationship with the bank is ~36 months with minimum of 13 and max as 56.\n",
    "* Average Total number of product with the customer ~4 and maximum is 6.\n",
    "* Mean of Credit_limit 8631 while median is 4549 ,data may have outliers.\n",
    "* Total_Revolving_Bal(unpaid portion) has mean as 1162 while median is 1276, No outliers.\n",
    "* Avg_Open_To_Buy(amount left on the credit card) has mean 7469 and max as 34516.Appears some outliers.\n",
    "* Total_Trans_Amt has an average of 4404 and median of 3899. This indicate outliers."
   ]
  },
  {
   "cell_type": "markdown",
   "metadata": {},
   "source": [
    "## Explore The Data<a id='Explore_The_Data'></a>"
   ]
  },
  {
   "cell_type": "markdown",
   "metadata": {},
   "source": [
    "### Number Of Missing Values By Column<a id='Number_Of_Missing_Values_By_Column'></a>"
   ]
  },
  {
   "cell_type": "markdown",
   "metadata": {},
   "source": [
    "Count the number of missing values in each column and sort them."
   ]
  },
  {
   "cell_type": "code",
   "execution_count": 7,
   "metadata": {},
   "outputs": [
    {
     "data": {
      "text/html": [
       "<div>\n",
       "<style scoped>\n",
       "    .dataframe tbody tr th:only-of-type {\n",
       "        vertical-align: middle;\n",
       "    }\n",
       "\n",
       "    .dataframe tbody tr th {\n",
       "        vertical-align: top;\n",
       "    }\n",
       "\n",
       "    .dataframe thead th {\n",
       "        text-align: right;\n",
       "    }\n",
       "</style>\n",
       "<table border=\"1\" class=\"dataframe\">\n",
       "  <thead>\n",
       "    <tr style=\"text-align: right;\">\n",
       "      <th></th>\n",
       "      <th>count</th>\n",
       "      <th>%</th>\n",
       "    </tr>\n",
       "  </thead>\n",
       "  <tbody>\n",
       "    <tr>\n",
       "      <th>CLIENTNUM</th>\n",
       "      <td>0.0</td>\n",
       "      <td>0.0</td>\n",
       "    </tr>\n",
       "    <tr>\n",
       "      <th>Contacts_Count_12_mon</th>\n",
       "      <td>0.0</td>\n",
       "      <td>0.0</td>\n",
       "    </tr>\n",
       "    <tr>\n",
       "      <th>naive_cls1</th>\n",
       "      <td>0.0</td>\n",
       "      <td>0.0</td>\n",
       "    </tr>\n",
       "    <tr>\n",
       "      <th>Avg_Utilization_Ratio</th>\n",
       "      <td>0.0</td>\n",
       "      <td>0.0</td>\n",
       "    </tr>\n",
       "    <tr>\n",
       "      <th>Total_Ct_Chng_Q4_Q1</th>\n",
       "      <td>0.0</td>\n",
       "      <td>0.0</td>\n",
       "    </tr>\n",
       "    <tr>\n",
       "      <th>Total_Trans_Ct</th>\n",
       "      <td>0.0</td>\n",
       "      <td>0.0</td>\n",
       "    </tr>\n",
       "    <tr>\n",
       "      <th>Total_Trans_Amt</th>\n",
       "      <td>0.0</td>\n",
       "      <td>0.0</td>\n",
       "    </tr>\n",
       "    <tr>\n",
       "      <th>Total_Amt_Chng_Q4_Q1</th>\n",
       "      <td>0.0</td>\n",
       "      <td>0.0</td>\n",
       "    </tr>\n",
       "    <tr>\n",
       "      <th>Avg_Open_To_Buy</th>\n",
       "      <td>0.0</td>\n",
       "      <td>0.0</td>\n",
       "    </tr>\n",
       "    <tr>\n",
       "      <th>Total_Revolving_Bal</th>\n",
       "      <td>0.0</td>\n",
       "      <td>0.0</td>\n",
       "    </tr>\n",
       "    <tr>\n",
       "      <th>Credit_Limit</th>\n",
       "      <td>0.0</td>\n",
       "      <td>0.0</td>\n",
       "    </tr>\n",
       "    <tr>\n",
       "      <th>Months_Inactive_12_mon</th>\n",
       "      <td>0.0</td>\n",
       "      <td>0.0</td>\n",
       "    </tr>\n",
       "    <tr>\n",
       "      <th>Attrition_Flag</th>\n",
       "      <td>0.0</td>\n",
       "      <td>0.0</td>\n",
       "    </tr>\n",
       "    <tr>\n",
       "      <th>Total_Relationship_Count</th>\n",
       "      <td>0.0</td>\n",
       "      <td>0.0</td>\n",
       "    </tr>\n",
       "    <tr>\n",
       "      <th>Months_on_book</th>\n",
       "      <td>0.0</td>\n",
       "      <td>0.0</td>\n",
       "    </tr>\n",
       "    <tr>\n",
       "      <th>Card_Category</th>\n",
       "      <td>0.0</td>\n",
       "      <td>0.0</td>\n",
       "    </tr>\n",
       "    <tr>\n",
       "      <th>Income_Category</th>\n",
       "      <td>0.0</td>\n",
       "      <td>0.0</td>\n",
       "    </tr>\n",
       "    <tr>\n",
       "      <th>Marital_Status</th>\n",
       "      <td>0.0</td>\n",
       "      <td>0.0</td>\n",
       "    </tr>\n",
       "    <tr>\n",
       "      <th>Education_Level</th>\n",
       "      <td>0.0</td>\n",
       "      <td>0.0</td>\n",
       "    </tr>\n",
       "    <tr>\n",
       "      <th>Dependent_count</th>\n",
       "      <td>0.0</td>\n",
       "      <td>0.0</td>\n",
       "    </tr>\n",
       "    <tr>\n",
       "      <th>Gender</th>\n",
       "      <td>0.0</td>\n",
       "      <td>0.0</td>\n",
       "    </tr>\n",
       "    <tr>\n",
       "      <th>Customer_Age</th>\n",
       "      <td>0.0</td>\n",
       "      <td>0.0</td>\n",
       "    </tr>\n",
       "    <tr>\n",
       "      <th>naive_cls2</th>\n",
       "      <td>0.0</td>\n",
       "      <td>0.0</td>\n",
       "    </tr>\n",
       "  </tbody>\n",
       "</table>\n",
       "</div>"
      ],
      "text/plain": [
       "                          count    %\n",
       "CLIENTNUM                   0.0  0.0\n",
       "Contacts_Count_12_mon       0.0  0.0\n",
       "naive_cls1                  0.0  0.0\n",
       "Avg_Utilization_Ratio       0.0  0.0\n",
       "Total_Ct_Chng_Q4_Q1         0.0  0.0\n",
       "Total_Trans_Ct              0.0  0.0\n",
       "Total_Trans_Amt             0.0  0.0\n",
       "Total_Amt_Chng_Q4_Q1        0.0  0.0\n",
       "Avg_Open_To_Buy             0.0  0.0\n",
       "Total_Revolving_Bal         0.0  0.0\n",
       "Credit_Limit                0.0  0.0\n",
       "Months_Inactive_12_mon      0.0  0.0\n",
       "Attrition_Flag              0.0  0.0\n",
       "Total_Relationship_Count    0.0  0.0\n",
       "Months_on_book              0.0  0.0\n",
       "Card_Category               0.0  0.0\n",
       "Income_Category             0.0  0.0\n",
       "Marital_Status              0.0  0.0\n",
       "Education_Level             0.0  0.0\n",
       "Dependent_count             0.0  0.0\n",
       "Gender                      0.0  0.0\n",
       "Customer_Age                0.0  0.0\n",
       "naive_cls2                  0.0  0.0"
      ]
     },
     "execution_count": 7,
     "metadata": {},
     "output_type": "execute_result"
    }
   ],
   "source": [
    "missing = pd.concat([ccattr_data.isnull().mean(), 100 * ccattr_data.isnull().mean()],axis=1)\n",
    "missing.columns=['count','%']\n",
    "missing.sort_values(by= 'count', ascending=False)"
   ]
  },
  {
   "cell_type": "markdown",
   "metadata": {},
   "source": [
    "No missing values"
   ]
  },
  {
   "cell_type": "markdown",
   "metadata": {},
   "source": [
    "### Categorical Features<a id='Categorical_Features'></a>"
   ]
  },
  {
   "cell_type": "code",
   "execution_count": 8,
   "metadata": {},
   "outputs": [
    {
     "data": {
      "text/html": [
       "<div>\n",
       "<style scoped>\n",
       "    .dataframe tbody tr th:only-of-type {\n",
       "        vertical-align: middle;\n",
       "    }\n",
       "\n",
       "    .dataframe tbody tr th {\n",
       "        vertical-align: top;\n",
       "    }\n",
       "\n",
       "    .dataframe thead th {\n",
       "        text-align: right;\n",
       "    }\n",
       "</style>\n",
       "<table border=\"1\" class=\"dataframe\">\n",
       "  <thead>\n",
       "    <tr style=\"text-align: right;\">\n",
       "      <th></th>\n",
       "      <th>Attrition_Flag</th>\n",
       "      <th>Gender</th>\n",
       "      <th>Education_Level</th>\n",
       "      <th>Marital_Status</th>\n",
       "      <th>Income_Category</th>\n",
       "      <th>Card_Category</th>\n",
       "    </tr>\n",
       "  </thead>\n",
       "  <tbody>\n",
       "    <tr>\n",
       "      <th>0</th>\n",
       "      <td>Existing Customer</td>\n",
       "      <td>M</td>\n",
       "      <td>High School</td>\n",
       "      <td>Married</td>\n",
       "      <td>$60K - $80K</td>\n",
       "      <td>Blue</td>\n",
       "    </tr>\n",
       "    <tr>\n",
       "      <th>1</th>\n",
       "      <td>Existing Customer</td>\n",
       "      <td>F</td>\n",
       "      <td>Graduate</td>\n",
       "      <td>Single</td>\n",
       "      <td>Less than $40K</td>\n",
       "      <td>Blue</td>\n",
       "    </tr>\n",
       "    <tr>\n",
       "      <th>2</th>\n",
       "      <td>Existing Customer</td>\n",
       "      <td>M</td>\n",
       "      <td>Graduate</td>\n",
       "      <td>Married</td>\n",
       "      <td>$80K - $120K</td>\n",
       "      <td>Blue</td>\n",
       "    </tr>\n",
       "    <tr>\n",
       "      <th>3</th>\n",
       "      <td>Existing Customer</td>\n",
       "      <td>F</td>\n",
       "      <td>High School</td>\n",
       "      <td>Unknown</td>\n",
       "      <td>Less than $40K</td>\n",
       "      <td>Blue</td>\n",
       "    </tr>\n",
       "    <tr>\n",
       "      <th>4</th>\n",
       "      <td>Existing Customer</td>\n",
       "      <td>M</td>\n",
       "      <td>Uneducated</td>\n",
       "      <td>Married</td>\n",
       "      <td>$60K - $80K</td>\n",
       "      <td>Blue</td>\n",
       "    </tr>\n",
       "    <tr>\n",
       "      <th>...</th>\n",
       "      <td>...</td>\n",
       "      <td>...</td>\n",
       "      <td>...</td>\n",
       "      <td>...</td>\n",
       "      <td>...</td>\n",
       "      <td>...</td>\n",
       "    </tr>\n",
       "    <tr>\n",
       "      <th>10122</th>\n",
       "      <td>Existing Customer</td>\n",
       "      <td>M</td>\n",
       "      <td>Graduate</td>\n",
       "      <td>Single</td>\n",
       "      <td>$40K - $60K</td>\n",
       "      <td>Blue</td>\n",
       "    </tr>\n",
       "    <tr>\n",
       "      <th>10123</th>\n",
       "      <td>Attrited Customer</td>\n",
       "      <td>M</td>\n",
       "      <td>Unknown</td>\n",
       "      <td>Divorced</td>\n",
       "      <td>$40K - $60K</td>\n",
       "      <td>Blue</td>\n",
       "    </tr>\n",
       "    <tr>\n",
       "      <th>10124</th>\n",
       "      <td>Attrited Customer</td>\n",
       "      <td>F</td>\n",
       "      <td>High School</td>\n",
       "      <td>Married</td>\n",
       "      <td>Less than $40K</td>\n",
       "      <td>Blue</td>\n",
       "    </tr>\n",
       "    <tr>\n",
       "      <th>10125</th>\n",
       "      <td>Attrited Customer</td>\n",
       "      <td>M</td>\n",
       "      <td>Graduate</td>\n",
       "      <td>Unknown</td>\n",
       "      <td>$40K - $60K</td>\n",
       "      <td>Blue</td>\n",
       "    </tr>\n",
       "    <tr>\n",
       "      <th>10126</th>\n",
       "      <td>Attrited Customer</td>\n",
       "      <td>F</td>\n",
       "      <td>Graduate</td>\n",
       "      <td>Married</td>\n",
       "      <td>Less than $40K</td>\n",
       "      <td>Silver</td>\n",
       "    </tr>\n",
       "  </tbody>\n",
       "</table>\n",
       "<p>10127 rows × 6 columns</p>\n",
       "</div>"
      ],
      "text/plain": [
       "          Attrition_Flag Gender Education_Level Marital_Status  \\\n",
       "0      Existing Customer      M     High School        Married   \n",
       "1      Existing Customer      F        Graduate         Single   \n",
       "2      Existing Customer      M        Graduate        Married   \n",
       "3      Existing Customer      F     High School        Unknown   \n",
       "4      Existing Customer      M      Uneducated        Married   \n",
       "...                  ...    ...             ...            ...   \n",
       "10122  Existing Customer      M        Graduate         Single   \n",
       "10123  Attrited Customer      M         Unknown       Divorced   \n",
       "10124  Attrited Customer      F     High School        Married   \n",
       "10125  Attrited Customer      M        Graduate        Unknown   \n",
       "10126  Attrited Customer      F        Graduate        Married   \n",
       "\n",
       "      Income_Category Card_Category  \n",
       "0         $60K - $80K          Blue  \n",
       "1      Less than $40K          Blue  \n",
       "2        $80K - $120K          Blue  \n",
       "3      Less than $40K          Blue  \n",
       "4         $60K - $80K          Blue  \n",
       "...               ...           ...  \n",
       "10122     $40K - $60K          Blue  \n",
       "10123     $40K - $60K          Blue  \n",
       "10124  Less than $40K          Blue  \n",
       "10125     $40K - $60K          Blue  \n",
       "10126  Less than $40K        Silver  \n",
       "\n",
       "[10127 rows x 6 columns]"
      ]
     },
     "execution_count": 8,
     "metadata": {},
     "output_type": "execute_result"
    }
   ],
   "source": [
    "#Use ccattr_data's `select_dtypes` method to select columns of dtype 'object'\n",
    "ccattr_data.select_dtypes(object)"
   ]
  },
  {
   "cell_type": "markdown",
   "metadata": {},
   "source": [
    "Education level and Marital Status have unknown values."
   ]
  },
  {
   "cell_type": "markdown",
   "metadata": {},
   "source": [
    "Apart from above categorical features below  4 features may play role in churning rate.\n",
    "* Dependent_count\n",
    "* Total_Relationship_Count\n",
    "* Months_Inactive_12_mon\n",
    "* Contacts_Count_12_mon \n",
    "\n",
    "These features will provide insights for churning rate with Attrition_Flag being target value. And need to explore more about these features.\n",
    "* Gender \n",
    "* Education_Level \n",
    "* Marital_Status \n",
    "* Income_Category\n",
    "* Card_Category\n",
    "* Dependent_count\n",
    "* Total_Relationship_Count\n",
    "* Months_Inactive_12_mon\n",
    "* Contacts_Count_12_mon"
   ]
  },
  {
   "cell_type": "markdown",
   "metadata": {},
   "source": [
    "**Unique_values**"
   ]
  },
  {
   "cell_type": "code",
   "execution_count": 9,
   "metadata": {},
   "outputs": [
    {
     "data": {
      "text/plain": [
       "CLIENTNUM                   10127\n",
       "Avg_Open_To_Buy              6813\n",
       "Credit_Limit                 6205\n",
       "Total_Trans_Amt              5033\n",
       "Total_Revolving_Bal          1974\n",
       "naive_cls1                   1704\n",
       "Total_Amt_Chng_Q4_Q1         1158\n",
       "Avg_Utilization_Ratio         964\n",
       "Total_Ct_Chng_Q4_Q1           830\n",
       "naive_cls2                    640\n",
       "Total_Trans_Ct                126\n",
       "Customer_Age                   45\n",
       "Months_on_book                 44\n",
       "Contacts_Count_12_mon           7\n",
       "Education_Level                 7\n",
       "Months_Inactive_12_mon          7\n",
       "Total_Relationship_Count        6\n",
       "Income_Category                 6\n",
       "Dependent_count                 6\n",
       "Card_Category                   4\n",
       "Marital_Status                  4\n",
       "Attrition_Flag                  2\n",
       "Gender                          2\n",
       "dtype: int64"
      ]
     },
     "execution_count": 9,
     "metadata": {},
     "output_type": "execute_result"
    }
   ],
   "source": [
    "# Checking for nunique value in the data attributes\n",
    "ccattr_data.nunique().sort_values(ascending = False)"
   ]
  },
  {
   "cell_type": "markdown",
   "metadata": {},
   "source": [
    " CLIENTNUM appears to be unique value.This also tells there are no duplicate values."
   ]
  },
  {
   "cell_type": "code",
   "execution_count": 10,
   "metadata": {},
   "outputs": [
    {
     "name": "stdout",
     "output_type": "stream",
     "text": [
      "Attrition_Flag     2\n",
      "Gender             2\n",
      "Education_Level    7\n",
      "Marital_Status     4\n",
      "Income_Category    6\n",
      "Card_Category      4\n",
      "dtype: int64\n"
     ]
    }
   ],
   "source": [
    "# get into more specfic , find the unique values for categorical data\n",
    "cat_col = ccattr_data.select_dtypes(include = ['object'])\n",
    "unique_values = cat_col.nunique(dropna=False)\n",
    "print (unique_values)"
   ]
  },
  {
   "cell_type": "markdown",
   "metadata": {},
   "source": [
    "**Find the unique values and their counts for these below features.**\n",
    "* Attrition_Flag \n",
    "* Gender \n",
    "* Education_Level \n",
    "* Marital_Status \n",
    "* Income_Category\n",
    "* Card_Category\n",
    "* Dependent_count\n",
    "* Total_Relationship_Count\n",
    "* Months_Inactive_12_mon\n",
    "* Contacts_Count_12_mon\n"
   ]
  },
  {
   "cell_type": "code",
   "execution_count": 11,
   "metadata": {},
   "outputs": [
    {
     "data": {
      "text/html": [
       "<div>\n",
       "<style scoped>\n",
       "    .dataframe tbody tr th:only-of-type {\n",
       "        vertical-align: middle;\n",
       "    }\n",
       "\n",
       "    .dataframe tbody tr th {\n",
       "        vertical-align: top;\n",
       "    }\n",
       "\n",
       "    .dataframe thead th {\n",
       "        text-align: right;\n",
       "    }\n",
       "</style>\n",
       "<table border=\"1\" class=\"dataframe\">\n",
       "  <thead>\n",
       "    <tr style=\"text-align: right;\">\n",
       "      <th></th>\n",
       "      <th>Relative Frequency for Attrition_Flag</th>\n",
       "    </tr>\n",
       "  </thead>\n",
       "  <tbody>\n",
       "    <tr>\n",
       "      <th>Existing Customer</th>\n",
       "      <td>0.83934</td>\n",
       "    </tr>\n",
       "    <tr>\n",
       "      <th>Attrited Customer</th>\n",
       "      <td>0.16066</td>\n",
       "    </tr>\n",
       "  </tbody>\n",
       "</table>\n",
       "</div>"
      ],
      "text/plain": [
       "                   Relative Frequency for Attrition_Flag\n",
       "Existing Customer                                0.83934\n",
       "Attrited Customer                                0.16066"
      ]
     },
     "execution_count": 11,
     "metadata": {},
     "output_type": "execute_result"
    }
   ],
   "source": [
    "#unique values and their Relative Frequency for Attrition_Flag\n",
    "pd.DataFrame({\"Relative Frequency for Attrition_Flag\": ccattr_data['Attrition_Flag'].value_counts(normalize=True)})"
   ]
  },
  {
   "cell_type": "code",
   "execution_count": 12,
   "metadata": {},
   "outputs": [
    {
     "data": {
      "text/html": [
       "<div>\n",
       "<style scoped>\n",
       "    .dataframe tbody tr th:only-of-type {\n",
       "        vertical-align: middle;\n",
       "    }\n",
       "\n",
       "    .dataframe tbody tr th {\n",
       "        vertical-align: top;\n",
       "    }\n",
       "\n",
       "    .dataframe thead th {\n",
       "        text-align: right;\n",
       "    }\n",
       "</style>\n",
       "<table border=\"1\" class=\"dataframe\">\n",
       "  <thead>\n",
       "    <tr style=\"text-align: right;\">\n",
       "      <th></th>\n",
       "      <th>Relative Frequency for Education_Level</th>\n",
       "    </tr>\n",
       "  </thead>\n",
       "  <tbody>\n",
       "    <tr>\n",
       "      <th>Graduate</th>\n",
       "      <td>0.308877</td>\n",
       "    </tr>\n",
       "    <tr>\n",
       "      <th>High School</th>\n",
       "      <td>0.198776</td>\n",
       "    </tr>\n",
       "    <tr>\n",
       "      <th>Unknown</th>\n",
       "      <td>0.149995</td>\n",
       "    </tr>\n",
       "    <tr>\n",
       "      <th>Uneducated</th>\n",
       "      <td>0.146835</td>\n",
       "    </tr>\n",
       "    <tr>\n",
       "      <th>College</th>\n",
       "      <td>0.100030</td>\n",
       "    </tr>\n",
       "    <tr>\n",
       "      <th>Post-Graduate</th>\n",
       "      <td>0.050953</td>\n",
       "    </tr>\n",
       "    <tr>\n",
       "      <th>Doctorate</th>\n",
       "      <td>0.044534</td>\n",
       "    </tr>\n",
       "  </tbody>\n",
       "</table>\n",
       "</div>"
      ],
      "text/plain": [
       "               Relative Frequency for Education_Level\n",
       "Graduate                                     0.308877\n",
       "High School                                  0.198776\n",
       "Unknown                                      0.149995\n",
       "Uneducated                                   0.146835\n",
       "College                                      0.100030\n",
       "Post-Graduate                                0.050953\n",
       "Doctorate                                    0.044534"
      ]
     },
     "execution_count": 12,
     "metadata": {},
     "output_type": "execute_result"
    }
   ],
   "source": [
    "#unique values and their relative frequency for Education_Level\n",
    "pd.DataFrame({\"Relative Frequency for Education_Level\": ccattr_data['Education_Level'].value_counts(normalize=True)})"
   ]
  },
  {
   "cell_type": "markdown",
   "metadata": {},
   "source": [
    "Education_Level has the value \"Unknown\". This needs to be treated."
   ]
  },
  {
   "cell_type": "code",
   "execution_count": 13,
   "metadata": {
    "scrolled": true
   },
   "outputs": [
    {
     "data": {
      "text/html": [
       "<div>\n",
       "<style scoped>\n",
       "    .dataframe tbody tr th:only-of-type {\n",
       "        vertical-align: middle;\n",
       "    }\n",
       "\n",
       "    .dataframe tbody tr th {\n",
       "        vertical-align: top;\n",
       "    }\n",
       "\n",
       "    .dataframe thead th {\n",
       "        text-align: right;\n",
       "    }\n",
       "</style>\n",
       "<table border=\"1\" class=\"dataframe\">\n",
       "  <thead>\n",
       "    <tr style=\"text-align: right;\">\n",
       "      <th></th>\n",
       "      <th>Relative Frequency for Marital_Status</th>\n",
       "    </tr>\n",
       "  </thead>\n",
       "  <tbody>\n",
       "    <tr>\n",
       "      <th>Married</th>\n",
       "      <td>0.462822</td>\n",
       "    </tr>\n",
       "    <tr>\n",
       "      <th>Single</th>\n",
       "      <td>0.389355</td>\n",
       "    </tr>\n",
       "    <tr>\n",
       "      <th>Unknown</th>\n",
       "      <td>0.073961</td>\n",
       "    </tr>\n",
       "    <tr>\n",
       "      <th>Divorced</th>\n",
       "      <td>0.073862</td>\n",
       "    </tr>\n",
       "  </tbody>\n",
       "</table>\n",
       "</div>"
      ],
      "text/plain": [
       "          Relative Frequency for Marital_Status\n",
       "Married                                0.462822\n",
       "Single                                 0.389355\n",
       "Unknown                                0.073961\n",
       "Divorced                               0.073862"
      ]
     },
     "execution_count": 13,
     "metadata": {},
     "output_type": "execute_result"
    }
   ],
   "source": [
    "#unique values and their Relative Frequency for Marital_Status\n",
    "pd.DataFrame({\"Relative Frequency for Marital_Status\": ccattr_data['Marital_Status'].value_counts(normalize=True)})"
   ]
  },
  {
   "cell_type": "markdown",
   "metadata": {},
   "source": [
    "Marital_Status has the value \"Unknown\". This needs to be treated."
   ]
  },
  {
   "cell_type": "code",
   "execution_count": 14,
   "metadata": {
    "scrolled": true
   },
   "outputs": [
    {
     "data": {
      "text/html": [
       "<div>\n",
       "<style scoped>\n",
       "    .dataframe tbody tr th:only-of-type {\n",
       "        vertical-align: middle;\n",
       "    }\n",
       "\n",
       "    .dataframe tbody tr th {\n",
       "        vertical-align: top;\n",
       "    }\n",
       "\n",
       "    .dataframe thead th {\n",
       "        text-align: right;\n",
       "    }\n",
       "</style>\n",
       "<table border=\"1\" class=\"dataframe\">\n",
       "  <thead>\n",
       "    <tr style=\"text-align: right;\">\n",
       "      <th></th>\n",
       "      <th>Relative Frequency for Income_Category</th>\n",
       "    </tr>\n",
       "  </thead>\n",
       "  <tbody>\n",
       "    <tr>\n",
       "      <th>Less than $40K</th>\n",
       "      <td>0.351634</td>\n",
       "    </tr>\n",
       "    <tr>\n",
       "      <th>$40K - $60K</th>\n",
       "      <td>0.176755</td>\n",
       "    </tr>\n",
       "    <tr>\n",
       "      <th>$80K - $120K</th>\n",
       "      <td>0.151575</td>\n",
       "    </tr>\n",
       "    <tr>\n",
       "      <th>$60K - $80K</th>\n",
       "      <td>0.138442</td>\n",
       "    </tr>\n",
       "    <tr>\n",
       "      <th>Unknown</th>\n",
       "      <td>0.109805</td>\n",
       "    </tr>\n",
       "    <tr>\n",
       "      <th>$120K +</th>\n",
       "      <td>0.071788</td>\n",
       "    </tr>\n",
       "  </tbody>\n",
       "</table>\n",
       "</div>"
      ],
      "text/plain": [
       "                Relative Frequency for Income_Category\n",
       "Less than $40K                                0.351634\n",
       "$40K - $60K                                   0.176755\n",
       "$80K - $120K                                  0.151575\n",
       "$60K - $80K                                   0.138442\n",
       "Unknown                                       0.109805\n",
       "$120K +                                       0.071788"
      ]
     },
     "execution_count": 14,
     "metadata": {},
     "output_type": "execute_result"
    }
   ],
   "source": [
    "#unique values and their Relative Frequency for Income_Category\n",
    "pd.DataFrame({\"Relative Frequency for Income_Category\": ccattr_data['Income_Category'].value_counts(normalize=True)})"
   ]
  },
  {
   "cell_type": "markdown",
   "metadata": {},
   "source": [
    "Income_Category has the value \"Unknown\". This needs to be treated."
   ]
  },
  {
   "cell_type": "code",
   "execution_count": 15,
   "metadata": {},
   "outputs": [
    {
     "data": {
      "text/html": [
       "<div>\n",
       "<style scoped>\n",
       "    .dataframe tbody tr th:only-of-type {\n",
       "        vertical-align: middle;\n",
       "    }\n",
       "\n",
       "    .dataframe tbody tr th {\n",
       "        vertical-align: top;\n",
       "    }\n",
       "\n",
       "    .dataframe thead th {\n",
       "        text-align: right;\n",
       "    }\n",
       "</style>\n",
       "<table border=\"1\" class=\"dataframe\">\n",
       "  <thead>\n",
       "    <tr style=\"text-align: right;\">\n",
       "      <th></th>\n",
       "      <th>Relative Frequency for Card_Category</th>\n",
       "    </tr>\n",
       "  </thead>\n",
       "  <tbody>\n",
       "    <tr>\n",
       "      <th>Blue</th>\n",
       "      <td>0.931767</td>\n",
       "    </tr>\n",
       "    <tr>\n",
       "      <th>Silver</th>\n",
       "      <td>0.054804</td>\n",
       "    </tr>\n",
       "    <tr>\n",
       "      <th>Gold</th>\n",
       "      <td>0.011455</td>\n",
       "    </tr>\n",
       "    <tr>\n",
       "      <th>Platinum</th>\n",
       "      <td>0.001975</td>\n",
       "    </tr>\n",
       "  </tbody>\n",
       "</table>\n",
       "</div>"
      ],
      "text/plain": [
       "          Relative Frequency for Card_Category\n",
       "Blue                                  0.931767\n",
       "Silver                                0.054804\n",
       "Gold                                  0.011455\n",
       "Platinum                              0.001975"
      ]
     },
     "execution_count": 15,
     "metadata": {},
     "output_type": "execute_result"
    }
   ],
   "source": [
    "#unique values and their Relative Frequency for Card_Category\n",
    "pd.DataFrame({\"Relative Frequency for Card_Category\": ccattr_data['Card_Category'].value_counts(normalize=True)})"
   ]
  },
  {
   "cell_type": "code",
   "execution_count": 16,
   "metadata": {},
   "outputs": [
    {
     "data": {
      "text/html": [
       "<div>\n",
       "<style scoped>\n",
       "    .dataframe tbody tr th:only-of-type {\n",
       "        vertical-align: middle;\n",
       "    }\n",
       "\n",
       "    .dataframe tbody tr th {\n",
       "        vertical-align: top;\n",
       "    }\n",
       "\n",
       "    .dataframe thead th {\n",
       "        text-align: right;\n",
       "    }\n",
       "</style>\n",
       "<table border=\"1\" class=\"dataframe\">\n",
       "  <thead>\n",
       "    <tr style=\"text-align: right;\">\n",
       "      <th></th>\n",
       "      <th>Relative Frequency for Dependent_count</th>\n",
       "    </tr>\n",
       "  </thead>\n",
       "  <tbody>\n",
       "    <tr>\n",
       "      <th>3</th>\n",
       "      <td>0.269774</td>\n",
       "    </tr>\n",
       "    <tr>\n",
       "      <th>2</th>\n",
       "      <td>0.262170</td>\n",
       "    </tr>\n",
       "    <tr>\n",
       "      <th>1</th>\n",
       "      <td>0.181495</td>\n",
       "    </tr>\n",
       "    <tr>\n",
       "      <th>4</th>\n",
       "      <td>0.155426</td>\n",
       "    </tr>\n",
       "    <tr>\n",
       "      <th>0</th>\n",
       "      <td>0.089266</td>\n",
       "    </tr>\n",
       "    <tr>\n",
       "      <th>5</th>\n",
       "      <td>0.041868</td>\n",
       "    </tr>\n",
       "  </tbody>\n",
       "</table>\n",
       "</div>"
      ],
      "text/plain": [
       "   Relative Frequency for Dependent_count\n",
       "3                                0.269774\n",
       "2                                0.262170\n",
       "1                                0.181495\n",
       "4                                0.155426\n",
       "0                                0.089266\n",
       "5                                0.041868"
      ]
     },
     "execution_count": 16,
     "metadata": {},
     "output_type": "execute_result"
    }
   ],
   "source": [
    "#unique values and their Relative Frequency for Dependent_count\n",
    "pd.DataFrame({\"Relative Frequency for Dependent_count\": ccattr_data['Dependent_count'].value_counts(normalize=True)})"
   ]
  },
  {
   "cell_type": "code",
   "execution_count": 17,
   "metadata": {},
   "outputs": [
    {
     "data": {
      "text/html": [
       "<div>\n",
       "<style scoped>\n",
       "    .dataframe tbody tr th:only-of-type {\n",
       "        vertical-align: middle;\n",
       "    }\n",
       "\n",
       "    .dataframe tbody tr th {\n",
       "        vertical-align: top;\n",
       "    }\n",
       "\n",
       "    .dataframe thead th {\n",
       "        text-align: right;\n",
       "    }\n",
       "</style>\n",
       "<table border=\"1\" class=\"dataframe\">\n",
       "  <thead>\n",
       "    <tr style=\"text-align: right;\">\n",
       "      <th></th>\n",
       "      <th>Relative Frequency for Total_Relationship_Count</th>\n",
       "    </tr>\n",
       "  </thead>\n",
       "  <tbody>\n",
       "    <tr>\n",
       "      <th>3</th>\n",
       "      <td>0.227609</td>\n",
       "    </tr>\n",
       "    <tr>\n",
       "      <th>4</th>\n",
       "      <td>0.188802</td>\n",
       "    </tr>\n",
       "    <tr>\n",
       "      <th>5</th>\n",
       "      <td>0.186729</td>\n",
       "    </tr>\n",
       "    <tr>\n",
       "      <th>6</th>\n",
       "      <td>0.184260</td>\n",
       "    </tr>\n",
       "    <tr>\n",
       "      <th>2</th>\n",
       "      <td>0.122741</td>\n",
       "    </tr>\n",
       "    <tr>\n",
       "      <th>1</th>\n",
       "      <td>0.089859</td>\n",
       "    </tr>\n",
       "  </tbody>\n",
       "</table>\n",
       "</div>"
      ],
      "text/plain": [
       "   Relative Frequency for Total_Relationship_Count\n",
       "3                                         0.227609\n",
       "4                                         0.188802\n",
       "5                                         0.186729\n",
       "6                                         0.184260\n",
       "2                                         0.122741\n",
       "1                                         0.089859"
      ]
     },
     "execution_count": 17,
     "metadata": {},
     "output_type": "execute_result"
    }
   ],
   "source": [
    "#unique values and their Relative Frequency for Total_Relationship_Count\n",
    "pd.DataFrame({\"Relative Frequency for Total_Relationship_Count\": ccattr_data['Total_Relationship_Count'].value_counts(normalize=True)})"
   ]
  },
  {
   "cell_type": "code",
   "execution_count": 18,
   "metadata": {},
   "outputs": [
    {
     "data": {
      "text/html": [
       "<div>\n",
       "<style scoped>\n",
       "    .dataframe tbody tr th:only-of-type {\n",
       "        vertical-align: middle;\n",
       "    }\n",
       "\n",
       "    .dataframe tbody tr th {\n",
       "        vertical-align: top;\n",
       "    }\n",
       "\n",
       "    .dataframe thead th {\n",
       "        text-align: right;\n",
       "    }\n",
       "</style>\n",
       "<table border=\"1\" class=\"dataframe\">\n",
       "  <thead>\n",
       "    <tr style=\"text-align: right;\">\n",
       "      <th></th>\n",
       "      <th>Relative Frequency for Months_Inactive_12_mon</th>\n",
       "    </tr>\n",
       "  </thead>\n",
       "  <tbody>\n",
       "    <tr>\n",
       "      <th>3</th>\n",
       "      <td>0.379777</td>\n",
       "    </tr>\n",
       "    <tr>\n",
       "      <th>2</th>\n",
       "      <td>0.324084</td>\n",
       "    </tr>\n",
       "    <tr>\n",
       "      <th>1</th>\n",
       "      <td>0.220500</td>\n",
       "    </tr>\n",
       "    <tr>\n",
       "      <th>4</th>\n",
       "      <td>0.042954</td>\n",
       "    </tr>\n",
       "    <tr>\n",
       "      <th>5</th>\n",
       "      <td>0.017577</td>\n",
       "    </tr>\n",
       "    <tr>\n",
       "      <th>6</th>\n",
       "      <td>0.012244</td>\n",
       "    </tr>\n",
       "    <tr>\n",
       "      <th>0</th>\n",
       "      <td>0.002864</td>\n",
       "    </tr>\n",
       "  </tbody>\n",
       "</table>\n",
       "</div>"
      ],
      "text/plain": [
       "   Relative Frequency for Months_Inactive_12_mon\n",
       "3                                       0.379777\n",
       "2                                       0.324084\n",
       "1                                       0.220500\n",
       "4                                       0.042954\n",
       "5                                       0.017577\n",
       "6                                       0.012244\n",
       "0                                       0.002864"
      ]
     },
     "execution_count": 18,
     "metadata": {},
     "output_type": "execute_result"
    }
   ],
   "source": [
    "#unique values and their Relative Frequency for Months_Inactive_12_mon\n",
    "pd.DataFrame({\"Relative Frequency for Months_Inactive_12_mon\": ccattr_data['Months_Inactive_12_mon'].value_counts(normalize=True)})"
   ]
  },
  {
   "cell_type": "code",
   "execution_count": 19,
   "metadata": {},
   "outputs": [
    {
     "data": {
      "text/html": [
       "<div>\n",
       "<style scoped>\n",
       "    .dataframe tbody tr th:only-of-type {\n",
       "        vertical-align: middle;\n",
       "    }\n",
       "\n",
       "    .dataframe tbody tr th {\n",
       "        vertical-align: top;\n",
       "    }\n",
       "\n",
       "    .dataframe thead th {\n",
       "        text-align: right;\n",
       "    }\n",
       "</style>\n",
       "<table border=\"1\" class=\"dataframe\">\n",
       "  <thead>\n",
       "    <tr style=\"text-align: right;\">\n",
       "      <th></th>\n",
       "      <th>Relative Frequency for Contacts_Count_12_mon</th>\n",
       "    </tr>\n",
       "  </thead>\n",
       "  <tbody>\n",
       "    <tr>\n",
       "      <th>3</th>\n",
       "      <td>0.379777</td>\n",
       "    </tr>\n",
       "    <tr>\n",
       "      <th>2</th>\n",
       "      <td>0.324084</td>\n",
       "    </tr>\n",
       "    <tr>\n",
       "      <th>1</th>\n",
       "      <td>0.220500</td>\n",
       "    </tr>\n",
       "    <tr>\n",
       "      <th>4</th>\n",
       "      <td>0.042954</td>\n",
       "    </tr>\n",
       "    <tr>\n",
       "      <th>5</th>\n",
       "      <td>0.017577</td>\n",
       "    </tr>\n",
       "    <tr>\n",
       "      <th>6</th>\n",
       "      <td>0.012244</td>\n",
       "    </tr>\n",
       "    <tr>\n",
       "      <th>0</th>\n",
       "      <td>0.002864</td>\n",
       "    </tr>\n",
       "  </tbody>\n",
       "</table>\n",
       "</div>"
      ],
      "text/plain": [
       "   Relative Frequency for Contacts_Count_12_mon\n",
       "3                                      0.379777\n",
       "2                                      0.324084\n",
       "1                                      0.220500\n",
       "4                                      0.042954\n",
       "5                                      0.017577\n",
       "6                                      0.012244\n",
       "0                                      0.002864"
      ]
     },
     "execution_count": 19,
     "metadata": {},
     "output_type": "execute_result"
    }
   ],
   "source": [
    "#unique values and their Relative Frequency for Contacts_Count_12_mon\n",
    "pd.DataFrame({\"Relative Frequency for Contacts_Count_12_mon\": ccattr_data['Months_Inactive_12_mon'].value_counts(normalize=True)})"
   ]
  },
  {
   "cell_type": "markdown",
   "metadata": {},
   "source": [
    "###### A casual inspection by eye reveals following\n",
    "* Total of 16% customers has attrited against 84% are still with bank.\n",
    "* Bank has both Male and Female are almost same number.\n",
    "* More customer are with education \"Graduate\", with \"Doctorate\" and \"Post Graduate\" are almost the same.\n",
    "* Blue card has more customers.\n",
    "* More customer stayed inactive for 3 months.\n",
    "* Education level,Income,martial status has Unknown category , this will have to be treated as missing value and will have to be imputed.\n",
    "\n"
   ]
  },
  {
   "cell_type": "markdown",
   "metadata": {},
   "source": [
    "**Fix the 'Education_Level', 'Marital_Status', 'Income_Category' according to the respective mode**"
   ]
  },
  {
   "cell_type": "code",
   "execution_count": 20,
   "metadata": {},
   "outputs": [
    {
     "data": {
      "image/png": "[encoded data removed]",
      "text/plain": [
       "<Figure size 720x432 with 1 Axes>"
      ]
     },
     "metadata": {
      "needs_background": "light"
     },
     "output_type": "display_data"
    }
   ],
   "source": [
    "plt.figure(figsize=(10,6))\n",
    "ccattr_data[\"Income_Category\"].hist(bins=12,color = \"salmon\")\n",
    "plt.xlabel('Income_Category')\n",
    "plt.ylabel('Count')\n",
    "plt.title('Distribution of Income Category');"
   ]
  },
  {
   "cell_type": "code",
   "execution_count": 21,
   "metadata": {},
   "outputs": [
    {
     "data": {
      "image/png": "[encoded data removed]",
      "text/plain": [
       "<Figure size 720x432 with 1 Axes>"
      ]
     },
     "metadata": {
      "needs_background": "light"
     },
     "output_type": "display_data"
    }
   ],
   "source": [
    "plt.figure(figsize=(10,6))\n",
    "ccattr_data[\"Education_Level\"].hist(bins=14,color = \"salmon\")\n",
    "plt.xlabel('Education_Level')\n",
    "plt.ylabel('Count')\n",
    "plt.title('Distribution of Education Level');"
   ]
  },
  {
   "cell_type": "code",
   "execution_count": 22,
   "metadata": {},
   "outputs": [
    {
     "data": {
      "image/png": "[encoded data removed]",
      "text/plain": [
       "<Figure size 720x432 with 1 Axes>"
      ]
     },
     "metadata": {
      "needs_background": "light"
     },
     "output_type": "display_data"
    }
   ],
   "source": [
    "plt.figure(figsize=(10,6))\n",
    "ccattr_data[\"Marital_Status\"].hist(bins=7,color = \"salmon\")\n",
    "plt.xlabel('Marital_Status')\n",
    "plt.ylabel('Count')\n",
    "plt.title('Distribution of Education Level');"
   ]
  },
  {
   "cell_type": "markdown",
   "metadata": {},
   "source": [
    "**Check for \"Unknown\" values with 'Education_Level', 'Marital_Status', 'Income_Category'**"
   ]
  },
  {
   "cell_type": "code",
   "execution_count": 23,
   "metadata": {},
   "outputs": [],
   "source": [
    "col = ccattr_data['Income_Category']\n",
    "mode = col.mode()[0]\n",
    "ccattr_data.loc[ccattr_data['Income_Category'] == 'Unknown', 'Income_Category'] = mode\n",
    "\n",
    "col = ccattr_data['Education_Level']\n",
    "mode = col.mode()[0]\n",
    "ccattr_data.loc[ccattr_data['Education_Level'] == 'Unknown', 'Education_Level'] = mode\n",
    "\n",
    "col = ccattr_data['Marital_Status']\n",
    "mode = col.mode()[0]\n",
    "ccattr_data.loc[ccattr_data['Marital_Status'] == 'Unknown', 'Marital_Status'] = mode"
   ]
  },
  {
   "cell_type": "code",
   "execution_count": 24,
   "metadata": {},
   "outputs": [
    {
     "name": "stdout",
     "output_type": "stream",
     "text": [
      "-------------------------\n",
      "Feature: Education_Level\n",
      "-------------------------\n",
      "               Counts\n",
      "Graduate         4647\n",
      "High School      2013\n",
      "Uneducated       1487\n",
      "College          1013\n",
      "Post-Graduate     516\n",
      "Doctorate         451\n",
      "-------------------------\n",
      "-------------------------\n",
      "Feature: Marital_Status\n",
      "-------------------------\n",
      "          Counts\n",
      "Married     5436\n",
      "Single      3943\n",
      "Divorced     748\n",
      "-------------------------\n",
      "-------------------------\n",
      "Feature: Income_Category\n",
      "-------------------------\n",
      "                Counts\n",
      "Less than $40K    4673\n",
      "$40K - $60K       1790\n",
      "$80K - $120K      1535\n",
      "$60K - $80K       1402\n",
      "$120K +            727\n",
      "-------------------------\n"
     ]
    }
   ],
   "source": [
    "CCAttr_cols = ['Education_Level', 'Marital_Status', 'Income_Category']\n",
    "for col in CCAttr_cols:\n",
    "    print(\"-\"*25)\n",
    "    print(f\"Feature: {col}\")\n",
    "    print(\"-\"*25)\n",
    "    print(pd.DataFrame({\"Counts\": ccattr_data[col].value_counts(dropna=False)}).\n",
    "          sort_values(by='Counts', ascending=False))\n",
    "    print(\"-\"*25)"
   ]
  },
  {
   "cell_type": "markdown",
   "metadata": {},
   "source": [
    "All looks good, there is No \"Unknown\" values."
   ]
  },
  {
   "cell_type": "markdown",
   "metadata": {},
   "source": [
    "### Numeric Features<a id='Numeric_Features'></a>"
   ]
  },
  {
   "cell_type": "code",
   "execution_count": 25,
   "metadata": {},
   "outputs": [
    {
     "data": {
      "text/html": [
       "<div>\n",
       "<style scoped>\n",
       "    .dataframe tbody tr th:only-of-type {\n",
       "        vertical-align: middle;\n",
       "    }\n",
       "\n",
       "    .dataframe tbody tr th {\n",
       "        vertical-align: top;\n",
       "    }\n",
       "\n",
       "    .dataframe thead th {\n",
       "        text-align: right;\n",
       "    }\n",
       "</style>\n",
       "<table border=\"1\" class=\"dataframe\">\n",
       "  <thead>\n",
       "    <tr style=\"text-align: right;\">\n",
       "      <th></th>\n",
       "      <th>count</th>\n",
       "      <th>mean</th>\n",
       "      <th>std</th>\n",
       "      <th>min</th>\n",
       "      <th>25%</th>\n",
       "      <th>50%</th>\n",
       "      <th>75%</th>\n",
       "      <th>max</th>\n",
       "    </tr>\n",
       "  </thead>\n",
       "  <tbody>\n",
       "    <tr>\n",
       "      <th>CLIENTNUM</th>\n",
       "      <td>10127.0</td>\n",
       "      <td>7.391776e+08</td>\n",
       "      <td>3.690378e+07</td>\n",
       "      <td>7.080821e+08</td>\n",
       "      <td>7.130368e+08</td>\n",
       "      <td>7.179264e+08</td>\n",
       "      <td>7.731435e+08</td>\n",
       "      <td>8.283431e+08</td>\n",
       "    </tr>\n",
       "    <tr>\n",
       "      <th>Customer_Age</th>\n",
       "      <td>10127.0</td>\n",
       "      <td>4.632596e+01</td>\n",
       "      <td>8.016814e+00</td>\n",
       "      <td>2.600000e+01</td>\n",
       "      <td>4.100000e+01</td>\n",
       "      <td>4.600000e+01</td>\n",
       "      <td>5.200000e+01</td>\n",
       "      <td>7.300000e+01</td>\n",
       "    </tr>\n",
       "    <tr>\n",
       "      <th>Dependent_count</th>\n",
       "      <td>10127.0</td>\n",
       "      <td>2.346203e+00</td>\n",
       "      <td>1.298908e+00</td>\n",
       "      <td>0.000000e+00</td>\n",
       "      <td>1.000000e+00</td>\n",
       "      <td>2.000000e+00</td>\n",
       "      <td>3.000000e+00</td>\n",
       "      <td>5.000000e+00</td>\n",
       "    </tr>\n",
       "    <tr>\n",
       "      <th>Months_on_book</th>\n",
       "      <td>10127.0</td>\n",
       "      <td>3.592841e+01</td>\n",
       "      <td>7.986416e+00</td>\n",
       "      <td>1.300000e+01</td>\n",
       "      <td>3.100000e+01</td>\n",
       "      <td>3.600000e+01</td>\n",
       "      <td>4.000000e+01</td>\n",
       "      <td>5.600000e+01</td>\n",
       "    </tr>\n",
       "    <tr>\n",
       "      <th>Total_Relationship_Count</th>\n",
       "      <td>10127.0</td>\n",
       "      <td>3.812580e+00</td>\n",
       "      <td>1.554408e+00</td>\n",
       "      <td>1.000000e+00</td>\n",
       "      <td>3.000000e+00</td>\n",
       "      <td>4.000000e+00</td>\n",
       "      <td>5.000000e+00</td>\n",
       "      <td>6.000000e+00</td>\n",
       "    </tr>\n",
       "    <tr>\n",
       "      <th>Months_Inactive_12_mon</th>\n",
       "      <td>10127.0</td>\n",
       "      <td>2.341167e+00</td>\n",
       "      <td>1.010622e+00</td>\n",
       "      <td>0.000000e+00</td>\n",
       "      <td>2.000000e+00</td>\n",
       "      <td>2.000000e+00</td>\n",
       "      <td>3.000000e+00</td>\n",
       "      <td>6.000000e+00</td>\n",
       "    </tr>\n",
       "    <tr>\n",
       "      <th>Contacts_Count_12_mon</th>\n",
       "      <td>10127.0</td>\n",
       "      <td>2.455317e+00</td>\n",
       "      <td>1.106225e+00</td>\n",
       "      <td>0.000000e+00</td>\n",
       "      <td>2.000000e+00</td>\n",
       "      <td>2.000000e+00</td>\n",
       "      <td>3.000000e+00</td>\n",
       "      <td>6.000000e+00</td>\n",
       "    </tr>\n",
       "    <tr>\n",
       "      <th>Credit_Limit</th>\n",
       "      <td>10127.0</td>\n",
       "      <td>8.631954e+03</td>\n",
       "      <td>9.088777e+03</td>\n",
       "      <td>1.438300e+03</td>\n",
       "      <td>2.555000e+03</td>\n",
       "      <td>4.549000e+03</td>\n",
       "      <td>1.106750e+04</td>\n",
       "      <td>3.451600e+04</td>\n",
       "    </tr>\n",
       "    <tr>\n",
       "      <th>Total_Revolving_Bal</th>\n",
       "      <td>10127.0</td>\n",
       "      <td>1.162814e+03</td>\n",
       "      <td>8.149873e+02</td>\n",
       "      <td>0.000000e+00</td>\n",
       "      <td>3.590000e+02</td>\n",
       "      <td>1.276000e+03</td>\n",
       "      <td>1.784000e+03</td>\n",
       "      <td>2.517000e+03</td>\n",
       "    </tr>\n",
       "    <tr>\n",
       "      <th>Avg_Open_To_Buy</th>\n",
       "      <td>10127.0</td>\n",
       "      <td>7.469140e+03</td>\n",
       "      <td>9.090685e+03</td>\n",
       "      <td>3.000000e+00</td>\n",
       "      <td>1.324500e+03</td>\n",
       "      <td>3.474000e+03</td>\n",
       "      <td>9.859000e+03</td>\n",
       "      <td>3.451600e+04</td>\n",
       "    </tr>\n",
       "    <tr>\n",
       "      <th>Total_Amt_Chng_Q4_Q1</th>\n",
       "      <td>10127.0</td>\n",
       "      <td>7.599407e-01</td>\n",
       "      <td>2.192068e-01</td>\n",
       "      <td>0.000000e+00</td>\n",
       "      <td>6.310000e-01</td>\n",
       "      <td>7.360000e-01</td>\n",
       "      <td>8.590000e-01</td>\n",
       "      <td>3.397000e+00</td>\n",
       "    </tr>\n",
       "    <tr>\n",
       "      <th>Total_Trans_Amt</th>\n",
       "      <td>10127.0</td>\n",
       "      <td>4.404086e+03</td>\n",
       "      <td>3.397129e+03</td>\n",
       "      <td>5.100000e+02</td>\n",
       "      <td>2.155500e+03</td>\n",
       "      <td>3.899000e+03</td>\n",
       "      <td>4.741000e+03</td>\n",
       "      <td>1.848400e+04</td>\n",
       "    </tr>\n",
       "    <tr>\n",
       "      <th>Total_Trans_Ct</th>\n",
       "      <td>10127.0</td>\n",
       "      <td>6.485869e+01</td>\n",
       "      <td>2.347257e+01</td>\n",
       "      <td>1.000000e+01</td>\n",
       "      <td>4.500000e+01</td>\n",
       "      <td>6.700000e+01</td>\n",
       "      <td>8.100000e+01</td>\n",
       "      <td>1.390000e+02</td>\n",
       "    </tr>\n",
       "    <tr>\n",
       "      <th>Total_Ct_Chng_Q4_Q1</th>\n",
       "      <td>10127.0</td>\n",
       "      <td>7.122224e-01</td>\n",
       "      <td>2.380861e-01</td>\n",
       "      <td>0.000000e+00</td>\n",
       "      <td>5.820000e-01</td>\n",
       "      <td>7.020000e-01</td>\n",
       "      <td>8.180000e-01</td>\n",
       "      <td>3.714000e+00</td>\n",
       "    </tr>\n",
       "    <tr>\n",
       "      <th>Avg_Utilization_Ratio</th>\n",
       "      <td>10127.0</td>\n",
       "      <td>2.748936e-01</td>\n",
       "      <td>2.756915e-01</td>\n",
       "      <td>0.000000e+00</td>\n",
       "      <td>2.300000e-02</td>\n",
       "      <td>1.760000e-01</td>\n",
       "      <td>5.030000e-01</td>\n",
       "      <td>9.990000e-01</td>\n",
       "    </tr>\n",
       "    <tr>\n",
       "      <th>naive_cls1</th>\n",
       "      <td>10127.0</td>\n",
       "      <td>1.599975e-01</td>\n",
       "      <td>3.653010e-01</td>\n",
       "      <td>7.664200e-06</td>\n",
       "      <td>9.898300e-05</td>\n",
       "      <td>1.814600e-04</td>\n",
       "      <td>3.373000e-04</td>\n",
       "      <td>9.995800e-01</td>\n",
       "    </tr>\n",
       "    <tr>\n",
       "      <th>naive_cls2</th>\n",
       "      <td>10127.0</td>\n",
       "      <td>8.400026e-01</td>\n",
       "      <td>3.653010e-01</td>\n",
       "      <td>4.199800e-04</td>\n",
       "      <td>9.996600e-01</td>\n",
       "      <td>9.998200e-01</td>\n",
       "      <td>9.999000e-01</td>\n",
       "      <td>9.999900e-01</td>\n",
       "    </tr>\n",
       "  </tbody>\n",
       "</table>\n",
       "</div>"
      ],
      "text/plain": [
       "                            count          mean           std           min  \\\n",
       "CLIENTNUM                 10127.0  7.391776e+08  3.690378e+07  7.080821e+08   \n",
       "Customer_Age              10127.0  4.632596e+01  8.016814e+00  2.600000e+01   \n",
       "Dependent_count           10127.0  2.346203e+00  1.298908e+00  0.000000e+00   \n",
       "Months_on_book            10127.0  3.592841e+01  7.986416e+00  1.300000e+01   \n",
       "Total_Relationship_Count  10127.0  3.812580e+00  1.554408e+00  1.000000e+00   \n",
       "Months_Inactive_12_mon    10127.0  2.341167e+00  1.010622e+00  0.000000e+00   \n",
       "Contacts_Count_12_mon     10127.0  2.455317e+00  1.106225e+00  0.000000e+00   \n",
       "Credit_Limit              10127.0  8.631954e+03  9.088777e+03  1.438300e+03   \n",
       "Total_Revolving_Bal       10127.0  1.162814e+03  8.149873e+02  0.000000e+00   \n",
       "Avg_Open_To_Buy           10127.0  7.469140e+03  9.090685e+03  3.000000e+00   \n",
       "Total_Amt_Chng_Q4_Q1      10127.0  7.599407e-01  2.192068e-01  0.000000e+00   \n",
       "Total_Trans_Amt           10127.0  4.404086e+03  3.397129e+03  5.100000e+02   \n",
       "Total_Trans_Ct            10127.0  6.485869e+01  2.347257e+01  1.000000e+01   \n",
       "Total_Ct_Chng_Q4_Q1       10127.0  7.122224e-01  2.380861e-01  0.000000e+00   \n",
       "Avg_Utilization_Ratio     10127.0  2.748936e-01  2.756915e-01  0.000000e+00   \n",
       "naive_cls1                10127.0  1.599975e-01  3.653010e-01  7.664200e-06   \n",
       "naive_cls2                10127.0  8.400026e-01  3.653010e-01  4.199800e-04   \n",
       "\n",
       "                                   25%           50%           75%  \\\n",
       "CLIENTNUM                 7.130368e+08  7.179264e+08  7.731435e+08   \n",
       "Customer_Age              4.100000e+01  4.600000e+01  5.200000e+01   \n",
       "Dependent_count           1.000000e+00  2.000000e+00  3.000000e+00   \n",
       "Months_on_book            3.100000e+01  3.600000e+01  4.000000e+01   \n",
       "Total_Relationship_Count  3.000000e+00  4.000000e+00  5.000000e+00   \n",
       "Months_Inactive_12_mon    2.000000e+00  2.000000e+00  3.000000e+00   \n",
       "Contacts_Count_12_mon     2.000000e+00  2.000000e+00  3.000000e+00   \n",
       "Credit_Limit              2.555000e+03  4.549000e+03  1.106750e+04   \n",
       "Total_Revolving_Bal       3.590000e+02  1.276000e+03  1.784000e+03   \n",
       "Avg_Open_To_Buy           1.324500e+03  3.474000e+03  9.859000e+03   \n",
       "Total_Amt_Chng_Q4_Q1      6.310000e-01  7.360000e-01  8.590000e-01   \n",
       "Total_Trans_Amt           2.155500e+03  3.899000e+03  4.741000e+03   \n",
       "Total_Trans_Ct            4.500000e+01  6.700000e+01  8.100000e+01   \n",
       "Total_Ct_Chng_Q4_Q1       5.820000e-01  7.020000e-01  8.180000e-01   \n",
       "Avg_Utilization_Ratio     2.300000e-02  1.760000e-01  5.030000e-01   \n",
       "naive_cls1                9.898300e-05  1.814600e-04  3.373000e-04   \n",
       "naive_cls2                9.996600e-01  9.998200e-01  9.999000e-01   \n",
       "\n",
       "                                   max  \n",
       "CLIENTNUM                 8.283431e+08  \n",
       "Customer_Age              7.300000e+01  \n",
       "Dependent_count           5.000000e+00  \n",
       "Months_on_book            5.600000e+01  \n",
       "Total_Relationship_Count  6.000000e+00  \n",
       "Months_Inactive_12_mon    6.000000e+00  \n",
       "Contacts_Count_12_mon     6.000000e+00  \n",
       "Credit_Limit              3.451600e+04  \n",
       "Total_Revolving_Bal       2.517000e+03  \n",
       "Avg_Open_To_Buy           3.451600e+04  \n",
       "Total_Amt_Chng_Q4_Q1      3.397000e+00  \n",
       "Total_Trans_Amt           1.848400e+04  \n",
       "Total_Trans_Ct            1.390000e+02  \n",
       "Total_Ct_Chng_Q4_Q1       3.714000e+00  \n",
       "Avg_Utilization_Ratio     9.990000e-01  \n",
       "naive_cls1                9.995800e-01  \n",
       "naive_cls2                9.999900e-01  "
      ]
     },
     "execution_count": 25,
     "metadata": {},
     "output_type": "execute_result"
    }
   ],
   "source": [
    "#Call sccattr_data's `describe` method for a statistical summary of the numerical columns\n",
    "ccattr_data.describe().T"
   ]
  },
  {
   "cell_type": "markdown",
   "metadata": {},
   "source": [
    "Since there is no missing values, these data appears to be good and valid."
   ]
  },
  {
   "cell_type": "markdown",
   "metadata": {},
   "source": [
    "### Feature Scaling<a id='Feature_Scaling'></a>"
   ]
  },
  {
   "cell_type": "markdown",
   "metadata": {},
   "source": [
    "Change \"Existing customer\" to 0 and \"Attrited Customer\" to 1 and add to new column 'Attrition_Numeric'."
   ]
  },
  {
   "cell_type": "code",
   "execution_count": 26,
   "metadata": {},
   "outputs": [],
   "source": [
    "ccattr_data['Attrition_Numeric'] = ccattr_data['Attrition_Flag'].map({'Existing Customer':0,\"Attrited Customer\":1})"
   ]
  },
  {
   "cell_type": "code",
   "execution_count": 27,
   "metadata": {},
   "outputs": [
    {
     "data": {
      "text/plain": [
       "(10127, 24)"
      ]
     },
     "execution_count": 27,
     "metadata": {},
     "output_type": "execute_result"
    }
   ],
   "source": [
    "ccattr_data.shape"
   ]
  },
  {
   "cell_type": "markdown",
   "metadata": {},
   "source": [
    "### Outlier Detection<a id='Outlier_detection'></a>"
   ]
  },
  {
   "cell_type": "markdown",
   "metadata": {},
   "source": [
    "Z-Score Scaling - number of standard deviations away from the mean\n",
    "\n",
    "Formula for Z-score = (Observations - Mean)/Standard Deviation"
   ]
  },
  {
   "cell_type": "code",
   "execution_count": 28,
   "metadata": {},
   "outputs": [],
   "source": [
    "def calczScore(col_name):\n",
    "    col_mean = ccattr_data[col_name].mean()\n",
    "    col_std = ccattr_data[col_name].std(ddof=0)\n",
    "    new_col_name = col_name + \"_zScore\"\n",
    "    ccattr_data[new_col_name] = (ccattr_data[col_name]-col_mean)/col_std"
   ]
  },
  {
   "cell_type": "code",
   "execution_count": 29,
   "metadata": {},
   "outputs": [],
   "source": [
    "zScoreCol={\"Customer_Age\",\"Months_on_book\",\"Total_Trans_Amt\"}\n",
    "\n",
    "for col in zScoreCol:\n",
    "    calczScore(col)"
   ]
  },
  {
   "cell_type": "code",
   "execution_count": 30,
   "metadata": {},
   "outputs": [
    {
     "data": {
      "text/html": [
       "<div>\n",
       "<style scoped>\n",
       "    .dataframe tbody tr th:only-of-type {\n",
       "        vertical-align: middle;\n",
       "    }\n",
       "\n",
       "    .dataframe tbody tr th {\n",
       "        vertical-align: top;\n",
       "    }\n",
       "\n",
       "    .dataframe thead th {\n",
       "        text-align: right;\n",
       "    }\n",
       "</style>\n",
       "<table border=\"1\" class=\"dataframe\">\n",
       "  <thead>\n",
       "    <tr style=\"text-align: right;\">\n",
       "      <th></th>\n",
       "      <th>Customer_Age_zScore</th>\n",
       "      <th>Total_Trans_Amt_zScore</th>\n",
       "      <th>Months_on_book_zScore</th>\n",
       "    </tr>\n",
       "  </thead>\n",
       "  <tbody>\n",
       "    <tr>\n",
       "      <th>0</th>\n",
       "      <td>-0.165406</td>\n",
       "      <td>-0.959707</td>\n",
       "      <td>0.384621</td>\n",
       "    </tr>\n",
       "    <tr>\n",
       "      <th>1</th>\n",
       "      <td>0.333570</td>\n",
       "      <td>-0.916433</td>\n",
       "      <td>1.010715</td>\n",
       "    </tr>\n",
       "    <tr>\n",
       "      <th>2</th>\n",
       "      <td>0.583058</td>\n",
       "      <td>-0.740982</td>\n",
       "      <td>0.008965</td>\n",
       "    </tr>\n",
       "    <tr>\n",
       "      <th>3</th>\n",
       "      <td>-0.789126</td>\n",
       "      <td>-0.951758</td>\n",
       "      <td>-0.241473</td>\n",
       "    </tr>\n",
       "    <tr>\n",
       "      <th>4</th>\n",
       "      <td>-0.789126</td>\n",
       "      <td>-1.056263</td>\n",
       "      <td>-1.869317</td>\n",
       "    </tr>\n",
       "  </tbody>\n",
       "</table>\n",
       "</div>"
      ],
      "text/plain": [
       "   Customer_Age_zScore  Total_Trans_Amt_zScore  Months_on_book_zScore\n",
       "0            -0.165406               -0.959707               0.384621\n",
       "1             0.333570               -0.916433               1.010715\n",
       "2             0.583058               -0.740982               0.008965\n",
       "3            -0.789126               -0.951758              -0.241473\n",
       "4            -0.789126               -1.056263              -1.869317"
      ]
     },
     "execution_count": 30,
     "metadata": {},
     "output_type": "execute_result"
    }
   ],
   "source": [
    "ccattr_data[['Customer_Age_zScore','Total_Trans_Amt_zScore', 'Months_on_book_zScore']].head()"
   ]
  },
  {
   "cell_type": "code",
   "execution_count": 31,
   "metadata": {},
   "outputs": [
    {
     "data": {
      "text/plain": [
       "(10127, 27)"
      ]
     },
     "execution_count": 31,
     "metadata": {},
     "output_type": "execute_result"
    }
   ],
   "source": [
    "ccattr_data.shape"
   ]
  },
  {
   "cell_type": "markdown",
   "metadata": {},
   "source": [
    "**Detecting Outliers using z-score with threshold value 3**"
   ]
  },
  {
   "cell_type": "code",
   "execution_count": 32,
   "metadata": {},
   "outputs": [
    {
     "data": {
      "text/plain": [
       "0"
      ]
     },
     "execution_count": 32,
     "metadata": {},
     "output_type": "execute_result"
    }
   ],
   "source": [
    "ccattr_data[ccattr_data[\"Months_on_book_zScore\"]>3][\"Months_on_book_zScore\"].count()"
   ]
  },
  {
   "cell_type": "code",
   "execution_count": 33,
   "metadata": {},
   "outputs": [
    {
     "data": {
      "text/plain": [
       "1"
      ]
     },
     "execution_count": 33,
     "metadata": {},
     "output_type": "execute_result"
    }
   ],
   "source": [
    "ccattr_data[ccattr_data[\"Customer_Age_zScore\"]>3][\"Customer_Age_zScore\"].count()"
   ]
  },
  {
   "cell_type": "code",
   "execution_count": 34,
   "metadata": {},
   "outputs": [
    {
     "data": {
      "text/plain": [
       "391"
      ]
     },
     "execution_count": 34,
     "metadata": {},
     "output_type": "execute_result"
    }
   ],
   "source": [
    "ccattr_data[ccattr_data[\"Total_Trans_Amt_zScore\"]>3][\"Total_Trans_Amt_zScore\"].count()"
   ]
  },
  {
   "cell_type": "markdown",
   "metadata": {},
   "source": [
    "There are 391 outliers for Total_Trans_Amt, and none for Months_on_book"
   ]
  },
  {
   "cell_type": "markdown",
   "metadata": {},
   "source": [
    "**Outlier detection using Median**"
   ]
  },
  {
   "cell_type": "code",
   "execution_count": 35,
   "metadata": {},
   "outputs": [],
   "source": [
    "def calczScore(col_name):\n",
    "    col_median = ccattr_data[col_name].median()\n",
    "    new_col_name = col_name + \"_divMedian\"\n",
    "    ccattr_data[new_col_name] = ccattr_data[col_name]/col_median"
   ]
  },
  {
   "cell_type": "code",
   "execution_count": 36,
   "metadata": {},
   "outputs": [],
   "source": [
    "medianCol={\"Credit_Limit\",\"Total_Trans_Amt\",\"Total_Revolving_Bal\",\"Avg_Open_To_Buy\",\"Total_Trans_Amt\",\"Total_Ct_Chng_Q4_Q1\",\"Total_Amt_Chng_Q4_Q1\",\"Avg_Utilization_Ratio\"}\n",
    "\n",
    "for col in medianCol:\n",
    "    calczScore(col)"
   ]
  },
  {
   "cell_type": "code",
   "execution_count": 37,
   "metadata": {},
   "outputs": [
    {
     "data": {
      "text/plain": [
       "(10127, 34)"
      ]
     },
     "execution_count": 37,
     "metadata": {},
     "output_type": "execute_result"
    }
   ],
   "source": [
    "ccattr_data.shape"
   ]
  },
  {
   "cell_type": "code",
   "execution_count": 38,
   "metadata": {},
   "outputs": [
    {
     "data": {
      "text/html": [
       "<div>\n",
       "<style scoped>\n",
       "    .dataframe tbody tr th:only-of-type {\n",
       "        vertical-align: middle;\n",
       "    }\n",
       "\n",
       "    .dataframe tbody tr th {\n",
       "        vertical-align: top;\n",
       "    }\n",
       "\n",
       "    .dataframe thead th {\n",
       "        text-align: right;\n",
       "    }\n",
       "</style>\n",
       "<table border=\"1\" class=\"dataframe\">\n",
       "  <thead>\n",
       "    <tr style=\"text-align: right;\">\n",
       "      <th></th>\n",
       "      <th>Total_Revolving_Bal_divMedian</th>\n",
       "      <th>Credit_Limit_divMedian</th>\n",
       "      <th>Total_Ct_Chng_Q4_Q1_divMedian</th>\n",
       "      <th>Total_Amt_Chng_Q4_Q1_divMedian</th>\n",
       "      <th>Total_Trans_Amt_divMedian</th>\n",
       "      <th>Avg_Open_To_Buy_divMedian</th>\n",
       "      <th>Avg_Utilization_Ratio_divMedian</th>\n",
       "    </tr>\n",
       "  </thead>\n",
       "  <tbody>\n",
       "    <tr>\n",
       "      <th>0</th>\n",
       "      <td>0.608934</td>\n",
       "      <td>2.789844</td>\n",
       "      <td>2.314815</td>\n",
       "      <td>1.813859</td>\n",
       "      <td>0.293409</td>\n",
       "      <td>3.429476</td>\n",
       "      <td>0.346591</td>\n",
       "    </tr>\n",
       "    <tr>\n",
       "      <th>1</th>\n",
       "      <td>0.677116</td>\n",
       "      <td>1.814904</td>\n",
       "      <td>5.290598</td>\n",
       "      <td>2.093750</td>\n",
       "      <td>0.331111</td>\n",
       "      <td>2.127807</td>\n",
       "      <td>0.596591</td>\n",
       "    </tr>\n",
       "    <tr>\n",
       "      <th>2</th>\n",
       "      <td>0.000000</td>\n",
       "      <td>0.751374</td>\n",
       "      <td>3.323362</td>\n",
       "      <td>3.524457</td>\n",
       "      <td>0.483970</td>\n",
       "      <td>0.983880</td>\n",
       "      <td>0.000000</td>\n",
       "    </tr>\n",
       "    <tr>\n",
       "      <th>3</th>\n",
       "      <td>1.972571</td>\n",
       "      <td>0.728292</td>\n",
       "      <td>3.323362</td>\n",
       "      <td>1.908967</td>\n",
       "      <td>0.300333</td>\n",
       "      <td>0.229131</td>\n",
       "      <td>4.318182</td>\n",
       "    </tr>\n",
       "    <tr>\n",
       "      <th>4</th>\n",
       "      <td>0.000000</td>\n",
       "      <td>1.036711</td>\n",
       "      <td>3.561254</td>\n",
       "      <td>2.955163</td>\n",
       "      <td>0.209284</td>\n",
       "      <td>1.357513</td>\n",
       "      <td>0.000000</td>\n",
       "    </tr>\n",
       "  </tbody>\n",
       "</table>\n",
       "</div>"
      ],
      "text/plain": [
       "   Total_Revolving_Bal_divMedian  Credit_Limit_divMedian  \\\n",
       "0                       0.608934                2.789844   \n",
       "1                       0.677116                1.814904   \n",
       "2                       0.000000                0.751374   \n",
       "3                       1.972571                0.728292   \n",
       "4                       0.000000                1.036711   \n",
       "\n",
       "   Total_Ct_Chng_Q4_Q1_divMedian  Total_Amt_Chng_Q4_Q1_divMedian  \\\n",
       "0                       2.314815                        1.813859   \n",
       "1                       5.290598                        2.093750   \n",
       "2                       3.323362                        3.524457   \n",
       "3                       3.323362                        1.908967   \n",
       "4                       3.561254                        2.955163   \n",
       "\n",
       "   Total_Trans_Amt_divMedian  Avg_Open_To_Buy_divMedian  \\\n",
       "0                   0.293409                   3.429476   \n",
       "1                   0.331111                   2.127807   \n",
       "2                   0.483970                   0.983880   \n",
       "3                   0.300333                   0.229131   \n",
       "4                   0.209284                   1.357513   \n",
       "\n",
       "   Avg_Utilization_Ratio_divMedian  \n",
       "0                         0.346591  \n",
       "1                         0.596591  \n",
       "2                         0.000000  \n",
       "3                         4.318182  \n",
       "4                         0.000000  "
      ]
     },
     "execution_count": 38,
     "metadata": {},
     "output_type": "execute_result"
    }
   ],
   "source": [
    "ccattr_data[['Total_Revolving_Bal_divMedian', 'Credit_Limit_divMedian','Total_Ct_Chng_Q4_Q1_divMedian', 'Total_Amt_Chng_Q4_Q1_divMedian',\n",
    "       'Total_Trans_Amt_divMedian', 'Avg_Open_To_Buy_divMedian',\n",
    "       'Avg_Utilization_Ratio_divMedian']].head()"
   ]
  },
  {
   "cell_type": "code",
   "execution_count": 39,
   "metadata": {},
   "outputs": [],
   "source": [
    "def outlier_inspect(df, col):\n",
    "    fig = plt.figure(figsize=(20, 6))\n",
    "    fig.suptitle(col, fontsize=16)\n",
    "    sns.set_theme(style=\"ticks\")\n",
    "    sns.histplot(x=df[col], kde=True, bins = 50,color=\"crimson\")\n",
    "    plt.show()"
   ]
  },
  {
   "cell_type": "code",
   "execution_count": null,
   "metadata": {},
   "outputs": [
    {
     "data": {
      "image/png": "[encoded data removed]",
      "text/plain": [
       "<Figure size 1440x432 with 1 Axes>"
      ]
     },
     "metadata": {
      "needs_background": "light"
     },
     "output_type": "display_data"
    },
    {
     "data": {
      "image/png": "[encoded data removed]",
      "text/plain": [
       "<Figure size 1440x432 with 1 Axes>"
      ]
     },
     "metadata": {},
     "output_type": "display_data"
    },
    {
     "data": {
      "image/png": "[encoded data removed]",
      "text/plain": [
       "<Figure size 1440x432 with 1 Axes>"
      ]
     },
     "metadata": {},
     "output_type": "display_data"
    },
    {
     "data": {
      "image/png": "[encoded data removed]",
      "text/plain": [
       "<Figure size 1440x432 with 1 Axes>"
      ]
     },
     "metadata": {},
     "output_type": "display_data"
    },
    {
     "data": {
      "image/png": "[encoded data removed]",
      "text/plain": [
       "<Figure size 1440x432 with 1 Axes>"
      ]
     },
     "metadata": {},
     "output_type": "display_data"
    },
    {
     "data": {
      "image/png": "[encoded data removed]",
      "text/plain": [
       "<Figure size 1440x432 with 1 Axes>"
      ]
     },
     "metadata": {},
     "output_type": "display_data"
    }
   ],
   "source": [
    "list_col=  ['Total_Revolving_Bal_divMedian', 'Credit_Limit_divMedian','Total_Ct_Chng_Q4_Q1_divMedian', \n",
    "            'Total_Amt_Chng_Q4_Q1_divMedian','Total_Trans_Amt_divMedian', 'Avg_Open_To_Buy_divMedian',\n",
    "            'Avg_Utilization_Ratio_divMedian']\n",
    "for col in list_col:\n",
    "      outlier_inspect(ccattr_data,col)"
   ]
  },
  {
   "cell_type": "markdown",
   "metadata": {},
   "source": [
    "These features Skewed to right.\n",
    "* Credit Limit -Credit Limit on the Credit Card\n",
    "* Total_Trans_Amt -Total Transaction Amount in Last 12 months\n",
    "\n",
    "\n",
    "These features appears distributed normally\n",
    "* Total_Ct_Chng_Q4_Q1 -Ratio of the total transaction count in 4th quarter and 1st quarter\n",
    "* Total_Amt_Chng_Q4_Q1 -Ratio of the total transaction amount in 4th quarter and 1st quarter"
   ]
  },
  {
   "cell_type": "code",
   "execution_count": null,
   "metadata": {},
   "outputs": [],
   "source": [
    "ccattr_data[\"Credit_Limit_log\"] = np.log(ccattr_data[\"Credit_Limit\"])"
   ]
  },
  {
   "cell_type": "code",
   "execution_count": null,
   "metadata": {},
   "outputs": [],
   "source": [
    "ccattr_data.shape"
   ]
  },
  {
   "cell_type": "code",
   "execution_count": null,
   "metadata": {},
   "outputs": [],
   "source": [
    "ccattr_data.head()"
   ]
  },
  {
   "cell_type": "markdown",
   "metadata": {},
   "source": [
    "#### Distributions Of Feature Values<a id='Distributions_Of_Feature_Values'></a>"
   ]
  },
  {
   "cell_type": "code",
   "execution_count": null,
   "metadata": {},
   "outputs": [],
   "source": [
    "ccattr_data.hist(figsize=(15, 10),color = \"darkgoldenrod\")\n",
    "plt.subplots_adjust(hspace=0.5);"
   ]
  },
  {
   "cell_type": "markdown",
   "metadata": {},
   "source": [
    "Features have possible cause for concern about and why?\n",
    "* naive_cls1- because values are clustered down the low end.\n",
    "* naive_cls1- because values are clustered down the high end."
   ]
  },
  {
   "cell_type": "markdown",
   "metadata": {},
   "source": [
    "##  Target Feature<a id='Target_Feature'></a>"
   ]
  },
  {
   "cell_type": "markdown",
   "metadata": {},
   "source": [
    "How the\" Attrition_Flag\" relate to the 'Exit' status."
   ]
  },
  {
   "cell_type": "code",
   "execution_count": null,
   "metadata": {},
   "outputs": [],
   "source": [
    "#How attrition flag distribution looks like.\n",
    "ccattr_data[\"Attrition_Numeric\"].value_counts().plot.bar(figsize=(6,6),color=\"palevioletred\")\n",
    "plt.xlabel('Customer Attrition')\n",
    "plt.ylabel('Count')\n",
    "plt.title('Distribution of Customer Attrition');"
   ]
  },
  {
   "cell_type": "markdown",
   "metadata": {},
   "source": [
    "Less than 2000 customer against 10000 customer data are churned. Same can be seen on pie chart as well with about 16% of the customers have churned. Given this is a small number, we need to ensure that the chosen model does predict with great accuracy."
   ]
  },
  {
   "cell_type": "markdown",
   "metadata": {},
   "source": [
    "##  Save Data<a id='Save_Data'></a>"
   ]
  },
  {
   "cell_type": "markdown",
   "metadata": {},
   "source": [
    "Save this to your data directory, separately. Note that you were provided with the data in `raw_data` and you should saving derived data in a separate location. This guards against overwriting our original data."
   ]
  },
  {
   "cell_type": "code",
   "execution_count": null,
   "metadata": {},
   "outputs": [],
   "source": [
    "ccattr_data.columns"
   ]
  },
  {
   "cell_type": "code",
   "execution_count": null,
   "metadata": {},
   "outputs": [],
   "source": [
    "# save the data to a new csv file\n",
    "datapath = '../data'\n",
    "\n",
    "datapath_ccattr_step2 = os.path.join(datapath, 'ccattr_step2_data_cleaned.csv')\n",
    "#if not os.path.exists(datapath_ccattr_step2):\n",
    "ccattr_data.to_csv(datapath_ccattr_step2, index=False)\n",
    "    "
   ]
  },
  {
   "cell_type": "markdown",
   "metadata": {},
   "source": [
    "## Summary<a id='Summary'></a>"
   ]
  },
  {
   "cell_type": "markdown",
   "metadata": {},
   "source": [
    "The dataset for this project is titled ‘ccattr_data’ and it is in Excel format and contains data types float64, int64, and object. The dataset has 10127 rows and 23 columns, with a total of 232,921 observations recorded. Changed the Attrition flag values, \"Existing customer\" to 0 and \"Attrited Customer\" to 1 and add to new column 'Attrition_Numeric'. Applied zscore scaling on to 3 columns,\"Customer_Age\",\"Months_on_book\",\"Total_Trans_Amt\", and created all 3 new columns with \"_zscore\" prefix.Applied dividing median scaling for \"Credit_Limit\",\"Total_Trans_Amt\",\"Total_Revolving_Bal\",\"Avg_Open_To_Buy\",\"Total_Trans_Amt\",\"Total_Ct_Chng_Q4_Q1\",\"Total_Amt_Chng_Q4_Q1\",\"Avg_Utilization_Ratio\". and created all new column with\"_divMedian\" prefix. All together 12 new columns are added, making 35 columns in total. These may be useful in knowing better insights like outliers on values of these columns in EDA.\n",
    "No columns are dropped.Over all there is no missing values, however Education level and Marital status have unknown values. These unknown values are fixed with their \"Mode\". The targetalue is identified as \"Attrition_Flag\".\n",
    "\n",
    "Finally with all intial data cleanup, the new CSV file is saved in data folder with the name \"ccattr_step2_data_cleaned.csv\"."
   ]
  }
 ],
 "metadata": {
  "kernelspec": {
   "display_name": "Python 3",
   "language": "python",
   "name": "python3"
  },
  "language_info": {
   "codemirror_mode": {
    "name": "ipython",
    "version": 3
   },
   "file_extension": ".py",
   "mimetype": "text/x-python",
   "name": "python",
   "nbconvert_exporter": "python",
   "pygments_lexer": "ipython3",
   "version": "3.8.8"
  },
  "toc": {
   "base_numbering": 1,
   "nav_menu": {},
   "number_sections": true,
   "sideBar": true,
   "skip_h1_title": false,
   "title_cell": "Table of Contents",
   "title_sidebar": "Contents",
   "toc_cell": false,
   "toc_position": {},
   "toc_section_display": true,
   "toc_window_display": true
  },
  "varInspector": {
   "cols": {
    "lenName": 16,
    "lenType": 16,
    "lenVar": 40
   },
   "kernels_config": {
    "python": {
     "delete_cmd_postfix": "",
     "delete_cmd_prefix": "del ",
     "library": "var_list.py",
     "varRefreshCmd": "print(var_dic_list())"
    },
    "r": {
     "delete_cmd_postfix": ") ",
     "delete_cmd_prefix": "rm(",
     "library": "var_list.r",
     "varRefreshCmd": "cat(var_dic_list()) "
    }
   },
   "types_to_exclude": [
    "module",
    "function",
    "builtin_function_or_method",
    "instance",
    "_Feature"
   ],
   "window_display": false
  }
 },
 "nbformat": 4,
 "nbformat_minor": 4
}
