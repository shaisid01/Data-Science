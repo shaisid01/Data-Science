{
 "cells": [
  {
   "cell_type": "markdown",
   "metadata": {},
   "source": [
    "# 2 Data Wrangling<a id='2_Data_wrangling'></a>"
   ]
  },
  {
   "cell_type": "markdown",
   "metadata": {},
   "source": [
    "## Contents<a id='Contents'></a>\n",
    "* [Data wrangling](#Data_wrangling)\n",
    "  * [Contents](#Contents)\n",
    "  * [Introduction](#Introduction)\n",
    "    * [Recap Of Data Science Problem](#Recap_Of_Data_Science_Problem)\n",
    "  * [Imports](#Imports)\n",
    "  * [Objectives](#Objectives)\n",
    "  * [Data Dictionary](#Data_Dictionary)\n",
    "  * [Load The Credit Card Customer Attrition Prediction Data](#Load_The_CC_Attrition_Data)\n",
    "      * [Categorical Features](#Categorical_Features)\n",
    "      * [Numeric Features](#Numeric_Features)\n",
    "      * [Feature Scaling](#Feature_Scaling)\n",
    "  * [Save data](#Save_data)\n",
    "  * [Target Feature](#Target_Feature)\n",
    "  * [Summary](#Summary)\n"
   ]
  },
  {
   "cell_type": "markdown",
   "metadata": {},
   "source": [
    "## Introduction<a id='Introduction'></a>"
   ]
  },
  {
   "cell_type": "markdown",
   "metadata": {},
   "source": [
    "The customer churn, also known as customer attrition, refers a customer ending relationship with bank for some reasons.Identify and visualize which factors contribute to customer churn.\n",
    "\n",
    "Build a prediction model that will perform the following:\n",
    "Classify if a customer is leaving or not.\n",
    "customer service team can contact customers on the list to better understand their needs or propose new offers or different products and do necessary steps from churning.\n"
   ]
  },
  {
   "cell_type": "markdown",
   "metadata": {},
   "source": [
    "### Recap Of Data Science Problem<a id='Recap_Of_Data_Science_Problem'></a>"
   ]
  },
  {
   "cell_type": "markdown",
   "metadata": {},
   "source": [
    "A manager at the bank is disturbed with more and more customers leaving their credit card services. They would really appreciate it if one could predict for them who will get churned so they can proactively improve the service, so that the bank can run profitably.Because it is well known that getting new customer is more costlier than retaining customer.\n",
    "\n",
    "Credit cards are a good source of income for banks because of different kinds of fees charged by the banks like annual fees, balance transfer fees, and cash advance fees, late payment fees, foreign transaction fees, and others. Some fees are charged to every user irrespective of usage, while others are charged under specified circumstances.\n",
    "Customers’ leaving credit cards services would lead bank to loss, so the bank wants to analyze the data of customers and identify the customers who will leave their credit card services and reason for same – so that bank could improve upon those areas.\n"
   ]
  },
  {
   "cell_type": "markdown",
   "metadata": {},
   "source": [
    "## Imports<a id='Imports'></a>"
   ]
  },
  {
   "cell_type": "code",
   "execution_count": 61,
   "metadata": {},
   "outputs": [],
   "source": [
    "#Import pandas, matplotlib.pyplot, and seaborn in the correct lines below\n",
    "import pandas as pd\n",
    "import numpy as np\n",
    "import matplotlib.pyplot as plt\n",
    "import seaborn as sns\n",
    "import os\n",
    "\n",
    "from library.sb_utils import save_file"
   ]
  },
  {
   "cell_type": "markdown",
   "metadata": {},
   "source": [
    "## Objectives<a id='Objectives'></a>"
   ]
  },
  {
   "cell_type": "markdown",
   "metadata": {},
   "source": [
    "* Explore the dataset and visualize the same\n",
    "* Build a model to predict the customer is going to churn or not\n",
    "* Optimize the model with appropriate techniques \n",
    "* Generate a set of insights and recommendations that may help the bank"
   ]
  },
  {
   "cell_type": "markdown",
   "metadata": {},
   "source": [
    "## Data Dictionary<a id='Data Dictionary'></a>"
   ]
  },
  {
   "cell_type": "markdown",
   "metadata": {},
   "source": [
    "* CLIENTNUM: Client number. Unique identifier for the customer holding the account\n",
    "* Attrition_Flag: if the account is closed then \"Attrited Customer\" else \"Existing Customer\"\n",
    "* Customer_Age: Age in Years\n",
    "* Gender: Gender of the customer\n",
    "* Dependent_count: Number of dependents\n",
    "* Education_Level: Educational Qualification -Graduate, High School, Unknown, Uneducated, College, Post-Graduate, Doctorate.\n",
    "* Marital_Status: Marital Status\n",
    "* Income_Category: Annual Income Category \n",
    "* Card_Category: Type of Card\n",
    "* Months_on_book: Time frame with the Bank\n",
    "* Total_Relationship_Count: Total no. of products held by the customer\n",
    "* Months_Inactive_12_mon: No. of months inactive in the last 12 months(one year)\n",
    "* Contacts_Count_12_mon: No. of Contacts between the customer and bank in the last 12 months(one year)\n",
    "* Credit_Limit: Credit Limit on the Credit Card\n",
    "* Total_Revolving_Bal: The balance that carries over from one month to the next is the revolving balance\n",
    "* Avg_Open_To_Buy: Open to Buy refers to the amount left on the credit card to use (Average of last 12 months)\n",
    "* Total_Trans_Amt: Total Transaction Amount in Last 12 months((one year))\n",
    "* Total_Trans_Ct: Total Transaction Count in Last 12 months((one year))\n",
    "* Total_Ct_Chng_Q4_Q1: Ratio of the total transaction count in 4th quarter and the total transaction count in 1st quarter\n",
    "* Total_Amt_Chng_Q4_Q1: Ratio of the total transaction amount in 4th quarter and the total transaction amount in 1st quarter\n",
    "* Avg_Utilization_Ratio: Represents how much of the available credit the customer spent\n"
   ]
  },
  {
   "cell_type": "markdown",
   "metadata": {},
   "source": [
    "## Load The Credit Card Customer Attrition Prediction Data<a id='Load_The_CC_Attrition_Data'></a>"
   ]
  },
  {
   "cell_type": "code",
   "execution_count": 62,
   "metadata": {},
   "outputs": [],
   "source": [
    "ccattr_data = pd.read_csv('../Data/BankChurners.csv',header=0)"
   ]
  },
  {
   "cell_type": "markdown",
   "metadata": {},
   "source": [
    "Good first steps in auditing the data are the info method and displaying the first few records with head."
   ]
  },
  {
   "cell_type": "code",
   "execution_count": 63,
   "metadata": {},
   "outputs": [
    {
     "data": {
      "text/html": [
       "<div>\n",
       "<style scoped>\n",
       "    .dataframe tbody tr th:only-of-type {\n",
       "        vertical-align: middle;\n",
       "    }\n",
       "\n",
       "    .dataframe tbody tr th {\n",
       "        vertical-align: top;\n",
       "    }\n",
       "\n",
       "    .dataframe thead th {\n",
       "        text-align: right;\n",
       "    }\n",
       "</style>\n",
       "<table border=\"1\" class=\"dataframe\">\n",
       "  <thead>\n",
       "    <tr style=\"text-align: right;\">\n",
       "      <th></th>\n",
       "      <th>CLIENTNUM</th>\n",
       "      <th>Attrition_Flag</th>\n",
       "      <th>Customer_Age</th>\n",
       "      <th>Gender</th>\n",
       "      <th>Dependent_count</th>\n",
       "      <th>Education_Level</th>\n",
       "      <th>Marital_Status</th>\n",
       "      <th>Income_Category</th>\n",
       "      <th>Card_Category</th>\n",
       "      <th>Months_on_book</th>\n",
       "      <th>...</th>\n",
       "      <th>Credit_Limit</th>\n",
       "      <th>Total_Revolving_Bal</th>\n",
       "      <th>Avg_Open_To_Buy</th>\n",
       "      <th>Total_Amt_Chng_Q4_Q1</th>\n",
       "      <th>Total_Trans_Amt</th>\n",
       "      <th>Total_Trans_Ct</th>\n",
       "      <th>Total_Ct_Chng_Q4_Q1</th>\n",
       "      <th>Avg_Utilization_Ratio</th>\n",
       "      <th>Naive_Bayes_Classifier_Attrition_Flag_Card_Category_Contacts_Count_12_mon_Dependent_count_Education_Level_Months_Inactive_12_mon_1</th>\n",
       "      <th>Naive_Bayes_Classifier_Attrition_Flag_Card_Category_Contacts_Count_12_mon_Dependent_count_Education_Level_Months_Inactive_12_mon_2</th>\n",
       "    </tr>\n",
       "  </thead>\n",
       "  <tbody>\n",
       "    <tr>\n",
       "      <th>0</th>\n",
       "      <td>768805383</td>\n",
       "      <td>Existing Customer</td>\n",
       "      <td>45</td>\n",
       "      <td>M</td>\n",
       "      <td>3</td>\n",
       "      <td>High School</td>\n",
       "      <td>Married</td>\n",
       "      <td>$60K - $80K</td>\n",
       "      <td>Blue</td>\n",
       "      <td>39</td>\n",
       "      <td>...</td>\n",
       "      <td>12691.0</td>\n",
       "      <td>777</td>\n",
       "      <td>11914.0</td>\n",
       "      <td>1.335</td>\n",
       "      <td>1144</td>\n",
       "      <td>42</td>\n",
       "      <td>1.625</td>\n",
       "      <td>0.061</td>\n",
       "      <td>0.000093</td>\n",
       "      <td>0.99991</td>\n",
       "    </tr>\n",
       "    <tr>\n",
       "      <th>1</th>\n",
       "      <td>818770008</td>\n",
       "      <td>Existing Customer</td>\n",
       "      <td>49</td>\n",
       "      <td>F</td>\n",
       "      <td>5</td>\n",
       "      <td>Graduate</td>\n",
       "      <td>Single</td>\n",
       "      <td>Less than $40K</td>\n",
       "      <td>Blue</td>\n",
       "      <td>44</td>\n",
       "      <td>...</td>\n",
       "      <td>8256.0</td>\n",
       "      <td>864</td>\n",
       "      <td>7392.0</td>\n",
       "      <td>1.541</td>\n",
       "      <td>1291</td>\n",
       "      <td>33</td>\n",
       "      <td>3.714</td>\n",
       "      <td>0.105</td>\n",
       "      <td>0.000057</td>\n",
       "      <td>0.99994</td>\n",
       "    </tr>\n",
       "    <tr>\n",
       "      <th>2</th>\n",
       "      <td>713982108</td>\n",
       "      <td>Existing Customer</td>\n",
       "      <td>51</td>\n",
       "      <td>M</td>\n",
       "      <td>3</td>\n",
       "      <td>Graduate</td>\n",
       "      <td>Married</td>\n",
       "      <td>$80K - $120K</td>\n",
       "      <td>Blue</td>\n",
       "      <td>36</td>\n",
       "      <td>...</td>\n",
       "      <td>3418.0</td>\n",
       "      <td>0</td>\n",
       "      <td>3418.0</td>\n",
       "      <td>2.594</td>\n",
       "      <td>1887</td>\n",
       "      <td>20</td>\n",
       "      <td>2.333</td>\n",
       "      <td>0.000</td>\n",
       "      <td>0.000021</td>\n",
       "      <td>0.99998</td>\n",
       "    </tr>\n",
       "    <tr>\n",
       "      <th>3</th>\n",
       "      <td>769911858</td>\n",
       "      <td>Existing Customer</td>\n",
       "      <td>40</td>\n",
       "      <td>F</td>\n",
       "      <td>4</td>\n",
       "      <td>High School</td>\n",
       "      <td>Unknown</td>\n",
       "      <td>Less than $40K</td>\n",
       "      <td>Blue</td>\n",
       "      <td>34</td>\n",
       "      <td>...</td>\n",
       "      <td>3313.0</td>\n",
       "      <td>2517</td>\n",
       "      <td>796.0</td>\n",
       "      <td>1.405</td>\n",
       "      <td>1171</td>\n",
       "      <td>20</td>\n",
       "      <td>2.333</td>\n",
       "      <td>0.760</td>\n",
       "      <td>0.000134</td>\n",
       "      <td>0.99987</td>\n",
       "    </tr>\n",
       "    <tr>\n",
       "      <th>4</th>\n",
       "      <td>709106358</td>\n",
       "      <td>Existing Customer</td>\n",
       "      <td>40</td>\n",
       "      <td>M</td>\n",
       "      <td>3</td>\n",
       "      <td>Uneducated</td>\n",
       "      <td>Married</td>\n",
       "      <td>$60K - $80K</td>\n",
       "      <td>Blue</td>\n",
       "      <td>21</td>\n",
       "      <td>...</td>\n",
       "      <td>4716.0</td>\n",
       "      <td>0</td>\n",
       "      <td>4716.0</td>\n",
       "      <td>2.175</td>\n",
       "      <td>816</td>\n",
       "      <td>28</td>\n",
       "      <td>2.500</td>\n",
       "      <td>0.000</td>\n",
       "      <td>0.000022</td>\n",
       "      <td>0.99998</td>\n",
       "    </tr>\n",
       "  </tbody>\n",
       "</table>\n",
       "<p>5 rows × 23 columns</p>\n",
       "</div>"
      ],
      "text/plain": [
       "   CLIENTNUM     Attrition_Flag  Customer_Age Gender  Dependent_count  \\\n",
       "0  768805383  Existing Customer            45      M                3   \n",
       "1  818770008  Existing Customer            49      F                5   \n",
       "2  713982108  Existing Customer            51      M                3   \n",
       "3  769911858  Existing Customer            40      F                4   \n",
       "4  709106358  Existing Customer            40      M                3   \n",
       "\n",
       "  Education_Level Marital_Status Income_Category Card_Category  \\\n",
       "0     High School        Married     $60K - $80K          Blue   \n",
       "1        Graduate         Single  Less than $40K          Blue   \n",
       "2        Graduate        Married    $80K - $120K          Blue   \n",
       "3     High School        Unknown  Less than $40K          Blue   \n",
       "4      Uneducated        Married     $60K - $80K          Blue   \n",
       "\n",
       "   Months_on_book  ...  Credit_Limit  Total_Revolving_Bal  Avg_Open_To_Buy  \\\n",
       "0              39  ...       12691.0                  777          11914.0   \n",
       "1              44  ...        8256.0                  864           7392.0   \n",
       "2              36  ...        3418.0                    0           3418.0   \n",
       "3              34  ...        3313.0                 2517            796.0   \n",
       "4              21  ...        4716.0                    0           4716.0   \n",
       "\n",
       "   Total_Amt_Chng_Q4_Q1  Total_Trans_Amt  Total_Trans_Ct  Total_Ct_Chng_Q4_Q1  \\\n",
       "0                 1.335             1144              42                1.625   \n",
       "1                 1.541             1291              33                3.714   \n",
       "2                 2.594             1887              20                2.333   \n",
       "3                 1.405             1171              20                2.333   \n",
       "4                 2.175              816              28                2.500   \n",
       "\n",
       "   Avg_Utilization_Ratio  \\\n",
       "0                  0.061   \n",
       "1                  0.105   \n",
       "2                  0.000   \n",
       "3                  0.760   \n",
       "4                  0.000   \n",
       "\n",
       "   Naive_Bayes_Classifier_Attrition_Flag_Card_Category_Contacts_Count_12_mon_Dependent_count_Education_Level_Months_Inactive_12_mon_1  \\\n",
       "0                                           0.000093                                                                                    \n",
       "1                                           0.000057                                                                                    \n",
       "2                                           0.000021                                                                                    \n",
       "3                                           0.000134                                                                                    \n",
       "4                                           0.000022                                                                                    \n",
       "\n",
       "   Naive_Bayes_Classifier_Attrition_Flag_Card_Category_Contacts_Count_12_mon_Dependent_count_Education_Level_Months_Inactive_12_mon_2  \n",
       "0                                            0.99991                                                                                   \n",
       "1                                            0.99994                                                                                   \n",
       "2                                            0.99998                                                                                   \n",
       "3                                            0.99987                                                                                   \n",
       "4                                            0.99998                                                                                   \n",
       "\n",
       "[5 rows x 23 columns]"
      ]
     },
     "execution_count": 63,
     "metadata": {},
     "output_type": "execute_result"
    }
   ],
   "source": [
    "# see a summary of the data\n",
    "ccattr_data.head()"
   ]
  },
  {
   "cell_type": "markdown",
   "metadata": {},
   "source": [
    "The last 2 columns appear to be predictions. Change their name to be more readable."
   ]
  },
  {
   "cell_type": "code",
   "execution_count": 64,
   "metadata": {},
   "outputs": [],
   "source": [
    "col1 = \"Naive_Bayes_Classifier_Attrition_Flag_Card_Category_Contacts_Count_12_mon_Dependent_count_Education_Level_Months_Inactive_12_mon_1\"\n",
    "col2 = \"Naive_Bayes_Classifier_Attrition_Flag_Card_Category_Contacts_Count_12_mon_Dependent_count_Education_Level_Months_Inactive_12_mon_2\"\n",
    "ccattr_data.rename(columns={col1 : \"naive_cls1\", col2 : \"naive_cls2\"}, inplace=True)"
   ]
  },
  {
   "cell_type": "code",
   "execution_count": 65,
   "metadata": {},
   "outputs": [
    {
     "name": "stdout",
     "output_type": "stream",
     "text": [
      "<class 'pandas.core.frame.DataFrame'>\n",
      "RangeIndex: 10127 entries, 0 to 10126\n",
      "Data columns (total 23 columns):\n",
      " #   Column                    Non-Null Count  Dtype  \n",
      "---  ------                    --------------  -----  \n",
      " 0   CLIENTNUM                 10127 non-null  int64  \n",
      " 1   Attrition_Flag            10127 non-null  object \n",
      " 2   Customer_Age              10127 non-null  int64  \n",
      " 3   Gender                    10127 non-null  object \n",
      " 4   Dependent_count           10127 non-null  int64  \n",
      " 5   Education_Level           10127 non-null  object \n",
      " 6   Marital_Status            10127 non-null  object \n",
      " 7   Income_Category           10127 non-null  object \n",
      " 8   Card_Category             10127 non-null  object \n",
      " 9   Months_on_book            10127 non-null  int64  \n",
      " 10  Total_Relationship_Count  10127 non-null  int64  \n",
      " 11  Months_Inactive_12_mon    10127 non-null  int64  \n",
      " 12  Contacts_Count_12_mon     10127 non-null  int64  \n",
      " 13  Credit_Limit              10127 non-null  float64\n",
      " 14  Total_Revolving_Bal       10127 non-null  int64  \n",
      " 15  Avg_Open_To_Buy           10127 non-null  float64\n",
      " 16  Total_Amt_Chng_Q4_Q1      10127 non-null  float64\n",
      " 17  Total_Trans_Amt           10127 non-null  int64  \n",
      " 18  Total_Trans_Ct            10127 non-null  int64  \n",
      " 19  Total_Ct_Chng_Q4_Q1       10127 non-null  float64\n",
      " 20  Avg_Utilization_Ratio     10127 non-null  float64\n",
      " 21  naive_cls1                10127 non-null  float64\n",
      " 22  naive_cls2                10127 non-null  float64\n",
      "dtypes: float64(7), int64(10), object(6)\n",
      "memory usage: 1.8+ MB\n"
     ]
    }
   ],
   "source": [
    "#Check the data types of the columns\n",
    "ccattr_data.info()"
   ]
  },
  {
   "cell_type": "markdown",
   "metadata": {},
   "source": [
    "There are 10127 rows and 23 columns.\n",
    "There are no missing values.\n",
    "\n",
    "Most of the columns are numerical and 6 are categorical, and those are -\n",
    "* Attrition_Flag\n",
    "* Gender\n",
    "* Education_Level\n",
    "* Marital_Status\n",
    "* Income_Category\n",
    "* Card_Category"
   ]
  },
  {
   "cell_type": "code",
   "execution_count": 66,
   "metadata": {},
   "outputs": [
    {
     "data": {
      "text/html": [
       "<div>\n",
       "<style scoped>\n",
       "    .dataframe tbody tr th:only-of-type {\n",
       "        vertical-align: middle;\n",
       "    }\n",
       "\n",
       "    .dataframe tbody tr th {\n",
       "        vertical-align: top;\n",
       "    }\n",
       "\n",
       "    .dataframe thead th {\n",
       "        text-align: right;\n",
       "    }\n",
       "</style>\n",
       "<table border=\"1\" class=\"dataframe\">\n",
       "  <thead>\n",
       "    <tr style=\"text-align: right;\">\n",
       "      <th></th>\n",
       "      <th>count</th>\n",
       "      <th>mean</th>\n",
       "      <th>std</th>\n",
       "      <th>min</th>\n",
       "      <th>25%</th>\n",
       "      <th>50%</th>\n",
       "      <th>75%</th>\n",
       "      <th>max</th>\n",
       "    </tr>\n",
       "  </thead>\n",
       "  <tbody>\n",
       "    <tr>\n",
       "      <th>CLIENTNUM</th>\n",
       "      <td>10127.0</td>\n",
       "      <td>7.391776e+08</td>\n",
       "      <td>3.690378e+07</td>\n",
       "      <td>7.080821e+08</td>\n",
       "      <td>7.130368e+08</td>\n",
       "      <td>7.179264e+08</td>\n",
       "      <td>7.731435e+08</td>\n",
       "      <td>8.283431e+08</td>\n",
       "    </tr>\n",
       "    <tr>\n",
       "      <th>Customer_Age</th>\n",
       "      <td>10127.0</td>\n",
       "      <td>4.632596e+01</td>\n",
       "      <td>8.016814e+00</td>\n",
       "      <td>2.600000e+01</td>\n",
       "      <td>4.100000e+01</td>\n",
       "      <td>4.600000e+01</td>\n",
       "      <td>5.200000e+01</td>\n",
       "      <td>7.300000e+01</td>\n",
       "    </tr>\n",
       "    <tr>\n",
       "      <th>Dependent_count</th>\n",
       "      <td>10127.0</td>\n",
       "      <td>2.346203e+00</td>\n",
       "      <td>1.298908e+00</td>\n",
       "      <td>0.000000e+00</td>\n",
       "      <td>1.000000e+00</td>\n",
       "      <td>2.000000e+00</td>\n",
       "      <td>3.000000e+00</td>\n",
       "      <td>5.000000e+00</td>\n",
       "    </tr>\n",
       "    <tr>\n",
       "      <th>Months_on_book</th>\n",
       "      <td>10127.0</td>\n",
       "      <td>3.592841e+01</td>\n",
       "      <td>7.986416e+00</td>\n",
       "      <td>1.300000e+01</td>\n",
       "      <td>3.100000e+01</td>\n",
       "      <td>3.600000e+01</td>\n",
       "      <td>4.000000e+01</td>\n",
       "      <td>5.600000e+01</td>\n",
       "    </tr>\n",
       "    <tr>\n",
       "      <th>Total_Relationship_Count</th>\n",
       "      <td>10127.0</td>\n",
       "      <td>3.812580e+00</td>\n",
       "      <td>1.554408e+00</td>\n",
       "      <td>1.000000e+00</td>\n",
       "      <td>3.000000e+00</td>\n",
       "      <td>4.000000e+00</td>\n",
       "      <td>5.000000e+00</td>\n",
       "      <td>6.000000e+00</td>\n",
       "    </tr>\n",
       "    <tr>\n",
       "      <th>Months_Inactive_12_mon</th>\n",
       "      <td>10127.0</td>\n",
       "      <td>2.341167e+00</td>\n",
       "      <td>1.010622e+00</td>\n",
       "      <td>0.000000e+00</td>\n",
       "      <td>2.000000e+00</td>\n",
       "      <td>2.000000e+00</td>\n",
       "      <td>3.000000e+00</td>\n",
       "      <td>6.000000e+00</td>\n",
       "    </tr>\n",
       "    <tr>\n",
       "      <th>Contacts_Count_12_mon</th>\n",
       "      <td>10127.0</td>\n",
       "      <td>2.455317e+00</td>\n",
       "      <td>1.106225e+00</td>\n",
       "      <td>0.000000e+00</td>\n",
       "      <td>2.000000e+00</td>\n",
       "      <td>2.000000e+00</td>\n",
       "      <td>3.000000e+00</td>\n",
       "      <td>6.000000e+00</td>\n",
       "    </tr>\n",
       "    <tr>\n",
       "      <th>Credit_Limit</th>\n",
       "      <td>10127.0</td>\n",
       "      <td>8.631954e+03</td>\n",
       "      <td>9.088777e+03</td>\n",
       "      <td>1.438300e+03</td>\n",
       "      <td>2.555000e+03</td>\n",
       "      <td>4.549000e+03</td>\n",
       "      <td>1.106750e+04</td>\n",
       "      <td>3.451600e+04</td>\n",
       "    </tr>\n",
       "    <tr>\n",
       "      <th>Total_Revolving_Bal</th>\n",
       "      <td>10127.0</td>\n",
       "      <td>1.162814e+03</td>\n",
       "      <td>8.149873e+02</td>\n",
       "      <td>0.000000e+00</td>\n",
       "      <td>3.590000e+02</td>\n",
       "      <td>1.276000e+03</td>\n",
       "      <td>1.784000e+03</td>\n",
       "      <td>2.517000e+03</td>\n",
       "    </tr>\n",
       "    <tr>\n",
       "      <th>Avg_Open_To_Buy</th>\n",
       "      <td>10127.0</td>\n",
       "      <td>7.469140e+03</td>\n",
       "      <td>9.090685e+03</td>\n",
       "      <td>3.000000e+00</td>\n",
       "      <td>1.324500e+03</td>\n",
       "      <td>3.474000e+03</td>\n",
       "      <td>9.859000e+03</td>\n",
       "      <td>3.451600e+04</td>\n",
       "    </tr>\n",
       "    <tr>\n",
       "      <th>Total_Amt_Chng_Q4_Q1</th>\n",
       "      <td>10127.0</td>\n",
       "      <td>7.599407e-01</td>\n",
       "      <td>2.192068e-01</td>\n",
       "      <td>0.000000e+00</td>\n",
       "      <td>6.310000e-01</td>\n",
       "      <td>7.360000e-01</td>\n",
       "      <td>8.590000e-01</td>\n",
       "      <td>3.397000e+00</td>\n",
       "    </tr>\n",
       "    <tr>\n",
       "      <th>Total_Trans_Amt</th>\n",
       "      <td>10127.0</td>\n",
       "      <td>4.404086e+03</td>\n",
       "      <td>3.397129e+03</td>\n",
       "      <td>5.100000e+02</td>\n",
       "      <td>2.155500e+03</td>\n",
       "      <td>3.899000e+03</td>\n",
       "      <td>4.741000e+03</td>\n",
       "      <td>1.848400e+04</td>\n",
       "    </tr>\n",
       "    <tr>\n",
       "      <th>Total_Trans_Ct</th>\n",
       "      <td>10127.0</td>\n",
       "      <td>6.485869e+01</td>\n",
       "      <td>2.347257e+01</td>\n",
       "      <td>1.000000e+01</td>\n",
       "      <td>4.500000e+01</td>\n",
       "      <td>6.700000e+01</td>\n",
       "      <td>8.100000e+01</td>\n",
       "      <td>1.390000e+02</td>\n",
       "    </tr>\n",
       "    <tr>\n",
       "      <th>Total_Ct_Chng_Q4_Q1</th>\n",
       "      <td>10127.0</td>\n",
       "      <td>7.122224e-01</td>\n",
       "      <td>2.380861e-01</td>\n",
       "      <td>0.000000e+00</td>\n",
       "      <td>5.820000e-01</td>\n",
       "      <td>7.020000e-01</td>\n",
       "      <td>8.180000e-01</td>\n",
       "      <td>3.714000e+00</td>\n",
       "    </tr>\n",
       "    <tr>\n",
       "      <th>Avg_Utilization_Ratio</th>\n",
       "      <td>10127.0</td>\n",
       "      <td>2.748936e-01</td>\n",
       "      <td>2.756915e-01</td>\n",
       "      <td>0.000000e+00</td>\n",
       "      <td>2.300000e-02</td>\n",
       "      <td>1.760000e-01</td>\n",
       "      <td>5.030000e-01</td>\n",
       "      <td>9.990000e-01</td>\n",
       "    </tr>\n",
       "    <tr>\n",
       "      <th>naive_cls1</th>\n",
       "      <td>10127.0</td>\n",
       "      <td>1.599975e-01</td>\n",
       "      <td>3.653010e-01</td>\n",
       "      <td>7.664200e-06</td>\n",
       "      <td>9.898300e-05</td>\n",
       "      <td>1.814600e-04</td>\n",
       "      <td>3.373000e-04</td>\n",
       "      <td>9.995800e-01</td>\n",
       "    </tr>\n",
       "    <tr>\n",
       "      <th>naive_cls2</th>\n",
       "      <td>10127.0</td>\n",
       "      <td>8.400026e-01</td>\n",
       "      <td>3.653010e-01</td>\n",
       "      <td>4.199800e-04</td>\n",
       "      <td>9.996600e-01</td>\n",
       "      <td>9.998200e-01</td>\n",
       "      <td>9.999000e-01</td>\n",
       "      <td>9.999900e-01</td>\n",
       "    </tr>\n",
       "  </tbody>\n",
       "</table>\n",
       "</div>"
      ],
      "text/plain": [
       "                            count          mean           std           min  \\\n",
       "CLIENTNUM                 10127.0  7.391776e+08  3.690378e+07  7.080821e+08   \n",
       "Customer_Age              10127.0  4.632596e+01  8.016814e+00  2.600000e+01   \n",
       "Dependent_count           10127.0  2.346203e+00  1.298908e+00  0.000000e+00   \n",
       "Months_on_book            10127.0  3.592841e+01  7.986416e+00  1.300000e+01   \n",
       "Total_Relationship_Count  10127.0  3.812580e+00  1.554408e+00  1.000000e+00   \n",
       "Months_Inactive_12_mon    10127.0  2.341167e+00  1.010622e+00  0.000000e+00   \n",
       "Contacts_Count_12_mon     10127.0  2.455317e+00  1.106225e+00  0.000000e+00   \n",
       "Credit_Limit              10127.0  8.631954e+03  9.088777e+03  1.438300e+03   \n",
       "Total_Revolving_Bal       10127.0  1.162814e+03  8.149873e+02  0.000000e+00   \n",
       "Avg_Open_To_Buy           10127.0  7.469140e+03  9.090685e+03  3.000000e+00   \n",
       "Total_Amt_Chng_Q4_Q1      10127.0  7.599407e-01  2.192068e-01  0.000000e+00   \n",
       "Total_Trans_Amt           10127.0  4.404086e+03  3.397129e+03  5.100000e+02   \n",
       "Total_Trans_Ct            10127.0  6.485869e+01  2.347257e+01  1.000000e+01   \n",
       "Total_Ct_Chng_Q4_Q1       10127.0  7.122224e-01  2.380861e-01  0.000000e+00   \n",
       "Avg_Utilization_Ratio     10127.0  2.748936e-01  2.756915e-01  0.000000e+00   \n",
       "naive_cls1                10127.0  1.599975e-01  3.653010e-01  7.664200e-06   \n",
       "naive_cls2                10127.0  8.400026e-01  3.653010e-01  4.199800e-04   \n",
       "\n",
       "                                   25%           50%           75%  \\\n",
       "CLIENTNUM                 7.130368e+08  7.179264e+08  7.731435e+08   \n",
       "Customer_Age              4.100000e+01  4.600000e+01  5.200000e+01   \n",
       "Dependent_count           1.000000e+00  2.000000e+00  3.000000e+00   \n",
       "Months_on_book            3.100000e+01  3.600000e+01  4.000000e+01   \n",
       "Total_Relationship_Count  3.000000e+00  4.000000e+00  5.000000e+00   \n",
       "Months_Inactive_12_mon    2.000000e+00  2.000000e+00  3.000000e+00   \n",
       "Contacts_Count_12_mon     2.000000e+00  2.000000e+00  3.000000e+00   \n",
       "Credit_Limit              2.555000e+03  4.549000e+03  1.106750e+04   \n",
       "Total_Revolving_Bal       3.590000e+02  1.276000e+03  1.784000e+03   \n",
       "Avg_Open_To_Buy           1.324500e+03  3.474000e+03  9.859000e+03   \n",
       "Total_Amt_Chng_Q4_Q1      6.310000e-01  7.360000e-01  8.590000e-01   \n",
       "Total_Trans_Amt           2.155500e+03  3.899000e+03  4.741000e+03   \n",
       "Total_Trans_Ct            4.500000e+01  6.700000e+01  8.100000e+01   \n",
       "Total_Ct_Chng_Q4_Q1       5.820000e-01  7.020000e-01  8.180000e-01   \n",
       "Avg_Utilization_Ratio     2.300000e-02  1.760000e-01  5.030000e-01   \n",
       "naive_cls1                9.898300e-05  1.814600e-04  3.373000e-04   \n",
       "naive_cls2                9.996600e-01  9.998200e-01  9.999000e-01   \n",
       "\n",
       "                                   max  \n",
       "CLIENTNUM                 8.283431e+08  \n",
       "Customer_Age              7.300000e+01  \n",
       "Dependent_count           5.000000e+00  \n",
       "Months_on_book            5.600000e+01  \n",
       "Total_Relationship_Count  6.000000e+00  \n",
       "Months_Inactive_12_mon    6.000000e+00  \n",
       "Contacts_Count_12_mon     6.000000e+00  \n",
       "Credit_Limit              3.451600e+04  \n",
       "Total_Revolving_Bal       2.517000e+03  \n",
       "Avg_Open_To_Buy           3.451600e+04  \n",
       "Total_Amt_Chng_Q4_Q1      3.397000e+00  \n",
       "Total_Trans_Amt           1.848400e+04  \n",
       "Total_Trans_Ct            1.390000e+02  \n",
       "Total_Ct_Chng_Q4_Q1       3.714000e+00  \n",
       "Avg_Utilization_Ratio     9.990000e-01  \n",
       "naive_cls1                9.995800e-01  \n",
       "naive_cls2                9.999900e-01  "
      ]
     },
     "execution_count": 66,
     "metadata": {},
     "output_type": "execute_result"
    }
   ],
   "source": [
    "ccattr_data.describe().T"
   ]
  },
  {
   "cell_type": "markdown",
   "metadata": {},
   "source": [
    "* Average customer age is ~46 and min and max customer age is 70 to 82.\n",
    "* Average period of relationship with the bank is ~36 months with minimum of 13 and max as 56.\n",
    "* Average Total number of product with the customer ~4 and maximum is 6.\n",
    "* Mean of Credit_limit 8631 while median is 4549 ,data may have outliers.\n",
    "* Total_Revolving_Bal(unpaid portion) has mean as 1162 while median is 1276, No outliers.\n",
    "* Avg_Open_To_Buy(amount left on the credit card) has mean 7469 and max as 34516.Appears some outliers.\n",
    "* Total_Trans_Amt has an average of 4404 and median of 3899. This indicate outliers."
   ]
  },
  {
   "cell_type": "markdown",
   "metadata": {},
   "source": [
    "## Explore The Data<a id='Explore_The_Data'></a>"
   ]
  },
  {
   "cell_type": "markdown",
   "metadata": {},
   "source": [
    "### Number Of Missing Values By Column<a id='Number_Of_Missing_Values_By_Column'></a>"
   ]
  },
  {
   "cell_type": "markdown",
   "metadata": {},
   "source": [
    "Count the number of missing values in each column and sort them."
   ]
  },
  {
   "cell_type": "code",
   "execution_count": 67,
   "metadata": {},
   "outputs": [
    {
     "data": {
      "text/html": [
       "<div>\n",
       "<style scoped>\n",
       "    .dataframe tbody tr th:only-of-type {\n",
       "        vertical-align: middle;\n",
       "    }\n",
       "\n",
       "    .dataframe tbody tr th {\n",
       "        vertical-align: top;\n",
       "    }\n",
       "\n",
       "    .dataframe thead th {\n",
       "        text-align: right;\n",
       "    }\n",
       "</style>\n",
       "<table border=\"1\" class=\"dataframe\">\n",
       "  <thead>\n",
       "    <tr style=\"text-align: right;\">\n",
       "      <th></th>\n",
       "      <th>count</th>\n",
       "      <th>%</th>\n",
       "    </tr>\n",
       "  </thead>\n",
       "  <tbody>\n",
       "    <tr>\n",
       "      <th>CLIENTNUM</th>\n",
       "      <td>0.0</td>\n",
       "      <td>0.0</td>\n",
       "    </tr>\n",
       "    <tr>\n",
       "      <th>Contacts_Count_12_mon</th>\n",
       "      <td>0.0</td>\n",
       "      <td>0.0</td>\n",
       "    </tr>\n",
       "    <tr>\n",
       "      <th>naive_cls1</th>\n",
       "      <td>0.0</td>\n",
       "      <td>0.0</td>\n",
       "    </tr>\n",
       "    <tr>\n",
       "      <th>Avg_Utilization_Ratio</th>\n",
       "      <td>0.0</td>\n",
       "      <td>0.0</td>\n",
       "    </tr>\n",
       "    <tr>\n",
       "      <th>Total_Ct_Chng_Q4_Q1</th>\n",
       "      <td>0.0</td>\n",
       "      <td>0.0</td>\n",
       "    </tr>\n",
       "    <tr>\n",
       "      <th>Total_Trans_Ct</th>\n",
       "      <td>0.0</td>\n",
       "      <td>0.0</td>\n",
       "    </tr>\n",
       "    <tr>\n",
       "      <th>Total_Trans_Amt</th>\n",
       "      <td>0.0</td>\n",
       "      <td>0.0</td>\n",
       "    </tr>\n",
       "    <tr>\n",
       "      <th>Total_Amt_Chng_Q4_Q1</th>\n",
       "      <td>0.0</td>\n",
       "      <td>0.0</td>\n",
       "    </tr>\n",
       "    <tr>\n",
       "      <th>Avg_Open_To_Buy</th>\n",
       "      <td>0.0</td>\n",
       "      <td>0.0</td>\n",
       "    </tr>\n",
       "    <tr>\n",
       "      <th>Total_Revolving_Bal</th>\n",
       "      <td>0.0</td>\n",
       "      <td>0.0</td>\n",
       "    </tr>\n",
       "    <tr>\n",
       "      <th>Credit_Limit</th>\n",
       "      <td>0.0</td>\n",
       "      <td>0.0</td>\n",
       "    </tr>\n",
       "    <tr>\n",
       "      <th>Months_Inactive_12_mon</th>\n",
       "      <td>0.0</td>\n",
       "      <td>0.0</td>\n",
       "    </tr>\n",
       "    <tr>\n",
       "      <th>Attrition_Flag</th>\n",
       "      <td>0.0</td>\n",
       "      <td>0.0</td>\n",
       "    </tr>\n",
       "    <tr>\n",
       "      <th>Total_Relationship_Count</th>\n",
       "      <td>0.0</td>\n",
       "      <td>0.0</td>\n",
       "    </tr>\n",
       "    <tr>\n",
       "      <th>Months_on_book</th>\n",
       "      <td>0.0</td>\n",
       "      <td>0.0</td>\n",
       "    </tr>\n",
       "    <tr>\n",
       "      <th>Card_Category</th>\n",
       "      <td>0.0</td>\n",
       "      <td>0.0</td>\n",
       "    </tr>\n",
       "    <tr>\n",
       "      <th>Income_Category</th>\n",
       "      <td>0.0</td>\n",
       "      <td>0.0</td>\n",
       "    </tr>\n",
       "    <tr>\n",
       "      <th>Marital_Status</th>\n",
       "      <td>0.0</td>\n",
       "      <td>0.0</td>\n",
       "    </tr>\n",
       "    <tr>\n",
       "      <th>Education_Level</th>\n",
       "      <td>0.0</td>\n",
       "      <td>0.0</td>\n",
       "    </tr>\n",
       "    <tr>\n",
       "      <th>Dependent_count</th>\n",
       "      <td>0.0</td>\n",
       "      <td>0.0</td>\n",
       "    </tr>\n",
       "    <tr>\n",
       "      <th>Gender</th>\n",
       "      <td>0.0</td>\n",
       "      <td>0.0</td>\n",
       "    </tr>\n",
       "    <tr>\n",
       "      <th>Customer_Age</th>\n",
       "      <td>0.0</td>\n",
       "      <td>0.0</td>\n",
       "    </tr>\n",
       "    <tr>\n",
       "      <th>naive_cls2</th>\n",
       "      <td>0.0</td>\n",
       "      <td>0.0</td>\n",
       "    </tr>\n",
       "  </tbody>\n",
       "</table>\n",
       "</div>"
      ],
      "text/plain": [
       "                          count    %\n",
       "CLIENTNUM                   0.0  0.0\n",
       "Contacts_Count_12_mon       0.0  0.0\n",
       "naive_cls1                  0.0  0.0\n",
       "Avg_Utilization_Ratio       0.0  0.0\n",
       "Total_Ct_Chng_Q4_Q1         0.0  0.0\n",
       "Total_Trans_Ct              0.0  0.0\n",
       "Total_Trans_Amt             0.0  0.0\n",
       "Total_Amt_Chng_Q4_Q1        0.0  0.0\n",
       "Avg_Open_To_Buy             0.0  0.0\n",
       "Total_Revolving_Bal         0.0  0.0\n",
       "Credit_Limit                0.0  0.0\n",
       "Months_Inactive_12_mon      0.0  0.0\n",
       "Attrition_Flag              0.0  0.0\n",
       "Total_Relationship_Count    0.0  0.0\n",
       "Months_on_book              0.0  0.0\n",
       "Card_Category               0.0  0.0\n",
       "Income_Category             0.0  0.0\n",
       "Marital_Status              0.0  0.0\n",
       "Education_Level             0.0  0.0\n",
       "Dependent_count             0.0  0.0\n",
       "Gender                      0.0  0.0\n",
       "Customer_Age                0.0  0.0\n",
       "naive_cls2                  0.0  0.0"
      ]
     },
     "execution_count": 67,
     "metadata": {},
     "output_type": "execute_result"
    }
   ],
   "source": [
    "missing = pd.concat([ccattr_data.isnull().mean(), 100 * ccattr_data.isnull().mean()],axis=1)\n",
    "missing.columns=['count','%']\n",
    "missing.sort_values(by= 'count', ascending=False)"
   ]
  },
  {
   "cell_type": "markdown",
   "metadata": {},
   "source": [
    "No missing values"
   ]
  },
  {
   "cell_type": "markdown",
   "metadata": {},
   "source": [
    "### Categorical Features<a id='Categorical_Features'></a>"
   ]
  },
  {
   "cell_type": "code",
   "execution_count": 68,
   "metadata": {},
   "outputs": [
    {
     "data": {
      "text/html": [
       "<div>\n",
       "<style scoped>\n",
       "    .dataframe tbody tr th:only-of-type {\n",
       "        vertical-align: middle;\n",
       "    }\n",
       "\n",
       "    .dataframe tbody tr th {\n",
       "        vertical-align: top;\n",
       "    }\n",
       "\n",
       "    .dataframe thead th {\n",
       "        text-align: right;\n",
       "    }\n",
       "</style>\n",
       "<table border=\"1\" class=\"dataframe\">\n",
       "  <thead>\n",
       "    <tr style=\"text-align: right;\">\n",
       "      <th></th>\n",
       "      <th>Attrition_Flag</th>\n",
       "      <th>Gender</th>\n",
       "      <th>Education_Level</th>\n",
       "      <th>Marital_Status</th>\n",
       "      <th>Income_Category</th>\n",
       "      <th>Card_Category</th>\n",
       "    </tr>\n",
       "  </thead>\n",
       "  <tbody>\n",
       "    <tr>\n",
       "      <th>0</th>\n",
       "      <td>Existing Customer</td>\n",
       "      <td>M</td>\n",
       "      <td>High School</td>\n",
       "      <td>Married</td>\n",
       "      <td>$60K - $80K</td>\n",
       "      <td>Blue</td>\n",
       "    </tr>\n",
       "    <tr>\n",
       "      <th>1</th>\n",
       "      <td>Existing Customer</td>\n",
       "      <td>F</td>\n",
       "      <td>Graduate</td>\n",
       "      <td>Single</td>\n",
       "      <td>Less than $40K</td>\n",
       "      <td>Blue</td>\n",
       "    </tr>\n",
       "    <tr>\n",
       "      <th>2</th>\n",
       "      <td>Existing Customer</td>\n",
       "      <td>M</td>\n",
       "      <td>Graduate</td>\n",
       "      <td>Married</td>\n",
       "      <td>$80K - $120K</td>\n",
       "      <td>Blue</td>\n",
       "    </tr>\n",
       "    <tr>\n",
       "      <th>3</th>\n",
       "      <td>Existing Customer</td>\n",
       "      <td>F</td>\n",
       "      <td>High School</td>\n",
       "      <td>Unknown</td>\n",
       "      <td>Less than $40K</td>\n",
       "      <td>Blue</td>\n",
       "    </tr>\n",
       "    <tr>\n",
       "      <th>4</th>\n",
       "      <td>Existing Customer</td>\n",
       "      <td>M</td>\n",
       "      <td>Uneducated</td>\n",
       "      <td>Married</td>\n",
       "      <td>$60K - $80K</td>\n",
       "      <td>Blue</td>\n",
       "    </tr>\n",
       "    <tr>\n",
       "      <th>...</th>\n",
       "      <td>...</td>\n",
       "      <td>...</td>\n",
       "      <td>...</td>\n",
       "      <td>...</td>\n",
       "      <td>...</td>\n",
       "      <td>...</td>\n",
       "    </tr>\n",
       "    <tr>\n",
       "      <th>10122</th>\n",
       "      <td>Existing Customer</td>\n",
       "      <td>M</td>\n",
       "      <td>Graduate</td>\n",
       "      <td>Single</td>\n",
       "      <td>$40K - $60K</td>\n",
       "      <td>Blue</td>\n",
       "    </tr>\n",
       "    <tr>\n",
       "      <th>10123</th>\n",
       "      <td>Attrited Customer</td>\n",
       "      <td>M</td>\n",
       "      <td>Unknown</td>\n",
       "      <td>Divorced</td>\n",
       "      <td>$40K - $60K</td>\n",
       "      <td>Blue</td>\n",
       "    </tr>\n",
       "    <tr>\n",
       "      <th>10124</th>\n",
       "      <td>Attrited Customer</td>\n",
       "      <td>F</td>\n",
       "      <td>High School</td>\n",
       "      <td>Married</td>\n",
       "      <td>Less than $40K</td>\n",
       "      <td>Blue</td>\n",
       "    </tr>\n",
       "    <tr>\n",
       "      <th>10125</th>\n",
       "      <td>Attrited Customer</td>\n",
       "      <td>M</td>\n",
       "      <td>Graduate</td>\n",
       "      <td>Unknown</td>\n",
       "      <td>$40K - $60K</td>\n",
       "      <td>Blue</td>\n",
       "    </tr>\n",
       "    <tr>\n",
       "      <th>10126</th>\n",
       "      <td>Attrited Customer</td>\n",
       "      <td>F</td>\n",
       "      <td>Graduate</td>\n",
       "      <td>Married</td>\n",
       "      <td>Less than $40K</td>\n",
       "      <td>Silver</td>\n",
       "    </tr>\n",
       "  </tbody>\n",
       "</table>\n",
       "<p>10127 rows × 6 columns</p>\n",
       "</div>"
      ],
      "text/plain": [
       "          Attrition_Flag Gender Education_Level Marital_Status  \\\n",
       "0      Existing Customer      M     High School        Married   \n",
       "1      Existing Customer      F        Graduate         Single   \n",
       "2      Existing Customer      M        Graduate        Married   \n",
       "3      Existing Customer      F     High School        Unknown   \n",
       "4      Existing Customer      M      Uneducated        Married   \n",
       "...                  ...    ...             ...            ...   \n",
       "10122  Existing Customer      M        Graduate         Single   \n",
       "10123  Attrited Customer      M         Unknown       Divorced   \n",
       "10124  Attrited Customer      F     High School        Married   \n",
       "10125  Attrited Customer      M        Graduate        Unknown   \n",
       "10126  Attrited Customer      F        Graduate        Married   \n",
       "\n",
       "      Income_Category Card_Category  \n",
       "0         $60K - $80K          Blue  \n",
       "1      Less than $40K          Blue  \n",
       "2        $80K - $120K          Blue  \n",
       "3      Less than $40K          Blue  \n",
       "4         $60K - $80K          Blue  \n",
       "...               ...           ...  \n",
       "10122     $40K - $60K          Blue  \n",
       "10123     $40K - $60K          Blue  \n",
       "10124  Less than $40K          Blue  \n",
       "10125     $40K - $60K          Blue  \n",
       "10126  Less than $40K        Silver  \n",
       "\n",
       "[10127 rows x 6 columns]"
      ]
     },
     "execution_count": 68,
     "metadata": {},
     "output_type": "execute_result"
    }
   ],
   "source": [
    "#Use ccattr_data's `select_dtypes` method to select columns of dtype 'object'\n",
    "ccattr_data.select_dtypes(object)"
   ]
  },
  {
   "cell_type": "markdown",
   "metadata": {},
   "source": [
    "Education level and Marital Status have unknown values."
   ]
  },
  {
   "cell_type": "markdown",
   "metadata": {},
   "source": [
    "Apart from above categorical features below  4 features may play role in churning rate.\n",
    "* Dependent_count\n",
    "* Total_Relationship_Count\n",
    "* Months_Inactive_12_mon\n",
    "* Contacts_Count_12_mon \n",
    "\n",
    "These features will provide insights for churning rate with Attrition_Flag being target value. And need to explore more about these features.\n",
    "* Gender \n",
    "* Education_Level \n",
    "* Marital_Status \n",
    "* Income_Category\n",
    "* Card_Category\n",
    "* Dependent_count\n",
    "* Total_Relationship_Count\n",
    "* Months_Inactive_12_mon\n",
    "* Contacts_Count_12_mon"
   ]
  },
  {
   "cell_type": "markdown",
   "metadata": {},
   "source": [
    "**Unique_values**"
   ]
  },
  {
   "cell_type": "code",
   "execution_count": 69,
   "metadata": {},
   "outputs": [
    {
     "data": {
      "text/plain": [
       "CLIENTNUM                   10127\n",
       "Avg_Open_To_Buy              6813\n",
       "Credit_Limit                 6205\n",
       "Total_Trans_Amt              5033\n",
       "Total_Revolving_Bal          1974\n",
       "naive_cls1                   1704\n",
       "Total_Amt_Chng_Q4_Q1         1158\n",
       "Avg_Utilization_Ratio         964\n",
       "Total_Ct_Chng_Q4_Q1           830\n",
       "naive_cls2                    640\n",
       "Total_Trans_Ct                126\n",
       "Customer_Age                   45\n",
       "Months_on_book                 44\n",
       "Contacts_Count_12_mon           7\n",
       "Education_Level                 7\n",
       "Months_Inactive_12_mon          7\n",
       "Total_Relationship_Count        6\n",
       "Income_Category                 6\n",
       "Dependent_count                 6\n",
       "Card_Category                   4\n",
       "Marital_Status                  4\n",
       "Attrition_Flag                  2\n",
       "Gender                          2\n",
       "dtype: int64"
      ]
     },
     "execution_count": 69,
     "metadata": {},
     "output_type": "execute_result"
    }
   ],
   "source": [
    "# Checking for nunique value in the data attributes\n",
    "ccattr_data.nunique().sort_values(ascending = False)"
   ]
  },
  {
   "cell_type": "markdown",
   "metadata": {},
   "source": [
    " CLIENTNUM appears to be unique value.This also tells there are no duplicate values."
   ]
  },
  {
   "cell_type": "code",
   "execution_count": 70,
   "metadata": {},
   "outputs": [
    {
     "name": "stdout",
     "output_type": "stream",
     "text": [
      "Attrition_Flag     2\n",
      "Gender             2\n",
      "Education_Level    7\n",
      "Marital_Status     4\n",
      "Income_Category    6\n",
      "Card_Category      4\n",
      "dtype: int64\n"
     ]
    }
   ],
   "source": [
    "# get into more specfic , find the unique values for categorical data\n",
    "cat_col = ccattr_data.select_dtypes(include = ['object'])\n",
    "unique_values = cat_col.nunique(dropna=False)\n",
    "print (unique_values)"
   ]
  },
  {
   "cell_type": "code",
   "execution_count": 71,
   "metadata": {},
   "outputs": [
    {
     "name": "stdout",
     "output_type": "stream",
     "text": [
      "CLIENTNUM                   10127\n",
      "Customer_Age                   45\n",
      "Dependent_count                 6\n",
      "Months_on_book                 44\n",
      "Total_Relationship_Count        6\n",
      "Months_Inactive_12_mon          7\n",
      "Contacts_Count_12_mon           7\n",
      "Total_Revolving_Bal          1974\n",
      "Total_Trans_Amt              5033\n",
      "Total_Trans_Ct                126\n",
      "dtype: int64\n"
     ]
    }
   ],
   "source": [
    "# get into more specfic , find the unique values for discrete data\n",
    "cat_col = ccattr_data.select_dtypes(include = ['int64'])\n",
    "unique_values = cat_col.nunique(dropna=False)\n",
    "print (unique_values)"
   ]
  },
  {
   "cell_type": "markdown",
   "metadata": {},
   "source": [
    "Unique values for float type is not necessary as they are income type."
   ]
  },
  {
   "cell_type": "markdown",
   "metadata": {},
   "source": [
    "**Find the unique values and their counts for these below features. These features may provide insights for churning rate with Attrition_Flag being target value**\n",
    "* Attrition_Flag \n",
    "* Gender \n",
    "* Education_Level \n",
    "* Marital_Status \n",
    "* Income_Category\n",
    "* Card_Category\n",
    "* Dependent_count\n",
    "* Total_Relationship_Count\n",
    "* Months_Inactive_12_mon\n",
    "* Contacts_Count_12_mon\n"
   ]
  },
  {
   "cell_type": "markdown",
   "metadata": {},
   "source": [
    "#unique values and their relative frequency for Attrition_Flag\n",
    "pd.DataFrame({\"Relative Frequency for Attrition_Flag\": ccattr_data['Attrition_Flag'].value_counts(normalize=True)})"
   ]
  },
  {
   "cell_type": "code",
   "execution_count": 72,
   "metadata": {},
   "outputs": [
    {
     "data": {
      "text/html": [
       "<div>\n",
       "<style scoped>\n",
       "    .dataframe tbody tr th:only-of-type {\n",
       "        vertical-align: middle;\n",
       "    }\n",
       "\n",
       "    .dataframe tbody tr th {\n",
       "        vertical-align: top;\n",
       "    }\n",
       "\n",
       "    .dataframe thead th {\n",
       "        text-align: right;\n",
       "    }\n",
       "</style>\n",
       "<table border=\"1\" class=\"dataframe\">\n",
       "  <thead>\n",
       "    <tr style=\"text-align: right;\">\n",
       "      <th></th>\n",
       "      <th>Relative Frequency for Gender</th>\n",
       "    </tr>\n",
       "  </thead>\n",
       "  <tbody>\n",
       "    <tr>\n",
       "      <th>F</th>\n",
       "      <td>0.529081</td>\n",
       "    </tr>\n",
       "    <tr>\n",
       "      <th>M</th>\n",
       "      <td>0.470919</td>\n",
       "    </tr>\n",
       "  </tbody>\n",
       "</table>\n",
       "</div>"
      ],
      "text/plain": [
       "   Relative Frequency for Gender\n",
       "F                       0.529081\n",
       "M                       0.470919"
      ]
     },
     "execution_count": 72,
     "metadata": {},
     "output_type": "execute_result"
    }
   ],
   "source": [
    "#unique values and their relative frequency for Gender\n",
    "pd.DataFrame({\"Relative Frequency for Gender\": ccattr_data['Gender'].value_counts(normalize=True)})"
   ]
  },
  {
   "cell_type": "code",
   "execution_count": 73,
   "metadata": {},
   "outputs": [
    {
     "data": {
      "text/html": [
       "<div>\n",
       "<style scoped>\n",
       "    .dataframe tbody tr th:only-of-type {\n",
       "        vertical-align: middle;\n",
       "    }\n",
       "\n",
       "    .dataframe tbody tr th {\n",
       "        vertical-align: top;\n",
       "    }\n",
       "\n",
       "    .dataframe thead th {\n",
       "        text-align: right;\n",
       "    }\n",
       "</style>\n",
       "<table border=\"1\" class=\"dataframe\">\n",
       "  <thead>\n",
       "    <tr style=\"text-align: right;\">\n",
       "      <th></th>\n",
       "      <th>Relative Frequency for Education_Level</th>\n",
       "    </tr>\n",
       "  </thead>\n",
       "  <tbody>\n",
       "    <tr>\n",
       "      <th>Graduate</th>\n",
       "      <td>0.308877</td>\n",
       "    </tr>\n",
       "    <tr>\n",
       "      <th>High School</th>\n",
       "      <td>0.198776</td>\n",
       "    </tr>\n",
       "    <tr>\n",
       "      <th>Unknown</th>\n",
       "      <td>0.149995</td>\n",
       "    </tr>\n",
       "    <tr>\n",
       "      <th>Uneducated</th>\n",
       "      <td>0.146835</td>\n",
       "    </tr>\n",
       "    <tr>\n",
       "      <th>College</th>\n",
       "      <td>0.100030</td>\n",
       "    </tr>\n",
       "    <tr>\n",
       "      <th>Post-Graduate</th>\n",
       "      <td>0.050953</td>\n",
       "    </tr>\n",
       "    <tr>\n",
       "      <th>Doctorate</th>\n",
       "      <td>0.044534</td>\n",
       "    </tr>\n",
       "  </tbody>\n",
       "</table>\n",
       "</div>"
      ],
      "text/plain": [
       "               Relative Frequency for Education_Level\n",
       "Graduate                                     0.308877\n",
       "High School                                  0.198776\n",
       "Unknown                                      0.149995\n",
       "Uneducated                                   0.146835\n",
       "College                                      0.100030\n",
       "Post-Graduate                                0.050953\n",
       "Doctorate                                    0.044534"
      ]
     },
     "execution_count": 73,
     "metadata": {},
     "output_type": "execute_result"
    }
   ],
   "source": [
    "#unique values and their relative frequency for Education_Level\n",
    "pd.DataFrame({\"Relative Frequency for Education_Level\": ccattr_data['Education_Level'].value_counts(normalize=True)})"
   ]
  },
  {
   "cell_type": "markdown",
   "metadata": {},
   "source": [
    "Education_Level has the value \"Unknown\". This needs to be treated."
   ]
  },
  {
   "cell_type": "code",
   "execution_count": 74,
   "metadata": {},
   "outputs": [
    {
     "data": {
      "text/html": [
       "<div>\n",
       "<style scoped>\n",
       "    .dataframe tbody tr th:only-of-type {\n",
       "        vertical-align: middle;\n",
       "    }\n",
       "\n",
       "    .dataframe tbody tr th {\n",
       "        vertical-align: top;\n",
       "    }\n",
       "\n",
       "    .dataframe thead th {\n",
       "        text-align: right;\n",
       "    }\n",
       "</style>\n",
       "<table border=\"1\" class=\"dataframe\">\n",
       "  <thead>\n",
       "    <tr style=\"text-align: right;\">\n",
       "      <th></th>\n",
       "      <th>Relative Frequency for Marital_Status</th>\n",
       "    </tr>\n",
       "  </thead>\n",
       "  <tbody>\n",
       "    <tr>\n",
       "      <th>Married</th>\n",
       "      <td>0.462822</td>\n",
       "    </tr>\n",
       "    <tr>\n",
       "      <th>Single</th>\n",
       "      <td>0.389355</td>\n",
       "    </tr>\n",
       "    <tr>\n",
       "      <th>Unknown</th>\n",
       "      <td>0.073961</td>\n",
       "    </tr>\n",
       "    <tr>\n",
       "      <th>Divorced</th>\n",
       "      <td>0.073862</td>\n",
       "    </tr>\n",
       "  </tbody>\n",
       "</table>\n",
       "</div>"
      ],
      "text/plain": [
       "          Relative Frequency for Marital_Status\n",
       "Married                                0.462822\n",
       "Single                                 0.389355\n",
       "Unknown                                0.073961\n",
       "Divorced                               0.073862"
      ]
     },
     "execution_count": 74,
     "metadata": {},
     "output_type": "execute_result"
    }
   ],
   "source": [
    "#unique values and their relative frequency for Marital_Status\n",
    "pd.DataFrame({\"Relative Frequency for Marital_Status\": ccattr_data['Marital_Status'].value_counts(normalize=True)})"
   ]
  },
  {
   "cell_type": "markdown",
   "metadata": {},
   "source": [
    "Marital_Status has the value \"Unknown\". This needs to be treated."
   ]
  },
  {
   "cell_type": "markdown",
   "metadata": {},
   "source": [
    "#unique values and their relative frequency for Income_Category\n",
    "pd.DataFrame({\"Relative Frequency for Income_Category\": ccattr_data['Income_Category'].value_counts(normalize=True)})"
   ]
  },
  {
   "cell_type": "markdown",
   "metadata": {},
   "source": [
    "Income_Category has the value \"Unknown\". This needs to be treated."
   ]
  },
  {
   "cell_type": "code",
   "execution_count": 75,
   "metadata": {},
   "outputs": [
    {
     "data": {
      "text/html": [
       "<div>\n",
       "<style scoped>\n",
       "    .dataframe tbody tr th:only-of-type {\n",
       "        vertical-align: middle;\n",
       "    }\n",
       "\n",
       "    .dataframe tbody tr th {\n",
       "        vertical-align: top;\n",
       "    }\n",
       "\n",
       "    .dataframe thead th {\n",
       "        text-align: right;\n",
       "    }\n",
       "</style>\n",
       "<table border=\"1\" class=\"dataframe\">\n",
       "  <thead>\n",
       "    <tr style=\"text-align: right;\">\n",
       "      <th></th>\n",
       "      <th>Relative Frequency for Card_Category</th>\n",
       "    </tr>\n",
       "  </thead>\n",
       "  <tbody>\n",
       "    <tr>\n",
       "      <th>Blue</th>\n",
       "      <td>0.931767</td>\n",
       "    </tr>\n",
       "    <tr>\n",
       "      <th>Silver</th>\n",
       "      <td>0.054804</td>\n",
       "    </tr>\n",
       "    <tr>\n",
       "      <th>Gold</th>\n",
       "      <td>0.011455</td>\n",
       "    </tr>\n",
       "    <tr>\n",
       "      <th>Platinum</th>\n",
       "      <td>0.001975</td>\n",
       "    </tr>\n",
       "  </tbody>\n",
       "</table>\n",
       "</div>"
      ],
      "text/plain": [
       "          Relative Frequency for Card_Category\n",
       "Blue                                  0.931767\n",
       "Silver                                0.054804\n",
       "Gold                                  0.011455\n",
       "Platinum                              0.001975"
      ]
     },
     "execution_count": 75,
     "metadata": {},
     "output_type": "execute_result"
    }
   ],
   "source": [
    "#unique values and their relative frequency for Card_Category\n",
    "pd.DataFrame({\"Relative Frequency for Card_Category\": ccattr_data['Card_Category'].value_counts(normalize=True)})"
   ]
  },
  {
   "cell_type": "code",
   "execution_count": 76,
   "metadata": {},
   "outputs": [
    {
     "data": {
      "text/html": [
       "<div>\n",
       "<style scoped>\n",
       "    .dataframe tbody tr th:only-of-type {\n",
       "        vertical-align: middle;\n",
       "    }\n",
       "\n",
       "    .dataframe tbody tr th {\n",
       "        vertical-align: top;\n",
       "    }\n",
       "\n",
       "    .dataframe thead th {\n",
       "        text-align: right;\n",
       "    }\n",
       "</style>\n",
       "<table border=\"1\" class=\"dataframe\">\n",
       "  <thead>\n",
       "    <tr style=\"text-align: right;\">\n",
       "      <th></th>\n",
       "      <th>Relative Frequency for Dependent_count</th>\n",
       "    </tr>\n",
       "  </thead>\n",
       "  <tbody>\n",
       "    <tr>\n",
       "      <th>3</th>\n",
       "      <td>0.269774</td>\n",
       "    </tr>\n",
       "    <tr>\n",
       "      <th>2</th>\n",
       "      <td>0.262170</td>\n",
       "    </tr>\n",
       "    <tr>\n",
       "      <th>1</th>\n",
       "      <td>0.181495</td>\n",
       "    </tr>\n",
       "    <tr>\n",
       "      <th>4</th>\n",
       "      <td>0.155426</td>\n",
       "    </tr>\n",
       "    <tr>\n",
       "      <th>0</th>\n",
       "      <td>0.089266</td>\n",
       "    </tr>\n",
       "    <tr>\n",
       "      <th>5</th>\n",
       "      <td>0.041868</td>\n",
       "    </tr>\n",
       "  </tbody>\n",
       "</table>\n",
       "</div>"
      ],
      "text/plain": [
       "   Relative Frequency for Dependent_count\n",
       "3                                0.269774\n",
       "2                                0.262170\n",
       "1                                0.181495\n",
       "4                                0.155426\n",
       "0                                0.089266\n",
       "5                                0.041868"
      ]
     },
     "execution_count": 76,
     "metadata": {},
     "output_type": "execute_result"
    }
   ],
   "source": [
    "#unique values and their relative frequency for Dependent_count\n",
    "pd.DataFrame({\"Relative Frequency for Dependent_count\": ccattr_data['Dependent_count'].value_counts(normalize=True)})"
   ]
  },
  {
   "cell_type": "code",
   "execution_count": 77,
   "metadata": {},
   "outputs": [
    {
     "data": {
      "text/html": [
       "<div>\n",
       "<style scoped>\n",
       "    .dataframe tbody tr th:only-of-type {\n",
       "        vertical-align: middle;\n",
       "    }\n",
       "\n",
       "    .dataframe tbody tr th {\n",
       "        vertical-align: top;\n",
       "    }\n",
       "\n",
       "    .dataframe thead th {\n",
       "        text-align: right;\n",
       "    }\n",
       "</style>\n",
       "<table border=\"1\" class=\"dataframe\">\n",
       "  <thead>\n",
       "    <tr style=\"text-align: right;\">\n",
       "      <th></th>\n",
       "      <th>Relative Frequency for Total_Relationship_Count</th>\n",
       "    </tr>\n",
       "  </thead>\n",
       "  <tbody>\n",
       "    <tr>\n",
       "      <th>3</th>\n",
       "      <td>0.227609</td>\n",
       "    </tr>\n",
       "    <tr>\n",
       "      <th>4</th>\n",
       "      <td>0.188802</td>\n",
       "    </tr>\n",
       "    <tr>\n",
       "      <th>5</th>\n",
       "      <td>0.186729</td>\n",
       "    </tr>\n",
       "    <tr>\n",
       "      <th>6</th>\n",
       "      <td>0.184260</td>\n",
       "    </tr>\n",
       "    <tr>\n",
       "      <th>2</th>\n",
       "      <td>0.122741</td>\n",
       "    </tr>\n",
       "    <tr>\n",
       "      <th>1</th>\n",
       "      <td>0.089859</td>\n",
       "    </tr>\n",
       "  </tbody>\n",
       "</table>\n",
       "</div>"
      ],
      "text/plain": [
       "   Relative Frequency for Total_Relationship_Count\n",
       "3                                         0.227609\n",
       "4                                         0.188802\n",
       "5                                         0.186729\n",
       "6                                         0.184260\n",
       "2                                         0.122741\n",
       "1                                         0.089859"
      ]
     },
     "execution_count": 77,
     "metadata": {},
     "output_type": "execute_result"
    }
   ],
   "source": [
    "#unique values and their relative frequency for Total_Relationship_Count\n",
    "pd.DataFrame({\"Relative Frequency for Total_Relationship_Count\": ccattr_data['Total_Relationship_Count'].value_counts(normalize=True)})"
   ]
  },
  {
   "cell_type": "code",
   "execution_count": 78,
   "metadata": {},
   "outputs": [
    {
     "data": {
      "text/html": [
       "<div>\n",
       "<style scoped>\n",
       "    .dataframe tbody tr th:only-of-type {\n",
       "        vertical-align: middle;\n",
       "    }\n",
       "\n",
       "    .dataframe tbody tr th {\n",
       "        vertical-align: top;\n",
       "    }\n",
       "\n",
       "    .dataframe thead th {\n",
       "        text-align: right;\n",
       "    }\n",
       "</style>\n",
       "<table border=\"1\" class=\"dataframe\">\n",
       "  <thead>\n",
       "    <tr style=\"text-align: right;\">\n",
       "      <th></th>\n",
       "      <th>Relative Frequency for Months_Inactive_12_mon</th>\n",
       "    </tr>\n",
       "  </thead>\n",
       "  <tbody>\n",
       "    <tr>\n",
       "      <th>3</th>\n",
       "      <td>0.379777</td>\n",
       "    </tr>\n",
       "    <tr>\n",
       "      <th>2</th>\n",
       "      <td>0.324084</td>\n",
       "    </tr>\n",
       "    <tr>\n",
       "      <th>1</th>\n",
       "      <td>0.220500</td>\n",
       "    </tr>\n",
       "    <tr>\n",
       "      <th>4</th>\n",
       "      <td>0.042954</td>\n",
       "    </tr>\n",
       "    <tr>\n",
       "      <th>5</th>\n",
       "      <td>0.017577</td>\n",
       "    </tr>\n",
       "    <tr>\n",
       "      <th>6</th>\n",
       "      <td>0.012244</td>\n",
       "    </tr>\n",
       "    <tr>\n",
       "      <th>0</th>\n",
       "      <td>0.002864</td>\n",
       "    </tr>\n",
       "  </tbody>\n",
       "</table>\n",
       "</div>"
      ],
      "text/plain": [
       "   Relative Frequency for Months_Inactive_12_mon\n",
       "3                                       0.379777\n",
       "2                                       0.324084\n",
       "1                                       0.220500\n",
       "4                                       0.042954\n",
       "5                                       0.017577\n",
       "6                                       0.012244\n",
       "0                                       0.002864"
      ]
     },
     "execution_count": 78,
     "metadata": {},
     "output_type": "execute_result"
    }
   ],
   "source": [
    "#unique values and their relative frequency for Months_Inactive_12_mon\n",
    "pd.DataFrame({\"Relative Frequency for Months_Inactive_12_mon\": ccattr_data['Months_Inactive_12_mon'].value_counts(normalize=True)})"
   ]
  },
  {
   "cell_type": "code",
   "execution_count": 79,
   "metadata": {},
   "outputs": [
    {
     "data": {
      "text/html": [
       "<div>\n",
       "<style scoped>\n",
       "    .dataframe tbody tr th:only-of-type {\n",
       "        vertical-align: middle;\n",
       "    }\n",
       "\n",
       "    .dataframe tbody tr th {\n",
       "        vertical-align: top;\n",
       "    }\n",
       "\n",
       "    .dataframe thead th {\n",
       "        text-align: right;\n",
       "    }\n",
       "</style>\n",
       "<table border=\"1\" class=\"dataframe\">\n",
       "  <thead>\n",
       "    <tr style=\"text-align: right;\">\n",
       "      <th></th>\n",
       "      <th>Relative Frequency for Contacts_Count_12_mon</th>\n",
       "    </tr>\n",
       "  </thead>\n",
       "  <tbody>\n",
       "    <tr>\n",
       "      <th>3</th>\n",
       "      <td>0.379777</td>\n",
       "    </tr>\n",
       "    <tr>\n",
       "      <th>2</th>\n",
       "      <td>0.324084</td>\n",
       "    </tr>\n",
       "    <tr>\n",
       "      <th>1</th>\n",
       "      <td>0.220500</td>\n",
       "    </tr>\n",
       "    <tr>\n",
       "      <th>4</th>\n",
       "      <td>0.042954</td>\n",
       "    </tr>\n",
       "    <tr>\n",
       "      <th>5</th>\n",
       "      <td>0.017577</td>\n",
       "    </tr>\n",
       "    <tr>\n",
       "      <th>6</th>\n",
       "      <td>0.012244</td>\n",
       "    </tr>\n",
       "    <tr>\n",
       "      <th>0</th>\n",
       "      <td>0.002864</td>\n",
       "    </tr>\n",
       "  </tbody>\n",
       "</table>\n",
       "</div>"
      ],
      "text/plain": [
       "   Relative Frequency for Contacts_Count_12_mon\n",
       "3                                      0.379777\n",
       "2                                      0.324084\n",
       "1                                      0.220500\n",
       "4                                      0.042954\n",
       "5                                      0.017577\n",
       "6                                      0.012244\n",
       "0                                      0.002864"
      ]
     },
     "execution_count": 79,
     "metadata": {},
     "output_type": "execute_result"
    }
   ],
   "source": [
    "#unique values and their relative frequency for Contacts_Count_12_mon\n",
    "pd.DataFrame({\"Relative Frequency for Contacts_Count_12_mon\": ccattr_data['Months_Inactive_12_mon'].value_counts(normalize=True)})"
   ]
  },
  {
   "cell_type": "markdown",
   "metadata": {},
   "source": [
    "###### A casual inspection by eye reveals following\n",
    "* Total of 16% customers has attrited against 84% are still with bank.\n",
    "* Bank has both Male and Female are almost same number.\n",
    "* More customer are with education \"Graduate\", followed with \"unknown\", with \"Uneducated\" and \"College\".\n",
    "* Most of them are married or single.\n",
    "* Less than 40K income customer are more.\n",
    "* Customer with 2 or 3 dependednt top the list.Maximum dependency is 5.\n",
    "* Blue card has more customers.\n",
    "* Maximum 6 product are held by customer, people with 3 products tops the list.Followed with 4 and 5.\n",
    "* Customer are in contact with Bank for 0 times are at the least, followed with 6 times.Customer with 2 and 3 times contacted by Bank are toping the list.\n",
    "* More customer stayed inactive for 2-3 months.\n",
    "* Education level,Income category,martial status has \"Unknown\" category , this will have to be treated as missing value and will have to be imputed.\n",
    "\n"
   ]
  },
  {
   "cell_type": "markdown",
   "metadata": {},
   "source": [
    "**Fix \"Unknown\" for 'Education_Level', 'Marital_Status', 'Income_Category' according to the respective mode**"
   ]
  },
  {
   "cell_type": "code",
   "execution_count": 80,
   "metadata": {},
   "outputs": [
    {
     "data": {
      "text/plain": [
       "CategoricalDtype(categories=['College', 'Doctorate', 'Graduate', 'High School',\n",
       "                  'Post-Graduate', 'Uneducated', 'Unknown'],\n",
       ", ordered=False)"
      ]
     },
     "execution_count": 80,
     "metadata": {},
     "output_type": "execute_result"
    }
   ],
   "source": [
    "#Converting Education_Level to Categorical data type and storing in as feature Education_Level_sorted\n",
    "ccattr_data[\"Education_Level_sorted\"] = ccattr_data[\"Education_Level\"].astype(\"category\")\n",
    "ccattr_data[\"Education_Level_sorted\"].dtype"
   ]
  },
  {
   "cell_type": "code",
   "execution_count": 81,
   "metadata": {},
   "outputs": [],
   "source": [
    "#Prepare Order for the Education level\n",
    "list_ordering = [\"Unknown\",\"Uneducated\",\"High School\",\"College\",\"Graduate\",\"Post-Graduate\",\"Doctorate\"]\n",
    "#Apply ordering to Education_level_sorted\n",
    "ccattr_data[\"Education_Level_sorted\"] = pd.Categorical(ccattr_data[\"Education_Level\"], categories=list_ordering)\n",
    "ccattr_data.sort_values('Education_Level_sorted', inplace=True)"
   ]
  },
  {
   "cell_type": "code",
   "execution_count": 82,
   "metadata": {},
   "outputs": [
    {
     "data": {
      "image/png": "[encoded data removed]",
      "text/plain": [
       "<Figure size 576x432 with 1 Axes>"
      ]
     },
     "metadata": {},
     "output_type": "display_data"
    }
   ],
   "source": [
    "#Plot the hist\n",
    "ccattr_data[\"Education_Level_sorted\"].hist(bins=15,figsize =(8,6),color = \"teal\")\n",
    "plt.xlabel('Education Level',fontsize=12)\n",
    "plt.ylabel('Count',fontsize=12)\n",
    "plt.title('Distribution of Education Level',fontsize=14);"
   ]
  },
  {
   "cell_type": "code",
   "execution_count": 83,
   "metadata": {},
   "outputs": [
    {
     "data": {
      "text/plain": [
       "CategoricalDtype(categories=['Divorced', 'Married', 'Single', 'Unknown'], ordered=False)"
      ]
     },
     "execution_count": 83,
     "metadata": {},
     "output_type": "execute_result"
    }
   ],
   "source": [
    "#Converting Marital_Status to Categorical data type and storing in as feature Marital_Status_sorted\n",
    "ccattr_data[\"Marital_Status_sorted\"] = ccattr_data[\"Marital_Status\"].astype(\"category\")\n",
    "ccattr_data[\"Marital_Status_sorted\"].dtype"
   ]
  },
  {
   "cell_type": "code",
   "execution_count": 84,
   "metadata": {},
   "outputs": [],
   "source": [
    "#Prepare Order for the Marital_Status_sorted\n",
    "list_ordering = [\"Unknown\",\"Single\",\"Married\",\"Divorced\"]\n",
    "#Apply ordering to Marital_Status_sorted\n",
    "ccattr_data[\"Marital_Status_sorted\"] = pd.Categorical(ccattr_data[\"Marital_Status_sorted\"], categories=list_ordering)\n",
    "ccattr_data.sort_values('Marital_Status_sorted', inplace=True)"
   ]
  },
  {
   "cell_type": "code",
   "execution_count": 85,
   "metadata": {},
   "outputs": [
    {
     "data": {
      "text/plain": [
       "Text(0.5, 1.0, 'Distribution of Marital Status')"
      ]
     },
     "execution_count": 85,
     "metadata": {},
     "output_type": "execute_result"
    },
    {
     "data": {
      "image/png": "[encoded data removed]",
      "text/plain": [
       "<Figure size 576x432 with 1 Axes>"
      ]
     },
     "metadata": {},
     "output_type": "display_data"
    }
   ],
   "source": [
    "ccattr_data[\"Marital_Status_sorted\"].hist(bins=8,figsize =(8,6),color = \"teal\")\n",
    "plt.xlabel('Marital Status',fontsize=12)\n",
    "plt.ylabel('Count',fontsize=12)\n",
    "plt.title('Distribution of Marital Status',fontsize=14)"
   ]
  },
  {
   "cell_type": "code",
   "execution_count": 86,
   "metadata": {},
   "outputs": [],
   "source": [
    "# create a new column for \"Income_Category\" with suffix \"_relabeled\"\n",
    "ccattr_data[\"Income_Category_relabeled\"] = ccattr_data[\"Income_Category\"]\n",
    "# Cleaned label :more intutive label \n",
    "replace_values = {\"Less than $40K\":\"0K - 40K\",\"$40K - $60K\" : \"40k − 60K\",\"$60K - $80K\":\"60K - 80K\",\"$80K - $120K\" : \"80K - 120K\",\"$120K +\":\"120K +\"}\n",
    "# replace/map with more intuitive label\n",
    "ccattr_data=ccattr_data.replace({\"Income_Category_relabeled\" : replace_values})"
   ]
  },
  {
   "cell_type": "code",
   "execution_count": 87,
   "metadata": {},
   "outputs": [],
   "source": [
    "#Converting Income_Category to Categorical data type and storing in as feature Income_Category_sorted\n",
    "ccattr_data[\"Income_Category_sorted\"] = ccattr_data[\"Income_Category_relabeled\"].astype(\"category\")\n",
    "#ccattr_data[\"Income_Category_sorted\"].dtype\n",
    "\n",
    "#Prepare Order for the Income_Category_sorted\n",
    "list_ordering=[\"Unknown\",\"0K - 40K\",\"40k − 60K\",\"60K - 80K\",\"80K - 120K\",\"120K +\"]\n",
    "#Apply ordering to Income_Category_sorted\n",
    "ccattr_data[\"Income_Category_sorted\"] = pd.Categorical(ccattr_data[\"Income_Category_sorted\"], categories=list_ordering)\n",
    "ccattr_data.sort_values('Income_Category_sorted', inplace=True)"
   ]
  },
  {
   "cell_type": "code",
   "execution_count": 88,
   "metadata": {},
   "outputs": [
    {
     "data": {
      "image/png": "[encoded data removed]",
      "text/plain": [
       "<Figure size 576x432 with 1 Axes>"
      ]
     },
     "metadata": {},
     "output_type": "display_data"
    }
   ],
   "source": [
    "#Plot the hist\n",
    "ccattr_data.sort_values('Income_Category_sorted', inplace=True)\n",
    "ccattr_data[\"Income_Category_relabeled\"].hist(bins=12,figsize =(8,6),color = \"teal\")\n",
    "plt.xlabel('Income_Category',fontsize=12)\n",
    "plt.ylabel('Count',fontsize=12)\n",
    "plt.title('Distribution of Income Category',fontsize=16);"
   ]
  },
  {
   "cell_type": "markdown",
   "metadata": {},
   "source": [
    "**Check for \"Unknown\" values and replace with the respective mode for 'Education_Level', 'Marital_Status', 'Income_Category'**"
   ]
  },
  {
   "cell_type": "code",
   "execution_count": 89,
   "metadata": {},
   "outputs": [
    {
     "name": "stdout",
     "output_type": "stream",
     "text": [
      "-----------------------------------\n",
      "Feature: Education_Level_sorted\n",
      "-----------------------------------\n",
      "               Counts\n",
      "Graduate         4647\n",
      "High School      2013\n",
      "Uneducated       1487\n",
      "College          1013\n",
      "Post-Graduate     516\n",
      "Doctorate         451\n",
      "Unknown             0\n",
      "-----------------------------------\n",
      "Feature: Marital_Status_sorted\n",
      "-----------------------------------\n",
      "          Counts\n",
      "Married     5436\n",
      "Single      3943\n",
      "Divorced     748\n",
      "Unknown        0\n",
      "-----------------------------------\n",
      "Feature: Income_Category_sorted\n",
      "-----------------------------------\n",
      "            Counts\n",
      "0K - 40K      4673\n",
      "40k − 60K     1790\n",
      "80K - 120K    1535\n",
      "60K - 80K     1402\n",
      "120K +         727\n",
      "Unknown          0\n"
     ]
    }
   ],
   "source": [
    "CCAttr_cols = ['Education_Level_sorted', 'Marital_Status_sorted', 'Income_Category_sorted']\n",
    "for col in CCAttr_cols:\n",
    "    mode = ccattr_data[col].mode()[0]\n",
    "    ccattr_data.loc[ccattr_data[col] == 'Unknown', col] = mode    \n",
    "    print(\"-\"*35)\n",
    "    print(f\"Feature: {col}\")\n",
    "    print(\"-\"*35)\n",
    "    print(pd.DataFrame({\"Counts\": ccattr_data[col].value_counts(dropna=False)}).\n",
    "          sort_values(by='Counts', ascending=False))"
   ]
  },
  {
   "cell_type": "markdown",
   "metadata": {},
   "source": [
    "All looks good, there is No \"Unknown\" values."
   ]
  },
  {
   "cell_type": "markdown",
   "metadata": {},
   "source": [
    "**Sorting the categorical feature Card category and ploting hist**"
   ]
  },
  {
   "cell_type": "code",
   "execution_count": 90,
   "metadata": {},
   "outputs": [
    {
     "data": {
      "text/plain": [
       "CategoricalDtype(categories=['Blue', 'Gold', 'Platinum', 'Silver'], ordered=False)"
      ]
     },
     "execution_count": 90,
     "metadata": {},
     "output_type": "execute_result"
    }
   ],
   "source": [
    "#Converting Card_Category to Categorical data type and storing in as feature Card_Category_sorted\n",
    "ccattr_data[\"Card_Category_sorted\"] = ccattr_data[\"Card_Category\"].astype(\"category\")\n",
    "ccattr_data[\"Card_Category_sorted\"].dtype"
   ]
  },
  {
   "cell_type": "code",
   "execution_count": 91,
   "metadata": {},
   "outputs": [],
   "source": [
    "#Prepare Order for the Card_Category sorted\n",
    "list_ordering = [\"Blue\",\"Silver\",\"Gold\",\"Platinum\"]\n",
    "#Apply ordering to Card_Category_sorted\n",
    "ccattr_data[\"Card_Category_sorted\"] = pd.Categorical(ccattr_data[\"Card_Category_sorted\"], categories=list_ordering)\n",
    "ccattr_data.sort_values('Card_Category_sorted', inplace=True)"
   ]
  },
  {
   "cell_type": "code",
   "execution_count": 92,
   "metadata": {},
   "outputs": [
    {
     "data": {
      "text/plain": [
       "Text(0.5, 1.0, 'Distribution of Card Category')"
      ]
     },
     "execution_count": 92,
     "metadata": {},
     "output_type": "execute_result"
    },
    {
     "data": {
      "image/png": "[encoded data removed]",
      "text/plain": [
       "<Figure size 576x432 with 1 Axes>"
      ]
     },
     "metadata": {},
     "output_type": "display_data"
    }
   ],
   "source": [
    "#Plot the hist\n",
    "ccattr_data[\"Card_Category_sorted\"].hist(bins=8,figsize =(8,6),color = \"forestgreen\")\n",
    "plt.xlabel('Card Category',fontsize=12)\n",
    "plt.ylabel('Count',fontsize=12)\n",
    "plt.title('Distribution of Card Category',fontsize=14)"
   ]
  },
  {
   "cell_type": "markdown",
   "metadata": {},
   "source": [
    "Majority of the customer owns Blue card type."
   ]
  },
  {
   "cell_type": "code",
   "execution_count": 93,
   "metadata": {},
   "outputs": [
    {
     "data": {
      "text/plain": [
       "\"cat_cols = ['Gender','Dependent_count','Total_Relationship_Count','Months_Inactive_12_mon','Contacts_Count_12_mon']\\n\\nccattr_data[cat_cols] = ccattr_data[cat_cols].astype('category')\\nccattr_data.info()\""
      ]
     },
     "execution_count": 93,
     "metadata": {},
     "output_type": "execute_result"
    }
   ],
   "source": [
    "'''cat_cols = ['Gender','Dependent_count','Total_Relationship_Count','Months_Inactive_12_mon','Contacts_Count_12_mon']\n",
    "\n",
    "ccattr_data[cat_cols] = ccattr_data[cat_cols].astype('category')\n",
    "ccattr_data.info()'''"
   ]
  },
  {
   "cell_type": "markdown",
   "metadata": {},
   "source": [
    "### Numeric Features<a id='Numeric_Features'></a>"
   ]
  },
  {
   "cell_type": "code",
   "execution_count": 94,
   "metadata": {},
   "outputs": [
    {
     "data": {
      "text/html": [
       "<div>\n",
       "<style scoped>\n",
       "    .dataframe tbody tr th:only-of-type {\n",
       "        vertical-align: middle;\n",
       "    }\n",
       "\n",
       "    .dataframe tbody tr th {\n",
       "        vertical-align: top;\n",
       "    }\n",
       "\n",
       "    .dataframe thead th {\n",
       "        text-align: right;\n",
       "    }\n",
       "</style>\n",
       "<table border=\"1\" class=\"dataframe\">\n",
       "  <thead>\n",
       "    <tr style=\"text-align: right;\">\n",
       "      <th></th>\n",
       "      <th>count</th>\n",
       "      <th>mean</th>\n",
       "      <th>std</th>\n",
       "      <th>min</th>\n",
       "      <th>25%</th>\n",
       "      <th>50%</th>\n",
       "      <th>75%</th>\n",
       "      <th>max</th>\n",
       "    </tr>\n",
       "  </thead>\n",
       "  <tbody>\n",
       "    <tr>\n",
       "      <th>CLIENTNUM</th>\n",
       "      <td>10127.0</td>\n",
       "      <td>7.391776e+08</td>\n",
       "      <td>3.690378e+07</td>\n",
       "      <td>7.080821e+08</td>\n",
       "      <td>7.130368e+08</td>\n",
       "      <td>7.179264e+08</td>\n",
       "      <td>7.731435e+08</td>\n",
       "      <td>8.283431e+08</td>\n",
       "    </tr>\n",
       "    <tr>\n",
       "      <th>Customer_Age</th>\n",
       "      <td>10127.0</td>\n",
       "      <td>4.632596e+01</td>\n",
       "      <td>8.016814e+00</td>\n",
       "      <td>2.600000e+01</td>\n",
       "      <td>4.100000e+01</td>\n",
       "      <td>4.600000e+01</td>\n",
       "      <td>5.200000e+01</td>\n",
       "      <td>7.300000e+01</td>\n",
       "    </tr>\n",
       "    <tr>\n",
       "      <th>Dependent_count</th>\n",
       "      <td>10127.0</td>\n",
       "      <td>2.346203e+00</td>\n",
       "      <td>1.298908e+00</td>\n",
       "      <td>0.000000e+00</td>\n",
       "      <td>1.000000e+00</td>\n",
       "      <td>2.000000e+00</td>\n",
       "      <td>3.000000e+00</td>\n",
       "      <td>5.000000e+00</td>\n",
       "    </tr>\n",
       "    <tr>\n",
       "      <th>Months_on_book</th>\n",
       "      <td>10127.0</td>\n",
       "      <td>3.592841e+01</td>\n",
       "      <td>7.986416e+00</td>\n",
       "      <td>1.300000e+01</td>\n",
       "      <td>3.100000e+01</td>\n",
       "      <td>3.600000e+01</td>\n",
       "      <td>4.000000e+01</td>\n",
       "      <td>5.600000e+01</td>\n",
       "    </tr>\n",
       "    <tr>\n",
       "      <th>Total_Relationship_Count</th>\n",
       "      <td>10127.0</td>\n",
       "      <td>3.812580e+00</td>\n",
       "      <td>1.554408e+00</td>\n",
       "      <td>1.000000e+00</td>\n",
       "      <td>3.000000e+00</td>\n",
       "      <td>4.000000e+00</td>\n",
       "      <td>5.000000e+00</td>\n",
       "      <td>6.000000e+00</td>\n",
       "    </tr>\n",
       "    <tr>\n",
       "      <th>Months_Inactive_12_mon</th>\n",
       "      <td>10127.0</td>\n",
       "      <td>2.341167e+00</td>\n",
       "      <td>1.010622e+00</td>\n",
       "      <td>0.000000e+00</td>\n",
       "      <td>2.000000e+00</td>\n",
       "      <td>2.000000e+00</td>\n",
       "      <td>3.000000e+00</td>\n",
       "      <td>6.000000e+00</td>\n",
       "    </tr>\n",
       "    <tr>\n",
       "      <th>Contacts_Count_12_mon</th>\n",
       "      <td>10127.0</td>\n",
       "      <td>2.455317e+00</td>\n",
       "      <td>1.106225e+00</td>\n",
       "      <td>0.000000e+00</td>\n",
       "      <td>2.000000e+00</td>\n",
       "      <td>2.000000e+00</td>\n",
       "      <td>3.000000e+00</td>\n",
       "      <td>6.000000e+00</td>\n",
       "    </tr>\n",
       "    <tr>\n",
       "      <th>Credit_Limit</th>\n",
       "      <td>10127.0</td>\n",
       "      <td>8.631954e+03</td>\n",
       "      <td>9.088777e+03</td>\n",
       "      <td>1.438300e+03</td>\n",
       "      <td>2.555000e+03</td>\n",
       "      <td>4.549000e+03</td>\n",
       "      <td>1.106750e+04</td>\n",
       "      <td>3.451600e+04</td>\n",
       "    </tr>\n",
       "    <tr>\n",
       "      <th>Total_Revolving_Bal</th>\n",
       "      <td>10127.0</td>\n",
       "      <td>1.162814e+03</td>\n",
       "      <td>8.149873e+02</td>\n",
       "      <td>0.000000e+00</td>\n",
       "      <td>3.590000e+02</td>\n",
       "      <td>1.276000e+03</td>\n",
       "      <td>1.784000e+03</td>\n",
       "      <td>2.517000e+03</td>\n",
       "    </tr>\n",
       "    <tr>\n",
       "      <th>Avg_Open_To_Buy</th>\n",
       "      <td>10127.0</td>\n",
       "      <td>7.469140e+03</td>\n",
       "      <td>9.090685e+03</td>\n",
       "      <td>3.000000e+00</td>\n",
       "      <td>1.324500e+03</td>\n",
       "      <td>3.474000e+03</td>\n",
       "      <td>9.859000e+03</td>\n",
       "      <td>3.451600e+04</td>\n",
       "    </tr>\n",
       "    <tr>\n",
       "      <th>Total_Amt_Chng_Q4_Q1</th>\n",
       "      <td>10127.0</td>\n",
       "      <td>7.599407e-01</td>\n",
       "      <td>2.192068e-01</td>\n",
       "      <td>0.000000e+00</td>\n",
       "      <td>6.310000e-01</td>\n",
       "      <td>7.360000e-01</td>\n",
       "      <td>8.590000e-01</td>\n",
       "      <td>3.397000e+00</td>\n",
       "    </tr>\n",
       "    <tr>\n",
       "      <th>Total_Trans_Amt</th>\n",
       "      <td>10127.0</td>\n",
       "      <td>4.404086e+03</td>\n",
       "      <td>3.397129e+03</td>\n",
       "      <td>5.100000e+02</td>\n",
       "      <td>2.155500e+03</td>\n",
       "      <td>3.899000e+03</td>\n",
       "      <td>4.741000e+03</td>\n",
       "      <td>1.848400e+04</td>\n",
       "    </tr>\n",
       "    <tr>\n",
       "      <th>Total_Trans_Ct</th>\n",
       "      <td>10127.0</td>\n",
       "      <td>6.485869e+01</td>\n",
       "      <td>2.347257e+01</td>\n",
       "      <td>1.000000e+01</td>\n",
       "      <td>4.500000e+01</td>\n",
       "      <td>6.700000e+01</td>\n",
       "      <td>8.100000e+01</td>\n",
       "      <td>1.390000e+02</td>\n",
       "    </tr>\n",
       "    <tr>\n",
       "      <th>Total_Ct_Chng_Q4_Q1</th>\n",
       "      <td>10127.0</td>\n",
       "      <td>7.122224e-01</td>\n",
       "      <td>2.380861e-01</td>\n",
       "      <td>0.000000e+00</td>\n",
       "      <td>5.820000e-01</td>\n",
       "      <td>7.020000e-01</td>\n",
       "      <td>8.180000e-01</td>\n",
       "      <td>3.714000e+00</td>\n",
       "    </tr>\n",
       "    <tr>\n",
       "      <th>Avg_Utilization_Ratio</th>\n",
       "      <td>10127.0</td>\n",
       "      <td>2.748936e-01</td>\n",
       "      <td>2.756915e-01</td>\n",
       "      <td>0.000000e+00</td>\n",
       "      <td>2.300000e-02</td>\n",
       "      <td>1.760000e-01</td>\n",
       "      <td>5.030000e-01</td>\n",
       "      <td>9.990000e-01</td>\n",
       "    </tr>\n",
       "    <tr>\n",
       "      <th>naive_cls1</th>\n",
       "      <td>10127.0</td>\n",
       "      <td>1.599975e-01</td>\n",
       "      <td>3.653010e-01</td>\n",
       "      <td>7.664200e-06</td>\n",
       "      <td>9.898300e-05</td>\n",
       "      <td>1.814600e-04</td>\n",
       "      <td>3.373000e-04</td>\n",
       "      <td>9.995800e-01</td>\n",
       "    </tr>\n",
       "    <tr>\n",
       "      <th>naive_cls2</th>\n",
       "      <td>10127.0</td>\n",
       "      <td>8.400026e-01</td>\n",
       "      <td>3.653010e-01</td>\n",
       "      <td>4.199800e-04</td>\n",
       "      <td>9.996600e-01</td>\n",
       "      <td>9.998200e-01</td>\n",
       "      <td>9.999000e-01</td>\n",
       "      <td>9.999900e-01</td>\n",
       "    </tr>\n",
       "  </tbody>\n",
       "</table>\n",
       "</div>"
      ],
      "text/plain": [
       "                            count          mean           std           min  \\\n",
       "CLIENTNUM                 10127.0  7.391776e+08  3.690378e+07  7.080821e+08   \n",
       "Customer_Age              10127.0  4.632596e+01  8.016814e+00  2.600000e+01   \n",
       "Dependent_count           10127.0  2.346203e+00  1.298908e+00  0.000000e+00   \n",
       "Months_on_book            10127.0  3.592841e+01  7.986416e+00  1.300000e+01   \n",
       "Total_Relationship_Count  10127.0  3.812580e+00  1.554408e+00  1.000000e+00   \n",
       "Months_Inactive_12_mon    10127.0  2.341167e+00  1.010622e+00  0.000000e+00   \n",
       "Contacts_Count_12_mon     10127.0  2.455317e+00  1.106225e+00  0.000000e+00   \n",
       "Credit_Limit              10127.0  8.631954e+03  9.088777e+03  1.438300e+03   \n",
       "Total_Revolving_Bal       10127.0  1.162814e+03  8.149873e+02  0.000000e+00   \n",
       "Avg_Open_To_Buy           10127.0  7.469140e+03  9.090685e+03  3.000000e+00   \n",
       "Total_Amt_Chng_Q4_Q1      10127.0  7.599407e-01  2.192068e-01  0.000000e+00   \n",
       "Total_Trans_Amt           10127.0  4.404086e+03  3.397129e+03  5.100000e+02   \n",
       "Total_Trans_Ct            10127.0  6.485869e+01  2.347257e+01  1.000000e+01   \n",
       "Total_Ct_Chng_Q4_Q1       10127.0  7.122224e-01  2.380861e-01  0.000000e+00   \n",
       "Avg_Utilization_Ratio     10127.0  2.748936e-01  2.756915e-01  0.000000e+00   \n",
       "naive_cls1                10127.0  1.599975e-01  3.653010e-01  7.664200e-06   \n",
       "naive_cls2                10127.0  8.400026e-01  3.653010e-01  4.199800e-04   \n",
       "\n",
       "                                   25%           50%           75%  \\\n",
       "CLIENTNUM                 7.130368e+08  7.179264e+08  7.731435e+08   \n",
       "Customer_Age              4.100000e+01  4.600000e+01  5.200000e+01   \n",
       "Dependent_count           1.000000e+00  2.000000e+00  3.000000e+00   \n",
       "Months_on_book            3.100000e+01  3.600000e+01  4.000000e+01   \n",
       "Total_Relationship_Count  3.000000e+00  4.000000e+00  5.000000e+00   \n",
       "Months_Inactive_12_mon    2.000000e+00  2.000000e+00  3.000000e+00   \n",
       "Contacts_Count_12_mon     2.000000e+00  2.000000e+00  3.000000e+00   \n",
       "Credit_Limit              2.555000e+03  4.549000e+03  1.106750e+04   \n",
       "Total_Revolving_Bal       3.590000e+02  1.276000e+03  1.784000e+03   \n",
       "Avg_Open_To_Buy           1.324500e+03  3.474000e+03  9.859000e+03   \n",
       "Total_Amt_Chng_Q4_Q1      6.310000e-01  7.360000e-01  8.590000e-01   \n",
       "Total_Trans_Amt           2.155500e+03  3.899000e+03  4.741000e+03   \n",
       "Total_Trans_Ct            4.500000e+01  6.700000e+01  8.100000e+01   \n",
       "Total_Ct_Chng_Q4_Q1       5.820000e-01  7.020000e-01  8.180000e-01   \n",
       "Avg_Utilization_Ratio     2.300000e-02  1.760000e-01  5.030000e-01   \n",
       "naive_cls1                9.898300e-05  1.814600e-04  3.373000e-04   \n",
       "naive_cls2                9.996600e-01  9.998200e-01  9.999000e-01   \n",
       "\n",
       "                                   max  \n",
       "CLIENTNUM                 8.283431e+08  \n",
       "Customer_Age              7.300000e+01  \n",
       "Dependent_count           5.000000e+00  \n",
       "Months_on_book            5.600000e+01  \n",
       "Total_Relationship_Count  6.000000e+00  \n",
       "Months_Inactive_12_mon    6.000000e+00  \n",
       "Contacts_Count_12_mon     6.000000e+00  \n",
       "Credit_Limit              3.451600e+04  \n",
       "Total_Revolving_Bal       2.517000e+03  \n",
       "Avg_Open_To_Buy           3.451600e+04  \n",
       "Total_Amt_Chng_Q4_Q1      3.397000e+00  \n",
       "Total_Trans_Amt           1.848400e+04  \n",
       "Total_Trans_Ct            1.390000e+02  \n",
       "Total_Ct_Chng_Q4_Q1       3.714000e+00  \n",
       "Avg_Utilization_Ratio     9.990000e-01  \n",
       "naive_cls1                9.995800e-01  \n",
       "naive_cls2                9.999900e-01  "
      ]
     },
     "execution_count": 94,
     "metadata": {},
     "output_type": "execute_result"
    }
   ],
   "source": [
    "#Call sccattr_data's `describe` method for a statistical summary of the numerical columns\n",
    "ccattr_data.describe().T"
   ]
  },
  {
   "cell_type": "markdown",
   "metadata": {},
   "source": [
    "Since there is no missing values, these data appears to be good and valid."
   ]
  },
  {
   "cell_type": "markdown",
   "metadata": {},
   "source": [
    "Below feature may provide more insights on Attrition rate. Find their Unique Values and  Relative Frequency\n",
    "* Months_on_book - Time frame with the Bank\n",
    "* Credit_Limit - Credit Limit on the Credit Card\n",
    "* Total_Revolving_Bal - The balance that carries over from one month to the next is the revolving balance\n",
    "* Avg_Open_To_Buy - Open to Buy refers to the amount left on the credit card to use \n",
    "* Total_Trans_Ct - Total Transaction Count in Last 12 months\n",
    "* Avg_Utilization_Ratio -  Represents how much of the available credit the customer spent"
   ]
  },
  {
   "cell_type": "markdown",
   "metadata": {},
   "source": [
    "### Feature Scaling and Distribution<a id='Feature_Scaling'></a>"
   ]
  },
  {
   "cell_type": "markdown",
   "metadata": {},
   "source": [
    "Change \"Existing customer\" to 0 and \"Attrited Customer\" to 1 and add to new column 'Attrition_Numeric'."
   ]
  },
  {
   "cell_type": "code",
   "execution_count": 95,
   "metadata": {},
   "outputs": [],
   "source": [
    "ccattr_data['Attrition_Numeric'] = ccattr_data['Attrition_Flag'].map({'Existing Customer':0,\"Attrited Customer\":1})"
   ]
  },
  {
   "cell_type": "code",
   "execution_count": 96,
   "metadata": {},
   "outputs": [
    {
     "data": {
      "text/plain": [
       "(10127, 29)"
      ]
     },
     "execution_count": 96,
     "metadata": {},
     "output_type": "execute_result"
    }
   ],
   "source": [
    "ccattr_data.shape"
   ]
  },
  {
   "cell_type": "markdown",
   "metadata": {},
   "source": [
    "Z-Score Scaling - number of standard deviations away from the mean\n",
    "\n",
    "Formula for Z-score = (Observations - Mean)/Standard Deviation"
   ]
  },
  {
   "cell_type": "code",
   "execution_count": 97,
   "metadata": {},
   "outputs": [],
   "source": [
    "def calczScore(col_name):\n",
    "    col_mean = ccattr_data[col_name].mean()\n",
    "    col_std = ccattr_data[col_name].std(ddof=0)\n",
    "    new_col_name = col_name + \"_zScore\"\n",
    "    ccattr_data[new_col_name] = (ccattr_data[col_name]-col_mean)/col_std"
   ]
  },
  {
   "cell_type": "code",
   "execution_count": 98,
   "metadata": {},
   "outputs": [],
   "source": [
    "zScoreCol={\"Customer_Age\",\"Months_on_book\",\"Total_Trans_Amt\",\"Total_Trans_Ct\"}\n",
    "\n",
    "for col in zScoreCol:\n",
    "    calczScore(col)"
   ]
  },
  {
   "cell_type": "code",
   "execution_count": 99,
   "metadata": {},
   "outputs": [
    {
     "data": {
      "text/html": [
       "<div>\n",
       "<style scoped>\n",
       "    .dataframe tbody tr th:only-of-type {\n",
       "        vertical-align: middle;\n",
       "    }\n",
       "\n",
       "    .dataframe tbody tr th {\n",
       "        vertical-align: top;\n",
       "    }\n",
       "\n",
       "    .dataframe thead th {\n",
       "        text-align: right;\n",
       "    }\n",
       "</style>\n",
       "<table border=\"1\" class=\"dataframe\">\n",
       "  <thead>\n",
       "    <tr style=\"text-align: right;\">\n",
       "      <th></th>\n",
       "      <th>Customer_Age_zScore</th>\n",
       "      <th>Months_on_book_zScore</th>\n",
       "      <th>Total_Trans_Amt_zScore</th>\n",
       "      <th>Total_Trans_Ct_zScore</th>\n",
       "    </tr>\n",
       "  </thead>\n",
       "  <tbody>\n",
       "    <tr>\n",
       "      <th>823</th>\n",
       "      <td>1.082034</td>\n",
       "      <td>0.008965</td>\n",
       "      <td>-0.838422</td>\n",
       "      <td>-1.059105</td>\n",
       "    </tr>\n",
       "    <tr>\n",
       "      <th>2165</th>\n",
       "      <td>-1.163358</td>\n",
       "      <td>-0.867567</td>\n",
       "      <td>-0.540508</td>\n",
       "      <td>-1.314735</td>\n",
       "    </tr>\n",
       "    <tr>\n",
       "      <th>6894</th>\n",
       "      <td>-0.664382</td>\n",
       "      <td>-1.118005</td>\n",
       "      <td>-0.068027</td>\n",
       "      <td>0.645096</td>\n",
       "    </tr>\n",
       "    <tr>\n",
       "      <th>3006</th>\n",
       "      <td>0.084082</td>\n",
       "      <td>0.008965</td>\n",
       "      <td>-0.031524</td>\n",
       "      <td>0.133835</td>\n",
       "    </tr>\n",
       "    <tr>\n",
       "      <th>466</th>\n",
       "      <td>2.079986</td>\n",
       "      <td>1.636809</td>\n",
       "      <td>-0.823703</td>\n",
       "      <td>-1.485155</td>\n",
       "    </tr>\n",
       "  </tbody>\n",
       "</table>\n",
       "</div>"
      ],
      "text/plain": [
       "      Customer_Age_zScore  Months_on_book_zScore  Total_Trans_Amt_zScore  \\\n",
       "823              1.082034               0.008965               -0.838422   \n",
       "2165            -1.163358              -0.867567               -0.540508   \n",
       "6894            -0.664382              -1.118005               -0.068027   \n",
       "3006             0.084082               0.008965               -0.031524   \n",
       "466              2.079986               1.636809               -0.823703   \n",
       "\n",
       "      Total_Trans_Ct_zScore  \n",
       "823               -1.059105  \n",
       "2165              -1.314735  \n",
       "6894               0.645096  \n",
       "3006               0.133835  \n",
       "466               -1.485155  "
      ]
     },
     "execution_count": 99,
     "metadata": {},
     "output_type": "execute_result"
    }
   ],
   "source": [
    "ccattr_data[[\"Customer_Age_zScore\",\"Months_on_book_zScore\",\"Total_Trans_Amt_zScore\",\"Total_Trans_Ct_zScore\"]].head()"
   ]
  },
  {
   "cell_type": "code",
   "execution_count": 100,
   "metadata": {},
   "outputs": [
    {
     "data": {
      "text/plain": [
       "(10127, 33)"
      ]
     },
     "execution_count": 100,
     "metadata": {},
     "output_type": "execute_result"
    }
   ],
   "source": [
    "ccattr_data.shape"
   ]
  },
  {
   "cell_type": "markdown",
   "metadata": {},
   "source": [
    "**Detecting Outliers using z-score with threshold value 3**"
   ]
  },
  {
   "cell_type": "code",
   "execution_count": 101,
   "metadata": {},
   "outputs": [],
   "source": [
    "def outlier_inspect(df, col,paint =\"olive\"):\n",
    "    fig = plt.figure(figsize=(20, 6))\n",
    "    fig.suptitle(\"Distribution of \" + col, fontsize=20)\n",
    "    fig = sns.set_theme(style=\"ticks\")\n",
    "    ax = sns.histplot(x=df[col], kde=False, bins = 50,color=paint)\n",
    "    ax.set_xlabel(col,fontsize=16);\n",
    "    ax.set_ylabel(\"Count\",fontsize=16);\n",
    "    plt.show()"
   ]
  },
  {
   "cell_type": "code",
   "execution_count": 102,
   "metadata": {},
   "outputs": [
    {
     "data": {
      "image/png": "[encoded data removed]",
      "text/plain": [
       "<Figure size 1440x432 with 1 Axes>"
      ]
     },
     "metadata": {},
     "output_type": "display_data"
    },
    {
     "data": {
      "image/png": "[encoded data removed]",
      "text/plain": [
       "<Figure size 1440x432 with 1 Axes>"
      ]
     },
     "metadata": {},
     "output_type": "display_data"
    },
    {
     "data": {
      "image/png": "[encoded data removed]",
      "text/plain": [
       "<Figure size 1440x432 with 1 Axes>"
      ]
     },
     "metadata": {},
     "output_type": "display_data"
    },
    {
     "data": {
      "image/png": "[encoded data removed]",
      "text/plain": [
       "<Figure size 1440x432 with 1 Axes>"
      ]
     },
     "metadata": {},
     "output_type": "display_data"
    }
   ],
   "source": [
    "list_col=  [\"Customer_Age_zScore\",\"Months_on_book_zScore\",\"Total_Trans_Amt_zScore\",\"Total_Trans_Ct_zScore\"]\n",
    "for col in list_col:\n",
    "      outlier_inspect(ccattr_data,col)"
   ]
  },
  {
   "cell_type": "markdown",
   "metadata": {},
   "source": [
    "* Customer Age appears to be normally distributed. May have negligible outliers or it should be good to train the model with these outliers.\n",
    "* Months on book : Has the spike in the middle for 0 value.\n",
    "* Total_Trans_Amt : This is interesting, with right skewed and bimodal, also with outliers.\n",
    "* Total_Trans_Ct : Appears to be bimodal, may have outliers.\n",
    "* Months_Inactive : Appears as left skewed. May have outliers\n",
    "* Contacts_Count_12_mon : Distributed normally."
   ]
  },
  {
   "cell_type": "code",
   "execution_count": 103,
   "metadata": {},
   "outputs": [
    {
     "data": {
      "text/plain": [
       "0"
      ]
     },
     "execution_count": 103,
     "metadata": {},
     "output_type": "execute_result"
    }
   ],
   "source": [
    "ccattr_data[ccattr_data[\"Months_on_book_zScore\"]>3][\"Months_on_book_zScore\"].count()"
   ]
  },
  {
   "cell_type": "code",
   "execution_count": 104,
   "metadata": {},
   "outputs": [
    {
     "data": {
      "text/plain": [
       "1"
      ]
     },
     "execution_count": 104,
     "metadata": {},
     "output_type": "execute_result"
    }
   ],
   "source": [
    "ccattr_data[ccattr_data[\"Customer_Age_zScore\"]>3][\"Customer_Age_zScore\"].count()"
   ]
  },
  {
   "cell_type": "code",
   "execution_count": 105,
   "metadata": {},
   "outputs": [
    {
     "data": {
      "text/plain": [
       "391"
      ]
     },
     "execution_count": 105,
     "metadata": {},
     "output_type": "execute_result"
    }
   ],
   "source": [
    "ccattr_data[ccattr_data[\"Total_Trans_Amt_zScore\"]>3][\"Total_Trans_Amt_zScore\"].count()"
   ]
  },
  {
   "cell_type": "code",
   "execution_count": 106,
   "metadata": {},
   "outputs": [
    {
     "data": {
      "text/plain": [
       "2"
      ]
     },
     "execution_count": 106,
     "metadata": {},
     "output_type": "execute_result"
    }
   ],
   "source": [
    "ccattr_data[ccattr_data[\"Total_Trans_Ct_zScore\"]>3][\"Total_Trans_Ct_zScore\"].count()"
   ]
  },
  {
   "cell_type": "markdown",
   "metadata": {},
   "source": [
    "There are \n",
    "* 391 outliers for Total_Trans_Amt (Total Transaction Amount in Last 12 months)\n",
    "* 124 outliers for Months_Inactive ( No. of months inactive in the last 12 months)\n",
    "* 54 outliersfor Contacts_Count (No. of Contacts between the customer and bank in the last 12 months)\n",
    "* 2 outliers for Total_Trans_Ct (Total Transaction Count in Last 12 months)\n",
    "* 1 outliers for Customer_Age\n",
    "* and none for Months_on_book (Time frame with the Bank)"
   ]
  },
  {
   "cell_type": "markdown",
   "metadata": {},
   "source": [
    "**Median Scaling**"
   ]
  },
  {
   "cell_type": "code",
   "execution_count": 107,
   "metadata": {},
   "outputs": [],
   "source": [
    "def calcMedian(col_name):\n",
    "    col_median = ccattr_data[col_name].median()\n",
    "    new_col_name = col_name + \"_divMedian\"\n",
    "    ccattr_data[new_col_name] = ccattr_data[col_name]/col_median"
   ]
  },
  {
   "cell_type": "code",
   "execution_count": 108,
   "metadata": {},
   "outputs": [],
   "source": [
    "medianCol={\"Credit_Limit\",\"Total_Revolving_Bal\",\"Avg_Open_To_Buy\",\"Total_Trans_Amt\",\n",
    "           \"Total_Ct_Chng_Q4_Q1\",\"Total_Amt_Chng_Q4_Q1\"}\n",
    "\n",
    "for col in medianCol:\n",
    "    calcMedian(col)"
   ]
  },
  {
   "cell_type": "code",
   "execution_count": 109,
   "metadata": {},
   "outputs": [
    {
     "data": {
      "text/plain": [
       "(10127, 39)"
      ]
     },
     "execution_count": 109,
     "metadata": {},
     "output_type": "execute_result"
    }
   ],
   "source": [
    "ccattr_data.shape"
   ]
  },
  {
   "cell_type": "code",
   "execution_count": 110,
   "metadata": {},
   "outputs": [
    {
     "data": {
      "text/html": [
       "<div>\n",
       "<style scoped>\n",
       "    .dataframe tbody tr th:only-of-type {\n",
       "        vertical-align: middle;\n",
       "    }\n",
       "\n",
       "    .dataframe tbody tr th {\n",
       "        vertical-align: top;\n",
       "    }\n",
       "\n",
       "    .dataframe thead th {\n",
       "        text-align: right;\n",
       "    }\n",
       "</style>\n",
       "<table border=\"1\" class=\"dataframe\">\n",
       "  <thead>\n",
       "    <tr style=\"text-align: right;\">\n",
       "      <th></th>\n",
       "      <th>Credit_Limit_divMedian</th>\n",
       "      <th>Total_Revolving_Bal_divMedian</th>\n",
       "      <th>Avg_Open_To_Buy_divMedian</th>\n",
       "      <th>Total_Trans_Amt_divMedian</th>\n",
       "      <th>Total_Ct_Chng_Q4_Q1_divMedian</th>\n",
       "      <th>Total_Amt_Chng_Q4_Q1_divMedian</th>\n",
       "    </tr>\n",
       "  </thead>\n",
       "  <tbody>\n",
       "    <tr>\n",
       "      <th>823</th>\n",
       "      <td>1.068587</td>\n",
       "      <td>0.880094</td>\n",
       "      <td>1.075993</td>\n",
       "      <td>0.399077</td>\n",
       "      <td>0.766382</td>\n",
       "      <td>1.274457</td>\n",
       "    </tr>\n",
       "    <tr>\n",
       "      <th>2165</th>\n",
       "      <td>0.566278</td>\n",
       "      <td>1.285266</td>\n",
       "      <td>0.269430</td>\n",
       "      <td>0.658630</td>\n",
       "      <td>1.266382</td>\n",
       "      <td>1.532609</td>\n",
       "    </tr>\n",
       "    <tr>\n",
       "      <th>6894</th>\n",
       "      <td>1.271488</td>\n",
       "      <td>0.000000</td>\n",
       "      <td>1.664940</td>\n",
       "      <td>1.070274</td>\n",
       "      <td>1.225071</td>\n",
       "      <td>1.156250</td>\n",
       "    </tr>\n",
       "    <tr>\n",
       "      <th>3006</th>\n",
       "      <td>3.048362</td>\n",
       "      <td>0.000000</td>\n",
       "      <td>3.991652</td>\n",
       "      <td>1.102077</td>\n",
       "      <td>1.059829</td>\n",
       "      <td>0.895380</td>\n",
       "    </tr>\n",
       "    <tr>\n",
       "      <th>466</th>\n",
       "      <td>3.085293</td>\n",
       "      <td>1.615204</td>\n",
       "      <td>3.446747</td>\n",
       "      <td>0.411900</td>\n",
       "      <td>2.136752</td>\n",
       "      <td>3.085598</td>\n",
       "    </tr>\n",
       "  </tbody>\n",
       "</table>\n",
       "</div>"
      ],
      "text/plain": [
       "      Credit_Limit_divMedian  Total_Revolving_Bal_divMedian  \\\n",
       "823                 1.068587                       0.880094   \n",
       "2165                0.566278                       1.285266   \n",
       "6894                1.271488                       0.000000   \n",
       "3006                3.048362                       0.000000   \n",
       "466                 3.085293                       1.615204   \n",
       "\n",
       "      Avg_Open_To_Buy_divMedian  Total_Trans_Amt_divMedian  \\\n",
       "823                    1.075993                   0.399077   \n",
       "2165                   0.269430                   0.658630   \n",
       "6894                   1.664940                   1.070274   \n",
       "3006                   3.991652                   1.102077   \n",
       "466                    3.446747                   0.411900   \n",
       "\n",
       "      Total_Ct_Chng_Q4_Q1_divMedian  Total_Amt_Chng_Q4_Q1_divMedian  \n",
       "823                        0.766382                        1.274457  \n",
       "2165                       1.266382                        1.532609  \n",
       "6894                       1.225071                        1.156250  \n",
       "3006                       1.059829                        0.895380  \n",
       "466                        2.136752                        3.085598  "
      ]
     },
     "execution_count": 110,
     "metadata": {},
     "output_type": "execute_result"
    }
   ],
   "source": [
    "ccattr_data[[\"Credit_Limit_divMedian\",\"Total_Revolving_Bal_divMedian\",\"Avg_Open_To_Buy_divMedian\",\n",
    "             \"Total_Trans_Amt_divMedian\",\"Total_Ct_Chng_Q4_Q1_divMedian\",\"Total_Amt_Chng_Q4_Q1_divMedian\"]].head()"
   ]
  },
  {
   "cell_type": "code",
   "execution_count": 111,
   "metadata": {},
   "outputs": [
    {
     "data": {
      "image/png": "[encoded data removed]",
      "text/plain": [
       "<Figure size 1440x432 with 1 Axes>"
      ]
     },
     "metadata": {},
     "output_type": "display_data"
    },
    {
     "data": {
      "image/png": "[encoded data removed]",
      "text/plain": [
       "<Figure size 1440x432 with 1 Axes>"
      ]
     },
     "metadata": {},
     "output_type": "display_data"
    },
    {
     "data": {
      "image/png": "[encoded data removed]",
      "text/plain": [
       "<Figure size 1440x432 with 1 Axes>"
      ]
     },
     "metadata": {},
     "output_type": "display_data"
    },
    {
     "data": {
      "image/png": "[encoded data removed]",
      "text/plain": [
       "<Figure size 1440x432 with 1 Axes>"
      ]
     },
     "metadata": {},
     "output_type": "display_data"
    },
    {
     "data": {
      "image/png": "[encoded data removed]",
      "text/plain": [
       "<Figure size 1440x432 with 1 Axes>"
      ]
     },
     "metadata": {},
     "output_type": "display_data"
    },
    {
     "data": {
      "image/png": "[encoded data removed]",
      "text/plain": [
       "<Figure size 1440x432 with 1 Axes>"
      ]
     },
     "metadata": {},
     "output_type": "display_data"
    }
   ],
   "source": [
    "list_col=  [\"Credit_Limit_divMedian\",\"Total_Revolving_Bal_divMedian\",\"Avg_Open_To_Buy_divMedian\",\n",
    "             \"Total_Trans_Amt_divMedian\",\"Total_Ct_Chng_Q4_Q1_divMedian\",\"Total_Amt_Chng_Q4_Q1_divMedian\"]\n",
    "for col in list_col:\n",
    "      outlier_inspect(ccattr_data,col,\"darkorchid\")"
   ]
  },
  {
   "cell_type": "markdown",
   "metadata": {},
   "source": [
    "These features Skewed to left.\n",
    "* Credit Limit -Credit Limit on the Credit Card\n",
    "* Total_Trans_Amt -Total Transaction Amount in Last 12 months\n",
    "* Total_Amt_Chng_Q4_Q1 - Ratio of the total transaction count in 4th quarter and the total transaction count in 1st quarter\n",
    "* Total_Trans_Amt - Very interesting, right skewed, bimodal with outliers\n",
    "* Avg_Open_To_Buy - The amount left on the credit card to use "
   ]
  },
  {
   "cell_type": "code",
   "execution_count": 112,
   "metadata": {},
   "outputs": [],
   "source": [
    "log_col=  [\"Credit_Limit\",\"Avg_Open_To_Buy\",\"Total_Trans_Amt\"]\n",
    "for col in log_col:\n",
    "    ccattr_data[col+\"_log\"] = np.log(ccattr_data[col])"
   ]
  },
  {
   "cell_type": "code",
   "execution_count": 113,
   "metadata": {},
   "outputs": [
    {
     "data": {
      "image/png": "[encoded data removed]",
      "text/plain": [
       "<Figure size 1440x432 with 1 Axes>"
      ]
     },
     "metadata": {},
     "output_type": "display_data"
    },
    {
     "data": {
      "image/png": "[encoded data removed]",
      "text/plain": [
       "<Figure size 1440x432 with 1 Axes>"
      ]
     },
     "metadata": {},
     "output_type": "display_data"
    },
    {
     "data": {
      "image/png": "[encoded data removed]",
      "text/plain": [
       "<Figure size 1440x432 with 1 Axes>"
      ]
     },
     "metadata": {},
     "output_type": "display_data"
    }
   ],
   "source": [
    "for col in log_col:\n",
    "      outlier_inspect(ccattr_data,col+\"_log\",\"coral\")"
   ]
  },
  {
   "cell_type": "markdown",
   "metadata": {},
   "source": [
    "* Credit_Limit: Credit Limit on the Credit Card - slightly left skewed, with spike on extremes.\n",
    "* Avg_Open_To_Buy: The amount left on the credit card to use -  right skewed with outliers.    "
   ]
  },
  {
   "cell_type": "code",
   "execution_count": 114,
   "metadata": {},
   "outputs": [
    {
     "data": {
      "image/png": "[encoded data removed]",
      "text/plain": [
       "<Figure size 1440x432 with 1 Axes>"
      ]
     },
     "metadata": {},
     "output_type": "display_data"
    }
   ],
   "source": [
    "#Applying log1p scaling for Revolving Balance -Total_Revolving_Bal\n",
    "ccattr_data[\"Total_Revolving_Bal_log1p\"] = np.log1p(ccattr_data[\"Total_Revolving_Bal\"])\n",
    "outlier_inspect(ccattr_data,\"Total_Revolving_Bal_log1p\",\"sienna\")"
   ]
  },
  {
   "cell_type": "code",
   "execution_count": 115,
   "metadata": {},
   "outputs": [],
   "source": [
    "#Applying Square root scaling for Total Transaction amt -Total_Trans_Amt"
   ]
  },
  {
   "cell_type": "code",
   "execution_count": 116,
   "metadata": {
    "scrolled": false
   },
   "outputs": [
    {
     "data": {
      "image/png": "[encoded data removed]",
      "text/plain": [
       "<Figure size 1440x432 with 1 Axes>"
      ]
     },
     "metadata": {},
     "output_type": "display_data"
    },
    {
     "data": {
      "image/png": "[encoded data removed]",
      "text/plain": [
       "<Figure size 1440x432 with 1 Axes>"
      ]
     },
     "metadata": {},
     "output_type": "display_data"
    },
    {
     "data": {
      "image/png": "[encoded data removed]",
      "text/plain": [
       "<Figure size 1440x432 with 1 Axes>"
      ]
     },
     "metadata": {},
     "output_type": "display_data"
    },
    {
     "data": {
      "image/png": "[encoded data removed]",
      "text/plain": [
       "<Figure size 1440x432 with 1 Axes>"
      ]
     },
     "metadata": {},
     "output_type": "display_data"
    },
    {
     "data": {
      "image/png": "[encoded data removed]",
      "text/plain": [
       "<Figure size 1440x432 with 1 Axes>"
      ]
     },
     "metadata": {},
     "output_type": "display_data"
    }
   ],
   "source": [
    "#Applying Square root scaling for count features\n",
    "sqr_col=  [\"Total_Trans_Ct\",\"Credit_Limit\",\"Total_Revolving_Bal\",\"Avg_Open_To_Buy\",\"Total_Trans_Amt\"]\n",
    "for col in sqr_col:\n",
    "    ccattr_data[col+\"_SqRT\"] = (ccattr_data[col]**(1/2))\n",
    "    outlier_inspect(ccattr_data,col+\"_SqRT\",\"crimson\")"
   ]
  },
  {
   "cell_type": "markdown",
   "metadata": {},
   "source": [
    "After applying log1p scaling to Total_Revolving_Bal, it is left skewed"
   ]
  },
  {
   "cell_type": "code",
   "execution_count": 117,
   "metadata": {},
   "outputs": [
    {
     "data": {
      "text/plain": [
       "(10127, 48)"
      ]
     },
     "execution_count": 117,
     "metadata": {},
     "output_type": "execute_result"
    }
   ],
   "source": [
    "ccattr_data.shape"
   ]
  },
  {
   "cell_type": "code",
   "execution_count": 118,
   "metadata": {},
   "outputs": [
    {
     "data": {
      "text/html": [
       "<div>\n",
       "<style scoped>\n",
       "    .dataframe tbody tr th:only-of-type {\n",
       "        vertical-align: middle;\n",
       "    }\n",
       "\n",
       "    .dataframe tbody tr th {\n",
       "        vertical-align: top;\n",
       "    }\n",
       "\n",
       "    .dataframe thead th {\n",
       "        text-align: right;\n",
       "    }\n",
       "</style>\n",
       "<table border=\"1\" class=\"dataframe\">\n",
       "  <thead>\n",
       "    <tr style=\"text-align: right;\">\n",
       "      <th></th>\n",
       "      <th>823</th>\n",
       "      <th>2165</th>\n",
       "      <th>6894</th>\n",
       "      <th>3006</th>\n",
       "      <th>466</th>\n",
       "    </tr>\n",
       "  </thead>\n",
       "  <tbody>\n",
       "    <tr>\n",
       "      <th>CLIENTNUM</th>\n",
       "      <td>714648933</td>\n",
       "      <td>717628608</td>\n",
       "      <td>711777633</td>\n",
       "      <td>716645883</td>\n",
       "      <td>708217758</td>\n",
       "    </tr>\n",
       "    <tr>\n",
       "      <th>Attrition_Flag</th>\n",
       "      <td>Existing Customer</td>\n",
       "      <td>Existing Customer</td>\n",
       "      <td>Existing Customer</td>\n",
       "      <td>Existing Customer</td>\n",
       "      <td>Existing Customer</td>\n",
       "    </tr>\n",
       "    <tr>\n",
       "      <th>Customer_Age</th>\n",
       "      <td>55</td>\n",
       "      <td>37</td>\n",
       "      <td>41</td>\n",
       "      <td>47</td>\n",
       "      <td>63</td>\n",
       "    </tr>\n",
       "    <tr>\n",
       "      <th>Gender</th>\n",
       "      <td>F</td>\n",
       "      <td>M</td>\n",
       "      <td>M</td>\n",
       "      <td>M</td>\n",
       "      <td>M</td>\n",
       "    </tr>\n",
       "    <tr>\n",
       "      <th>Dependent_count</th>\n",
       "      <td>3</td>\n",
       "      <td>3</td>\n",
       "      <td>3</td>\n",
       "      <td>2</td>\n",
       "      <td>2</td>\n",
       "    </tr>\n",
       "    <tr>\n",
       "      <th>Education_Level</th>\n",
       "      <td>Graduate</td>\n",
       "      <td>Unknown</td>\n",
       "      <td>Graduate</td>\n",
       "      <td>Unknown</td>\n",
       "      <td>Graduate</td>\n",
       "    </tr>\n",
       "    <tr>\n",
       "      <th>Marital_Status</th>\n",
       "      <td>Married</td>\n",
       "      <td>Married</td>\n",
       "      <td>Divorced</td>\n",
       "      <td>Unknown</td>\n",
       "      <td>Married</td>\n",
       "    </tr>\n",
       "    <tr>\n",
       "      <th>Income_Category</th>\n",
       "      <td>Unknown</td>\n",
       "      <td>$60K - $80K</td>\n",
       "      <td>$60K - $80K</td>\n",
       "      <td>$60K - $80K</td>\n",
       "      <td>$60K - $80K</td>\n",
       "    </tr>\n",
       "    <tr>\n",
       "      <th>Card_Category</th>\n",
       "      <td>Blue</td>\n",
       "      <td>Blue</td>\n",
       "      <td>Blue</td>\n",
       "      <td>Blue</td>\n",
       "      <td>Blue</td>\n",
       "    </tr>\n",
       "    <tr>\n",
       "      <th>Months_on_book</th>\n",
       "      <td>36</td>\n",
       "      <td>29</td>\n",
       "      <td>27</td>\n",
       "      <td>36</td>\n",
       "      <td>49</td>\n",
       "    </tr>\n",
       "    <tr>\n",
       "      <th>Total_Relationship_Count</th>\n",
       "      <td>3</td>\n",
       "      <td>5</td>\n",
       "      <td>5</td>\n",
       "      <td>3</td>\n",
       "      <td>5</td>\n",
       "    </tr>\n",
       "    <tr>\n",
       "      <th>Months_Inactive_12_mon</th>\n",
       "      <td>2</td>\n",
       "      <td>1</td>\n",
       "      <td>2</td>\n",
       "      <td>2</td>\n",
       "      <td>2</td>\n",
       "    </tr>\n",
       "    <tr>\n",
       "      <th>Contacts_Count_12_mon</th>\n",
       "      <td>0</td>\n",
       "      <td>5</td>\n",
       "      <td>2</td>\n",
       "      <td>2</td>\n",
       "      <td>3</td>\n",
       "    </tr>\n",
       "    <tr>\n",
       "      <th>Credit_Limit</th>\n",
       "      <td>4861.0</td>\n",
       "      <td>2576.0</td>\n",
       "      <td>5784.0</td>\n",
       "      <td>13867.0</td>\n",
       "      <td>14035.0</td>\n",
       "    </tr>\n",
       "    <tr>\n",
       "      <th>Total_Revolving_Bal</th>\n",
       "      <td>1123</td>\n",
       "      <td>1640</td>\n",
       "      <td>0</td>\n",
       "      <td>0</td>\n",
       "      <td>2061</td>\n",
       "    </tr>\n",
       "    <tr>\n",
       "      <th>Avg_Open_To_Buy</th>\n",
       "      <td>3738.0</td>\n",
       "      <td>936.0</td>\n",
       "      <td>5784.0</td>\n",
       "      <td>13867.0</td>\n",
       "      <td>11974.0</td>\n",
       "    </tr>\n",
       "    <tr>\n",
       "      <th>Total_Amt_Chng_Q4_Q1</th>\n",
       "      <td>0.938</td>\n",
       "      <td>1.128</td>\n",
       "      <td>0.851</td>\n",
       "      <td>0.659</td>\n",
       "      <td>2.271</td>\n",
       "    </tr>\n",
       "    <tr>\n",
       "      <th>Total_Trans_Amt</th>\n",
       "      <td>1556</td>\n",
       "      <td>2568</td>\n",
       "      <td>4173</td>\n",
       "      <td>4297</td>\n",
       "      <td>1606</td>\n",
       "    </tr>\n",
       "    <tr>\n",
       "      <th>Total_Trans_Ct</th>\n",
       "      <td>40</td>\n",
       "      <td>34</td>\n",
       "      <td>80</td>\n",
       "      <td>68</td>\n",
       "      <td>30</td>\n",
       "    </tr>\n",
       "    <tr>\n",
       "      <th>Total_Ct_Chng_Q4_Q1</th>\n",
       "      <td>0.538</td>\n",
       "      <td>0.889</td>\n",
       "      <td>0.86</td>\n",
       "      <td>0.744</td>\n",
       "      <td>1.5</td>\n",
       "    </tr>\n",
       "    <tr>\n",
       "      <th>Avg_Utilization_Ratio</th>\n",
       "      <td>0.231</td>\n",
       "      <td>0.637</td>\n",
       "      <td>0.0</td>\n",
       "      <td>0.0</td>\n",
       "      <td>0.147</td>\n",
       "    </tr>\n",
       "    <tr>\n",
       "      <th>naive_cls1</th>\n",
       "      <td>0.000044</td>\n",
       "      <td>0.000312</td>\n",
       "      <td>0.000118</td>\n",
       "      <td>0.000125</td>\n",
       "      <td>0.000191</td>\n",
       "    </tr>\n",
       "    <tr>\n",
       "      <th>naive_cls2</th>\n",
       "      <td>0.99996</td>\n",
       "      <td>0.99969</td>\n",
       "      <td>0.99988</td>\n",
       "      <td>0.99987</td>\n",
       "      <td>0.99981</td>\n",
       "    </tr>\n",
       "    <tr>\n",
       "      <th>Education_Level_sorted</th>\n",
       "      <td>Graduate</td>\n",
       "      <td>Graduate</td>\n",
       "      <td>Graduate</td>\n",
       "      <td>Graduate</td>\n",
       "      <td>Graduate</td>\n",
       "    </tr>\n",
       "    <tr>\n",
       "      <th>Marital_Status_sorted</th>\n",
       "      <td>Married</td>\n",
       "      <td>Married</td>\n",
       "      <td>Divorced</td>\n",
       "      <td>Married</td>\n",
       "      <td>Married</td>\n",
       "    </tr>\n",
       "    <tr>\n",
       "      <th>Income_Category_relabeled</th>\n",
       "      <td>Unknown</td>\n",
       "      <td>60K - 80K</td>\n",
       "      <td>60K - 80K</td>\n",
       "      <td>60K - 80K</td>\n",
       "      <td>60K - 80K</td>\n",
       "    </tr>\n",
       "    <tr>\n",
       "      <th>Income_Category_sorted</th>\n",
       "      <td>0K - 40K</td>\n",
       "      <td>60K - 80K</td>\n",
       "      <td>60K - 80K</td>\n",
       "      <td>60K - 80K</td>\n",
       "      <td>60K - 80K</td>\n",
       "    </tr>\n",
       "    <tr>\n",
       "      <th>Card_Category_sorted</th>\n",
       "      <td>Blue</td>\n",
       "      <td>Blue</td>\n",
       "      <td>Blue</td>\n",
       "      <td>Blue</td>\n",
       "      <td>Blue</td>\n",
       "    </tr>\n",
       "    <tr>\n",
       "      <th>Attrition_Numeric</th>\n",
       "      <td>0</td>\n",
       "      <td>0</td>\n",
       "      <td>0</td>\n",
       "      <td>0</td>\n",
       "      <td>0</td>\n",
       "    </tr>\n",
       "    <tr>\n",
       "      <th>Total_Trans_Amt_zScore</th>\n",
       "      <td>-0.838422</td>\n",
       "      <td>-0.540508</td>\n",
       "      <td>-0.068027</td>\n",
       "      <td>-0.031524</td>\n",
       "      <td>-0.823703</td>\n",
       "    </tr>\n",
       "    <tr>\n",
       "      <th>Total_Trans_Ct_zScore</th>\n",
       "      <td>-1.059105</td>\n",
       "      <td>-1.314735</td>\n",
       "      <td>0.645096</td>\n",
       "      <td>0.133835</td>\n",
       "      <td>-1.485155</td>\n",
       "    </tr>\n",
       "    <tr>\n",
       "      <th>Months_on_book_zScore</th>\n",
       "      <td>0.008965</td>\n",
       "      <td>-0.867567</td>\n",
       "      <td>-1.118005</td>\n",
       "      <td>0.008965</td>\n",
       "      <td>1.636809</td>\n",
       "    </tr>\n",
       "    <tr>\n",
       "      <th>Customer_Age_zScore</th>\n",
       "      <td>1.082034</td>\n",
       "      <td>-1.163358</td>\n",
       "      <td>-0.664382</td>\n",
       "      <td>0.084082</td>\n",
       "      <td>2.079986</td>\n",
       "    </tr>\n",
       "    <tr>\n",
       "      <th>Total_Trans_Amt_divMedian</th>\n",
       "      <td>0.399077</td>\n",
       "      <td>0.65863</td>\n",
       "      <td>1.070274</td>\n",
       "      <td>1.102077</td>\n",
       "      <td>0.4119</td>\n",
       "    </tr>\n",
       "    <tr>\n",
       "      <th>Total_Amt_Chng_Q4_Q1_divMedian</th>\n",
       "      <td>1.274457</td>\n",
       "      <td>1.532609</td>\n",
       "      <td>1.15625</td>\n",
       "      <td>0.89538</td>\n",
       "      <td>3.085598</td>\n",
       "    </tr>\n",
       "    <tr>\n",
       "      <th>Credit_Limit_divMedian</th>\n",
       "      <td>1.068587</td>\n",
       "      <td>0.566278</td>\n",
       "      <td>1.271488</td>\n",
       "      <td>3.048362</td>\n",
       "      <td>3.085293</td>\n",
       "    </tr>\n",
       "    <tr>\n",
       "      <th>Total_Revolving_Bal_divMedian</th>\n",
       "      <td>0.880094</td>\n",
       "      <td>1.285266</td>\n",
       "      <td>0.0</td>\n",
       "      <td>0.0</td>\n",
       "      <td>1.615204</td>\n",
       "    </tr>\n",
       "    <tr>\n",
       "      <th>Total_Ct_Chng_Q4_Q1_divMedian</th>\n",
       "      <td>0.766382</td>\n",
       "      <td>1.266382</td>\n",
       "      <td>1.225071</td>\n",
       "      <td>1.059829</td>\n",
       "      <td>2.136752</td>\n",
       "    </tr>\n",
       "    <tr>\n",
       "      <th>Avg_Open_To_Buy_divMedian</th>\n",
       "      <td>1.075993</td>\n",
       "      <td>0.26943</td>\n",
       "      <td>1.66494</td>\n",
       "      <td>3.991652</td>\n",
       "      <td>3.446747</td>\n",
       "    </tr>\n",
       "    <tr>\n",
       "      <th>Credit_Limit_log</th>\n",
       "      <td>8.488999</td>\n",
       "      <td>7.853993</td>\n",
       "      <td>8.662851</td>\n",
       "      <td>9.537267</td>\n",
       "      <td>9.549309</td>\n",
       "    </tr>\n",
       "    <tr>\n",
       "      <th>Avg_Open_To_Buy_log</th>\n",
       "      <td>8.226306</td>\n",
       "      <td>6.841615</td>\n",
       "      <td>8.662851</td>\n",
       "      <td>9.537267</td>\n",
       "      <td>9.390493</td>\n",
       "    </tr>\n",
       "    <tr>\n",
       "      <th>Total_Trans_Amt_log</th>\n",
       "      <td>7.349874</td>\n",
       "      <td>7.850883</td>\n",
       "      <td>8.33639</td>\n",
       "      <td>8.365672</td>\n",
       "      <td>7.381502</td>\n",
       "    </tr>\n",
       "    <tr>\n",
       "      <th>Total_Revolving_Bal_log1p</th>\n",
       "      <td>7.024649</td>\n",
       "      <td>7.403061</td>\n",
       "      <td>0.0</td>\n",
       "      <td>0.0</td>\n",
       "      <td>7.631432</td>\n",
       "    </tr>\n",
       "    <tr>\n",
       "      <th>Total_Trans_Ct_SqRT</th>\n",
       "      <td>6.324555</td>\n",
       "      <td>5.830952</td>\n",
       "      <td>8.944272</td>\n",
       "      <td>8.246211</td>\n",
       "      <td>5.477226</td>\n",
       "    </tr>\n",
       "    <tr>\n",
       "      <th>Credit_Limit_SqRT</th>\n",
       "      <td>69.720872</td>\n",
       "      <td>50.75431</td>\n",
       "      <td>76.052613</td>\n",
       "      <td>117.758227</td>\n",
       "      <td>118.469405</td>\n",
       "    </tr>\n",
       "    <tr>\n",
       "      <th>Total_Revolving_Bal_SqRT</th>\n",
       "      <td>33.511192</td>\n",
       "      <td>40.496913</td>\n",
       "      <td>0.0</td>\n",
       "      <td>0.0</td>\n",
       "      <td>45.398238</td>\n",
       "    </tr>\n",
       "    <tr>\n",
       "      <th>Avg_Open_To_Buy_SqRT</th>\n",
       "      <td>61.139185</td>\n",
       "      <td>30.594117</td>\n",
       "      <td>76.052613</td>\n",
       "      <td>117.758227</td>\n",
       "      <td>109.425774</td>\n",
       "    </tr>\n",
       "    <tr>\n",
       "      <th>Total_Trans_Amt_SqRT</th>\n",
       "      <td>39.446166</td>\n",
       "      <td>50.675438</td>\n",
       "      <td>64.598762</td>\n",
       "      <td>65.551506</td>\n",
       "      <td>40.07493</td>\n",
       "    </tr>\n",
       "  </tbody>\n",
       "</table>\n",
       "</div>"
      ],
      "text/plain": [
       "                                             823                2165  \\\n",
       "CLIENTNUM                               714648933          717628608   \n",
       "Attrition_Flag                  Existing Customer  Existing Customer   \n",
       "Customer_Age                                   55                 37   \n",
       "Gender                                          F                  M   \n",
       "Dependent_count                                 3                  3   \n",
       "Education_Level                          Graduate            Unknown   \n",
       "Marital_Status                            Married            Married   \n",
       "Income_Category                           Unknown        $60K - $80K   \n",
       "Card_Category                                Blue               Blue   \n",
       "Months_on_book                                 36                 29   \n",
       "Total_Relationship_Count                        3                  5   \n",
       "Months_Inactive_12_mon                          2                  1   \n",
       "Contacts_Count_12_mon                           0                  5   \n",
       "Credit_Limit                               4861.0             2576.0   \n",
       "Total_Revolving_Bal                          1123               1640   \n",
       "Avg_Open_To_Buy                            3738.0              936.0   \n",
       "Total_Amt_Chng_Q4_Q1                        0.938              1.128   \n",
       "Total_Trans_Amt                              1556               2568   \n",
       "Total_Trans_Ct                                 40                 34   \n",
       "Total_Ct_Chng_Q4_Q1                         0.538              0.889   \n",
       "Avg_Utilization_Ratio                       0.231              0.637   \n",
       "naive_cls1                               0.000044           0.000312   \n",
       "naive_cls2                                0.99996            0.99969   \n",
       "Education_Level_sorted                   Graduate           Graduate   \n",
       "Marital_Status_sorted                     Married            Married   \n",
       "Income_Category_relabeled                 Unknown          60K - 80K   \n",
       "Income_Category_sorted                   0K - 40K          60K - 80K   \n",
       "Card_Category_sorted                         Blue               Blue   \n",
       "Attrition_Numeric                               0                  0   \n",
       "Total_Trans_Amt_zScore                  -0.838422          -0.540508   \n",
       "Total_Trans_Ct_zScore                   -1.059105          -1.314735   \n",
       "Months_on_book_zScore                    0.008965          -0.867567   \n",
       "Customer_Age_zScore                      1.082034          -1.163358   \n",
       "Total_Trans_Amt_divMedian                0.399077            0.65863   \n",
       "Total_Amt_Chng_Q4_Q1_divMedian           1.274457           1.532609   \n",
       "Credit_Limit_divMedian                   1.068587           0.566278   \n",
       "Total_Revolving_Bal_divMedian            0.880094           1.285266   \n",
       "Total_Ct_Chng_Q4_Q1_divMedian            0.766382           1.266382   \n",
       "Avg_Open_To_Buy_divMedian                1.075993            0.26943   \n",
       "Credit_Limit_log                         8.488999           7.853993   \n",
       "Avg_Open_To_Buy_log                      8.226306           6.841615   \n",
       "Total_Trans_Amt_log                      7.349874           7.850883   \n",
       "Total_Revolving_Bal_log1p                7.024649           7.403061   \n",
       "Total_Trans_Ct_SqRT                      6.324555           5.830952   \n",
       "Credit_Limit_SqRT                       69.720872           50.75431   \n",
       "Total_Revolving_Bal_SqRT                33.511192          40.496913   \n",
       "Avg_Open_To_Buy_SqRT                    61.139185          30.594117   \n",
       "Total_Trans_Amt_SqRT                    39.446166          50.675438   \n",
       "\n",
       "                                             6894               3006  \\\n",
       "CLIENTNUM                               711777633          716645883   \n",
       "Attrition_Flag                  Existing Customer  Existing Customer   \n",
       "Customer_Age                                   41                 47   \n",
       "Gender                                          M                  M   \n",
       "Dependent_count                                 3                  2   \n",
       "Education_Level                          Graduate            Unknown   \n",
       "Marital_Status                           Divorced            Unknown   \n",
       "Income_Category                       $60K - $80K        $60K - $80K   \n",
       "Card_Category                                Blue               Blue   \n",
       "Months_on_book                                 27                 36   \n",
       "Total_Relationship_Count                        5                  3   \n",
       "Months_Inactive_12_mon                          2                  2   \n",
       "Contacts_Count_12_mon                           2                  2   \n",
       "Credit_Limit                               5784.0            13867.0   \n",
       "Total_Revolving_Bal                             0                  0   \n",
       "Avg_Open_To_Buy                            5784.0            13867.0   \n",
       "Total_Amt_Chng_Q4_Q1                        0.851              0.659   \n",
       "Total_Trans_Amt                              4173               4297   \n",
       "Total_Trans_Ct                                 80                 68   \n",
       "Total_Ct_Chng_Q4_Q1                          0.86              0.744   \n",
       "Avg_Utilization_Ratio                         0.0                0.0   \n",
       "naive_cls1                               0.000118           0.000125   \n",
       "naive_cls2                                0.99988            0.99987   \n",
       "Education_Level_sorted                   Graduate           Graduate   \n",
       "Marital_Status_sorted                    Divorced            Married   \n",
       "Income_Category_relabeled               60K - 80K          60K - 80K   \n",
       "Income_Category_sorted                  60K - 80K          60K - 80K   \n",
       "Card_Category_sorted                         Blue               Blue   \n",
       "Attrition_Numeric                               0                  0   \n",
       "Total_Trans_Amt_zScore                  -0.068027          -0.031524   \n",
       "Total_Trans_Ct_zScore                    0.645096           0.133835   \n",
       "Months_on_book_zScore                   -1.118005           0.008965   \n",
       "Customer_Age_zScore                     -0.664382           0.084082   \n",
       "Total_Trans_Amt_divMedian                1.070274           1.102077   \n",
       "Total_Amt_Chng_Q4_Q1_divMedian            1.15625            0.89538   \n",
       "Credit_Limit_divMedian                   1.271488           3.048362   \n",
       "Total_Revolving_Bal_divMedian                 0.0                0.0   \n",
       "Total_Ct_Chng_Q4_Q1_divMedian            1.225071           1.059829   \n",
       "Avg_Open_To_Buy_divMedian                 1.66494           3.991652   \n",
       "Credit_Limit_log                         8.662851           9.537267   \n",
       "Avg_Open_To_Buy_log                      8.662851           9.537267   \n",
       "Total_Trans_Amt_log                       8.33639           8.365672   \n",
       "Total_Revolving_Bal_log1p                     0.0                0.0   \n",
       "Total_Trans_Ct_SqRT                      8.944272           8.246211   \n",
       "Credit_Limit_SqRT                       76.052613         117.758227   \n",
       "Total_Revolving_Bal_SqRT                      0.0                0.0   \n",
       "Avg_Open_To_Buy_SqRT                    76.052613         117.758227   \n",
       "Total_Trans_Amt_SqRT                    64.598762          65.551506   \n",
       "\n",
       "                                             466   \n",
       "CLIENTNUM                               708217758  \n",
       "Attrition_Flag                  Existing Customer  \n",
       "Customer_Age                                   63  \n",
       "Gender                                          M  \n",
       "Dependent_count                                 2  \n",
       "Education_Level                          Graduate  \n",
       "Marital_Status                            Married  \n",
       "Income_Category                       $60K - $80K  \n",
       "Card_Category                                Blue  \n",
       "Months_on_book                                 49  \n",
       "Total_Relationship_Count                        5  \n",
       "Months_Inactive_12_mon                          2  \n",
       "Contacts_Count_12_mon                           3  \n",
       "Credit_Limit                              14035.0  \n",
       "Total_Revolving_Bal                          2061  \n",
       "Avg_Open_To_Buy                           11974.0  \n",
       "Total_Amt_Chng_Q4_Q1                        2.271  \n",
       "Total_Trans_Amt                              1606  \n",
       "Total_Trans_Ct                                 30  \n",
       "Total_Ct_Chng_Q4_Q1                           1.5  \n",
       "Avg_Utilization_Ratio                       0.147  \n",
       "naive_cls1                               0.000191  \n",
       "naive_cls2                                0.99981  \n",
       "Education_Level_sorted                   Graduate  \n",
       "Marital_Status_sorted                     Married  \n",
       "Income_Category_relabeled               60K - 80K  \n",
       "Income_Category_sorted                  60K - 80K  \n",
       "Card_Category_sorted                         Blue  \n",
       "Attrition_Numeric                               0  \n",
       "Total_Trans_Amt_zScore                  -0.823703  \n",
       "Total_Trans_Ct_zScore                   -1.485155  \n",
       "Months_on_book_zScore                    1.636809  \n",
       "Customer_Age_zScore                      2.079986  \n",
       "Total_Trans_Amt_divMedian                  0.4119  \n",
       "Total_Amt_Chng_Q4_Q1_divMedian           3.085598  \n",
       "Credit_Limit_divMedian                   3.085293  \n",
       "Total_Revolving_Bal_divMedian            1.615204  \n",
       "Total_Ct_Chng_Q4_Q1_divMedian            2.136752  \n",
       "Avg_Open_To_Buy_divMedian                3.446747  \n",
       "Credit_Limit_log                         9.549309  \n",
       "Avg_Open_To_Buy_log                      9.390493  \n",
       "Total_Trans_Amt_log                      7.381502  \n",
       "Total_Revolving_Bal_log1p                7.631432  \n",
       "Total_Trans_Ct_SqRT                      5.477226  \n",
       "Credit_Limit_SqRT                      118.469405  \n",
       "Total_Revolving_Bal_SqRT                45.398238  \n",
       "Avg_Open_To_Buy_SqRT                   109.425774  \n",
       "Total_Trans_Amt_SqRT                     40.07493  "
      ]
     },
     "execution_count": 118,
     "metadata": {},
     "output_type": "execute_result"
    }
   ],
   "source": [
    "ccattr_data.head().T"
   ]
  },
  {
   "cell_type": "markdown",
   "metadata": {},
   "source": [
    "Distribution for the remaining features:\n",
    "* Dependent_count\n",
    "* Total_Relationship_Count\n",
    "* Months_Inactive_12_mon\n",
    "* Contacts_Count_12_mon\n",
    "* Total_Ct_Chng_Q4_Q1\n",
    "* naive_cls1\n",
    "* naive_cls2"
   ]
  },
  {
   "cell_type": "code",
   "execution_count": 119,
   "metadata": {},
   "outputs": [],
   "source": [
    "list_col=  [\"CLIENTNUM\",\"Dependent_count\",\"Total_Relationship_Count\",\"Months_Inactive_12_mon\",\"Contacts_Count_12_mon\",\n",
    "            \"Total_Ct_Chng_Q4_Q1\",\"naive_cls1\",\"naive_cls2\"]"
   ]
  },
  {
   "cell_type": "code",
   "execution_count": 120,
   "metadata": {},
   "outputs": [
    {
     "name": "stdout",
     "output_type": "stream",
     "text": [
      "<class 'pandas.core.frame.DataFrame'>\n",
      "Int64Index: 10127 entries, 823 to 650\n",
      "Data columns (total 8 columns):\n",
      " #   Column                    Non-Null Count  Dtype  \n",
      "---  ------                    --------------  -----  \n",
      " 0   CLIENTNUM                 10127 non-null  int64  \n",
      " 1   Dependent_count           10127 non-null  int64  \n",
      " 2   Total_Relationship_Count  10127 non-null  int64  \n",
      " 3   Months_Inactive_12_mon    10127 non-null  int64  \n",
      " 4   Contacts_Count_12_mon     10127 non-null  int64  \n",
      " 5   Total_Ct_Chng_Q4_Q1       10127 non-null  float64\n",
      " 6   naive_cls1                10127 non-null  float64\n",
      " 7   naive_cls2                10127 non-null  float64\n",
      "dtypes: float64(3), int64(5)\n",
      "memory usage: 712.1 KB\n"
     ]
    }
   ],
   "source": [
    "ccattr_data[list_col].info()"
   ]
  },
  {
   "cell_type": "code",
   "execution_count": 121,
   "metadata": {},
   "outputs": [
    {
     "data": {
      "image/png": "[encoded data removed]",
      "text/plain": [
       "<Figure size 1080x720 with 9 Axes>"
      ]
     },
     "metadata": {},
     "output_type": "display_data"
    }
   ],
   "source": [
    "#\"Attrition_Flag\",\"Gender\",\"Education_Level\",\"Marital_Status\",\"Income_Category\",\"Card_Category\"\n",
    "list_col=  [\"CLIENTNUM\",\"Dependent_count\",\"Total_Relationship_Count\",\"Months_Inactive_12_mon\",\"Contacts_Count_12_mon\",\n",
    "            \"Total_Ct_Chng_Q4_Q1\",\"naive_cls1\",\"naive_cls2\"]\n",
    "ccattr_data[list_col].hist(figsize=(15, 10),color = \"teal\")\n",
    "plt.subplots_adjust(hspace=0.5);"
   ]
  },
  {
   "cell_type": "markdown",
   "metadata": {},
   "source": [
    "Features have possible cause for concern about and why?\n",
    "* naive_cls1- because values are clustered down the low end.\n",
    "* naive_cls1- because values are clustered down the high end."
   ]
  },
  {
   "cell_type": "markdown",
   "metadata": {},
   "source": [
    "##  Target Feature<a id='Target_Feature'></a>"
   ]
  },
  {
   "cell_type": "markdown",
   "metadata": {},
   "source": [
    "How the\" Attrition_Flag\" relate to the 'Exit' status."
   ]
  },
  {
   "cell_type": "code",
   "execution_count": 122,
   "metadata": {},
   "outputs": [
    {
     "data": {
      "image/png": "[encoded data removed]",
      "text/plain": [
       "<Figure size 432x432 with 1 Axes>"
      ]
     },
     "metadata": {},
     "output_type": "display_data"
    }
   ],
   "source": [
    "#How attrition flag distribution looks like.\n",
    "ccattr_data[\"Attrition_Numeric\"].value_counts().plot.bar(figsize=(6,6),color=\"steelblue\")\n",
    "plt.xlabel('Customer Attrition')\n",
    "plt.ylabel('Count')\n",
    "plt.title('Distribution of Customer Attrition');"
   ]
  },
  {
   "cell_type": "markdown",
   "metadata": {},
   "source": [
    "Less than 2000 customer against 10000 customer data are churned. Same can be seen on pie chart as well with about 16% of the customers have churned. Given this is a small number, we need to ensure that the chosen model does predict with great accuracy."
   ]
  },
  {
   "cell_type": "markdown",
   "metadata": {},
   "source": [
    "##  Save Data<a id='Save_Data'></a>"
   ]
  },
  {
   "cell_type": "markdown",
   "metadata": {},
   "source": [
    "Save this to your data directory, separately. Note that you were provided with the data in `raw_data` and you should saving derived data in a separate location. This guards against overwriting our original data."
   ]
  },
  {
   "cell_type": "code",
   "execution_count": 123,
   "metadata": {},
   "outputs": [
    {
     "data": {
      "text/plain": [
       "Index(['CLIENTNUM', 'Attrition_Flag', 'Customer_Age', 'Gender',\n",
       "       'Dependent_count', 'Education_Level', 'Marital_Status',\n",
       "       'Income_Category', 'Card_Category', 'Months_on_book',\n",
       "       'Total_Relationship_Count', 'Months_Inactive_12_mon',\n",
       "       'Contacts_Count_12_mon', 'Credit_Limit', 'Total_Revolving_Bal',\n",
       "       'Avg_Open_To_Buy', 'Total_Amt_Chng_Q4_Q1', 'Total_Trans_Amt',\n",
       "       'Total_Trans_Ct', 'Total_Ct_Chng_Q4_Q1', 'Avg_Utilization_Ratio',\n",
       "       'naive_cls1', 'naive_cls2', 'Education_Level_sorted',\n",
       "       'Marital_Status_sorted', 'Income_Category_relabeled',\n",
       "       'Income_Category_sorted', 'Card_Category_sorted', 'Attrition_Numeric',\n",
       "       'Total_Trans_Amt_zScore', 'Total_Trans_Ct_zScore',\n",
       "       'Months_on_book_zScore', 'Customer_Age_zScore',\n",
       "       'Total_Trans_Amt_divMedian', 'Total_Amt_Chng_Q4_Q1_divMedian',\n",
       "       'Credit_Limit_divMedian', 'Total_Revolving_Bal_divMedian',\n",
       "       'Total_Ct_Chng_Q4_Q1_divMedian', 'Avg_Open_To_Buy_divMedian',\n",
       "       'Credit_Limit_log', 'Avg_Open_To_Buy_log', 'Total_Trans_Amt_log',\n",
       "       'Total_Revolving_Bal_log1p', 'Total_Trans_Ct_SqRT', 'Credit_Limit_SqRT',\n",
       "       'Total_Revolving_Bal_SqRT', 'Avg_Open_To_Buy_SqRT',\n",
       "       'Total_Trans_Amt_SqRT'],\n",
       "      dtype='object')"
      ]
     },
     "execution_count": 123,
     "metadata": {},
     "output_type": "execute_result"
    }
   ],
   "source": [
    "ccattr_data.columns"
   ]
  },
  {
   "cell_type": "code",
   "execution_count": 124,
   "metadata": {},
   "outputs": [],
   "source": [
    "# save the data to a new csv file\n",
    "datapath = '../data'\n",
    "\n",
    "datapath_ccattr_step2 = os.path.join(datapath, '2.ccattr_data_cleaned.csv')\n",
    "#if not os.path.exists(datapath_ccattr_step2):\n",
    "ccattr_data.to_csv(datapath_ccattr_step2, index=False)\n",
    "    "
   ]
  },
  {
   "cell_type": "markdown",
   "metadata": {},
   "source": [
    "## Summary<a id='Summary'></a>"
   ]
  },
  {
   "cell_type": "markdown",
   "metadata": {},
   "source": [
    "The dataset for this project is titled ‘ccattr_data’ and it is in Excel format and contains data types float64, int64, and object. The dataset has 10127 rows and 23 columns, with a total of 232,921 observations recorded. Changed the Attrition flag values, \"Existing customer\" to 0 and \"Attrited Customer\" to 1 and add to new column 'Attrition_Numeric'.\n",
    "\n",
    "To get his plot x -axis in order for Income_category, Education_level and Marital status new features are created with suffix \"_sorted\". For Income_category before sorting label were cleaned and made more intuitive and new feature is created with suffix \"_relabeled\"\n",
    "\n",
    "Applied zscore scaling on to 6 features,\"Customer_Age\",\"Months_on_book\",\"Total_Trans_Amt\",\"Total_Trans_Ct\" and created all 3 new columns with \"_zscore\" suffix .\n",
    "\n",
    "Applied dividing median scaling on 6 features, and those are \"Credit_Limit\",\"Total_Revolving_Bal\",\"Avg_Open_To_Buy\",\"Total_Trans_Amt\",\"Total_Amt_Chng_Q4_Q1\",\n",
    "\"Total_Ct_Chng_Q4_Q1_divMedian\" and new columns created with\"_divMedian\" suffix.\n",
    "\n",
    "Log transformation is applied for \"Credit_Limit\",\"Avg_Open_To_Buy\",\"Total_Trans_Amt\" and new columns are created with suffix \"_log\" and for \"Total_Revolving_Bal\" as this has the \"0\" values, log1p scaling is applied\n",
    "\n",
    "Square root scaling is applied to \"Total_Trans_Amt\",\"Credit_Limit\",\"Total_Revolving_Bal\",\"Avg_Open_To_Buy\",\"Total_Trans_Ct\" and bew columns are created with sufix \"_SqR\"\n",
    "\n",
    "All together 25 new columns are added, making 48 columns in total. These may be useful in knowing better insights like outliers on values of these columns in EDA. No columns are dropped.Over all there is no missing values, however Education level and Marital status have unknown values. These unknown values are fixed with their \"Mode\". The targetalue is identified as \"Attrition_Flag\".\n",
    "\n",
    "Finally with all intial data cleanup, the new CSV file is saved in data folder with the name \"ccattr_step2_data_cleaned.csv\"."
   ]
  },
  {
   "cell_type": "code",
   "execution_count": null,
   "metadata": {},
   "outputs": [],
   "source": []
  },
  {
   "cell_type": "code",
   "execution_count": null,
   "metadata": {},
   "outputs": [],
   "source": []
  }
 ],
 "metadata": {
  "kernelspec": {
   "display_name": "Python 3",
   "language": "python",
   "name": "python3"
  },
  "language_info": {
   "codemirror_mode": {
    "name": "ipython",
    "version": 3
   },
   "file_extension": ".py",
   "mimetype": "text/x-python",
   "name": "python",
   "nbconvert_exporter": "python",
   "pygments_lexer": "ipython3",
   "version": "3.8.8"
  },
  "toc": {
   "base_numbering": 1,
   "nav_menu": {},
   "number_sections": true,
   "sideBar": true,
   "skip_h1_title": false,
   "title_cell": "Table of Contents",
   "title_sidebar": "Contents",
   "toc_cell": false,
   "toc_position": {},
   "toc_section_display": true,
   "toc_window_display": true
  },
  "varInspector": {
   "cols": {
    "lenName": 16,
    "lenType": 16,
    "lenVar": 40
   },
   "kernels_config": {
    "python": {
     "delete_cmd_postfix": "",
     "delete_cmd_prefix": "del ",
     "library": "var_list.py",
     "varRefreshCmd": "print(var_dic_list())"
    },
    "r": {
     "delete_cmd_postfix": ") ",
     "delete_cmd_prefix": "rm(",
     "library": "var_list.r",
     "varRefreshCmd": "cat(var_dic_list()) "
    }
   },
   "types_to_exclude": [
    "module",
    "function",
    "builtin_function_or_method",
    "instance",
    "_Feature"
   ],
   "window_display": false
  }
 },
 "nbformat": 4,
 "nbformat_minor": 4
}
