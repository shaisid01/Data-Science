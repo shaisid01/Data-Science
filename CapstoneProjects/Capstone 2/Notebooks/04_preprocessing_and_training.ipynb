{
 "cells": [
  {
   "cell_type": "markdown",
   "id": "8b431a45",
   "metadata": {},
   "source": [
    "# 4 Pre-Processing and Training Data<a id='4_Pre-Processing_and_Training_Data'></a>"
   ]
  },
  {
   "cell_type": "markdown",
   "id": "1250c928",
   "metadata": {},
   "source": [
    "## Contents <a id =\"Content\" > </a>"
   ]
  },
  {
   "cell_type": "markdown",
   "id": "9e1cec44",
   "metadata": {},
   "source": [
    "## Introduction <a id = 'Introduction'></a>"
   ]
  },
  {
   "cell_type": "code",
   "execution_count": null,
   "id": "7065a5e8",
   "metadata": {},
   "outputs": [],
   "source": []
  },
  {
   "cell_type": "markdown",
   "id": "86344c79",
   "metadata": {},
   "source": [
    "## Imports <a id=\"Imports\"></a>"
   ]
  },
  {
   "cell_type": "code",
   "execution_count": null,
   "id": "e39c9cde",
   "metadata": {},
   "outputs": [],
   "source": [
    "import pandas as pd\n",
    "import numpy as np\n",
    "import matplotlib.pyplot as plt\n",
    "import seaborn as sns\n",
    "from sklearn import preprocessing\n",
    "from sklearn.preprocessing import FunctionTransformer\n",
    "from sklearn.model_selection import train_test_split\n",
    "import os\n",
    "#from sklearn.dummy import DummyRegressor\n",
    "#from imblearn.over_sampling import SMOTE"
   ]
  },
  {
   "cell_type": "code",
   "execution_count": null,
   "id": "5d71f14f",
   "metadata": {},
   "outputs": [],
   "source": [
    "ccattr_data = pd.read_csv(\"../data/3.ccattr_data_EDA_final.csv\")"
   ]
  },
  {
   "cell_type": "code",
   "execution_count": null,
   "id": "348ce94b",
   "metadata": {},
   "outputs": [],
   "source": [
    "ccattr_data.dtypes"
   ]
  },
  {
   "cell_type": "code",
   "execution_count": null,
   "id": "83a1942e",
   "metadata": {},
   "outputs": [],
   "source": [
    "ccattr_data.head()"
   ]
  },
  {
   "cell_type": "code",
   "execution_count": null,
   "id": "9cc1e7cd",
   "metadata": {},
   "outputs": [],
   "source": [
    "ccattr_data.shape"
   ]
  },
  {
   "cell_type": "code",
   "execution_count": null,
   "id": "fca2c921",
   "metadata": {},
   "outputs": [],
   "source": [
    "ccattr_data.head().T"
   ]
  },
  {
   "cell_type": "code",
   "execution_count": null,
   "id": "cee8d682",
   "metadata": {},
   "outputs": [],
   "source": [
    "ccattr_data.dtypes"
   ]
  },
  {
   "cell_type": "code",
   "execution_count": null,
   "id": "e05e14b9",
   "metadata": {},
   "outputs": [],
   "source": [
    "# Label Encode categorical variables \n",
    "\n",
    "#marital_status = {'Married':1,'Single':2, 'Divorced':3}\n",
    "#ccattr_data['Marital_Status_sorted']=ccattr_data['Marital_Status_sorted'].map(marital_status)\n",
    "\n",
    "education = {'Uneducated':1,'High School':2, 'Graduate':3, 'College':4, 'Post-Graduate':5, 'Doctorate':6}\n",
    "ccattr_data['Education_Level_sorted']=ccattr_data['Education_Level_sorted'].map(education)\n",
    "\n",
    "income = {'0K - 40K':1,'40k − 60K':2, '80K - 120K':3, '60K - 80K':4, '120K +':5}\n",
    "ccattr_data['Income_Category_sorted']=ccattr_data['Income_Category_sorted'].map(income)\n",
    "\n",
    "cc_cat = {'Blue':1,'Silver':2, 'Gold':3, 'Platinum':4}\n",
    "ccattr_data['Card_Category_sorted']=ccattr_data['Card_Category_sorted'].map(cc_cat)\n"
   ]
  },
  {
   "cell_type": "code",
   "execution_count": null,
   "id": "c9a8a657",
   "metadata": {},
   "outputs": [],
   "source": [
    "#Checking that no column has missing values \n",
    "ccattr_data.isnull().sum()"
   ]
  },
  {
   "cell_type": "code",
   "execution_count": null,
   "id": "539ea32b",
   "metadata": {},
   "outputs": [],
   "source": [
    "#Corralation\n",
    "\n",
    "list_cols = ['Attrition_Numeric','Customer_Age','Dependent_count', 'Months_on_book',\n",
    "             'Total_Relationship_Count', 'Months_Inactive_12_mon',\n",
    "             'Contacts_Count_12_mon', 'Credit_Limit', 'Total_Revolving_Bal',\n",
    "              'Total_Trans_Amt','Avg_Utilization_Ratio']\n",
    "sns.set_palette(sns.color_palette(\"Set1\", 8))\n",
    "sns.pairplot(ccattr_data[list_cols], hue=\"Attrition_Numeric\",corner=True)\n",
    "plt.show()"
   ]
  },
  {
   "cell_type": "markdown",
   "id": "bd797a32",
   "metadata": {},
   "source": [
    "Looking at the plot it is evident that classifiers are the best models than the linear regressor."
   ]
  },
  {
   "cell_type": "markdown",
   "id": "10843469",
   "metadata": {},
   "source": [
    "## Pre-Processing"
   ]
  },
  {
   "cell_type": "code",
   "execution_count": null,
   "id": "6d11fdec",
   "metadata": {},
   "outputs": [],
   "source": [
    "# Creating X and y\n",
    "X = ccattr_data.drop(['Attrition_Numeric','CLIENTNUM','naive_cls1','naive_cls2'],axis=1)\n",
    "y = ccattr_data['Attrition_Numeric']"
   ]
  },
  {
   "cell_type": "code",
   "execution_count": null,
   "id": "f1e580d4",
   "metadata": {},
   "outputs": [],
   "source": [
    "## Converting the data type of categorical features to 'category'\n",
    "'''cat_cols = ['Attrition_Numeric','Gender', 'Education_Level_sorted', 'Marital_Status_sorted', 'Income_Category_sorted', 'Card_Category_sorted','Dependent_count','Total_Relationship_Count','Months_Inactive_12_mon','Contacts_Count_12_mon']'''\n",
    "\n",
    "#cat_cols = ['Marital_Status_sorted']\n",
    "#ccattr_data[cat_cols] = ccattr_data[cat_cols].astype('category')\n",
    "ccattr_data.info()"
   ]
  },
  {
   "cell_type": "code",
   "execution_count": null,
   "id": "2dd2da74",
   "metadata": {},
   "outputs": [],
   "source": [
    "X=pd.get_dummies(X,drop_first=True)\n",
    "X.head()"
   ]
  },
  {
   "cell_type": "code",
   "execution_count": null,
   "id": "fa793da4",
   "metadata": {},
   "outputs": [],
   "source": [
    "X.describe()"
   ]
  },
  {
   "cell_type": "code",
   "execution_count": null,
   "id": "ef434e22",
   "metadata": {},
   "outputs": [],
   "source": [
    "X.dtypes"
   ]
  },
  {
   "cell_type": "markdown",
   "id": "49ddbb7b",
   "metadata": {},
   "source": [
    "All of the data are Numeric and ready for scaling"
   ]
  },
  {
   "cell_type": "markdown",
   "id": "87df20f7",
   "metadata": {},
   "source": [
    "## Train Test Split <a id=Train_Test_Split></a>"
   ]
  },
  {
   "cell_type": "code",
   "execution_count": null,
   "id": "e602b563",
   "metadata": {},
   "outputs": [],
   "source": [
    "# Splitting the data into train and test sets in 70:30 ratio\n",
    "X_train, X_test, y_train, y_test = train_test_split(X, y, test_size=0.30, random_state=1,stratify=y)\n",
    "X_train.shape, X_test.shape"
   ]
  },
  {
   "cell_type": "code",
   "execution_count": null,
   "id": "90235041",
   "metadata": {},
   "outputs": [],
   "source": [
    "y_train.shape, y_test.shape"
   ]
  },
  {
   "cell_type": "code",
   "execution_count": null,
   "id": "e63ef2b4",
   "metadata": {},
   "outputs": [],
   "source": [
    "X_trained_df = X_train.copy()\n",
    "X_test_df = X_test.copy()"
   ]
  },
  {
   "cell_type": "code",
   "execution_count": null,
   "id": "9b824f11",
   "metadata": {},
   "outputs": [],
   "source": [
    "X_trained_df.head()"
   ]
  },
  {
   "cell_type": "markdown",
   "id": "fc9d41d4",
   "metadata": {},
   "source": [
    "## Applying Scaling, found best from EDA"
   ]
  },
  {
   "cell_type": "code",
   "execution_count": null,
   "id": "c3bb45ef",
   "metadata": {},
   "outputs": [],
   "source": [
    "#zScore scaling for Customer_Age,Months_on_book\n",
    "#zScore scaling function\n",
    "def calczScore(ccdf,col_name):\n",
    "    df =ccdf.copy()\n",
    "    col_mean = df[col_name].mean()\n",
    "    col_std = df[col_name].std(ddof=0)\n",
    "    df[col_name] = (df[col_name]-col_mean)/col_std\n",
    "    return df[col_name]"
   ]
  },
  {
   "cell_type": "code",
   "execution_count": null,
   "id": "37989738",
   "metadata": {},
   "outputs": [],
   "source": [
    "#zScoreCol={\"Customer_Age\",\"Months_on_book\"}\n",
    "zScoreCol={\"Customer_Age\",\"Months_on_book\"}\n",
    "for col in zScoreCol:\n",
    "    X_trained_df[col] = calczScore( X_trained_df,col)"
   ]
  },
  {
   "cell_type": "code",
   "execution_count": null,
   "id": "dbbf769b",
   "metadata": {},
   "outputs": [],
   "source": [
    "X_trained_df"
   ]
  },
  {
   "cell_type": "code",
   "execution_count": null,
   "id": "edb26429",
   "metadata": {},
   "outputs": [],
   "source": [
    "#Applying zScore on x_test\n",
    "zScoreCol={\"Customer_Age\",\"Months_on_book\"}\n",
    "for col in zScoreCol:\n",
    "    X_test_df[col] = calczScore(X_test_df,col)"
   ]
  },
  {
   "cell_type": "code",
   "execution_count": null,
   "id": "6dc977d7",
   "metadata": {},
   "outputs": [],
   "source": [
    "X_test_df"
   ]
  },
  {
   "cell_type": "code",
   "execution_count": null,
   "id": "aa40a3bb",
   "metadata": {},
   "outputs": [],
   "source": [
    "# applying div median on Total_Revolving_Bal\n",
    "col_median = X_trained_df['Total_Revolving_Bal'].median()\n",
    "X_trained_df['Total_Revolving_Bal'] = X_trained_df['Total_Revolving_Bal']/col_median   \n",
    "X_trained_df"
   ]
  },
  {
   "cell_type": "code",
   "execution_count": null,
   "id": "d153c46f",
   "metadata": {},
   "outputs": [],
   "source": [
    "# applying div median on Total_Revolving_Bal for x_test\n",
    "col_median = X_test_df['Total_Revolving_Bal'].median()\n",
    "X_test_df['Total_Revolving_Bal'] = X_test_df['Total_Revolving_Bal']/col_median   \n",
    "X_test_df"
   ]
  },
  {
   "cell_type": "code",
   "execution_count": null,
   "id": "2b449178",
   "metadata": {},
   "outputs": [],
   "source": [
    "#Applying log scaling\n",
    "log_col=  [\"Credit_Limit\",\"Total_Trans_Amt\"]\n",
    "for col in log_col:\n",
    "    X_trained_df[col] = np.log(X_trained_df[col])\n",
    "X_trained_df"
   ]
  },
  {
   "cell_type": "code",
   "execution_count": null,
   "id": "243c93ff",
   "metadata": {},
   "outputs": [],
   "source": [
    "#Applying log scaling for x_test\n",
    "log_col=  [\"Credit_Limit\",\"Total_Trans_Amt\"]\n",
    "for col in log_col:\n",
    "    X_test_df[col] = np.log(X_test_df[col])\n",
    "X_test_df"
   ]
  },
  {
   "cell_type": "code",
   "execution_count": null,
   "id": "8078184f",
   "metadata": {},
   "outputs": [],
   "source": [
    "X_test_df.info()"
   ]
  },
  {
   "cell_type": "code",
   "execution_count": null,
   "id": "c7ee0bbc",
   "metadata": {},
   "outputs": [],
   "source": [
    "# Save the data \n",
    "datapath = '../data'\n",
    "\n",
    "datapath_step4 = os.path.join(datapath, '4.X_train.csv')\n",
    "X_trained_df.to_csv(datapath_step4, index=False)\n",
    "\n",
    "datapath_step4 = os.path.join(datapath, '4.y_train.csv')\n",
    "y_train.to_csv(datapath_step4, index=False)\n",
    "\n",
    "datapath_step4 = os.path.join(datapath, '4.X_test.csv')\n",
    "X_test_df.to_csv(datapath_step4, index=False)\n",
    "\n",
    "datapath_step4 = os.path.join(datapath, '4.y_test.csv')\n",
    "y_test.to_csv(datapath_step4, index=False)"
   ]
  },
  {
   "cell_type": "code",
   "execution_count": null,
   "id": "ea4365e3",
   "metadata": {},
   "outputs": [],
   "source": []
  }
 ],
 "metadata": {
  "kernelspec": {
   "display_name": "Python 3",
   "language": "python",
   "name": "python3"
  },
  "language_info": {
   "codemirror_mode": {
    "name": "ipython",
    "version": 3
   },
   "file_extension": ".py",
   "mimetype": "text/x-python",
   "name": "python",
   "nbconvert_exporter": "python",
   "pygments_lexer": "ipython3",
   "version": "3.12.7"
  }
 },
 "nbformat": 4,
 "nbformat_minor": 5
}
