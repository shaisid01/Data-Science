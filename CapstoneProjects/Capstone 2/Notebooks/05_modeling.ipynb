{
 "cells": [
  {
   "cell_type": "markdown",
   "id": "a6ba0b6c",
   "metadata": {},
   "source": [
    "# 4 Training and Modeling Data<a id='4_Training_and_Modeling_Data'></a>"
   ]
  },
  {
   "cell_type": "markdown",
   "id": "1f2e933d",
   "metadata": {},
   "source": [
    "## Contents <a id =\"Content\" > </a>"
   ]
  },
  {
   "cell_type": "markdown",
   "id": "48243509",
   "metadata": {},
   "source": [
    "* [Introduction](#Introduction)\n",
    "* [Imports](#Imports)\n",
    "* [Train Test Split](#Train_Test_Split) \n",
    "* [Training and Modeling](#Training_and_Modeling)\n",
    "    * [Model Selection](#Model_Selection)\n",
    "    * [Evaluation Metrics](#Evaluation-Metrics)\n",
    "        * [Training and Modeling](#Train_and_Model)\n",
    "        * [Hyperparameter Tuning and Model Training](#Hyperparameter_Tuning_Training)\n",
    "            * [Logistic Regression](#Logistic_Regression)\n",
    "            * [Evaluation](#Evaluation)\n",
    "* [Additional Models](#AdditionalModels)\n",
    "* [Summary](#Summary)\n",
    "* [Recommendations](#Recom)"
   ]
  },
  {
   "cell_type": "markdown",
   "id": "56f1e63c",
   "metadata": {},
   "source": [
    "## Introduction <a id = 'Introduction'></a>"
   ]
  },
  {
   "cell_type": "code",
   "execution_count": null,
   "id": "95f1e316",
   "metadata": {},
   "outputs": [],
   "source": []
  },
  {
   "cell_type": "markdown",
   "id": "86344c79",
   "metadata": {},
   "source": [
    "## Imports <a id=\"Imports\"></a>"
   ]
  },
  {
   "cell_type": "code",
   "execution_count": 1,
   "id": "e39c9cde",
   "metadata": {
    "scrolled": true
   },
   "outputs": [],
   "source": [
    "import pandas as pd\n",
    "import numpy as np\n",
    "from sklearn.metrics import r2_score, mean_squared_error, mean_absolute_error\n",
    "\n",
    "from sklearn import metrics\n",
    "from sklearn import pipeline\n",
    "from sklearn import model_selection\n",
    "from sklearn import linear_model \n",
    "\n",
    "from sklearn.linear_model import LogisticRegression\n",
    "from sklearn.pipeline import Pipeline\n",
    "\n",
    "from sklearn.model_selection import StratifiedShuffleSplit,GridSearchCV\n",
    "import matplotlib.pyplot as plt\n",
    "\n",
    "# remove warning\n",
    "#import warnings\n",
    "#warnings.filterwarnings(\"ignore\")\n"
   ]
  },
  {
   "cell_type": "code",
   "execution_count": 2,
   "id": "5d71f14f",
   "metadata": {
    "scrolled": true
   },
   "outputs": [],
   "source": [
    "X_train = pd.read_csv(\"../data/4.X_train.csv\")\n",
    "y_train = pd.read_csv(\"../data/4.y_train.csv\")\n",
    "X_test = pd.read_csv(\"../data/4.X_test.csv\")\n",
    "y_test = pd.read_csv(\"../data/4.y_test.csv\")"
   ]
  },
  {
   "cell_type": "code",
   "execution_count": 3,
   "id": "16f67d9a",
   "metadata": {},
   "outputs": [
    {
     "data": {
      "text/plain": [
       "'1.2.4'"
      ]
     },
     "execution_count": 3,
     "metadata": {},
     "output_type": "execute_result"
    }
   ],
   "source": [
    "pd.__version__"
   ]
  },
  {
   "cell_type": "code",
   "execution_count": 4,
   "id": "e2d11a31",
   "metadata": {},
   "outputs": [
    {
     "data": {
      "text/plain": [
       "((7088, 16), (7088, 1))"
      ]
     },
     "execution_count": 4,
     "metadata": {},
     "output_type": "execute_result"
    }
   ],
   "source": [
    "X_train.shape,y_train.shape"
   ]
  },
  {
   "cell_type": "code",
   "execution_count": 5,
   "id": "c0b9d32e",
   "metadata": {},
   "outputs": [
    {
     "data": {
      "text/plain": [
       "((3039, 16), (3039, 1))"
      ]
     },
     "execution_count": 5,
     "metadata": {},
     "output_type": "execute_result"
    }
   ],
   "source": [
    "X_test.shape,y_test.shape"
   ]
  },
  {
   "cell_type": "code",
   "execution_count": 6,
   "id": "f8f92359",
   "metadata": {},
   "outputs": [
    {
     "data": {
      "text/html": [
       "<div>\n",
       "<style scoped>\n",
       "    .dataframe tbody tr th:only-of-type {\n",
       "        vertical-align: middle;\n",
       "    }\n",
       "\n",
       "    .dataframe tbody tr th {\n",
       "        vertical-align: top;\n",
       "    }\n",
       "\n",
       "    .dataframe thead th {\n",
       "        text-align: right;\n",
       "    }\n",
       "</style>\n",
       "<table border=\"1\" class=\"dataframe\">\n",
       "  <thead>\n",
       "    <tr style=\"text-align: right;\">\n",
       "      <th></th>\n",
       "      <th>count</th>\n",
       "      <th>mean</th>\n",
       "      <th>std</th>\n",
       "      <th>min</th>\n",
       "      <th>25%</th>\n",
       "      <th>50%</th>\n",
       "      <th>75%</th>\n",
       "      <th>max</th>\n",
       "    </tr>\n",
       "  </thead>\n",
       "  <tbody>\n",
       "    <tr>\n",
       "      <th>Customer_Age</th>\n",
       "      <td>7088.0</td>\n",
       "      <td>-3.454018e-16</td>\n",
       "      <td>1.000071</td>\n",
       "      <td>-2.531322</td>\n",
       "      <td>-0.661337</td>\n",
       "      <td>-0.038008</td>\n",
       "      <td>0.709986</td>\n",
       "      <td>3.327966</td>\n",
       "    </tr>\n",
       "    <tr>\n",
       "      <th>Credit_Limit</th>\n",
       "      <td>7088.0</td>\n",
       "      <td>8.597793e+00</td>\n",
       "      <td>0.930669</td>\n",
       "      <td>7.271217</td>\n",
       "      <td>7.841395</td>\n",
       "      <td>8.418587</td>\n",
       "      <td>9.298671</td>\n",
       "      <td>10.449178</td>\n",
       "    </tr>\n",
       "    <tr>\n",
       "      <th>Total_Revolving_Bal</th>\n",
       "      <td>7088.0</td>\n",
       "      <td>9.103482e-01</td>\n",
       "      <td>0.638103</td>\n",
       "      <td>0.000000</td>\n",
       "      <td>0.248822</td>\n",
       "      <td>1.000000</td>\n",
       "      <td>1.396112</td>\n",
       "      <td>1.977219</td>\n",
       "    </tr>\n",
       "    <tr>\n",
       "      <th>Total_Trans_Amt</th>\n",
       "      <td>7088.0</td>\n",
       "      <td>8.167921e+00</td>\n",
       "      <td>0.656979</td>\n",
       "      <td>6.390241</td>\n",
       "      <td>7.674617</td>\n",
       "      <td>8.267449</td>\n",
       "      <td>8.468633</td>\n",
       "      <td>9.824661</td>\n",
       "    </tr>\n",
       "    <tr>\n",
       "      <th>Avg_Utilization_Ratio</th>\n",
       "      <td>7088.0</td>\n",
       "      <td>2.753070e-01</td>\n",
       "      <td>0.276635</td>\n",
       "      <td>0.000000</td>\n",
       "      <td>0.023000</td>\n",
       "      <td>0.175000</td>\n",
       "      <td>0.502000</td>\n",
       "      <td>0.999000</td>\n",
       "    </tr>\n",
       "    <tr>\n",
       "      <th>Gender_Encoded</th>\n",
       "      <td>7088.0</td>\n",
       "      <td>5.328725e-01</td>\n",
       "      <td>0.498953</td>\n",
       "      <td>0.000000</td>\n",
       "      <td>0.000000</td>\n",
       "      <td>1.000000</td>\n",
       "      <td>1.000000</td>\n",
       "      <td>1.000000</td>\n",
       "    </tr>\n",
       "    <tr>\n",
       "      <th>Dependent_count</th>\n",
       "      <td>7088.0</td>\n",
       "      <td>2.344949e+00</td>\n",
       "      <td>1.299597</td>\n",
       "      <td>0.000000</td>\n",
       "      <td>1.000000</td>\n",
       "      <td>2.000000</td>\n",
       "      <td>3.000000</td>\n",
       "      <td>5.000000</td>\n",
       "    </tr>\n",
       "    <tr>\n",
       "      <th>Education_Level_sorted</th>\n",
       "      <td>7088.0</td>\n",
       "      <td>2.839306e+00</td>\n",
       "      <td>1.215114</td>\n",
       "      <td>1.000000</td>\n",
       "      <td>2.000000</td>\n",
       "      <td>3.000000</td>\n",
       "      <td>3.000000</td>\n",
       "      <td>6.000000</td>\n",
       "    </tr>\n",
       "    <tr>\n",
       "      <th>Income_Category_sorted</th>\n",
       "      <td>7088.0</td>\n",
       "      <td>2.175226e+00</td>\n",
       "      <td>1.334986</td>\n",
       "      <td>1.000000</td>\n",
       "      <td>1.000000</td>\n",
       "      <td>2.000000</td>\n",
       "      <td>3.000000</td>\n",
       "      <td>5.000000</td>\n",
       "    </tr>\n",
       "    <tr>\n",
       "      <th>Card_Category_sorted</th>\n",
       "      <td>7088.0</td>\n",
       "      <td>1.081546e+00</td>\n",
       "      <td>0.330233</td>\n",
       "      <td>1.000000</td>\n",
       "      <td>1.000000</td>\n",
       "      <td>1.000000</td>\n",
       "      <td>1.000000</td>\n",
       "      <td>4.000000</td>\n",
       "    </tr>\n",
       "    <tr>\n",
       "      <th>Months_on_book</th>\n",
       "      <td>7088.0</td>\n",
       "      <td>-3.454018e-16</td>\n",
       "      <td>1.000071</td>\n",
       "      <td>-2.531322</td>\n",
       "      <td>-0.661337</td>\n",
       "      <td>-0.038008</td>\n",
       "      <td>0.709986</td>\n",
       "      <td>3.327966</td>\n",
       "    </tr>\n",
       "    <tr>\n",
       "      <th>Total_Relationship_Count</th>\n",
       "      <td>7088.0</td>\n",
       "      <td>3.801213e+00</td>\n",
       "      <td>1.559728</td>\n",
       "      <td>1.000000</td>\n",
       "      <td>3.000000</td>\n",
       "      <td>4.000000</td>\n",
       "      <td>5.000000</td>\n",
       "      <td>6.000000</td>\n",
       "    </tr>\n",
       "    <tr>\n",
       "      <th>Months_Inactive_12_mon</th>\n",
       "      <td>7088.0</td>\n",
       "      <td>2.339870e+00</td>\n",
       "      <td>1.011731</td>\n",
       "      <td>0.000000</td>\n",
       "      <td>2.000000</td>\n",
       "      <td>2.000000</td>\n",
       "      <td>3.000000</td>\n",
       "      <td>6.000000</td>\n",
       "    </tr>\n",
       "    <tr>\n",
       "      <th>Contacts_Count_12_mon</th>\n",
       "      <td>7088.0</td>\n",
       "      <td>2.466140e+00</td>\n",
       "      <td>1.106944</td>\n",
       "      <td>0.000000</td>\n",
       "      <td>2.000000</td>\n",
       "      <td>2.000000</td>\n",
       "      <td>3.000000</td>\n",
       "      <td>6.000000</td>\n",
       "    </tr>\n",
       "    <tr>\n",
       "      <th>Marital_Status_sorted_Married</th>\n",
       "      <td>7088.0</td>\n",
       "      <td>5.409142e-01</td>\n",
       "      <td>0.498358</td>\n",
       "      <td>0.000000</td>\n",
       "      <td>0.000000</td>\n",
       "      <td>1.000000</td>\n",
       "      <td>1.000000</td>\n",
       "      <td>1.000000</td>\n",
       "    </tr>\n",
       "    <tr>\n",
       "      <th>Marital_Status_sorted_Single</th>\n",
       "      <td>7088.0</td>\n",
       "      <td>3.831828e-01</td>\n",
       "      <td>0.486197</td>\n",
       "      <td>0.000000</td>\n",
       "      <td>0.000000</td>\n",
       "      <td>0.000000</td>\n",
       "      <td>1.000000</td>\n",
       "      <td>1.000000</td>\n",
       "    </tr>\n",
       "  </tbody>\n",
       "</table>\n",
       "</div>"
      ],
      "text/plain": [
       "                                count          mean       std       min  \\\n",
       "Customer_Age                   7088.0 -3.454018e-16  1.000071 -2.531322   \n",
       "Credit_Limit                   7088.0  8.597793e+00  0.930669  7.271217   \n",
       "Total_Revolving_Bal            7088.0  9.103482e-01  0.638103  0.000000   \n",
       "Total_Trans_Amt                7088.0  8.167921e+00  0.656979  6.390241   \n",
       "Avg_Utilization_Ratio          7088.0  2.753070e-01  0.276635  0.000000   \n",
       "Gender_Encoded                 7088.0  5.328725e-01  0.498953  0.000000   \n",
       "Dependent_count                7088.0  2.344949e+00  1.299597  0.000000   \n",
       "Education_Level_sorted         7088.0  2.839306e+00  1.215114  1.000000   \n",
       "Income_Category_sorted         7088.0  2.175226e+00  1.334986  1.000000   \n",
       "Card_Category_sorted           7088.0  1.081546e+00  0.330233  1.000000   \n",
       "Months_on_book                 7088.0 -3.454018e-16  1.000071 -2.531322   \n",
       "Total_Relationship_Count       7088.0  3.801213e+00  1.559728  1.000000   \n",
       "Months_Inactive_12_mon         7088.0  2.339870e+00  1.011731  0.000000   \n",
       "Contacts_Count_12_mon          7088.0  2.466140e+00  1.106944  0.000000   \n",
       "Marital_Status_sorted_Married  7088.0  5.409142e-01  0.498358  0.000000   \n",
       "Marital_Status_sorted_Single   7088.0  3.831828e-01  0.486197  0.000000   \n",
       "\n",
       "                                    25%       50%       75%        max  \n",
       "Customer_Age                  -0.661337 -0.038008  0.709986   3.327966  \n",
       "Credit_Limit                   7.841395  8.418587  9.298671  10.449178  \n",
       "Total_Revolving_Bal            0.248822  1.000000  1.396112   1.977219  \n",
       "Total_Trans_Amt                7.674617  8.267449  8.468633   9.824661  \n",
       "Avg_Utilization_Ratio          0.023000  0.175000  0.502000   0.999000  \n",
       "Gender_Encoded                 0.000000  1.000000  1.000000   1.000000  \n",
       "Dependent_count                1.000000  2.000000  3.000000   5.000000  \n",
       "Education_Level_sorted         2.000000  3.000000  3.000000   6.000000  \n",
       "Income_Category_sorted         1.000000  2.000000  3.000000   5.000000  \n",
       "Card_Category_sorted           1.000000  1.000000  1.000000   4.000000  \n",
       "Months_on_book                -0.661337 -0.038008  0.709986   3.327966  \n",
       "Total_Relationship_Count       3.000000  4.000000  5.000000   6.000000  \n",
       "Months_Inactive_12_mon         2.000000  2.000000  3.000000   6.000000  \n",
       "Contacts_Count_12_mon          2.000000  2.000000  3.000000   6.000000  \n",
       "Marital_Status_sorted_Married  0.000000  1.000000  1.000000   1.000000  \n",
       "Marital_Status_sorted_Single   0.000000  0.000000  1.000000   1.000000  "
      ]
     },
     "execution_count": 6,
     "metadata": {},
     "output_type": "execute_result"
    }
   ],
   "source": [
    "X_train.describe().T"
   ]
  },
  {
   "cell_type": "code",
   "execution_count": 7,
   "id": "42b3a7d0",
   "metadata": {},
   "outputs": [
    {
     "data": {
      "text/html": [
       "<div>\n",
       "<style scoped>\n",
       "    .dataframe tbody tr th:only-of-type {\n",
       "        vertical-align: middle;\n",
       "    }\n",
       "\n",
       "    .dataframe tbody tr th {\n",
       "        vertical-align: top;\n",
       "    }\n",
       "\n",
       "    .dataframe thead th {\n",
       "        text-align: right;\n",
       "    }\n",
       "</style>\n",
       "<table border=\"1\" class=\"dataframe\">\n",
       "  <thead>\n",
       "    <tr style=\"text-align: right;\">\n",
       "      <th></th>\n",
       "      <th>count</th>\n",
       "      <th>mean</th>\n",
       "      <th>std</th>\n",
       "      <th>min</th>\n",
       "      <th>25%</th>\n",
       "      <th>50%</th>\n",
       "      <th>75%</th>\n",
       "      <th>max</th>\n",
       "    </tr>\n",
       "  </thead>\n",
       "  <tbody>\n",
       "    <tr>\n",
       "      <th>Customer_Age</th>\n",
       "      <td>3039.0</td>\n",
       "      <td>1.760867e-16</td>\n",
       "      <td>1.000165</td>\n",
       "      <td>-2.545475</td>\n",
       "      <td>-0.671517</td>\n",
       "      <td>-0.046864</td>\n",
       "      <td>0.702719</td>\n",
       "      <td>2.701607</td>\n",
       "    </tr>\n",
       "    <tr>\n",
       "      <th>Credit_Limit</th>\n",
       "      <td>3039.0</td>\n",
       "      <td>8.616519e+00</td>\n",
       "      <td>0.940983</td>\n",
       "      <td>7.271217</td>\n",
       "      <td>7.854381</td>\n",
       "      <td>8.432724</td>\n",
       "      <td>9.328701</td>\n",
       "      <td>10.449178</td>\n",
       "    </tr>\n",
       "    <tr>\n",
       "      <th>Total_Revolving_Bal</th>\n",
       "      <td>3039.0</td>\n",
       "      <td>9.134881e-01</td>\n",
       "      <td>0.640117</td>\n",
       "      <td>0.000000</td>\n",
       "      <td>0.349961</td>\n",
       "      <td>1.000000</td>\n",
       "      <td>1.401403</td>\n",
       "      <td>1.961808</td>\n",
       "    </tr>\n",
       "    <tr>\n",
       "      <th>Total_Trans_Amt</th>\n",
       "      <td>3039.0</td>\n",
       "      <td>8.157574e+00</td>\n",
       "      <td>0.648578</td>\n",
       "      <td>6.234411</td>\n",
       "      <td>7.682021</td>\n",
       "      <td>8.271293</td>\n",
       "      <td>8.453401</td>\n",
       "      <td>9.797849</td>\n",
       "    </tr>\n",
       "    <tr>\n",
       "      <th>Avg_Utilization_Ratio</th>\n",
       "      <td>3039.0</td>\n",
       "      <td>2.739293e-01</td>\n",
       "      <td>0.273522</td>\n",
       "      <td>0.000000</td>\n",
       "      <td>0.022500</td>\n",
       "      <td>0.177000</td>\n",
       "      <td>0.503500</td>\n",
       "      <td>0.994000</td>\n",
       "    </tr>\n",
       "    <tr>\n",
       "      <th>Gender_Encoded</th>\n",
       "      <td>3039.0</td>\n",
       "      <td>5.202369e-01</td>\n",
       "      <td>0.499673</td>\n",
       "      <td>0.000000</td>\n",
       "      <td>0.000000</td>\n",
       "      <td>1.000000</td>\n",
       "      <td>1.000000</td>\n",
       "      <td>1.000000</td>\n",
       "    </tr>\n",
       "    <tr>\n",
       "      <th>Dependent_count</th>\n",
       "      <td>3039.0</td>\n",
       "      <td>2.349128e+00</td>\n",
       "      <td>1.297511</td>\n",
       "      <td>0.000000</td>\n",
       "      <td>1.000000</td>\n",
       "      <td>2.000000</td>\n",
       "      <td>3.000000</td>\n",
       "      <td>5.000000</td>\n",
       "    </tr>\n",
       "    <tr>\n",
       "      <th>Education_Level_sorted</th>\n",
       "      <td>3039.0</td>\n",
       "      <td>2.851925e+00</td>\n",
       "      <td>1.201185</td>\n",
       "      <td>1.000000</td>\n",
       "      <td>2.000000</td>\n",
       "      <td>3.000000</td>\n",
       "      <td>3.000000</td>\n",
       "      <td>6.000000</td>\n",
       "    </tr>\n",
       "    <tr>\n",
       "      <th>Income_Category_sorted</th>\n",
       "      <td>3039.0</td>\n",
       "      <td>2.199079e+00</td>\n",
       "      <td>1.332057</td>\n",
       "      <td>1.000000</td>\n",
       "      <td>1.000000</td>\n",
       "      <td>2.000000</td>\n",
       "      <td>3.000000</td>\n",
       "      <td>5.000000</td>\n",
       "    </tr>\n",
       "    <tr>\n",
       "      <th>Card_Category_sorted</th>\n",
       "      <td>3039.0</td>\n",
       "      <td>1.088516e+00</td>\n",
       "      <td>0.341929</td>\n",
       "      <td>1.000000</td>\n",
       "      <td>1.000000</td>\n",
       "      <td>1.000000</td>\n",
       "      <td>1.000000</td>\n",
       "      <td>4.000000</td>\n",
       "    </tr>\n",
       "    <tr>\n",
       "      <th>Months_on_book</th>\n",
       "      <td>3039.0</td>\n",
       "      <td>1.760867e-16</td>\n",
       "      <td>1.000165</td>\n",
       "      <td>-2.545475</td>\n",
       "      <td>-0.671517</td>\n",
       "      <td>-0.046864</td>\n",
       "      <td>0.702719</td>\n",
       "      <td>2.701607</td>\n",
       "    </tr>\n",
       "    <tr>\n",
       "      <th>Total_Relationship_Count</th>\n",
       "      <td>3039.0</td>\n",
       "      <td>3.839092e+00</td>\n",
       "      <td>1.541858</td>\n",
       "      <td>1.000000</td>\n",
       "      <td>3.000000</td>\n",
       "      <td>4.000000</td>\n",
       "      <td>5.000000</td>\n",
       "      <td>6.000000</td>\n",
       "    </tr>\n",
       "    <tr>\n",
       "      <th>Months_Inactive_12_mon</th>\n",
       "      <td>3039.0</td>\n",
       "      <td>2.344192e+00</td>\n",
       "      <td>1.008191</td>\n",
       "      <td>0.000000</td>\n",
       "      <td>2.000000</td>\n",
       "      <td>2.000000</td>\n",
       "      <td>3.000000</td>\n",
       "      <td>6.000000</td>\n",
       "    </tr>\n",
       "    <tr>\n",
       "      <th>Contacts_Count_12_mon</th>\n",
       "      <td>3039.0</td>\n",
       "      <td>2.430076e+00</td>\n",
       "      <td>1.104317</td>\n",
       "      <td>0.000000</td>\n",
       "      <td>2.000000</td>\n",
       "      <td>2.000000</td>\n",
       "      <td>3.000000</td>\n",
       "      <td>6.000000</td>\n",
       "    </tr>\n",
       "    <tr>\n",
       "      <th>Marital_Status_sorted_Married</th>\n",
       "      <td>3039.0</td>\n",
       "      <td>5.271471e-01</td>\n",
       "      <td>0.499345</td>\n",
       "      <td>0.000000</td>\n",
       "      <td>0.000000</td>\n",
       "      <td>1.000000</td>\n",
       "      <td>1.000000</td>\n",
       "      <td>1.000000</td>\n",
       "    </tr>\n",
       "    <tr>\n",
       "      <th>Marital_Status_sorted_Single</th>\n",
       "      <td>3039.0</td>\n",
       "      <td>4.037512e-01</td>\n",
       "      <td>0.490729</td>\n",
       "      <td>0.000000</td>\n",
       "      <td>0.000000</td>\n",
       "      <td>0.000000</td>\n",
       "      <td>1.000000</td>\n",
       "      <td>1.000000</td>\n",
       "    </tr>\n",
       "  </tbody>\n",
       "</table>\n",
       "</div>"
      ],
      "text/plain": [
       "                                count          mean       std       min  \\\n",
       "Customer_Age                   3039.0  1.760867e-16  1.000165 -2.545475   \n",
       "Credit_Limit                   3039.0  8.616519e+00  0.940983  7.271217   \n",
       "Total_Revolving_Bal            3039.0  9.134881e-01  0.640117  0.000000   \n",
       "Total_Trans_Amt                3039.0  8.157574e+00  0.648578  6.234411   \n",
       "Avg_Utilization_Ratio          3039.0  2.739293e-01  0.273522  0.000000   \n",
       "Gender_Encoded                 3039.0  5.202369e-01  0.499673  0.000000   \n",
       "Dependent_count                3039.0  2.349128e+00  1.297511  0.000000   \n",
       "Education_Level_sorted         3039.0  2.851925e+00  1.201185  1.000000   \n",
       "Income_Category_sorted         3039.0  2.199079e+00  1.332057  1.000000   \n",
       "Card_Category_sorted           3039.0  1.088516e+00  0.341929  1.000000   \n",
       "Months_on_book                 3039.0  1.760867e-16  1.000165 -2.545475   \n",
       "Total_Relationship_Count       3039.0  3.839092e+00  1.541858  1.000000   \n",
       "Months_Inactive_12_mon         3039.0  2.344192e+00  1.008191  0.000000   \n",
       "Contacts_Count_12_mon          3039.0  2.430076e+00  1.104317  0.000000   \n",
       "Marital_Status_sorted_Married  3039.0  5.271471e-01  0.499345  0.000000   \n",
       "Marital_Status_sorted_Single   3039.0  4.037512e-01  0.490729  0.000000   \n",
       "\n",
       "                                    25%       50%       75%        max  \n",
       "Customer_Age                  -0.671517 -0.046864  0.702719   2.701607  \n",
       "Credit_Limit                   7.854381  8.432724  9.328701  10.449178  \n",
       "Total_Revolving_Bal            0.349961  1.000000  1.401403   1.961808  \n",
       "Total_Trans_Amt                7.682021  8.271293  8.453401   9.797849  \n",
       "Avg_Utilization_Ratio          0.022500  0.177000  0.503500   0.994000  \n",
       "Gender_Encoded                 0.000000  1.000000  1.000000   1.000000  \n",
       "Dependent_count                1.000000  2.000000  3.000000   5.000000  \n",
       "Education_Level_sorted         2.000000  3.000000  3.000000   6.000000  \n",
       "Income_Category_sorted         1.000000  2.000000  3.000000   5.000000  \n",
       "Card_Category_sorted           1.000000  1.000000  1.000000   4.000000  \n",
       "Months_on_book                -0.671517 -0.046864  0.702719   2.701607  \n",
       "Total_Relationship_Count       3.000000  4.000000  5.000000   6.000000  \n",
       "Months_Inactive_12_mon         2.000000  2.000000  3.000000   6.000000  \n",
       "Contacts_Count_12_mon          2.000000  2.000000  3.000000   6.000000  \n",
       "Marital_Status_sorted_Married  0.000000  1.000000  1.000000   1.000000  \n",
       "Marital_Status_sorted_Single   0.000000  0.000000  1.000000   1.000000  "
      ]
     },
     "execution_count": 7,
     "metadata": {},
     "output_type": "execute_result"
    }
   ],
   "source": [
    "X_test.describe().T"
   ]
  },
  {
   "cell_type": "markdown",
   "id": "d1e33603",
   "metadata": {},
   "source": [
    "## Training and Modeling <a id=Training_and_Modeling ></a>"
   ]
  },
  {
   "cell_type": "markdown",
   "id": "1d02863c",
   "metadata": {},
   "source": [
    "### Model Selection <a id=Model_Selection ></a>"
   ]
  },
  {
   "cell_type": "markdown",
   "id": "a67eec12",
   "metadata": {},
   "source": [
    "### Training and Modeling <a id=Train_and_Model>"
   ]
  },
  {
   "cell_type": "markdown",
   "id": "53934cfc",
   "metadata": {},
   "source": [
    "### Fit Model on Intercept (naive model)"
   ]
  },
  {
   "cell_type": "code",
   "execution_count": 8,
   "id": "bc97a834",
   "metadata": {},
   "outputs": [],
   "source": [
    "X_train = X_train.to_numpy()\n",
    "y_train = y_train.to_numpy().ravel()"
   ]
  },
  {
   "cell_type": "code",
   "execution_count": 9,
   "id": "8cdf9110",
   "metadata": {},
   "outputs": [],
   "source": [
    "X_test = X_test.to_numpy()\n",
    "y_test = y_test.to_numpy().ravel()"
   ]
  },
  {
   "cell_type": "code",
   "execution_count": 53,
   "id": "0ef02462",
   "metadata": {},
   "outputs": [],
   "source": [
    "def threshhold_and_plot(y_test,target,n_points=50,plot=True):\n",
    "    probs = np.linspace(0,1,n_points)\n",
    "    #def make_thresh():\n",
    "    precision = [metrics.precision_score(y_test,np.where(target > thresh,1,0)) for thresh in probs]\n",
    "    recall = [metrics.recall_score(y_test,np.where(target > thresh,1,0)) for thresh in probs]\n",
    "    f1 = [metrics.f1_score(y_test,np.where(target > thresh,1,0)) for thresh in probs]\n",
    "       # return precision,recall,f1\n",
    "\n",
    "    #precision,recall,f1 = make_thresh()\n",
    "    if plot:\n",
    "        plt.plot(probs,precision,label='precision')\n",
    "        plt.plot(probs,recall,label='recall')\n",
    "        plt.plot(probs,f1,label='f1')\n",
    "        plt.title(\"Metrics at different threshold\")\n",
    "        plt.xlabel(\"Probability\")\n",
    "        plt.legend()\n",
    "        return precision,recall,f1\n",
    "    else:\n",
    "        return precision,recall,f1\n",
    "    \n",
    "def max_thresh(score_vec):\n",
    "    max_idx=np.argmax(score_vec)\n",
    "    max_score=score_vec[max_idx]\n",
    "    return max_idx,max_score"
   ]
  },
  {
   "cell_type": "code",
   "execution_count": 11,
   "id": "3e7e3349",
   "metadata": {},
   "outputs": [],
   "source": [
    "null_reg = linear_model.LogisticRegression(fit_intercept= False,max_iter=500,random_state=632966)"
   ]
  },
  {
   "cell_type": "code",
   "execution_count": 12,
   "id": "33dfe273",
   "metadata": {},
   "outputs": [],
   "source": [
    "X_train_null = np.ones(shape=y_train.shape[0]).reshape(-1,1)\n",
    "X_test_null = np.ones(shape=y_test.shape[0]).reshape(-1,1)"
   ]
  },
  {
   "cell_type": "code",
   "execution_count": 13,
   "id": "d1d4418f",
   "metadata": {},
   "outputs": [],
   "source": [
    "#fit on train and test data no tuning\n",
    "null_train = null_reg.fit(X=X_train_null,y=y_train)\n",
    "null_test = null_reg.fit(X=X_test_null,y=y_test)"
   ]
  },
  {
   "cell_type": "code",
   "execution_count": 14,
   "id": "0a51b937",
   "metadata": {},
   "outputs": [],
   "source": [
    "#predict_proba and pred_prob returns two columns, second one is target\n",
    "train_pred = null_train.predict_proba(X_train_null)\n",
    "test_pred = null_train.predict_proba(X_test_null)"
   ]
  },
  {
   "cell_type": "code",
   "execution_count": 15,
   "id": "a2649083",
   "metadata": {},
   "outputs": [
    {
     "name": "stderr",
     "output_type": "stream",
     "text": [
      "C:\\Users\\Chipmunk\\anaconda3a\\lib\\site-packages\\sklearn\\metrics\\_classification.py:1245: UndefinedMetricWarning: Precision is ill-defined and being set to 0.0 due to no predicted samples. Use `zero_division` parameter to control this behavior.\n",
      "  _warn_prf(average, modifier, msg_start, len(result))\n"
     ]
    },
    {
     "data": {
      "text/plain": [
       "0.0"
      ]
     },
     "execution_count": 15,
     "metadata": {},
     "output_type": "execute_result"
    }
   ],
   "source": [
    "#base metrics: minmum performance\n",
    "metrics.precision_score(y_true= y_train,y_pred= np.where(train_pred[:,1]>0.5,1,0))\n",
    "metrics.recall_score(y_true= y_train,y_pred= np.where(train_pred[:,1]>0.5,1,0))\n",
    "metrics.f1_score(y_true= y_train,y_pred= np.where(train_pred[:,1]>0.5,1,0))"
   ]
  },
  {
   "cell_type": "code",
   "execution_count": 16,
   "id": "2ad1692d",
   "metadata": {},
   "outputs": [
    {
     "name": "stdout",
     "output_type": "stream",
     "text": [
      "Observed: 0.161, Fit: 0.161\n"
     ]
    }
   ],
   "source": [
    "#check to see if close to population value\n",
    "#print(f\"Observed: {y_train.mean():.3f} Fit: {train_pred[:,1].mean(): .3f}\")\n",
    "print(\"Observed: {:.3f}, Fit: {:.3f}\".format(y_train.mean(),train_pred[:,1].mean()))"
   ]
  },
  {
   "cell_type": "code",
   "execution_count": 17,
   "id": "6abf381f",
   "metadata": {},
   "outputs": [],
   "source": [
    "model_params = {\"model__C\": (np.logspace(start=-4,stop=4,num=30))}"
   ]
  },
  {
   "cell_type": "code",
   "execution_count": 18,
   "id": "2c831430",
   "metadata": {},
   "outputs": [],
   "source": [
    "#pipe line has just model object\n",
    "model_pipeline = pipeline.Pipeline(steps=[(\"model\",null_reg)])"
   ]
  },
  {
   "cell_type": "code",
   "execution_count": 19,
   "id": "288320de",
   "metadata": {},
   "outputs": [],
   "source": [
    "# set up cross-validator:\n",
    "# 80/20 train/calibration split in this data (test data still held out)\n",
    "# 200 iterations\n",
    "# feel free to use another CV method and explain why\n",
    "cross_validator = (\n",
    "  model_selection.StratifiedShuffleSplit(train_size=0.8,\n",
    "                                          random_state=1337,\n",
    "                                          n_splits=50))"
   ]
  },
  {
   "cell_type": "code",
   "execution_count": 20,
   "id": "fcb5b4b5",
   "metadata": {},
   "outputs": [],
   "source": [
    "# set up grid search\n",
    "model_grid = (\n",
    "  model_selection.GridSearchCV(estimator=model_pipeline,\n",
    "                           param_grid=model_params,\n",
    "                           refit=True, # refit using best estimates\n",
    "                           scoring=\"roc_auc\", # metric to optimize (can pick another)\n",
    "                           cv=cross_validator,\n",
    "                           n_jobs = -1))"
   ]
  },
  {
   "cell_type": "code",
   "execution_count": 21,
   "id": "861cb441",
   "metadata": {},
   "outputs": [],
   "source": [
    "# fit model on intercept (random guesses - baseline performance)\n",
    "null_mod = model_grid.fit(X_train_null,y_train)"
   ]
  },
  {
   "cell_type": "code",
   "execution_count": 22,
   "id": "d237f1a0",
   "metadata": {},
   "outputs": [],
   "source": [
    "cv_scores = (\n",
    "  model_selection.cross_val_score(null_mod,\n",
    "                                  X_train_null,\n",
    "                                  y_train,\n",
    "                                  scoring=\"roc_auc\",\n",
    "                                  cv=cross_validator,\n",
    "                                  n_jobs=-1))"
   ]
  },
  {
   "cell_type": "code",
   "execution_count": 23,
   "id": "aeedbaba",
   "metadata": {},
   "outputs": [],
   "source": [
    "cv_quantiles = np.quantile(a=cv_scores,q=[0.025,0.975])"
   ]
  },
  {
   "cell_type": "code",
   "execution_count": 24,
   "id": "3486b150",
   "metadata": {},
   "outputs": [
    {
     "name": "stdout",
     "output_type": "stream",
     "text": [
      "Observed: 0.161\n"
     ]
    }
   ],
   "source": [
    "print(\"Observed: {:.3f}\".format(y_train.mean()))"
   ]
  },
  {
   "cell_type": "code",
   "execution_count": 25,
   "id": "6fb48892",
   "metadata": {},
   "outputs": [
    {
     "name": "stdout",
     "output_type": "stream",
     "text": [
      " 2.5%:0.500,97.5%:0.500\n"
     ]
    }
   ],
   "source": [
    "print(f\" 2.5%:{cv_quantiles[0]:.3f},97.5%:{cv_quantiles[1]:.3f}\")"
   ]
  },
  {
   "cell_type": "code",
   "execution_count": 26,
   "id": "0e7ff6f0",
   "metadata": {},
   "outputs": [
    {
     "data": {
      "text/plain": [
       "<AxesSubplot:ylabel='Count'>"
      ]
     },
     "execution_count": 26,
     "metadata": {},
     "output_type": "execute_result"
    },
    {
     "data": {
      "image/png": "[encoded data removed]",
      "text/plain": [
       "<Figure size 432x288 with 1 Axes>"
      ]
     },
     "metadata": {
      "needs_background": "light"
     },
     "output_type": "display_data"
    }
   ],
   "source": [
    "import seaborn as sns\n",
    "sns.histplot(cv_scores, bins=10)"
   ]
  },
  {
   "cell_type": "code",
   "execution_count": 54,
   "id": "3611f072",
   "metadata": {},
   "outputs": [
    {
     "data": {
      "text/plain": [
       "(0, 0.5)"
      ]
     },
     "execution_count": 54,
     "metadata": {},
     "output_type": "execute_result"
    }
   ],
   "source": [
    "max_thresh(cv_scores)"
   ]
  },
  {
   "cell_type": "code",
   "execution_count": 49,
   "id": "af4fa2c9",
   "metadata": {},
   "outputs": [
    {
     "name": "stderr",
     "output_type": "stream",
     "text": [
      "C:\\Users\\Chipmunk\\anaconda3a\\lib\\site-packages\\sklearn\\metrics\\_classification.py:1245: UndefinedMetricWarning: Precision is ill-defined and being set to 0.0 due to no predicted samples. Use `zero_division` parameter to control this behavior.\n",
      "  _warn_prf(average, modifier, msg_start, len(result))\n",
      "C:\\Users\\Chipmunk\\anaconda3a\\lib\\site-packages\\sklearn\\metrics\\_classification.py:1245: UndefinedMetricWarning: Precision is ill-defined and being set to 0.0 due to no predicted samples. Use `zero_division` parameter to control this behavior.\n",
      "  _warn_prf(average, modifier, msg_start, len(result))\n",
      "C:\\Users\\Chipmunk\\anaconda3a\\lib\\site-packages\\sklearn\\metrics\\_classification.py:1245: UndefinedMetricWarning: Precision is ill-defined and being set to 0.0 due to no predicted samples. Use `zero_division` parameter to control this behavior.\n",
      "  _warn_prf(average, modifier, msg_start, len(result))\n",
      "C:\\Users\\Chipmunk\\anaconda3a\\lib\\site-packages\\sklearn\\metrics\\_classification.py:1245: UndefinedMetricWarning: Precision is ill-defined and being set to 0.0 due to no predicted samples. Use `zero_division` parameter to control this behavior.\n",
      "  _warn_prf(average, modifier, msg_start, len(result))\n",
      "C:\\Users\\Chipmunk\\anaconda3a\\lib\\site-packages\\sklearn\\metrics\\_classification.py:1245: UndefinedMetricWarning: Precision is ill-defined and being set to 0.0 due to no predicted samples. Use `zero_division` parameter to control this behavior.\n",
      "  _warn_prf(average, modifier, msg_start, len(result))\n",
      "C:\\Users\\Chipmunk\\anaconda3a\\lib\\site-packages\\sklearn\\metrics\\_classification.py:1245: UndefinedMetricWarning: Precision is ill-defined and being set to 0.0 due to no predicted samples. Use `zero_division` parameter to control this behavior.\n",
      "  _warn_prf(average, modifier, msg_start, len(result))\n",
      "C:\\Users\\Chipmunk\\anaconda3a\\lib\\site-packages\\sklearn\\metrics\\_classification.py:1245: UndefinedMetricWarning: Precision is ill-defined and being set to 0.0 due to no predicted samples. Use `zero_division` parameter to control this behavior.\n",
      "  _warn_prf(average, modifier, msg_start, len(result))\n",
      "C:\\Users\\Chipmunk\\anaconda3a\\lib\\site-packages\\sklearn\\metrics\\_classification.py:1245: UndefinedMetricWarning: Precision is ill-defined and being set to 0.0 due to no predicted samples. Use `zero_division` parameter to control this behavior.\n",
      "  _warn_prf(average, modifier, msg_start, len(result))\n",
      "C:\\Users\\Chipmunk\\anaconda3a\\lib\\site-packages\\sklearn\\metrics\\_classification.py:1245: UndefinedMetricWarning: Precision is ill-defined and being set to 0.0 due to no predicted samples. Use `zero_division` parameter to control this behavior.\n",
      "  _warn_prf(average, modifier, msg_start, len(result))\n",
      "C:\\Users\\Chipmunk\\anaconda3a\\lib\\site-packages\\sklearn\\metrics\\_classification.py:1245: UndefinedMetricWarning: Precision is ill-defined and being set to 0.0 due to no predicted samples. Use `zero_division` parameter to control this behavior.\n",
      "  _warn_prf(average, modifier, msg_start, len(result))\n",
      "C:\\Users\\Chipmunk\\anaconda3a\\lib\\site-packages\\sklearn\\metrics\\_classification.py:1245: UndefinedMetricWarning: Precision is ill-defined and being set to 0.0 due to no predicted samples. Use `zero_division` parameter to control this behavior.\n",
      "  _warn_prf(average, modifier, msg_start, len(result))\n",
      "C:\\Users\\Chipmunk\\anaconda3a\\lib\\site-packages\\sklearn\\metrics\\_classification.py:1245: UndefinedMetricWarning: Precision is ill-defined and being set to 0.0 due to no predicted samples. Use `zero_division` parameter to control this behavior.\n",
      "  _warn_prf(average, modifier, msg_start, len(result))\n",
      "C:\\Users\\Chipmunk\\anaconda3a\\lib\\site-packages\\sklearn\\metrics\\_classification.py:1245: UndefinedMetricWarning: Precision is ill-defined and being set to 0.0 due to no predicted samples. Use `zero_division` parameter to control this behavior.\n",
      "  _warn_prf(average, modifier, msg_start, len(result))\n",
      "C:\\Users\\Chipmunk\\anaconda3a\\lib\\site-packages\\sklearn\\metrics\\_classification.py:1245: UndefinedMetricWarning: Precision is ill-defined and being set to 0.0 due to no predicted samples. Use `zero_division` parameter to control this behavior.\n",
      "  _warn_prf(average, modifier, msg_start, len(result))\n",
      "C:\\Users\\Chipmunk\\anaconda3a\\lib\\site-packages\\sklearn\\metrics\\_classification.py:1245: UndefinedMetricWarning: Precision is ill-defined and being set to 0.0 due to no predicted samples. Use `zero_division` parameter to control this behavior.\n",
      "  _warn_prf(average, modifier, msg_start, len(result))\n",
      "C:\\Users\\Chipmunk\\anaconda3a\\lib\\site-packages\\sklearn\\metrics\\_classification.py:1245: UndefinedMetricWarning: Precision is ill-defined and being set to 0.0 due to no predicted samples. Use `zero_division` parameter to control this behavior.\n",
      "  _warn_prf(average, modifier, msg_start, len(result))\n",
      "C:\\Users\\Chipmunk\\anaconda3a\\lib\\site-packages\\sklearn\\metrics\\_classification.py:1245: UndefinedMetricWarning: Precision is ill-defined and being set to 0.0 due to no predicted samples. Use `zero_division` parameter to control this behavior.\n",
      "  _warn_prf(average, modifier, msg_start, len(result))\n",
      "C:\\Users\\Chipmunk\\anaconda3a\\lib\\site-packages\\sklearn\\metrics\\_classification.py:1245: UndefinedMetricWarning: Precision is ill-defined and being set to 0.0 due to no predicted samples. Use `zero_division` parameter to control this behavior.\n",
      "  _warn_prf(average, modifier, msg_start, len(result))\n",
      "C:\\Users\\Chipmunk\\anaconda3a\\lib\\site-packages\\sklearn\\metrics\\_classification.py:1245: UndefinedMetricWarning: Precision is ill-defined and being set to 0.0 due to no predicted samples. Use `zero_division` parameter to control this behavior.\n",
      "  _warn_prf(average, modifier, msg_start, len(result))\n",
      "C:\\Users\\Chipmunk\\anaconda3a\\lib\\site-packages\\sklearn\\metrics\\_classification.py:1245: UndefinedMetricWarning: Precision is ill-defined and being set to 0.0 due to no predicted samples. Use `zero_division` parameter to control this behavior.\n",
      "  _warn_prf(average, modifier, msg_start, len(result))\n",
      "C:\\Users\\Chipmunk\\anaconda3a\\lib\\site-packages\\sklearn\\metrics\\_classification.py:1245: UndefinedMetricWarning: Precision is ill-defined and being set to 0.0 due to no predicted samples. Use `zero_division` parameter to control this behavior.\n",
      "  _warn_prf(average, modifier, msg_start, len(result))\n",
      "C:\\Users\\Chipmunk\\anaconda3a\\lib\\site-packages\\sklearn\\metrics\\_classification.py:1245: UndefinedMetricWarning: Precision is ill-defined and being set to 0.0 due to no predicted samples. Use `zero_division` parameter to control this behavior.\n",
      "  _warn_prf(average, modifier, msg_start, len(result))\n",
      "C:\\Users\\Chipmunk\\anaconda3a\\lib\\site-packages\\sklearn\\metrics\\_classification.py:1245: UndefinedMetricWarning: Precision is ill-defined and being set to 0.0 due to no predicted samples. Use `zero_division` parameter to control this behavior.\n",
      "  _warn_prf(average, modifier, msg_start, len(result))\n",
      "C:\\Users\\Chipmunk\\anaconda3a\\lib\\site-packages\\sklearn\\metrics\\_classification.py:1245: UndefinedMetricWarning: Precision is ill-defined and being set to 0.0 due to no predicted samples. Use `zero_division` parameter to control this behavior.\n",
      "  _warn_prf(average, modifier, msg_start, len(result))\n",
      "C:\\Users\\Chipmunk\\anaconda3a\\lib\\site-packages\\sklearn\\metrics\\_classification.py:1245: UndefinedMetricWarning: Precision is ill-defined and being set to 0.0 due to no predicted samples. Use `zero_division` parameter to control this behavior.\n",
      "  _warn_prf(average, modifier, msg_start, len(result))\n",
      "C:\\Users\\Chipmunk\\anaconda3a\\lib\\site-packages\\sklearn\\metrics\\_classification.py:1245: UndefinedMetricWarning: Precision is ill-defined and being set to 0.0 due to no predicted samples. Use `zero_division` parameter to control this behavior.\n",
      "  _warn_prf(average, modifier, msg_start, len(result))\n",
      "C:\\Users\\Chipmunk\\anaconda3a\\lib\\site-packages\\sklearn\\metrics\\_classification.py:1245: UndefinedMetricWarning: Precision is ill-defined and being set to 0.0 due to no predicted samples. Use `zero_division` parameter to control this behavior.\n",
      "  _warn_prf(average, modifier, msg_start, len(result))\n",
      "C:\\Users\\Chipmunk\\anaconda3a\\lib\\site-packages\\sklearn\\metrics\\_classification.py:1245: UndefinedMetricWarning: Precision is ill-defined and being set to 0.0 due to no predicted samples. Use `zero_division` parameter to control this behavior.\n",
      "  _warn_prf(average, modifier, msg_start, len(result))\n",
      "C:\\Users\\Chipmunk\\anaconda3a\\lib\\site-packages\\sklearn\\metrics\\_classification.py:1245: UndefinedMetricWarning: Precision is ill-defined and being set to 0.0 due to no predicted samples. Use `zero_division` parameter to control this behavior.\n",
      "  _warn_prf(average, modifier, msg_start, len(result))\n",
      "C:\\Users\\Chipmunk\\anaconda3a\\lib\\site-packages\\sklearn\\metrics\\_classification.py:1245: UndefinedMetricWarning: Precision is ill-defined and being set to 0.0 due to no predicted samples. Use `zero_division` parameter to control this behavior.\n",
      "  _warn_prf(average, modifier, msg_start, len(result))\n",
      "C:\\Users\\Chipmunk\\anaconda3a\\lib\\site-packages\\sklearn\\metrics\\_classification.py:1245: UndefinedMetricWarning: Precision is ill-defined and being set to 0.0 due to no predicted samples. Use `zero_division` parameter to control this behavior.\n",
      "  _warn_prf(average, modifier, msg_start, len(result))\n",
      "C:\\Users\\Chipmunk\\anaconda3a\\lib\\site-packages\\sklearn\\metrics\\_classification.py:1245: UndefinedMetricWarning: Precision is ill-defined and being set to 0.0 due to no predicted samples. Use `zero_division` parameter to control this behavior.\n",
      "  _warn_prf(average, modifier, msg_start, len(result))\n",
      "C:\\Users\\Chipmunk\\anaconda3a\\lib\\site-packages\\sklearn\\metrics\\_classification.py:1245: UndefinedMetricWarning: Precision is ill-defined and being set to 0.0 due to no predicted samples. Use `zero_division` parameter to control this behavior.\n",
      "  _warn_prf(average, modifier, msg_start, len(result))\n",
      "C:\\Users\\Chipmunk\\anaconda3a\\lib\\site-packages\\sklearn\\metrics\\_classification.py:1245: UndefinedMetricWarning: Precision is ill-defined and being set to 0.0 due to no predicted samples. Use `zero_division` parameter to control this behavior.\n",
      "  _warn_prf(average, modifier, msg_start, len(result))\n",
      "C:\\Users\\Chipmunk\\anaconda3a\\lib\\site-packages\\sklearn\\metrics\\_classification.py:1245: UndefinedMetricWarning: Precision is ill-defined and being set to 0.0 due to no predicted samples. Use `zero_division` parameter to control this behavior.\n",
      "  _warn_prf(average, modifier, msg_start, len(result))\n",
      "C:\\Users\\Chipmunk\\anaconda3a\\lib\\site-packages\\sklearn\\metrics\\_classification.py:1245: UndefinedMetricWarning: Precision is ill-defined and being set to 0.0 due to no predicted samples. Use `zero_division` parameter to control this behavior.\n",
      "  _warn_prf(average, modifier, msg_start, len(result))\n",
      "C:\\Users\\Chipmunk\\anaconda3a\\lib\\site-packages\\sklearn\\metrics\\_classification.py:1245: UndefinedMetricWarning: Precision is ill-defined and being set to 0.0 due to no predicted samples. Use `zero_division` parameter to control this behavior.\n",
      "  _warn_prf(average, modifier, msg_start, len(result))\n",
      "C:\\Users\\Chipmunk\\anaconda3a\\lib\\site-packages\\sklearn\\metrics\\_classification.py:1245: UndefinedMetricWarning: Precision is ill-defined and being set to 0.0 due to no predicted samples. Use `zero_division` parameter to control this behavior.\n",
      "  _warn_prf(average, modifier, msg_start, len(result))\n",
      "C:\\Users\\Chipmunk\\anaconda3a\\lib\\site-packages\\sklearn\\metrics\\_classification.py:1245: UndefinedMetricWarning: Precision is ill-defined and being set to 0.0 due to no predicted samples. Use `zero_division` parameter to control this behavior.\n",
      "  _warn_prf(average, modifier, msg_start, len(result))\n",
      "C:\\Users\\Chipmunk\\anaconda3a\\lib\\site-packages\\sklearn\\metrics\\_classification.py:1245: UndefinedMetricWarning: Precision is ill-defined and being set to 0.0 due to no predicted samples. Use `zero_division` parameter to control this behavior.\n",
      "  _warn_prf(average, modifier, msg_start, len(result))\n",
      "C:\\Users\\Chipmunk\\anaconda3a\\lib\\site-packages\\sklearn\\metrics\\_classification.py:1245: UndefinedMetricWarning: Precision is ill-defined and being set to 0.0 due to no predicted samples. Use `zero_division` parameter to control this behavior.\n",
      "  _warn_prf(average, modifier, msg_start, len(result))\n",
      "C:\\Users\\Chipmunk\\anaconda3a\\lib\\site-packages\\sklearn\\metrics\\_classification.py:1245: UndefinedMetricWarning: Precision is ill-defined and being set to 0.0 due to no predicted samples. Use `zero_division` parameter to control this behavior.\n",
      "  _warn_prf(average, modifier, msg_start, len(result))\n"
     ]
    },
    {
     "data": {
      "text/plain": [
       "([0.16057913787430075,\n",
       "  0.16057913787430075,\n",
       "  0.16057913787430075,\n",
       "  0.16057913787430075,\n",
       "  0.16057913787430075,\n",
       "  0.16057913787430075,\n",
       "  0.16057913787430075,\n",
       "  0.16057913787430075,\n",
       "  0.0,\n",
       "  0.0,\n",
       "  0.0,\n",
       "  0.0,\n",
       "  0.0,\n",
       "  0.0,\n",
       "  0.0,\n",
       "  0.0,\n",
       "  0.0,\n",
       "  0.0,\n",
       "  0.0,\n",
       "  0.0,\n",
       "  0.0,\n",
       "  0.0,\n",
       "  0.0,\n",
       "  0.0,\n",
       "  0.0,\n",
       "  0.0,\n",
       "  0.0,\n",
       "  0.0,\n",
       "  0.0,\n",
       "  0.0,\n",
       "  0.0,\n",
       "  0.0,\n",
       "  0.0,\n",
       "  0.0,\n",
       "  0.0,\n",
       "  0.0,\n",
       "  0.0,\n",
       "  0.0,\n",
       "  0.0,\n",
       "  0.0,\n",
       "  0.0,\n",
       "  0.0,\n",
       "  0.0,\n",
       "  0.0,\n",
       "  0.0,\n",
       "  0.0,\n",
       "  0.0,\n",
       "  0.0,\n",
       "  0.0,\n",
       "  0.0],\n",
       " [1.0,\n",
       "  1.0,\n",
       "  1.0,\n",
       "  1.0,\n",
       "  1.0,\n",
       "  1.0,\n",
       "  1.0,\n",
       "  1.0,\n",
       "  0.0,\n",
       "  0.0,\n",
       "  0.0,\n",
       "  0.0,\n",
       "  0.0,\n",
       "  0.0,\n",
       "  0.0,\n",
       "  0.0,\n",
       "  0.0,\n",
       "  0.0,\n",
       "  0.0,\n",
       "  0.0,\n",
       "  0.0,\n",
       "  0.0,\n",
       "  0.0,\n",
       "  0.0,\n",
       "  0.0,\n",
       "  0.0,\n",
       "  0.0,\n",
       "  0.0,\n",
       "  0.0,\n",
       "  0.0,\n",
       "  0.0,\n",
       "  0.0,\n",
       "  0.0,\n",
       "  0.0,\n",
       "  0.0,\n",
       "  0.0,\n",
       "  0.0,\n",
       "  0.0,\n",
       "  0.0,\n",
       "  0.0,\n",
       "  0.0,\n",
       "  0.0,\n",
       "  0.0,\n",
       "  0.0,\n",
       "  0.0,\n",
       "  0.0,\n",
       "  0.0,\n",
       "  0.0,\n",
       "  0.0,\n",
       "  0.0],\n",
       " [0.27672242699177774,\n",
       "  0.27672242699177774,\n",
       "  0.27672242699177774,\n",
       "  0.27672242699177774,\n",
       "  0.27672242699177774,\n",
       "  0.27672242699177774,\n",
       "  0.27672242699177774,\n",
       "  0.27672242699177774,\n",
       "  0.0,\n",
       "  0.0,\n",
       "  0.0,\n",
       "  0.0,\n",
       "  0.0,\n",
       "  0.0,\n",
       "  0.0,\n",
       "  0.0,\n",
       "  0.0,\n",
       "  0.0,\n",
       "  0.0,\n",
       "  0.0,\n",
       "  0.0,\n",
       "  0.0,\n",
       "  0.0,\n",
       "  0.0,\n",
       "  0.0,\n",
       "  0.0,\n",
       "  0.0,\n",
       "  0.0,\n",
       "  0.0,\n",
       "  0.0,\n",
       "  0.0,\n",
       "  0.0,\n",
       "  0.0,\n",
       "  0.0,\n",
       "  0.0,\n",
       "  0.0,\n",
       "  0.0,\n",
       "  0.0,\n",
       "  0.0,\n",
       "  0.0,\n",
       "  0.0,\n",
       "  0.0,\n",
       "  0.0,\n",
       "  0.0,\n",
       "  0.0,\n",
       "  0.0,\n",
       "  0.0,\n",
       "  0.0,\n",
       "  0.0,\n",
       "  0.0])"
      ]
     },
     "execution_count": 49,
     "metadata": {},
     "output_type": "execute_result"
    },
    {
     "data": {
      "image/png": "[encoded data removed]",
      "text/plain": [
       "<Figure size 432x288 with 1 Axes>"
      ]
     },
     "metadata": {
      "needs_background": "light"
     },
     "output_type": "display_data"
    }
   ],
   "source": [
    "threshhold_and_plot(y_test,test_pred[:,1])"
   ]
  },
  {
   "cell_type": "code",
   "execution_count": 55,
   "id": "192afb2c",
   "metadata": {},
   "outputs": [
    {
     "name": "stdout",
     "output_type": "stream",
     "text": [
      "Observed: 0.161 Fit: 0.161\n"
     ]
    }
   ],
   "source": [
    "# check to see if close to population value\n",
    "print(f\"Observed: {y_train.mean():.3f} Fit: {train_pred[:,1].mean():.3f}\")"
   ]
  },
  {
   "cell_type": "code",
   "execution_count": null,
   "id": "83b3639f",
   "metadata": {},
   "outputs": [],
   "source": []
  },
  {
   "cell_type": "markdown",
   "id": "ffad988b",
   "metadata": {},
   "source": [
    "## Additional Models: <a id=AdditionalModels></a>"
   ]
  },
  {
   "cell_type": "markdown",
   "id": "677616a1",
   "metadata": {},
   "source": [
    "## Summary <a id =Summary> </a>"
   ]
  },
  {
   "cell_type": "markdown",
   "id": "b8e4b569",
   "metadata": {},
   "source": [
    "## Recommendations <a id = Recom></a>"
   ]
  },
  {
   "cell_type": "code",
   "execution_count": null,
   "id": "af73bfa6",
   "metadata": {},
   "outputs": [],
   "source": []
  }
 ],
 "metadata": {
  "kernelspec": {
   "display_name": "Python 3",
   "language": "python",
   "name": "python3"
  },
  "language_info": {
   "codemirror_mode": {
    "name": "ipython",
    "version": 3
   },
   "file_extension": ".py",
   "mimetype": "text/x-python",
   "name": "python",
   "nbconvert_exporter": "python",
   "pygments_lexer": "ipython3",
   "version": "3.8.8"
  }
 },
 "nbformat": 4,
 "nbformat_minor": 5
}
