{
 "cells": [
  {
   "cell_type": "markdown",
   "id": "a6ba0b6c",
   "metadata": {},
   "source": [
    "# 4 Training and Modeling Data<a id='4_Training_and_Modeling_Data'></a>"
   ]
  },
  {
   "cell_type": "markdown",
   "id": "1f2e933d",
   "metadata": {},
   "source": [
    "## Contents <a id =\"Content\" > </a>"
   ]
  },
  {
   "cell_type": "markdown",
   "id": "48243509",
   "metadata": {},
   "source": [
    "* [Introduction](#Introduction)\n",
    "* [Imports](#Imports)\n",
    "* [Train Test Split](#Train_Test_Split) \n",
    "* [Training and Modeling](#Training_and_Modeling)\n",
    "    * [Model Selection](#Model_Selection)\n",
    "    * [Evaluation Metrics](#Evaluation-Metrics)\n",
    "        * [Training and Modeling](#Train_and_Model)\n",
    "        * [Hyperparameter Tuning and Model Training](#Hyperparameter_Tuning_Training)\n",
    "            * [Logistic Regression](#Logistic_Regression)\n",
    "            * [Evaluation](#Evaluation)\n",
    "* [Additional Models](#AdditionalModels)\n",
    "* [Summary](#Summary)\n",
    "* [Recommendations](#Recom)"
   ]
  },
  {
   "cell_type": "markdown",
   "id": "86344c79",
   "metadata": {},
   "source": [
    "## Imports <a id=\"Imports\"></a>"
   ]
  },
  {
   "cell_type": "code",
   "execution_count": 1,
   "id": "e39c9cde",
   "metadata": {
    "scrolled": true
   },
   "outputs": [],
   "source": [
    "import pandas as pd\n",
    "import numpy as np\n",
    "\n",
    "from sklearn import metrics\n",
    "from sklearn import pipeline\n",
    "from sklearn import model_selection\n",
    "from sklearn import linear_model\n",
    "from sklearn import ensemble\n",
    "from sklearn import neighbors\n",
    "from xgboost import XGBClassifier\n",
    "\n",
    "#from sklearn.linear_model import LogisticRegression\n",
    "from sklearn.pipeline import Pipeline\n",
    "\n",
    "#from sklearn.model_selection import StratifiedShuffleSplit,GridSearchCV\n",
    "import matplotlib.pyplot as plt\n",
    "\n",
    "# remove warning\n",
    "#import warnings\n",
    "#warnings.filterwarnings(\"ignore\")\n"
   ]
  },
  {
   "cell_type": "code",
   "execution_count": 2,
   "id": "d218fd4a",
   "metadata": {},
   "outputs": [],
   "source": [
    "#evaluation = pd.DataFrame(index=[],columns =[])\n",
    "#metrics_comparison = pd.DataFrame(index=[],columns =[])"
   ]
  },
  {
   "cell_type": "code",
   "execution_count": 3,
   "id": "37354456",
   "metadata": {},
   "outputs": [],
   "source": [
    "def threshhold_and_plot(y_test, target, n_points=50, plot=True):\n",
    "    \"\"\"\n",
    "    :param y_test: binary vector of actual targets\n",
    "    :param target: vector of probabilities\n",
    "    :param n_points: number of points to evaluate for a threshold\n",
    "    :param plot: Boolean; whether or not to plot the results\n",
    "    :return: vector of values of precision, recall, F1 for given points\n",
    "    \"\"\"\n",
    "    # plot the value of the metric against the threshold\n",
    "    #plt.figure(figsize=(12,12))\n",
    "    probs = np.linspace(0, 1, n_points)\n",
    "    def make_thresh():  # try n_points = 50 or 100...\n",
    "        # calculate each metric here\n",
    "        precision = [metrics.precision_score(y_test, np.where(target > thresh, 1, 0),zero_division=1)\n",
    "                     for thresh in probs]\n",
    "        recall = [metrics.recall_score(y_test, np.where(target > thresh, 1, 0),zero_division=1)\n",
    "                  for thresh in probs]\n",
    "        f1 = [metrics.f1_score(y_test, np.where(target > thresh, 1, 0),zero_division=1)\n",
    "              for thresh in probs]\n",
    "        roc_auc = [metrics.roc_auc_score(y_test,np.where(target > thresh,1,0))\n",
    "                   for thresh in probs]\n",
    "       \n",
    "        return precision, recall, f1, roc_auc\n",
    "\n",
    "    precision, recall, f1, roc_auc = make_thresh()\n",
    "\n",
    "    \n",
    "    if plot:\n",
    "        plt.plot(probs, precision, label='precision')\n",
    "        plt.plot(probs, recall, label='recall')\n",
    "        plt.plot(probs, f1, label='f1')\n",
    "        plt.plot(probs, roc_auc, label=\"roc auc\")\n",
    "        # plt.plot(probs, pr_auc, label=\"pr auc\")\n",
    "        plt.title(\"Metrics at various thresholds\");\n",
    "        plt.xlabel(\"Probability\");\n",
    "        plt.legend();\n",
    "        return precision, recall, f1, roc_auc\n",
    "    else:\n",
    "        return precision, recall, f1, roc_auc\n",
    "\n",
    "def max_thresh(score_vec):\n",
    "  # can either unpack a tuple or feed in iterable by itself\n",
    "    max_idx = np.argmax(score_vec)\n",
    "    max_score = score_vec[max_idx]\n",
    "    return max_idx, max_score"
   ]
  },
  {
   "cell_type": "code",
   "execution_count": 4,
   "id": "bb720a0b",
   "metadata": {},
   "outputs": [],
   "source": [
    "def make_matrics_score_1(y_actual,y_predict,title,score=False,y_class_report=False,isTest=False):\n",
    "    \n",
    "    prefix = 'Train_'\n",
    "    mtitle = title + \" on train set\"\n",
    "    if isTest :\n",
    "        prefix = 'Test_'\n",
    "        mtitle = title + \" on test set\"\n",
    "    \n",
    "        \n",
    "    fig, ax = plt.subplots(1, 1)\n",
    "    Con_Mtx = metrics.confusion_matrix(y_actual, y_predict, labels=[0,1], normalize='all')\n",
    "    disp = metrics.ConfusionMatrixDisplay(confusion_matrix=Con_Mtx,display_labels=[\"Staying\",\"Attrited\"])\n",
    "    disp.plot(cmap='Blues',ax=ax)\n",
    "    ax.set_title(mtitle)\n",
    "    plt.tick_params(axis=u'both', which=u'both',length=0)\n",
    "    plt.grid(b=None,axis='both',which='both',visible=False)\n",
    "    plt.show()\n",
    "    \n",
    "    accuracy = metrics.accuracy_score(y_actual, y_predict)\n",
    "    recall = metrics.recall_score(y_actual, y_predict,zero_division=1)\n",
    "    precision = metrics.precision_score(y_actual, y_predict,zero_division=1)\n",
    "    f1 = metrics.f1_score(y_actual, y_predict,zero_division=1)\n",
    "    auc_score = metrics.accuracy_score(y_actual,y_predict)\n",
    "    #pr_auc = metrics.auc(x=recall, y=precision)\n",
    "\n",
    "    r = evaluation.shape[0]\n",
    "    #evaluation.loc[r] = [title, recall, precision,accuracy, f1,auc_score] \n",
    "        \n",
    "    evaluation.loc[title,prefix+'Recall'] = precision\n",
    "    evaluation.loc[title,prefix+'Precision'] = recall\n",
    "    evaluation.loc[title,prefix+'F1'] = f1\n",
    "    evaluation.loc[title,prefix+'Accuracy'] = accuracy\n",
    "    evaluation.loc[title,prefix+'ROC_AUC'] = auc_score\n",
    "    #evaluation.loc[title,prefix+'PR_AUC'] = pr_auc\n",
    "\n",
    "    \n",
    "    #Scores\n",
    "    if score:\n",
    "        #auc_score = metrics.accuracy_score(y_actual,y_predict)\n",
    "        #print(f\"accuracy_score : {auc_score}\\n\")\n",
    "        tn, fp, fn, tp= metrics.confusion_matrix(y_actual,y_predict, labels=[0,1]).ravel()\n",
    "        print(f\"True -ve : {tn}\\nFalse +ve : {fp}\\nFalse -ve : {fn}\\nTrue +ve : {tp}\\n\")\n",
    "    \n",
    "    #classification_report\n",
    "    if y_class_report:\n",
    "        y_class_report = metrics.classification_report(y_actual, y_predict,zero_division=1, target_names=[\"not 1\", \"1\"])\n",
    "        print(\"classification report\\n\", y_class_report )\n",
    "    return "
   ]
  },
  {
   "cell_type": "code",
   "execution_count": 5,
   "id": "81877589",
   "metadata": {},
   "outputs": [],
   "source": [
    "def estimate_with_threshold_1(title,estimator,actuals,target,isTest=False,thresh=1):\n",
    "    \n",
    "    #y_pred = estimator.predict(actuals)\n",
    "    \n",
    "    y_proba = estimator.predict_proba(actuals)\n",
    "    #y_proba = y_proba[:,1]\n",
    "    #get matrics of threshold and plot\n",
    "    precision,recall,f1,roc_auc = threshhold_and_plot(target,y_proba[:,1],plot=True)\n",
    "    \n",
    "    if isTest:\n",
    "        y_proba = np.where(y_proba[:,1] > thresh,1,0)\n",
    "    else :\n",
    "        #max of roc_auc\n",
    "        thresh_idx,thresh = max_thresh(roc_auc)\n",
    "    \n",
    "    #make confusin matrix\n",
    "    #make_matrics_score(target, y_proba.astype(int),title,score=True,y_class_report=False, isTest=isTest)\n",
    "    make_matrics_score(target, y_proba[:,1],title,score=True,y_class_report=False, isTest=isTest)\n",
    "   \n",
    "    if isTest:\n",
    "        #plot roc_auc\n",
    "        print('ROC_AUC Curve')\n",
    "        plot_roc(target, y_proba[:,1])\n",
    "        #plot PR_AUC\n",
    "        print('PR_AUC Curve')\n",
    "        plot_precision_recall_curve(target, y_proba[:,1])\n",
    "\n",
    "    return thresh"
   ]
  },
  {
   "cell_type": "code",
   "execution_count": 6,
   "id": "6950fa1a",
   "metadata": {},
   "outputs": [],
   "source": [
    "#plot roc\n",
    "def plot_roc(actuals,preds):\n",
    "    fpr, tpr, thresholds = metrics.roc_curve(actuals, preds)\n",
    "    roc_auc = metrics.auc(fpr, tpr)\n",
    "    display = metrics.RocCurveDisplay(fpr=fpr, tpr=tpr, roc_auc=roc_auc)\n",
    "    display.plot()\n",
    "    plt.show()\n",
    "    return fpr, tpr, thresholds"
   ]
  },
  {
   "cell_type": "code",
   "execution_count": 7,
   "id": "d986a8f1",
   "metadata": {},
   "outputs": [],
   "source": [
    "#plot precision recall curve\n",
    "def plot_precision_recall_curve(actual,preds):\n",
    "    precision,recall,Threshold = metrics.precision_recall_curve(y_true = actual,probas_pred=preds) \n",
    "    fig,ax=plt.subplots(figsize=(5,5))\n",
    "    ax.plot(Threshold,precision[1:],label = 'Precision')\n",
    "    ax.plot(Threshold,recall[1:],label = 'Recall')\n",
    "    ax.set_xlabel('threshold')\n",
    "    ax.set_ylabel('precision,recall')\n",
    "    ax.set_title('RF: precision-recall')\n",
    "    ax.hlines(y=0.5,xmin=0,xmax=1,color='red')\n",
    "    ax.legend()\n",
    "    ax.grid()"
   ]
  },
  {
   "cell_type": "code",
   "execution_count": 8,
   "id": "9faa2279",
   "metadata": {},
   "outputs": [],
   "source": [
    "def plot_Confusionmatrix(actuals,target):\n",
    "    plt.figure(figsize=(5,4))\n",
    "    ConfMatrix = metrics.confusion_matrix(actuals,target, labels=[0,1], normalize='all')\n",
    "    \n",
    "    sns.heatmap(ConfMatrix,annot=True, cmap=\"Blues\", \n",
    "                xticklabels = [\"Staying\",\"Attrited\"], \n",
    "                yticklabels = [\"Staying\",\"Attrited\"])\n",
    "    plt.ylabel('True label')\n",
    "    plt.xlabel('Predicted label')\n",
    "    plt.title(\"Confusion Matrix\");\n",
    "    return"
   ]
  },
  {
   "cell_type": "markdown",
   "id": "e90ec49a",
   "metadata": {},
   "source": [
    "#### Data Reading"
   ]
  },
  {
   "cell_type": "code",
   "execution_count": 9,
   "id": "5d71f14f",
   "metadata": {
    "scrolled": true
   },
   "outputs": [],
   "source": [
    "#Read the data\n",
    "X_train = pd.read_csv(\"../data/4.X_train.csv\")\n",
    "y_train = pd.read_csv(\"../data/4.y_train.csv\")\n",
    "X_test = pd.read_csv(\"../data/4.X_test.csv\")\n",
    "y_test = pd.read_csv(\"../data/4.y_test.csv\")"
   ]
  },
  {
   "cell_type": "code",
   "execution_count": 10,
   "id": "e2d11a31",
   "metadata": {
    "scrolled": false
   },
   "outputs": [
    {
     "data": {
      "text/plain": [
       "((7088, 16), (7088, 1))"
      ]
     },
     "execution_count": 10,
     "metadata": {},
     "output_type": "execute_result"
    }
   ],
   "source": [
    "X_train.shape,y_train.shape"
   ]
  },
  {
   "cell_type": "code",
   "execution_count": 11,
   "id": "c0b9d32e",
   "metadata": {
    "scrolled": false
   },
   "outputs": [
    {
     "data": {
      "text/plain": [
       "((3039, 16), (3039, 1))"
      ]
     },
     "execution_count": 11,
     "metadata": {},
     "output_type": "execute_result"
    }
   ],
   "source": [
    "X_test.shape,y_test.shape"
   ]
  },
  {
   "cell_type": "code",
   "execution_count": 12,
   "id": "f8f92359",
   "metadata": {
    "scrolled": false
   },
   "outputs": [
    {
     "data": {
      "text/html": [
       "<div>\n",
       "<style scoped>\n",
       "    .dataframe tbody tr th:only-of-type {\n",
       "        vertical-align: middle;\n",
       "    }\n",
       "\n",
       "    .dataframe tbody tr th {\n",
       "        vertical-align: top;\n",
       "    }\n",
       "\n",
       "    .dataframe thead th {\n",
       "        text-align: right;\n",
       "    }\n",
       "</style>\n",
       "<table border=\"1\" class=\"dataframe\">\n",
       "  <thead>\n",
       "    <tr style=\"text-align: right;\">\n",
       "      <th></th>\n",
       "      <th>count</th>\n",
       "      <th>mean</th>\n",
       "      <th>std</th>\n",
       "      <th>min</th>\n",
       "      <th>25%</th>\n",
       "      <th>50%</th>\n",
       "      <th>75%</th>\n",
       "      <th>max</th>\n",
       "    </tr>\n",
       "  </thead>\n",
       "  <tbody>\n",
       "    <tr>\n",
       "      <th>Customer_Age</th>\n",
       "      <td>7088.0</td>\n",
       "      <td>-3.454018e-16</td>\n",
       "      <td>1.000071</td>\n",
       "      <td>-2.531322</td>\n",
       "      <td>-0.661337</td>\n",
       "      <td>-0.038008</td>\n",
       "      <td>0.709986</td>\n",
       "      <td>3.327966</td>\n",
       "    </tr>\n",
       "    <tr>\n",
       "      <th>Credit_Limit</th>\n",
       "      <td>7088.0</td>\n",
       "      <td>8.597793e+00</td>\n",
       "      <td>0.930669</td>\n",
       "      <td>7.271217</td>\n",
       "      <td>7.841395</td>\n",
       "      <td>8.418587</td>\n",
       "      <td>9.298671</td>\n",
       "      <td>10.449178</td>\n",
       "    </tr>\n",
       "    <tr>\n",
       "      <th>Total_Revolving_Bal</th>\n",
       "      <td>7088.0</td>\n",
       "      <td>9.103482e-01</td>\n",
       "      <td>0.638103</td>\n",
       "      <td>0.000000</td>\n",
       "      <td>0.248822</td>\n",
       "      <td>1.000000</td>\n",
       "      <td>1.396112</td>\n",
       "      <td>1.977219</td>\n",
       "    </tr>\n",
       "    <tr>\n",
       "      <th>Total_Trans_Amt</th>\n",
       "      <td>7088.0</td>\n",
       "      <td>8.167921e+00</td>\n",
       "      <td>0.656979</td>\n",
       "      <td>6.390241</td>\n",
       "      <td>7.674617</td>\n",
       "      <td>8.267449</td>\n",
       "      <td>8.468633</td>\n",
       "      <td>9.824661</td>\n",
       "    </tr>\n",
       "    <tr>\n",
       "      <th>Avg_Utilization_Ratio</th>\n",
       "      <td>7088.0</td>\n",
       "      <td>2.753070e-01</td>\n",
       "      <td>0.276635</td>\n",
       "      <td>0.000000</td>\n",
       "      <td>0.023000</td>\n",
       "      <td>0.175000</td>\n",
       "      <td>0.502000</td>\n",
       "      <td>0.999000</td>\n",
       "    </tr>\n",
       "    <tr>\n",
       "      <th>Gender_Encoded</th>\n",
       "      <td>7088.0</td>\n",
       "      <td>5.328725e-01</td>\n",
       "      <td>0.498953</td>\n",
       "      <td>0.000000</td>\n",
       "      <td>0.000000</td>\n",
       "      <td>1.000000</td>\n",
       "      <td>1.000000</td>\n",
       "      <td>1.000000</td>\n",
       "    </tr>\n",
       "    <tr>\n",
       "      <th>Dependent_count</th>\n",
       "      <td>7088.0</td>\n",
       "      <td>2.344949e+00</td>\n",
       "      <td>1.299597</td>\n",
       "      <td>0.000000</td>\n",
       "      <td>1.000000</td>\n",
       "      <td>2.000000</td>\n",
       "      <td>3.000000</td>\n",
       "      <td>5.000000</td>\n",
       "    </tr>\n",
       "    <tr>\n",
       "      <th>Education_Level_sorted</th>\n",
       "      <td>7088.0</td>\n",
       "      <td>2.839306e+00</td>\n",
       "      <td>1.215114</td>\n",
       "      <td>1.000000</td>\n",
       "      <td>2.000000</td>\n",
       "      <td>3.000000</td>\n",
       "      <td>3.000000</td>\n",
       "      <td>6.000000</td>\n",
       "    </tr>\n",
       "    <tr>\n",
       "      <th>Income_Category_sorted</th>\n",
       "      <td>7088.0</td>\n",
       "      <td>2.175226e+00</td>\n",
       "      <td>1.334986</td>\n",
       "      <td>1.000000</td>\n",
       "      <td>1.000000</td>\n",
       "      <td>2.000000</td>\n",
       "      <td>3.000000</td>\n",
       "      <td>5.000000</td>\n",
       "    </tr>\n",
       "    <tr>\n",
       "      <th>Card_Category_sorted</th>\n",
       "      <td>7088.0</td>\n",
       "      <td>1.081546e+00</td>\n",
       "      <td>0.330233</td>\n",
       "      <td>1.000000</td>\n",
       "      <td>1.000000</td>\n",
       "      <td>1.000000</td>\n",
       "      <td>1.000000</td>\n",
       "      <td>4.000000</td>\n",
       "    </tr>\n",
       "    <tr>\n",
       "      <th>Months_on_book</th>\n",
       "      <td>7088.0</td>\n",
       "      <td>-3.454018e-16</td>\n",
       "      <td>1.000071</td>\n",
       "      <td>-2.531322</td>\n",
       "      <td>-0.661337</td>\n",
       "      <td>-0.038008</td>\n",
       "      <td>0.709986</td>\n",
       "      <td>3.327966</td>\n",
       "    </tr>\n",
       "    <tr>\n",
       "      <th>Total_Relationship_Count</th>\n",
       "      <td>7088.0</td>\n",
       "      <td>3.801213e+00</td>\n",
       "      <td>1.559728</td>\n",
       "      <td>1.000000</td>\n",
       "      <td>3.000000</td>\n",
       "      <td>4.000000</td>\n",
       "      <td>5.000000</td>\n",
       "      <td>6.000000</td>\n",
       "    </tr>\n",
       "    <tr>\n",
       "      <th>Months_Inactive_12_mon</th>\n",
       "      <td>7088.0</td>\n",
       "      <td>2.339870e+00</td>\n",
       "      <td>1.011731</td>\n",
       "      <td>0.000000</td>\n",
       "      <td>2.000000</td>\n",
       "      <td>2.000000</td>\n",
       "      <td>3.000000</td>\n",
       "      <td>6.000000</td>\n",
       "    </tr>\n",
       "    <tr>\n",
       "      <th>Contacts_Count_12_mon</th>\n",
       "      <td>7088.0</td>\n",
       "      <td>2.466140e+00</td>\n",
       "      <td>1.106944</td>\n",
       "      <td>0.000000</td>\n",
       "      <td>2.000000</td>\n",
       "      <td>2.000000</td>\n",
       "      <td>3.000000</td>\n",
       "      <td>6.000000</td>\n",
       "    </tr>\n",
       "    <tr>\n",
       "      <th>Marital_Status_sorted_Married</th>\n",
       "      <td>7088.0</td>\n",
       "      <td>5.409142e-01</td>\n",
       "      <td>0.498358</td>\n",
       "      <td>0.000000</td>\n",
       "      <td>0.000000</td>\n",
       "      <td>1.000000</td>\n",
       "      <td>1.000000</td>\n",
       "      <td>1.000000</td>\n",
       "    </tr>\n",
       "    <tr>\n",
       "      <th>Marital_Status_sorted_Single</th>\n",
       "      <td>7088.0</td>\n",
       "      <td>3.831828e-01</td>\n",
       "      <td>0.486197</td>\n",
       "      <td>0.000000</td>\n",
       "      <td>0.000000</td>\n",
       "      <td>0.000000</td>\n",
       "      <td>1.000000</td>\n",
       "      <td>1.000000</td>\n",
       "    </tr>\n",
       "  </tbody>\n",
       "</table>\n",
       "</div>"
      ],
      "text/plain": [
       "                                count          mean       std       min  \\\n",
       "Customer_Age                   7088.0 -3.454018e-16  1.000071 -2.531322   \n",
       "Credit_Limit                   7088.0  8.597793e+00  0.930669  7.271217   \n",
       "Total_Revolving_Bal            7088.0  9.103482e-01  0.638103  0.000000   \n",
       "Total_Trans_Amt                7088.0  8.167921e+00  0.656979  6.390241   \n",
       "Avg_Utilization_Ratio          7088.0  2.753070e-01  0.276635  0.000000   \n",
       "Gender_Encoded                 7088.0  5.328725e-01  0.498953  0.000000   \n",
       "Dependent_count                7088.0  2.344949e+00  1.299597  0.000000   \n",
       "Education_Level_sorted         7088.0  2.839306e+00  1.215114  1.000000   \n",
       "Income_Category_sorted         7088.0  2.175226e+00  1.334986  1.000000   \n",
       "Card_Category_sorted           7088.0  1.081546e+00  0.330233  1.000000   \n",
       "Months_on_book                 7088.0 -3.454018e-16  1.000071 -2.531322   \n",
       "Total_Relationship_Count       7088.0  3.801213e+00  1.559728  1.000000   \n",
       "Months_Inactive_12_mon         7088.0  2.339870e+00  1.011731  0.000000   \n",
       "Contacts_Count_12_mon          7088.0  2.466140e+00  1.106944  0.000000   \n",
       "Marital_Status_sorted_Married  7088.0  5.409142e-01  0.498358  0.000000   \n",
       "Marital_Status_sorted_Single   7088.0  3.831828e-01  0.486197  0.000000   \n",
       "\n",
       "                                    25%       50%       75%        max  \n",
       "Customer_Age                  -0.661337 -0.038008  0.709986   3.327966  \n",
       "Credit_Limit                   7.841395  8.418587  9.298671  10.449178  \n",
       "Total_Revolving_Bal            0.248822  1.000000  1.396112   1.977219  \n",
       "Total_Trans_Amt                7.674617  8.267449  8.468633   9.824661  \n",
       "Avg_Utilization_Ratio          0.023000  0.175000  0.502000   0.999000  \n",
       "Gender_Encoded                 0.000000  1.000000  1.000000   1.000000  \n",
       "Dependent_count                1.000000  2.000000  3.000000   5.000000  \n",
       "Education_Level_sorted         2.000000  3.000000  3.000000   6.000000  \n",
       "Income_Category_sorted         1.000000  2.000000  3.000000   5.000000  \n",
       "Card_Category_sorted           1.000000  1.000000  1.000000   4.000000  \n",
       "Months_on_book                -0.661337 -0.038008  0.709986   3.327966  \n",
       "Total_Relationship_Count       3.000000  4.000000  5.000000   6.000000  \n",
       "Months_Inactive_12_mon         2.000000  2.000000  3.000000   6.000000  \n",
       "Contacts_Count_12_mon          2.000000  2.000000  3.000000   6.000000  \n",
       "Marital_Status_sorted_Married  0.000000  1.000000  1.000000   1.000000  \n",
       "Marital_Status_sorted_Single   0.000000  0.000000  1.000000   1.000000  "
      ]
     },
     "execution_count": 12,
     "metadata": {},
     "output_type": "execute_result"
    }
   ],
   "source": [
    "X_train.describe().T"
   ]
  },
  {
   "cell_type": "code",
   "execution_count": 13,
   "id": "42b3a7d0",
   "metadata": {
    "scrolled": false
   },
   "outputs": [
    {
     "data": {
      "text/html": [
       "<div>\n",
       "<style scoped>\n",
       "    .dataframe tbody tr th:only-of-type {\n",
       "        vertical-align: middle;\n",
       "    }\n",
       "\n",
       "    .dataframe tbody tr th {\n",
       "        vertical-align: top;\n",
       "    }\n",
       "\n",
       "    .dataframe thead th {\n",
       "        text-align: right;\n",
       "    }\n",
       "</style>\n",
       "<table border=\"1\" class=\"dataframe\">\n",
       "  <thead>\n",
       "    <tr style=\"text-align: right;\">\n",
       "      <th></th>\n",
       "      <th>count</th>\n",
       "      <th>mean</th>\n",
       "      <th>std</th>\n",
       "      <th>min</th>\n",
       "      <th>25%</th>\n",
       "      <th>50%</th>\n",
       "      <th>75%</th>\n",
       "      <th>max</th>\n",
       "    </tr>\n",
       "  </thead>\n",
       "  <tbody>\n",
       "    <tr>\n",
       "      <th>Customer_Age</th>\n",
       "      <td>3039.0</td>\n",
       "      <td>1.760867e-16</td>\n",
       "      <td>1.000165</td>\n",
       "      <td>-2.545475</td>\n",
       "      <td>-0.671517</td>\n",
       "      <td>-0.046864</td>\n",
       "      <td>0.702719</td>\n",
       "      <td>2.701607</td>\n",
       "    </tr>\n",
       "    <tr>\n",
       "      <th>Credit_Limit</th>\n",
       "      <td>3039.0</td>\n",
       "      <td>8.616519e+00</td>\n",
       "      <td>0.940983</td>\n",
       "      <td>7.271217</td>\n",
       "      <td>7.854381</td>\n",
       "      <td>8.432724</td>\n",
       "      <td>9.328701</td>\n",
       "      <td>10.449178</td>\n",
       "    </tr>\n",
       "    <tr>\n",
       "      <th>Total_Revolving_Bal</th>\n",
       "      <td>3039.0</td>\n",
       "      <td>9.134881e-01</td>\n",
       "      <td>0.640117</td>\n",
       "      <td>0.000000</td>\n",
       "      <td>0.349961</td>\n",
       "      <td>1.000000</td>\n",
       "      <td>1.401403</td>\n",
       "      <td>1.961808</td>\n",
       "    </tr>\n",
       "    <tr>\n",
       "      <th>Total_Trans_Amt</th>\n",
       "      <td>3039.0</td>\n",
       "      <td>8.157574e+00</td>\n",
       "      <td>0.648578</td>\n",
       "      <td>6.234411</td>\n",
       "      <td>7.682021</td>\n",
       "      <td>8.271293</td>\n",
       "      <td>8.453401</td>\n",
       "      <td>9.797849</td>\n",
       "    </tr>\n",
       "    <tr>\n",
       "      <th>Avg_Utilization_Ratio</th>\n",
       "      <td>3039.0</td>\n",
       "      <td>2.739293e-01</td>\n",
       "      <td>0.273522</td>\n",
       "      <td>0.000000</td>\n",
       "      <td>0.022500</td>\n",
       "      <td>0.177000</td>\n",
       "      <td>0.503500</td>\n",
       "      <td>0.994000</td>\n",
       "    </tr>\n",
       "    <tr>\n",
       "      <th>Gender_Encoded</th>\n",
       "      <td>3039.0</td>\n",
       "      <td>5.202369e-01</td>\n",
       "      <td>0.499673</td>\n",
       "      <td>0.000000</td>\n",
       "      <td>0.000000</td>\n",
       "      <td>1.000000</td>\n",
       "      <td>1.000000</td>\n",
       "      <td>1.000000</td>\n",
       "    </tr>\n",
       "    <tr>\n",
       "      <th>Dependent_count</th>\n",
       "      <td>3039.0</td>\n",
       "      <td>2.349128e+00</td>\n",
       "      <td>1.297511</td>\n",
       "      <td>0.000000</td>\n",
       "      <td>1.000000</td>\n",
       "      <td>2.000000</td>\n",
       "      <td>3.000000</td>\n",
       "      <td>5.000000</td>\n",
       "    </tr>\n",
       "    <tr>\n",
       "      <th>Education_Level_sorted</th>\n",
       "      <td>3039.0</td>\n",
       "      <td>2.851925e+00</td>\n",
       "      <td>1.201185</td>\n",
       "      <td>1.000000</td>\n",
       "      <td>2.000000</td>\n",
       "      <td>3.000000</td>\n",
       "      <td>3.000000</td>\n",
       "      <td>6.000000</td>\n",
       "    </tr>\n",
       "    <tr>\n",
       "      <th>Income_Category_sorted</th>\n",
       "      <td>3039.0</td>\n",
       "      <td>2.199079e+00</td>\n",
       "      <td>1.332057</td>\n",
       "      <td>1.000000</td>\n",
       "      <td>1.000000</td>\n",
       "      <td>2.000000</td>\n",
       "      <td>3.000000</td>\n",
       "      <td>5.000000</td>\n",
       "    </tr>\n",
       "    <tr>\n",
       "      <th>Card_Category_sorted</th>\n",
       "      <td>3039.0</td>\n",
       "      <td>1.088516e+00</td>\n",
       "      <td>0.341929</td>\n",
       "      <td>1.000000</td>\n",
       "      <td>1.000000</td>\n",
       "      <td>1.000000</td>\n",
       "      <td>1.000000</td>\n",
       "      <td>4.000000</td>\n",
       "    </tr>\n",
       "    <tr>\n",
       "      <th>Months_on_book</th>\n",
       "      <td>3039.0</td>\n",
       "      <td>1.760867e-16</td>\n",
       "      <td>1.000165</td>\n",
       "      <td>-2.545475</td>\n",
       "      <td>-0.671517</td>\n",
       "      <td>-0.046864</td>\n",
       "      <td>0.702719</td>\n",
       "      <td>2.701607</td>\n",
       "    </tr>\n",
       "    <tr>\n",
       "      <th>Total_Relationship_Count</th>\n",
       "      <td>3039.0</td>\n",
       "      <td>3.839092e+00</td>\n",
       "      <td>1.541858</td>\n",
       "      <td>1.000000</td>\n",
       "      <td>3.000000</td>\n",
       "      <td>4.000000</td>\n",
       "      <td>5.000000</td>\n",
       "      <td>6.000000</td>\n",
       "    </tr>\n",
       "    <tr>\n",
       "      <th>Months_Inactive_12_mon</th>\n",
       "      <td>3039.0</td>\n",
       "      <td>2.344192e+00</td>\n",
       "      <td>1.008191</td>\n",
       "      <td>0.000000</td>\n",
       "      <td>2.000000</td>\n",
       "      <td>2.000000</td>\n",
       "      <td>3.000000</td>\n",
       "      <td>6.000000</td>\n",
       "    </tr>\n",
       "    <tr>\n",
       "      <th>Contacts_Count_12_mon</th>\n",
       "      <td>3039.0</td>\n",
       "      <td>2.430076e+00</td>\n",
       "      <td>1.104317</td>\n",
       "      <td>0.000000</td>\n",
       "      <td>2.000000</td>\n",
       "      <td>2.000000</td>\n",
       "      <td>3.000000</td>\n",
       "      <td>6.000000</td>\n",
       "    </tr>\n",
       "    <tr>\n",
       "      <th>Marital_Status_sorted_Married</th>\n",
       "      <td>3039.0</td>\n",
       "      <td>5.271471e-01</td>\n",
       "      <td>0.499345</td>\n",
       "      <td>0.000000</td>\n",
       "      <td>0.000000</td>\n",
       "      <td>1.000000</td>\n",
       "      <td>1.000000</td>\n",
       "      <td>1.000000</td>\n",
       "    </tr>\n",
       "    <tr>\n",
       "      <th>Marital_Status_sorted_Single</th>\n",
       "      <td>3039.0</td>\n",
       "      <td>4.037512e-01</td>\n",
       "      <td>0.490729</td>\n",
       "      <td>0.000000</td>\n",
       "      <td>0.000000</td>\n",
       "      <td>0.000000</td>\n",
       "      <td>1.000000</td>\n",
       "      <td>1.000000</td>\n",
       "    </tr>\n",
       "  </tbody>\n",
       "</table>\n",
       "</div>"
      ],
      "text/plain": [
       "                                count          mean       std       min  \\\n",
       "Customer_Age                   3039.0  1.760867e-16  1.000165 -2.545475   \n",
       "Credit_Limit                   3039.0  8.616519e+00  0.940983  7.271217   \n",
       "Total_Revolving_Bal            3039.0  9.134881e-01  0.640117  0.000000   \n",
       "Total_Trans_Amt                3039.0  8.157574e+00  0.648578  6.234411   \n",
       "Avg_Utilization_Ratio          3039.0  2.739293e-01  0.273522  0.000000   \n",
       "Gender_Encoded                 3039.0  5.202369e-01  0.499673  0.000000   \n",
       "Dependent_count                3039.0  2.349128e+00  1.297511  0.000000   \n",
       "Education_Level_sorted         3039.0  2.851925e+00  1.201185  1.000000   \n",
       "Income_Category_sorted         3039.0  2.199079e+00  1.332057  1.000000   \n",
       "Card_Category_sorted           3039.0  1.088516e+00  0.341929  1.000000   \n",
       "Months_on_book                 3039.0  1.760867e-16  1.000165 -2.545475   \n",
       "Total_Relationship_Count       3039.0  3.839092e+00  1.541858  1.000000   \n",
       "Months_Inactive_12_mon         3039.0  2.344192e+00  1.008191  0.000000   \n",
       "Contacts_Count_12_mon          3039.0  2.430076e+00  1.104317  0.000000   \n",
       "Marital_Status_sorted_Married  3039.0  5.271471e-01  0.499345  0.000000   \n",
       "Marital_Status_sorted_Single   3039.0  4.037512e-01  0.490729  0.000000   \n",
       "\n",
       "                                    25%       50%       75%        max  \n",
       "Customer_Age                  -0.671517 -0.046864  0.702719   2.701607  \n",
       "Credit_Limit                   7.854381  8.432724  9.328701  10.449178  \n",
       "Total_Revolving_Bal            0.349961  1.000000  1.401403   1.961808  \n",
       "Total_Trans_Amt                7.682021  8.271293  8.453401   9.797849  \n",
       "Avg_Utilization_Ratio          0.022500  0.177000  0.503500   0.994000  \n",
       "Gender_Encoded                 0.000000  1.000000  1.000000   1.000000  \n",
       "Dependent_count                1.000000  2.000000  3.000000   5.000000  \n",
       "Education_Level_sorted         2.000000  3.000000  3.000000   6.000000  \n",
       "Income_Category_sorted         1.000000  2.000000  3.000000   5.000000  \n",
       "Card_Category_sorted           1.000000  1.000000  1.000000   4.000000  \n",
       "Months_on_book                -0.671517 -0.046864  0.702719   2.701607  \n",
       "Total_Relationship_Count       3.000000  4.000000  5.000000   6.000000  \n",
       "Months_Inactive_12_mon         2.000000  2.000000  3.000000   6.000000  \n",
       "Contacts_Count_12_mon          2.000000  2.000000  3.000000   6.000000  \n",
       "Marital_Status_sorted_Married  0.000000  1.000000  1.000000   1.000000  \n",
       "Marital_Status_sorted_Single   0.000000  0.000000  1.000000   1.000000  "
      ]
     },
     "execution_count": 13,
     "metadata": {},
     "output_type": "execute_result"
    }
   ],
   "source": [
    "X_test.describe().T"
   ]
  },
  {
   "cell_type": "markdown",
   "id": "d1e33603",
   "metadata": {},
   "source": [
    "## Training and Modeling <a id=Training_and_Modeling ></a>"
   ]
  },
  {
   "cell_type": "markdown",
   "id": "53934cfc",
   "metadata": {},
   "source": [
    "### Fit Model on Intercept (naive model)"
   ]
  },
  {
   "cell_type": "markdown",
   "id": "df2f2a47",
   "metadata": {},
   "source": [
    "Fit the null model, vecoros of 1's (just intecept) to check how random performance looks like. If all ok ROC_AUC should be 0.5.\n",
    "For this liner regression is used with fit_intercept=False and this sets the y-intercept to 0."
   ]
  },
  {
   "cell_type": "code",
   "execution_count": 14,
   "id": "bc97a834",
   "metadata": {
    "scrolled": false
   },
   "outputs": [],
   "source": [
    "X_train = X_train.to_numpy()\n",
    "y_train = y_train.to_numpy().ravel()"
   ]
  },
  {
   "cell_type": "code",
   "execution_count": 15,
   "id": "8cdf9110",
   "metadata": {
    "scrolled": false
   },
   "outputs": [],
   "source": [
    "X_test = X_test.to_numpy()\n",
    "y_test = y_test.to_numpy().ravel()"
   ]
  },
  {
   "cell_type": "code",
   "execution_count": 16,
   "id": "3e7e3349",
   "metadata": {
    "scrolled": false
   },
   "outputs": [],
   "source": [
    "null_reg = linear_model.LogisticRegression(fit_intercept= False,max_iter=500,random_state=632966)"
   ]
  },
  {
   "cell_type": "code",
   "execution_count": 17,
   "id": "33dfe273",
   "metadata": {
    "scrolled": false
   },
   "outputs": [],
   "source": [
    "X_train_null = np.ones(shape=X_train.shape[0]).reshape(-1,1)\n",
    "X_test_null = np.ones(shape=y_test.shape[0]).reshape(-1,1)"
   ]
  },
  {
   "cell_type": "code",
   "execution_count": 18,
   "id": "d1d4418f",
   "metadata": {
    "scrolled": false
   },
   "outputs": [],
   "source": [
    "#fit on train and test data no tuning\n",
    "null_train = null_reg.fit(X=X_train_null,y=y_train)\n",
    "null_test = null_reg.fit(X=X_test_null,y=y_test)"
   ]
  },
  {
   "cell_type": "code",
   "execution_count": 19,
   "id": "0a51b937",
   "metadata": {
    "scrolled": false
   },
   "outputs": [],
   "source": [
    "#predict_proba and pred_prob returns two columns, second one is target\n",
    "train_pred = null_train.predict_proba(X_train_null)\n",
    "test_pred = null_test.predict_proba(X_test_null)"
   ]
  },
  {
   "cell_type": "code",
   "execution_count": 20,
   "id": "ee52f136",
   "metadata": {},
   "outputs": [
    {
     "data": {
      "text/plain": [
       "1.0"
      ]
     },
     "execution_count": 20,
     "metadata": {},
     "output_type": "execute_result"
    }
   ],
   "source": [
    "#base metrics precision: minmum performance on train data\n",
    "metrics.precision_score(y_true= y_train,y_pred= np.where(train_pred[:,1]>0.5,1,0),zero_division=1)"
   ]
  },
  {
   "cell_type": "code",
   "execution_count": 21,
   "id": "36190632",
   "metadata": {},
   "outputs": [
    {
     "data": {
      "text/plain": [
       "0.0"
      ]
     },
     "execution_count": 21,
     "metadata": {},
     "output_type": "execute_result"
    }
   ],
   "source": [
    "#base metrics recall: minmum performance\n",
    "metrics.recall_score(y_true= y_train,y_pred= np.where(train_pred[:,1]>0.5,1,0),zero_division=1)"
   ]
  },
  {
   "cell_type": "code",
   "execution_count": 22,
   "id": "a2649083",
   "metadata": {
    "scrolled": false
   },
   "outputs": [
    {
     "data": {
      "text/plain": [
       "0.0"
      ]
     },
     "execution_count": 22,
     "metadata": {},
     "output_type": "execute_result"
    }
   ],
   "source": [
    "#base metrics f1 score: minmum performance\n",
    "metrics.f1_score(y_true= y_train,y_pred= np.where(train_pred[:,1]>0.5,1,0),zero_division=1)"
   ]
  },
  {
   "cell_type": "code",
   "execution_count": 23,
   "id": "2ad1692d",
   "metadata": {
    "scrolled": false
   },
   "outputs": [
    {
     "name": "stdout",
     "output_type": "stream",
     "text": [
      "Observed mean: 0.161, Fit: 0.161\n"
     ]
    }
   ],
   "source": [
    "#check to see if close to population value\n",
    "print(\"Observed mean: {:.3f}, Fit: {:.3f}\".format(y_train.mean(),train_pred[:,1].mean()))"
   ]
  },
  {
   "cell_type": "code",
   "execution_count": 24,
   "id": "560af10e",
   "metadata": {},
   "outputs": [
    {
     "data": {
      "text/plain": [
       "1.0"
      ]
     },
     "execution_count": 24,
     "metadata": {},
     "output_type": "execute_result"
    }
   ],
   "source": [
    "#base metrics precision: minmum performance on test data\n",
    "metrics.precision_score(y_true= y_test,y_pred= np.where(test_pred[:,1]>0.5,1,0),zero_division=1)"
   ]
  },
  {
   "cell_type": "code",
   "execution_count": 25,
   "id": "5e61704e",
   "metadata": {},
   "outputs": [
    {
     "data": {
      "text/plain": [
       "0.0"
      ]
     },
     "execution_count": 25,
     "metadata": {},
     "output_type": "execute_result"
    }
   ],
   "source": [
    "#base metrics recall: minmum performance\n",
    "metrics.recall_score(y_true= y_test,y_pred= np.where(test_pred[:,1]>0.5,1,0),zero_division=1)"
   ]
  },
  {
   "cell_type": "code",
   "execution_count": 26,
   "id": "40beecfc",
   "metadata": {},
   "outputs": [
    {
     "data": {
      "text/plain": [
       "0.0"
      ]
     },
     "execution_count": 26,
     "metadata": {},
     "output_type": "execute_result"
    }
   ],
   "source": [
    "#base metrics f1 score: minmum performance\n",
    "metrics.f1_score(y_true= y_test,y_pred= np.where(test_pred[:,1]>0.5,1,0),zero_division=1)"
   ]
  },
  {
   "cell_type": "code",
   "execution_count": 27,
   "id": "ad07699f",
   "metadata": {},
   "outputs": [
    {
     "name": "stdout",
     "output_type": "stream",
     "text": [
      "Observed mean: 0.161, Fit: 0.161\n"
     ]
    }
   ],
   "source": [
    "#check to see if close to population value\n",
    "print(\"Observed mean: {:.3f}, Fit: {:.3f}\".format(y_test.mean(),test_pred[:,1].mean()))"
   ]
  },
  {
   "cell_type": "markdown",
   "id": "58e3d5c6",
   "metadata": {},
   "source": [
    "Worked well for test data as well.Observed mean and Fit Mean are same, class distrbution is good. And here is the ROC_AUC curve"
   ]
  },
  {
   "cell_type": "code",
   "execution_count": 28,
   "id": "f45dc5a1",
   "metadata": {},
   "outputs": [
    {
     "name": "stdout",
     "output_type": "stream",
     "text": [
      "ROC_AUC Curve for train data\n"
     ]
    },
    {
     "data": {
      "image/png": "[encoded data removed]",
      "text/plain": [
       "<Figure size 432x288 with 1 Axes>"
      ]
     },
     "metadata": {
      "needs_background": "light"
     },
     "output_type": "display_data"
    },
    {
     "name": "stdout",
     "output_type": "stream",
     "text": [
      "1.161122049527523\n"
     ]
    }
   ],
   "source": [
    "print(\"ROC_AUC Curve for train data\")\n",
    "_,_,t = plot_roc(y_train,train_pred[:,1])\n",
    "print(max(t))"
   ]
  },
  {
   "cell_type": "code",
   "execution_count": 29,
   "id": "14f36316",
   "metadata": {},
   "outputs": [
    {
     "data": {
      "image/png": "[encoded data removed]",
      "text/plain": [
       "<Figure size 432x288 with 1 Axes>"
      ]
     },
     "metadata": {
      "needs_background": "light"
     },
     "output_type": "display_data"
    }
   ],
   "source": [
    "_,_,_,_ = threshhold_and_plot(y_train,train_pred[:,1],plot=True)"
   ]
  },
  {
   "cell_type": "code",
   "execution_count": 30,
   "id": "83d1a4b0",
   "metadata": {},
   "outputs": [
    {
     "name": "stdout",
     "output_type": "stream",
     "text": [
      "ROC_AUC Curve for test\n"
     ]
    },
    {
     "data": {
      "image/png": "[encoded data removed]",
      "text/plain": [
       "<Figure size 432x288 with 1 Axes>"
      ]
     },
     "metadata": {
      "needs_background": "light"
     },
     "output_type": "display_data"
    },
    {
     "name": "stdout",
     "output_type": "stream",
     "text": [
      "1.161122049527523\n"
     ]
    }
   ],
   "source": [
    "print(\"ROC_AUC Curve for test\")\n",
    "_,_,t = plot_roc(y_test,test_pred[:,1])\n",
    "print(max(t))"
   ]
  },
  {
   "cell_type": "code",
   "execution_count": 31,
   "id": "819ecda3",
   "metadata": {},
   "outputs": [
    {
     "data": {
      "image/png": "[encoded data removed]",
      "text/plain": [
       "<Figure size 432x288 with 1 Axes>"
      ]
     },
     "metadata": {
      "needs_background": "light"
     },
     "output_type": "display_data"
    }
   ],
   "source": [
    "_,_,_,_=threshhold_and_plot(y_test,test_pred[:,1],plot=True)"
   ]
  },
  {
   "cell_type": "markdown",
   "id": "f9299f30",
   "metadata": {},
   "source": [
    "From Random performance on training data, it is evident mimimum performance is seen, as the precision=1, recal and f1 stands 0 scores.And ROC_AUC with 0.5 supports this. "
   ]
  },
  {
   "cell_type": "code",
   "execution_count": 32,
   "id": "40b86bb8",
   "metadata": {},
   "outputs": [],
   "source": [
    "# same null model with model params, cross validation,\n",
    "model_params = {\"model__C\": (np.logspace(start=-4,stop=4,num=30))}\n",
    "#pipe line has just model object\n",
    "model_pipeline = pipeline.Pipeline(steps=[(\"model\",null_reg)])\n",
    "# set up cross-validator:\n",
    "# 80/20 train/calibration split in this data (test data still held out)\n",
    "# 200 iterations\n",
    "cross_validator = (\n",
    "  model_selection.StratifiedShuffleSplit(train_size=0.8,\n",
    "                                          random_state=1337,\n",
    "                                          n_splits=50))\n",
    "# set up grid search\n",
    "model_grid = (\n",
    "  model_selection.GridSearchCV(estimator=model_pipeline,\n",
    "                           param_grid=model_params,\n",
    "                           refit=True, # refit using best estimates\n",
    "                           scoring=\"roc_auc\", # metric to optimize (can pick another)\n",
    "                           cv=cross_validator,\n",
    "                           n_jobs = -1))"
   ]
  },
  {
   "cell_type": "code",
   "execution_count": 33,
   "id": "861cb441",
   "metadata": {
    "scrolled": false
   },
   "outputs": [
    {
     "name": "stdout",
     "output_type": "stream",
     "text": [
      "Wall time: 3.86 s\n"
     ]
    }
   ],
   "source": [
    "%%time\n",
    "# fit model on intercept (random guesses - baseline performance)\n",
    "null_mod = model_grid.fit(X_train_null,y_train)"
   ]
  },
  {
   "cell_type": "code",
   "execution_count": 34,
   "id": "d237f1a0",
   "metadata": {
    "scrolled": false
   },
   "outputs": [
    {
     "name": "stdout",
     "output_type": "stream",
     "text": [
      "Wall time: 1min 57s\n"
     ]
    }
   ],
   "source": [
    "%%time\n",
    "# CV score on null model\n",
    "cv_recall_scores = (\n",
    "  model_selection.cross_val_score(null_mod,\n",
    "                                  X_train_null,\n",
    "                                  y_train,\n",
    "                                  scoring=\"roc_auc\",\n",
    "                                  cv=cross_validator,\n",
    "                                  n_jobs=-1))"
   ]
  },
  {
   "cell_type": "code",
   "execution_count": 35,
   "id": "6fb48892",
   "metadata": {
    "scrolled": true
   },
   "outputs": [
    {
     "name": "stdout",
     "output_type": "stream",
     "text": [
      " 2.5%:0.500,97.5%:0.500\n"
     ]
    }
   ],
   "source": [
    "cv_quantiles = np.quantile(a=cv_recall_scores,q=[0.025,0.975])\n",
    "print(f\" 2.5%:{cv_quantiles[0]:.3f},97.5%:{cv_quantiles[1]:.3f}\")"
   ]
  },
  {
   "cell_type": "code",
   "execution_count": 36,
   "id": "0e7ff6f0",
   "metadata": {
    "scrolled": false
   },
   "outputs": [
    {
     "data": {
      "text/plain": [
       "<AxesSubplot:ylabel='Count'>"
      ]
     },
     "execution_count": 36,
     "metadata": {},
     "output_type": "execute_result"
    },
    {
     "data": {
      "image/png": "[encoded data removed]",
      "text/plain": [
       "<Figure size 432x288 with 1 Axes>"
      ]
     },
     "metadata": {
      "needs_background": "light"
     },
     "output_type": "display_data"
    }
   ],
   "source": [
    "import seaborn as sns\n",
    "sns.histplot(cv_recall_scores, bins=10)"
   ]
  },
  {
   "cell_type": "code",
   "execution_count": 37,
   "id": "4ecd3102",
   "metadata": {},
   "outputs": [
    {
     "name": "stdout",
     "output_type": "stream",
     "text": [
      "Observed mean: 0.161, Fit: 0.161\n"
     ]
    }
   ],
   "source": [
    "#check to see if close to population value\n",
    "print(\"Observed mean: {:.3f}, Fit: {:.3f}\".format(y_test.mean(),test_pred[:,1].mean()))"
   ]
  },
  {
   "cell_type": "code",
   "execution_count": 38,
   "id": "b193a0f0",
   "metadata": {},
   "outputs": [],
   "source": [
    "#predict \n",
    "null_mod_train_preds = null_mod.predict_proba(X=X_train_null)"
   ]
  },
  {
   "cell_type": "code",
   "execution_count": 39,
   "id": "c295bc66",
   "metadata": {},
   "outputs": [
    {
     "data": {
      "image/png": "[encoded data removed]",
      "text/plain": [
       "<Figure size 432x288 with 1 Axes>"
      ]
     },
     "metadata": {
      "needs_background": "light"
     },
     "output_type": "display_data"
    }
   ],
   "source": [
    "title = \"Base Model after tuning\"\n",
    "_,_,_,_=threshhold_and_plot(y_train,null_mod_train_preds[:,1],plot=True)"
   ]
  },
  {
   "cell_type": "code",
   "execution_count": 40,
   "id": "9f062daa",
   "metadata": {},
   "outputs": [],
   "source": [
    "#classifier_name= \"Base Model after tuning\"\n",
    "#make_matrics_score(y_train,null_mod_train_preds[:,1].astype(int),classifier_name,score=False,y_class_report=True,isTest=False)"
   ]
  },
  {
   "cell_type": "code",
   "execution_count": 41,
   "id": "aa28022d",
   "metadata": {},
   "outputs": [],
   "source": [
    "null_mod_test_preds = null_mod.predict_proba(X=X_test_null)"
   ]
  },
  {
   "cell_type": "code",
   "execution_count": 42,
   "id": "243ccd3d",
   "metadata": {},
   "outputs": [
    {
     "data": {
      "text/plain": [
       "1.0"
      ]
     },
     "execution_count": 42,
     "metadata": {},
     "output_type": "execute_result"
    }
   ],
   "source": [
    "#base metrics precision: minimum performance on test data\n",
    "metrics.precision_score(y_true= y_test,y_pred= np.where(null_mod_test_preds[:,1]>0.5,1,0),zero_division=1)"
   ]
  },
  {
   "cell_type": "code",
   "execution_count": 43,
   "id": "d2e35502",
   "metadata": {},
   "outputs": [
    {
     "data": {
      "text/plain": [
       "0.0"
      ]
     },
     "execution_count": 43,
     "metadata": {},
     "output_type": "execute_result"
    }
   ],
   "source": [
    "#base metrics recall: minmum performance\n",
    "metrics.recall_score(y_true= y_test,y_pred= np.where(null_mod_test_preds[:,1]>0.5,1,0),zero_division=1)"
   ]
  },
  {
   "cell_type": "code",
   "execution_count": 44,
   "id": "b99a806e",
   "metadata": {},
   "outputs": [
    {
     "data": {
      "text/plain": [
       "0.0"
      ]
     },
     "execution_count": 44,
     "metadata": {},
     "output_type": "execute_result"
    }
   ],
   "source": [
    "#base metrics f1 score: minmum performance\n",
    "metrics.f1_score(y_true= y_test,y_pred= np.where(null_mod_test_preds[:,1]>0.5,1,0),zero_division=1)"
   ]
  },
  {
   "cell_type": "code",
   "execution_count": 45,
   "id": "67c52b40",
   "metadata": {},
   "outputs": [
    {
     "name": "stdout",
     "output_type": "stream",
     "text": [
      "Observed: 0.161, Fit: 0.500\n"
     ]
    }
   ],
   "source": [
    "#check to see if close to population value\n",
    "print(\"Observed: {:.3f}, Fit: {:.3f}\".format(y_test.mean(),null_mod_test_preds.mean()))"
   ]
  },
  {
   "cell_type": "code",
   "execution_count": 46,
   "id": "b549d57f",
   "metadata": {},
   "outputs": [],
   "source": [
    "#classifier_name= \"Base Model after tuning\"\n",
    "#make_matrics_score(y_test,null_mod_test_preds[:,1].astype(int),classifier_name,score=False,y_class_report=True,isTest = True)"
   ]
  },
  {
   "cell_type": "code",
   "execution_count": 47,
   "id": "5a286253",
   "metadata": {},
   "outputs": [
    {
     "name": "stdout",
     "output_type": "stream",
     "text": [
      "ROC_AUC Curve for test\n"
     ]
    },
    {
     "data": {
      "image/png": "[encoded data removed]",
      "text/plain": [
       "<Figure size 432x288 with 1 Axes>"
      ]
     },
     "metadata": {
      "needs_background": "light"
     },
     "output_type": "display_data"
    }
   ],
   "source": [
    "print(\"ROC_AUC Curve for test\")\n",
    "fpr,tpr,th = plot_roc(y_test,null_mod_test_preds[:,1])"
   ]
  },
  {
   "cell_type": "code",
   "execution_count": 48,
   "id": "545c56f7",
   "metadata": {},
   "outputs": [
    {
     "data": {
      "image/png": "[encoded data removed]",
      "text/plain": [
       "<Figure size 432x288 with 1 Axes>"
      ]
     },
     "metadata": {
      "needs_background": "light"
     },
     "output_type": "display_data"
    }
   ],
   "source": [
    "title = \"Base Model after tuning\"\n",
    "_,_,_,_ =threshhold_and_plot(y_test,test_pred[:,1],plot=True)"
   ]
  },
  {
   "cell_type": "markdown",
   "id": "119bf399",
   "metadata": {},
   "source": [
    "Performance on test data, it is evident mimimum performance is seen, And is supported by ROC_AUC with 0.5."
   ]
  },
  {
   "cell_type": "markdown",
   "id": "19c0acf5",
   "metadata": {},
   "source": [
    "### Model Selection "
   ]
  },
  {
   "cell_type": "markdown",
   "id": "45a52ea8",
   "metadata": {},
   "source": [
    "Four competing supervised classfication models/algorithms are considered, namely, \n",
    "* Logistic Regression classification\n",
    "* Random Forest classifier\n",
    "* KNeighbours classification\n",
    "* XGBoost classifier "
   ]
  },
  {
   "cell_type": "markdown",
   "id": "c162abdf",
   "metadata": {},
   "source": [
    "### Evaluation Metrics"
   ]
  },
  {
   "cell_type": "markdown",
   "id": "a0441f7f",
   "metadata": {},
   "source": [
    "Thinking of customer will not exit but he does, this means income loss for the Bank. Bank need to take the action steps for this scenario. This is false negative, and is \"recall\". Banks is looking for recall to be maximized, greater the recall lesser the chances of false negative means lesser chances of predicting customers will not exit where in reality they do. Since classes in the data are unbalanced, I can make use of confusion matrix to examine the outcome of model. Recall and precision metrics can be calculated from the confusion matrix, and this would help me assessing the models.\n",
    "\n",
    "This project is aim to predict potential churn customers, and it is realised that the client cost of mistakenly classifying non-churn customer as churn may be high in practice because banks would not want to lose valuable customers, and the banks would like to identify churners at their best efforts as well. Thus, it would be useful to consider Recall. To complement this Receiver Operating Characteristic curve (ROC) is used. ROC is a plot of True Positive Rate (TPR) against False Positive Rate (FPR). This means I can consider TPR and FPR simultanesouly, by making use of the area under the curve (AUC) of ROC."
   ]
  },
  {
   "cell_type": "markdown",
   "id": "d076e4bd",
   "metadata": {},
   "source": [
    "## Training and Modeling"
   ]
  },
  {
   "cell_type": "markdown",
   "id": "0e66b86f",
   "metadata": {},
   "source": [
    "### Hyperparameter Tuning and Model Training"
   ]
  },
  {
   "cell_type": "markdown",
   "id": "911ac680",
   "metadata": {},
   "source": [
    "Each model is subject to various hyperparameters that need to be determined. Here random search and grid search methods are used optimise the hyperparameters for our chosen models. Grid search exhaustively checks every combinations of hyperparameters given in the parameter domain to optimise the given score, \"roc_auc\" in this project. Random search checks random combinations of hyperparameters for a given number of iterations to optimise the given score. The advantage of random search is shorter time but the trade-off is that it might miss the best possible combination.\n",
    "\n",
    "Below are the two functions, rand_search(), and grid_search(), to help in implementation. No scaling is done as it is each feature is already scaled, so then train the models with training dataset.\n",
    "\n",
    "<b>Random Search</b> Define a search space as a bounded domain of hyperparameter values and randomly sample points in that domain.\n",
    "\n",
    "<b>Grid Search</b> Define a search space as a grid of hyperparameter values and evaluate every position in the grid.\n"
   ]
  },
  {
   "cell_type": "code",
   "execution_count": 49,
   "id": "a3278dc5",
   "metadata": {},
   "outputs": [],
   "source": [
    "# rand search function\n",
    "def rand_search(X_train,y_train,parameters,model,n_iter=100):\n",
    "    #pipeline\n",
    "    clf_pipeline = Pipeline([(\"clf\",model)])\n",
    "    #Grid search CV\n",
    "    scoring = 'roc_auc'\n",
    "    verbose = 1\n",
    "    clf_rand = model_selection.RandomizedSearchCV(clf_pipeline, parameters, n_iter = n_iter,scoring=scoring,verbose = verbose, random_state=1,n_jobs=-1)\n",
    "    #Learn from training\n",
    "    clf_rand.fit(X_train,y_train)  #learn the training set\n",
    "    \n",
    "    print(\"Best parameters for \", model) \n",
    "    print(clf_rand.best_params_)\n",
    "    print(f\"\\nBest train %s score: {clf_rand.best_score_ :.2f}\" % (scoring))\n",
    "    return clf_rand.best_estimator_"
   ]
  },
  {
   "cell_type": "code",
   "execution_count": 50,
   "id": "1fe72482",
   "metadata": {},
   "outputs": [],
   "source": [
    "# grid search function\n",
    "def grid_search(X_train,y_train,parameters,model):\n",
    "    \n",
    "    #pipeline\n",
    "    clf_pipeline = Pipeline([(\"clf\",model)])   #Pipeline applies scaling and model estimator\n",
    "    #Grid search CV\n",
    "    scoring = 'roc_auc'\n",
    "    verbose = 1\n",
    "    clf_grid = model_selection.GridSearchCV(clf_pipeline, parameters,  scoring=scoring,verbose = verbose)\n",
    "    #Learn from training\n",
    "    clf_grid.fit(X_train,y_train) \n",
    "\n",
    "    print(\"Best parameters for \", model) \n",
    "    print(clf_grid.best_params_)\n",
    "    print(f\"\\nBest train %s score: {clf_grid.best_score_ :.2f}\" % (scoring))\n",
    "    return clf_grid.best_estimator_"
   ]
  },
  {
   "cell_type": "code",
   "execution_count": 51,
   "id": "9c38b8e3",
   "metadata": {},
   "outputs": [],
   "source": [
    "# converting numby to dataframe \n",
    "cols = ['Customer_Age', 'Credit_Limit', 'Total_Revolving_Bal',\n",
    "       'Total_Trans_Amt', 'Avg_Utilization_Ratio', 'Gender_Encoded',\n",
    "       'Dependent_count', 'Education_Level_sorted', 'Income_Category_sorted',\n",
    "       'Card_Category_sorted', 'Months_on_book', 'Total_Relationship_Count',\n",
    "       'Months_Inactive_12_mon', 'Contacts_Count_12_mon',\n",
    "       'Marital_Status_sorted_Married', 'Marital_Status_sorted_Single']\n",
    "        \n",
    "#X_train = pd.DataFrame(X_train,columns=cols)\n",
    "#X_test = pd.DataFrame(X_test,columns=cols)"
   ]
  },
  {
   "cell_type": "markdown",
   "id": "1d73c58e",
   "metadata": {},
   "source": [
    "### Logistic Regression"
   ]
  },
  {
   "cell_type": "markdown",
   "id": "05cdffb3",
   "metadata": {},
   "source": [
    "Logistic Regression is one of the simplest algorithms which estimates the relationship between one dependent binary variable and independent variables, computing the probability of occurrence of an event. The regulation parameter C controls the trade-off between increasing complexity (overfitting) and keeping the model simple (underfitting). For large values of C, the power of regulation is reduced and the model increases its complexity, thus overfitting the data.\n",
    "\n",
    "The parameter ‘C’ was tuned using GridSearchCV( ) for the different datasets: original, standardized and with most important features. Once the parameter ‘C’ was defined for each dataset, the logistic regression model initiated and then fitted to the training data, as it was described in the methodology.\n",
    "\n",
    "In this package, there are several hyperparameters thatI need to pay attention to:\n",
    "\n",
    "  C: controls the strength of regularisation penalty <br />\n",
    "  solver: algorithms used for optimisation <br />\n",
    "  class_weight: weights associated with classes <br />"
   ]
  },
  {
   "cell_type": "code",
   "execution_count": 52,
   "id": "337aa2e7",
   "metadata": {},
   "outputs": [],
   "source": [
    "#classifier\n",
    "clf_lg = linear_model.LogisticRegression(fit_intercept= True,max_iter=500,random_state=632966)\n",
    "\n",
    "# Grid of parameters\n",
    "model_params_lg = {\"model__C\": (np.logspace(start=-4,stop=4,num=30)),\n",
    "                   'model__penalty': ['l2']} \n",
    "#'model__solver' : ['liblinear','newton-cg','lbfgs','sag','saga'],\n",
    "\n",
    "# pipeline\n",
    "model_pipeline_lg = pipeline.Pipeline(steps=[(\"model\",clf_lg)])\n",
    "\n",
    "cross_validator = (model_selection.StratifiedShuffleSplit(train_size=0.8,random_state=1337,n_splits=50))\n",
    "\n",
    "# set up grid search\n",
    "model_grid_lg = (\n",
    "  model_selection.GridSearchCV(estimator=model_pipeline_lg,\n",
    "                               param_grid=model_params_lg,\n",
    "                               refit=True, # refit using best estimates\n",
    "                               scoring=\"roc_auc\", cv=cross_validator,n_jobs = -1,verbose=1))"
   ]
  },
  {
   "cell_type": "markdown",
   "id": "e7ae81a1",
   "metadata": {},
   "source": [
    "### Fit on train set"
   ]
  },
  {
   "cell_type": "code",
   "execution_count": 53,
   "id": "8413e12e",
   "metadata": {},
   "outputs": [
    {
     "name": "stdout",
     "output_type": "stream",
     "text": [
      "Fitting 50 folds for each of 30 candidates, totalling 1500 fits\n",
      "Wall time: 27.3 s\n"
     ]
    }
   ],
   "source": [
    "%%time\n",
    "lg_mod = model_grid_lg.fit(X_train,y_train)"
   ]
  },
  {
   "cell_type": "code",
   "execution_count": 54,
   "id": "18607601",
   "metadata": {},
   "outputs": [
    {
     "data": {
      "text/plain": [
       "Pipeline(steps=[('model',\n",
       "                 LogisticRegression(C=0.20433597178569418, max_iter=500,\n",
       "                                    random_state=632966))])"
      ]
     },
     "execution_count": 54,
     "metadata": {},
     "output_type": "execute_result"
    }
   ],
   "source": [
    "log_best_estimator = lg_mod.best_estimator_\n",
    "log_best_estimator"
   ]
  },
  {
   "cell_type": "code",
   "execution_count": 55,
   "id": "d35b585b",
   "metadata": {},
   "outputs": [
    {
     "name": "stdout",
     "output_type": "stream",
     "text": [
      "Best params {'model__C': 0.20433597178569418, 'model__penalty': 'l2'} \n",
      "Best score 0.8257422969187675\n"
     ]
    }
   ],
   "source": [
    "print(f\"Best params {lg_mod.best_params_} \\nBest score {lg_mod.best_score_ }\")"
   ]
  },
  {
   "cell_type": "code",
   "execution_count": 56,
   "id": "1b94ca78",
   "metadata": {},
   "outputs": [],
   "source": [
    "#cross validation\n",
    "lr_cv_scores = (\n",
    "    model_selection.cross_val_score(log_best_estimator,\n",
    "                                      X_train,\n",
    "                                      y_train,\n",
    "                                      scoring=\"roc_auc\",\n",
    "                                      cv=cross_validator,\n",
    "                                      n_jobs=-1))"
   ]
  },
  {
   "cell_type": "code",
   "execution_count": 57,
   "id": "9d2ed039",
   "metadata": {},
   "outputs": [
    {
     "name": "stdout",
     "output_type": "stream",
     "text": [
      " Performance on training set is in range between 0.799 to 0.854,with average roc_auc:0.826\n"
     ]
    }
   ],
   "source": [
    "cv_quantiles = np.quantile(a=lr_cv_scores,q=[0.025,0.975])\n",
    "print(f\" Performance on training set is in range between {cv_quantiles[0]:.3f} to {cv_quantiles[1]:.3f},with average roc_auc:{lr_cv_scores.mean():.3f}\")"
   ]
  },
  {
   "cell_type": "code",
   "execution_count": 58,
   "id": "078c8b48",
   "metadata": {},
   "outputs": [
    {
     "data": {
      "text/plain": [
       "<AxesSubplot:ylabel='Count'>"
      ]
     },
     "execution_count": 58,
     "metadata": {},
     "output_type": "execute_result"
    },
    {
     "data": {
      "image/png": "[encoded data removed]",
      "text/plain": [
       "<Figure size 432x288 with 1 Axes>"
      ]
     },
     "metadata": {},
     "output_type": "display_data"
    }
   ],
   "source": [
    "sns.set_style(\"darkgrid\")\n",
    "sns.histplot(lr_cv_scores, bins=10)"
   ]
  },
  {
   "cell_type": "markdown",
   "id": "9f137fdf",
   "metadata": {},
   "source": [
    "### Get threshold using train set"
   ]
  },
  {
   "cell_type": "code",
   "execution_count": 59,
   "id": "928fa092",
   "metadata": {},
   "outputs": [],
   "source": [
    "y_proba_lg = log_best_estimator.predict_proba(X_train)\n",
    "y_proba_lg = y_proba_lg[:,1]"
   ]
  },
  {
   "cell_type": "code",
   "execution_count": 60,
   "id": "92ab8bd5",
   "metadata": {},
   "outputs": [
    {
     "data": {
      "image/png": "[encoded data removed]",
      "text/plain": [
       "<Figure size 432x288 with 1 Axes>"
      ]
     },
     "metadata": {},
     "output_type": "display_data"
    }
   ],
   "source": [
    "lg_prec, lg_rec, lg_f1, lg_roc_auc = threshhold_and_plot(y_train,y_proba_lg)"
   ]
  },
  {
   "cell_type": "code",
   "execution_count": 61,
   "id": "10ee2fba",
   "metadata": {},
   "outputs": [
    {
     "name": "stdout",
     "output_type": "stream",
     "text": [
      "max_roc_auc is: 0.7589298324609045\n"
     ]
    }
   ],
   "source": [
    "lg_thresh_idx, lg_max_score = max_thresh(lg_roc_auc)\n",
    "#print(f'max_roc_auc is: {lg_max_score :.4f}')\n",
    "print(f'max_roc_auc is: {lg_max_score}')"
   ]
  },
  {
   "cell_type": "markdown",
   "id": "8bbae5f3",
   "metadata": {},
   "source": [
    "### Apply threshold on test set"
   ]
  },
  {
   "cell_type": "code",
   "execution_count": 62,
   "id": "0114d9c9",
   "metadata": {},
   "outputs": [],
   "source": [
    "lg_test_predict = log_best_estimator.predict_proba(X_test)"
   ]
  },
  {
   "cell_type": "code",
   "execution_count": 63,
   "id": "fbefb24f",
   "metadata": {},
   "outputs": [],
   "source": [
    "lg_test_labels = np.where(lg_test_predict[:,1] >= lg_max_score, 1, 0)"
   ]
  },
  {
   "cell_type": "code",
   "execution_count": 64,
   "id": "6d85efe0",
   "metadata": {},
   "outputs": [
    {
     "name": "stdout",
     "output_type": "stream",
     "text": [
      "True -ve : 2549\n",
      "False +ve : 2\n",
      "False -ve : 433\n",
      "True +ve : 55\n",
      "\n"
     ]
    },
    {
     "data": {
      "image/png": "[encoded data removed]",
      "text/plain": [
       "<Figure size 360x288 with 2 Axes>"
      ]
     },
     "metadata": {},
     "output_type": "display_data"
    }
   ],
   "source": [
    "plot_Confusionmatrix(y_test,lg_test_labels)\n",
    "tn, fp, fn, tp = metrics.confusion_matrix(y_test,lg_test_labels).ravel()\n",
    "print(f\"True -ve : {tn}\\nFalse +ve : {fp}\\nFalse -ve : {fn}\\nTrue +ve : {tp}\\n\")"
   ]
  },
  {
   "cell_type": "code",
   "execution_count": 65,
   "id": "4d9f5fc0",
   "metadata": {},
   "outputs": [
    {
     "name": "stdout",
     "output_type": "stream",
     "text": [
      "classification report\n",
      "               precision    recall  f1-score   support\n",
      "\n",
      "     Staying       0.85      1.00      0.92      2551\n",
      "    Attrited       0.96      0.11      0.20       488\n",
      "\n",
      "    accuracy                           0.86      3039\n",
      "   macro avg       0.91      0.56      0.56      3039\n",
      "weighted avg       0.87      0.86      0.81      3039\n",
      "\n"
     ]
    }
   ],
   "source": [
    "y_class_report = metrics.classification_report(y_test,lg_test_labels,zero_division=1, target_names=[\"Staying\",\"Attrited\"])\n",
    "print(\"classification report\\n\", y_class_report )"
   ]
  },
  {
   "cell_type": "markdown",
   "id": "d0dbe3f9",
   "metadata": {},
   "source": [
    "### Evaluation"
   ]
  },
  {
   "cell_type": "markdown",
   "id": "ab3963ef",
   "metadata": {},
   "source": [
    "As I am focusing on recall, which is False -ve, this model can not predict the defaults correctly. Meaning those who are actually attrited are predicted as existing.This tells model has no ability to predict the attried customer."
   ]
  },
  {
   "cell_type": "markdown",
   "id": "e0f5334e",
   "metadata": {},
   "source": [
    "### Random Forest Classification"
   ]
  },
  {
   "cell_type": "markdown",
   "id": "53404a7b",
   "metadata": {},
   "source": [
    "Random Forest consists of an ensemble of decision trees. The algorithm splits the dataset into independent random subsamples and selects subsamples of features, and fits a decision tree classfier to each subsample. It then averages the estimates to improve the prediction accuracy.\n",
    "\n",
    "I am using the class sklearn.ensemble.RandomForestClassifier from scikit learn. Based on our research, there are several hyperparameters that we will need to adjust:\n",
    "\n",
    "  n_estimator: the number of trees in the forest<br/>\n",
    "  min_samples_split:the minimum number of data points required to be at a leaf node<br/>\n",
    "  max_features: the number of features to consider when looking for the best split<br/>\n",
    "  max_depth: the maximum depth of the tree"
   ]
  },
  {
   "cell_type": "code",
   "execution_count": 66,
   "id": "9c5e51d2",
   "metadata": {},
   "outputs": [],
   "source": [
    "#Setting ranges for each parameter.\n",
    "clf__max_depth = [int(x) for x in np.linspace(5, 50, num = 10)]\n",
    "rfc_params = {\"clf__n_estimators\": np.linspace(start = 100, stop = 1000, num = 10,dtype=int),\n",
    "              \"clf__min_samples_split\": np.arange(2,6), \n",
    "              \"clf__max_features\":[\"sqrt\", \"log2\"],\n",
    "              \"clf__max_depth\": clf__max_depth\n",
    "             }"
   ]
  },
  {
   "cell_type": "code",
   "execution_count": 67,
   "id": "2a5c6b7c",
   "metadata": {},
   "outputs": [
    {
     "name": "stdout",
     "output_type": "stream",
     "text": [
      "Fitting 5 folds for each of 120 candidates, totalling 600 fits\n",
      "Best parameters for  RandomForestClassifier(n_jobs=-1, random_state=1)\n",
      "{'clf__n_estimators': 1000, 'clf__min_samples_split': 2, 'clf__max_features': 'log2', 'clf__max_depth': 30}\n",
      "\n",
      "Best train roc_auc score: 0.96\n",
      "Wall time: 8min 21s\n"
     ]
    }
   ],
   "source": [
    "%%time\n",
    "classifier=ensemble.RandomForestClassifier(random_state=1,n_jobs=-1)\n",
    "rfc_best_estimator = rand_search(X_train,y_train, rfc_params, classifier,n_iter=120) #apply random search"
   ]
  },
  {
   "cell_type": "code",
   "execution_count": 68,
   "id": "2a83159f",
   "metadata": {},
   "outputs": [
    {
     "name": "stdout",
     "output_type": "stream",
     "text": [
      "Wall time: 1min 21s\n"
     ]
    }
   ],
   "source": [
    "%%time\n",
    "cv_scores_rfc = (\n",
    "  model_selection.cross_val_score(rfc_best_estimator,\n",
    "                                  X_train,\n",
    "                                  y_train,\n",
    "                                  scoring=\"roc_auc\",\n",
    "                                  cv=cross_validator,\n",
    "                                  n_jobs=-1))"
   ]
  },
  {
   "cell_type": "code",
   "execution_count": 69,
   "id": "f9065822",
   "metadata": {},
   "outputs": [
    {
     "name": "stdout",
     "output_type": "stream",
     "text": [
      " Performance on training set is in range between 0.956 to 0.976,with average roc_auc:0.826\n"
     ]
    }
   ],
   "source": [
    "cv_quantiles = np.quantile(a=cv_scores_rfc,q=[0.025,0.975])\n",
    "print(f\" Performance on training set is in range between {cv_quantiles[0]:.3f} to {cv_quantiles[1]:.3f},with average roc_auc:{lr_cv_scores.mean():.3f}\")"
   ]
  },
  {
   "cell_type": "code",
   "execution_count": 70,
   "id": "f40c9892",
   "metadata": {},
   "outputs": [
    {
     "data": {
      "text/plain": [
       "<AxesSubplot:ylabel='Count'>"
      ]
     },
     "execution_count": 70,
     "metadata": {},
     "output_type": "execute_result"
    },
    {
     "data": {
      "image/png": "[encoded data removed]",
      "text/plain": [
       "<Figure size 432x288 with 1 Axes>"
      ]
     },
     "metadata": {},
     "output_type": "display_data"
    }
   ],
   "source": [
    "sns.set_style(\"darkgrid\")\n",
    "sns.histplot(cv_scores_rfc, bins=10)"
   ]
  },
  {
   "cell_type": "markdown",
   "id": "0caf488f",
   "metadata": {},
   "source": [
    "### Get threshold using train set"
   ]
  },
  {
   "cell_type": "code",
   "execution_count": 71,
   "id": "c8e27022",
   "metadata": {},
   "outputs": [],
   "source": [
    "y_proba_rfc = rfc_best_estimator.predict_proba(X_train)\n",
    "y_proba_rfc = y_proba_rfc[:,1]"
   ]
  },
  {
   "cell_type": "code",
   "execution_count": 72,
   "id": "1cb8e09c",
   "metadata": {},
   "outputs": [
    {
     "data": {
      "image/png": "[encoded data removed]",
      "text/plain": [
       "<Figure size 432x288 with 1 Axes>"
      ]
     },
     "metadata": {},
     "output_type": "display_data"
    }
   ],
   "source": [
    "rfc_prec, rfc_rec, rfc_f1, rfc_roc_auc = threshhold_and_plot(y_train,y_proba_rfc)"
   ]
  },
  {
   "cell_type": "code",
   "execution_count": 73,
   "id": "e634fc09",
   "metadata": {},
   "outputs": [
    {
     "name": "stdout",
     "output_type": "stream",
     "text": [
      "max_roc_auc is: 1.0\n"
     ]
    }
   ],
   "source": [
    "rfc_thresh_idx, rfc_max_score = max_thresh(rfc_roc_auc)\n",
    "print(f'max_roc_auc is: {rfc_max_score}')"
   ]
  },
  {
   "cell_type": "markdown",
   "id": "37289c38",
   "metadata": {},
   "source": [
    "### Apply threshold on test set"
   ]
  },
  {
   "cell_type": "code",
   "execution_count": 74,
   "id": "46959c08",
   "metadata": {},
   "outputs": [],
   "source": [
    "rfc_test_predict = rfc_best_estimator.predict_proba(X_test)"
   ]
  },
  {
   "cell_type": "code",
   "execution_count": 75,
   "id": "5c4a0fcb",
   "metadata": {},
   "outputs": [],
   "source": [
    "rfc_test_labels = np.where(rfc_test_predict[:,1] >= rfc_max_score, 1, 0)"
   ]
  },
  {
   "cell_type": "code",
   "execution_count": 76,
   "id": "8ac734f0",
   "metadata": {},
   "outputs": [
    {
     "name": "stdout",
     "output_type": "stream",
     "text": [
      "True -ve : 2551\n",
      "False +ve : 0\n",
      "False -ve : 488\n",
      "True +ve : 0\n",
      "\n"
     ]
    },
    {
     "data": {
      "image/png": "[encoded data removed]",
      "text/plain": [
       "<Figure size 360x288 with 2 Axes>"
      ]
     },
     "metadata": {},
     "output_type": "display_data"
    }
   ],
   "source": [
    "plot_Confusionmatrix(y_test,rfc_test_labels)\n",
    "tn, fp, fn, tp = metrics.confusion_matrix(y_test,rfc_test_labels).ravel()\n",
    "print(f\"True -ve : {tn}\\nFalse +ve : {fp}\\nFalse -ve : {fn}\\nTrue +ve : {tp}\\n\")"
   ]
  },
  {
   "cell_type": "code",
   "execution_count": 77,
   "id": "e5ef57d3",
   "metadata": {},
   "outputs": [
    {
     "name": "stdout",
     "output_type": "stream",
     "text": [
      "classification report\n",
      "               precision    recall  f1-score   support\n",
      "\n",
      "     Staying       0.84      1.00      0.91      2551\n",
      "    Attrited       1.00      0.00      0.00       488\n",
      "\n",
      "    accuracy                           0.84      3039\n",
      "   macro avg       0.92      0.50      0.46      3039\n",
      "weighted avg       0.87      0.84      0.77      3039\n",
      "\n"
     ]
    }
   ],
   "source": [
    "y_class_report = metrics.classification_report(y_test,rfc_test_labels,zero_division=1, target_names=[\"Staying\",\"Attrited\"])\n",
    "print(\"classification report\\n\", y_class_report )"
   ]
  },
  {
   "cell_type": "markdown",
   "id": "bbf5537d",
   "metadata": {},
   "source": [
    "### Evaluation"
   ]
  },
  {
   "cell_type": "markdown",
   "id": "505de87a",
   "metadata": {},
   "source": [
    "This tells model has no ability to predict the attried customer, False -ve are predicted as non-defaults. This performed poorly in comparing to logistic regression. \n",
    "Grid search may yield better results, can also try feature imporatnce and apply top 3 or 5 features to get better results. \n",
    "ROC_AUC is 1.0, this means there is 100% chance that the model will be able to distinguish between default class and non-default class. however is proved incorrect in confusion matrix."
   ]
  },
  {
   "cell_type": "markdown",
   "id": "3be1da2f",
   "metadata": {},
   "source": [
    "### KNeighbours Classification"
   ]
  },
  {
   "cell_type": "markdown",
   "id": "5f222e9b",
   "metadata": {},
   "source": [
    "KNeighbours classfication chooses K nearest data points to the unlabeled data point then ask the K neighbours to \"vote\" for the classes that the point belongs to.\n",
    "\n",
    "I am using the class sklearn.neighbors.KNeighborsClassifier for the implementation. Important hyperparameters that I will adjust are shown as follows:\n",
    "\n",
    "  n_neighbors: the number of closest neigbours<br/>\n",
    "  weights: weight function in prediction<br/>\n",
    "  p: Power parameter for the Minkowski metric. When p = 1, this is equivalent to using manhattan_distance (l1), and euclidean_distance (l2) for p = 2"
   ]
  },
  {
   "cell_type": "code",
   "execution_count": 78,
   "id": "9057467c",
   "metadata": {},
   "outputs": [],
   "source": [
    "#Setting ranges for the hyperparameters are shown below.\n",
    "knn_params = {\"clf__n_neighbors\":[2,5,10,87,100],\n",
    "              \"clf__weights\":[\"uniform\", \"distance\"],\n",
    "              \"clf__p\":[1,2] \n",
    "             }"
   ]
  },
  {
   "cell_type": "code",
   "execution_count": 79,
   "id": "3782fe5a",
   "metadata": {},
   "outputs": [
    {
     "name": "stdout",
     "output_type": "stream",
     "text": [
      "Wall time: 0 ns\n",
      "Fitting 5 folds for each of 20 candidates, totalling 100 fits\n",
      "Best parameters for  KNeighborsClassifier(n_jobs=-1)\n",
      "{'clf__n_neighbors': 100, 'clf__p': 1, 'clf__weights': 'distance'}\n",
      "\n",
      "Best train roc_auc score: 0.89\n"
     ]
    }
   ],
   "source": [
    "%time\n",
    "classifier = neighbors.KNeighborsClassifier(n_jobs=-1)\n",
    "knn_best_estimator = grid_search(X_train,y_train, knn_params, classifier)"
   ]
  },
  {
   "cell_type": "code",
   "execution_count": 80,
   "id": "e4178315",
   "metadata": {},
   "outputs": [
    {
     "name": "stdout",
     "output_type": "stream",
     "text": [
      "Wall time: 4.34 s\n"
     ]
    }
   ],
   "source": [
    "%%time\n",
    "cv_scores_knn = (\n",
    "  model_selection.cross_val_score(knn_best_estimator,\n",
    "                                  X_train,\n",
    "                                  y_train,\n",
    "                                  scoring=\"roc_auc\",\n",
    "                                  cv=cross_validator,\n",
    "                                  n_jobs=-1))"
   ]
  },
  {
   "cell_type": "code",
   "execution_count": 81,
   "id": "b7e233d2",
   "metadata": {},
   "outputs": [
    {
     "name": "stdout",
     "output_type": "stream",
     "text": [
      " Performance on training set is in range between 0.862 to 0.910,with average roc_auc:0.826\n"
     ]
    }
   ],
   "source": [
    "cv_quantiles = np.quantile(a=cv_scores_knn,q=[0.025,0.975])\n",
    "print(f\" Performance on training set is in range between {cv_quantiles[0]:.3f} to {cv_quantiles[1]:.3f},with average roc_auc:{lr_cv_scores.mean():.3f}\")"
   ]
  },
  {
   "cell_type": "code",
   "execution_count": 82,
   "id": "94105095",
   "metadata": {},
   "outputs": [
    {
     "data": {
      "text/plain": [
       "<AxesSubplot:ylabel='Count'>"
      ]
     },
     "execution_count": 82,
     "metadata": {},
     "output_type": "execute_result"
    },
    {
     "data": {
      "image/png": "[encoded data removed]",
      "text/plain": [
       "<Figure size 432x288 with 1 Axes>"
      ]
     },
     "metadata": {},
     "output_type": "display_data"
    }
   ],
   "source": [
    "sns.set_style(\"darkgrid\")\n",
    "sns.histplot(cv_scores_knn, bins=10)"
   ]
  },
  {
   "cell_type": "markdown",
   "id": "02184f4a",
   "metadata": {},
   "source": [
    "CV distrubition is slightly left skwed,may be data scaling in not correct."
   ]
  },
  {
   "cell_type": "markdown",
   "id": "5dd0a0f6",
   "metadata": {},
   "source": [
    "### Get threshold using train set"
   ]
  },
  {
   "cell_type": "code",
   "execution_count": 83,
   "id": "69c59d79",
   "metadata": {},
   "outputs": [],
   "source": [
    "y_proba_kn = knn_best_estimator.predict_proba(X_train)\n",
    "y_proba_kn = y_proba_kn[:,1]"
   ]
  },
  {
   "cell_type": "code",
   "execution_count": 84,
   "id": "e2a34fce",
   "metadata": {},
   "outputs": [
    {
     "data": {
      "image/png": "[encoded data removed]",
      "text/plain": [
       "<Figure size 432x288 with 1 Axes>"
      ]
     },
     "metadata": {},
     "output_type": "display_data"
    }
   ],
   "source": [
    "kn_prec, kn_rec, kn_f1, kn_roc_auc = threshhold_and_plot(y_train,y_proba_kn)"
   ]
  },
  {
   "cell_type": "code",
   "execution_count": 85,
   "id": "1457c360",
   "metadata": {},
   "outputs": [
    {
     "name": "stdout",
     "output_type": "stream",
     "text": [
      "Wall time: 4.79 s\n"
     ]
    }
   ],
   "source": [
    "%%time\n",
    "cv_scores_knn = (\n",
    "  model_selection.cross_val_score(knn_best_estimator,\n",
    "                                  X_train,\n",
    "                                  y_train,\n",
    "                                  scoring=\"roc_auc\",\n",
    "                                  cv=cross_validator,\n",
    "                                  n_jobs=-1))"
   ]
  },
  {
   "cell_type": "code",
   "execution_count": 86,
   "id": "756a547c",
   "metadata": {},
   "outputs": [
    {
     "name": "stdout",
     "output_type": "stream",
     "text": [
      " Performance on training set is in range between 0.862 to 0.910,with average roc_auc:0.826\n"
     ]
    }
   ],
   "source": [
    "cv_quantiles = np.quantile(a=cv_scores_knn,q=[0.025,0.975])\n",
    "print(f\" Performance on training set is in range between {cv_quantiles[0]:.3f} to {cv_quantiles[1]:.3f},with average roc_auc:{lr_cv_scores.mean():.3f}\")"
   ]
  },
  {
   "cell_type": "code",
   "execution_count": 87,
   "id": "75bc8711",
   "metadata": {},
   "outputs": [
    {
     "data": {
      "text/plain": [
       "<AxesSubplot:ylabel='Count'>"
      ]
     },
     "execution_count": 87,
     "metadata": {},
     "output_type": "execute_result"
    },
    {
     "data": {
      "image/png": "[encoded data removed]",
      "text/plain": [
       "<Figure size 432x288 with 1 Axes>"
      ]
     },
     "metadata": {},
     "output_type": "display_data"
    }
   ],
   "source": [
    "sns.set_style(\"darkgrid\")\n",
    "sns.histplot(cv_scores_knn, bins=10)"
   ]
  },
  {
   "cell_type": "code",
   "execution_count": 88,
   "id": "01d5940f",
   "metadata": {},
   "outputs": [
    {
     "name": "stdout",
     "output_type": "stream",
     "text": [
      "max_roc_auc is: 1.0\n"
     ]
    }
   ],
   "source": [
    "kn_thresh_idx, kn_max_score = max_thresh(kn_roc_auc)\n",
    "print(f'max_roc_auc is: {kn_max_score}')"
   ]
  },
  {
   "cell_type": "markdown",
   "id": "c021a044",
   "metadata": {},
   "source": [
    "### Apply threshold on test set"
   ]
  },
  {
   "cell_type": "code",
   "execution_count": 89,
   "id": "e7f02218",
   "metadata": {},
   "outputs": [],
   "source": [
    "kn_test_predict = knn_best_estimator.predict_proba(X_test)"
   ]
  },
  {
   "cell_type": "code",
   "execution_count": 90,
   "id": "d4619102",
   "metadata": {},
   "outputs": [],
   "source": [
    "kn_test_labels = np.where(kn_test_predict[:,1] >= kn_max_score, 1, 0)"
   ]
  },
  {
   "cell_type": "code",
   "execution_count": 91,
   "id": "4ca3953b",
   "metadata": {},
   "outputs": [
    {
     "name": "stdout",
     "output_type": "stream",
     "text": [
      "True -ve : 2549\n",
      "False +ve : 2\n",
      "False -ve : 433\n",
      "True +ve : 55\n",
      "\n"
     ]
    },
    {
     "data": {
      "image/png": "[encoded data removed]",
      "text/plain": [
       "<Figure size 360x288 with 2 Axes>"
      ]
     },
     "metadata": {},
     "output_type": "display_data"
    }
   ],
   "source": [
    "plot_Confusionmatrix(y_test,kn_test_labels)\n",
    "tn, fp, fn, tp = metrics.confusion_matrix(y_test,lg_test_labels).ravel()\n",
    "print(f\"True -ve : {tn}\\nFalse +ve : {fp}\\nFalse -ve : {fn}\\nTrue +ve : {tp}\\n\")"
   ]
  },
  {
   "cell_type": "code",
   "execution_count": 92,
   "id": "4566c50d",
   "metadata": {},
   "outputs": [
    {
     "name": "stdout",
     "output_type": "stream",
     "text": [
      "classification report\n",
      "               precision    recall  f1-score   support\n",
      "\n",
      "     Staying       0.84      1.00      0.91      2551\n",
      "    Attrited       1.00      0.00      0.00       488\n",
      "\n",
      "    accuracy                           0.84      3039\n",
      "   macro avg       0.92      0.50      0.46      3039\n",
      "weighted avg       0.87      0.84      0.77      3039\n",
      "\n"
     ]
    }
   ],
   "source": [
    "y_class_report = metrics.classification_report(y_test,kn_test_labels,zero_division=1, target_names=[\"Staying\",\"Attrited\"])\n",
    "print(\"classification report\\n\", y_class_report )"
   ]
  },
  {
   "cell_type": "markdown",
   "id": "a2054b6f",
   "metadata": {},
   "source": [
    "### Evaluation"
   ]
  },
  {
   "cell_type": "markdown",
   "id": "fe2dee1f",
   "metadata": {},
   "source": [
    "KNeighbours is interesting.performed better in comparing with Logistic and Random Forest, as False -ve rate is gone less by .02 and true +ve rate is went up.However true -ve, which customer stayed are identified as attrited has gone up, but this is less priority, as customer is staying. \n",
    "\n",
    "Max roc_auc is perfect 1,still it is potential that all may be predicted as true +ves meaning, there is attrition, Actually customers are leaving.\n",
    "\n",
    "This model is overfitting, when there is new data, model prediction can not be trusted."
   ]
  },
  {
   "cell_type": "markdown",
   "id": "a8d83503",
   "metadata": {},
   "source": [
    "### XGBoost Classification"
   ]
  },
  {
   "cell_type": "markdown",
   "id": "1a11e105",
   "metadata": {},
   "source": [
    "XGBoost uses gradient boosting technique, and is on the priciples of decison tree ensemble, which a set of classification and regression trees. It is similar to Random Forest difference is how the algorithms train the models.\n",
    "\n",
    "The hyperparameters those need to fine-tune are as follows:\n",
    "\n",
    "  learning_rate: the learning rate of gradient boosting<br/>\n",
    "  max_depth:maximum tree depth<br/>\n",
    "  min_child_weight: minimum sum of instance weight(hessian) needed in a child. Useful to reduce overfitting<br/>\n",
    "  reg_lambda: L2 regularisation"
   ]
  },
  {
   "cell_type": "code",
   "execution_count": 93,
   "id": "517a5e6d",
   "metadata": {},
   "outputs": [],
   "source": [
    "#Settingranges for the hyperparameter are shown below.\n",
    "xgb_params = {\"clf__learning_rate\": [0.05, 0.1, 0.2, 0.3, 0.4, 0.5],\n",
    "               \"clf__max_depth\": np.arange(2,7),\n",
    "               \"clf__min_child_weight\": np.arange(1,11),\n",
    "               \"clf__reg_lambda\": np.linspace(0.1,1,num=10)\n",
    "              }"
   ]
  },
  {
   "cell_type": "code",
   "execution_count": 94,
   "id": "a378f730",
   "metadata": {},
   "outputs": [
    {
     "name": "stdout",
     "output_type": "stream",
     "text": [
      "Fitting 5 folds for each of 120 candidates, totalling 600 fits\n",
      "Best parameters for  XGBClassifier(base_score=None, booster='gbtree', colsample_bylevel=None,\n",
      "              colsample_bynode=None, colsample_bytree=None,\n",
      "              enable_categorical=False, gamma=None, gpu_id=None,\n",
      "              importance_type=None, interaction_constraints=None,\n",
      "              learning_rate=None, max_delta_step=None, max_depth=None,\n",
      "              min_child_weight=None, missing=nan, monotone_constraints=None,\n",
      "              n_estimators=100, n_jobs=-1, num_parallel_tree=None,\n",
      "              predictor=None, random_state=None, reg_alpha=None,\n",
      "              reg_lambda=None, scale_pos_weight=None, subsample=None,\n",
      "              tree_method=None, use_label_encoder=False,\n",
      "              validate_parameters=None, verbosity=0)\n",
      "{'clf__reg_lambda': 0.4, 'clf__min_child_weight': 2, 'clf__max_depth': 5, 'clf__learning_rate': 0.1}\n",
      "\n",
      "Best train roc_auc score: 0.97\n",
      "Wall time: 1min 39s\n"
     ]
    }
   ],
   "source": [
    "%%time\n",
    "classifier = XGBClassifier(booster=\"gbtree\", verbosity=0, use_label_encoder=False,n_jobs=-1)\n",
    "\n",
    "xgb_best_estimator = rand_search(X_train,y_train, xgb_params,classifier,n_iter=120)"
   ]
  },
  {
   "cell_type": "code",
   "execution_count": 95,
   "id": "5182561d",
   "metadata": {},
   "outputs": [
    {
     "name": "stdout",
     "output_type": "stream",
     "text": [
      "Wall time: 1min 21s\n"
     ]
    }
   ],
   "source": [
    "%%time\n",
    "cv_scores_xgb = (\n",
    "  model_selection.cross_val_score(rfc_best_estimator,\n",
    "                                  X_train,\n",
    "                                  y_train,\n",
    "                                  scoring=\"roc_auc\",\n",
    "                                  cv=cross_validator,\n",
    "                                  n_jobs=-1))"
   ]
  },
  {
   "cell_type": "code",
   "execution_count": 96,
   "id": "bc16d5fe",
   "metadata": {},
   "outputs": [
    {
     "name": "stdout",
     "output_type": "stream",
     "text": [
      " Performance on training set is in range between 0.956 to 0.976,with average roc_auc:0.826\n"
     ]
    }
   ],
   "source": [
    "cv_quantiles = np.quantile(a=cv_scores_xgb,q=[0.025,0.975])\n",
    "print(f\" Performance on training set is in range between {cv_quantiles[0]:.3f} to {cv_quantiles[1]:.3f},with average roc_auc:{lr_cv_scores.mean():.3f}\")"
   ]
  },
  {
   "cell_type": "code",
   "execution_count": 97,
   "id": "f6404849",
   "metadata": {},
   "outputs": [
    {
     "data": {
      "text/plain": [
       "<AxesSubplot:ylabel='Count'>"
      ]
     },
     "execution_count": 97,
     "metadata": {},
     "output_type": "execute_result"
    },
    {
     "data": {
      "image/png": "[encoded data removed]",
      "text/plain": [
       "<Figure size 432x288 with 1 Axes>"
      ]
     },
     "metadata": {},
     "output_type": "display_data"
    }
   ],
   "source": [
    "sns.set_style(\"darkgrid\")\n",
    "sns.histplot(cv_scores_knn, bins=10)"
   ]
  },
  {
   "cell_type": "markdown",
   "id": "f380566a",
   "metadata": {},
   "source": [
    "### Get threshold using train set"
   ]
  },
  {
   "cell_type": "code",
   "execution_count": 98,
   "id": "af50df78",
   "metadata": {},
   "outputs": [],
   "source": [
    "#use train data to get threshold for roc_auc\n",
    "y_proba_xgb = xgb_best_estimator.predict_proba(X_train)\n",
    "y_proba_xgb = y_proba_xgb[:,1]"
   ]
  },
  {
   "cell_type": "code",
   "execution_count": 99,
   "id": "fe7a49d4",
   "metadata": {},
   "outputs": [
    {
     "data": {
      "image/png": "[encoded data removed]",
      "text/plain": [
       "<Figure size 432x288 with 1 Axes>"
      ]
     },
     "metadata": {},
     "output_type": "display_data"
    }
   ],
   "source": [
    "xgb_prec, xgb_rec, xgb_f1, xgb_roc_auc = threshhold_and_plot(y_train,y_proba_xgb)"
   ]
  },
  {
   "cell_type": "code",
   "execution_count": 100,
   "id": "8535cb2a",
   "metadata": {},
   "outputs": [
    {
     "name": "stdout",
     "output_type": "stream",
     "text": [
      "max_roc_auc is: 0.9545181452353787\n"
     ]
    }
   ],
   "source": [
    "xgb_thresh_idx, xgb_max_score = max_thresh(xgb_roc_auc)\n",
    "print(f'max_roc_auc is: {xgb_max_score}')"
   ]
  },
  {
   "cell_type": "markdown",
   "id": "04460cfa",
   "metadata": {},
   "source": [
    "### Apply threshold on test set"
   ]
  },
  {
   "cell_type": "code",
   "execution_count": 101,
   "id": "39a66385",
   "metadata": {},
   "outputs": [],
   "source": [
    "xgb_test_predict = xgb_best_estimator.predict_proba(X_test)"
   ]
  },
  {
   "cell_type": "code",
   "execution_count": 102,
   "id": "cd9c7a8c",
   "metadata": {},
   "outputs": [],
   "source": [
    "xgb_test_labels = np.where(xgb_test_predict[:,1] >= xgb_max_score, 1, 0)"
   ]
  },
  {
   "cell_type": "code",
   "execution_count": 103,
   "id": "71e82219",
   "metadata": {},
   "outputs": [
    {
     "name": "stdout",
     "output_type": "stream",
     "text": [
      "True -ve : 2549\n",
      "False +ve : 2\n",
      "False -ve : 433\n",
      "True +ve : 55\n",
      "\n"
     ]
    },
    {
     "data": {
      "image/png": "[encoded data removed]",
      "text/plain": [
       "<Figure size 360x288 with 2 Axes>"
      ]
     },
     "metadata": {},
     "output_type": "display_data"
    }
   ],
   "source": [
    "plot_Confusionmatrix(y_test,xgb_test_labels)\n",
    "tn, fp, fn, tp = metrics.confusion_matrix(y_test,lg_test_labels).ravel()\n",
    "print(f\"True -ve : {tn}\\nFalse +ve : {fp}\\nFalse -ve : {fn}\\nTrue +ve : {tp}\\n\")"
   ]
  },
  {
   "cell_type": "code",
   "execution_count": 104,
   "id": "eee3e641",
   "metadata": {},
   "outputs": [
    {
     "name": "stdout",
     "output_type": "stream",
     "text": [
      "classification report\n",
      "               precision    recall  f1-score   support\n",
      "\n",
      "     Staying       0.88      1.00      0.94      2551\n",
      "    Attrited       0.99      0.29      0.45       488\n",
      "\n",
      "    accuracy                           0.89      3039\n",
      "   macro avg       0.93      0.64      0.69      3039\n",
      "weighted avg       0.90      0.89      0.86      3039\n",
      "\n"
     ]
    }
   ],
   "source": [
    "y_class_report = metrics.classification_report(y_test,xgb_test_labels,zero_division=1, target_names=[\"Staying\",\"Attrited\"])\n",
    "print(\"classification report\\n\", y_class_report )"
   ]
  },
  {
   "cell_type": "markdown",
   "id": "bcbf060a",
   "metadata": {},
   "source": [
    "### Evaluation"
   ]
  },
  {
   "cell_type": "markdown",
   "id": "86c70a89",
   "metadata": {},
   "source": [
    "Comparing all other model this model performed fairly well, as false -ve rate is decreased by .02 comparing with logistic and random forest.However is I can see true +ve rate are increased. This brings model can fairly mke mistake in onseen data, in comparing to other model."
   ]
  },
  {
   "cell_type": "markdown",
   "id": "189cf20a",
   "metadata": {},
   "source": [
    "### ROC_AUC Curve Comparison"
   ]
  },
  {
   "cell_type": "code",
   "execution_count": 105,
   "id": "ca1d6277",
   "metadata": {},
   "outputs": [],
   "source": [
    "def calc_threshold(tpr,fpr,thresholds,clf_name):\n",
    "    \n",
    "    # locate the index\n",
    "    idx = np.argmax(tpr - fpr)\n",
    "    #find the threshold at max index\n",
    "    max_threshold = round(thresholds[idx],4)\n",
    "    print('Best Threshold for {0}={1} and index={2}'.format(clf_name,thresholds[idx], idx))\n",
    "    roc_auc = round(metrics.auc(fpr, tpr),4)\n",
    "    return idx,roc_auc"
   ]
  },
  {
   "cell_type": "code",
   "execution_count": 106,
   "id": "f2c8dc1c",
   "metadata": {},
   "outputs": [],
   "source": [
    "from numpy import sqrt\n",
    "from numpy import argmax\n",
    "def ROC_AUC_Comparison(X_data,y_data):\n",
    "\n",
    "    y_proba_knn = knn_best_estimator.predict_proba(X_data)\n",
    "    y_proba_rfc = rfc_best_estimator.predict_proba(X_data)\n",
    "    y_proba_xgb = xgb_best_estimator.predict_proba(X_data)\n",
    "    y_scores_log = log_best_estimator.decision_function(X_data)\n",
    "\n",
    "    fpr_knn, tpr_knn, knn_thresholds = metrics.roc_curve(y_data, y_proba_knn[:,1])\n",
    "    fpr_rfc, tpr_rfc, rfc_thresholds = metrics.roc_curve(y_data, y_proba_rfc[:,1])\n",
    "    fpr_xgb, tpr_xgb, xgb_thresholds = metrics.roc_curve(y_data, y_proba_xgb[:,1])\n",
    "    fpr_log, tpr_log, log_thresholds = metrics.roc_curve(y_data, y_scores_log)\n",
    "\n",
    "    plt.figure(figsize=(8,8))\n",
    "    plt.xlim([-0.01, 1.00])\n",
    "    plt.ylim([-0.01, 1.01])\n",
    "    plt.plot([0,1], [0,1], linestyle='--')\n",
    "\n",
    "    ix,roc_auc = calc_threshold(tpr_knn,fpr_knn,knn_thresholds,'KNeighbors')\n",
    "    plt.plot(fpr_knn, tpr_knn, lw=1,label='KNeighbors: roc_auc - {0}'.format(roc_auc), color='blue')\n",
    "    plt.scatter(fpr_knn[ix], tpr_knn[ix], marker='o', color='blue')\n",
    "\n",
    "    ix,roc_auc = calc_threshold(tpr_rfc,fpr_rfc,rfc_thresholds,'RandForest')\n",
    "    plt.plot(fpr_rfc, tpr_rfc, lw=1, label=('RandForest: roc_auc - {0}'.format(roc_auc)), color='orange')\n",
    "    plt.scatter(fpr_rfc[ix], tpr_rfc[ix], marker='o', color='orange')\n",
    "\n",
    "    xgb_thresholds=np.float64(xgb_thresholds)\n",
    "    ix,roc_auc = calc_threshold(tpr_xgb,fpr_xgb,xgb_thresholds,'XGBoost')\n",
    "    plt.plot(fpr_xgb, tpr_xgb, lw=1, label=('XGBoost: roc_auc - {0}'.format(roc_auc)), color='yellow')\n",
    "    plt.scatter(fpr_xgb[ix], tpr_xgb[ix], marker='o', color='yellow')\n",
    "\n",
    "    ix,roc_auc = calc_threshold(tpr_log,fpr_log,log_thresholds,'LogRegr')\n",
    "    plt.plot(fpr_log, tpr_log, lw=1, label=('LogRegr: roc_auc - {0}'.format(roc_auc)), color='red')\n",
    "    plt.scatter(fpr_log[ix], tpr_log[ix], marker='o', color='red')\n",
    "\n",
    "    plt.xlabel('False Positive Rate', fontsize=16)\n",
    "    plt.ylabel('True Positive Rate', fontsize=16)\n",
    "    plt.title('ROC curve on train set', fontsize=16)\n",
    "    plt.legend(loc='lower right', fontsize=13)\n",
    "\n",
    "    plt.show();"
   ]
  },
  {
   "cell_type": "code",
   "execution_count": 107,
   "id": "1704cb8f",
   "metadata": {},
   "outputs": [
    {
     "name": "stdout",
     "output_type": "stream",
     "text": [
      "Best Threshold for KNeighbors=1.0 and index=1\n",
      "Best Threshold for RandForest=0.608 and index=247\n",
      "Best Threshold for XGBoost=0.1978052407503128 and index=288\n",
      "Best Threshold for LogRegr=-1.5224458338354907 and index=760\n"
     ]
    },
    {
     "data": {
      "image/png": "[encoded data removed]",
      "text/plain": [
       "<Figure size 576x576 with 1 Axes>"
      ]
     },
     "metadata": {},
     "output_type": "display_data"
    }
   ],
   "source": [
    "## ROC_AUC Comparison on Train set\n",
    "ROC_AUC_Comparison(X_train,y_train)"
   ]
  },
  {
   "cell_type": "markdown",
   "id": "2b639c70",
   "metadata": {},
   "source": [
    "On train data Kneighbors and Randomforest has perfect 1.0.let me see on test data, hoping this is not overfitting.\n",
    "Xgboost with 0.99 follows and least is Logistic regression."
   ]
  },
  {
   "cell_type": "code",
   "execution_count": 108,
   "id": "05a00aaa",
   "metadata": {},
   "outputs": [
    {
     "name": "stdout",
     "output_type": "stream",
     "text": [
      "Best Threshold for KNeighbors=0.1740180488256551 and index=330\n",
      "Best Threshold for RandForest=0.168 and index=326\n",
      "Best Threshold for XGBoost=0.11906982213258743 and index=177\n",
      "Best Threshold for LogRegr=-1.454846548190936 and index=328\n"
     ]
    },
    {
     "data": {
      "image/png": "[encoded data removed]",
      "text/plain": [
       "<Figure size 576x576 with 1 Axes>"
      ]
     },
     "metadata": {},
     "output_type": "display_data"
    }
   ],
   "source": [
    "##ROC_AUC Comparison on Test set\n",
    "ROC_AUC_Comparison(X_test,y_test)"
   ]
  },
  {
   "cell_type": "markdown",
   "id": "aff5700d",
   "metadata": {},
   "source": [
    "On comparing train and test roc_curves -\n",
    "* Logistic regression is performing well on both training and test set. With score 0.82 and 0.81.\n",
    "* RandomForest is overfitting with train roc_auc 1 and test roc_auc is .95. Fairly poor performance.\n",
    "* KNeighbors performed very badly on test data with roc_auc 0.71 and train is 1.0\n",
    "* XGboost tops all interms of roc_auc performance with slight difference bwteen train and test roc_auc, those are 0.99 and .96.\n"
   ]
  },
  {
   "cell_type": "markdown",
   "id": "467489f6",
   "metadata": {},
   "source": [
    "With this it can be concluded XGBoost can perform well among all selected model on these kind of data.so it is safe to select XGB classifier for further steps.\n",
    "Let me move with feature imporatnce on XGBoost classifier."
   ]
  },
  {
   "cell_type": "markdown",
   "id": "c6cdcd43",
   "metadata": {},
   "source": [
    "## Summary"
   ]
  },
  {
   "cell_type": "markdown",
   "id": "eca53db3",
   "metadata": {},
   "source": [
    "* XGbooost performed best with grid search along with KNeighbour among the four models with of roc_auc scoring.\n",
    "* XGbooost performed best with 0.99 and 0.96 on train and unseen data set,and interms on improving true +ves and False-ves and with stable true -ve. This shows model can predict majority classes correctly. \n",
    "* Logistic REgression performed well on both train and test set, with roc_auc staying stable at 0.81 and 0.82, model has ability to find majority classes and poor on minority class.\n",
    "* roc_auc for Kneighbors and Randomforest on train set are perfect 1.0. and on test data they are with 0.71 and 0.95, showing KNeighbors and RandomForest are truly overfitting.\n",
    "* However all the four models have enough abilities to predict majoroty classes on unseen data, and this is comfirmed with true -ve rate staying stable across all model. however models have not enough ability to predict minority classes both on train and unseen set, as this is visible with False -ve rate is outstanding.\n",
    "* This shows all of these models can predict customer is existing, however customer leaves the bank. This is the potential concern, I still need to address the concern."
   ]
  },
  {
   "cell_type": "markdown",
   "id": "96c0961e",
   "metadata": {},
   "source": [
    "### Improvemments <a id=AdditionalModels></a>"
   ]
  },
  {
   "cell_type": "markdown",
   "id": "45a66964",
   "metadata": {},
   "source": [
    "I can try using pr_auc metrics, as I am more interested in optimizing recall.Rather using roc_auc where it optimizes true +ves and false +ves. should try tuning model on both Grid and Random search. \n",
    "\n",
    "I may go back and revisit my scaling in EDA and visualize data differently and get the best scaled output.\n",
    "\n",
    "Train the model with bigger dataset, so that it can learn the more on False -ve cases.\n",
    "\n",
    "I used roc_auc is scoring, as it is tpr vs fpr,all  models stayed stable for True+ve and controlled on False +ve cases. I may need to see is there a hybrid pattern of scoring or may be used 'f1' score."
   ]
  },
  {
   "cell_type": "markdown",
   "id": "93a3fded",
   "metadata": {},
   "source": [
    "### Additional Models"
   ]
  },
  {
   "cell_type": "markdown",
   "id": "58182606",
   "metadata": {},
   "source": [
    "I have selected four of the many machine learning models available. It would be interesting to see the results of other models.\n",
    "\n",
    "Along with neural networks, other popular prediction techniques can be applied in combination, such as support vector machine develop hybrid model.\n",
    "\n",
    "Feature importance: With the knowledge of the feature importance, we can run the model on a dataset containing only the important features with the respective thresholds and compare the results."
   ]
  },
  {
   "cell_type": "markdown",
   "id": "b8e4b569",
   "metadata": {},
   "source": [
    "## Recommendations <a id = Recom></a>"
   ]
  },
  {
   "cell_type": "markdown",
   "id": "a09141a5",
   "metadata": {},
   "source": [
    "Lower transcation amount on credit card , less revolving balance , Total number of products held by the customer are an indication that customer will attrite.\n",
    "Lower transcation indicate customer is not using this credit card , Bank may need to consider Cash back, or rewards or some other offers to customer to use the credit card more.\n",
    "\n",
    "  From the EDA \n",
    "* Customers who have had high number of contacts with the bank in the last 12 months have attrited. This needs to be investigated whether there were any issues of customers that were not resolved made customer leaving the bank.\n",
    "* The proportion of income category of attrited customer, it is highly concentrated around 60K - 80K income, followed by Less than 40K income  compare to attrited customers with higher annual income of 80K-120K and over 120K+.\n",
    "* Customers who are inactive for a month show high chances of attrition.Bank should focus on these customers as well.\n",
    "* Customer in age range 36-55 ,who were doctorate or postgraduate  and/or Female attrited more.Reasons need to be further investigated.\n",
    "* customer having more product with the bank he/she is less likely to attrite.This may be indication for Bank to offer different service to customer.\n",
    "* Avg utilization ratio is lower amongst attrited customers."
   ]
  },
  {
   "cell_type": "code",
   "execution_count": null,
   "id": "e138e19f",
   "metadata": {},
   "outputs": [],
   "source": []
  }
 ],
 "metadata": {
  "kernelspec": {
   "display_name": "Python 3",
   "language": "python",
   "name": "python3"
  },
  "language_info": {
   "codemirror_mode": {
    "name": "ipython",
    "version": 3
   },
   "file_extension": ".py",
   "mimetype": "text/x-python",
   "name": "python",
   "nbconvert_exporter": "python",
   "pygments_lexer": "ipython3",
   "version": "3.8.8"
  }
 },
 "nbformat": 4,
 "nbformat_minor": 5
}
