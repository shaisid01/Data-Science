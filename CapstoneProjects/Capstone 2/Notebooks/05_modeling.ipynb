{
 "cells": [
  {
   "cell_type": "markdown",
   "id": "a6ba0b6c",
   "metadata": {},
   "source": [
    "# 4 Training and Modeling Data<a id='4_Training_and_Modeling_Data'></a>"
   ]
  },
  {
   "cell_type": "markdown",
   "id": "1f2e933d",
   "metadata": {},
   "source": [
    "## Contents <a id =\"Content\" > </a>"
   ]
  },
  {
   "cell_type": "markdown",
   "id": "48243509",
   "metadata": {},
   "source": [
    "* [Introduction](#Introduction)\n",
    "* [Imports](#Imports)\n",
    "* [Train Test Split](#Train_Test_Split) \n",
    "* [Training and Modeling](#Training_and_Modeling)\n",
    "    * [Model Selection](#Model_Selection)\n",
    "    * [Evaluation Metrics](#Evaluation-Metrics)\n",
    "        * [Training and Modeling](#Train_and_Model)\n",
    "        * [Hyperparameter Tuning and Model Training](#Hyperparameter_Tuning_Training)\n",
    "            * [Logistic Regression](#Logistic_Regression)\n",
    "            * [Evaluation](#Evaluation)\n",
    "* [Additional Models](#AdditionalModels)\n",
    "* [Summary](#Summary)\n",
    "* [Recommendations](#Recom)"
   ]
  },
  {
   "cell_type": "markdown",
   "id": "86344c79",
   "metadata": {},
   "source": [
    "## Imports <a id=\"Imports\"></a>"
   ]
  },
  {
   "cell_type": "code",
   "execution_count": 1,
   "id": "e39c9cde",
   "metadata": {
    "scrolled": true
   },
   "outputs": [],
   "source": [
    "import pandas as pd\n",
    "import numpy as np\n",
    "\n",
    "from sklearn import metrics\n",
    "from sklearn import pipeline\n",
    "from sklearn import model_selection\n",
    "from sklearn import linear_model\n",
    "from sklearn import ensemble\n",
    "from sklearn import neighbors\n",
    "from xgboost import XGBClassifier\n",
    "\n",
    "#from sklearn.linear_model import LogisticRegression\n",
    "from sklearn.pipeline import Pipeline\n",
    "\n",
    "#from sklearn.model_selection import StratifiedShuffleSplit,GridSearchCV\n",
    "import matplotlib.pyplot as plt\n",
    "\n",
    "# remove warning\n",
    "#import warnings\n",
    "#warnings.filterwarnings(\"ignore\")\n"
   ]
  },
  {
   "cell_type": "code",
   "execution_count": 143,
   "id": "d218fd4a",
   "metadata": {},
   "outputs": [],
   "source": [
    "evaluation = pd.DataFrame(index=[],columns =[])\n",
    "#metrics_comparison = pd.DataFrame(index=[],columns =[])"
   ]
  },
  {
   "cell_type": "code",
   "execution_count": 144,
   "id": "37354456",
   "metadata": {},
   "outputs": [],
   "source": [
    "def threshhold_and_plot(y_test, target, n_points=50, plot=True):\n",
    "    \"\"\"\n",
    "    :param y_test: binary vector of actual targets\n",
    "    :param target: vector of probabilities\n",
    "    :param n_points: number of points to evaluate for a threshold\n",
    "    :param plot: Boolean; whether or not to plot the results\n",
    "    :return: vector of values of precision, recall, F1 for given points\n",
    "    \"\"\"\n",
    "    # plot the value of the metric against the threshold\n",
    "    #plt.figure(figsize=(12,12))\n",
    "    probs = np.linspace(0, 1, n_points)\n",
    "    def make_thresh():  # try n_points = 50 or 100...\n",
    "        # calculate each metric here\n",
    "        precision = [metrics.precision_score(y_test, np.where(target > thresh, 1, 0),zero_division=1)\n",
    "                     for thresh in probs]\n",
    "        recall = [metrics.recall_score(y_test, np.where(target > thresh, 1, 0),zero_division=1)\n",
    "                  for thresh in probs]\n",
    "        f1 = [metrics.f1_score(y_test, np.where(target > thresh, 1, 0),zero_division=1)\n",
    "              for thresh in probs]\n",
    "        roc_auc = [metrics.roc_auc_score(y_test,np.where(target > thresh,1,0))\n",
    "                   for thresh in probs]\n",
    "       \n",
    "        return precision, recall, f1, roc_auc\n",
    "\n",
    "    precision, recall, f1, roc_auc = make_thresh()\n",
    "\n",
    "    \n",
    "    if plot:\n",
    "        plt.plot(probs, precision, label='precision')\n",
    "        plt.plot(probs, recall, label='recall')\n",
    "        plt.plot(probs, f1, label='f1')\n",
    "        plt.plot(probs, roc_auc, label=\"roc auc\")\n",
    "        # plt.plot(probs, pr_auc, label=\"pr auc\")\n",
    "        plt.title(\"Metrics at various thresholds\");\n",
    "        plt.xlabel(\"Probability\");\n",
    "        plt.legend();\n",
    "        return precision, recall, f1, roc_auc\n",
    "    else:\n",
    "        return precision, recall, f1, roc_auc\n",
    "\n",
    "def max_thresh(score_vec):\n",
    "  # can either unpack a tuple or feed in iterable by itself\n",
    "    max_idx = np.argmax(score_vec)\n",
    "    max_score = score_vec[max_idx]\n",
    "    return max_idx, max_score"
   ]
  },
  {
   "cell_type": "code",
   "execution_count": 154,
   "id": "bb720a0b",
   "metadata": {},
   "outputs": [],
   "source": [
    "def make_matrics_score(y_actual,y_predict,title,score=False,y_class_report=False,isTest=False):\n",
    "    \n",
    "    prefix = 'Train_'\n",
    "    mtitle = title + \" on train set\"\n",
    "    if isTest :\n",
    "        prefix = 'Test_'\n",
    "        mtitle = title + \" on test set\"\n",
    "    \n",
    "        \n",
    "    fig, ax = plt.subplots(1, 1)\n",
    "    Con_Mtx = metrics.confusion_matrix(y_actual, y_predict, labels=[0,1], normalize='all')\n",
    "    disp = metrics.ConfusionMatrixDisplay(confusion_matrix=Con_Mtx,display_labels=[\"Staying\",\"Attrited\"])\n",
    "    disp.plot(cmap='Blues',ax=ax)\n",
    "    ax.set_title(mtitle)\n",
    "    plt.tick_params(axis=u'both', which=u'both',length=0)\n",
    "    plt.grid(b=None,axis='both',which='both',visible=False)\n",
    "    plt.show()\n",
    "    \n",
    "    accuracy = metrics.accuracy_score(y_actual, y_predict)\n",
    "    recall = metrics.recall_score(y_actual, y_predict,zero_division=1)\n",
    "    precision = metrics.precision_score(y_actual, y_predict,zero_division=1)\n",
    "    f1 = metrics.f1_score(y_actual, y_predict,zero_division=1)\n",
    "    auc_score = metrics.accuracy_score(y_actual,y_predict)\n",
    "    #pr_auc = metrics.auc(x=recall, y=precision)\n",
    "\n",
    "    r = evaluation.shape[0]\n",
    "    #evaluation.loc[r] = [title, recall, precision,accuracy, f1,auc_score] \n",
    "        \n",
    "    evaluation.loc[title,prefix+'Recall'] = precision\n",
    "    evaluation.loc[title,prefix+'Precision'] = recall\n",
    "    evaluation.loc[title,prefix+'F1'] = f1\n",
    "    evaluation.loc[title,prefix+'Accuracy'] = accuracy\n",
    "    evaluation.loc[title,prefix+'ROC_AUC'] = auc_score\n",
    "    #evaluation.loc[title,prefix+'PR_AUC'] = pr_auc\n",
    "\n",
    "    \n",
    "    #Scores\n",
    "    if score:\n",
    "        #auc_score = metrics.accuracy_score(y_actual,y_predict)\n",
    "        #print(f\"accuracy_score : {auc_score}\\n\")\n",
    "        tn, fp, fn, tp= metrics.confusion_matrix(y_actual,y_predict, labels=[0,1]).ravel()\n",
    "        print(f\"True -ve : {tn}\\nFalse +ve : {fp}\\nFalse -ve : {fn}\\nTrue +ve : {tp}\\n\")\n",
    "    \n",
    "    #classification_report\n",
    "    if y_class_report:\n",
    "        y_class_report = metrics.classification_report(y_actual, y_predict,zero_division=1, target_names=[\"not 1\", \"1\"])\n",
    "        print(\"classification report\\n\", y_class_report )\n",
    "    return "
   ]
  },
  {
   "cell_type": "code",
   "execution_count": null,
   "id": "8595acd6",
   "metadata": {},
   "outputs": [],
   "source": [
    "# def estimate_with_threshold(title,estimator,actuals,target,isTest=False,thresh=1):\n",
    "    \n",
    "    #y_pred = estimator.predict(actuals)\n",
    "    \n",
    "    y_proba = estimator.predict_proba(actuals)\n",
    "    y_proba = y_proba[:,1]\n",
    "    #get matrics of threshold and plot\n",
    "    precision,recall,f1,roc_auc = threshhold_and_plot(target,y_proba,plot=True)\n",
    "    \n",
    "    if isTest:\n",
    "        y_proba = np.where(y_proba > thresh,1,0)\n",
    "    else :\n",
    "        #max of roc_auc\n",
    "        thresh_idx,thresh = max_thresh(roc_auc)\n",
    "    \n",
    "    #make confusin matrix\n",
    "    make_matrics_score(target, y_proba.astype(int),title,score=True,y_class_report=False, isTest=isTest)\n",
    "   \n",
    "    if isTest:\n",
    "        #plot roc_auc\n",
    "        print('ROC_AUC Curve')\n",
    "        plot_roc(target, y_proba)\n",
    "        #plot PR_AUC\n",
    "        print('PR_AUC Curve')\n",
    "        plot_precision_recall_curve(target, y_proba)\n",
    "\n",
    "    return thresh"
   ]
  },
  {
   "cell_type": "code",
   "execution_count": 6,
   "id": "6950fa1a",
   "metadata": {},
   "outputs": [],
   "source": [
    "#plot roc\n",
    "def plot_roc(actuals,preds):\n",
    "    fpr, tpr, thresholds = metrics.roc_curve(actuals, preds)\n",
    "    roc_auc = metrics.auc(fpr, tpr)\n",
    "    display = metrics.RocCurveDisplay(fpr=fpr, tpr=tpr, roc_auc=roc_auc)\n",
    "    display.plot()\n",
    "    plt.show()\n",
    "    return fpr, tpr, thresholds"
   ]
  },
  {
   "cell_type": "code",
   "execution_count": 7,
   "id": "d986a8f1",
   "metadata": {},
   "outputs": [],
   "source": [
    "#plot precision recall curve\n",
    "def plot_precision_recall_curve(actual,preds):\n",
    "    precision,recall,Threshold = metrics.precision_recall_curve(y_true = actual,probas_pred=preds) \n",
    "    fig,ax=plt.subplots(figsize=(5,5))\n",
    "    ax.plot(Threshold,precision[1:],label = 'Precision')\n",
    "    ax.plot(Threshold,recall[1:],label = 'Recall')\n",
    "    ax.set_xlabel('threshold')\n",
    "    ax.set_ylabel('precision,recall')\n",
    "    ax.set_title('RF: precision-recall')\n",
    "    ax.hlines(y=0.5,xmin=0,xmax=1,color='red')\n",
    "    ax.legend()\n",
    "    ax.grid()"
   ]
  },
  {
   "cell_type": "markdown",
   "id": "e90ec49a",
   "metadata": {},
   "source": [
    "#### Data Reading"
   ]
  },
  {
   "cell_type": "code",
   "execution_count": 8,
   "id": "5d71f14f",
   "metadata": {
    "scrolled": true
   },
   "outputs": [],
   "source": [
    "#Read the data\n",
    "X_train = pd.read_csv(\"../data/4.X_train.csv\")\n",
    "y_train = pd.read_csv(\"../data/4.y_train.csv\")\n",
    "X_test = pd.read_csv(\"../data/4.X_test.csv\")\n",
    "y_test = pd.read_csv(\"../data/4.y_test.csv\")"
   ]
  },
  {
   "cell_type": "code",
   "execution_count": 9,
   "id": "e2d11a31",
   "metadata": {
    "scrolled": false
   },
   "outputs": [
    {
     "data": {
      "text/plain": [
       "((7088, 16), (7088, 1))"
      ]
     },
     "execution_count": 9,
     "metadata": {},
     "output_type": "execute_result"
    }
   ],
   "source": [
    "X_train.shape,y_train.shape"
   ]
  },
  {
   "cell_type": "code",
   "execution_count": 10,
   "id": "c0b9d32e",
   "metadata": {
    "scrolled": false
   },
   "outputs": [
    {
     "data": {
      "text/plain": [
       "((3039, 16), (3039, 1))"
      ]
     },
     "execution_count": 10,
     "metadata": {},
     "output_type": "execute_result"
    }
   ],
   "source": [
    "X_test.shape,y_test.shape"
   ]
  },
  {
   "cell_type": "code",
   "execution_count": 11,
   "id": "f8f92359",
   "metadata": {
    "scrolled": false
   },
   "outputs": [
    {
     "data": {
      "text/html": [
       "<div>\n",
       "<style scoped>\n",
       "    .dataframe tbody tr th:only-of-type {\n",
       "        vertical-align: middle;\n",
       "    }\n",
       "\n",
       "    .dataframe tbody tr th {\n",
       "        vertical-align: top;\n",
       "    }\n",
       "\n",
       "    .dataframe thead th {\n",
       "        text-align: right;\n",
       "    }\n",
       "</style>\n",
       "<table border=\"1\" class=\"dataframe\">\n",
       "  <thead>\n",
       "    <tr style=\"text-align: right;\">\n",
       "      <th></th>\n",
       "      <th>count</th>\n",
       "      <th>mean</th>\n",
       "      <th>std</th>\n",
       "      <th>min</th>\n",
       "      <th>25%</th>\n",
       "      <th>50%</th>\n",
       "      <th>75%</th>\n",
       "      <th>max</th>\n",
       "    </tr>\n",
       "  </thead>\n",
       "  <tbody>\n",
       "    <tr>\n",
       "      <th>Customer_Age</th>\n",
       "      <td>7088.0</td>\n",
       "      <td>-3.454018e-16</td>\n",
       "      <td>1.000071</td>\n",
       "      <td>-2.531322</td>\n",
       "      <td>-0.661337</td>\n",
       "      <td>-0.038008</td>\n",
       "      <td>0.709986</td>\n",
       "      <td>3.327966</td>\n",
       "    </tr>\n",
       "    <tr>\n",
       "      <th>Credit_Limit</th>\n",
       "      <td>7088.0</td>\n",
       "      <td>8.597793e+00</td>\n",
       "      <td>0.930669</td>\n",
       "      <td>7.271217</td>\n",
       "      <td>7.841395</td>\n",
       "      <td>8.418587</td>\n",
       "      <td>9.298671</td>\n",
       "      <td>10.449178</td>\n",
       "    </tr>\n",
       "    <tr>\n",
       "      <th>Total_Revolving_Bal</th>\n",
       "      <td>7088.0</td>\n",
       "      <td>9.103482e-01</td>\n",
       "      <td>0.638103</td>\n",
       "      <td>0.000000</td>\n",
       "      <td>0.248822</td>\n",
       "      <td>1.000000</td>\n",
       "      <td>1.396112</td>\n",
       "      <td>1.977219</td>\n",
       "    </tr>\n",
       "    <tr>\n",
       "      <th>Total_Trans_Amt</th>\n",
       "      <td>7088.0</td>\n",
       "      <td>8.167921e+00</td>\n",
       "      <td>0.656979</td>\n",
       "      <td>6.390241</td>\n",
       "      <td>7.674617</td>\n",
       "      <td>8.267449</td>\n",
       "      <td>8.468633</td>\n",
       "      <td>9.824661</td>\n",
       "    </tr>\n",
       "    <tr>\n",
       "      <th>Avg_Utilization_Ratio</th>\n",
       "      <td>7088.0</td>\n",
       "      <td>2.753070e-01</td>\n",
       "      <td>0.276635</td>\n",
       "      <td>0.000000</td>\n",
       "      <td>0.023000</td>\n",
       "      <td>0.175000</td>\n",
       "      <td>0.502000</td>\n",
       "      <td>0.999000</td>\n",
       "    </tr>\n",
       "    <tr>\n",
       "      <th>Gender_Encoded</th>\n",
       "      <td>7088.0</td>\n",
       "      <td>5.328725e-01</td>\n",
       "      <td>0.498953</td>\n",
       "      <td>0.000000</td>\n",
       "      <td>0.000000</td>\n",
       "      <td>1.000000</td>\n",
       "      <td>1.000000</td>\n",
       "      <td>1.000000</td>\n",
       "    </tr>\n",
       "    <tr>\n",
       "      <th>Dependent_count</th>\n",
       "      <td>7088.0</td>\n",
       "      <td>2.344949e+00</td>\n",
       "      <td>1.299597</td>\n",
       "      <td>0.000000</td>\n",
       "      <td>1.000000</td>\n",
       "      <td>2.000000</td>\n",
       "      <td>3.000000</td>\n",
       "      <td>5.000000</td>\n",
       "    </tr>\n",
       "    <tr>\n",
       "      <th>Education_Level_sorted</th>\n",
       "      <td>7088.0</td>\n",
       "      <td>2.839306e+00</td>\n",
       "      <td>1.215114</td>\n",
       "      <td>1.000000</td>\n",
       "      <td>2.000000</td>\n",
       "      <td>3.000000</td>\n",
       "      <td>3.000000</td>\n",
       "      <td>6.000000</td>\n",
       "    </tr>\n",
       "    <tr>\n",
       "      <th>Income_Category_sorted</th>\n",
       "      <td>7088.0</td>\n",
       "      <td>2.175226e+00</td>\n",
       "      <td>1.334986</td>\n",
       "      <td>1.000000</td>\n",
       "      <td>1.000000</td>\n",
       "      <td>2.000000</td>\n",
       "      <td>3.000000</td>\n",
       "      <td>5.000000</td>\n",
       "    </tr>\n",
       "    <tr>\n",
       "      <th>Card_Category_sorted</th>\n",
       "      <td>7088.0</td>\n",
       "      <td>1.081546e+00</td>\n",
       "      <td>0.330233</td>\n",
       "      <td>1.000000</td>\n",
       "      <td>1.000000</td>\n",
       "      <td>1.000000</td>\n",
       "      <td>1.000000</td>\n",
       "      <td>4.000000</td>\n",
       "    </tr>\n",
       "    <tr>\n",
       "      <th>Months_on_book</th>\n",
       "      <td>7088.0</td>\n",
       "      <td>-3.454018e-16</td>\n",
       "      <td>1.000071</td>\n",
       "      <td>-2.531322</td>\n",
       "      <td>-0.661337</td>\n",
       "      <td>-0.038008</td>\n",
       "      <td>0.709986</td>\n",
       "      <td>3.327966</td>\n",
       "    </tr>\n",
       "    <tr>\n",
       "      <th>Total_Relationship_Count</th>\n",
       "      <td>7088.0</td>\n",
       "      <td>3.801213e+00</td>\n",
       "      <td>1.559728</td>\n",
       "      <td>1.000000</td>\n",
       "      <td>3.000000</td>\n",
       "      <td>4.000000</td>\n",
       "      <td>5.000000</td>\n",
       "      <td>6.000000</td>\n",
       "    </tr>\n",
       "    <tr>\n",
       "      <th>Months_Inactive_12_mon</th>\n",
       "      <td>7088.0</td>\n",
       "      <td>2.339870e+00</td>\n",
       "      <td>1.011731</td>\n",
       "      <td>0.000000</td>\n",
       "      <td>2.000000</td>\n",
       "      <td>2.000000</td>\n",
       "      <td>3.000000</td>\n",
       "      <td>6.000000</td>\n",
       "    </tr>\n",
       "    <tr>\n",
       "      <th>Contacts_Count_12_mon</th>\n",
       "      <td>7088.0</td>\n",
       "      <td>2.466140e+00</td>\n",
       "      <td>1.106944</td>\n",
       "      <td>0.000000</td>\n",
       "      <td>2.000000</td>\n",
       "      <td>2.000000</td>\n",
       "      <td>3.000000</td>\n",
       "      <td>6.000000</td>\n",
       "    </tr>\n",
       "    <tr>\n",
       "      <th>Marital_Status_sorted_Married</th>\n",
       "      <td>7088.0</td>\n",
       "      <td>5.409142e-01</td>\n",
       "      <td>0.498358</td>\n",
       "      <td>0.000000</td>\n",
       "      <td>0.000000</td>\n",
       "      <td>1.000000</td>\n",
       "      <td>1.000000</td>\n",
       "      <td>1.000000</td>\n",
       "    </tr>\n",
       "    <tr>\n",
       "      <th>Marital_Status_sorted_Single</th>\n",
       "      <td>7088.0</td>\n",
       "      <td>3.831828e-01</td>\n",
       "      <td>0.486197</td>\n",
       "      <td>0.000000</td>\n",
       "      <td>0.000000</td>\n",
       "      <td>0.000000</td>\n",
       "      <td>1.000000</td>\n",
       "      <td>1.000000</td>\n",
       "    </tr>\n",
       "  </tbody>\n",
       "</table>\n",
       "</div>"
      ],
      "text/plain": [
       "                                count          mean       std       min  \\\n",
       "Customer_Age                   7088.0 -3.454018e-16  1.000071 -2.531322   \n",
       "Credit_Limit                   7088.0  8.597793e+00  0.930669  7.271217   \n",
       "Total_Revolving_Bal            7088.0  9.103482e-01  0.638103  0.000000   \n",
       "Total_Trans_Amt                7088.0  8.167921e+00  0.656979  6.390241   \n",
       "Avg_Utilization_Ratio          7088.0  2.753070e-01  0.276635  0.000000   \n",
       "Gender_Encoded                 7088.0  5.328725e-01  0.498953  0.000000   \n",
       "Dependent_count                7088.0  2.344949e+00  1.299597  0.000000   \n",
       "Education_Level_sorted         7088.0  2.839306e+00  1.215114  1.000000   \n",
       "Income_Category_sorted         7088.0  2.175226e+00  1.334986  1.000000   \n",
       "Card_Category_sorted           7088.0  1.081546e+00  0.330233  1.000000   \n",
       "Months_on_book                 7088.0 -3.454018e-16  1.000071 -2.531322   \n",
       "Total_Relationship_Count       7088.0  3.801213e+00  1.559728  1.000000   \n",
       "Months_Inactive_12_mon         7088.0  2.339870e+00  1.011731  0.000000   \n",
       "Contacts_Count_12_mon          7088.0  2.466140e+00  1.106944  0.000000   \n",
       "Marital_Status_sorted_Married  7088.0  5.409142e-01  0.498358  0.000000   \n",
       "Marital_Status_sorted_Single   7088.0  3.831828e-01  0.486197  0.000000   \n",
       "\n",
       "                                    25%       50%       75%        max  \n",
       "Customer_Age                  -0.661337 -0.038008  0.709986   3.327966  \n",
       "Credit_Limit                   7.841395  8.418587  9.298671  10.449178  \n",
       "Total_Revolving_Bal            0.248822  1.000000  1.396112   1.977219  \n",
       "Total_Trans_Amt                7.674617  8.267449  8.468633   9.824661  \n",
       "Avg_Utilization_Ratio          0.023000  0.175000  0.502000   0.999000  \n",
       "Gender_Encoded                 0.000000  1.000000  1.000000   1.000000  \n",
       "Dependent_count                1.000000  2.000000  3.000000   5.000000  \n",
       "Education_Level_sorted         2.000000  3.000000  3.000000   6.000000  \n",
       "Income_Category_sorted         1.000000  2.000000  3.000000   5.000000  \n",
       "Card_Category_sorted           1.000000  1.000000  1.000000   4.000000  \n",
       "Months_on_book                -0.661337 -0.038008  0.709986   3.327966  \n",
       "Total_Relationship_Count       3.000000  4.000000  5.000000   6.000000  \n",
       "Months_Inactive_12_mon         2.000000  2.000000  3.000000   6.000000  \n",
       "Contacts_Count_12_mon          2.000000  2.000000  3.000000   6.000000  \n",
       "Marital_Status_sorted_Married  0.000000  1.000000  1.000000   1.000000  \n",
       "Marital_Status_sorted_Single   0.000000  0.000000  1.000000   1.000000  "
      ]
     },
     "execution_count": 11,
     "metadata": {},
     "output_type": "execute_result"
    }
   ],
   "source": [
    "X_train.describe().T"
   ]
  },
  {
   "cell_type": "code",
   "execution_count": 12,
   "id": "42b3a7d0",
   "metadata": {
    "scrolled": false
   },
   "outputs": [
    {
     "data": {
      "text/html": [
       "<div>\n",
       "<style scoped>\n",
       "    .dataframe tbody tr th:only-of-type {\n",
       "        vertical-align: middle;\n",
       "    }\n",
       "\n",
       "    .dataframe tbody tr th {\n",
       "        vertical-align: top;\n",
       "    }\n",
       "\n",
       "    .dataframe thead th {\n",
       "        text-align: right;\n",
       "    }\n",
       "</style>\n",
       "<table border=\"1\" class=\"dataframe\">\n",
       "  <thead>\n",
       "    <tr style=\"text-align: right;\">\n",
       "      <th></th>\n",
       "      <th>count</th>\n",
       "      <th>mean</th>\n",
       "      <th>std</th>\n",
       "      <th>min</th>\n",
       "      <th>25%</th>\n",
       "      <th>50%</th>\n",
       "      <th>75%</th>\n",
       "      <th>max</th>\n",
       "    </tr>\n",
       "  </thead>\n",
       "  <tbody>\n",
       "    <tr>\n",
       "      <th>Customer_Age</th>\n",
       "      <td>3039.0</td>\n",
       "      <td>1.760867e-16</td>\n",
       "      <td>1.000165</td>\n",
       "      <td>-2.545475</td>\n",
       "      <td>-0.671517</td>\n",
       "      <td>-0.046864</td>\n",
       "      <td>0.702719</td>\n",
       "      <td>2.701607</td>\n",
       "    </tr>\n",
       "    <tr>\n",
       "      <th>Credit_Limit</th>\n",
       "      <td>3039.0</td>\n",
       "      <td>8.616519e+00</td>\n",
       "      <td>0.940983</td>\n",
       "      <td>7.271217</td>\n",
       "      <td>7.854381</td>\n",
       "      <td>8.432724</td>\n",
       "      <td>9.328701</td>\n",
       "      <td>10.449178</td>\n",
       "    </tr>\n",
       "    <tr>\n",
       "      <th>Total_Revolving_Bal</th>\n",
       "      <td>3039.0</td>\n",
       "      <td>9.134881e-01</td>\n",
       "      <td>0.640117</td>\n",
       "      <td>0.000000</td>\n",
       "      <td>0.349961</td>\n",
       "      <td>1.000000</td>\n",
       "      <td>1.401403</td>\n",
       "      <td>1.961808</td>\n",
       "    </tr>\n",
       "    <tr>\n",
       "      <th>Total_Trans_Amt</th>\n",
       "      <td>3039.0</td>\n",
       "      <td>8.157574e+00</td>\n",
       "      <td>0.648578</td>\n",
       "      <td>6.234411</td>\n",
       "      <td>7.682021</td>\n",
       "      <td>8.271293</td>\n",
       "      <td>8.453401</td>\n",
       "      <td>9.797849</td>\n",
       "    </tr>\n",
       "    <tr>\n",
       "      <th>Avg_Utilization_Ratio</th>\n",
       "      <td>3039.0</td>\n",
       "      <td>2.739293e-01</td>\n",
       "      <td>0.273522</td>\n",
       "      <td>0.000000</td>\n",
       "      <td>0.022500</td>\n",
       "      <td>0.177000</td>\n",
       "      <td>0.503500</td>\n",
       "      <td>0.994000</td>\n",
       "    </tr>\n",
       "    <tr>\n",
       "      <th>Gender_Encoded</th>\n",
       "      <td>3039.0</td>\n",
       "      <td>5.202369e-01</td>\n",
       "      <td>0.499673</td>\n",
       "      <td>0.000000</td>\n",
       "      <td>0.000000</td>\n",
       "      <td>1.000000</td>\n",
       "      <td>1.000000</td>\n",
       "      <td>1.000000</td>\n",
       "    </tr>\n",
       "    <tr>\n",
       "      <th>Dependent_count</th>\n",
       "      <td>3039.0</td>\n",
       "      <td>2.349128e+00</td>\n",
       "      <td>1.297511</td>\n",
       "      <td>0.000000</td>\n",
       "      <td>1.000000</td>\n",
       "      <td>2.000000</td>\n",
       "      <td>3.000000</td>\n",
       "      <td>5.000000</td>\n",
       "    </tr>\n",
       "    <tr>\n",
       "      <th>Education_Level_sorted</th>\n",
       "      <td>3039.0</td>\n",
       "      <td>2.851925e+00</td>\n",
       "      <td>1.201185</td>\n",
       "      <td>1.000000</td>\n",
       "      <td>2.000000</td>\n",
       "      <td>3.000000</td>\n",
       "      <td>3.000000</td>\n",
       "      <td>6.000000</td>\n",
       "    </tr>\n",
       "    <tr>\n",
       "      <th>Income_Category_sorted</th>\n",
       "      <td>3039.0</td>\n",
       "      <td>2.199079e+00</td>\n",
       "      <td>1.332057</td>\n",
       "      <td>1.000000</td>\n",
       "      <td>1.000000</td>\n",
       "      <td>2.000000</td>\n",
       "      <td>3.000000</td>\n",
       "      <td>5.000000</td>\n",
       "    </tr>\n",
       "    <tr>\n",
       "      <th>Card_Category_sorted</th>\n",
       "      <td>3039.0</td>\n",
       "      <td>1.088516e+00</td>\n",
       "      <td>0.341929</td>\n",
       "      <td>1.000000</td>\n",
       "      <td>1.000000</td>\n",
       "      <td>1.000000</td>\n",
       "      <td>1.000000</td>\n",
       "      <td>4.000000</td>\n",
       "    </tr>\n",
       "    <tr>\n",
       "      <th>Months_on_book</th>\n",
       "      <td>3039.0</td>\n",
       "      <td>1.760867e-16</td>\n",
       "      <td>1.000165</td>\n",
       "      <td>-2.545475</td>\n",
       "      <td>-0.671517</td>\n",
       "      <td>-0.046864</td>\n",
       "      <td>0.702719</td>\n",
       "      <td>2.701607</td>\n",
       "    </tr>\n",
       "    <tr>\n",
       "      <th>Total_Relationship_Count</th>\n",
       "      <td>3039.0</td>\n",
       "      <td>3.839092e+00</td>\n",
       "      <td>1.541858</td>\n",
       "      <td>1.000000</td>\n",
       "      <td>3.000000</td>\n",
       "      <td>4.000000</td>\n",
       "      <td>5.000000</td>\n",
       "      <td>6.000000</td>\n",
       "    </tr>\n",
       "    <tr>\n",
       "      <th>Months_Inactive_12_mon</th>\n",
       "      <td>3039.0</td>\n",
       "      <td>2.344192e+00</td>\n",
       "      <td>1.008191</td>\n",
       "      <td>0.000000</td>\n",
       "      <td>2.000000</td>\n",
       "      <td>2.000000</td>\n",
       "      <td>3.000000</td>\n",
       "      <td>6.000000</td>\n",
       "    </tr>\n",
       "    <tr>\n",
       "      <th>Contacts_Count_12_mon</th>\n",
       "      <td>3039.0</td>\n",
       "      <td>2.430076e+00</td>\n",
       "      <td>1.104317</td>\n",
       "      <td>0.000000</td>\n",
       "      <td>2.000000</td>\n",
       "      <td>2.000000</td>\n",
       "      <td>3.000000</td>\n",
       "      <td>6.000000</td>\n",
       "    </tr>\n",
       "    <tr>\n",
       "      <th>Marital_Status_sorted_Married</th>\n",
       "      <td>3039.0</td>\n",
       "      <td>5.271471e-01</td>\n",
       "      <td>0.499345</td>\n",
       "      <td>0.000000</td>\n",
       "      <td>0.000000</td>\n",
       "      <td>1.000000</td>\n",
       "      <td>1.000000</td>\n",
       "      <td>1.000000</td>\n",
       "    </tr>\n",
       "    <tr>\n",
       "      <th>Marital_Status_sorted_Single</th>\n",
       "      <td>3039.0</td>\n",
       "      <td>4.037512e-01</td>\n",
       "      <td>0.490729</td>\n",
       "      <td>0.000000</td>\n",
       "      <td>0.000000</td>\n",
       "      <td>0.000000</td>\n",
       "      <td>1.000000</td>\n",
       "      <td>1.000000</td>\n",
       "    </tr>\n",
       "  </tbody>\n",
       "</table>\n",
       "</div>"
      ],
      "text/plain": [
       "                                count          mean       std       min  \\\n",
       "Customer_Age                   3039.0  1.760867e-16  1.000165 -2.545475   \n",
       "Credit_Limit                   3039.0  8.616519e+00  0.940983  7.271217   \n",
       "Total_Revolving_Bal            3039.0  9.134881e-01  0.640117  0.000000   \n",
       "Total_Trans_Amt                3039.0  8.157574e+00  0.648578  6.234411   \n",
       "Avg_Utilization_Ratio          3039.0  2.739293e-01  0.273522  0.000000   \n",
       "Gender_Encoded                 3039.0  5.202369e-01  0.499673  0.000000   \n",
       "Dependent_count                3039.0  2.349128e+00  1.297511  0.000000   \n",
       "Education_Level_sorted         3039.0  2.851925e+00  1.201185  1.000000   \n",
       "Income_Category_sorted         3039.0  2.199079e+00  1.332057  1.000000   \n",
       "Card_Category_sorted           3039.0  1.088516e+00  0.341929  1.000000   \n",
       "Months_on_book                 3039.0  1.760867e-16  1.000165 -2.545475   \n",
       "Total_Relationship_Count       3039.0  3.839092e+00  1.541858  1.000000   \n",
       "Months_Inactive_12_mon         3039.0  2.344192e+00  1.008191  0.000000   \n",
       "Contacts_Count_12_mon          3039.0  2.430076e+00  1.104317  0.000000   \n",
       "Marital_Status_sorted_Married  3039.0  5.271471e-01  0.499345  0.000000   \n",
       "Marital_Status_sorted_Single   3039.0  4.037512e-01  0.490729  0.000000   \n",
       "\n",
       "                                    25%       50%       75%        max  \n",
       "Customer_Age                  -0.671517 -0.046864  0.702719   2.701607  \n",
       "Credit_Limit                   7.854381  8.432724  9.328701  10.449178  \n",
       "Total_Revolving_Bal            0.349961  1.000000  1.401403   1.961808  \n",
       "Total_Trans_Amt                7.682021  8.271293  8.453401   9.797849  \n",
       "Avg_Utilization_Ratio          0.022500  0.177000  0.503500   0.994000  \n",
       "Gender_Encoded                 0.000000  1.000000  1.000000   1.000000  \n",
       "Dependent_count                1.000000  2.000000  3.000000   5.000000  \n",
       "Education_Level_sorted         2.000000  3.000000  3.000000   6.000000  \n",
       "Income_Category_sorted         1.000000  2.000000  3.000000   5.000000  \n",
       "Card_Category_sorted           1.000000  1.000000  1.000000   4.000000  \n",
       "Months_on_book                -0.671517 -0.046864  0.702719   2.701607  \n",
       "Total_Relationship_Count       3.000000  4.000000  5.000000   6.000000  \n",
       "Months_Inactive_12_mon         2.000000  2.000000  3.000000   6.000000  \n",
       "Contacts_Count_12_mon          2.000000  2.000000  3.000000   6.000000  \n",
       "Marital_Status_sorted_Married  0.000000  1.000000  1.000000   1.000000  \n",
       "Marital_Status_sorted_Single   0.000000  0.000000  1.000000   1.000000  "
      ]
     },
     "execution_count": 12,
     "metadata": {},
     "output_type": "execute_result"
    }
   ],
   "source": [
    "X_test.describe().T"
   ]
  },
  {
   "cell_type": "markdown",
   "id": "d1e33603",
   "metadata": {},
   "source": [
    "## Training and Modeling <a id=Training_and_Modeling ></a>"
   ]
  },
  {
   "cell_type": "markdown",
   "id": "53934cfc",
   "metadata": {},
   "source": [
    "### Fit Model on Intercept (naive model)"
   ]
  },
  {
   "cell_type": "markdown",
   "id": "df2f2a47",
   "metadata": {},
   "source": [
    "Fit the null model, vecoros of 1's (just intecept) to check how random performance looks like. If all ok ROC_AUC should be 0.5.\n",
    "For this liner regression is used with fit_intercept=False and this sets the y-intercept to 0."
   ]
  },
  {
   "cell_type": "code",
   "execution_count": 13,
   "id": "bc97a834",
   "metadata": {
    "scrolled": false
   },
   "outputs": [],
   "source": [
    "X_train = X_train.to_numpy()\n",
    "y_train = y_train.to_numpy().ravel()"
   ]
  },
  {
   "cell_type": "code",
   "execution_count": 14,
   "id": "8cdf9110",
   "metadata": {
    "scrolled": false
   },
   "outputs": [],
   "source": [
    "X_test = X_test.to_numpy()\n",
    "y_test = y_test.to_numpy().ravel()"
   ]
  },
  {
   "cell_type": "code",
   "execution_count": 15,
   "id": "3e7e3349",
   "metadata": {
    "scrolled": false
   },
   "outputs": [],
   "source": [
    "null_reg = linear_model.LogisticRegression(fit_intercept= False,max_iter=500,random_state=632966)"
   ]
  },
  {
   "cell_type": "code",
   "execution_count": 16,
   "id": "33dfe273",
   "metadata": {
    "scrolled": false
   },
   "outputs": [],
   "source": [
    "X_train_null = np.ones(shape=X_train.shape[0]).reshape(-1,1)\n",
    "X_test_null = np.ones(shape=y_test.shape[0]).reshape(-1,1)"
   ]
  },
  {
   "cell_type": "code",
   "execution_count": 17,
   "id": "d1d4418f",
   "metadata": {
    "scrolled": false
   },
   "outputs": [],
   "source": [
    "#fit on train and test data no tuning\n",
    "null_train = null_reg.fit(X=X_train_null,y=y_train)\n",
    "null_test = null_reg.fit(X=X_test_null,y=y_test)"
   ]
  },
  {
   "cell_type": "code",
   "execution_count": 18,
   "id": "0a51b937",
   "metadata": {
    "scrolled": false
   },
   "outputs": [],
   "source": [
    "#predict_proba and pred_prob returns two columns, second one is target\n",
    "train_pred = null_train.predict_proba(X_train_null)\n",
    "test_pred = null_test.predict_proba(X_test_null)"
   ]
  },
  {
   "cell_type": "code",
   "execution_count": 19,
   "id": "ee52f136",
   "metadata": {},
   "outputs": [
    {
     "data": {
      "text/plain": [
       "1.0"
      ]
     },
     "execution_count": 19,
     "metadata": {},
     "output_type": "execute_result"
    }
   ],
   "source": [
    "#base metrics precision: minmum performance on train data\n",
    "metrics.precision_score(y_true= y_train,y_pred= np.where(train_pred[:,1]>0.5,1,0),zero_division=1)"
   ]
  },
  {
   "cell_type": "code",
   "execution_count": 20,
   "id": "36190632",
   "metadata": {},
   "outputs": [
    {
     "data": {
      "text/plain": [
       "0.0"
      ]
     },
     "execution_count": 20,
     "metadata": {},
     "output_type": "execute_result"
    }
   ],
   "source": [
    "#base metrics recall: minmum performance\n",
    "metrics.recall_score(y_true= y_train,y_pred= np.where(train_pred[:,1]>0.5,1,0),zero_division=1)"
   ]
  },
  {
   "cell_type": "code",
   "execution_count": 21,
   "id": "a2649083",
   "metadata": {
    "scrolled": false
   },
   "outputs": [
    {
     "data": {
      "text/plain": [
       "0.0"
      ]
     },
     "execution_count": 21,
     "metadata": {},
     "output_type": "execute_result"
    }
   ],
   "source": [
    "#base metrics f1 score: minmum performance\n",
    "metrics.f1_score(y_true= y_train,y_pred= np.where(train_pred[:,1]>0.5,1,0),zero_division=1)"
   ]
  },
  {
   "cell_type": "code",
   "execution_count": 22,
   "id": "2ad1692d",
   "metadata": {
    "scrolled": false
   },
   "outputs": [
    {
     "name": "stdout",
     "output_type": "stream",
     "text": [
      "Observed mean: 0.161, Fit: 0.161\n"
     ]
    }
   ],
   "source": [
    "#check to see if close to population value\n",
    "print(\"Observed mean: {:.3f}, Fit: {:.3f}\".format(y_train.mean(),train_pred[:,1].mean()))"
   ]
  },
  {
   "cell_type": "code",
   "execution_count": 23,
   "id": "560af10e",
   "metadata": {},
   "outputs": [
    {
     "data": {
      "text/plain": [
       "1.0"
      ]
     },
     "execution_count": 23,
     "metadata": {},
     "output_type": "execute_result"
    }
   ],
   "source": [
    "#base metrics precision: minmum performance on test data\n",
    "metrics.precision_score(y_true= y_test,y_pred= np.where(test_pred[:,1]>0.5,1,0),zero_division=1)"
   ]
  },
  {
   "cell_type": "code",
   "execution_count": 24,
   "id": "5e61704e",
   "metadata": {},
   "outputs": [
    {
     "data": {
      "text/plain": [
       "0.0"
      ]
     },
     "execution_count": 24,
     "metadata": {},
     "output_type": "execute_result"
    }
   ],
   "source": [
    "#base metrics recall: minmum performance\n",
    "metrics.recall_score(y_true= y_test,y_pred= np.where(test_pred[:,1]>0.5,1,0),zero_division=1)"
   ]
  },
  {
   "cell_type": "code",
   "execution_count": 25,
   "id": "40beecfc",
   "metadata": {},
   "outputs": [
    {
     "data": {
      "text/plain": [
       "0.0"
      ]
     },
     "execution_count": 25,
     "metadata": {},
     "output_type": "execute_result"
    }
   ],
   "source": [
    "#base metrics f1 score: minmum performance\n",
    "metrics.f1_score(y_true= y_test,y_pred= np.where(test_pred[:,1]>0.5,1,0),zero_division=1)"
   ]
  },
  {
   "cell_type": "code",
   "execution_count": 26,
   "id": "ad07699f",
   "metadata": {},
   "outputs": [
    {
     "name": "stdout",
     "output_type": "stream",
     "text": [
      "Observed mean: 0.161, Fit: 0.161\n"
     ]
    }
   ],
   "source": [
    "#check to see if close to population value\n",
    "print(\"Observed mean: {:.3f}, Fit: {:.3f}\".format(y_test.mean(),test_pred[:,1].mean()))"
   ]
  },
  {
   "cell_type": "markdown",
   "id": "58e3d5c6",
   "metadata": {},
   "source": [
    "Worked well for test data as well.Observed mean and Fit Mean are same, class distrbution is good. And here is the ROC_AUC curve"
   ]
  },
  {
   "cell_type": "code",
   "execution_count": 27,
   "id": "f45dc5a1",
   "metadata": {},
   "outputs": [
    {
     "name": "stdout",
     "output_type": "stream",
     "text": [
      "ROC_AUC Curve for train data\n"
     ]
    },
    {
     "data": {
      "image/png": "[encoded data removed]",
      "text/plain": [
       "<Figure size 432x288 with 1 Axes>"
      ]
     },
     "metadata": {
      "needs_background": "light"
     },
     "output_type": "display_data"
    },
    {
     "name": "stdout",
     "output_type": "stream",
     "text": [
      "1.161122049527523\n"
     ]
    }
   ],
   "source": [
    "print(\"ROC_AUC Curve for train data\")\n",
    "_,_,t = plot_roc(y_train,train_pred[:,1])\n",
    "print(max(t))"
   ]
  },
  {
   "cell_type": "code",
   "execution_count": 28,
   "id": "14f36316",
   "metadata": {},
   "outputs": [
    {
     "data": {
      "image/png": "[encoded data removed]",
      "text/plain": [
       "<Figure size 432x288 with 1 Axes>"
      ]
     },
     "metadata": {
      "needs_background": "light"
     },
     "output_type": "display_data"
    }
   ],
   "source": [
    "_,_,_,_ = threshhold_and_plot(y_train,train_pred[:,1],plot=True)"
   ]
  },
  {
   "cell_type": "code",
   "execution_count": 29,
   "id": "83d1a4b0",
   "metadata": {},
   "outputs": [
    {
     "name": "stdout",
     "output_type": "stream",
     "text": [
      "ROC_AUC Curve for test\n"
     ]
    },
    {
     "data": {
      "image/png": "[encoded data removed]",
      "text/plain": [
       "<Figure size 432x288 with 1 Axes>"
      ]
     },
     "metadata": {
      "needs_background": "light"
     },
     "output_type": "display_data"
    },
    {
     "name": "stdout",
     "output_type": "stream",
     "text": [
      "1.161122049527523\n"
     ]
    }
   ],
   "source": [
    "print(\"ROC_AUC Curve for test\")\n",
    "_,_,t = plot_roc(y_test,test_pred[:,1])\n",
    "print(max(t))"
   ]
  },
  {
   "cell_type": "code",
   "execution_count": 30,
   "id": "819ecda3",
   "metadata": {},
   "outputs": [
    {
     "data": {
      "image/png": "[encoded data removed]",
      "text/plain": [
       "<Figure size 432x288 with 1 Axes>"
      ]
     },
     "metadata": {
      "needs_background": "light"
     },
     "output_type": "display_data"
    }
   ],
   "source": [
    "_,_,_,_=threshhold_and_plot(y_test,test_pred[:,1],plot=True)"
   ]
  },
  {
   "cell_type": "markdown",
   "id": "f9299f30",
   "metadata": {},
   "source": [
    "From Random performance on training data, it is evident mimimum performance is seen, as the precision=1, recal and f1 stands 0 scores.And ROC_AUC with 0.5 supports this. "
   ]
  },
  {
   "cell_type": "code",
   "execution_count": 31,
   "id": "40b86bb8",
   "metadata": {},
   "outputs": [],
   "source": [
    "# same null model with model params, cross validation,\n",
    "model_params = {\"model__C\": (np.logspace(start=-4,stop=4,num=30))}\n",
    "#pipe line has just model object\n",
    "model_pipeline = pipeline.Pipeline(steps=[(\"model\",null_reg)])\n",
    "# set up cross-validator:\n",
    "# 80/20 train/calibration split in this data (test data still held out)\n",
    "# 200 iterations\n",
    "cross_validator = (\n",
    "  model_selection.StratifiedShuffleSplit(train_size=0.8,\n",
    "                                          random_state=1337,\n",
    "                                          n_splits=50))\n",
    "# set up grid search\n",
    "model_grid = (\n",
    "  model_selection.GridSearchCV(estimator=model_pipeline,\n",
    "                           param_grid=model_params,\n",
    "                           refit=True, # refit using best estimates\n",
    "                           scoring=\"roc_auc\", # metric to optimize (can pick another)\n",
    "                           cv=cross_validator,\n",
    "                           n_jobs = -1))"
   ]
  },
  {
   "cell_type": "code",
   "execution_count": 32,
   "id": "861cb441",
   "metadata": {
    "scrolled": false
   },
   "outputs": [
    {
     "name": "stdout",
     "output_type": "stream",
     "text": [
      "Wall time: 3.73 s\n"
     ]
    }
   ],
   "source": [
    "%%time\n",
    "# fit model on intercept (random guesses - baseline performance)\n",
    "null_mod = model_grid.fit(X_train_null,y_train)"
   ]
  },
  {
   "cell_type": "code",
   "execution_count": 33,
   "id": "d237f1a0",
   "metadata": {
    "scrolled": false
   },
   "outputs": [
    {
     "name": "stdout",
     "output_type": "stream",
     "text": [
      "Wall time: 1min 57s\n"
     ]
    }
   ],
   "source": [
    "%%time\n",
    "# CV score on null model\n",
    "cv_recall_scores = (\n",
    "  model_selection.cross_val_score(null_mod,\n",
    "                                  X_train_null,\n",
    "                                  y_train,\n",
    "                                  scoring=\"roc_auc\",\n",
    "                                  cv=cross_validator,\n",
    "                                  n_jobs=-1))"
   ]
  },
  {
   "cell_type": "code",
   "execution_count": 34,
   "id": "6fb48892",
   "metadata": {
    "scrolled": true
   },
   "outputs": [
    {
     "name": "stdout",
     "output_type": "stream",
     "text": [
      " 2.5%:0.500,97.5%:0.500\n"
     ]
    }
   ],
   "source": [
    "cv_quantiles = np.quantile(a=cv_recall_scores,q=[0.025,0.975])\n",
    "print(f\" 2.5%:{cv_quantiles[0]:.3f},97.5%:{cv_quantiles[1]:.3f}\")"
   ]
  },
  {
   "cell_type": "code",
   "execution_count": 35,
   "id": "0e7ff6f0",
   "metadata": {
    "scrolled": false
   },
   "outputs": [
    {
     "data": {
      "text/plain": [
       "<AxesSubplot:ylabel='Count'>"
      ]
     },
     "execution_count": 35,
     "metadata": {},
     "output_type": "execute_result"
    },
    {
     "data": {
      "image/png": "[encoded data removed]",
      "text/plain": [
       "<Figure size 432x288 with 1 Axes>"
      ]
     },
     "metadata": {
      "needs_background": "light"
     },
     "output_type": "display_data"
    }
   ],
   "source": [
    "import seaborn as sns\n",
    "sns.histplot(cv_recall_scores, bins=10)"
   ]
  },
  {
   "cell_type": "code",
   "execution_count": 36,
   "id": "4ecd3102",
   "metadata": {},
   "outputs": [
    {
     "name": "stdout",
     "output_type": "stream",
     "text": [
      "Observed mean: 0.161, Fit: 0.161\n"
     ]
    }
   ],
   "source": [
    "#check to see if close to population value\n",
    "print(\"Observed mean: {:.3f}, Fit: {:.3f}\".format(y_test.mean(),test_pred[:,1].mean()))"
   ]
  },
  {
   "cell_type": "code",
   "execution_count": 37,
   "id": "b193a0f0",
   "metadata": {},
   "outputs": [],
   "source": [
    "#predict \n",
    "null_mod_train_preds = null_mod.predict_proba(X=X_train_null)"
   ]
  },
  {
   "cell_type": "code",
   "execution_count": 38,
   "id": "c295bc66",
   "metadata": {},
   "outputs": [
    {
     "data": {
      "image/png": "[encoded data removed]",
      "text/plain": [
       "<Figure size 432x288 with 1 Axes>"
      ]
     },
     "metadata": {
      "needs_background": "light"
     },
     "output_type": "display_data"
    }
   ],
   "source": [
    "title = \"Base Model after tuning\"\n",
    "_,_,_,_=threshhold_and_plot(y_train,null_mod_train_preds[:,1],plot=True)"
   ]
  },
  {
   "cell_type": "code",
   "execution_count": 39,
   "id": "9f062daa",
   "metadata": {},
   "outputs": [
    {
     "data": {
      "image/png": "[encoded data removed]",
      "text/plain": [
       "<Figure size 432x288 with 2 Axes>"
      ]
     },
     "metadata": {
      "needs_background": "light"
     },
     "output_type": "display_data"
    },
    {
     "name": "stdout",
     "output_type": "stream",
     "text": [
      "classification report\n",
      "               precision    recall  f1-score   support\n",
      "\n",
      "       not 1       0.84      1.00      0.91      5949\n",
      "           1       1.00      0.00      0.00      1139\n",
      "\n",
      "    accuracy                           0.84      7088\n",
      "   macro avg       0.92      0.50      0.46      7088\n",
      "weighted avg       0.87      0.84      0.77      7088\n",
      "\n"
     ]
    }
   ],
   "source": [
    "classifier_name= \"Base Model after tuning\"\n",
    "make_matrics_score(y_train,null_mod_train_preds[:,1].astype(int),classifier_name,score=False,y_class_report=True,isTest=False)"
   ]
  },
  {
   "cell_type": "code",
   "execution_count": 40,
   "id": "aa28022d",
   "metadata": {},
   "outputs": [],
   "source": [
    "null_mod_test_preds = null_mod.predict_proba(X=X_test_null)"
   ]
  },
  {
   "cell_type": "code",
   "execution_count": 41,
   "id": "243ccd3d",
   "metadata": {},
   "outputs": [
    {
     "data": {
      "text/plain": [
       "1.0"
      ]
     },
     "execution_count": 41,
     "metadata": {},
     "output_type": "execute_result"
    }
   ],
   "source": [
    "#base metrics precision: minimum performance on test data\n",
    "metrics.precision_score(y_true= y_test,y_pred= np.where(null_mod_test_preds[:,1]>0.5,1,0),zero_division=1)"
   ]
  },
  {
   "cell_type": "code",
   "execution_count": 42,
   "id": "d2e35502",
   "metadata": {},
   "outputs": [
    {
     "data": {
      "text/plain": [
       "0.0"
      ]
     },
     "execution_count": 42,
     "metadata": {},
     "output_type": "execute_result"
    }
   ],
   "source": [
    "#base metrics recall: minmum performance\n",
    "metrics.recall_score(y_true= y_test,y_pred= np.where(null_mod_test_preds[:,1]>0.5,1,0),zero_division=1)"
   ]
  },
  {
   "cell_type": "code",
   "execution_count": 43,
   "id": "b99a806e",
   "metadata": {},
   "outputs": [
    {
     "data": {
      "text/plain": [
       "0.0"
      ]
     },
     "execution_count": 43,
     "metadata": {},
     "output_type": "execute_result"
    }
   ],
   "source": [
    "#base metrics f1 score: minmum performance\n",
    "metrics.f1_score(y_true= y_test,y_pred= np.where(null_mod_test_preds[:,1]>0.5,1,0),zero_division=1)"
   ]
  },
  {
   "cell_type": "code",
   "execution_count": 44,
   "id": "67c52b40",
   "metadata": {},
   "outputs": [
    {
     "name": "stdout",
     "output_type": "stream",
     "text": [
      "Observed: 0.161, Fit: 0.500\n"
     ]
    }
   ],
   "source": [
    "#check to see if close to population value\n",
    "print(\"Observed: {:.3f}, Fit: {:.3f}\".format(y_test.mean(),null_mod_test_preds.mean()))"
   ]
  },
  {
   "cell_type": "code",
   "execution_count": 155,
   "id": "b549d57f",
   "metadata": {},
   "outputs": [
    {
     "data": {
      "image/png": "[encoded data removed]",
      "text/plain": [
       "<Figure size 432x288 with 2 Axes>"
      ]
     },
     "metadata": {},
     "output_type": "display_data"
    },
    {
     "name": "stdout",
     "output_type": "stream",
     "text": [
      "classification report\n",
      "               precision    recall  f1-score   support\n",
      "\n",
      "       not 1       0.84      1.00      0.91      2551\n",
      "           1       1.00      0.00      0.00       488\n",
      "\n",
      "    accuracy                           0.84      3039\n",
      "   macro avg       0.92      0.50      0.46      3039\n",
      "weighted avg       0.87      0.84      0.77      3039\n",
      "\n"
     ]
    }
   ],
   "source": [
    "classifier_name= \"Base Model after tuning\"\n",
    "make_matrics_score(y_test,null_mod_test_preds[:,1].astype(int),classifier_name,score=False,y_class_report=True,isTest = True)"
   ]
  },
  {
   "cell_type": "code",
   "execution_count": 46,
   "id": "5a286253",
   "metadata": {},
   "outputs": [
    {
     "name": "stdout",
     "output_type": "stream",
     "text": [
      "ROC_AUC Curve for test\n"
     ]
    },
    {
     "data": {
      "image/png": "[encoded data removed]",
      "text/plain": [
       "<Figure size 432x288 with 1 Axes>"
      ]
     },
     "metadata": {
      "needs_background": "light"
     },
     "output_type": "display_data"
    }
   ],
   "source": [
    "print(\"ROC_AUC Curve for test\")\n",
    "fpr,tpr,th = plot_roc(y_test,null_mod_test_preds[:,1])"
   ]
  },
  {
   "cell_type": "code",
   "execution_count": 47,
   "id": "545c56f7",
   "metadata": {},
   "outputs": [
    {
     "data": {
      "image/png": "[encoded data removed]",
      "text/plain": [
       "<Figure size 432x288 with 1 Axes>"
      ]
     },
     "metadata": {
      "needs_background": "light"
     },
     "output_type": "display_data"
    }
   ],
   "source": [
    "title = \"Base Model after tuning\"\n",
    "_,_,_,_ =threshhold_and_plot(y_test,test_pred[:,1],plot=True)"
   ]
  },
  {
   "cell_type": "markdown",
   "id": "b92a8af3",
   "metadata": {},
   "source": [
    "From Random performance on test data, it is evident mimimum performance is seen, And is supported by ROC_AUC with 0.5."
   ]
  },
  {
   "cell_type": "markdown",
   "id": "19c0acf5",
   "metadata": {},
   "source": [
    "### Model Selection "
   ]
  },
  {
   "cell_type": "markdown",
   "id": "45a52ea8",
   "metadata": {},
   "source": [
    "Four competing supervised classfication models/algorithms are considered, namely, \n",
    "* Logistic Regression classification\n",
    "* Random Forest classifier\n",
    "* KNeighbours classification\n",
    "* XGBoost classifier "
   ]
  },
  {
   "cell_type": "markdown",
   "id": "c162abdf",
   "metadata": {},
   "source": [
    "### Evaluation Metrics"
   ]
  },
  {
   "cell_type": "markdown",
   "id": "a0441f7f",
   "metadata": {},
   "source": [
    "Thinking of customer will not exit but he does, this means income loss for the Bank. Bank need to take the action steps for this scenario. This is false negative, and is \"recall\". Banks is looking for recall to be maximized, greater the recall lesser the chances of false negative means lesser chances of predicting customers will not exit where in reality they do. Since classes in the data are unbalanced, I can make use of confusion matrix to examine the outcome of model. Recall and precision metrics can be calculated from the confusion matrix, and this would help me assessing the models.\n",
    "\n",
    "This project is aim to predict potential churn customers, and it is realised that the client cost of mistakenly classifying non-churn customer as churn may be high in practice because banks would not want to lose valuable customers, and the banks would like to identify churners at their best efforts as well. Thus, it would be useful to consider Recall. To complement this Receiver Operating Characteristic curve (ROC) is used. ROC is a plot of True Positive Rate (TPR) against False Positive Rate (FPR). This means I can consider TPR and FPR simultanesouly, by making use of the area under the curve (AUC) of ROC."
   ]
  },
  {
   "cell_type": "markdown",
   "id": "0512e59a",
   "metadata": {},
   "source": [
    "### Training and Modeling"
   ]
  },
  {
   "cell_type": "markdown",
   "id": "20c11805",
   "metadata": {},
   "source": [
    "Each model is subject to various hyperparameters that need to be determined. Here random search and grid search methods are used optimise the hyperparameters for our chosen models. Grid search exhaustively checks every combinations of hyperparameters given in the parameter domain to optimise the given score, \"roc_auc\" in this project. Random search checks random combinations of hyperparameters for a given number of iterations to optimise the given score. The advantage of random search is shorter time but the trade-off is that it might miss the best possible combination."
   ]
  },
  {
   "cell_type": "markdown",
   "id": "0e66b86f",
   "metadata": {},
   "source": [
    "### Hyperparameter Tuning and Model Training"
   ]
  },
  {
   "cell_type": "markdown",
   "id": "d0fa1257",
   "metadata": {},
   "source": [
    "Each model is subject to various hyperparameters that need to be determined. Here random search and grid search methods are used optimise the hyperparameters for our chosen models. Grid search exhaustively checks every combinations of hyperparameters given in the parameter domain to optimise the given score, \"roc_auc\" in this project. Random search checks random combinations of hyperparameters for a given number of iterations to optimise the given score. The advantage of random search is shorter time but the trade-off is that it might miss the best possible combination.\n",
    "\n",
    "Below are the two functions, rand_search(), and grid_search(), to help in implementation. No scaling is done as it is each feature is already scaled, so then train the models with training dataset.\n"
   ]
  },
  {
   "cell_type": "code",
   "execution_count": 48,
   "id": "a3278dc5",
   "metadata": {},
   "outputs": [],
   "source": [
    "# rand search function\n",
    "def rand_search(X_train,y_train,parameters,model,n_iter=100):\n",
    "    #pipeline\n",
    "    clf_pipeline = Pipeline([(\"clf\",model)])\n",
    "    #Grid search CV\n",
    "    scoring = 'recall'\n",
    "    verbose = 1\n",
    "    clf_rand = model_selection.RandomizedSearchCV(clf_pipeline, parameters, n_iter = n_iter,scoring=scoring,verbose = verbose, random_state=1,n_jobs=-1)\n",
    "    #Learn from training\n",
    "    clf_rand.fit(X_train,y_train)  #learn the training set\n",
    "    \n",
    "    print(\"Best parameters for \", model) \n",
    "    print(clf_rand.best_params_)\n",
    "    print(f\"\\nBest train %s score: {clf_rand.best_score_ :.2f}\" % (scoring))\n",
    "    return clf_rand.best_estimator_"
   ]
  },
  {
   "cell_type": "code",
   "execution_count": 49,
   "id": "1fe72482",
   "metadata": {},
   "outputs": [],
   "source": [
    "# grid search function\n",
    "def grid_search(X_train,y_train,parameters,model):\n",
    "    \n",
    "    #pipeline\n",
    "    clf_pipeline = Pipeline([(\"clf\",model)])   #Pipeline applies scaling and model estimator\n",
    "    #Grid search CV\n",
    "    scoring = 'recall'\n",
    "    verbose = 1\n",
    "    clf_grid = model_selection.GridSearchCV(clf_pipeline, parameters,  scoring=scoring,verbose = verbose)\n",
    "    #Learn from training\n",
    "    clf_grid.fit(X_train,y_train) \n",
    "\n",
    "    print(\"Best parameters for \", model) \n",
    "    print(clf_grid.best_params_)\n",
    "    print(f\"\\nBest train %s score: {clf_grid.best_score_ :.2f}\" % (scoring))\n",
    "    return clf_grid.best_estimator_"
   ]
  },
  {
   "cell_type": "code",
   "execution_count": 50,
   "id": "9c38b8e3",
   "metadata": {},
   "outputs": [],
   "source": [
    "# converting numby to dataframe \n",
    "cols = ['Customer_Age', 'Credit_Limit', 'Total_Revolving_Bal',\n",
    "       'Total_Trans_Amt', 'Avg_Utilization_Ratio', 'Gender_Encoded',\n",
    "       'Dependent_count', 'Education_Level_sorted', 'Income_Category_sorted',\n",
    "       'Card_Category_sorted', 'Months_on_book', 'Total_Relationship_Count',\n",
    "       'Months_Inactive_12_mon', 'Contacts_Count_12_mon',\n",
    "       'Marital_Status_sorted_Married', 'Marital_Status_sorted_Single']\n",
    "        \n",
    "#X_train = pd.DataFrame(X_train,columns=cols)\n",
    "#X_test = pd.DataFrame(X_test,columns=cols)"
   ]
  },
  {
   "cell_type": "code",
   "execution_count": null,
   "id": "0b474c85",
   "metadata": {},
   "outputs": [],
   "source": []
  },
  {
   "cell_type": "markdown",
   "id": "1d73c58e",
   "metadata": {},
   "source": [
    "### Logistic Regression"
   ]
  },
  {
   "cell_type": "markdown",
   "id": "175f89a2",
   "metadata": {},
   "source": [
    "This is the basic regression classification\n",
    "\n",
    "In this package, there are several hyperparameters that we need to pay attention to:\n",
    "\n",
    "  C: controls the strength of regularisation penalty\n",
    "  solver: algorithms used for optimisation\n",
    "  class_weight: weights associated with classes"
   ]
  },
  {
   "cell_type": "code",
   "execution_count": 51,
   "id": "337aa2e7",
   "metadata": {},
   "outputs": [],
   "source": [
    "#classifier\n",
    "clf_lg = linear_model.LogisticRegression(fit_intercept= True,max_iter=500,random_state=632966)\n",
    "\n",
    "# Grid of parameters\n",
    "model_params_lg = {\"model__C\": (np.logspace(start=-4,stop=4,num=30)),\n",
    "                   'model__penalty': ['l2']} \n",
    "#'model__solver' : ['liblinear','newton-cg','lbfgs','sag','saga'],\n",
    "\n",
    "# pipeline\n",
    "model_pipeline_lg = pipeline.Pipeline(steps=[(\"model\",clf_lg)])\n",
    "\n",
    "cross_validator = (model_selection.StratifiedShuffleSplit(train_size=0.8,random_state=1337,n_splits=50))\n",
    "\n",
    "# set up grid search\n",
    "model_grid_lg = (\n",
    "  model_selection.GridSearchCV(estimator=model_pipeline_lg,\n",
    "                               param_grid=model_params_lg,\n",
    "                               refit=True, # refit using best estimates\n",
    "                               scoring=\"recall\", cv=cross_validator,n_jobs = -1,verbose=1))"
   ]
  },
  {
   "cell_type": "markdown",
   "id": "a9cbc7d3",
   "metadata": {},
   "source": [
    "### Fit on train set"
   ]
  },
  {
   "cell_type": "code",
   "execution_count": 52,
   "id": "8413e12e",
   "metadata": {},
   "outputs": [
    {
     "name": "stdout",
     "output_type": "stream",
     "text": [
      "Fitting 50 folds for each of 30 candidates, totalling 1500 fits\n",
      "Wall time: 27.2 s\n"
     ]
    }
   ],
   "source": [
    "%%time\n",
    "lg_mod = model_grid_lg.fit(X_train,y_train)"
   ]
  },
  {
   "cell_type": "code",
   "execution_count": 53,
   "id": "18607601",
   "metadata": {},
   "outputs": [
    {
     "data": {
      "text/plain": [
       "Pipeline(steps=[('model',\n",
       "                 LogisticRegression(C=17.433288221999874, max_iter=500,\n",
       "                                    random_state=632966))])"
      ]
     },
     "execution_count": 53,
     "metadata": {},
     "output_type": "execute_result"
    }
   ],
   "source": [
    "log_best_estimator = lg_mod.best_estimator_\n",
    "log_best_estimator"
   ]
  },
  {
   "cell_type": "code",
   "execution_count": 54,
   "id": "d35b585b",
   "metadata": {},
   "outputs": [
    {
     "name": "stdout",
     "output_type": "stream",
     "text": [
      "Best params {'model__C': 17.433288221999874, 'model__penalty': 'l2'} \n",
      "Best score 0.37131578947368415\n"
     ]
    }
   ],
   "source": [
    "print(f\"Best params {lg_mod.best_params_} \\nBest score {lg_mod.best_score_ }\")"
   ]
  },
  {
   "cell_type": "code",
   "execution_count": 55,
   "id": "1b94ca78",
   "metadata": {},
   "outputs": [],
   "source": [
    "#cross validation\n",
    "lr_cv_scores = (\n",
    "    model_selection.cross_val_score(log_best_estimator,\n",
    "                                      X_train,\n",
    "                                      y_train,\n",
    "                                      scoring=\"roc_auc\",\n",
    "                                      cv=cross_validator,\n",
    "                                      n_jobs=-1))"
   ]
  },
  {
   "cell_type": "code",
   "execution_count": 56,
   "id": "9d2ed039",
   "metadata": {},
   "outputs": [
    {
     "name": "stdout",
     "output_type": "stream",
     "text": [
      " Performance on training set is in range between 0.799 to 0.854,with average roc_auc:0.826\n"
     ]
    }
   ],
   "source": [
    "cv_quantiles = np.quantile(a=lr_cv_scores,q=[0.025,0.975])\n",
    "print(f\" Performance on training set is in range between {cv_quantiles[0]:.3f} to {cv_quantiles[1]:.3f},with average roc_auc:{lr_cv_scores.mean():.3f}\")"
   ]
  },
  {
   "cell_type": "code",
   "execution_count": 57,
   "id": "50bdcf53",
   "metadata": {},
   "outputs": [
    {
     "data": {
      "text/plain": [
       "<AxesSubplot:ylabel='Count'>"
      ]
     },
     "execution_count": 57,
     "metadata": {},
     "output_type": "execute_result"
    },
    {
     "data": {
      "image/png": "[encoded data removed]",
      "text/plain": [
       "<Figure size 432x288 with 1 Axes>"
      ]
     },
     "metadata": {},
     "output_type": "display_data"
    }
   ],
   "source": [
    "sns.set_style(\"darkgrid\")\n",
    "sns.histplot(lr_cv_scores, bins=10)"
   ]
  },
  {
   "cell_type": "markdown",
   "id": "4df8cf46",
   "metadata": {},
   "source": [
    "### Get threshold using train set"
   ]
  },
  {
   "cell_type": "code",
   "execution_count": 58,
   "id": "86893c90",
   "metadata": {},
   "outputs": [
    {
     "data": {
      "image/png": "[encoded data removed]",
      "text/plain": [
       "<Figure size 432x288 with 1 Axes>"
      ]
     },
     "metadata": {},
     "output_type": "display_data"
    },
    {
     "data": {
      "image/png": "[encoded data removed]",
      "text/plain": [
       "<Figure size 432x288 with 2 Axes>"
      ]
     },
     "metadata": {},
     "output_type": "display_data"
    },
    {
     "name": "stdout",
     "output_type": "stream",
     "text": [
      "True -ve : 5949\n",
      "False +ve : 0\n",
      "False -ve : 1139\n",
      "True +ve : 0\n",
      "\n"
     ]
    }
   ],
   "source": [
    "thresh = estimate_with_threshold(\"Logistic Regression\",log_best_estimator,X_train,y_train,isTest=False)"
   ]
  },
  {
   "cell_type": "markdown",
   "id": "8dc257e7",
   "metadata": {},
   "source": [
    "### Apply threshold on test data"
   ]
  },
  {
   "cell_type": "code",
   "execution_count": 59,
   "id": "1d006aa0",
   "metadata": {},
   "outputs": [
    {
     "data": {
      "image/png": "[encoded data removed]",
      "text/plain": [
       "<Figure size 432x288 with 1 Axes>"
      ]
     },
     "metadata": {},
     "output_type": "display_data"
    },
    {
     "data": {
      "image/png": "[encoded data removed]",
      "text/plain": [
       "<Figure size 432x288 with 2 Axes>"
      ]
     },
     "metadata": {},
     "output_type": "display_data"
    },
    {
     "name": "stdout",
     "output_type": "stream",
     "text": [
      "True -ve : 2549\n",
      "False +ve : 2\n",
      "False -ve : 430\n",
      "True +ve : 58\n",
      "\n",
      "ROC_AUC Curve\n"
     ]
    },
    {
     "data": {
      "image/png": "[encoded data removed]",
      "text/plain": [
       "<Figure size 432x288 with 1 Axes>"
      ]
     },
     "metadata": {},
     "output_type": "display_data"
    },
    {
     "name": "stdout",
     "output_type": "stream",
     "text": [
      "PR_AUC Curve\n"
     ]
    },
    {
     "data": {
      "image/png": "[encoded data removed]",
      "text/plain": [
       "<Figure size 360x360 with 1 Axes>"
      ]
     },
     "metadata": {},
     "output_type": "display_data"
    }
   ],
   "source": [
    "_ = estimate_with_threshold(\"Logistic Regression\",log_best_estimator,X_test,y_test,isTest=True,thresh = thresh)"
   ]
  },
  {
   "cell_type": "markdown",
   "id": "50b6f205",
   "metadata": {},
   "source": [
    "### Evaluation"
   ]
  },
  {
   "cell_type": "code",
   "execution_count": 60,
   "id": "7341c9eb",
   "metadata": {},
   "outputs": [
    {
     "data": {
      "text/html": [
       "<div>\n",
       "<style scoped>\n",
       "    .dataframe tbody tr th:only-of-type {\n",
       "        vertical-align: middle;\n",
       "    }\n",
       "\n",
       "    .dataframe tbody tr th {\n",
       "        vertical-align: top;\n",
       "    }\n",
       "\n",
       "    .dataframe thead th {\n",
       "        text-align: right;\n",
       "    }\n",
       "</style>\n",
       "<table border=\"1\" class=\"dataframe\">\n",
       "  <thead>\n",
       "    <tr style=\"text-align: right;\">\n",
       "      <th></th>\n",
       "      <th>Train_Recall</th>\n",
       "      <th>Train_Precision</th>\n",
       "      <th>Train_F1</th>\n",
       "      <th>Train_Accuracy</th>\n",
       "      <th>Train_ROC_AUC</th>\n",
       "      <th>Test_Recall</th>\n",
       "      <th>Test_Precision</th>\n",
       "      <th>Test_F1</th>\n",
       "      <th>Test_Accuracy</th>\n",
       "      <th>Test_ROC_AUC</th>\n",
       "    </tr>\n",
       "  </thead>\n",
       "  <tbody>\n",
       "    <tr>\n",
       "      <th>Base Model after tuning</th>\n",
       "      <td>1.0</td>\n",
       "      <td>0.0</td>\n",
       "      <td>0.0</td>\n",
       "      <td>0.839306</td>\n",
       "      <td>0.839306</td>\n",
       "      <td>1.000000</td>\n",
       "      <td>0.000000</td>\n",
       "      <td>0.000000</td>\n",
       "      <td>0.839421</td>\n",
       "      <td>0.839421</td>\n",
       "    </tr>\n",
       "    <tr>\n",
       "      <th>Logistic Regression</th>\n",
       "      <td>1.0</td>\n",
       "      <td>0.0</td>\n",
       "      <td>0.0</td>\n",
       "      <td>0.839306</td>\n",
       "      <td>0.839306</td>\n",
       "      <td>0.966667</td>\n",
       "      <td>0.118852</td>\n",
       "      <td>0.211679</td>\n",
       "      <td>0.857848</td>\n",
       "      <td>0.857848</td>\n",
       "    </tr>\n",
       "  </tbody>\n",
       "</table>\n",
       "</div>"
      ],
      "text/plain": [
       "                         Train_Recall  Train_Precision  Train_F1  \\\n",
       "Base Model after tuning           1.0              0.0       0.0   \n",
       "Logistic Regression               1.0              0.0       0.0   \n",
       "\n",
       "                         Train_Accuracy  Train_ROC_AUC  Test_Recall  \\\n",
       "Base Model after tuning        0.839306       0.839306     1.000000   \n",
       "Logistic Regression            0.839306       0.839306     0.966667   \n",
       "\n",
       "                         Test_Precision   Test_F1  Test_Accuracy  Test_ROC_AUC  \n",
       "Base Model after tuning        0.000000  0.000000       0.839421      0.839421  \n",
       "Logistic Regression            0.118852  0.211679       0.857848      0.857848  "
      ]
     },
     "execution_count": 60,
     "metadata": {},
     "output_type": "execute_result"
    }
   ],
   "source": [
    "evaluation"
   ]
  },
  {
   "cell_type": "markdown",
   "id": "e0f5334e",
   "metadata": {},
   "source": [
    "### Random Forest Classification"
   ]
  },
  {
   "cell_type": "markdown",
   "id": "348343c8",
   "metadata": {},
   "source": [
    "Random Forest consists of an ensemble of decision trees. The algorithm splits the dataset into independent random subsamples and selects subsamples of features, and fits a decision tree classfier to each subsample. It then averages the estimates to improve the prediction accuracy.\n",
    "\n",
    "We will use the class sklearn.ensemble.RandomForestClassifier from scikit learn. Based on our research, there are several hyperparameters that we will need to adjust:\n",
    "\n",
    "  n_estimator: the number of trees in the forest\n",
    "  min_samples_split:the minimum number of data points required to be at a leaf node\n",
    "  max_features: the number of features to consider when looking for the best split\n",
    "  max_depth: the maximum depth of the tree"
   ]
  },
  {
   "cell_type": "code",
   "execution_count": 61,
   "id": "9c5e51d2",
   "metadata": {},
   "outputs": [],
   "source": [
    "#Setting ranges for each parameter.\n",
    "clf__max_depth = [int(x) for x in np.linspace(5, 50, num = 10)]\n",
    "rfc_params = {\"clf__n_estimators\": np.linspace(start = 100, stop = 1000, num = 10,dtype=int),\n",
    "              \"clf__min_samples_split\": np.arange(2,6), \n",
    "              \"clf__max_features\":[\"sqrt\", \"log2\"],\n",
    "              \"clf__max_depth\": clf__max_depth\n",
    "             }"
   ]
  },
  {
   "cell_type": "code",
   "execution_count": 62,
   "id": "2a5c6b7c",
   "metadata": {},
   "outputs": [
    {
     "name": "stdout",
     "output_type": "stream",
     "text": [
      "Fitting 5 folds for each of 120 candidates, totalling 600 fits\n",
      "Best parameters for  RandomForestClassifier(n_jobs=-1, random_state=1)\n",
      "{'clf__n_estimators': 1000, 'clf__min_samples_split': 3, 'clf__max_features': 'log2', 'clf__max_depth': 50}\n",
      "\n",
      "Best train recall score: 0.71\n",
      "Wall time: 8min 32s\n"
     ]
    }
   ],
   "source": [
    "%%time\n",
    "classifier=ensemble.RandomForestClassifier(random_state=1,n_jobs=-1)\n",
    "rfc_best_estimator = rand_search(X_train,y_train, rfc_params, classifier,n_iter=120) #apply random search"
   ]
  },
  {
   "cell_type": "code",
   "execution_count": 63,
   "id": "445d27ce",
   "metadata": {},
   "outputs": [
    {
     "name": "stdout",
     "output_type": "stream",
     "text": [
      "Wall time: 1min 20s\n"
     ]
    }
   ],
   "source": [
    "%%time\n",
    "cv_scores_rfc = (\n",
    "  model_selection.cross_val_score(rfc_best_estimator,\n",
    "                                  X_train,\n",
    "                                  y_train,\n",
    "                                  scoring=\"roc_auc\",\n",
    "                                  cv=cross_validator,\n",
    "                                  n_jobs=-1))"
   ]
  },
  {
   "cell_type": "code",
   "execution_count": 64,
   "id": "3d5afd10",
   "metadata": {},
   "outputs": [
    {
     "name": "stdout",
     "output_type": "stream",
     "text": [
      " 2.5%:0.955,97.5%:0.976\n"
     ]
    }
   ],
   "source": [
    "cv_quantiles = np.quantile(a=cv_scores_rfc,q=[0.025,0.975])\n",
    "print(f\" 2.5%:{cv_quantiles[0]:.3f},97.5%:{cv_quantiles[1]:.3f}\")"
   ]
  },
  {
   "cell_type": "code",
   "execution_count": 65,
   "id": "0d7114e4",
   "metadata": {},
   "outputs": [
    {
     "data": {
      "text/plain": [
       "<AxesSubplot:ylabel='Count'>"
      ]
     },
     "execution_count": 65,
     "metadata": {},
     "output_type": "execute_result"
    },
    {
     "data": {
      "image/png": "[encoded data removed]",
      "text/plain": [
       "<Figure size 432x288 with 1 Axes>"
      ]
     },
     "metadata": {},
     "output_type": "display_data"
    }
   ],
   "source": [
    "sns.set_style(\"darkgrid\")\n",
    "sns.histplot(cv_scores_rfc, bins=10)"
   ]
  },
  {
   "cell_type": "markdown",
   "id": "11e99768",
   "metadata": {},
   "source": [
    "### Get threshold using train set"
   ]
  },
  {
   "cell_type": "code",
   "execution_count": 66,
   "id": "a76cdde4",
   "metadata": {},
   "outputs": [],
   "source": [
    "y_proba = rfc_best_estimator.predict_proba(X_train)\n",
    "y_proba = y_proba[:,1]"
   ]
  },
  {
   "cell_type": "code",
   "execution_count": 67,
   "id": "1b05b98f",
   "metadata": {},
   "outputs": [
    {
     "data": {
      "image/png": "[encoded data removed]",
      "text/plain": [
       "<Figure size 432x288 with 1 Axes>"
      ]
     },
     "metadata": {},
     "output_type": "display_data"
    }
   ],
   "source": [
    "#get matrics of threshold and plot\n",
    "precision,recall,f1,roc_auc = threshhold_and_plot(y_train,y_proba,plot=True)"
   ]
  },
  {
   "cell_type": "code",
   "execution_count": 68,
   "id": "668a0979",
   "metadata": {},
   "outputs": [],
   "source": [
    "#threshold of roc_auc\n",
    "thresh_idx,thresh = max_thresh(roc_auc)"
   ]
  },
  {
   "cell_type": "code",
   "execution_count": 69,
   "id": "849b7e3c",
   "metadata": {},
   "outputs": [
    {
     "data": {
      "image/png": "[encoded data removed]",
      "text/plain": [
       "<Figure size 432x288 with 2 Axes>"
      ]
     },
     "metadata": {},
     "output_type": "display_data"
    },
    {
     "name": "stdout",
     "output_type": "stream",
     "text": [
      "True -ve : 5949\n",
      "False +ve : 0\n",
      "False -ve : 1138\n",
      "True +ve : 1\n",
      "\n"
     ]
    }
   ],
   "source": [
    "#make confusin matrix= \n",
    "title=\"Logistic Regression\" \n",
    "make_matrics_score(y_train, y_proba.astype(int),title,score=True,y_class_report=False, isTest=False)"
   ]
  },
  {
   "cell_type": "code",
   "execution_count": 70,
   "id": "0c05977d",
   "metadata": {},
   "outputs": [],
   "source": [
    "#on train set\n",
    "#thresh = estimate_with_threshold(\"Random Forest Classification\",rfc_best_estimator,X_train,y_train,isTest=False)"
   ]
  },
  {
   "cell_type": "markdown",
   "id": "a85bfdf7",
   "metadata": {},
   "source": [
    "### Apply threshold on test data"
   ]
  },
  {
   "cell_type": "code",
   "execution_count": 71,
   "id": "f5b6ba83",
   "metadata": {},
   "outputs": [],
   "source": [
    "y_proba = rfc_best_estimator.predict_proba(X_test)\n",
    "y_proba = np.where(y_proba[:,1] >thresh,1,0)"
   ]
  },
  {
   "cell_type": "code",
   "execution_count": 72,
   "id": "e81d6e53",
   "metadata": {},
   "outputs": [
    {
     "data": {
      "image/png": "[encoded data removed]",
      "text/plain": [
       "<Figure size 432x288 with 2 Axes>"
      ]
     },
     "metadata": {},
     "output_type": "display_data"
    },
    {
     "name": "stdout",
     "output_type": "stream",
     "text": [
      "True -ve : 2551\n",
      "False +ve : 0\n",
      "False -ve : 488\n",
      "True +ve : 0\n",
      "\n"
     ]
    }
   ],
   "source": [
    "#make confusin matrix= \n",
    "title=\"Random Forest Classification\" \n",
    "make_matrics_score(y_test, y_proba.astype(int),title,score=True,y_class_report=False, isTest=True)"
   ]
  },
  {
   "cell_type": "code",
   "execution_count": 73,
   "id": "b25a07f7",
   "metadata": {},
   "outputs": [
    {
     "name": "stdout",
     "output_type": "stream",
     "text": [
      "ROC_AUC Curve on test set\n"
     ]
    },
    {
     "data": {
      "image/png": "[encoded data removed]",
      "text/plain": [
       "<Figure size 432x288 with 1 Axes>"
      ]
     },
     "metadata": {},
     "output_type": "display_data"
    }
   ],
   "source": [
    "#plot roc_auc\n",
    "print('ROC_AUC Curve on test set')\n",
    "_=plot_roc(y_test, y_proba)"
   ]
  },
  {
   "cell_type": "code",
   "execution_count": 74,
   "id": "205cd365",
   "metadata": {},
   "outputs": [
    {
     "name": "stdout",
     "output_type": "stream",
     "text": [
      "PR_AUC Curve on train set\n"
     ]
    },
    {
     "data": {
      "image/png": "[encoded data removed]",
      "text/plain": [
       "<Figure size 360x360 with 1 Axes>"
      ]
     },
     "metadata": {},
     "output_type": "display_data"
    }
   ],
   "source": [
    "#plot PR_AUC\n",
    "print('PR_AUC Curve on train set')\n",
    "plot_precision_recall_curve(y_test, y_proba)"
   ]
  },
  {
   "cell_type": "code",
   "execution_count": 75,
   "id": "f2ac4c97",
   "metadata": {},
   "outputs": [],
   "source": [
    "#_ = estimate_with_threshold(\"Random Forest Classification\",rfc_best_estimator,X_test,y_test,isTest=True,thresh = thresh)"
   ]
  },
  {
   "cell_type": "markdown",
   "id": "aa16c559",
   "metadata": {},
   "source": [
    "### Metrics Comparision"
   ]
  },
  {
   "cell_type": "code",
   "execution_count": 76,
   "id": "1fe1527e",
   "metadata": {},
   "outputs": [
    {
     "data": {
      "text/html": [
       "<div>\n",
       "<style scoped>\n",
       "    .dataframe tbody tr th:only-of-type {\n",
       "        vertical-align: middle;\n",
       "    }\n",
       "\n",
       "    .dataframe tbody tr th {\n",
       "        vertical-align: top;\n",
       "    }\n",
       "\n",
       "    .dataframe thead th {\n",
       "        text-align: right;\n",
       "    }\n",
       "</style>\n",
       "<table border=\"1\" class=\"dataframe\">\n",
       "  <thead>\n",
       "    <tr style=\"text-align: right;\">\n",
       "      <th></th>\n",
       "      <th>Train_Recall</th>\n",
       "      <th>Train_Precision</th>\n",
       "      <th>Train_F1</th>\n",
       "      <th>Train_Accuracy</th>\n",
       "      <th>Train_ROC_AUC</th>\n",
       "      <th>Test_Recall</th>\n",
       "      <th>Test_Precision</th>\n",
       "      <th>Test_F1</th>\n",
       "      <th>Test_Accuracy</th>\n",
       "      <th>Test_ROC_AUC</th>\n",
       "    </tr>\n",
       "  </thead>\n",
       "  <tbody>\n",
       "    <tr>\n",
       "      <th>Base Model after tuning</th>\n",
       "      <td>1.0</td>\n",
       "      <td>0.000000</td>\n",
       "      <td>0.000000</td>\n",
       "      <td>0.839306</td>\n",
       "      <td>0.839306</td>\n",
       "      <td>1.000000</td>\n",
       "      <td>0.000000</td>\n",
       "      <td>0.000000</td>\n",
       "      <td>0.839421</td>\n",
       "      <td>0.839421</td>\n",
       "    </tr>\n",
       "    <tr>\n",
       "      <th>Logistic Regression</th>\n",
       "      <td>1.0</td>\n",
       "      <td>0.000878</td>\n",
       "      <td>0.001754</td>\n",
       "      <td>0.839447</td>\n",
       "      <td>0.839447</td>\n",
       "      <td>0.966667</td>\n",
       "      <td>0.118852</td>\n",
       "      <td>0.211679</td>\n",
       "      <td>0.857848</td>\n",
       "      <td>0.857848</td>\n",
       "    </tr>\n",
       "    <tr>\n",
       "      <th>Random Forest Classification</th>\n",
       "      <td>NaN</td>\n",
       "      <td>NaN</td>\n",
       "      <td>NaN</td>\n",
       "      <td>NaN</td>\n",
       "      <td>NaN</td>\n",
       "      <td>1.000000</td>\n",
       "      <td>0.000000</td>\n",
       "      <td>0.000000</td>\n",
       "      <td>0.839421</td>\n",
       "      <td>0.839421</td>\n",
       "    </tr>\n",
       "  </tbody>\n",
       "</table>\n",
       "</div>"
      ],
      "text/plain": [
       "                              Train_Recall  Train_Precision  Train_F1  \\\n",
       "Base Model after tuning                1.0         0.000000  0.000000   \n",
       "Logistic Regression                    1.0         0.000878  0.001754   \n",
       "Random Forest Classification           NaN              NaN       NaN   \n",
       "\n",
       "                              Train_Accuracy  Train_ROC_AUC  Test_Recall  \\\n",
       "Base Model after tuning             0.839306       0.839306     1.000000   \n",
       "Logistic Regression                 0.839447       0.839447     0.966667   \n",
       "Random Forest Classification             NaN            NaN     1.000000   \n",
       "\n",
       "                              Test_Precision   Test_F1  Test_Accuracy  \\\n",
       "Base Model after tuning             0.000000  0.000000       0.839421   \n",
       "Logistic Regression                 0.118852  0.211679       0.857848   \n",
       "Random Forest Classification        0.000000  0.000000       0.839421   \n",
       "\n",
       "                              Test_ROC_AUC  \n",
       "Base Model after tuning           0.839421  \n",
       "Logistic Regression               0.857848  \n",
       "Random Forest Classification      0.839421  "
      ]
     },
     "execution_count": 76,
     "metadata": {},
     "output_type": "execute_result"
    }
   ],
   "source": [
    "evaluation"
   ]
  },
  {
   "cell_type": "markdown",
   "id": "3be1da2f",
   "metadata": {},
   "source": [
    "### KNeighbours Classification"
   ]
  },
  {
   "cell_type": "markdown",
   "id": "2a48dff2",
   "metadata": {},
   "source": [
    "KNeighbours classfication chooses K nearest data points to the unlabeled data point then ask the K neighbours to \"vote\" for the classes that the point belongs to.\n",
    "\n",
    "We will use the class sklearn.neighbors.KNeighborsClassifier for the implementation. Important hyperparameters that we will adjust are shown as follows:\n",
    "\n",
    "  n_neighbors: the number of closest neigbours\n",
    "  weights: weight function in prediction\n",
    "  p: Power parameter for the Minkowski metric. When p = 1, this is equivalent to using manhattan_distance (l1), and euclidean_distance (l2) for p = 2"
   ]
  },
  {
   "cell_type": "code",
   "execution_count": 77,
   "id": "9057467c",
   "metadata": {},
   "outputs": [],
   "source": [
    "#Setting ranges for the hyperparameters are shown below.\n",
    "knn_params = {\"clf__n_neighbors\":[2,5,10,87,100],\n",
    "              \"clf__weights\":[\"uniform\", \"distance\"],\n",
    "              \"clf__p\":[1,2] \n",
    "             }"
   ]
  },
  {
   "cell_type": "code",
   "execution_count": 78,
   "id": "3782fe5a",
   "metadata": {},
   "outputs": [
    {
     "name": "stdout",
     "output_type": "stream",
     "text": [
      "Wall time: 0 ns\n",
      "Fitting 5 folds for each of 20 candidates, totalling 100 fits\n",
      "Best parameters for  KNeighborsClassifier(n_jobs=-1)\n",
      "{'clf__n_neighbors': 2, 'clf__p': 1, 'clf__weights': 'distance'}\n",
      "\n",
      "Best train recall score: 0.41\n"
     ]
    }
   ],
   "source": [
    "%time\n",
    "classifier = neighbors.KNeighborsClassifier(n_jobs=-1)\n",
    "knn_best_estimator = grid_search(X_train,y_train, knn_params, classifier)"
   ]
  },
  {
   "cell_type": "code",
   "execution_count": 79,
   "id": "e316b748",
   "metadata": {},
   "outputs": [
    {
     "name": "stdout",
     "output_type": "stream",
     "text": [
      "Wall time: 3.47 s\n"
     ]
    }
   ],
   "source": [
    "%%time\n",
    "cv_scores_knn = (\n",
    "  model_selection.cross_val_score(knn_best_estimator,\n",
    "                                  X_train,\n",
    "                                  y_train,\n",
    "                                  scoring=\"roc_auc\",\n",
    "                                  cv=cross_validator,\n",
    "                                  n_jobs=-1))"
   ]
  },
  {
   "cell_type": "code",
   "execution_count": 80,
   "id": "bbf73bad",
   "metadata": {},
   "outputs": [
    {
     "name": "stdout",
     "output_type": "stream",
     "text": [
      " 2.5%:0.701,97.5%:0.752\n"
     ]
    }
   ],
   "source": [
    "cv_quantiles = np.quantile(a=cv_scores_knn,q=[0.025,0.975])\n",
    "print(f\" 2.5%:{cv_quantiles[0]:.3f},97.5%:{cv_quantiles[1]:.3f}\")"
   ]
  },
  {
   "cell_type": "code",
   "execution_count": 81,
   "id": "a4fe42be",
   "metadata": {},
   "outputs": [
    {
     "data": {
      "text/plain": [
       "<AxesSubplot:ylabel='Count'>"
      ]
     },
     "execution_count": 81,
     "metadata": {},
     "output_type": "execute_result"
    },
    {
     "data": {
      "image/png": "[encoded data removed]",
      "text/plain": [
       "<Figure size 432x288 with 1 Axes>"
      ]
     },
     "metadata": {},
     "output_type": "display_data"
    }
   ],
   "source": [
    "sns.set_style(\"darkgrid\")\n",
    "sns.histplot(cv_scores_knn, bins=10)"
   ]
  },
  {
   "cell_type": "markdown",
   "id": "607ddc81",
   "metadata": {},
   "source": [
    "### Get threshold using train set"
   ]
  },
  {
   "cell_type": "code",
   "execution_count": 82,
   "id": "a0cababa",
   "metadata": {},
   "outputs": [],
   "source": [
    "y_proba = knn_best_estimator.predict_proba(X_train)\n",
    "y_proba = y_proba[:,1]"
   ]
  },
  {
   "cell_type": "code",
   "execution_count": 83,
   "id": "9bd73a6a",
   "metadata": {},
   "outputs": [
    {
     "data": {
      "image/png": "[encoded data removed]",
      "text/plain": [
       "<Figure size 432x288 with 1 Axes>"
      ]
     },
     "metadata": {},
     "output_type": "display_data"
    }
   ],
   "source": [
    "#get matrics of threshold and plot\n",
    "precision,recall,f1,roc_auc = threshhold_and_plot(y_train,y_proba,plot=True)\n",
    "    "
   ]
  },
  {
   "cell_type": "code",
   "execution_count": 84,
   "id": "93cea980",
   "metadata": {},
   "outputs": [],
   "source": [
    "#threshold of roc_auc\n",
    "thresh_idx,thresh = max_thresh(roc_auc)"
   ]
  },
  {
   "cell_type": "code",
   "execution_count": 85,
   "id": "de87cd54",
   "metadata": {},
   "outputs": [
    {
     "data": {
      "image/png": "[encoded data removed]",
      "text/plain": [
       "<Figure size 432x288 with 2 Axes>"
      ]
     },
     "metadata": {},
     "output_type": "display_data"
    },
    {
     "name": "stdout",
     "output_type": "stream",
     "text": [
      "True -ve : 5949\n",
      "False +ve : 0\n",
      "False -ve : 0\n",
      "True +ve : 1139\n",
      "\n"
     ]
    }
   ],
   "source": [
    "#make confusin matrix= \n",
    "title=\"KNeighbours Classification\" \n",
    "make_matrics_score(y_train, y_proba.astype(int),title,score=True,y_class_report=False, isTest=False)"
   ]
  },
  {
   "cell_type": "code",
   "execution_count": 86,
   "id": "33c59ce7",
   "metadata": {},
   "outputs": [],
   "source": [
    "#thresh = estimate_with_threshold(\"KNeighbours Classification\",knn_best_estimator,X_train,y_train,isTest=False)"
   ]
  },
  {
   "cell_type": "code",
   "execution_count": null,
   "id": "9b7ac847",
   "metadata": {},
   "outputs": [],
   "source": []
  },
  {
   "cell_type": "markdown",
   "id": "204b174b",
   "metadata": {},
   "source": [
    "### Apply threshold on test data"
   ]
  },
  {
   "cell_type": "code",
   "execution_count": 87,
   "id": "e2b4873f",
   "metadata": {},
   "outputs": [],
   "source": [
    "y_proba = knn_best_estimator.predict_proba(X_test)\n",
    "y_proba = np.where(y_proba[:,1] >thresh,1,0)"
   ]
  },
  {
   "cell_type": "code",
   "execution_count": 88,
   "id": "670b2860",
   "metadata": {},
   "outputs": [
    {
     "data": {
      "image/png": "[encoded data removed]",
      "text/plain": [
       "<Figure size 432x288 with 2 Axes>"
      ]
     },
     "metadata": {},
     "output_type": "display_data"
    },
    {
     "name": "stdout",
     "output_type": "stream",
     "text": [
      "True -ve : 2551\n",
      "False +ve : 0\n",
      "False -ve : 488\n",
      "True +ve : 0\n",
      "\n"
     ]
    }
   ],
   "source": [
    "#make confusin matrix= \n",
    "title=\"KNeighbours Classification\" \n",
    "make_matrics_score(y_test, y_proba.astype(int),title,score=True,y_class_report=False, isTest=True)"
   ]
  },
  {
   "cell_type": "code",
   "execution_count": 89,
   "id": "502728b3",
   "metadata": {},
   "outputs": [
    {
     "name": "stdout",
     "output_type": "stream",
     "text": [
      "ROC_AUC Curve on test set\n"
     ]
    },
    {
     "data": {
      "image/png": "[encoded data removed]",
      "text/plain": [
       "<Figure size 432x288 with 1 Axes>"
      ]
     },
     "metadata": {},
     "output_type": "display_data"
    }
   ],
   "source": [
    "#plot roc_auc\n",
    "print('ROC_AUC Curve on test set')\n",
    "_=plot_roc(y_test, y_proba)"
   ]
  },
  {
   "cell_type": "code",
   "execution_count": 90,
   "id": "7f4635fb",
   "metadata": {},
   "outputs": [
    {
     "name": "stdout",
     "output_type": "stream",
     "text": [
      "PR_AUC Curve on train set\n"
     ]
    },
    {
     "data": {
      "image/png": "[encoded data removed]",
      "text/plain": [
       "<Figure size 360x360 with 1 Axes>"
      ]
     },
     "metadata": {},
     "output_type": "display_data"
    }
   ],
   "source": [
    "#plot PR_AUC\n",
    "print('PR_AUC Curve on train set')\n",
    "plot_precision_recall_curve(y_test, y_proba)"
   ]
  },
  {
   "cell_type": "code",
   "execution_count": 91,
   "id": "2175d6b5",
   "metadata": {},
   "outputs": [],
   "source": [
    "#_ = estimate_with_threshold(\"KNeighbours Classification\",knn_best_estimator,X_test,y_test,isTest=True,thresh = thresh)"
   ]
  },
  {
   "cell_type": "markdown",
   "id": "98f90620",
   "metadata": {},
   "source": [
    "### Metrics Comparision"
   ]
  },
  {
   "cell_type": "code",
   "execution_count": 92,
   "id": "b24479e2",
   "metadata": {},
   "outputs": [
    {
     "data": {
      "text/html": [
       "<div>\n",
       "<style scoped>\n",
       "    .dataframe tbody tr th:only-of-type {\n",
       "        vertical-align: middle;\n",
       "    }\n",
       "\n",
       "    .dataframe tbody tr th {\n",
       "        vertical-align: top;\n",
       "    }\n",
       "\n",
       "    .dataframe thead th {\n",
       "        text-align: right;\n",
       "    }\n",
       "</style>\n",
       "<table border=\"1\" class=\"dataframe\">\n",
       "  <thead>\n",
       "    <tr style=\"text-align: right;\">\n",
       "      <th></th>\n",
       "      <th>Train_Recall</th>\n",
       "      <th>Train_Precision</th>\n",
       "      <th>Train_F1</th>\n",
       "      <th>Train_Accuracy</th>\n",
       "      <th>Train_ROC_AUC</th>\n",
       "      <th>Test_Recall</th>\n",
       "      <th>Test_Precision</th>\n",
       "      <th>Test_F1</th>\n",
       "      <th>Test_Accuracy</th>\n",
       "      <th>Test_ROC_AUC</th>\n",
       "    </tr>\n",
       "  </thead>\n",
       "  <tbody>\n",
       "    <tr>\n",
       "      <th>Base Model after tuning</th>\n",
       "      <td>1.0</td>\n",
       "      <td>0.000000</td>\n",
       "      <td>0.000000</td>\n",
       "      <td>0.839306</td>\n",
       "      <td>0.839306</td>\n",
       "      <td>1.000000</td>\n",
       "      <td>0.000000</td>\n",
       "      <td>0.000000</td>\n",
       "      <td>0.839421</td>\n",
       "      <td>0.839421</td>\n",
       "    </tr>\n",
       "    <tr>\n",
       "      <th>Logistic Regression</th>\n",
       "      <td>1.0</td>\n",
       "      <td>0.000878</td>\n",
       "      <td>0.001754</td>\n",
       "      <td>0.839447</td>\n",
       "      <td>0.839447</td>\n",
       "      <td>0.966667</td>\n",
       "      <td>0.118852</td>\n",
       "      <td>0.211679</td>\n",
       "      <td>0.857848</td>\n",
       "      <td>0.857848</td>\n",
       "    </tr>\n",
       "    <tr>\n",
       "      <th>Random Forest Classification</th>\n",
       "      <td>NaN</td>\n",
       "      <td>NaN</td>\n",
       "      <td>NaN</td>\n",
       "      <td>NaN</td>\n",
       "      <td>NaN</td>\n",
       "      <td>1.000000</td>\n",
       "      <td>0.000000</td>\n",
       "      <td>0.000000</td>\n",
       "      <td>0.839421</td>\n",
       "      <td>0.839421</td>\n",
       "    </tr>\n",
       "    <tr>\n",
       "      <th>KNeighbours Classification</th>\n",
       "      <td>1.0</td>\n",
       "      <td>1.000000</td>\n",
       "      <td>1.000000</td>\n",
       "      <td>1.000000</td>\n",
       "      <td>1.000000</td>\n",
       "      <td>1.000000</td>\n",
       "      <td>0.000000</td>\n",
       "      <td>0.000000</td>\n",
       "      <td>0.839421</td>\n",
       "      <td>0.839421</td>\n",
       "    </tr>\n",
       "  </tbody>\n",
       "</table>\n",
       "</div>"
      ],
      "text/plain": [
       "                              Train_Recall  Train_Precision  Train_F1  \\\n",
       "Base Model after tuning                1.0         0.000000  0.000000   \n",
       "Logistic Regression                    1.0         0.000878  0.001754   \n",
       "Random Forest Classification           NaN              NaN       NaN   \n",
       "KNeighbours Classification             1.0         1.000000  1.000000   \n",
       "\n",
       "                              Train_Accuracy  Train_ROC_AUC  Test_Recall  \\\n",
       "Base Model after tuning             0.839306       0.839306     1.000000   \n",
       "Logistic Regression                 0.839447       0.839447     0.966667   \n",
       "Random Forest Classification             NaN            NaN     1.000000   \n",
       "KNeighbours Classification          1.000000       1.000000     1.000000   \n",
       "\n",
       "                              Test_Precision   Test_F1  Test_Accuracy  \\\n",
       "Base Model after tuning             0.000000  0.000000       0.839421   \n",
       "Logistic Regression                 0.118852  0.211679       0.857848   \n",
       "Random Forest Classification        0.000000  0.000000       0.839421   \n",
       "KNeighbours Classification          0.000000  0.000000       0.839421   \n",
       "\n",
       "                              Test_ROC_AUC  \n",
       "Base Model after tuning           0.839421  \n",
       "Logistic Regression               0.857848  \n",
       "Random Forest Classification      0.839421  \n",
       "KNeighbours Classification        0.839421  "
      ]
     },
     "execution_count": 92,
     "metadata": {},
     "output_type": "execute_result"
    }
   ],
   "source": [
    "evaluation"
   ]
  },
  {
   "cell_type": "markdown",
   "id": "d397bad6",
   "metadata": {},
   "source": [
    "### XGBoost Classification"
   ]
  },
  {
   "cell_type": "markdown",
   "id": "4c829ef7",
   "metadata": {},
   "source": [
    "XGBoost uses gradient boosting technique, and is on the priciples of decison tree ensemble, which a set of classification and regression trees. It is similar to Random Forest difference is how the algorithms train the models.\n",
    "\n",
    "The hyperparameters we need to fine-tune are as follows:\n",
    "\n",
    "  learning_rate: the learning rate of gradient boosting\n",
    "  max_depth:maximum tree depth\n",
    "  min_child_weight: minimum sum of instance weight(hessian) needed in a child. Useful to reduce overfitting\n",
    "  reg_lambda: L2 regularisation"
   ]
  },
  {
   "cell_type": "code",
   "execution_count": 93,
   "id": "1e1f2ff2",
   "metadata": {},
   "outputs": [],
   "source": [
    "#Settingranges for the hyperparameter are shown below.\n",
    "xgb_params = {\"clf__learning_rate\": [0.05, 0.1, 0.2, 0.3, 0.4, 0.5],\n",
    "               \"clf__max_depth\": np.arange(2,7),\n",
    "               \"clf__min_child_weight\": np.arange(1,11),\n",
    "               \"clf__reg_lambda\": np.linspace(0.1,1,num=10)\n",
    "              }"
   ]
  },
  {
   "cell_type": "code",
   "execution_count": 94,
   "id": "e2b4b411",
   "metadata": {},
   "outputs": [
    {
     "name": "stdout",
     "output_type": "stream",
     "text": [
      "Fitting 5 folds for each of 120 candidates, totalling 600 fits\n",
      "Best parameters for  XGBClassifier(base_score=None, booster='gbtree', colsample_bylevel=None,\n",
      "              colsample_bynode=None, colsample_bytree=None,\n",
      "              enable_categorical=False, gamma=None, gpu_id=None,\n",
      "              importance_type=None, interaction_constraints=None,\n",
      "              learning_rate=None, max_delta_step=None, max_depth=None,\n",
      "              min_child_weight=None, missing=nan, monotone_constraints=None,\n",
      "              n_estimators=100, n_jobs=-1, num_parallel_tree=None,\n",
      "              predictor=None, random_state=None, reg_alpha=None,\n",
      "              reg_lambda=None, scale_pos_weight=None, subsample=None,\n",
      "              tree_method=None, use_label_encoder=False,\n",
      "              validate_parameters=None, verbosity=0)\n",
      "{'clf__reg_lambda': 0.9, 'clf__min_child_weight': 3, 'clf__max_depth': 5, 'clf__learning_rate': 0.4}\n",
      "\n",
      "Best train recall score: 0.78\n",
      "Wall time: 1min 23s\n"
     ]
    }
   ],
   "source": [
    "%%time\n",
    "classifier = XGBClassifier(booster=\"gbtree\", verbosity=0, use_label_encoder=False,n_jobs=-1)\n",
    "\n",
    "xgb_best_estimator = rand_search(X_train,y_train, xgb_params,classifier,n_iter=120)"
   ]
  },
  {
   "cell_type": "code",
   "execution_count": 95,
   "id": "47524b25",
   "metadata": {},
   "outputs": [
    {
     "name": "stdout",
     "output_type": "stream",
     "text": [
      "Wall time: 8.67 s\n"
     ]
    }
   ],
   "source": [
    "%%time\n",
    "cv_scores_xgb = (\n",
    "  model_selection.cross_val_score(xgb_best_estimator,\n",
    "                                  X_train,\n",
    "                                  y_train,\n",
    "                                  scoring=\"roc_auc\",\n",
    "                                  cv=cross_validator,\n",
    "                                  n_jobs=-1))"
   ]
  },
  {
   "cell_type": "code",
   "execution_count": 96,
   "id": "bbb14a6c",
   "metadata": {},
   "outputs": [
    {
     "name": "stdout",
     "output_type": "stream",
     "text": [
      " 2.5%:0.961,97.5%:0.975\n"
     ]
    }
   ],
   "source": [
    "cv_quantiles = np.quantile(a=cv_scores_xgb,q=[0.025,0.975])\n",
    "print(f\" 2.5%:{cv_quantiles[0]:.3f},97.5%:{cv_quantiles[1]:.3f}\")"
   ]
  },
  {
   "cell_type": "code",
   "execution_count": 97,
   "id": "10d4a8be",
   "metadata": {},
   "outputs": [
    {
     "data": {
      "text/plain": [
       "<AxesSubplot:ylabel='Count'>"
      ]
     },
     "execution_count": 97,
     "metadata": {},
     "output_type": "execute_result"
    },
    {
     "data": {
      "image/png": "[encoded data removed]",
      "text/plain": [
       "<Figure size 432x288 with 1 Axes>"
      ]
     },
     "metadata": {},
     "output_type": "display_data"
    }
   ],
   "source": [
    "sns.set_style(\"darkgrid\")\n",
    "sns.histplot(cv_scores_xgb, bins=10)"
   ]
  },
  {
   "cell_type": "markdown",
   "id": "ce158f7e",
   "metadata": {},
   "source": [
    "### Get threshold using train set"
   ]
  },
  {
   "cell_type": "code",
   "execution_count": 98,
   "id": "95a46f18",
   "metadata": {},
   "outputs": [],
   "source": [
    "#use train data to get threshold for roc_auc\n",
    "y_proba = xgb_best_estimator.predict_proba(X_train)\n",
    "y_proba = y_proba[:,1]"
   ]
  },
  {
   "cell_type": "code",
   "execution_count": 99,
   "id": "02837388",
   "metadata": {},
   "outputs": [
    {
     "data": {
      "image/png": "[encoded data removed]",
      "text/plain": [
       "<Figure size 432x288 with 1 Axes>"
      ]
     },
     "metadata": {},
     "output_type": "display_data"
    }
   ],
   "source": [
    "#get matrics of threshold and plot\n",
    "precision,recall,f1,roc_auc = threshhold_and_plot(y_train,y_proba,plot=True)"
   ]
  },
  {
   "cell_type": "code",
   "execution_count": 100,
   "id": "97deee9a",
   "metadata": {},
   "outputs": [],
   "source": [
    "#threshold of roc_auc\n",
    "thresh_idx,thresh = max_thresh(roc_auc)"
   ]
  },
  {
   "cell_type": "code",
   "execution_count": 101,
   "id": "bcc9d61e",
   "metadata": {},
   "outputs": [
    {
     "data": {
      "image/png": "[encoded data removed]",
      "text/plain": [
       "<Figure size 432x288 with 2 Axes>"
      ]
     },
     "metadata": {},
     "output_type": "display_data"
    },
    {
     "name": "stdout",
     "output_type": "stream",
     "text": [
      "True -ve : 5949\n",
      "False +ve : 0\n",
      "False -ve : 1139\n",
      "True +ve : 0\n",
      "\n"
     ]
    }
   ],
   "source": [
    "#make confusin matrix= \n",
    "title=\"Logistic Regression\" \n",
    "make_matrics_score(y_train, y_proba.astype(int),title,score=True,y_class_report=False, isTest=False)"
   ]
  },
  {
   "cell_type": "code",
   "execution_count": 102,
   "id": "fa696bbd",
   "metadata": {},
   "outputs": [],
   "source": [
    "#thresh = estimate_with_threshold(\"XGBoost Classification\",xgb_best_estimator,X_train,y_train,isTest=True)"
   ]
  },
  {
   "cell_type": "markdown",
   "id": "42c262f4",
   "metadata": {},
   "source": [
    "### Apply threshold on test data"
   ]
  },
  {
   "cell_type": "code",
   "execution_count": 103,
   "id": "a1fb5721",
   "metadata": {},
   "outputs": [],
   "source": [
    "y_proba = xgb_best_estimator.predict_proba(X_test)\n",
    "y_proba = np.where(y_proba[:,1] >thresh,1,0)"
   ]
  },
  {
   "cell_type": "code",
   "execution_count": 104,
   "id": "bf82308e",
   "metadata": {},
   "outputs": [
    {
     "data": {
      "image/png": "[encoded data removed]",
      "text/plain": [
       "<Figure size 432x288 with 2 Axes>"
      ]
     },
     "metadata": {},
     "output_type": "display_data"
    },
    {
     "name": "stdout",
     "output_type": "stream",
     "text": [
      "True -ve : 2550\n",
      "False +ve : 1\n",
      "False -ve : 352\n",
      "True +ve : 136\n",
      "\n"
     ]
    }
   ],
   "source": [
    "#make confusin matrix= \n",
    "title=\"XGBoost Classification\" \n",
    "make_matrics_score(y_test, y_proba.astype(int),title,score=True,y_class_report=False, isTest=True)"
   ]
  },
  {
   "cell_type": "code",
   "execution_count": 105,
   "id": "a888db5f",
   "metadata": {},
   "outputs": [
    {
     "name": "stdout",
     "output_type": "stream",
     "text": [
      "ROC_AUC Curve on test set\n"
     ]
    },
    {
     "data": {
      "image/png": "[encoded data removed]",
      "text/plain": [
       "<Figure size 432x288 with 1 Axes>"
      ]
     },
     "metadata": {},
     "output_type": "display_data"
    }
   ],
   "source": [
    "#plot roc_auc\n",
    "print('ROC_AUC Curve on test set')\n",
    "_=plot_roc(y_test, y_proba)"
   ]
  },
  {
   "cell_type": "code",
   "execution_count": 106,
   "id": "562b40e1",
   "metadata": {},
   "outputs": [
    {
     "name": "stdout",
     "output_type": "stream",
     "text": [
      "PR_AUC Curve on train set\n"
     ]
    },
    {
     "data": {
      "image/png": "[encoded data removed]",
      "text/plain": [
       "<Figure size 360x360 with 1 Axes>"
      ]
     },
     "metadata": {},
     "output_type": "display_data"
    }
   ],
   "source": [
    "#plot PR_AUC\n",
    "print('PR_AUC Curve on train set')\n",
    "plot_precision_recall_curve(y_test, y_proba)"
   ]
  },
  {
   "cell_type": "code",
   "execution_count": 107,
   "id": "0607176e",
   "metadata": {},
   "outputs": [],
   "source": [
    "#_ = estimate_with_threshold(\"XGBoost Classification\",xgb_best_estimator,X_test,y_test,isTest=True,thresh = thresh)"
   ]
  },
  {
   "cell_type": "markdown",
   "id": "496d30ff",
   "metadata": {},
   "source": [
    "### Metrics Comparision"
   ]
  },
  {
   "cell_type": "code",
   "execution_count": 108,
   "id": "5b5fd624",
   "metadata": {},
   "outputs": [
    {
     "data": {
      "text/html": [
       "<div>\n",
       "<style scoped>\n",
       "    .dataframe tbody tr th:only-of-type {\n",
       "        vertical-align: middle;\n",
       "    }\n",
       "\n",
       "    .dataframe tbody tr th {\n",
       "        vertical-align: top;\n",
       "    }\n",
       "\n",
       "    .dataframe thead th {\n",
       "        text-align: right;\n",
       "    }\n",
       "</style>\n",
       "<table border=\"1\" class=\"dataframe\">\n",
       "  <thead>\n",
       "    <tr style=\"text-align: right;\">\n",
       "      <th></th>\n",
       "      <th>Train_Recall</th>\n",
       "      <th>Train_Precision</th>\n",
       "      <th>Train_F1</th>\n",
       "      <th>Train_Accuracy</th>\n",
       "      <th>Train_ROC_AUC</th>\n",
       "      <th>Test_Recall</th>\n",
       "      <th>Test_Precision</th>\n",
       "      <th>Test_F1</th>\n",
       "      <th>Test_Accuracy</th>\n",
       "      <th>Test_ROC_AUC</th>\n",
       "    </tr>\n",
       "  </thead>\n",
       "  <tbody>\n",
       "    <tr>\n",
       "      <th>Base Model after tuning</th>\n",
       "      <td>1.0</td>\n",
       "      <td>0.0</td>\n",
       "      <td>0.0</td>\n",
       "      <td>0.839306</td>\n",
       "      <td>0.839306</td>\n",
       "      <td>1.000000</td>\n",
       "      <td>0.000000</td>\n",
       "      <td>0.000000</td>\n",
       "      <td>0.839421</td>\n",
       "      <td>0.839421</td>\n",
       "    </tr>\n",
       "    <tr>\n",
       "      <th>Logistic Regression</th>\n",
       "      <td>1.0</td>\n",
       "      <td>0.0</td>\n",
       "      <td>0.0</td>\n",
       "      <td>0.839306</td>\n",
       "      <td>0.839306</td>\n",
       "      <td>0.966667</td>\n",
       "      <td>0.118852</td>\n",
       "      <td>0.211679</td>\n",
       "      <td>0.857848</td>\n",
       "      <td>0.857848</td>\n",
       "    </tr>\n",
       "    <tr>\n",
       "      <th>Random Forest Classification</th>\n",
       "      <td>NaN</td>\n",
       "      <td>NaN</td>\n",
       "      <td>NaN</td>\n",
       "      <td>NaN</td>\n",
       "      <td>NaN</td>\n",
       "      <td>1.000000</td>\n",
       "      <td>0.000000</td>\n",
       "      <td>0.000000</td>\n",
       "      <td>0.839421</td>\n",
       "      <td>0.839421</td>\n",
       "    </tr>\n",
       "    <tr>\n",
       "      <th>KNeighbours Classification</th>\n",
       "      <td>1.0</td>\n",
       "      <td>1.0</td>\n",
       "      <td>1.0</td>\n",
       "      <td>1.000000</td>\n",
       "      <td>1.000000</td>\n",
       "      <td>1.000000</td>\n",
       "      <td>0.000000</td>\n",
       "      <td>0.000000</td>\n",
       "      <td>0.839421</td>\n",
       "      <td>0.839421</td>\n",
       "    </tr>\n",
       "    <tr>\n",
       "      <th>XGBoost Classification</th>\n",
       "      <td>NaN</td>\n",
       "      <td>NaN</td>\n",
       "      <td>NaN</td>\n",
       "      <td>NaN</td>\n",
       "      <td>NaN</td>\n",
       "      <td>0.992701</td>\n",
       "      <td>0.278689</td>\n",
       "      <td>0.435200</td>\n",
       "      <td>0.883843</td>\n",
       "      <td>0.883843</td>\n",
       "    </tr>\n",
       "  </tbody>\n",
       "</table>\n",
       "</div>"
      ],
      "text/plain": [
       "                              Train_Recall  Train_Precision  Train_F1  \\\n",
       "Base Model after tuning                1.0              0.0       0.0   \n",
       "Logistic Regression                    1.0              0.0       0.0   \n",
       "Random Forest Classification           NaN              NaN       NaN   \n",
       "KNeighbours Classification             1.0              1.0       1.0   \n",
       "XGBoost Classification                 NaN              NaN       NaN   \n",
       "\n",
       "                              Train_Accuracy  Train_ROC_AUC  Test_Recall  \\\n",
       "Base Model after tuning             0.839306       0.839306     1.000000   \n",
       "Logistic Regression                 0.839306       0.839306     0.966667   \n",
       "Random Forest Classification             NaN            NaN     1.000000   \n",
       "KNeighbours Classification          1.000000       1.000000     1.000000   \n",
       "XGBoost Classification                   NaN            NaN     0.992701   \n",
       "\n",
       "                              Test_Precision   Test_F1  Test_Accuracy  \\\n",
       "Base Model after tuning             0.000000  0.000000       0.839421   \n",
       "Logistic Regression                 0.118852  0.211679       0.857848   \n",
       "Random Forest Classification        0.000000  0.000000       0.839421   \n",
       "KNeighbours Classification          0.000000  0.000000       0.839421   \n",
       "XGBoost Classification              0.278689  0.435200       0.883843   \n",
       "\n",
       "                              Test_ROC_AUC  \n",
       "Base Model after tuning           0.839421  \n",
       "Logistic Regression               0.857848  \n",
       "Random Forest Classification      0.839421  \n",
       "KNeighbours Classification        0.839421  \n",
       "XGBoost Classification            0.883843  "
      ]
     },
     "execution_count": 108,
     "metadata": {},
     "output_type": "execute_result"
    }
   ],
   "source": [
    "evaluation"
   ]
  },
  {
   "cell_type": "markdown",
   "id": "189cf20a",
   "metadata": {},
   "source": [
    "### ROC_AUC Curve Comparison"
   ]
  },
  {
   "cell_type": "markdown",
   "id": "30333b88",
   "metadata": {},
   "source": [
    "* XGBoost classifier leads in both test and train AUC_ROC. and with Accuracy as well.The model can 85% time accuractely predict potential customers who could churn.\n",
    "* Kneighbor performed the least on test set, but well on train set.\n",
    "* logistic regression performed least on Trrain set interms of recall 0.96. All other model performed well on train set for recall.\n"
   ]
  },
  {
   "cell_type": "code",
   "execution_count": 109,
   "id": "ca1d6277",
   "metadata": {},
   "outputs": [],
   "source": [
    "def calc_threshold(tpr,fpr,thresholds,clf_name):\n",
    "    \n",
    "    # locate the index\n",
    "    idx = np.argmax(tpr - fpr)\n",
    "    #find the threshold at max index\n",
    "    max_threshold = round(thresholds[idx],4)\n",
    "    print('Best Threshold for {0}={1} and index={2}'.format(clf_name,thresholds[idx], idx))\n",
    "    roc_auc = round(metrics.auc(fpr, tpr),4)\n",
    "    return idx,roc_auc"
   ]
  },
  {
   "cell_type": "code",
   "execution_count": 110,
   "id": "f2c8dc1c",
   "metadata": {},
   "outputs": [],
   "source": [
    "from numpy import sqrt\n",
    "from numpy import argmax\n",
    "def ROC_AUC_Comparison(X_data,y_data):\n",
    "\n",
    "    y_proba_knn = knn_best_estimator.predict_proba(X_data)\n",
    "    y_proba_rfc = rfc_best_estimator.predict_proba(X_data)\n",
    "    y_proba_xgb = xgb_best_estimator.predict_proba(X_data)\n",
    "    y_scores_log = log_best_estimator.decision_function(X_data)\n",
    "\n",
    "    fpr_knn, tpr_knn, knn_thresholds = metrics.roc_curve(y_data, y_proba_knn[:,1])\n",
    "    fpr_rfc, tpr_rfc, rfc_thresholds = metrics.roc_curve(y_data, y_proba_rfc[:,1])\n",
    "    fpr_xgb, tpr_xgb, xgb_thresholds = metrics.roc_curve(y_data, y_proba_xgb[:,1])\n",
    "    fpr_log, tpr_log, log_thresholds = metrics.roc_curve(y_data, y_scores_log)\n",
    "\n",
    "    plt.figure(figsize=(8,8))\n",
    "    plt.xlim([-0.01, 1.00])\n",
    "    plt.ylim([-0.01, 1.01])\n",
    "    plt.plot([0,1], [0,1], linestyle='--')\n",
    "\n",
    "    ix,roc_auc = calc_threshold(tpr_knn,fpr_knn,knn_thresholds,'KNeighbors')\n",
    "    plt.plot(fpr_knn, tpr_knn, lw=1,label='KNeighbors: roc_auc - {0}'.format(roc_auc), color='blue')\n",
    "    plt.scatter(fpr_knn[ix], tpr_knn[ix], marker='o', color='blue')\n",
    "\n",
    "    ix,roc_auc = calc_threshold(tpr_rfc,fpr_rfc,rfc_thresholds,'RandForest')\n",
    "    plt.plot(fpr_rfc, tpr_rfc, lw=1, label=('RandForest: roc_auc - {0}'.format(roc_auc)), color='orange')\n",
    "    plt.scatter(fpr_rfc[ix], tpr_rfc[ix], marker='o', color='orange')\n",
    "\n",
    "    xgb_thresholds=np.float64(xgb_thresholds)\n",
    "    ix,roc_auc = calc_threshold(tpr_xgb,fpr_xgb,xgb_thresholds,'XGBoost')\n",
    "    plt.plot(fpr_xgb, tpr_xgb, lw=1, label=('XGBoost: roc_auc - {0}'.format(roc_auc)), color='yellow')\n",
    "    plt.scatter(fpr_xgb[ix], tpr_xgb[ix], marker='o', color='yellow')\n",
    "\n",
    "    ix,roc_auc = calc_threshold(tpr_log,fpr_log,log_thresholds,'LogRegr')\n",
    "    plt.plot(fpr_log, tpr_log, lw=1, label=('LogRegr: roc_auc - {0}'.format(roc_auc)), color='red')\n",
    "    plt.scatter(fpr_log[ix], tpr_log[ix], marker='o', color='red')\n",
    "\n",
    "    plt.xlabel('False Positive Rate', fontsize=16)\n",
    "    plt.ylabel('True Positive Rate', fontsize=16)\n",
    "    plt.title('ROC curve o', fontsize=16)\n",
    "    plt.legend(loc='lower right', fontsize=13)\n",
    "\n",
    "    plt.show();"
   ]
  },
  {
   "cell_type": "code",
   "execution_count": 111,
   "id": "1704cb8f",
   "metadata": {},
   "outputs": [
    {
     "name": "stdout",
     "output_type": "stream",
     "text": [
      "Best Threshold for KNeighbors=1.0 and index=1\n",
      "Best Threshold for RandForest=0.5314000000000001 and index=26\n",
      "Best Threshold for XGBoost=0.3404558300971985 and index=58\n",
      "Best Threshold for LogRegr=-1.5148960942589405 and index=782\n"
     ]
    },
    {
     "data": {
      "image/png": "[encoded data removed]",
      "text/plain": [
       "<Figure size 576x576 with 1 Axes>"
      ]
     },
     "metadata": {},
     "output_type": "display_data"
    }
   ],
   "source": [
    "## ROC_AUC Comparison on Train set\n",
    "ROC_AUC_Comparison(X_train,y_train)"
   ]
  },
  {
   "cell_type": "code",
   "execution_count": 112,
   "id": "c3c6553e",
   "metadata": {},
   "outputs": [
    {
     "data": {
      "text/html": [
       "<div>\n",
       "<style scoped>\n",
       "    .dataframe tbody tr th:only-of-type {\n",
       "        vertical-align: middle;\n",
       "    }\n",
       "\n",
       "    .dataframe tbody tr th {\n",
       "        vertical-align: top;\n",
       "    }\n",
       "\n",
       "    .dataframe thead th {\n",
       "        text-align: right;\n",
       "    }\n",
       "</style>\n",
       "<table border=\"1\" class=\"dataframe\">\n",
       "  <thead>\n",
       "    <tr style=\"text-align: right;\">\n",
       "      <th></th>\n",
       "      <th>Train_Recall</th>\n",
       "      <th>Train_Precision</th>\n",
       "      <th>Train_F1</th>\n",
       "      <th>Train_Accuracy</th>\n",
       "      <th>Train_ROC_AUC</th>\n",
       "      <th>Test_Recall</th>\n",
       "      <th>Test_Precision</th>\n",
       "      <th>Test_F1</th>\n",
       "      <th>Test_Accuracy</th>\n",
       "      <th>Test_ROC_AUC</th>\n",
       "    </tr>\n",
       "  </thead>\n",
       "  <tbody>\n",
       "    <tr>\n",
       "      <th>XGBoost Classification</th>\n",
       "      <td>NaN</td>\n",
       "      <td>NaN</td>\n",
       "      <td>NaN</td>\n",
       "      <td>NaN</td>\n",
       "      <td>NaN</td>\n",
       "      <td>0.992701</td>\n",
       "      <td>0.278689</td>\n",
       "      <td>0.435200</td>\n",
       "      <td>0.883843</td>\n",
       "      <td>0.883843</td>\n",
       "    </tr>\n",
       "    <tr>\n",
       "      <th>Logistic Regression</th>\n",
       "      <td>1.0</td>\n",
       "      <td>0.0</td>\n",
       "      <td>0.0</td>\n",
       "      <td>0.839306</td>\n",
       "      <td>0.839306</td>\n",
       "      <td>0.966667</td>\n",
       "      <td>0.118852</td>\n",
       "      <td>0.211679</td>\n",
       "      <td>0.857848</td>\n",
       "      <td>0.857848</td>\n",
       "    </tr>\n",
       "    <tr>\n",
       "      <th>Base Model after tuning</th>\n",
       "      <td>1.0</td>\n",
       "      <td>0.0</td>\n",
       "      <td>0.0</td>\n",
       "      <td>0.839306</td>\n",
       "      <td>0.839306</td>\n",
       "      <td>1.000000</td>\n",
       "      <td>0.000000</td>\n",
       "      <td>0.000000</td>\n",
       "      <td>0.839421</td>\n",
       "      <td>0.839421</td>\n",
       "    </tr>\n",
       "    <tr>\n",
       "      <th>Random Forest Classification</th>\n",
       "      <td>NaN</td>\n",
       "      <td>NaN</td>\n",
       "      <td>NaN</td>\n",
       "      <td>NaN</td>\n",
       "      <td>NaN</td>\n",
       "      <td>1.000000</td>\n",
       "      <td>0.000000</td>\n",
       "      <td>0.000000</td>\n",
       "      <td>0.839421</td>\n",
       "      <td>0.839421</td>\n",
       "    </tr>\n",
       "    <tr>\n",
       "      <th>KNeighbours Classification</th>\n",
       "      <td>1.0</td>\n",
       "      <td>1.0</td>\n",
       "      <td>1.0</td>\n",
       "      <td>1.000000</td>\n",
       "      <td>1.000000</td>\n",
       "      <td>1.000000</td>\n",
       "      <td>0.000000</td>\n",
       "      <td>0.000000</td>\n",
       "      <td>0.839421</td>\n",
       "      <td>0.839421</td>\n",
       "    </tr>\n",
       "  </tbody>\n",
       "</table>\n",
       "</div>"
      ],
      "text/plain": [
       "                              Train_Recall  Train_Precision  Train_F1  \\\n",
       "XGBoost Classification                 NaN              NaN       NaN   \n",
       "Logistic Regression                    1.0              0.0       0.0   \n",
       "Base Model after tuning                1.0              0.0       0.0   \n",
       "Random Forest Classification           NaN              NaN       NaN   \n",
       "KNeighbours Classification             1.0              1.0       1.0   \n",
       "\n",
       "                              Train_Accuracy  Train_ROC_AUC  Test_Recall  \\\n",
       "XGBoost Classification                   NaN            NaN     0.992701   \n",
       "Logistic Regression                 0.839306       0.839306     0.966667   \n",
       "Base Model after tuning             0.839306       0.839306     1.000000   \n",
       "Random Forest Classification             NaN            NaN     1.000000   \n",
       "KNeighbours Classification          1.000000       1.000000     1.000000   \n",
       "\n",
       "                              Test_Precision   Test_F1  Test_Accuracy  \\\n",
       "XGBoost Classification              0.278689  0.435200       0.883843   \n",
       "Logistic Regression                 0.118852  0.211679       0.857848   \n",
       "Base Model after tuning             0.000000  0.000000       0.839421   \n",
       "Random Forest Classification        0.000000  0.000000       0.839421   \n",
       "KNeighbours Classification          0.000000  0.000000       0.839421   \n",
       "\n",
       "                              Test_ROC_AUC  \n",
       "XGBoost Classification            0.883843  \n",
       "Logistic Regression               0.857848  \n",
       "Base Model after tuning           0.839421  \n",
       "Random Forest Classification      0.839421  \n",
       "KNeighbours Classification        0.839421  "
      ]
     },
     "execution_count": 112,
     "metadata": {},
     "output_type": "execute_result"
    }
   ],
   "source": [
    "evaluation.sort_values(by ='Test_ROC_AUC', ascending = False)"
   ]
  },
  {
   "cell_type": "markdown",
   "id": "ac31e0d3",
   "metadata": {},
   "source": [
    "On train data Kneighbors and Randomforest has perfect 1.0. Followed with Xgboost 0.99"
   ]
  },
  {
   "cell_type": "code",
   "execution_count": 113,
   "id": "05a00aaa",
   "metadata": {},
   "outputs": [
    {
     "name": "stdout",
     "output_type": "stream",
     "text": [
      "Best Threshold for KNeighbors=0.37335609928915464 and index=191\n",
      "Best Threshold for RandForest=0.2319333333333333 and index=184\n",
      "Best Threshold for XGBoost=0.07169295847415924 and index=184\n",
      "Best Threshold for LogRegr=-1.4881254728291626 and index=324\n"
     ]
    },
    {
     "data": {
      "image/png": "[encoded data removed]",
      "text/plain": [
       "<Figure size 576x576 with 1 Axes>"
      ]
     },
     "metadata": {},
     "output_type": "display_data"
    }
   ],
   "source": [
    "##ROC_AUC Comparison on Test set\n",
    "ROC_AUC_Comparison(X_test,y_test)"
   ]
  },
  {
   "cell_type": "markdown",
   "id": "dcee35cb",
   "metadata": {},
   "source": [
    "XGBoost tops with roc_auc 0.97, followed by Random Forest with 0.96"
   ]
  },
  {
   "cell_type": "markdown",
   "id": "467489f6",
   "metadata": {},
   "source": [
    "With this it can be concluded XGBoost can perform well among all selected model on these kind of data.so it is safe to select XGB classifier for further steps.\n",
    "Let me move with feature imporatnce on XGBoost classifier."
   ]
  },
  {
   "cell_type": "markdown",
   "id": "fcfa01bc",
   "metadata": {},
   "source": [
    "### Feature Importance"
   ]
  },
  {
   "cell_type": "markdown",
   "id": "1bc938af",
   "metadata": {},
   "source": [
    "Feature Importance is a process used to select features in the dataset that contributes the most in predicting the target variable. Working with selected features instead of all the features reduces the risk of over-fitting, improves accuracy, and decreases the training time. "
   ]
  },
  {
   "cell_type": "markdown",
   "id": "02cce95c",
   "metadata": {},
   "source": [
    "Finding Feature importance and selecting top 8 features"
   ]
  },
  {
   "cell_type": "code",
   "execution_count": 114,
   "id": "3a1d8856",
   "metadata": {},
   "outputs": [],
   "source": [
    "# converting numby to dataframe \n",
    "cols = ['Customer_Age', 'Credit_Limit', 'Total_Revolving_Bal',\n",
    "       'Total_Trans_Amt', 'Avg_Utilization_Ratio', 'Gender_Encoded',\n",
    "       'Dependent_count', 'Education_Level_sorted', 'Income_Category_sorted',\n",
    "       'Card_Category_sorted', 'Months_on_book', 'Total_Relationship_Count',\n",
    "       'Months_Inactive_12_mon', 'Contacts_Count_12_mon',\n",
    "       'Marital_Status_sorted_Married', 'Marital_Status_sorted_Single']\n",
    "        \n",
    "X_train = pd.DataFrame(X_train,columns=cols)\n",
    "X_test = pd.DataFrame(X_test,columns=cols)"
   ]
  },
  {
   "cell_type": "markdown",
   "id": "4b52b903",
   "metadata": {},
   "source": [
    "Many ways to find the feature importance, I am using builtin XBG function"
   ]
  },
  {
   "cell_type": "code",
   "execution_count": 115,
   "id": "e889fe68",
   "metadata": {},
   "outputs": [
    {
     "data": {
      "image/png": "[encoded data removed]",
      "text/plain": [
       "<Figure size 432x288 with 1 Axes>"
      ]
     },
     "metadata": {},
     "output_type": "display_data"
    },
    {
     "data": {
      "text/plain": [
       "<Figure size 1440x1440 with 0 Axes>"
      ]
     },
     "metadata": {},
     "output_type": "display_data"
    }
   ],
   "source": [
    "#find top 8 feature using XGBoost\n",
    "\n",
    "from xgboost import XGBRegressor,plot_importance\n",
    "import matplotlib.pyplot as plt\n",
    "#xgb = XGBRegressor(n_estimators=100)\n",
    "xgb = XGBClassifier(booster=\"gbtree\", verbosity=0, use_label_encoder=False,n_jobs=-1)\n",
    "xgb.fit(X_train, y_train)\n",
    "\n",
    "# from Builtin XGB\n",
    "plot_importance(xgb, max_num_features = 10,height=0.5)\n",
    "plt.figure(figsize=(20,20))\n",
    "plt.show()"
   ]
  },
  {
   "cell_type": "markdown",
   "id": "616c8ec7",
   "metadata": {},
   "source": [
    "The top 8 features can influence prediction are as below. "
   ]
  },
  {
   "cell_type": "markdown",
   "id": "a5c1c27c",
   "metadata": {},
   "source": [
    "* Total_Trans_Amt: Total Transaction Amount in Last 12 months((one year))\n",
    "* Credit_Limit: Credit Limit on the Credit Card\n",
    "* Customer_Age: Age in Years\n",
    "* Total_Revolving_Bal: The balance that carries over from one month to the next is the revolving balance\n",
    "* Avg_Utilization_Ratio: Represents how much of the available credit the customer spent\n",
    "* Total_Relationship_Count: Total no. of products held by the customer\n",
    "* Contacts_Count_12_mon: No. of Contacts between the customer and bank in the last 12 months(one year)\n",
    "* Months_Inactive_12_mon: No. of months inactive in the last 12 months(one year)"
   ]
  },
  {
   "cell_type": "code",
   "execution_count": 116,
   "id": "1911b84c",
   "metadata": {},
   "outputs": [],
   "source": [
    "# creating train, test for these 8 features\n",
    "'''cols = ['Customer_Age', 'Credit_Limit', 'Total_Revolving_Bal',\n",
    "       'Total_Trans_Amt', 'Avg_Utilization_Ratio', 'Total_Relationship_Count',\n",
    "        'Contacts_Count_12_mon','Months_Inactive_12_mon']\n",
    "'''\n",
    "\n",
    "# using only top 5 , patsy is crashing my PC\n",
    "cols = ['Customer_Age', 'Credit_Limit', 'Total_Revolving_Bal',\n",
    "       'Total_Trans_Amt', 'Avg_Utilization_Ratio']\n",
    "\n",
    "X_train_f = pd.DataFrame(X_train,columns=cols)\n",
    "X_test_f = pd.DataFrame(X_test,columns=cols)"
   ]
  },
  {
   "cell_type": "markdown",
   "id": "b22e5cfc",
   "metadata": {},
   "source": [
    "### Feature interactions"
   ]
  },
  {
   "cell_type": "markdown",
   "id": "b8458366",
   "metadata": {},
   "source": [
    "For this purpose I am using python package called 'patsy'. And here is the intoduction and references."
   ]
  },
  {
   "cell_type": "markdown",
   "id": "ee34224e",
   "metadata": {},
   "source": [
    "Feature interaction using design Matrix. The design matrix contains data on the independent variables (also called explanatory variables) in statistical models which attempt to explain observed data on a response variable (often called a dependent variable) in terms of the explanatory variables. The theory relating to such models makes substantial use of matrix manipulations involving the design matrix: see for example linear regression. A notable feature of the concept of a design matrix is that it is able to represent a number of different experimental designs and statistical models, e.g., ANOVA, ANCOVA, and linear regression.[ ref: https://en.wikipedia.org/wiki/Design_matrix\n",
    "\n",
    "<b>ref:</b>\n",
    "* https://learn-scikit.oneoffcoder.com/patsy.html\n",
    "* https://learn-scikit.oneoffcoder.com/xgboost.html\n",
    "* https://readthedocs.org/projects/patsy/downloads/pdf/latest/\n",
    "* https://www.programcreek.com/python/example/120751/patsy.dmatrix\n",
    "\n",
    "patsy is a Python package for describing statistical models (especially linear models, or models that have a linear component) and building design matrices. It is closely inspired by and compatible with the formula mini-language used in R and S. For instance, if we have some variable y, and we want to regress it against some other variables x, a, b, and the interaction of a and b, then we simply write: patsy.dmatrices(\"y ~ x + a + b + a:b\", data) and Patsy takes care of building appropriate matrices.\n",
    "ref: https://patsy.readthedocs.io/en/latest/overview.html\n",
    "\n",
    "Patsy is a neat API to transform your data into experimentation model form. For regression and classification problems, you often want your data in the Xy form where X is a matrix (independent variable) and y is a column vector (dependent variable).\n",
    "ref: https://learn-scikit.oneoffcoder.com/patsy.html\n"
   ]
  },
  {
   "cell_type": "code",
   "execution_count": 117,
   "id": "ca5a2d07",
   "metadata": {},
   "outputs": [],
   "source": [
    "from patsy import dmatrix\n",
    "#formula = 'Customer_Age*Credit_Limit*Total_Revolving_Bal*Total_Trans_Amt*Avg_Utilization_Ratio*Total_Relationship_Count*Contacts_Count_12_mon*Months_Inactive_12_mon'\n",
    "# only top 5 is used.\n",
    "#create model formula\n",
    "model_formula = 'Total_Trans_Amt*Credit_Limit*Customer_Age*Total_Revolving_Bal*Avg_Utilization_Ratio'\n",
    "#Apply model formula to train and test\n",
    "X_train_f = dmatrix(model_formula, X_train_f, return_type='dataframe')\n",
    "X_test_f = dmatrix(model_formula, X_test_f, return_type='dataframe')"
   ]
  },
  {
   "cell_type": "code",
   "execution_count": 118,
   "id": "3ee21747",
   "metadata": {},
   "outputs": [
    {
     "data": {
      "text/html": [
       "<div>\n",
       "<style scoped>\n",
       "    .dataframe tbody tr th:only-of-type {\n",
       "        vertical-align: middle;\n",
       "    }\n",
       "\n",
       "    .dataframe tbody tr th {\n",
       "        vertical-align: top;\n",
       "    }\n",
       "\n",
       "    .dataframe thead th {\n",
       "        text-align: right;\n",
       "    }\n",
       "</style>\n",
       "<table border=\"1\" class=\"dataframe\">\n",
       "  <thead>\n",
       "    <tr style=\"text-align: right;\">\n",
       "      <th></th>\n",
       "      <th>Intercept</th>\n",
       "      <th>Total_Trans_Amt</th>\n",
       "      <th>Credit_Limit</th>\n",
       "      <th>Total_Trans_Amt:Credit_Limit</th>\n",
       "      <th>Customer_Age</th>\n",
       "      <th>Total_Trans_Amt:Customer_Age</th>\n",
       "      <th>Credit_Limit:Customer_Age</th>\n",
       "      <th>Total_Trans_Amt:Credit_Limit:Customer_Age</th>\n",
       "      <th>Total_Revolving_Bal</th>\n",
       "      <th>Total_Trans_Amt:Total_Revolving_Bal</th>\n",
       "      <th>...</th>\n",
       "      <th>Credit_Limit:Customer_Age:Avg_Utilization_Ratio</th>\n",
       "      <th>Total_Trans_Amt:Credit_Limit:Customer_Age:Avg_Utilization_Ratio</th>\n",
       "      <th>Total_Revolving_Bal:Avg_Utilization_Ratio</th>\n",
       "      <th>Total_Trans_Amt:Total_Revolving_Bal:Avg_Utilization_Ratio</th>\n",
       "      <th>Credit_Limit:Total_Revolving_Bal:Avg_Utilization_Ratio</th>\n",
       "      <th>Total_Trans_Amt:Credit_Limit:Total_Revolving_Bal:Avg_Utilization_Ratio</th>\n",
       "      <th>Customer_Age:Total_Revolving_Bal:Avg_Utilization_Ratio</th>\n",
       "      <th>Total_Trans_Amt:Customer_Age:Total_Revolving_Bal:Avg_Utilization_Ratio</th>\n",
       "      <th>Credit_Limit:Customer_Age:Total_Revolving_Bal:Avg_Utilization_Ratio</th>\n",
       "      <th>Total_Trans_Amt:Credit_Limit:Customer_Age:Total_Revolving_Bal:Avg_Utilization_Ratio</th>\n",
       "    </tr>\n",
       "  </thead>\n",
       "  <tbody>\n",
       "    <tr>\n",
       "      <th>0</th>\n",
       "      <td>1.0</td>\n",
       "      <td>8.978408</td>\n",
       "      <td>10.312845</td>\n",
       "      <td>92.592934</td>\n",
       "      <td>-0.536671</td>\n",
       "      <td>-4.818452</td>\n",
       "      <td>-5.534606</td>\n",
       "      <td>-49.691949</td>\n",
       "      <td>1.672427</td>\n",
       "      <td>15.015736</td>\n",
       "      <td>...</td>\n",
       "      <td>-0.392957</td>\n",
       "      <td>-3.528128</td>\n",
       "      <td>0.118742</td>\n",
       "      <td>1.066117</td>\n",
       "      <td>1.224571</td>\n",
       "      <td>10.994702</td>\n",
       "      <td>-0.063726</td>\n",
       "      <td>-0.572154</td>\n",
       "      <td>-0.657192</td>\n",
       "      <td>-5.900538</td>\n",
       "    </tr>\n",
       "    <tr>\n",
       "      <th>1</th>\n",
       "      <td>1.0</td>\n",
       "      <td>8.429454</td>\n",
       "      <td>8.285009</td>\n",
       "      <td>69.838104</td>\n",
       "      <td>-0.536671</td>\n",
       "      <td>-4.523844</td>\n",
       "      <td>-4.446325</td>\n",
       "      <td>-37.480090</td>\n",
       "      <td>0.956795</td>\n",
       "      <td>8.065259</td>\n",
       "      <td>...</td>\n",
       "      <td>-1.365022</td>\n",
       "      <td>-11.506388</td>\n",
       "      <td>0.293736</td>\n",
       "      <td>2.476035</td>\n",
       "      <td>2.433606</td>\n",
       "      <td>20.513969</td>\n",
       "      <td>-0.157640</td>\n",
       "      <td>-1.328816</td>\n",
       "      <td>-1.306046</td>\n",
       "      <td>-11.009254</td>\n",
       "    </tr>\n",
       "    <tr>\n",
       "      <th>2</th>\n",
       "      <td>1.0</td>\n",
       "      <td>8.484877</td>\n",
       "      <td>7.555905</td>\n",
       "      <td>64.110922</td>\n",
       "      <td>-0.038008</td>\n",
       "      <td>-0.322495</td>\n",
       "      <td>-0.287187</td>\n",
       "      <td>-2.436745</td>\n",
       "      <td>0.920660</td>\n",
       "      <td>7.811685</td>\n",
       "      <td>...</td>\n",
       "      <td>-0.176046</td>\n",
       "      <td>-1.493725</td>\n",
       "      <td>0.564364</td>\n",
       "      <td>4.788563</td>\n",
       "      <td>4.264285</td>\n",
       "      <td>36.181928</td>\n",
       "      <td>-0.021451</td>\n",
       "      <td>-0.182005</td>\n",
       "      <td>-0.162078</td>\n",
       "      <td>-1.375212</td>\n",
       "    </tr>\n",
       "    <tr>\n",
       "      <th>3</th>\n",
       "      <td>1.0</td>\n",
       "      <td>8.465057</td>\n",
       "      <td>9.568294</td>\n",
       "      <td>80.996162</td>\n",
       "      <td>-1.284665</td>\n",
       "      <td>-10.874765</td>\n",
       "      <td>-12.292056</td>\n",
       "      <td>-104.052957</td>\n",
       "      <td>0.549097</td>\n",
       "      <td>4.648134</td>\n",
       "      <td>...</td>\n",
       "      <td>-0.602311</td>\n",
       "      <td>-5.098595</td>\n",
       "      <td>0.026906</td>\n",
       "      <td>0.227759</td>\n",
       "      <td>0.257442</td>\n",
       "      <td>2.179261</td>\n",
       "      <td>-0.034565</td>\n",
       "      <td>-0.292594</td>\n",
       "      <td>-0.330727</td>\n",
       "      <td>-2.799621</td>\n",
       "    </tr>\n",
       "    <tr>\n",
       "      <th>4</th>\n",
       "      <td>1.0</td>\n",
       "      <td>7.494430</td>\n",
       "      <td>8.352554</td>\n",
       "      <td>62.597636</td>\n",
       "      <td>1.582646</td>\n",
       "      <td>11.861029</td>\n",
       "      <td>13.219135</td>\n",
       "      <td>99.069888</td>\n",
       "      <td>0.000000</td>\n",
       "      <td>0.000000</td>\n",
       "      <td>...</td>\n",
       "      <td>0.000000</td>\n",
       "      <td>0.000000</td>\n",
       "      <td>0.000000</td>\n",
       "      <td>0.000000</td>\n",
       "      <td>0.000000</td>\n",
       "      <td>0.000000</td>\n",
       "      <td>0.000000</td>\n",
       "      <td>0.000000</td>\n",
       "      <td>0.000000</td>\n",
       "      <td>0.000000</td>\n",
       "    </tr>\n",
       "  </tbody>\n",
       "</table>\n",
       "<p>5 rows × 32 columns</p>\n",
       "</div>"
      ],
      "text/plain": [
       "   Intercept  Total_Trans_Amt  Credit_Limit  Total_Trans_Amt:Credit_Limit  \\\n",
       "0        1.0         8.978408     10.312845                     92.592934   \n",
       "1        1.0         8.429454      8.285009                     69.838104   \n",
       "2        1.0         8.484877      7.555905                     64.110922   \n",
       "3        1.0         8.465057      9.568294                     80.996162   \n",
       "4        1.0         7.494430      8.352554                     62.597636   \n",
       "\n",
       "   Customer_Age  Total_Trans_Amt:Customer_Age  Credit_Limit:Customer_Age  \\\n",
       "0     -0.536671                     -4.818452                  -5.534606   \n",
       "1     -0.536671                     -4.523844                  -4.446325   \n",
       "2     -0.038008                     -0.322495                  -0.287187   \n",
       "3     -1.284665                    -10.874765                 -12.292056   \n",
       "4      1.582646                     11.861029                  13.219135   \n",
       "\n",
       "   Total_Trans_Amt:Credit_Limit:Customer_Age  Total_Revolving_Bal  \\\n",
       "0                                 -49.691949             1.672427   \n",
       "1                                 -37.480090             0.956795   \n",
       "2                                  -2.436745             0.920660   \n",
       "3                                -104.052957             0.549097   \n",
       "4                                  99.069888             0.000000   \n",
       "\n",
       "   Total_Trans_Amt:Total_Revolving_Bal  ...  \\\n",
       "0                            15.015736  ...   \n",
       "1                             8.065259  ...   \n",
       "2                             7.811685  ...   \n",
       "3                             4.648134  ...   \n",
       "4                             0.000000  ...   \n",
       "\n",
       "   Credit_Limit:Customer_Age:Avg_Utilization_Ratio  \\\n",
       "0                                        -0.392957   \n",
       "1                                        -1.365022   \n",
       "2                                        -0.176046   \n",
       "3                                        -0.602311   \n",
       "4                                         0.000000   \n",
       "\n",
       "   Total_Trans_Amt:Credit_Limit:Customer_Age:Avg_Utilization_Ratio  \\\n",
       "0                                          -3.528128                 \n",
       "1                                         -11.506388                 \n",
       "2                                          -1.493725                 \n",
       "3                                          -5.098595                 \n",
       "4                                           0.000000                 \n",
       "\n",
       "   Total_Revolving_Bal:Avg_Utilization_Ratio  \\\n",
       "0                                   0.118742   \n",
       "1                                   0.293736   \n",
       "2                                   0.564364   \n",
       "3                                   0.026906   \n",
       "4                                   0.000000   \n",
       "\n",
       "   Total_Trans_Amt:Total_Revolving_Bal:Avg_Utilization_Ratio  \\\n",
       "0                                           1.066117           \n",
       "1                                           2.476035           \n",
       "2                                           4.788563           \n",
       "3                                           0.227759           \n",
       "4                                           0.000000           \n",
       "\n",
       "   Credit_Limit:Total_Revolving_Bal:Avg_Utilization_Ratio  \\\n",
       "0                                           1.224571        \n",
       "1                                           2.433606        \n",
       "2                                           4.264285        \n",
       "3                                           0.257442        \n",
       "4                                           0.000000        \n",
       "\n",
       "   Total_Trans_Amt:Credit_Limit:Total_Revolving_Bal:Avg_Utilization_Ratio  \\\n",
       "0                                          10.994702                        \n",
       "1                                          20.513969                        \n",
       "2                                          36.181928                        \n",
       "3                                           2.179261                        \n",
       "4                                           0.000000                        \n",
       "\n",
       "   Customer_Age:Total_Revolving_Bal:Avg_Utilization_Ratio  \\\n",
       "0                                          -0.063726        \n",
       "1                                          -0.157640        \n",
       "2                                          -0.021451        \n",
       "3                                          -0.034565        \n",
       "4                                           0.000000        \n",
       "\n",
       "   Total_Trans_Amt:Customer_Age:Total_Revolving_Bal:Avg_Utilization_Ratio  \\\n",
       "0                                          -0.572154                        \n",
       "1                                          -1.328816                        \n",
       "2                                          -0.182005                        \n",
       "3                                          -0.292594                        \n",
       "4                                           0.000000                        \n",
       "\n",
       "   Credit_Limit:Customer_Age:Total_Revolving_Bal:Avg_Utilization_Ratio  \\\n",
       "0                                          -0.657192                     \n",
       "1                                          -1.306046                     \n",
       "2                                          -0.162078                     \n",
       "3                                          -0.330727                     \n",
       "4                                           0.000000                     \n",
       "\n",
       "   Total_Trans_Amt:Credit_Limit:Customer_Age:Total_Revolving_Bal:Avg_Utilization_Ratio  \n",
       "0                                          -5.900538                                    \n",
       "1                                         -11.009254                                    \n",
       "2                                          -1.375212                                    \n",
       "3                                          -2.799621                                    \n",
       "4                                           0.000000                                    \n",
       "\n",
       "[5 rows x 32 columns]"
      ]
     },
     "execution_count": 118,
     "metadata": {},
     "output_type": "execute_result"
    }
   ],
   "source": [
    "X_train_f.head(5)"
   ]
  },
  {
   "cell_type": "code",
   "execution_count": 119,
   "id": "f9368077",
   "metadata": {},
   "outputs": [
    {
     "data": {
      "text/html": [
       "<div>\n",
       "<style scoped>\n",
       "    .dataframe tbody tr th:only-of-type {\n",
       "        vertical-align: middle;\n",
       "    }\n",
       "\n",
       "    .dataframe tbody tr th {\n",
       "        vertical-align: top;\n",
       "    }\n",
       "\n",
       "    .dataframe thead th {\n",
       "        text-align: right;\n",
       "    }\n",
       "</style>\n",
       "<table border=\"1\" class=\"dataframe\">\n",
       "  <thead>\n",
       "    <tr style=\"text-align: right;\">\n",
       "      <th></th>\n",
       "      <th>Intercept</th>\n",
       "      <th>Total_Trans_Amt</th>\n",
       "      <th>Credit_Limit</th>\n",
       "      <th>Total_Trans_Amt:Credit_Limit</th>\n",
       "      <th>Customer_Age</th>\n",
       "      <th>Total_Trans_Amt:Customer_Age</th>\n",
       "      <th>Credit_Limit:Customer_Age</th>\n",
       "      <th>Total_Trans_Amt:Credit_Limit:Customer_Age</th>\n",
       "      <th>Total_Revolving_Bal</th>\n",
       "      <th>Total_Trans_Amt:Total_Revolving_Bal</th>\n",
       "      <th>...</th>\n",
       "      <th>Credit_Limit:Customer_Age:Avg_Utilization_Ratio</th>\n",
       "      <th>Total_Trans_Amt:Credit_Limit:Customer_Age:Avg_Utilization_Ratio</th>\n",
       "      <th>Total_Revolving_Bal:Avg_Utilization_Ratio</th>\n",
       "      <th>Total_Trans_Amt:Total_Revolving_Bal:Avg_Utilization_Ratio</th>\n",
       "      <th>Credit_Limit:Total_Revolving_Bal:Avg_Utilization_Ratio</th>\n",
       "      <th>Total_Trans_Amt:Credit_Limit:Total_Revolving_Bal:Avg_Utilization_Ratio</th>\n",
       "      <th>Customer_Age:Total_Revolving_Bal:Avg_Utilization_Ratio</th>\n",
       "      <th>Total_Trans_Amt:Customer_Age:Total_Revolving_Bal:Avg_Utilization_Ratio</th>\n",
       "      <th>Credit_Limit:Customer_Age:Total_Revolving_Bal:Avg_Utilization_Ratio</th>\n",
       "      <th>Total_Trans_Amt:Credit_Limit:Customer_Age:Total_Revolving_Bal:Avg_Utilization_Ratio</th>\n",
       "    </tr>\n",
       "  </thead>\n",
       "  <tbody>\n",
       "    <tr>\n",
       "      <th>0</th>\n",
       "      <td>1.0</td>\n",
       "      <td>9.607841</td>\n",
       "      <td>8.187021</td>\n",
       "      <td>78.659593</td>\n",
       "      <td>0.202997</td>\n",
       "      <td>1.950360</td>\n",
       "      <td>1.661938</td>\n",
       "      <td>15.967638</td>\n",
       "      <td>1.555729</td>\n",
       "      <td>14.947194</td>\n",
       "      <td>...</td>\n",
       "      <td>0.922376</td>\n",
       "      <td>8.862039</td>\n",
       "      <td>0.863429</td>\n",
       "      <td>8.295693</td>\n",
       "      <td>7.068915</td>\n",
       "      <td>67.917010</td>\n",
       "      <td>0.175273</td>\n",
       "      <td>1.683998</td>\n",
       "      <td>1.434966</td>\n",
       "      <td>13.786929</td>\n",
       "    </tr>\n",
       "    <tr>\n",
       "      <th>1</th>\n",
       "      <td>1.0</td>\n",
       "      <td>9.231221</td>\n",
       "      <td>8.697513</td>\n",
       "      <td>80.288661</td>\n",
       "      <td>-2.170683</td>\n",
       "      <td>-20.038058</td>\n",
       "      <td>-18.879547</td>\n",
       "      <td>-174.281265</td>\n",
       "      <td>0.514419</td>\n",
       "      <td>4.748718</td>\n",
       "      <td>...</td>\n",
       "      <td>-2.076750</td>\n",
       "      <td>-19.170939</td>\n",
       "      <td>0.056586</td>\n",
       "      <td>0.522359</td>\n",
       "      <td>0.492159</td>\n",
       "      <td>4.543224</td>\n",
       "      <td>-0.122831</td>\n",
       "      <td>-1.133876</td>\n",
       "      <td>-1.068320</td>\n",
       "      <td>-9.861902</td>\n",
       "    </tr>\n",
       "    <tr>\n",
       "      <th>2</th>\n",
       "      <td>1.0</td>\n",
       "      <td>7.841886</td>\n",
       "      <td>8.146130</td>\n",
       "      <td>63.881018</td>\n",
       "      <td>-2.045753</td>\n",
       "      <td>-16.042561</td>\n",
       "      <td>-16.664968</td>\n",
       "      <td>-130.684777</td>\n",
       "      <td>1.961808</td>\n",
       "      <td>15.384277</td>\n",
       "      <td>...</td>\n",
       "      <td>-12.165427</td>\n",
       "      <td>-95.399888</td>\n",
       "      <td>1.432120</td>\n",
       "      <td>11.230522</td>\n",
       "      <td>11.666235</td>\n",
       "      <td>91.485286</td>\n",
       "      <td>-2.929764</td>\n",
       "      <td>-22.974873</td>\n",
       "      <td>-23.866234</td>\n",
       "      <td>-187.156288</td>\n",
       "    </tr>\n",
       "    <tr>\n",
       "      <th>3</th>\n",
       "      <td>1.0</td>\n",
       "      <td>7.192934</td>\n",
       "      <td>9.830056</td>\n",
       "      <td>70.706948</td>\n",
       "      <td>0.327927</td>\n",
       "      <td>2.358759</td>\n",
       "      <td>3.223543</td>\n",
       "      <td>23.186734</td>\n",
       "      <td>1.961808</td>\n",
       "      <td>14.111158</td>\n",
       "      <td>...</td>\n",
       "      <td>0.435178</td>\n",
       "      <td>3.130209</td>\n",
       "      <td>0.264844</td>\n",
       "      <td>1.905006</td>\n",
       "      <td>2.603433</td>\n",
       "      <td>18.726319</td>\n",
       "      <td>0.086850</td>\n",
       "      <td>0.624703</td>\n",
       "      <td>0.853736</td>\n",
       "      <td>6.140870</td>\n",
       "    </tr>\n",
       "    <tr>\n",
       "      <th>4</th>\n",
       "      <td>1.0</td>\n",
       "      <td>7.672292</td>\n",
       "      <td>7.385231</td>\n",
       "      <td>56.661651</td>\n",
       "      <td>-2.545475</td>\n",
       "      <td>-19.529629</td>\n",
       "      <td>-18.798921</td>\n",
       "      <td>-144.230818</td>\n",
       "      <td>0.650818</td>\n",
       "      <td>4.993269</td>\n",
       "      <td>...</td>\n",
       "      <td>-9.737841</td>\n",
       "      <td>-74.711564</td>\n",
       "      <td>0.337124</td>\n",
       "      <td>2.586513</td>\n",
       "      <td>2.489738</td>\n",
       "      <td>19.101999</td>\n",
       "      <td>-0.858141</td>\n",
       "      <td>-6.583905</td>\n",
       "      <td>-6.337566</td>\n",
       "      <td>-48.623660</td>\n",
       "    </tr>\n",
       "  </tbody>\n",
       "</table>\n",
       "<p>5 rows × 32 columns</p>\n",
       "</div>"
      ],
      "text/plain": [
       "   Intercept  Total_Trans_Amt  Credit_Limit  Total_Trans_Amt:Credit_Limit  \\\n",
       "0        1.0         9.607841      8.187021                     78.659593   \n",
       "1        1.0         9.231221      8.697513                     80.288661   \n",
       "2        1.0         7.841886      8.146130                     63.881018   \n",
       "3        1.0         7.192934      9.830056                     70.706948   \n",
       "4        1.0         7.672292      7.385231                     56.661651   \n",
       "\n",
       "   Customer_Age  Total_Trans_Amt:Customer_Age  Credit_Limit:Customer_Age  \\\n",
       "0      0.202997                      1.950360                   1.661938   \n",
       "1     -2.170683                    -20.038058                 -18.879547   \n",
       "2     -2.045753                    -16.042561                 -16.664968   \n",
       "3      0.327927                      2.358759                   3.223543   \n",
       "4     -2.545475                    -19.529629                 -18.798921   \n",
       "\n",
       "   Total_Trans_Amt:Credit_Limit:Customer_Age  Total_Revolving_Bal  \\\n",
       "0                                  15.967638             1.555729   \n",
       "1                                -174.281265             0.514419   \n",
       "2                                -130.684777             1.961808   \n",
       "3                                  23.186734             1.961808   \n",
       "4                                -144.230818             0.650818   \n",
       "\n",
       "   Total_Trans_Amt:Total_Revolving_Bal  ...  \\\n",
       "0                            14.947194  ...   \n",
       "1                             4.748718  ...   \n",
       "2                            15.384277  ...   \n",
       "3                            14.111158  ...   \n",
       "4                             4.993269  ...   \n",
       "\n",
       "   Credit_Limit:Customer_Age:Avg_Utilization_Ratio  \\\n",
       "0                                         0.922376   \n",
       "1                                        -2.076750   \n",
       "2                                       -12.165427   \n",
       "3                                         0.435178   \n",
       "4                                        -9.737841   \n",
       "\n",
       "   Total_Trans_Amt:Credit_Limit:Customer_Age:Avg_Utilization_Ratio  \\\n",
       "0                                           8.862039                 \n",
       "1                                         -19.170939                 \n",
       "2                                         -95.399888                 \n",
       "3                                           3.130209                 \n",
       "4                                         -74.711564                 \n",
       "\n",
       "   Total_Revolving_Bal:Avg_Utilization_Ratio  \\\n",
       "0                                   0.863429   \n",
       "1                                   0.056586   \n",
       "2                                   1.432120   \n",
       "3                                   0.264844   \n",
       "4                                   0.337124   \n",
       "\n",
       "   Total_Trans_Amt:Total_Revolving_Bal:Avg_Utilization_Ratio  \\\n",
       "0                                           8.295693           \n",
       "1                                           0.522359           \n",
       "2                                          11.230522           \n",
       "3                                           1.905006           \n",
       "4                                           2.586513           \n",
       "\n",
       "   Credit_Limit:Total_Revolving_Bal:Avg_Utilization_Ratio  \\\n",
       "0                                           7.068915        \n",
       "1                                           0.492159        \n",
       "2                                          11.666235        \n",
       "3                                           2.603433        \n",
       "4                                           2.489738        \n",
       "\n",
       "   Total_Trans_Amt:Credit_Limit:Total_Revolving_Bal:Avg_Utilization_Ratio  \\\n",
       "0                                          67.917010                        \n",
       "1                                           4.543224                        \n",
       "2                                          91.485286                        \n",
       "3                                          18.726319                        \n",
       "4                                          19.101999                        \n",
       "\n",
       "   Customer_Age:Total_Revolving_Bal:Avg_Utilization_Ratio  \\\n",
       "0                                           0.175273        \n",
       "1                                          -0.122831        \n",
       "2                                          -2.929764        \n",
       "3                                           0.086850        \n",
       "4                                          -0.858141        \n",
       "\n",
       "   Total_Trans_Amt:Customer_Age:Total_Revolving_Bal:Avg_Utilization_Ratio  \\\n",
       "0                                           1.683998                        \n",
       "1                                          -1.133876                        \n",
       "2                                         -22.974873                        \n",
       "3                                           0.624703                        \n",
       "4                                          -6.583905                        \n",
       "\n",
       "   Credit_Limit:Customer_Age:Total_Revolving_Bal:Avg_Utilization_Ratio  \\\n",
       "0                                           1.434966                     \n",
       "1                                          -1.068320                     \n",
       "2                                         -23.866234                     \n",
       "3                                           0.853736                     \n",
       "4                                          -6.337566                     \n",
       "\n",
       "   Total_Trans_Amt:Credit_Limit:Customer_Age:Total_Revolving_Bal:Avg_Utilization_Ratio  \n",
       "0                                          13.786929                                    \n",
       "1                                          -9.861902                                    \n",
       "2                                        -187.156288                                    \n",
       "3                                           6.140870                                    \n",
       "4                                         -48.623660                                    \n",
       "\n",
       "[5 rows x 32 columns]"
      ]
     },
     "execution_count": 119,
     "metadata": {},
     "output_type": "execute_result"
    }
   ],
   "source": [
    "X_test_f.head(5)"
   ]
  },
  {
   "cell_type": "markdown",
   "id": "ba2459ba",
   "metadata": {},
   "source": [
    "### Hyperparameter Tuning and Model Training"
   ]
  },
  {
   "cell_type": "code",
   "execution_count": 120,
   "id": "b8badd04",
   "metadata": {},
   "outputs": [],
   "source": [
    "clf_XGB = XGBClassifier(booster=\"gbtree\", verbosity=0, use_label_encoder=False,n_jobs=-1)\n",
    "\n",
    "#pipeline\n",
    "clf_pipeline = Pipeline([(\"clf\",clf_XGB)])   \n",
    "\n",
    "#setting params\n",
    "xgb_params = {\"clf__learning_rate\": [0.05, 0.1, 0.2, 0.3, 0.4, 0.5],\n",
    "               \"clf__max_depth\": np.arange(2,7),\n",
    "               \"clf__min_child_weight\": np.arange(1,11),\n",
    "               \"clf__reg_lambda\": np.linspace(0.1,1,num=10)\n",
    "              }\n",
    "#Random search \n",
    "scoring = 'roc_auc'\n",
    "verbose = 1\n",
    "clf_XGBoost = model_selection.RandomizedSearchCV(clf_pipeline, xgb_params, n_iter = 120,scoring=scoring,verbose = verbose, random_state=1,n_jobs=-1) \n",
    "       "
   ]
  },
  {
   "cell_type": "code",
   "execution_count": 123,
   "id": "8b9c53a8",
   "metadata": {},
   "outputs": [
    {
     "name": "stdout",
     "output_type": "stream",
     "text": [
      "Fitting 5 folds for each of 120 candidates, totalling 600 fits\n",
      "Wall time: 4min 49s\n"
     ]
    },
    {
     "data": {
      "text/plain": [
       "RandomizedSearchCV(estimator=Pipeline(steps=[('clf',\n",
       "                                              XGBClassifier(base_score=None,\n",
       "                                                            booster='gbtree',\n",
       "                                                            colsample_bylevel=None,\n",
       "                                                            colsample_bynode=None,\n",
       "                                                            colsample_bytree=None,\n",
       "                                                            enable_categorical=False,\n",
       "                                                            gamma=None,\n",
       "                                                            gpu_id=None,\n",
       "                                                            importance_type=None,\n",
       "                                                            interaction_constraints=None,\n",
       "                                                            learning_rate=None,\n",
       "                                                            max_delta_step=None,\n",
       "                                                            max_depth=None,\n",
       "                                                            min_child_weight=None,\n",
       "                                                            missing=na...\n",
       "                                                            use_label_encoder=False,\n",
       "                                                            validate_parameters=None,\n",
       "                                                            verbosity=0))]),\n",
       "                   n_iter=120, n_jobs=-1,\n",
       "                   param_distributions={'clf__learning_rate': [0.05, 0.1, 0.2,\n",
       "                                                               0.3, 0.4, 0.5],\n",
       "                                        'clf__max_depth': array([2, 3, 4, 5, 6]),\n",
       "                                        'clf__min_child_weight': array([ 1,  2,  3,  4,  5,  6,  7,  8,  9, 10]),\n",
       "                                        'clf__reg_lambda': array([0.1, 0.2, 0.3, 0.4, 0.5, 0.6, 0.7, 0.8, 0.9, 1. ])},\n",
       "                   random_state=1, scoring='roc_auc', verbose=1)"
      ]
     },
     "execution_count": 123,
     "metadata": {},
     "output_type": "execute_result"
    }
   ],
   "source": [
    "%%time\n",
    "#learn the training set\n",
    "clf_XGBoost.fit(X_train_f,y_train)"
   ]
  },
  {
   "cell_type": "code",
   "execution_count": 124,
   "id": "f63b0e8b",
   "metadata": {},
   "outputs": [
    {
     "name": "stdout",
     "output_type": "stream",
     "text": [
      "Best parameters for XGBoost\n",
      "{'clf__reg_lambda': 0.4, 'clf__min_child_weight': 2, 'clf__max_depth': 5, 'clf__learning_rate': 0.1}\n",
      "\n",
      "Best train roc_auc score: 0.95\n",
      "\n",
      "Best estimator: Pipeline(steps=[('clf',\n",
      "                 XGBClassifier(base_score=0.5, booster='gbtree',\n",
      "                               colsample_bylevel=1, colsample_bynode=1,\n",
      "                               colsample_bytree=1, enable_categorical=False,\n",
      "                               gamma=0, gpu_id=-1, importance_type=None,\n",
      "                               interaction_constraints='', learning_rate=0.1,\n",
      "                               max_delta_step=0, max_depth=5,\n",
      "                               min_child_weight=2, missing=nan,\n",
      "                               monotone_constraints='()', n_estimators=100,\n",
      "                               n_jobs=-1, num_parallel_tree=1, predictor='auto',\n",
      "                               random_state=0, reg_alpha=0, reg_lambda=0.4,\n",
      "                               scale_pos_weight=1, subsample=1,\n",
      "                               tree_method='exact', use_label_encoder=False,\n",
      "                               validate_parameters=1, verbosity=0))])\n"
     ]
    }
   ],
   "source": [
    "print(\"Best parameters for XGBoost\") \n",
    "print(clf_XGBoost.best_params_)\n",
    "print(f\"\\nBest train %s score: {clf_XGBoost.best_score_ :.2f}\" % (scoring))\n",
    "print(f\"\\nBest estimator: {clf_XGBoost.best_estimator_}\") \n",
    "clf_XGBoost_best_estimator = clf_XGBoost.best_estimator_"
   ]
  },
  {
   "cell_type": "code",
   "execution_count": null,
   "id": "3a013606",
   "metadata": {},
   "outputs": [],
   "source": [
    "#on test set\n",
    "thr= estimate_with_threshold(\"XGBoost:feature interaction\",clf_XGBoost_best_estimator,X_train_f,y_train_f,isTrain=True)"
   ]
  },
  {
   "cell_type": "code",
   "execution_count": null,
   "id": "1da5e7a8",
   "metadata": {},
   "outputs": [],
   "source": [
    "_= estimate_with_threshold(\"XGBoost:feature interaction\",clf_XGBoost_best_estimator,X_test_f,y_test_f,isTrain=False,thresh = thr)"
   ]
  },
  {
   "cell_type": "markdown",
   "id": "d74cf289",
   "metadata": {},
   "source": [
    "### Evaluation\n",
    "\n",
    "Now run the model using the best estimators on the test set, and print out the confusion matrix and evaluation metrics."
   ]
  },
  {
   "cell_type": "code",
   "execution_count": null,
   "id": "ccb88985",
   "metadata": {},
   "outputs": [],
   "source": [
    "evaluation"
   ]
  },
  {
   "cell_type": "markdown",
   "id": "c962546b",
   "metadata": {},
   "source": [
    "#### ROC_AUC Curve"
   ]
  },
  {
   "cell_type": "code",
   "execution_count": null,
   "id": "4d75b0f2",
   "metadata": {},
   "outputs": [],
   "source": [
    "y_proba_xgb = clf_XGBoost_best_estimator.predict_proba(X_test_f)\n",
    "\n",
    "fpr_xgb, tpr_xgb, xgb_thresholds = metrics.roc_curve(y_test_f, y_proba_xgb[:,1])\n",
    "\n",
    "# null ROC AUC\n",
    "plt.figure(figsize=(5,5))\n",
    "plt.xlim([-0.01, 1.00])\n",
    "plt.ylim([-0.01, 1.01])\n",
    "plt.plot([0,1], [0,1], linestyle='--')\n",
    "\n",
    "# Calculate bestthreshold from ROC AUC\n",
    "xgb_thresholds=np.float64(xgb_thresholds)\n",
    "idx = np.argmax(tpr_xgb - fpr_xgb)\n",
    "max_threshold = round(xgb_thresholds[idx],4)\n",
    "roc_auc = round(metrics.auc(fpr_xgb, tpr_xgb),4)\n",
    "print('Best Threshold is',max_threshold)\n",
    "\n",
    "#idx,roc_auc = calc_threshold(tpr_xgb,fpr_xgb,xgb_thresholds,'XGBoost')\n",
    "plt.plot(fpr_xgb, tpr_xgb, lw=1, label=('XGBoost: roc_auc - {0}'.format(roc_auc)), color='maroon')\n",
    "plt.scatter(fpr_xgb[idx], tpr_xgb[idx], marker='o', color='maroon')\n",
    "\n",
    "plt.xlabel('False Positive Rate', fontsize=12)\n",
    "plt.title('ROC-AUC Curve', fontsize=14)\n",
    "plt.legend(loc='lower right', fontsize=10)\n",
    "\n",
    "plt.show();"
   ]
  },
  {
   "cell_type": "markdown",
   "id": "e795c9aa",
   "metadata": {},
   "source": [
    "XGBoost is performed well with AUC 95%. At production this model can be deployed to predict wheather he stas or not.\n",
    "\n",
    "Random Forest is the nest classifier on these kind of data set. This means, ensemble and boosting algo work on these type of dataset.\n"
   ]
  },
  {
   "cell_type": "markdown",
   "id": "0f20d0bf",
   "metadata": {},
   "source": [
    "### At production"
   ]
  },
  {
   "cell_type": "markdown",
   "id": "7df1e0e5",
   "metadata": {},
   "source": [
    "* Total_Trans_Amt: Total Transaction Amount in Last 12 months((one year))\n",
    "* Credit_Limit: Credit Limit on the Credit Card\n",
    "* Customer_Age: Age in Years\n",
    "* Total_Revolving_Bal: The balance that carries over from one month to the next is the revolving balance\n",
    "* Avg_Utilization_Ratio: Represents how much of the available credit the customer spent"
   ]
  },
  {
   "cell_type": "code",
   "execution_count": null,
   "id": "89106f83",
   "metadata": {},
   "outputs": [],
   "source": [
    "new_cust = [[35,8000,850,1500,0.5]]\n",
    "X_data = pd.DataFrame(new_cust, columns=['Customer_Age',\n",
    "                                        'Credit_Limit' ,\n",
    "                                        'Total_Revolving_Bal',\n",
    "                                        'Total_Trans_Amt',\n",
    "                                        'Avg_Utilization_Ratio'])\n",
    "# apply scaling\n",
    "X_data = dmatrix(model_formula, X_data, return_type='dataframe')\n",
    "#make prediction\n",
    "y_proba = xgb_best_estimator.predict_proba(X_data)[0][1]\n",
    "\n",
    "if y_proba > 0.2:\n",
    "    print(\"Churn\")\n",
    "else:\n",
    "    print (\"Stay\")\n"
   ]
  },
  {
   "cell_type": "markdown",
   "id": "ffad988b",
   "metadata": {},
   "source": [
    "## Additional Models: <a id=AdditionalModels></a>"
   ]
  },
  {
   "cell_type": "markdown",
   "id": "1287956a",
   "metadata": {},
   "source": [
    "We have selected four of the many machine learning models available. It would be interesting to see the results of other models. Feature importance: With the knowledge of the feature importance, we can run the model on a dataset containing only the important features with the respective thresholds and compare the results.\n",
    "\n",
    "Along with neural networks, other popular prediction techniques can be applied in combination, such as support vector machine develop hybrid model.\n"
   ]
  },
  {
   "cell_type": "markdown",
   "id": "677616a1",
   "metadata": {},
   "source": [
    "## Summary <a id =Summary> </a>"
   ]
  },
  {
   "cell_type": "markdown",
   "id": "21fbca17",
   "metadata": {},
   "source": [
    "XGbooost performed best with grid search along with Random Forest among the four models interms of recall.\n",
    "\n",
    "The top 3 most important feature from  selected model XGBoost are:\n",
    "\n",
    "    Total_Revolving_Bal (Total revolving balance on the credit card)\n",
    "    Total_Trans_Amt (Total transaction count in the last 12 months)\n",
    "    Total_Relationship_Count (Total number of products held by the customer)\n",
    "\n",
    "It can be concluded above 3 features are the most important common predictor of churners based on these findings.\n"
   ]
  },
  {
   "cell_type": "markdown",
   "id": "b8e4b569",
   "metadata": {},
   "source": [
    "## Recommendations <a id = Recom></a>"
   ]
  },
  {
   "cell_type": "markdown",
   "id": "a09141a5",
   "metadata": {},
   "source": [
    "Lower transcation amount on credit card , less revolving balance , Total number of products held by the customer are an indication that customer will attrite.\n",
    "Lower transcation indicate customer is not using this credit card , Bank may need to consider Cash back, or rewards or some other offers to customer to use the credit card more.\n",
    "\n",
    "  From the EDA \n",
    "* Customers who have had high number of contacts with the bank in the last 12 months have attrited. This needs to be investigated whether there were any issues of customers that were not resolved made customer leaving the bank.\n",
    "* The proportion of income category of attrited customer, it is highly concentrated around 60K - 80K income, followed by Less than 40K income  compare to attrited customers with higher annual income of 80K-120K and over 120K+.\n",
    "* Customers who are inactive for a month show high chances of attrition.Bank should focus on these customers as well.\n",
    "* Customer in age range 36-55 ,who were doctorate or postgraduate  and/or Female attrited more.Reasons need to be further investigated.\n",
    "* customer having more product with the bank he/she is less likely to attrite.This may be indication for Bank to offer different service to customer.\n",
    "* Avg utilization ratio is lower amongst attrited customers."
   ]
  },
  {
   "cell_type": "code",
   "execution_count": null,
   "id": "e138e19f",
   "metadata": {},
   "outputs": [],
   "source": []
  }
 ],
 "metadata": {
  "kernelspec": {
   "display_name": "Python 3",
   "language": "python",
   "name": "python3"
  },
  "language_info": {
   "codemirror_mode": {
    "name": "ipython",
    "version": 3
   },
   "file_extension": ".py",
   "mimetype": "text/x-python",
   "name": "python",
   "nbconvert_exporter": "python",
   "pygments_lexer": "ipython3",
   "version": "3.8.8"
  }
 },
 "nbformat": 4,
 "nbformat_minor": 5
}
