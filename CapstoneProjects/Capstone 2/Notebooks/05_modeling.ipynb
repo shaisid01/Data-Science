{
 "cells": [
  {
   "cell_type": "markdown",
   "id": "a6ba0b6c",
   "metadata": {},
   "source": [
    "# 4 Training and Modeling Data<a id='4_Training_and_Modeling_Data'></a>"
   ]
  },
  {
   "cell_type": "markdown",
   "id": "1f2e933d",
   "metadata": {},
   "source": [
    "## Contents <a id =\"Content\" > </a>"
   ]
  },
  {
   "cell_type": "markdown",
   "id": "48243509",
   "metadata": {},
   "source": [
    "* [Introduction](#Introduction)\n",
    "* [Imports](#Imports)\n",
    "* [Train Test Split](#Train_Test_Split) \n",
    "* [Training and Modeling](#Training_and_Modeling)\n",
    "    * [Model Selection](#Model_Selection)\n",
    "    * [Evaluation Metrics](#Evaluation-Metrics)\n",
    "        * [Training and Modeling](#Train_and_Model)\n",
    "        * [Hyperparameter Tuning and Model Training](#Hyperparameter_Tuning_Training)\n",
    "            * [Logistic Regression](#Logistic_Regression)\n",
    "            * [Evaluation](#Evaluation)\n",
    "* [Additional Models](#AdditionalModels)\n",
    "* [Summary](#Summary)\n",
    "* [Recommendations](#Recom)"
   ]
  },
  {
   "cell_type": "markdown",
   "id": "86344c79",
   "metadata": {},
   "source": [
    "## Imports <a id=\"Imports\"></a>"
   ]
  },
  {
   "cell_type": "code",
   "execution_count": 1,
   "id": "e39c9cde",
   "metadata": {
    "scrolled": true
   },
   "outputs": [],
   "source": [
    "import pandas as pd\n",
    "import numpy as np\n",
    "\n",
    "from sklearn import metrics\n",
    "from sklearn import pipeline\n",
    "from sklearn import model_selection\n",
    "from sklearn import linear_model\n",
    "from sklearn import ensemble\n",
    "from sklearn import neighbors\n",
    "from xgboost import XGBClassifier\n",
    "\n",
    "#from sklearn.linear_model import LogisticRegression\n",
    "from sklearn.pipeline import Pipeline\n",
    "\n",
    "#from sklearn.model_selection import StratifiedShuffleSplit,GridSearchCV\n",
    "import matplotlib.pyplot as plt\n",
    "\n",
    "# remove warning\n",
    "#import warnings\n",
    "#warnings.filterwarnings(\"ignore\")\n"
   ]
  },
  {
   "cell_type": "code",
   "execution_count": 2,
   "id": "5d71f14f",
   "metadata": {
    "scrolled": true
   },
   "outputs": [],
   "source": [
    "X_train = pd.read_csv(\"../data/4.X_train.csv\")\n",
    "y_train = pd.read_csv(\"../data/4.y_train.csv\")\n",
    "X_test = pd.read_csv(\"../data/4.X_test.csv\")\n",
    "y_test = pd.read_csv(\"../data/4.y_test.csv\")"
   ]
  },
  {
   "cell_type": "code",
   "execution_count": 3,
   "id": "e2d11a31",
   "metadata": {
    "scrolled": false
   },
   "outputs": [
    {
     "data": {
      "text/plain": [
       "((7088, 16), (7088, 1))"
      ]
     },
     "execution_count": 3,
     "metadata": {},
     "output_type": "execute_result"
    }
   ],
   "source": [
    "X_train.shape,y_train.shape"
   ]
  },
  {
   "cell_type": "code",
   "execution_count": 4,
   "id": "c0b9d32e",
   "metadata": {
    "scrolled": false
   },
   "outputs": [
    {
     "data": {
      "text/plain": [
       "((3039, 16), (3039, 1))"
      ]
     },
     "execution_count": 4,
     "metadata": {},
     "output_type": "execute_result"
    }
   ],
   "source": [
    "X_test.shape,y_test.shape"
   ]
  },
  {
   "cell_type": "code",
   "execution_count": 5,
   "id": "f8f92359",
   "metadata": {
    "scrolled": false
   },
   "outputs": [
    {
     "data": {
      "text/html": [
       "<div>\n",
       "<style scoped>\n",
       "    .dataframe tbody tr th:only-of-type {\n",
       "        vertical-align: middle;\n",
       "    }\n",
       "\n",
       "    .dataframe tbody tr th {\n",
       "        vertical-align: top;\n",
       "    }\n",
       "\n",
       "    .dataframe thead th {\n",
       "        text-align: right;\n",
       "    }\n",
       "</style>\n",
       "<table border=\"1\" class=\"dataframe\">\n",
       "  <thead>\n",
       "    <tr style=\"text-align: right;\">\n",
       "      <th></th>\n",
       "      <th>count</th>\n",
       "      <th>mean</th>\n",
       "      <th>std</th>\n",
       "      <th>min</th>\n",
       "      <th>25%</th>\n",
       "      <th>50%</th>\n",
       "      <th>75%</th>\n",
       "      <th>max</th>\n",
       "    </tr>\n",
       "  </thead>\n",
       "  <tbody>\n",
       "    <tr>\n",
       "      <th>Customer_Age</th>\n",
       "      <td>7088.0</td>\n",
       "      <td>-3.454018e-16</td>\n",
       "      <td>1.000071</td>\n",
       "      <td>-2.531322</td>\n",
       "      <td>-0.661337</td>\n",
       "      <td>-0.038008</td>\n",
       "      <td>0.709986</td>\n",
       "      <td>3.327966</td>\n",
       "    </tr>\n",
       "    <tr>\n",
       "      <th>Credit_Limit</th>\n",
       "      <td>7088.0</td>\n",
       "      <td>8.597793e+00</td>\n",
       "      <td>0.930669</td>\n",
       "      <td>7.271217</td>\n",
       "      <td>7.841395</td>\n",
       "      <td>8.418587</td>\n",
       "      <td>9.298671</td>\n",
       "      <td>10.449178</td>\n",
       "    </tr>\n",
       "    <tr>\n",
       "      <th>Total_Revolving_Bal</th>\n",
       "      <td>7088.0</td>\n",
       "      <td>9.103482e-01</td>\n",
       "      <td>0.638103</td>\n",
       "      <td>0.000000</td>\n",
       "      <td>0.248822</td>\n",
       "      <td>1.000000</td>\n",
       "      <td>1.396112</td>\n",
       "      <td>1.977219</td>\n",
       "    </tr>\n",
       "    <tr>\n",
       "      <th>Total_Trans_Amt</th>\n",
       "      <td>7088.0</td>\n",
       "      <td>8.167921e+00</td>\n",
       "      <td>0.656979</td>\n",
       "      <td>6.390241</td>\n",
       "      <td>7.674617</td>\n",
       "      <td>8.267449</td>\n",
       "      <td>8.468633</td>\n",
       "      <td>9.824661</td>\n",
       "    </tr>\n",
       "    <tr>\n",
       "      <th>Avg_Utilization_Ratio</th>\n",
       "      <td>7088.0</td>\n",
       "      <td>2.753070e-01</td>\n",
       "      <td>0.276635</td>\n",
       "      <td>0.000000</td>\n",
       "      <td>0.023000</td>\n",
       "      <td>0.175000</td>\n",
       "      <td>0.502000</td>\n",
       "      <td>0.999000</td>\n",
       "    </tr>\n",
       "    <tr>\n",
       "      <th>Gender_Encoded</th>\n",
       "      <td>7088.0</td>\n",
       "      <td>5.328725e-01</td>\n",
       "      <td>0.498953</td>\n",
       "      <td>0.000000</td>\n",
       "      <td>0.000000</td>\n",
       "      <td>1.000000</td>\n",
       "      <td>1.000000</td>\n",
       "      <td>1.000000</td>\n",
       "    </tr>\n",
       "    <tr>\n",
       "      <th>Dependent_count</th>\n",
       "      <td>7088.0</td>\n",
       "      <td>2.344949e+00</td>\n",
       "      <td>1.299597</td>\n",
       "      <td>0.000000</td>\n",
       "      <td>1.000000</td>\n",
       "      <td>2.000000</td>\n",
       "      <td>3.000000</td>\n",
       "      <td>5.000000</td>\n",
       "    </tr>\n",
       "    <tr>\n",
       "      <th>Education_Level_sorted</th>\n",
       "      <td>7088.0</td>\n",
       "      <td>2.839306e+00</td>\n",
       "      <td>1.215114</td>\n",
       "      <td>1.000000</td>\n",
       "      <td>2.000000</td>\n",
       "      <td>3.000000</td>\n",
       "      <td>3.000000</td>\n",
       "      <td>6.000000</td>\n",
       "    </tr>\n",
       "    <tr>\n",
       "      <th>Income_Category_sorted</th>\n",
       "      <td>7088.0</td>\n",
       "      <td>2.175226e+00</td>\n",
       "      <td>1.334986</td>\n",
       "      <td>1.000000</td>\n",
       "      <td>1.000000</td>\n",
       "      <td>2.000000</td>\n",
       "      <td>3.000000</td>\n",
       "      <td>5.000000</td>\n",
       "    </tr>\n",
       "    <tr>\n",
       "      <th>Card_Category_sorted</th>\n",
       "      <td>7088.0</td>\n",
       "      <td>1.081546e+00</td>\n",
       "      <td>0.330233</td>\n",
       "      <td>1.000000</td>\n",
       "      <td>1.000000</td>\n",
       "      <td>1.000000</td>\n",
       "      <td>1.000000</td>\n",
       "      <td>4.000000</td>\n",
       "    </tr>\n",
       "    <tr>\n",
       "      <th>Months_on_book</th>\n",
       "      <td>7088.0</td>\n",
       "      <td>-3.454018e-16</td>\n",
       "      <td>1.000071</td>\n",
       "      <td>-2.531322</td>\n",
       "      <td>-0.661337</td>\n",
       "      <td>-0.038008</td>\n",
       "      <td>0.709986</td>\n",
       "      <td>3.327966</td>\n",
       "    </tr>\n",
       "    <tr>\n",
       "      <th>Total_Relationship_Count</th>\n",
       "      <td>7088.0</td>\n",
       "      <td>3.801213e+00</td>\n",
       "      <td>1.559728</td>\n",
       "      <td>1.000000</td>\n",
       "      <td>3.000000</td>\n",
       "      <td>4.000000</td>\n",
       "      <td>5.000000</td>\n",
       "      <td>6.000000</td>\n",
       "    </tr>\n",
       "    <tr>\n",
       "      <th>Months_Inactive_12_mon</th>\n",
       "      <td>7088.0</td>\n",
       "      <td>2.339870e+00</td>\n",
       "      <td>1.011731</td>\n",
       "      <td>0.000000</td>\n",
       "      <td>2.000000</td>\n",
       "      <td>2.000000</td>\n",
       "      <td>3.000000</td>\n",
       "      <td>6.000000</td>\n",
       "    </tr>\n",
       "    <tr>\n",
       "      <th>Contacts_Count_12_mon</th>\n",
       "      <td>7088.0</td>\n",
       "      <td>2.466140e+00</td>\n",
       "      <td>1.106944</td>\n",
       "      <td>0.000000</td>\n",
       "      <td>2.000000</td>\n",
       "      <td>2.000000</td>\n",
       "      <td>3.000000</td>\n",
       "      <td>6.000000</td>\n",
       "    </tr>\n",
       "    <tr>\n",
       "      <th>Marital_Status_sorted_Married</th>\n",
       "      <td>7088.0</td>\n",
       "      <td>5.409142e-01</td>\n",
       "      <td>0.498358</td>\n",
       "      <td>0.000000</td>\n",
       "      <td>0.000000</td>\n",
       "      <td>1.000000</td>\n",
       "      <td>1.000000</td>\n",
       "      <td>1.000000</td>\n",
       "    </tr>\n",
       "    <tr>\n",
       "      <th>Marital_Status_sorted_Single</th>\n",
       "      <td>7088.0</td>\n",
       "      <td>3.831828e-01</td>\n",
       "      <td>0.486197</td>\n",
       "      <td>0.000000</td>\n",
       "      <td>0.000000</td>\n",
       "      <td>0.000000</td>\n",
       "      <td>1.000000</td>\n",
       "      <td>1.000000</td>\n",
       "    </tr>\n",
       "  </tbody>\n",
       "</table>\n",
       "</div>"
      ],
      "text/plain": [
       "                                count          mean       std       min  \\\n",
       "Customer_Age                   7088.0 -3.454018e-16  1.000071 -2.531322   \n",
       "Credit_Limit                   7088.0  8.597793e+00  0.930669  7.271217   \n",
       "Total_Revolving_Bal            7088.0  9.103482e-01  0.638103  0.000000   \n",
       "Total_Trans_Amt                7088.0  8.167921e+00  0.656979  6.390241   \n",
       "Avg_Utilization_Ratio          7088.0  2.753070e-01  0.276635  0.000000   \n",
       "Gender_Encoded                 7088.0  5.328725e-01  0.498953  0.000000   \n",
       "Dependent_count                7088.0  2.344949e+00  1.299597  0.000000   \n",
       "Education_Level_sorted         7088.0  2.839306e+00  1.215114  1.000000   \n",
       "Income_Category_sorted         7088.0  2.175226e+00  1.334986  1.000000   \n",
       "Card_Category_sorted           7088.0  1.081546e+00  0.330233  1.000000   \n",
       "Months_on_book                 7088.0 -3.454018e-16  1.000071 -2.531322   \n",
       "Total_Relationship_Count       7088.0  3.801213e+00  1.559728  1.000000   \n",
       "Months_Inactive_12_mon         7088.0  2.339870e+00  1.011731  0.000000   \n",
       "Contacts_Count_12_mon          7088.0  2.466140e+00  1.106944  0.000000   \n",
       "Marital_Status_sorted_Married  7088.0  5.409142e-01  0.498358  0.000000   \n",
       "Marital_Status_sorted_Single   7088.0  3.831828e-01  0.486197  0.000000   \n",
       "\n",
       "                                    25%       50%       75%        max  \n",
       "Customer_Age                  -0.661337 -0.038008  0.709986   3.327966  \n",
       "Credit_Limit                   7.841395  8.418587  9.298671  10.449178  \n",
       "Total_Revolving_Bal            0.248822  1.000000  1.396112   1.977219  \n",
       "Total_Trans_Amt                7.674617  8.267449  8.468633   9.824661  \n",
       "Avg_Utilization_Ratio          0.023000  0.175000  0.502000   0.999000  \n",
       "Gender_Encoded                 0.000000  1.000000  1.000000   1.000000  \n",
       "Dependent_count                1.000000  2.000000  3.000000   5.000000  \n",
       "Education_Level_sorted         2.000000  3.000000  3.000000   6.000000  \n",
       "Income_Category_sorted         1.000000  2.000000  3.000000   5.000000  \n",
       "Card_Category_sorted           1.000000  1.000000  1.000000   4.000000  \n",
       "Months_on_book                -0.661337 -0.038008  0.709986   3.327966  \n",
       "Total_Relationship_Count       3.000000  4.000000  5.000000   6.000000  \n",
       "Months_Inactive_12_mon         2.000000  2.000000  3.000000   6.000000  \n",
       "Contacts_Count_12_mon          2.000000  2.000000  3.000000   6.000000  \n",
       "Marital_Status_sorted_Married  0.000000  1.000000  1.000000   1.000000  \n",
       "Marital_Status_sorted_Single   0.000000  0.000000  1.000000   1.000000  "
      ]
     },
     "execution_count": 5,
     "metadata": {},
     "output_type": "execute_result"
    }
   ],
   "source": [
    "X_train.describe().T"
   ]
  },
  {
   "cell_type": "code",
   "execution_count": 6,
   "id": "42b3a7d0",
   "metadata": {
    "scrolled": false
   },
   "outputs": [
    {
     "data": {
      "text/html": [
       "<div>\n",
       "<style scoped>\n",
       "    .dataframe tbody tr th:only-of-type {\n",
       "        vertical-align: middle;\n",
       "    }\n",
       "\n",
       "    .dataframe tbody tr th {\n",
       "        vertical-align: top;\n",
       "    }\n",
       "\n",
       "    .dataframe thead th {\n",
       "        text-align: right;\n",
       "    }\n",
       "</style>\n",
       "<table border=\"1\" class=\"dataframe\">\n",
       "  <thead>\n",
       "    <tr style=\"text-align: right;\">\n",
       "      <th></th>\n",
       "      <th>count</th>\n",
       "      <th>mean</th>\n",
       "      <th>std</th>\n",
       "      <th>min</th>\n",
       "      <th>25%</th>\n",
       "      <th>50%</th>\n",
       "      <th>75%</th>\n",
       "      <th>max</th>\n",
       "    </tr>\n",
       "  </thead>\n",
       "  <tbody>\n",
       "    <tr>\n",
       "      <th>Customer_Age</th>\n",
       "      <td>3039.0</td>\n",
       "      <td>1.760867e-16</td>\n",
       "      <td>1.000165</td>\n",
       "      <td>-2.545475</td>\n",
       "      <td>-0.671517</td>\n",
       "      <td>-0.046864</td>\n",
       "      <td>0.702719</td>\n",
       "      <td>2.701607</td>\n",
       "    </tr>\n",
       "    <tr>\n",
       "      <th>Credit_Limit</th>\n",
       "      <td>3039.0</td>\n",
       "      <td>8.616519e+00</td>\n",
       "      <td>0.940983</td>\n",
       "      <td>7.271217</td>\n",
       "      <td>7.854381</td>\n",
       "      <td>8.432724</td>\n",
       "      <td>9.328701</td>\n",
       "      <td>10.449178</td>\n",
       "    </tr>\n",
       "    <tr>\n",
       "      <th>Total_Revolving_Bal</th>\n",
       "      <td>3039.0</td>\n",
       "      <td>9.134881e-01</td>\n",
       "      <td>0.640117</td>\n",
       "      <td>0.000000</td>\n",
       "      <td>0.349961</td>\n",
       "      <td>1.000000</td>\n",
       "      <td>1.401403</td>\n",
       "      <td>1.961808</td>\n",
       "    </tr>\n",
       "    <tr>\n",
       "      <th>Total_Trans_Amt</th>\n",
       "      <td>3039.0</td>\n",
       "      <td>8.157574e+00</td>\n",
       "      <td>0.648578</td>\n",
       "      <td>6.234411</td>\n",
       "      <td>7.682021</td>\n",
       "      <td>8.271293</td>\n",
       "      <td>8.453401</td>\n",
       "      <td>9.797849</td>\n",
       "    </tr>\n",
       "    <tr>\n",
       "      <th>Avg_Utilization_Ratio</th>\n",
       "      <td>3039.0</td>\n",
       "      <td>2.739293e-01</td>\n",
       "      <td>0.273522</td>\n",
       "      <td>0.000000</td>\n",
       "      <td>0.022500</td>\n",
       "      <td>0.177000</td>\n",
       "      <td>0.503500</td>\n",
       "      <td>0.994000</td>\n",
       "    </tr>\n",
       "    <tr>\n",
       "      <th>Gender_Encoded</th>\n",
       "      <td>3039.0</td>\n",
       "      <td>5.202369e-01</td>\n",
       "      <td>0.499673</td>\n",
       "      <td>0.000000</td>\n",
       "      <td>0.000000</td>\n",
       "      <td>1.000000</td>\n",
       "      <td>1.000000</td>\n",
       "      <td>1.000000</td>\n",
       "    </tr>\n",
       "    <tr>\n",
       "      <th>Dependent_count</th>\n",
       "      <td>3039.0</td>\n",
       "      <td>2.349128e+00</td>\n",
       "      <td>1.297511</td>\n",
       "      <td>0.000000</td>\n",
       "      <td>1.000000</td>\n",
       "      <td>2.000000</td>\n",
       "      <td>3.000000</td>\n",
       "      <td>5.000000</td>\n",
       "    </tr>\n",
       "    <tr>\n",
       "      <th>Education_Level_sorted</th>\n",
       "      <td>3039.0</td>\n",
       "      <td>2.851925e+00</td>\n",
       "      <td>1.201185</td>\n",
       "      <td>1.000000</td>\n",
       "      <td>2.000000</td>\n",
       "      <td>3.000000</td>\n",
       "      <td>3.000000</td>\n",
       "      <td>6.000000</td>\n",
       "    </tr>\n",
       "    <tr>\n",
       "      <th>Income_Category_sorted</th>\n",
       "      <td>3039.0</td>\n",
       "      <td>2.199079e+00</td>\n",
       "      <td>1.332057</td>\n",
       "      <td>1.000000</td>\n",
       "      <td>1.000000</td>\n",
       "      <td>2.000000</td>\n",
       "      <td>3.000000</td>\n",
       "      <td>5.000000</td>\n",
       "    </tr>\n",
       "    <tr>\n",
       "      <th>Card_Category_sorted</th>\n",
       "      <td>3039.0</td>\n",
       "      <td>1.088516e+00</td>\n",
       "      <td>0.341929</td>\n",
       "      <td>1.000000</td>\n",
       "      <td>1.000000</td>\n",
       "      <td>1.000000</td>\n",
       "      <td>1.000000</td>\n",
       "      <td>4.000000</td>\n",
       "    </tr>\n",
       "    <tr>\n",
       "      <th>Months_on_book</th>\n",
       "      <td>3039.0</td>\n",
       "      <td>1.760867e-16</td>\n",
       "      <td>1.000165</td>\n",
       "      <td>-2.545475</td>\n",
       "      <td>-0.671517</td>\n",
       "      <td>-0.046864</td>\n",
       "      <td>0.702719</td>\n",
       "      <td>2.701607</td>\n",
       "    </tr>\n",
       "    <tr>\n",
       "      <th>Total_Relationship_Count</th>\n",
       "      <td>3039.0</td>\n",
       "      <td>3.839092e+00</td>\n",
       "      <td>1.541858</td>\n",
       "      <td>1.000000</td>\n",
       "      <td>3.000000</td>\n",
       "      <td>4.000000</td>\n",
       "      <td>5.000000</td>\n",
       "      <td>6.000000</td>\n",
       "    </tr>\n",
       "    <tr>\n",
       "      <th>Months_Inactive_12_mon</th>\n",
       "      <td>3039.0</td>\n",
       "      <td>2.344192e+00</td>\n",
       "      <td>1.008191</td>\n",
       "      <td>0.000000</td>\n",
       "      <td>2.000000</td>\n",
       "      <td>2.000000</td>\n",
       "      <td>3.000000</td>\n",
       "      <td>6.000000</td>\n",
       "    </tr>\n",
       "    <tr>\n",
       "      <th>Contacts_Count_12_mon</th>\n",
       "      <td>3039.0</td>\n",
       "      <td>2.430076e+00</td>\n",
       "      <td>1.104317</td>\n",
       "      <td>0.000000</td>\n",
       "      <td>2.000000</td>\n",
       "      <td>2.000000</td>\n",
       "      <td>3.000000</td>\n",
       "      <td>6.000000</td>\n",
       "    </tr>\n",
       "    <tr>\n",
       "      <th>Marital_Status_sorted_Married</th>\n",
       "      <td>3039.0</td>\n",
       "      <td>5.271471e-01</td>\n",
       "      <td>0.499345</td>\n",
       "      <td>0.000000</td>\n",
       "      <td>0.000000</td>\n",
       "      <td>1.000000</td>\n",
       "      <td>1.000000</td>\n",
       "      <td>1.000000</td>\n",
       "    </tr>\n",
       "    <tr>\n",
       "      <th>Marital_Status_sorted_Single</th>\n",
       "      <td>3039.0</td>\n",
       "      <td>4.037512e-01</td>\n",
       "      <td>0.490729</td>\n",
       "      <td>0.000000</td>\n",
       "      <td>0.000000</td>\n",
       "      <td>0.000000</td>\n",
       "      <td>1.000000</td>\n",
       "      <td>1.000000</td>\n",
       "    </tr>\n",
       "  </tbody>\n",
       "</table>\n",
       "</div>"
      ],
      "text/plain": [
       "                                count          mean       std       min  \\\n",
       "Customer_Age                   3039.0  1.760867e-16  1.000165 -2.545475   \n",
       "Credit_Limit                   3039.0  8.616519e+00  0.940983  7.271217   \n",
       "Total_Revolving_Bal            3039.0  9.134881e-01  0.640117  0.000000   \n",
       "Total_Trans_Amt                3039.0  8.157574e+00  0.648578  6.234411   \n",
       "Avg_Utilization_Ratio          3039.0  2.739293e-01  0.273522  0.000000   \n",
       "Gender_Encoded                 3039.0  5.202369e-01  0.499673  0.000000   \n",
       "Dependent_count                3039.0  2.349128e+00  1.297511  0.000000   \n",
       "Education_Level_sorted         3039.0  2.851925e+00  1.201185  1.000000   \n",
       "Income_Category_sorted         3039.0  2.199079e+00  1.332057  1.000000   \n",
       "Card_Category_sorted           3039.0  1.088516e+00  0.341929  1.000000   \n",
       "Months_on_book                 3039.0  1.760867e-16  1.000165 -2.545475   \n",
       "Total_Relationship_Count       3039.0  3.839092e+00  1.541858  1.000000   \n",
       "Months_Inactive_12_mon         3039.0  2.344192e+00  1.008191  0.000000   \n",
       "Contacts_Count_12_mon          3039.0  2.430076e+00  1.104317  0.000000   \n",
       "Marital_Status_sorted_Married  3039.0  5.271471e-01  0.499345  0.000000   \n",
       "Marital_Status_sorted_Single   3039.0  4.037512e-01  0.490729  0.000000   \n",
       "\n",
       "                                    25%       50%       75%        max  \n",
       "Customer_Age                  -0.671517 -0.046864  0.702719   2.701607  \n",
       "Credit_Limit                   7.854381  8.432724  9.328701  10.449178  \n",
       "Total_Revolving_Bal            0.349961  1.000000  1.401403   1.961808  \n",
       "Total_Trans_Amt                7.682021  8.271293  8.453401   9.797849  \n",
       "Avg_Utilization_Ratio          0.022500  0.177000  0.503500   0.994000  \n",
       "Gender_Encoded                 0.000000  1.000000  1.000000   1.000000  \n",
       "Dependent_count                1.000000  2.000000  3.000000   5.000000  \n",
       "Education_Level_sorted         2.000000  3.000000  3.000000   6.000000  \n",
       "Income_Category_sorted         1.000000  2.000000  3.000000   5.000000  \n",
       "Card_Category_sorted           1.000000  1.000000  1.000000   4.000000  \n",
       "Months_on_book                -0.671517 -0.046864  0.702719   2.701607  \n",
       "Total_Relationship_Count       3.000000  4.000000  5.000000   6.000000  \n",
       "Months_Inactive_12_mon         2.000000  2.000000  3.000000   6.000000  \n",
       "Contacts_Count_12_mon          2.000000  2.000000  3.000000   6.000000  \n",
       "Marital_Status_sorted_Married  0.000000  1.000000  1.000000   1.000000  \n",
       "Marital_Status_sorted_Single   0.000000  0.000000  1.000000   1.000000  "
      ]
     },
     "execution_count": 6,
     "metadata": {},
     "output_type": "execute_result"
    }
   ],
   "source": [
    "X_test.describe().T"
   ]
  },
  {
   "cell_type": "markdown",
   "id": "d1e33603",
   "metadata": {},
   "source": [
    "## Training and Modeling <a id=Training_and_Modeling ></a>"
   ]
  },
  {
   "cell_type": "markdown",
   "id": "53934cfc",
   "metadata": {},
   "source": [
    "### Fit Model on Intercept (naive model)"
   ]
  },
  {
   "cell_type": "code",
   "execution_count": 7,
   "id": "bc97a834",
   "metadata": {
    "scrolled": false
   },
   "outputs": [],
   "source": [
    "X_train = X_train.to_numpy()\n",
    "y_train = y_train.to_numpy().ravel()"
   ]
  },
  {
   "cell_type": "code",
   "execution_count": 8,
   "id": "8cdf9110",
   "metadata": {
    "scrolled": false
   },
   "outputs": [],
   "source": [
    "X_test = X_test.to_numpy()\n",
    "y_test = y_test.to_numpy().ravel()"
   ]
  },
  {
   "cell_type": "code",
   "execution_count": 9,
   "id": "0ef02462",
   "metadata": {
    "scrolled": false
   },
   "outputs": [],
   "source": [
    "def threshhold_and_plot(y_test,target,n_points=50,plot=True):\n",
    "    probs = np.linspace(0,1,n_points)\n",
    "    def make_thresh(): \n",
    "        precision = [metrics.precision_score(y_test,np.where(target > thresh,1,0),zero_division=1) for thresh in probs]\n",
    "        recall = [metrics.recall_score(y_test,np.where(target > thresh,1,0),labels=np.unique(target),zero_division=1) for thresh in probs]\n",
    "        f1 = [metrics.f1_score(y_test,np.where(target > thresh,1,0),labels=np.unique(target),zero_division=1) for thresh in probs]\n",
    "        return precision,recall,f1\n",
    "\n",
    "    precision,recall,f1 = make_thresh()\n",
    "    if plot:\n",
    "        plt.plot(probs,precision,label='precision')\n",
    "        plt.plot(probs,recall,label='recall')\n",
    "        plt.plot(probs,f1,label='f1')\n",
    "        plt.title(\"Metrics at different threshold\")\n",
    "        plt.xlabel(\"Probability\")\n",
    "        plt.legend()\n",
    "        return precision,recall,f1\n",
    "    else:\n",
    "        return precision,recall,f1\n",
    "    \n",
    "def max_thresh(score_vec):\n",
    "    max_idx=np.argmax(score_vec)\n",
    "    max_score=score_vec[max_idx]\n",
    "    return max_idx,max_score"
   ]
  },
  {
   "cell_type": "code",
   "execution_count": 10,
   "id": "e5454094",
   "metadata": {},
   "outputs": [],
   "source": [
    "#plot roc\n",
    "def plot_roc(actuals,preds):\n",
    "    fpr, tpr, thresholds = metrics.roc_curve(actuals, preds)\n",
    "    roc_auc = metrics.auc(fpr, tpr)\n",
    "    display = metrics.RocCurveDisplay(fpr=fpr, tpr=tpr, roc_auc=roc_auc)\n",
    "    display.plot()\n",
    "    plt.show()\n",
    "    return "
   ]
  },
  {
   "cell_type": "code",
   "execution_count": 53,
   "id": "1add66d4",
   "metadata": {},
   "outputs": [],
   "source": [
    "def make_confusion_matrix_ROC(y_actual,y_predict,title):\n",
    "    \n",
    "    #confusion_matrix\n",
    "    fig, ax = plt.subplots(1, 1)\n",
    "    Con_Mtx = metrics.confusion_matrix(y_actual, y_predict, labels=[0,1])\n",
    "    disp = metrics.ConfusionMatrixDisplay(confusion_matrix=Con_Mtx,display_labels=[\"No\",\"Yes\"])\n",
    "    disp.plot(cmap='Blues',ax=ax)\n",
    "    ax.set_title(title)\n",
    "    plt.tick_params(axis=u'both', which=u'both',length=0)\n",
    "    plt.grid(b=None,axis='both',which='both',visible=False)\n",
    "    plt.show()\n",
    "    \n",
    "    #Scores\n",
    "    print(\"accuracy_score : {0}\\n\".format(metrics.accuracy_score(y_actual,y_predict)))\n",
    "    Con_Mtx = metrics.confusion_matrix(y_actual,y_predict, labels=[0,1]).ravel()\n",
    "    print(\"True -ve : {0}\\nFalse +ve : {1}\\nFalse -ve : {2}\\nTrue +ve : {3}\\n\".format(Con_Mtx[0],Con_Mtx[1],Con_Mtx[2],Con_Mtx[3]))\n",
    "    \n",
    "    \n",
    "    #classification_report\n",
    "    y_class_report = metrics.classification_report(y_actual, y_predict, target_names=[\"not 1\", \"1\"])\n",
    "    print(\"classification report\\n\", y_class_report )\n",
    "    \n",
    "    #ROC_AUC Curve\n",
    "    print(\"ROC_AUC Curve\")\n",
    "    plot_roc(y_actual,y_predict)\n",
    "    "
   ]
  },
  {
   "cell_type": "code",
   "execution_count": 12,
   "id": "3e7e3349",
   "metadata": {
    "scrolled": false
   },
   "outputs": [],
   "source": [
    "null_reg = linear_model.LogisticRegression(fit_intercept= False,max_iter=500,random_state=632966)"
   ]
  },
  {
   "cell_type": "code",
   "execution_count": 13,
   "id": "33dfe273",
   "metadata": {
    "scrolled": false
   },
   "outputs": [],
   "source": [
    "X_train_null = np.ones(shape=y_train.shape[0]).reshape(-1,1)\n",
    "X_test_null = np.ones(shape=y_test.shape[0]).reshape(-1,1)"
   ]
  },
  {
   "cell_type": "code",
   "execution_count": 14,
   "id": "d1d4418f",
   "metadata": {
    "scrolled": false
   },
   "outputs": [],
   "source": [
    "#fit on train and test data no tuning\n",
    "null_train = null_reg.fit(X=X_train_null,y=y_train)\n",
    "null_test = null_reg.fit(X=X_test_null,y=y_test)"
   ]
  },
  {
   "cell_type": "code",
   "execution_count": 15,
   "id": "0a51b937",
   "metadata": {
    "scrolled": false
   },
   "outputs": [],
   "source": [
    "#predict_proba and pred_prob returns two columns, second one is target\n",
    "train_pred = null_train.predict_proba(X_train_null)\n",
    "test_pred = null_train.predict_proba(X_test_null)"
   ]
  },
  {
   "cell_type": "code",
   "execution_count": 16,
   "id": "ee52f136",
   "metadata": {},
   "outputs": [
    {
     "data": {
      "text/plain": [
       "1.0"
      ]
     },
     "execution_count": 16,
     "metadata": {},
     "output_type": "execute_result"
    }
   ],
   "source": [
    "#base metrics precision: minmum performance \n",
    "metrics.precision_score(y_true= y_train,y_pred= np.where(train_pred[:,1]>0.5,1,0),zero_division=1)"
   ]
  },
  {
   "cell_type": "code",
   "execution_count": 17,
   "id": "36190632",
   "metadata": {},
   "outputs": [
    {
     "data": {
      "text/plain": [
       "0.0"
      ]
     },
     "execution_count": 17,
     "metadata": {},
     "output_type": "execute_result"
    }
   ],
   "source": [
    "#base metrics recall: minmum performance\n",
    "metrics.recall_score(y_true= y_train,y_pred= np.where(train_pred[:,1]>0.5,1,0),zero_division=1)"
   ]
  },
  {
   "cell_type": "code",
   "execution_count": 18,
   "id": "a2649083",
   "metadata": {
    "scrolled": false
   },
   "outputs": [
    {
     "data": {
      "text/plain": [
       "0.0"
      ]
     },
     "execution_count": 18,
     "metadata": {},
     "output_type": "execute_result"
    }
   ],
   "source": [
    "#base metrics f1 score: minmum performance\n",
    "metrics.f1_score(y_true= y_train,y_pred= np.where(train_pred[:,1]>0.5,1,0),zero_division=1)"
   ]
  },
  {
   "cell_type": "code",
   "execution_count": 19,
   "id": "2ad1692d",
   "metadata": {
    "scrolled": false
   },
   "outputs": [
    {
     "name": "stdout",
     "output_type": "stream",
     "text": [
      "Observed: 0.161, Fit: 0.161\n"
     ]
    }
   ],
   "source": [
    "#check to see if close to population value\n",
    "print(\"Observed: {:.3f}, Fit: {:.3f}\".format(y_train.mean(),train_pred[:,1].mean()))"
   ]
  },
  {
   "cell_type": "code",
   "execution_count": 20,
   "id": "40b86bb8",
   "metadata": {},
   "outputs": [],
   "source": [
    "model_params = {\"model__C\": (np.logspace(start=-4,stop=4,num=30))}\n",
    "#pipe line has just model object\n",
    "model_pipeline = pipeline.Pipeline(steps=[(\"model\",null_reg)])\n",
    "# set up cross-validator:\n",
    "# 80/20 train/calibration split in this data (test data still held out)\n",
    "# 200 iterations\n",
    "# feel free to use another CV method and explain why\n",
    "cross_validator = (\n",
    "  model_selection.StratifiedShuffleSplit(train_size=0.8,\n",
    "                                          random_state=1337,\n",
    "                                          n_splits=50))\n",
    "# set up grid search\n",
    "model_grid = (\n",
    "  model_selection.GridSearchCV(estimator=model_pipeline,\n",
    "                           param_grid=model_params,\n",
    "                           refit=True, # refit using best estimates\n",
    "                           scoring=\"roc_auc\", # metric to optimize (can pick another)\n",
    "                           cv=cross_validator,\n",
    "                           n_jobs = -1))"
   ]
  },
  {
   "cell_type": "code",
   "execution_count": 21,
   "id": "861cb441",
   "metadata": {
    "scrolled": false
   },
   "outputs": [
    {
     "name": "stdout",
     "output_type": "stream",
     "text": [
      "Wall time: 4.11 s\n"
     ]
    }
   ],
   "source": [
    "%%time\n",
    "# fit model on intercept (random guesses - baseline performance)\n",
    "null_mod = model_grid.fit(X_train_null,y_train)"
   ]
  },
  {
   "cell_type": "code",
   "execution_count": 22,
   "id": "d237f1a0",
   "metadata": {
    "scrolled": false
   },
   "outputs": [
    {
     "name": "stdout",
     "output_type": "stream",
     "text": [
      "Wall time: 1min 55s\n"
     ]
    }
   ],
   "source": [
    "%%time\n",
    "cv_scores = (\n",
    "  model_selection.cross_val_score(null_mod,\n",
    "                                  X_train_null,\n",
    "                                  y_train,\n",
    "                                  scoring=\"roc_auc\",\n",
    "                                  cv=cross_validator,\n",
    "                                  n_jobs=-1))"
   ]
  },
  {
   "cell_type": "code",
   "execution_count": 23,
   "id": "0e2481d9",
   "metadata": {},
   "outputs": [
    {
     "name": "stdout",
     "output_type": "stream",
     "text": [
      "Observed: 0.161\n"
     ]
    }
   ],
   "source": [
    "print(\"Observed: {:.3f}\".format(y_train.mean()))"
   ]
  },
  {
   "cell_type": "code",
   "execution_count": 24,
   "id": "6fb48892",
   "metadata": {
    "scrolled": false
   },
   "outputs": [
    {
     "name": "stdout",
     "output_type": "stream",
     "text": [
      " 2.5%:0.500,97.5%:0.500\n"
     ]
    }
   ],
   "source": [
    "cv_quantiles = np.quantile(a=cv_scores,q=[0.025,0.975])\n",
    "print(f\" 2.5%:{cv_quantiles[0]:.3f},97.5%:{cv_quantiles[1]:.3f}\")"
   ]
  },
  {
   "cell_type": "code",
   "execution_count": 25,
   "id": "0e7ff6f0",
   "metadata": {
    "scrolled": false
   },
   "outputs": [
    {
     "data": {
      "text/plain": [
       "<AxesSubplot:ylabel='Count'>"
      ]
     },
     "execution_count": 25,
     "metadata": {},
     "output_type": "execute_result"
    },
    {
     "data": {
      "image/png": "[encoded data removed]",
      "text/plain": [
       "<Figure size 432x288 with 1 Axes>"
      ]
     },
     "metadata": {
      "needs_background": "light"
     },
     "output_type": "display_data"
    }
   ],
   "source": [
    "import seaborn as sns\n",
    "sns.histplot(cv_scores, bins=10)"
   ]
  },
  {
   "cell_type": "code",
   "execution_count": 26,
   "id": "36234fb6",
   "metadata": {
    "scrolled": false
   },
   "outputs": [
    {
     "data": {
      "text/plain": [
       "(0, 0.5)"
      ]
     },
     "execution_count": 26,
     "metadata": {},
     "output_type": "execute_result"
    }
   ],
   "source": [
    "max_thresh(cv_scores)"
   ]
  },
  {
   "cell_type": "code",
   "execution_count": 27,
   "id": "edf715b4",
   "metadata": {},
   "outputs": [
    {
     "name": "stdout",
     "output_type": "stream",
     "text": [
      "Max Test precision - 1.0 at index 8\n"
     ]
    }
   ],
   "source": [
    "#on test data\n",
    "p_test,r_test,f1_test = threshhold_and_plot(y_test,test_pred[:,1],plot=False)\n",
    "max_precison_test_idx, max_precison_test_val = max_thresh(p_test)\n",
    "print(\"Max Test precision - {} at index {}\".format(max_precison_test_val,max_precison_test_idx))"
   ]
  },
  {
   "cell_type": "code",
   "execution_count": 28,
   "id": "91cbb2a0",
   "metadata": {},
   "outputs": [
    {
     "name": "stdout",
     "output_type": "stream",
     "text": [
      "Max Train precision - 1.0 at index 2\n"
     ]
    }
   ],
   "source": [
    "#now on train data\n",
    "p_train,r_train,f1_train =  threshhold_and_plot(y_test=y_train, target=train_pred[:,1],n_points=max_precison_test_idx, plot=False)\n",
    "max_precison_train_idx, max_precison_train_val = max_thresh(p_train)\n",
    "print(\"Max Train precision - {} at index {}\".format(max_precison_train_val,max_precison_train_idx))"
   ]
  },
  {
   "cell_type": "code",
   "execution_count": 29,
   "id": "192afb2c",
   "metadata": {
    "scrolled": false
   },
   "outputs": [
    {
     "name": "stdout",
     "output_type": "stream",
     "text": [
      "Observed: 0.161 Fit: 0.161\n"
     ]
    }
   ],
   "source": [
    "# check to see if close to population value\n",
    "print(f\"Observed: {y_train.mean():.3f} Fit: {train_pred[:,1].mean():.3f}\")"
   ]
  },
  {
   "cell_type": "markdown",
   "id": "c075a96c",
   "metadata": {},
   "source": [
    "## Logistics Regression"
   ]
  },
  {
   "cell_type": "markdown",
   "id": "4f0d4e3a",
   "metadata": {},
   "source": [
    "Thinking of customer will not exit but he does, this means income loss for the Bank. Bank need to take the action steps for this scenario. This is false positive, and is \"precision\". Banks  is looking for precision to be maximized, greater the precision lesser the chances of false positives means lesser chances of predicting customers will not  exit where in reality they do."
   ]
  },
  {
   "cell_type": "code",
   "execution_count": 30,
   "id": "415a7bd9",
   "metadata": {},
   "outputs": [],
   "source": [
    "clf_lg = linear_model.LogisticRegression(fit_intercept= True,max_iter=500,random_state=632966)\n",
    "\n",
    "model_params_lg = {\"model__C\": (np.logspace(start=-4,stop=4,num=30))} \n",
    "\n",
    "model_pipeline_lg = pipeline.Pipeline(steps=[(\"model\",clf_lg)])\n",
    "\n",
    "cross_validator = (\n",
    "    model_selection.StratifiedShuffleSplit(train_size=0.8,\n",
    "                                           random_state=1337,\n",
    "                                           n_splits=50))\n",
    "\n",
    "# set up grid search\n",
    "model_grid_lg = (\n",
    "  model_selection.GridSearchCV(estimator=model_pipeline_lg,\n",
    "                               param_grid=model_params_lg,\n",
    "                               refit=True, # refit using best estimates\n",
    "                               scoring=\"roc_auc\", \n",
    "                               cv=cross_validator,\n",
    "                               n_jobs = -1))"
   ]
  },
  {
   "cell_type": "code",
   "execution_count": 31,
   "id": "865520fa",
   "metadata": {},
   "outputs": [
    {
     "name": "stdout",
     "output_type": "stream",
     "text": [
      "Wall time: 26.8 s\n"
     ]
    }
   ],
   "source": [
    "%%time\n",
    "lg_mod = model_grid_lg.fit(X_train,y_train)"
   ]
  },
  {
   "cell_type": "code",
   "execution_count": 32,
   "id": "24ec6c78",
   "metadata": {},
   "outputs": [],
   "source": [
    "# Setting to the best combination of parameters\n",
    "lr_reg = lg_mod.best_estimator_"
   ]
  },
  {
   "cell_type": "code",
   "execution_count": 33,
   "id": "98c42e02",
   "metadata": {},
   "outputs": [
    {
     "data": {
      "text/plain": [
       "Pipeline(steps=[('model',\n",
       "                 LogisticRegression(C=0.20433597178569418, max_iter=500,\n",
       "                                    random_state=632966))])"
      ]
     },
     "execution_count": 33,
     "metadata": {},
     "output_type": "execute_result"
    }
   ],
   "source": [
    "# Fit the best algorithm to the data. \n",
    "lr_reg.fit(X_train, y_train)"
   ]
  },
  {
   "cell_type": "code",
   "execution_count": 34,
   "id": "69496998",
   "metadata": {},
   "outputs": [
    {
     "name": "stdout",
     "output_type": "stream",
     "text": [
      "Wall time: 1.09 s\n"
     ]
    }
   ],
   "source": [
    "%%time\n",
    "cv_scores_lg = (\n",
    "  model_selection.cross_val_score(lr_reg,\n",
    "                                  X_train,\n",
    "                                  y_train,\n",
    "                                  scoring=\"roc_auc\",\n",
    "                                  cv=cross_validator,\n",
    "                                  n_jobs=-1))"
   ]
  },
  {
   "cell_type": "code",
   "execution_count": 35,
   "id": "9e3e053b",
   "metadata": {},
   "outputs": [
    {
     "name": "stdout",
     "output_type": "stream",
     "text": [
      " 2.5%:0.799,97.5%:0.854\n"
     ]
    }
   ],
   "source": [
    "cv_quantiles = np.quantile(a=cv_scores_lg,q=[0.025,0.975])\n",
    "print(f\" 2.5%:{cv_quantiles[0]:.3f},97.5%:{cv_quantiles[1]:.3f}\")"
   ]
  },
  {
   "cell_type": "code",
   "execution_count": 36,
   "id": "156ce9b5",
   "metadata": {},
   "outputs": [
    {
     "data": {
      "text/plain": [
       "<AxesSubplot:ylabel='Count'>"
      ]
     },
     "execution_count": 36,
     "metadata": {},
     "output_type": "execute_result"
    },
    {
     "data": {
      "image/png": "[encoded data removed]",
      "text/plain": [
       "<Figure size 432x288 with 1 Axes>"
      ]
     },
     "metadata": {},
     "output_type": "display_data"
    }
   ],
   "source": [
    "sns.set_style(\"darkgrid\")\n",
    "sns.histplot(cv_scores_lg, bins=10)"
   ]
  },
  {
   "cell_type": "code",
   "execution_count": 37,
   "id": "09f112d4",
   "metadata": {},
   "outputs": [
    {
     "data": {
      "text/plain": [
       "(8, 0.8701312103788884)"
      ]
     },
     "execution_count": 37,
     "metadata": {},
     "output_type": "execute_result"
    }
   ],
   "source": [
    "max_thresh(cv_scores_lg)"
   ]
  },
  {
   "cell_type": "code",
   "execution_count": 38,
   "id": "72006b5f",
   "metadata": {},
   "outputs": [],
   "source": [
    "true_train_preds = lr_reg.predict(X_train)\n",
    "true_test_preds = lr_reg.predict(X_test)"
   ]
  },
  {
   "cell_type": "code",
   "execution_count": 39,
   "id": "7bf75332",
   "metadata": {},
   "outputs": [
    {
     "name": "stdout",
     "output_type": "stream",
     "text": [
      "Max Test precision - 1.0 at index 49\n"
     ]
    }
   ],
   "source": [
    "#on test data find max presison and threshold\n",
    "p_test,r_test,f1_test = threshhold_and_plot(y_train,true_train_preds,plot=False)\n",
    "max_precison_test_idx, max_precison_test_val = max_thresh(p_test)\n",
    "print(\"Max Test precision - {} at index {}\".format(max_precison_test_val,max_precison_test_idx))"
   ]
  },
  {
   "cell_type": "code",
   "execution_count": 40,
   "id": "1b592c99",
   "metadata": {},
   "outputs": [
    {
     "name": "stdout",
     "output_type": "stream",
     "text": [
      "Max Test precision - 1.0 at index 2\n"
     ]
    }
   ],
   "source": [
    "#on train data find max presison and threshold\n",
    "p_train,r_train,f1_train = threshhold_and_plot(y_train,true_train_preds,n_points=max_precison_test_idx,plot=False)\n",
    "max_precison_traint_idx, max_precison_train_val = max_thresh(p_train)\n",
    "print(\"Max Test precision - {} at index {}\".format(max_precison_train_val,max_precison_train_idx))"
   ]
  },
  {
   "cell_type": "code",
   "execution_count": 54,
   "id": "640a660c",
   "metadata": {},
   "outputs": [
    {
     "data": {
      "image/png": "[encoded data removed]",
      "text/plain": [
       "<Figure size 432x288 with 2 Axes>"
      ]
     },
     "metadata": {},
     "output_type": "display_data"
    },
    {
     "name": "stdout",
     "output_type": "stream",
     "text": [
      "accuracy_score : 0.8805022573363431\n",
      "\n",
      "True -ve : 5822\n",
      "False +ve : 127\n",
      "False -ve : 720\n",
      "True +ve : 419\n",
      "\n",
      "classification report\n",
      "               precision    recall  f1-score   support\n",
      "\n",
      "       not 1       0.89      0.98      0.93      5949\n",
      "           1       0.77      0.37      0.50      1139\n",
      "\n",
      "    accuracy                           0.88      7088\n",
      "   macro avg       0.83      0.67      0.71      7088\n",
      "weighted avg       0.87      0.88      0.86      7088\n",
      "\n",
      "ROC_AUC Curve\n"
     ]
    },
    {
     "data": {
      "image/png": "[encoded data removed]",
      "text/plain": [
       "<Figure size 432x288 with 1 Axes>"
      ]
     },
     "metadata": {},
     "output_type": "display_data"
    }
   ],
   "source": [
    "#Confusion matrix for train data\n",
    "title = \"Confusion matrix for train data\"\n",
    "make_confusion_matrix_ROC(y_train, true_train_preds,title)"
   ]
  },
  {
   "cell_type": "code",
   "execution_count": 55,
   "id": "0c47341e",
   "metadata": {},
   "outputs": [
    {
     "data": {
      "image/png": "[encoded data removed]",
      "text/plain": [
       "<Figure size 432x288 with 2 Axes>"
      ]
     },
     "metadata": {},
     "output_type": "display_data"
    },
    {
     "name": "stdout",
     "output_type": "stream",
     "text": [
      "accuracy_score : 0.8749588680487003\n",
      "\n",
      "True -ve : 2492\n",
      "False +ve : 59\n",
      "False -ve : 321\n",
      "True +ve : 167\n",
      "\n",
      "classification report\n",
      "               precision    recall  f1-score   support\n",
      "\n",
      "       not 1       0.89      0.98      0.93      2551\n",
      "           1       0.74      0.34      0.47       488\n",
      "\n",
      "    accuracy                           0.87      3039\n",
      "   macro avg       0.81      0.66      0.70      3039\n",
      "weighted avg       0.86      0.87      0.86      3039\n",
      "\n",
      "ROC_AUC Curve\n"
     ]
    },
    {
     "data": {
      "image/png": "[encoded data removed]",
      "text/plain": [
       "<Figure size 432x288 with 1 Axes>"
      ]
     },
     "metadata": {},
     "output_type": "display_data"
    }
   ],
   "source": [
    "#Confusion matrix for test data\n",
    "title = \"Confusion matrix for test data\"\n",
    "make_confusion_matrix_ROC(y_test, true_test_preds,title)"
   ]
  },
  {
   "cell_type": "code",
   "execution_count": 56,
   "id": "c87e3639",
   "metadata": {},
   "outputs": [],
   "source": [
    "#classifier, with intercept= True\n",
    "clf_lg = linear_model.LogisticRegression(fit_intercept= True,max_iter=500,random_state=632966)\n",
    "\n",
    "# Grid of parameters\n",
    "model_params_lg = {\"model__C\": (np.logspace(start=-4,stop=4,num=30)),\n",
    "                   'model__penalty': ['l2']} \n",
    "#'model__solver' : ['liblinear','newton-cg','lbfgs','sag','saga'],\n",
    "\n",
    "# pipeline\n",
    "model_pipeline_lg = pipeline.Pipeline(steps=[(\"model\",clf_lg)])\n",
    "\n",
    "cross_validator = (model_selection.StratifiedShuffleSplit(train_size=0.8,random_state=1337,n_splits=50))\n",
    "\n",
    "# set up grid search\n",
    "model_grid_lg = (\n",
    "  model_selection.GridSearchCV(estimator=model_pipeline_lg,\n",
    "                               param_grid=model_params_lg,\n",
    "                               refit=True, # refit using best estimates\n",
    "                               scoring=\"roc_auc\", cv=cross_validator,n_jobs = -1,verbose=1))"
   ]
  },
  {
   "cell_type": "code",
   "execution_count": 57,
   "id": "a2eec129",
   "metadata": {},
   "outputs": [
    {
     "name": "stdout",
     "output_type": "stream",
     "text": [
      "Fitting 50 folds for each of 30 candidates, totalling 1500 fits\n",
      "Wall time: 16.1 s\n"
     ]
    },
    {
     "data": {
      "text/plain": [
       "GridSearchCV(cv=StratifiedShuffleSplit(n_splits=50, random_state=1337, test_size=None,\n",
       "            train_size=0.8),\n",
       "             estimator=Pipeline(steps=[('model',\n",
       "                                        LogisticRegression(max_iter=500,\n",
       "                                                           random_state=632966))]),\n",
       "             n_jobs=-1,\n",
       "             param_grid={'model__C': array([1.00000000e-04, 1.88739182e-04, 3.56224789e-04, 6.72335754e-04,\n",
       "       1.26896100e-03, 2.39502662e-03, 4.52035366e-03, 8.53167852e-03,\n",
       "       1.61026203e-02, 3.03919538e-02, 5.73615251e-02, 1.08263673e-01,\n",
       "       2.04335972e-01, 3.85662042e-01, 7.27895384e-01, 1.37382380e+00,\n",
       "       2.59294380e+00, 4.89390092e+00, 9.23670857e+00, 1.74332882e+01,\n",
       "       3.29034456e+01, 6.21016942e+01, 1.17210230e+02, 2.21221629e+02,\n",
       "       4.17531894e+02, 7.88046282e+02, 1.48735211e+03, 2.80721620e+03,\n",
       "       5.29831691e+03, 1.00000000e+04]),\n",
       "                         'model__penalty': ['l2']},\n",
       "             scoring='roc_auc', verbose=1)"
      ]
     },
     "execution_count": 57,
     "metadata": {},
     "output_type": "execute_result"
    }
   ],
   "source": [
    "%%time\n",
    "# Fit the best algorithm to the data. \n",
    "model_grid_lg.fit(X_test, y_test)"
   ]
  },
  {
   "cell_type": "code",
   "execution_count": 58,
   "id": "2ca593aa",
   "metadata": {},
   "outputs": [
    {
     "data": {
      "text/plain": [
       "({'model__C': 0.1082636733874054, 'model__penalty': 'l2'}, 0.814623049219688)"
      ]
     },
     "execution_count": 58,
     "metadata": {},
     "output_type": "execute_result"
    }
   ],
   "source": [
    "model_grid_lg.best_params_,model_grid_lg.best_score_"
   ]
  },
  {
   "cell_type": "code",
   "execution_count": 59,
   "id": "c977db6e",
   "metadata": {},
   "outputs": [
    {
     "data": {
      "text/plain": [
       "Pipeline(steps=[('model',\n",
       "                 LogisticRegression(C=0.1082636733874054, max_iter=500,\n",
       "                                    random_state=632966))])"
      ]
     },
     "execution_count": 59,
     "metadata": {},
     "output_type": "execute_result"
    }
   ],
   "source": [
    "# Setting to the best combination of parameters\n",
    "lr_reg = model_grid_lg.best_estimator_\n",
    "# Fit the best algorithm to the data. \n",
    "lr_reg.fit(X_train, y_train)"
   ]
  },
  {
   "cell_type": "code",
   "execution_count": 60,
   "id": "6808efe4",
   "metadata": {},
   "outputs": [],
   "source": [
    "true_train_preds = lr_reg.predict(X_train)\n",
    "true_test_preds = lr_reg.predict(X_test)"
   ]
  },
  {
   "cell_type": "code",
   "execution_count": 61,
   "id": "e7f9dd47",
   "metadata": {},
   "outputs": [
    {
     "name": "stdout",
     "output_type": "stream",
     "text": [
      "Wall time: 1.08 s\n"
     ]
    }
   ],
   "source": [
    "%%time\n",
    "cv_scores_lg = (\n",
    "  model_selection.cross_val_score(lr_reg,\n",
    "                                  X_train,\n",
    "                                  y_train,\n",
    "                                  scoring=\"recall\",\n",
    "                                  cv=cross_validator,\n",
    "                                  n_jobs=-1))"
   ]
  },
  {
   "cell_type": "code",
   "execution_count": 62,
   "id": "9290e1e6",
   "metadata": {},
   "outputs": [
    {
     "name": "stdout",
     "output_type": "stream",
     "text": [
      " 2.5%:0.300,97.5%:0.415\n"
     ]
    }
   ],
   "source": [
    "cv_quantiles = np.quantile(a=cv_scores_lg,q=[0.025,0.975])\n",
    "print(f\" 2.5%:{cv_quantiles[0]:.3f},97.5%:{cv_quantiles[1]:.3f}\")"
   ]
  },
  {
   "cell_type": "code",
   "execution_count": 63,
   "id": "b6e748ed",
   "metadata": {},
   "outputs": [
    {
     "data": {
      "text/plain": [
       "<AxesSubplot:ylabel='Count'>"
      ]
     },
     "execution_count": 63,
     "metadata": {},
     "output_type": "execute_result"
    },
    {
     "data": {
      "image/png": "[encoded data removed]",
      "text/plain": [
       "<Figure size 432x288 with 1 Axes>"
      ]
     },
     "metadata": {},
     "output_type": "display_data"
    }
   ],
   "source": [
    "sns.set_style(\"darkgrid\")\n",
    "sns.histplot(cv_scores_lg, bins=10)"
   ]
  },
  {
   "cell_type": "code",
   "execution_count": 64,
   "id": "2b6a50d8",
   "metadata": {},
   "outputs": [
    {
     "data": {
      "text/plain": [
       "(3, 0.42105263157894735)"
      ]
     },
     "execution_count": 64,
     "metadata": {},
     "output_type": "execute_result"
    }
   ],
   "source": [
    "max_thresh(cv_scores_lg)"
   ]
  },
  {
   "cell_type": "code",
   "execution_count": 65,
   "id": "8af3c11f",
   "metadata": {},
   "outputs": [
    {
     "name": "stdout",
     "output_type": "stream",
     "text": [
      "Max Test precision - 1.0 at index 49\n"
     ]
    }
   ],
   "source": [
    "test_precision_lg,_, _ =  threshhold_and_plot(y_test=y_test, target=true_test_preds,n_points=50, plot=False)\n",
    "max_precison_lgtest_idx, max_precison_lgtest_val = max_thresh(test_precision_lg)\n",
    "print(\"Max Test precision - {} at index {}\".format(max_precison_lgtest_val,max_precison_lgtest_idx))"
   ]
  },
  {
   "cell_type": "code",
   "execution_count": 66,
   "id": "9ab63ff7",
   "metadata": {},
   "outputs": [
    {
     "name": "stdout",
     "output_type": "stream",
     "text": [
      "Max Train precision - 1.0 at index 48\n"
     ]
    }
   ],
   "source": [
    "train_precision_lg, _, _ =  threshhold_and_plot(y_test=y_train, target=true_train_preds,n_points=max_precison_lgtest_idx, plot=False)\n",
    "max_precison_lgtrain_idx, max_precison_lgtrain_val = max_thresh(train_precision_lg)\n",
    "print(\"Max Train precision - {} at index {}\".format(max_precison_lgtrain_val,max_precison_lgtrain_idx))"
   ]
  },
  {
   "cell_type": "code",
   "execution_count": 67,
   "id": "015f8193",
   "metadata": {},
   "outputs": [
    {
     "data": {
      "image/png": "[encoded data removed]",
      "text/plain": [
       "<Figure size 432x288 with 2 Axes>"
      ]
     },
     "metadata": {},
     "output_type": "display_data"
    },
    {
     "name": "stdout",
     "output_type": "stream",
     "text": [
      "accuracy_score : 0.8752879236590984\n",
      "\n",
      "True -ve : 2495\n",
      "False +ve : 56\n",
      "False -ve : 323\n",
      "True +ve : 165\n",
      "\n",
      "classification report\n",
      "               precision    recall  f1-score   support\n",
      "\n",
      "       not 1       0.89      0.98      0.93      2551\n",
      "           1       0.75      0.34      0.47       488\n",
      "\n",
      "    accuracy                           0.88      3039\n",
      "   macro avg       0.82      0.66      0.70      3039\n",
      "weighted avg       0.86      0.88      0.85      3039\n",
      "\n",
      "ROC_AUC Curve\n"
     ]
    },
    {
     "data": {
      "image/png": "[encoded data removed]",
      "text/plain": [
       "<Figure size 432x288 with 1 Axes>"
      ]
     },
     "metadata": {},
     "output_type": "display_data"
    }
   ],
   "source": [
    "#Confusion matrix for test data\n",
    "title = \"Confusion matrix for test data\"\n",
    "make_confusion_matrix_ROC(y_test, true_test_preds,title)"
   ]
  },
  {
   "cell_type": "code",
   "execution_count": 68,
   "id": "2f9b894a",
   "metadata": {},
   "outputs": [
    {
     "data": {
      "image/png": "[encoded data removed]",
      "text/plain": [
       "<Figure size 432x288 with 2 Axes>"
      ]
     },
     "metadata": {},
     "output_type": "display_data"
    },
    {
     "name": "stdout",
     "output_type": "stream",
     "text": [
      "accuracy_score : 0.880079006772009\n",
      "\n",
      "True -ve : 5826\n",
      "False +ve : 123\n",
      "False -ve : 727\n",
      "True +ve : 412\n",
      "\n",
      "classification report\n",
      "               precision    recall  f1-score   support\n",
      "\n",
      "       not 1       0.89      0.98      0.93      5949\n",
      "           1       0.77      0.36      0.49      1139\n",
      "\n",
      "    accuracy                           0.88      7088\n",
      "   macro avg       0.83      0.67      0.71      7088\n",
      "weighted avg       0.87      0.88      0.86      7088\n",
      "\n",
      "ROC_AUC Curve\n"
     ]
    },
    {
     "data": {
      "image/png": "[encoded data removed]",
      "text/plain": [
       "<Figure size 432x288 with 1 Axes>"
      ]
     },
     "metadata": {},
     "output_type": "display_data"
    }
   ],
   "source": [
    "title = \"Confusion matrix for train data\"\n",
    "make_confusion_matrix_ROC(y_train, true_train_preds,title)"
   ]
  },
  {
   "cell_type": "markdown",
   "id": "19c0acf5",
   "metadata": {},
   "source": [
    "### Model Selection "
   ]
  },
  {
   "cell_type": "markdown",
   "id": "081693f4",
   "metadata": {},
   "source": [
    "Four competing supervised classfication models/algorithms are considered, namely, \n",
    "* Logistic Regression classification\n",
    "* Random Forest classifier\n",
    "* KNeighbours classification\n",
    "* XGBoost classifier "
   ]
  },
  {
   "cell_type": "markdown",
   "id": "9ff507b8",
   "metadata": {},
   "source": [
    "### Evaluation Metrics"
   ]
  },
  {
   "cell_type": "markdown",
   "id": "bc168690",
   "metadata": {},
   "source": [
    "Since classes in the data are unbalanced, I can make use of confusion matrix to examine the outcome of model. Recall and precision metrics can be calculated from the confusion matrix, and this would help me assessing the models.\n",
    "\n",
    "This project is aim to predict potential churn customers, and it is realised that the client cost of mistakenly classifying non-churn customer as churn may be high in practice because banks would not want to lose valuable customers, and the banks would like to identify churners at their best efforts as well. Thus, it would be useful to consider Precision. To complement this Receiver Operating Characteristic curve (ROC) is used. ROC is a plot of True Positive Rate (TPR) against False Positive Rate (FPR). This means I can consider TPR and FPR simultanesouly, by making use of the area under the curve (AUC) of ROC."
   ]
  },
  {
   "cell_type": "markdown",
   "id": "e92aacc4",
   "metadata": {},
   "source": [
    "### Training and Modeling"
   ]
  },
  {
   "cell_type": "code",
   "execution_count": 69,
   "id": "c4ebbfab",
   "metadata": {},
   "outputs": [
    {
     "name": "stdout",
     "output_type": "stream",
     "text": [
      "[01:00:33] WARNING: C:/Users/Administrator/workspace/xgboost-win64_release_1.5.1/src/learner.cc:1115: Starting in XGBoost 1.3.0, the default evaluation metric used with the objective 'binary:logistic' was changed from 'error' to 'logloss'. Explicitly set eval_metric if you'd like to restore the old behavior.\n"
     ]
    }
   ],
   "source": [
    "# models listing and fitting\n",
    "models = [\n",
    "        linear_model.LogisticRegression(),\n",
    "        ensemble.RandomForestClassifier(),\n",
    "        neighbors.KNeighborsClassifier(),\n",
    "        XGBClassifier(use_label_encoder=False)\n",
    "        ]\n",
    "\n",
    "for model in models :\n",
    "            model.fit(X_train,y_train)"
   ]
  },
  {
   "cell_type": "code",
   "execution_count": 70,
   "id": "0b3e7897",
   "metadata": {
    "scrolled": false
   },
   "outputs": [
    {
     "name": "stdout",
     "output_type": "stream",
     "text": [
      "========================================\n",
      "classifier name: Logistic Regression\n",
      "========================================\n"
     ]
    },
    {
     "data": {
      "image/png": "[encoded data removed]",
      "text/plain": [
       "<Figure size 432x288 with 2 Axes>"
      ]
     },
     "metadata": {},
     "output_type": "display_data"
    },
    {
     "name": "stdout",
     "output_type": "stream",
     "text": [
      "accuracy_score : 0.8746298124383021\n",
      "\n",
      "True -ve : 2490\n",
      "False +ve : 61\n",
      "False -ve : 320\n",
      "True +ve : 168\n",
      "\n",
      "classification report\n",
      "               precision    recall  f1-score   support\n",
      "\n",
      "       not 1       0.89      0.98      0.93      2551\n",
      "           1       0.73      0.34      0.47       488\n",
      "\n",
      "    accuracy                           0.87      3039\n",
      "   macro avg       0.81      0.66      0.70      3039\n",
      "weighted avg       0.86      0.87      0.86      3039\n",
      "\n",
      "ROC_AUC Curve\n"
     ]
    },
    {
     "data": {
      "image/png": "[encoded data removed]",
      "text/plain": [
       "<Figure size 432x288 with 1 Axes>"
      ]
     },
     "metadata": {},
     "output_type": "display_data"
    },
    {
     "name": "stdout",
     "output_type": "stream",
     "text": [
      "========================================\n",
      "classifier name: RandomForest Classifier\n",
      "========================================\n"
     ]
    },
    {
     "data": {
      "image/png": "[encoded data removed]",
      "text/plain": [
       "<Figure size 432x288 with 2 Axes>"
      ]
     },
     "metadata": {},
     "output_type": "display_data"
    },
    {
     "name": "stdout",
     "output_type": "stream",
     "text": [
      "accuracy_score : 0.9391247120763409\n",
      "\n",
      "True -ve : 2514\n",
      "False +ve : 37\n",
      "False -ve : 148\n",
      "True +ve : 340\n",
      "\n",
      "classification report\n",
      "               precision    recall  f1-score   support\n",
      "\n",
      "       not 1       0.94      0.99      0.96      2551\n",
      "           1       0.90      0.70      0.79       488\n",
      "\n",
      "    accuracy                           0.94      3039\n",
      "   macro avg       0.92      0.84      0.88      3039\n",
      "weighted avg       0.94      0.94      0.94      3039\n",
      "\n",
      "ROC_AUC Curve\n"
     ]
    },
    {
     "data": {
      "image/png": "[encoded data removed]",
      "text/plain": [
       "<Figure size 432x288 with 1 Axes>"
      ]
     },
     "metadata": {},
     "output_type": "display_data"
    },
    {
     "name": "stdout",
     "output_type": "stream",
     "text": [
      "========================================\n",
      "classifier name: KNeighbors Classifier\n",
      "========================================\n"
     ]
    },
    {
     "data": {
      "image/png": "[encoded data removed]",
      "text/plain": [
       "<Figure size 432x288 with 2 Axes>"
      ]
     },
     "metadata": {},
     "output_type": "display_data"
    },
    {
     "name": "stdout",
     "output_type": "stream",
     "text": [
      "accuracy_score : 0.8696939782823297\n",
      "\n",
      "True -ve : 2490\n",
      "False +ve : 61\n",
      "False -ve : 335\n",
      "True +ve : 153\n",
      "\n",
      "classification report\n",
      "               precision    recall  f1-score   support\n",
      "\n",
      "       not 1       0.88      0.98      0.93      2551\n",
      "           1       0.71      0.31      0.44       488\n",
      "\n",
      "    accuracy                           0.87      3039\n",
      "   macro avg       0.80      0.64      0.68      3039\n",
      "weighted avg       0.85      0.87      0.85      3039\n",
      "\n",
      "ROC_AUC Curve\n"
     ]
    },
    {
     "data": {
      "image/png": "[encoded data removed]",
      "text/plain": [
       "<Figure size 432x288 with 1 Axes>"
      ]
     },
     "metadata": {},
     "output_type": "display_data"
    },
    {
     "name": "stdout",
     "output_type": "stream",
     "text": [
      "========================================\n",
      "classifier name: XGBClassifier\n",
      "========================================\n"
     ]
    },
    {
     "data": {
      "image/png": "[encoded data removed]",
      "text/plain": [
       "<Figure size 432x288 with 2 Axes>"
      ]
     },
     "metadata": {},
     "output_type": "display_data"
    },
    {
     "name": "stdout",
     "output_type": "stream",
     "text": [
      "accuracy_score : 0.9424152681803225\n",
      "\n",
      "True -ve : 2491\n",
      "False +ve : 60\n",
      "False -ve : 115\n",
      "True +ve : 373\n",
      "\n",
      "classification report\n",
      "               precision    recall  f1-score   support\n",
      "\n",
      "       not 1       0.96      0.98      0.97      2551\n",
      "           1       0.86      0.76      0.81       488\n",
      "\n",
      "    accuracy                           0.94      3039\n",
      "   macro avg       0.91      0.87      0.89      3039\n",
      "weighted avg       0.94      0.94      0.94      3039\n",
      "\n",
      "ROC_AUC Curve\n"
     ]
    },
    {
     "data": {
      "image/png": "[encoded data removed]",
      "text/plain": [
       "<Figure size 432x288 with 1 Axes>"
      ]
     },
     "metadata": {},
     "output_type": "display_data"
    }
   ],
   "source": [
    "#Model predition\n",
    "model_names = [\n",
    "        'Logistic Regression',\n",
    "        'RandomForest Classifier',\n",
    "        'KNeighbors Classifier',\n",
    "        'XGBClassifier'\n",
    "]\n",
    "    \n",
    "for classifier,classifier_name in zip(models,model_names):\n",
    "    prediction=classifier.predict(X_test)\n",
    "    print(\"=\"*40)\n",
    "    print('classifier name: ' + classifier_name)\n",
    "    print(\"=\"*40)\n",
    "    title = \"Confusion matrix for test data\" \n",
    "    make_confusion_matrix_ROC(y_test,prediction,title)\n",
    "  "
   ]
  },
  {
   "cell_type": "markdown",
   "id": "b187edbf",
   "metadata": {},
   "source": [
    "Best Model is from XG Classifier with Score 94%"
   ]
  },
  {
   "cell_type": "markdown",
   "id": "fcfa01bc",
   "metadata": {},
   "source": [
    "### Feature Importance"
   ]
  },
  {
   "cell_type": "markdown",
   "id": "1bc938af",
   "metadata": {},
   "source": [
    "Feature Importance is a process used to select features in the dataset that contributes the most in predicting the target variable. Working with selected features instead of all the features reduces the risk of over-fitting, improves accuracy, and decreases the training time. "
   ]
  },
  {
   "cell_type": "markdown",
   "id": "02cce95c",
   "metadata": {},
   "source": [
    "Finding Feature importance and selecting top 8 features"
   ]
  },
  {
   "cell_type": "code",
   "execution_count": 71,
   "id": "3a1d8856",
   "metadata": {},
   "outputs": [],
   "source": [
    "# converting numby to dataframe \n",
    "cols = ['Customer_Age', 'Credit_Limit', 'Total_Revolving_Bal',\n",
    "       'Total_Trans_Amt', 'Avg_Utilization_Ratio', 'Gender_Encoded',\n",
    "       'Dependent_count', 'Education_Level_sorted', 'Income_Category_sorted',\n",
    "       'Card_Category_sorted', 'Months_on_book', 'Total_Relationship_Count',\n",
    "       'Months_Inactive_12_mon', 'Contacts_Count_12_mon',\n",
    "       'Marital_Status_sorted_Married', 'Marital_Status_sorted_Single']\n",
    "        \n",
    "X_train = pd.DataFrame(X_train,columns=cols)\n",
    "X_test = pd.DataFrame(X_test,columns=cols)"
   ]
  },
  {
   "cell_type": "code",
   "execution_count": 72,
   "id": "e889fe68",
   "metadata": {},
   "outputs": [
    {
     "data": {
      "image/png": "[encoded data removed]",
      "text/plain": [
       "<Figure size 432x288 with 1 Axes>"
      ]
     },
     "metadata": {},
     "output_type": "display_data"
    },
    {
     "data": {
      "text/plain": [
       "<Figure size 1440x1440 with 0 Axes>"
      ]
     },
     "metadata": {},
     "output_type": "display_data"
    },
    {
     "name": "stdout",
     "output_type": "stream",
     "text": [
      "['Total_Revolving_Bal', 0.18961056]\n",
      "['Total_Trans_Amt', 0.14141884]\n",
      "['Total_Relationship_Count', 0.1392616]\n",
      "['Months_Inactive_12_mon', 0.08161943]\n",
      "['Gender_Encoded', 0.07091206]\n",
      "['Customer_Age', 0.063494116]\n",
      "['Contacts_Count_12_mon', 0.050714638]\n",
      "['Credit_Limit', 0.045570944]\n",
      "['Marital_Status_sorted_Married', 0.045564655]\n",
      "['Dependent_count', 0.03548129]\n",
      "['Avg_Utilization_Ratio', 0.034051042]\n",
      "['Marital_Status_sorted_Single', 0.02745477]\n",
      "['Education_Level_sorted', 0.025964404]\n",
      "['Income_Category_sorted', 0.024694106]\n",
      "['Card_Category_sorted', 0.024187576]\n",
      "['Months_on_book', 0.0]\n"
     ]
    }
   ],
   "source": [
    "#find top 8 feature using XGBoost\n",
    "\n",
    "from xgboost import XGBRegressor,plot_importance\n",
    "import matplotlib.pyplot as plt\n",
    "#xgb = XGBRegressor(n_estimators=100)\n",
    "xgb = XGBClassifier(booster=\"gbtree\", verbosity=0, use_label_encoder=False,n_jobs=-1)\n",
    "xgb.fit(X_train, y_train)\n",
    "\n",
    "# from Builtin XGB\n",
    "plot_importance(xgb, max_num_features = 10,height=0.5)\n",
    "plt.figure(figsize=(20,20))\n",
    "plt.show()\n",
    "\n",
    "sorted_idx = np.argsort(xgb.feature_importances_)[::-1]\n",
    "for index in sorted_idx:\n",
    "    print([X_train.columns[index], xgb.feature_importances_[index]])"
   ]
  },
  {
   "cell_type": "markdown",
   "id": "06d7fb68",
   "metadata": {},
   "source": [
    "#### 'plot_importance; results different dataset. and 'xgb.feature_importances_; results with different dataset. need help here to understand which to consider, for now i consider the output from the plot_importance"
   ]
  },
  {
   "cell_type": "markdown",
   "id": "a2349967",
   "metadata": {},
   "source": [
    "From the F1 score graph the top 8 features influence prediction are as below. "
   ]
  },
  {
   "cell_type": "markdown",
   "id": "a5c1c27c",
   "metadata": {},
   "source": [
    "* Total_Trans_Amt: Total Transaction Amount in Last 12 months((one year))\n",
    "* Credit_Limit: Credit Limit on the Credit Card\n",
    "* Customer_Age: Age in Years\n",
    "* Total_Revolving_Bal: The balance that carries over from one month to the next is the revolving balance\n",
    "* Avg_Utilization_Ratio: Represents how much of the available credit the customer spent\n",
    "* Total_Relationship_Count: Total no. of products held by the customer\n",
    "* Contacts_Count_12_mon: No. of Contacts between the customer and bank in the last 12 months(one year)\n",
    "* Months_Inactive_12_mon: No. of months inactive in the last 12 months(one year)"
   ]
  },
  {
   "cell_type": "code",
   "execution_count": 73,
   "id": "1911b84c",
   "metadata": {},
   "outputs": [],
   "source": [
    "# creating train, test \n",
    "'''cols = ['Customer_Age', 'Credit_Limit', 'Total_Revolving_Bal',\n",
    "       'Total_Trans_Amt', 'Avg_Utilization_Ratio', 'Total_Relationship_Count',\n",
    "        'Contacts_Count_12_mon','Months_Inactive_12_mon']\n",
    "'''\n",
    "\n",
    "# using only top 5 \n",
    "cols = ['Customer_Age', 'Credit_Limit', 'Total_Revolving_Bal',\n",
    "       'Total_Trans_Amt', 'Avg_Utilization_Ratio']\n",
    "\n",
    "X_train_f = pd.DataFrame(X_train,columns=cols)\n",
    "X_test_f = pd.DataFrame(X_test,columns=cols)"
   ]
  },
  {
   "cell_type": "markdown",
   "id": "b22e5cfc",
   "metadata": {},
   "source": [
    "### Feature interactions"
   ]
  },
  {
   "cell_type": "markdown",
   "id": "b8458366",
   "metadata": {},
   "source": [
    "For this purpose I am using python package called 'patsy'. And here is the intoduction and references."
   ]
  },
  {
   "cell_type": "markdown",
   "id": "ee34224e",
   "metadata": {},
   "source": [
    "Feature interaction using design Matrix. The design matrix contains data on the independent variables (also called explanatory variables) in statistical models which attempt to explain observed data on a response variable (often called a dependent variable) in terms of the explanatory variables. The theory relating to such models makes substantial use of matrix manipulations involving the design matrix: see for example linear regression. A notable feature of the concept of a design matrix is that it is able to represent a number of different experimental designs and statistical models, e.g., ANOVA, ANCOVA, and linear regression.[ ref: https://en.wikipedia.org/wiki/Design_matrix\n",
    "\n",
    "<b>ref:</b>\n",
    "* https://learn-scikit.oneoffcoder.com/patsy.html\n",
    "* https://learn-scikit.oneoffcoder.com/xgboost.html\n",
    "* https://readthedocs.org/projects/patsy/downloads/pdf/latest/\n",
    "* https://www.programcreek.com/python/example/120751/patsy.dmatrix\n",
    "\n",
    "patsy is a Python package for describing statistical models (especially linear models, or models that have a linear component) and building design matrices. It is closely inspired by and compatible with the formula mini-language used in R and S. For instance, if we have some variable y, and we want to regress it against some other variables x, a, b, and the interaction of a and b, then we simply write: patsy.dmatrices(\"y ~ x + a + b + a:b\", data) and Patsy takes care of building appropriate matrices.\n",
    "ref: https://patsy.readthedocs.io/en/latest/overview.html\n",
    "\n",
    "Patsy is a neat API to transform your data into experimentation model form. For regression and classification problems, you often want your data in the Xy form where X is a matrix (independent variable) and y is a column vector (dependent variable).\n",
    "ref: https://learn-scikit.oneoffcoder.com/patsy.html\n"
   ]
  },
  {
   "cell_type": "code",
   "execution_count": 74,
   "id": "ca5a2d07",
   "metadata": {},
   "outputs": [],
   "source": [
    "from patsy import dmatrix\n",
    "#formula = 'Customer_Age*Credit_Limit*Total_Revolving_Bal*Total_Trans_Amt*Avg_Utilization_Ratio*Total_Relationship_Count*Contacts_Count_12_mon*Months_Inactive_12_mon'\n",
    "# only top 5 is used.\n",
    "#create model formula\n",
    "model_formula = 'Total_Trans_Amt*Credit_Limit*Customer_Age*Total_Revolving_Bal*Avg_Utilization_Ratio'\n",
    "#Apply model formula to train and test\n",
    "X_train = dmatrix(model_formula, X_train_f, return_type='dataframe')\n",
    "X_test = dmatrix(model_formula, X_test_f, return_type='dataframe')"
   ]
  },
  {
   "cell_type": "code",
   "execution_count": 75,
   "id": "3ee21747",
   "metadata": {},
   "outputs": [
    {
     "data": {
      "text/html": [
       "<div>\n",
       "<style scoped>\n",
       "    .dataframe tbody tr th:only-of-type {\n",
       "        vertical-align: middle;\n",
       "    }\n",
       "\n",
       "    .dataframe tbody tr th {\n",
       "        vertical-align: top;\n",
       "    }\n",
       "\n",
       "    .dataframe thead th {\n",
       "        text-align: right;\n",
       "    }\n",
       "</style>\n",
       "<table border=\"1\" class=\"dataframe\">\n",
       "  <thead>\n",
       "    <tr style=\"text-align: right;\">\n",
       "      <th></th>\n",
       "      <th>Intercept</th>\n",
       "      <th>Total_Trans_Amt</th>\n",
       "      <th>Credit_Limit</th>\n",
       "      <th>Total_Trans_Amt:Credit_Limit</th>\n",
       "      <th>Customer_Age</th>\n",
       "      <th>Total_Trans_Amt:Customer_Age</th>\n",
       "      <th>Credit_Limit:Customer_Age</th>\n",
       "      <th>Total_Trans_Amt:Credit_Limit:Customer_Age</th>\n",
       "      <th>Total_Revolving_Bal</th>\n",
       "      <th>Total_Trans_Amt:Total_Revolving_Bal</th>\n",
       "      <th>...</th>\n",
       "      <th>Credit_Limit:Customer_Age:Avg_Utilization_Ratio</th>\n",
       "      <th>Total_Trans_Amt:Credit_Limit:Customer_Age:Avg_Utilization_Ratio</th>\n",
       "      <th>Total_Revolving_Bal:Avg_Utilization_Ratio</th>\n",
       "      <th>Total_Trans_Amt:Total_Revolving_Bal:Avg_Utilization_Ratio</th>\n",
       "      <th>Credit_Limit:Total_Revolving_Bal:Avg_Utilization_Ratio</th>\n",
       "      <th>Total_Trans_Amt:Credit_Limit:Total_Revolving_Bal:Avg_Utilization_Ratio</th>\n",
       "      <th>Customer_Age:Total_Revolving_Bal:Avg_Utilization_Ratio</th>\n",
       "      <th>Total_Trans_Amt:Customer_Age:Total_Revolving_Bal:Avg_Utilization_Ratio</th>\n",
       "      <th>Credit_Limit:Customer_Age:Total_Revolving_Bal:Avg_Utilization_Ratio</th>\n",
       "      <th>Total_Trans_Amt:Credit_Limit:Customer_Age:Total_Revolving_Bal:Avg_Utilization_Ratio</th>\n",
       "    </tr>\n",
       "  </thead>\n",
       "  <tbody>\n",
       "    <tr>\n",
       "      <th>0</th>\n",
       "      <td>1.0</td>\n",
       "      <td>8.978408</td>\n",
       "      <td>10.312845</td>\n",
       "      <td>92.592934</td>\n",
       "      <td>-0.536671</td>\n",
       "      <td>-4.818452</td>\n",
       "      <td>-5.534606</td>\n",
       "      <td>-49.691949</td>\n",
       "      <td>1.672427</td>\n",
       "      <td>15.015736</td>\n",
       "      <td>...</td>\n",
       "      <td>-0.392957</td>\n",
       "      <td>-3.528128</td>\n",
       "      <td>0.118742</td>\n",
       "      <td>1.066117</td>\n",
       "      <td>1.224571</td>\n",
       "      <td>10.994702</td>\n",
       "      <td>-0.063726</td>\n",
       "      <td>-0.572154</td>\n",
       "      <td>-0.657192</td>\n",
       "      <td>-5.900538</td>\n",
       "    </tr>\n",
       "    <tr>\n",
       "      <th>1</th>\n",
       "      <td>1.0</td>\n",
       "      <td>8.429454</td>\n",
       "      <td>8.285009</td>\n",
       "      <td>69.838104</td>\n",
       "      <td>-0.536671</td>\n",
       "      <td>-4.523844</td>\n",
       "      <td>-4.446325</td>\n",
       "      <td>-37.480090</td>\n",
       "      <td>0.956795</td>\n",
       "      <td>8.065259</td>\n",
       "      <td>...</td>\n",
       "      <td>-1.365022</td>\n",
       "      <td>-11.506388</td>\n",
       "      <td>0.293736</td>\n",
       "      <td>2.476035</td>\n",
       "      <td>2.433606</td>\n",
       "      <td>20.513969</td>\n",
       "      <td>-0.157640</td>\n",
       "      <td>-1.328816</td>\n",
       "      <td>-1.306046</td>\n",
       "      <td>-11.009254</td>\n",
       "    </tr>\n",
       "    <tr>\n",
       "      <th>2</th>\n",
       "      <td>1.0</td>\n",
       "      <td>8.484877</td>\n",
       "      <td>7.555905</td>\n",
       "      <td>64.110922</td>\n",
       "      <td>-0.038008</td>\n",
       "      <td>-0.322495</td>\n",
       "      <td>-0.287187</td>\n",
       "      <td>-2.436745</td>\n",
       "      <td>0.920660</td>\n",
       "      <td>7.811685</td>\n",
       "      <td>...</td>\n",
       "      <td>-0.176046</td>\n",
       "      <td>-1.493725</td>\n",
       "      <td>0.564364</td>\n",
       "      <td>4.788563</td>\n",
       "      <td>4.264285</td>\n",
       "      <td>36.181928</td>\n",
       "      <td>-0.021451</td>\n",
       "      <td>-0.182005</td>\n",
       "      <td>-0.162078</td>\n",
       "      <td>-1.375212</td>\n",
       "    </tr>\n",
       "    <tr>\n",
       "      <th>3</th>\n",
       "      <td>1.0</td>\n",
       "      <td>8.465057</td>\n",
       "      <td>9.568294</td>\n",
       "      <td>80.996162</td>\n",
       "      <td>-1.284665</td>\n",
       "      <td>-10.874765</td>\n",
       "      <td>-12.292056</td>\n",
       "      <td>-104.052957</td>\n",
       "      <td>0.549097</td>\n",
       "      <td>4.648134</td>\n",
       "      <td>...</td>\n",
       "      <td>-0.602311</td>\n",
       "      <td>-5.098595</td>\n",
       "      <td>0.026906</td>\n",
       "      <td>0.227759</td>\n",
       "      <td>0.257442</td>\n",
       "      <td>2.179261</td>\n",
       "      <td>-0.034565</td>\n",
       "      <td>-0.292594</td>\n",
       "      <td>-0.330727</td>\n",
       "      <td>-2.799621</td>\n",
       "    </tr>\n",
       "    <tr>\n",
       "      <th>4</th>\n",
       "      <td>1.0</td>\n",
       "      <td>7.494430</td>\n",
       "      <td>8.352554</td>\n",
       "      <td>62.597636</td>\n",
       "      <td>1.582646</td>\n",
       "      <td>11.861029</td>\n",
       "      <td>13.219135</td>\n",
       "      <td>99.069888</td>\n",
       "      <td>0.000000</td>\n",
       "      <td>0.000000</td>\n",
       "      <td>...</td>\n",
       "      <td>0.000000</td>\n",
       "      <td>0.000000</td>\n",
       "      <td>0.000000</td>\n",
       "      <td>0.000000</td>\n",
       "      <td>0.000000</td>\n",
       "      <td>0.000000</td>\n",
       "      <td>0.000000</td>\n",
       "      <td>0.000000</td>\n",
       "      <td>0.000000</td>\n",
       "      <td>0.000000</td>\n",
       "    </tr>\n",
       "  </tbody>\n",
       "</table>\n",
       "<p>5 rows × 32 columns</p>\n",
       "</div>"
      ],
      "text/plain": [
       "   Intercept  Total_Trans_Amt  Credit_Limit  Total_Trans_Amt:Credit_Limit  \\\n",
       "0        1.0         8.978408     10.312845                     92.592934   \n",
       "1        1.0         8.429454      8.285009                     69.838104   \n",
       "2        1.0         8.484877      7.555905                     64.110922   \n",
       "3        1.0         8.465057      9.568294                     80.996162   \n",
       "4        1.0         7.494430      8.352554                     62.597636   \n",
       "\n",
       "   Customer_Age  Total_Trans_Amt:Customer_Age  Credit_Limit:Customer_Age  \\\n",
       "0     -0.536671                     -4.818452                  -5.534606   \n",
       "1     -0.536671                     -4.523844                  -4.446325   \n",
       "2     -0.038008                     -0.322495                  -0.287187   \n",
       "3     -1.284665                    -10.874765                 -12.292056   \n",
       "4      1.582646                     11.861029                  13.219135   \n",
       "\n",
       "   Total_Trans_Amt:Credit_Limit:Customer_Age  Total_Revolving_Bal  \\\n",
       "0                                 -49.691949             1.672427   \n",
       "1                                 -37.480090             0.956795   \n",
       "2                                  -2.436745             0.920660   \n",
       "3                                -104.052957             0.549097   \n",
       "4                                  99.069888             0.000000   \n",
       "\n",
       "   Total_Trans_Amt:Total_Revolving_Bal  ...  \\\n",
       "0                            15.015736  ...   \n",
       "1                             8.065259  ...   \n",
       "2                             7.811685  ...   \n",
       "3                             4.648134  ...   \n",
       "4                             0.000000  ...   \n",
       "\n",
       "   Credit_Limit:Customer_Age:Avg_Utilization_Ratio  \\\n",
       "0                                        -0.392957   \n",
       "1                                        -1.365022   \n",
       "2                                        -0.176046   \n",
       "3                                        -0.602311   \n",
       "4                                         0.000000   \n",
       "\n",
       "   Total_Trans_Amt:Credit_Limit:Customer_Age:Avg_Utilization_Ratio  \\\n",
       "0                                          -3.528128                 \n",
       "1                                         -11.506388                 \n",
       "2                                          -1.493725                 \n",
       "3                                          -5.098595                 \n",
       "4                                           0.000000                 \n",
       "\n",
       "   Total_Revolving_Bal:Avg_Utilization_Ratio  \\\n",
       "0                                   0.118742   \n",
       "1                                   0.293736   \n",
       "2                                   0.564364   \n",
       "3                                   0.026906   \n",
       "4                                   0.000000   \n",
       "\n",
       "   Total_Trans_Amt:Total_Revolving_Bal:Avg_Utilization_Ratio  \\\n",
       "0                                           1.066117           \n",
       "1                                           2.476035           \n",
       "2                                           4.788563           \n",
       "3                                           0.227759           \n",
       "4                                           0.000000           \n",
       "\n",
       "   Credit_Limit:Total_Revolving_Bal:Avg_Utilization_Ratio  \\\n",
       "0                                           1.224571        \n",
       "1                                           2.433606        \n",
       "2                                           4.264285        \n",
       "3                                           0.257442        \n",
       "4                                           0.000000        \n",
       "\n",
       "   Total_Trans_Amt:Credit_Limit:Total_Revolving_Bal:Avg_Utilization_Ratio  \\\n",
       "0                                          10.994702                        \n",
       "1                                          20.513969                        \n",
       "2                                          36.181928                        \n",
       "3                                           2.179261                        \n",
       "4                                           0.000000                        \n",
       "\n",
       "   Customer_Age:Total_Revolving_Bal:Avg_Utilization_Ratio  \\\n",
       "0                                          -0.063726        \n",
       "1                                          -0.157640        \n",
       "2                                          -0.021451        \n",
       "3                                          -0.034565        \n",
       "4                                           0.000000        \n",
       "\n",
       "   Total_Trans_Amt:Customer_Age:Total_Revolving_Bal:Avg_Utilization_Ratio  \\\n",
       "0                                          -0.572154                        \n",
       "1                                          -1.328816                        \n",
       "2                                          -0.182005                        \n",
       "3                                          -0.292594                        \n",
       "4                                           0.000000                        \n",
       "\n",
       "   Credit_Limit:Customer_Age:Total_Revolving_Bal:Avg_Utilization_Ratio  \\\n",
       "0                                          -0.657192                     \n",
       "1                                          -1.306046                     \n",
       "2                                          -0.162078                     \n",
       "3                                          -0.330727                     \n",
       "4                                           0.000000                     \n",
       "\n",
       "   Total_Trans_Amt:Credit_Limit:Customer_Age:Total_Revolving_Bal:Avg_Utilization_Ratio  \n",
       "0                                          -5.900538                                    \n",
       "1                                         -11.009254                                    \n",
       "2                                          -1.375212                                    \n",
       "3                                          -2.799621                                    \n",
       "4                                           0.000000                                    \n",
       "\n",
       "[5 rows x 32 columns]"
      ]
     },
     "execution_count": 75,
     "metadata": {},
     "output_type": "execute_result"
    }
   ],
   "source": [
    "X_train.head(5)"
   ]
  },
  {
   "cell_type": "code",
   "execution_count": 76,
   "id": "f9368077",
   "metadata": {},
   "outputs": [
    {
     "data": {
      "text/html": [
       "<div>\n",
       "<style scoped>\n",
       "    .dataframe tbody tr th:only-of-type {\n",
       "        vertical-align: middle;\n",
       "    }\n",
       "\n",
       "    .dataframe tbody tr th {\n",
       "        vertical-align: top;\n",
       "    }\n",
       "\n",
       "    .dataframe thead th {\n",
       "        text-align: right;\n",
       "    }\n",
       "</style>\n",
       "<table border=\"1\" class=\"dataframe\">\n",
       "  <thead>\n",
       "    <tr style=\"text-align: right;\">\n",
       "      <th></th>\n",
       "      <th>Intercept</th>\n",
       "      <th>Total_Trans_Amt</th>\n",
       "      <th>Credit_Limit</th>\n",
       "      <th>Total_Trans_Amt:Credit_Limit</th>\n",
       "      <th>Customer_Age</th>\n",
       "      <th>Total_Trans_Amt:Customer_Age</th>\n",
       "      <th>Credit_Limit:Customer_Age</th>\n",
       "      <th>Total_Trans_Amt:Credit_Limit:Customer_Age</th>\n",
       "      <th>Total_Revolving_Bal</th>\n",
       "      <th>Total_Trans_Amt:Total_Revolving_Bal</th>\n",
       "      <th>...</th>\n",
       "      <th>Credit_Limit:Customer_Age:Avg_Utilization_Ratio</th>\n",
       "      <th>Total_Trans_Amt:Credit_Limit:Customer_Age:Avg_Utilization_Ratio</th>\n",
       "      <th>Total_Revolving_Bal:Avg_Utilization_Ratio</th>\n",
       "      <th>Total_Trans_Amt:Total_Revolving_Bal:Avg_Utilization_Ratio</th>\n",
       "      <th>Credit_Limit:Total_Revolving_Bal:Avg_Utilization_Ratio</th>\n",
       "      <th>Total_Trans_Amt:Credit_Limit:Total_Revolving_Bal:Avg_Utilization_Ratio</th>\n",
       "      <th>Customer_Age:Total_Revolving_Bal:Avg_Utilization_Ratio</th>\n",
       "      <th>Total_Trans_Amt:Customer_Age:Total_Revolving_Bal:Avg_Utilization_Ratio</th>\n",
       "      <th>Credit_Limit:Customer_Age:Total_Revolving_Bal:Avg_Utilization_Ratio</th>\n",
       "      <th>Total_Trans_Amt:Credit_Limit:Customer_Age:Total_Revolving_Bal:Avg_Utilization_Ratio</th>\n",
       "    </tr>\n",
       "  </thead>\n",
       "  <tbody>\n",
       "    <tr>\n",
       "      <th>0</th>\n",
       "      <td>1.0</td>\n",
       "      <td>9.607841</td>\n",
       "      <td>8.187021</td>\n",
       "      <td>78.659593</td>\n",
       "      <td>0.202997</td>\n",
       "      <td>1.950360</td>\n",
       "      <td>1.661938</td>\n",
       "      <td>15.967638</td>\n",
       "      <td>1.555729</td>\n",
       "      <td>14.947194</td>\n",
       "      <td>...</td>\n",
       "      <td>0.922376</td>\n",
       "      <td>8.862039</td>\n",
       "      <td>0.863429</td>\n",
       "      <td>8.295693</td>\n",
       "      <td>7.068915</td>\n",
       "      <td>67.917010</td>\n",
       "      <td>0.175273</td>\n",
       "      <td>1.683998</td>\n",
       "      <td>1.434966</td>\n",
       "      <td>13.786929</td>\n",
       "    </tr>\n",
       "    <tr>\n",
       "      <th>1</th>\n",
       "      <td>1.0</td>\n",
       "      <td>9.231221</td>\n",
       "      <td>8.697513</td>\n",
       "      <td>80.288661</td>\n",
       "      <td>-2.170683</td>\n",
       "      <td>-20.038058</td>\n",
       "      <td>-18.879547</td>\n",
       "      <td>-174.281265</td>\n",
       "      <td>0.514419</td>\n",
       "      <td>4.748718</td>\n",
       "      <td>...</td>\n",
       "      <td>-2.076750</td>\n",
       "      <td>-19.170939</td>\n",
       "      <td>0.056586</td>\n",
       "      <td>0.522359</td>\n",
       "      <td>0.492159</td>\n",
       "      <td>4.543224</td>\n",
       "      <td>-0.122831</td>\n",
       "      <td>-1.133876</td>\n",
       "      <td>-1.068320</td>\n",
       "      <td>-9.861902</td>\n",
       "    </tr>\n",
       "    <tr>\n",
       "      <th>2</th>\n",
       "      <td>1.0</td>\n",
       "      <td>7.841886</td>\n",
       "      <td>8.146130</td>\n",
       "      <td>63.881018</td>\n",
       "      <td>-2.045753</td>\n",
       "      <td>-16.042561</td>\n",
       "      <td>-16.664968</td>\n",
       "      <td>-130.684777</td>\n",
       "      <td>1.961808</td>\n",
       "      <td>15.384277</td>\n",
       "      <td>...</td>\n",
       "      <td>-12.165427</td>\n",
       "      <td>-95.399888</td>\n",
       "      <td>1.432120</td>\n",
       "      <td>11.230522</td>\n",
       "      <td>11.666235</td>\n",
       "      <td>91.485286</td>\n",
       "      <td>-2.929764</td>\n",
       "      <td>-22.974873</td>\n",
       "      <td>-23.866234</td>\n",
       "      <td>-187.156288</td>\n",
       "    </tr>\n",
       "    <tr>\n",
       "      <th>3</th>\n",
       "      <td>1.0</td>\n",
       "      <td>7.192934</td>\n",
       "      <td>9.830056</td>\n",
       "      <td>70.706948</td>\n",
       "      <td>0.327927</td>\n",
       "      <td>2.358759</td>\n",
       "      <td>3.223543</td>\n",
       "      <td>23.186734</td>\n",
       "      <td>1.961808</td>\n",
       "      <td>14.111158</td>\n",
       "      <td>...</td>\n",
       "      <td>0.435178</td>\n",
       "      <td>3.130209</td>\n",
       "      <td>0.264844</td>\n",
       "      <td>1.905006</td>\n",
       "      <td>2.603433</td>\n",
       "      <td>18.726319</td>\n",
       "      <td>0.086850</td>\n",
       "      <td>0.624703</td>\n",
       "      <td>0.853736</td>\n",
       "      <td>6.140870</td>\n",
       "    </tr>\n",
       "    <tr>\n",
       "      <th>4</th>\n",
       "      <td>1.0</td>\n",
       "      <td>7.672292</td>\n",
       "      <td>7.385231</td>\n",
       "      <td>56.661651</td>\n",
       "      <td>-2.545475</td>\n",
       "      <td>-19.529629</td>\n",
       "      <td>-18.798921</td>\n",
       "      <td>-144.230818</td>\n",
       "      <td>0.650818</td>\n",
       "      <td>4.993269</td>\n",
       "      <td>...</td>\n",
       "      <td>-9.737841</td>\n",
       "      <td>-74.711564</td>\n",
       "      <td>0.337124</td>\n",
       "      <td>2.586513</td>\n",
       "      <td>2.489738</td>\n",
       "      <td>19.101999</td>\n",
       "      <td>-0.858141</td>\n",
       "      <td>-6.583905</td>\n",
       "      <td>-6.337566</td>\n",
       "      <td>-48.623660</td>\n",
       "    </tr>\n",
       "  </tbody>\n",
       "</table>\n",
       "<p>5 rows × 32 columns</p>\n",
       "</div>"
      ],
      "text/plain": [
       "   Intercept  Total_Trans_Amt  Credit_Limit  Total_Trans_Amt:Credit_Limit  \\\n",
       "0        1.0         9.607841      8.187021                     78.659593   \n",
       "1        1.0         9.231221      8.697513                     80.288661   \n",
       "2        1.0         7.841886      8.146130                     63.881018   \n",
       "3        1.0         7.192934      9.830056                     70.706948   \n",
       "4        1.0         7.672292      7.385231                     56.661651   \n",
       "\n",
       "   Customer_Age  Total_Trans_Amt:Customer_Age  Credit_Limit:Customer_Age  \\\n",
       "0      0.202997                      1.950360                   1.661938   \n",
       "1     -2.170683                    -20.038058                 -18.879547   \n",
       "2     -2.045753                    -16.042561                 -16.664968   \n",
       "3      0.327927                      2.358759                   3.223543   \n",
       "4     -2.545475                    -19.529629                 -18.798921   \n",
       "\n",
       "   Total_Trans_Amt:Credit_Limit:Customer_Age  Total_Revolving_Bal  \\\n",
       "0                                  15.967638             1.555729   \n",
       "1                                -174.281265             0.514419   \n",
       "2                                -130.684777             1.961808   \n",
       "3                                  23.186734             1.961808   \n",
       "4                                -144.230818             0.650818   \n",
       "\n",
       "   Total_Trans_Amt:Total_Revolving_Bal  ...  \\\n",
       "0                            14.947194  ...   \n",
       "1                             4.748718  ...   \n",
       "2                            15.384277  ...   \n",
       "3                            14.111158  ...   \n",
       "4                             4.993269  ...   \n",
       "\n",
       "   Credit_Limit:Customer_Age:Avg_Utilization_Ratio  \\\n",
       "0                                         0.922376   \n",
       "1                                        -2.076750   \n",
       "2                                       -12.165427   \n",
       "3                                         0.435178   \n",
       "4                                        -9.737841   \n",
       "\n",
       "   Total_Trans_Amt:Credit_Limit:Customer_Age:Avg_Utilization_Ratio  \\\n",
       "0                                           8.862039                 \n",
       "1                                         -19.170939                 \n",
       "2                                         -95.399888                 \n",
       "3                                           3.130209                 \n",
       "4                                         -74.711564                 \n",
       "\n",
       "   Total_Revolving_Bal:Avg_Utilization_Ratio  \\\n",
       "0                                   0.863429   \n",
       "1                                   0.056586   \n",
       "2                                   1.432120   \n",
       "3                                   0.264844   \n",
       "4                                   0.337124   \n",
       "\n",
       "   Total_Trans_Amt:Total_Revolving_Bal:Avg_Utilization_Ratio  \\\n",
       "0                                           8.295693           \n",
       "1                                           0.522359           \n",
       "2                                          11.230522           \n",
       "3                                           1.905006           \n",
       "4                                           2.586513           \n",
       "\n",
       "   Credit_Limit:Total_Revolving_Bal:Avg_Utilization_Ratio  \\\n",
       "0                                           7.068915        \n",
       "1                                           0.492159        \n",
       "2                                          11.666235        \n",
       "3                                           2.603433        \n",
       "4                                           2.489738        \n",
       "\n",
       "   Total_Trans_Amt:Credit_Limit:Total_Revolving_Bal:Avg_Utilization_Ratio  \\\n",
       "0                                          67.917010                        \n",
       "1                                           4.543224                        \n",
       "2                                          91.485286                        \n",
       "3                                          18.726319                        \n",
       "4                                          19.101999                        \n",
       "\n",
       "   Customer_Age:Total_Revolving_Bal:Avg_Utilization_Ratio  \\\n",
       "0                                           0.175273        \n",
       "1                                          -0.122831        \n",
       "2                                          -2.929764        \n",
       "3                                           0.086850        \n",
       "4                                          -0.858141        \n",
       "\n",
       "   Total_Trans_Amt:Customer_Age:Total_Revolving_Bal:Avg_Utilization_Ratio  \\\n",
       "0                                           1.683998                        \n",
       "1                                          -1.133876                        \n",
       "2                                         -22.974873                        \n",
       "3                                           0.624703                        \n",
       "4                                          -6.583905                        \n",
       "\n",
       "   Credit_Limit:Customer_Age:Total_Revolving_Bal:Avg_Utilization_Ratio  \\\n",
       "0                                           1.434966                     \n",
       "1                                          -1.068320                     \n",
       "2                                         -23.866234                     \n",
       "3                                           0.853736                     \n",
       "4                                          -6.337566                     \n",
       "\n",
       "   Total_Trans_Amt:Credit_Limit:Customer_Age:Total_Revolving_Bal:Avg_Utilization_Ratio  \n",
       "0                                          13.786929                                    \n",
       "1                                          -9.861902                                    \n",
       "2                                        -187.156288                                    \n",
       "3                                           6.140870                                    \n",
       "4                                         -48.623660                                    \n",
       "\n",
       "[5 rows x 32 columns]"
      ]
     },
     "execution_count": 76,
     "metadata": {},
     "output_type": "execute_result"
    }
   ],
   "source": [
    "X_test.head(5)"
   ]
  },
  {
   "cell_type": "markdown",
   "id": "eb72c866",
   "metadata": {},
   "source": [
    "I will use these above features on my selected models, to gain the predictive analysis\n",
    "* Logistic Regression classification\n",
    "* Random Forest classifier\n",
    "* KNeighbours classification\n",
    "* XGBoost classifie"
   ]
  },
  {
   "cell_type": "code",
   "execution_count": 77,
   "id": "f670391b",
   "metadata": {},
   "outputs": [
    {
     "data": {
      "text/plain": [
       "'X_train = X_train.to_numpy()\\ny_train = y_train.to_numpy().ravel()\\nX_test = X_test.to_numpy()\\ny_test = y_test.to_numpy().ravel()'"
      ]
     },
     "execution_count": 77,
     "metadata": {},
     "output_type": "execute_result"
    }
   ],
   "source": [
    "# loading only 8 above features to data frame\n",
    "'''cols = ['Customer_Age', 'Credit_Limit', 'Total_Revolving_Bal',\n",
    "       'Total_Trans_Amt', 'Avg_Utilization_Ratio', 'Total_Relationship_Count',\n",
    "        'Contacts_Count_12_mon','Months_Inactive_12_mon']\n",
    "        '''\n",
    "cols = ['Customer_Age', 'Credit_Limit', 'Total_Revolving_Bal',\n",
    "       'Total_Trans_Amt', 'Avg_Utilization_Ratio']  \n",
    "\n",
    "X_train = pd.DataFrame(X_train,columns=cols)\n",
    "X_test = pd.DataFrame(X_test,columns=cols)\n",
    "'''X_train = X_train.to_numpy()\n",
    "y_train = y_train.to_numpy().ravel()\n",
    "X_test = X_test.to_numpy()\n",
    "y_test = y_test.to_numpy().ravel()'''"
   ]
  },
  {
   "cell_type": "code",
   "execution_count": 93,
   "id": "794d958e",
   "metadata": {},
   "outputs": [],
   "source": [
    "# models listing and fitting with optimal threshold\n",
    "models = [linear_model.LogisticRegression(),\n",
    "        ensemble.RandomForestClassifier(),\n",
    "        neighbors.KNeighborsClassifier(),\n",
    "        XGBClassifier(use_label_encoder=False)]\n",
    "\n",
    "for model in models :\n",
    "            model.fit(X_train,y_train)\n",
    "\n",
    "        \n",
    "#Model predition\n",
    "model_names = ['Logistic Regression',\n",
    "            'RandomForest Classifier',\n",
    "            'KNeighbors Classifier',\n",
    "            'XGBClassifier'\n",
    "              ]\n",
    "for classifier,classifier_name in zip(models,model_names):\n",
    "    prediction=classifier.predict(X_train)\n",
    "    \n",
    "    \n",
    "    fpr, tpr, thresholds = metrics.roc_curve(y_train, prediction)\n",
    "    optimal_idx = np.argmax(tpr - fpr)\n",
    "    threshold=thresholds[optimal_idx]\n",
    "    #y_scores = classifier.predict(X_test)\n",
    "    #y_pred_with_threshold = (y_scores >= threshold).astype(int)\n",
    "    #print(\"=\"*40)\n",
    "    #print('classifier name: ' + classifier_name)\n",
    "    #print(\"=\"*40)\n",
    "    #title = \"Confusion matrix for test data\"\n",
    "    y_pred_T = np.where(classifier.predict_proba(X_test)[:,1] > threshold, 1, 0)\n",
    "    #print(\"y_pred_with_threshold\",y_pred_T ,\"\\nthreshold\",threshold) \n",
    "    \n",
    "  "
   ]
  },
  {
   "cell_type": "code",
   "execution_count": 94,
   "id": "06b095e9",
   "metadata": {},
   "outputs": [],
   "source": [
    "# models listing and fitting\n",
    "models = [\n",
    "        linear_model.LogisticRegression(),\n",
    "        ensemble.RandomForestClassifier(),\n",
    "        neighbors.KNeighborsClassifier(),\n",
    "        XGBClassifier(use_label_encoder=False)\n",
    "        ]\n",
    "\n",
    "for model in models :\n",
    "            model.fit(X_train,y_train)"
   ]
  },
  {
   "cell_type": "code",
   "execution_count": 95,
   "id": "6846ed61",
   "metadata": {
    "scrolled": false
   },
   "outputs": [
    {
     "name": "stdout",
     "output_type": "stream",
     "text": [
      "========================================\n",
      "classifier name: Logistic Regression\n",
      "========================================\n"
     ]
    },
    {
     "data": {
      "image/png": "[encoded data removed]",
      "text/plain": [
       "<Figure size 432x288 with 2 Axes>"
      ]
     },
     "metadata": {},
     "output_type": "display_data"
    },
    {
     "name": "stdout",
     "output_type": "stream",
     "text": [
      "accuracy_score : 0.8456729187232642\n",
      "\n",
      "True -ve : 2517\n",
      "False +ve : 34\n",
      "False -ve : 435\n",
      "True +ve : 53\n",
      "\n",
      "classification report\n",
      "               precision    recall  f1-score   support\n",
      "\n",
      "       not 1       0.85      0.99      0.91      2551\n",
      "           1       0.61      0.11      0.18       488\n",
      "\n",
      "    accuracy                           0.85      3039\n",
      "   macro avg       0.73      0.55      0.55      3039\n",
      "weighted avg       0.81      0.85      0.80      3039\n",
      "\n",
      "ROC_AUC Curve\n"
     ]
    },
    {
     "data": {
      "image/png": "[encoded data removed]",
      "text/plain": [
       "<Figure size 432x288 with 1 Axes>"
      ]
     },
     "metadata": {},
     "output_type": "display_data"
    },
    {
     "name": "stdout",
     "output_type": "stream",
     "text": [
      "========================================\n",
      "classifier name: RandomForest Classifier\n",
      "========================================\n"
     ]
    },
    {
     "data": {
      "image/png": "[encoded data removed]",
      "text/plain": [
       "<Figure size 432x288 with 2 Axes>"
      ]
     },
     "metadata": {},
     "output_type": "display_data"
    },
    {
     "name": "stdout",
     "output_type": "stream",
     "text": [
      "accuracy_score : 0.9114840408028957\n",
      "\n",
      "True -ve : 2471\n",
      "False +ve : 80\n",
      "False -ve : 189\n",
      "True +ve : 299\n",
      "\n",
      "classification report\n",
      "               precision    recall  f1-score   support\n",
      "\n",
      "       not 1       0.93      0.97      0.95      2551\n",
      "           1       0.79      0.61      0.69       488\n",
      "\n",
      "    accuracy                           0.91      3039\n",
      "   macro avg       0.86      0.79      0.82      3039\n",
      "weighted avg       0.91      0.91      0.91      3039\n",
      "\n",
      "ROC_AUC Curve\n"
     ]
    },
    {
     "data": {
      "image/png": "[encoded data removed]",
      "text/plain": [
       "<Figure size 432x288 with 1 Axes>"
      ]
     },
     "metadata": {},
     "output_type": "display_data"
    },
    {
     "name": "stdout",
     "output_type": "stream",
     "text": [
      "========================================\n",
      "classifier name: KNeighbors Classifier\n",
      "========================================\n"
     ]
    },
    {
     "data": {
      "image/png": "[encoded data removed]",
      "text/plain": [
       "<Figure size 432x288 with 2 Axes>"
      ]
     },
     "metadata": {},
     "output_type": "display_data"
    },
    {
     "name": "stdout",
     "output_type": "stream",
     "text": [
      "accuracy_score : 0.8976637051661731\n",
      "\n",
      "True -ve : 2451\n",
      "False +ve : 100\n",
      "False -ve : 211\n",
      "True +ve : 277\n",
      "\n",
      "classification report\n",
      "               precision    recall  f1-score   support\n",
      "\n",
      "       not 1       0.92      0.96      0.94      2551\n",
      "           1       0.73      0.57      0.64       488\n",
      "\n",
      "    accuracy                           0.90      3039\n",
      "   macro avg       0.83      0.76      0.79      3039\n",
      "weighted avg       0.89      0.90      0.89      3039\n",
      "\n",
      "ROC_AUC Curve\n"
     ]
    },
    {
     "data": {
      "image/png": "[encoded data removed]",
      "text/plain": [
       "<Figure size 432x288 with 1 Axes>"
      ]
     },
     "metadata": {},
     "output_type": "display_data"
    },
    {
     "name": "stdout",
     "output_type": "stream",
     "text": [
      "========================================\n",
      "classifier name: XGBClassifier\n",
      "========================================\n"
     ]
    },
    {
     "data": {
      "image/png": "[encoded data removed]",
      "text/plain": [
       "<Figure size 432x288 with 2 Axes>"
      ]
     },
     "metadata": {},
     "output_type": "display_data"
    },
    {
     "name": "stdout",
     "output_type": "stream",
     "text": [
      "accuracy_score : 0.9154327081276735\n",
      "\n",
      "True -ve : 2465\n",
      "False +ve : 86\n",
      "False -ve : 171\n",
      "True +ve : 317\n",
      "\n",
      "classification report\n",
      "               precision    recall  f1-score   support\n",
      "\n",
      "       not 1       0.94      0.97      0.95      2551\n",
      "           1       0.79      0.65      0.71       488\n",
      "\n",
      "    accuracy                           0.92      3039\n",
      "   macro avg       0.86      0.81      0.83      3039\n",
      "weighted avg       0.91      0.92      0.91      3039\n",
      "\n",
      "ROC_AUC Curve\n"
     ]
    },
    {
     "data": {
      "image/png": "[encoded data removed]",
      "text/plain": [
       "<Figure size 432x288 with 1 Axes>"
      ]
     },
     "metadata": {},
     "output_type": "display_data"
    }
   ],
   "source": [
    "#Model predition\n",
    "model_names = [\n",
    "        'Logistic Regression',\n",
    "        'RandomForest Classifier',\n",
    "        'KNeighbors Classifier',\n",
    "        'XGBClassifier'\n",
    "]\n",
    "\n",
    "for classifier,classifier_name in zip(models,model_names):\n",
    "    prediction=classifier.predict(X_test)\n",
    "    print(\"=\"*40)\n",
    "    print('classifier name: ' + classifier_name)\n",
    "    print(\"=\"*40)\n",
    "    title = \"Confusion matrix for test data\"\n",
    "    make_confusion_matrix_ROC(y_test,prediction,title)"
   ]
  },
  {
   "cell_type": "markdown",
   "id": "ba2459ba",
   "metadata": {},
   "source": [
    "### Hyperparameter Tuning and Model Training"
   ]
  },
  {
   "cell_type": "markdown",
   "id": "4d260299",
   "metadata": {},
   "source": [
    "Each model is subject to various hyperparameters that need to be determined. Here random search and grid search methods are used optimise the hyperparameters for our chosen models. Grid search exhaustively checks every combinations of hyperparameters given in the parameter domain to optimise the given score, \"roc_auc\" in this project. Random search checks random combinations of hyperparameters for a given number of iterations to optimise the given score. The advantage of random search is shorter time but the trade-off is that it might miss the best possible combination.\n",
    "\n",
    "Below are the two functions, rand_search(), and grid_search(), to help in implementation. No scaling is done as it is each feature is already scaled, so then train the models with training dataset.\n"
   ]
  },
  {
   "cell_type": "code",
   "execution_count": 96,
   "id": "33fcb14a",
   "metadata": {},
   "outputs": [],
   "source": [
    "# rand search function\n",
    "def rand_search(X_train,y_train,parameters,model,n_iter=100):\n",
    "    scoring = 'roc_auc'\n",
    "    verbose = 1\n",
    "    clf_pipeline = Pipeline([(\"clf\",model)])   \n",
    "    clf_rand = model_selection.RandomizedSearchCV(clf_pipeline, parameters, n_iter = n_iter,scoring=scoring,verbose = verbose, random_state=1,n_jobs=-1)\n",
    "    clf_rand.fit(X_train,y_train)  #learn the training set\n",
    "    \n",
    "    print(\"Best parameters for \", model) \n",
    "    print(clf_rand.best_params_)\n",
    "    print(f\"\\nBest train %s score: {clf_rand.best_score_ :.2f}\" % (scoring))\n",
    "    return clf_rand.best_estimator_"
   ]
  },
  {
   "cell_type": "code",
   "execution_count": 97,
   "id": "8362a479",
   "metadata": {},
   "outputs": [],
   "source": [
    "# grid search function\n",
    "def grid_search(X_train,y_train,parameters,model):\n",
    "    scoring = 'roc_auc'\n",
    "    verbose = 1\n",
    "    clf_pipeline = Pipeline([(\"clf\",model)])   #Pipeline applies scaling and model estimator\n",
    "    clf_grid = model_selection.GridSearchCV(clf_pipeline, parameters,  scoring=scoring,verbose = verbose)\n",
    "    clf_grid.fit(X_train,y_train) \n",
    "\n",
    "    print(\"Best parameters for \", model) \n",
    "    print(clf_grid.best_params_)\n",
    "    print(f\"\\nBest train %s score: {clf_grid.best_score_ :.2f}\" % (scoring))\n",
    "    return clf_grid.best_estimator_"
   ]
  },
  {
   "cell_type": "markdown",
   "id": "a3a845ac",
   "metadata": {},
   "source": [
    "### Logistic Regression"
   ]
  },
  {
   "cell_type": "markdown",
   "id": "2f0658b7",
   "metadata": {},
   "source": [
    "This is the basic regression classification\n",
    "\n",
    "In this package, there are several hyperparameters that we need to pay attention to:\n",
    "\n",
    "      C: controls the strength of regularisation penalty\n",
    "      solver: algorithms used for optimisation\n",
    "      class_weight: weights associated with classes"
   ]
  },
  {
   "cell_type": "code",
   "execution_count": 98,
   "id": "dcbb6638",
   "metadata": {},
   "outputs": [],
   "source": [
    "#Setting ranges for each hyperparameter.\n",
    "log_params = {\"clf__solver\": [\"lbfgs\", \"sag\", \"saga\"],\n",
    "               \"clf__C\": np.arange(0.1,2,0.1), \n",
    "               \"clf__class_weight\": [\"balanced\", None]\n",
    "              }"
   ]
  },
  {
   "cell_type": "code",
   "execution_count": 99,
   "id": "02f9f4d0",
   "metadata": {},
   "outputs": [
    {
     "name": "stdout",
     "output_type": "stream",
     "text": [
      "Fitting 5 folds for each of 114 candidates, totalling 570 fits\n",
      "Best parameters for  LogisticRegression(max_iter=500, random_state=632966)\n",
      "{'clf__C': 0.1, 'clf__class_weight': None, 'clf__solver': 'saga'}\n",
      "\n",
      "Best train roc_auc score: 0.76\n",
      "Wall time: 1min\n"
     ]
    }
   ],
   "source": [
    "%%time\n",
    "classifier = linear_model.LogisticRegression(fit_intercept= True,max_iter=500,random_state=632966)\n",
    "log_best_estimator = grid_search(X_train,y_train, log_params,classifier)"
   ]
  },
  {
   "cell_type": "markdown",
   "id": "89a0eb52",
   "metadata": {},
   "source": [
    "### Random Forest Classification"
   ]
  },
  {
   "cell_type": "markdown",
   "id": "fed49603",
   "metadata": {},
   "source": [
    "Random Forest consists of an ensemble of decision trees. The algorithm splits the dataset into independent random subsamples and selects subsamples of features, and fits a decision tree classfier to each subsample. It then averages the estimates to improve the prediction accuracy.\n",
    "\n",
    "We will use the class sklearn.ensemble.RandomForestClassifier from scikit learn. Based on our research, there are several hyperparameters that we will need to adjust:\n",
    "\n",
    "      n_estimator: the number of trees in the forest\n",
    "      min_samples_split:the minimum number of data points required to be at a leaf node\n",
    "      max_features: the number of features to consider when looking for the best split\n",
    "      max_depth: the maximum depth of the tree"
   ]
  },
  {
   "cell_type": "code",
   "execution_count": 100,
   "id": "5d03d3c7",
   "metadata": {},
   "outputs": [],
   "source": [
    "#Setting ranges for each parameter.\n",
    "clf__max_depth = [int(x) for x in np.linspace(5, 50, num = 10)]\n",
    "rfc_params = {\"clf__n_estimators\": np.linspace(start = 100, stop = 1000, num = 10,dtype=int),\n",
    "              \"clf__min_samples_split\": np.arange(2,6), \n",
    "              \"clf__max_features\":[\"sqrt\", \"log2\"],\n",
    "              \"clf__max_depth\": clf__max_depth\n",
    "             }"
   ]
  },
  {
   "cell_type": "code",
   "execution_count": 101,
   "id": "f4725350",
   "metadata": {},
   "outputs": [
    {
     "name": "stdout",
     "output_type": "stream",
     "text": [
      "Fitting 5 folds for each of 120 candidates, totalling 600 fits\n",
      "Best parameters for  RandomForestClassifier(n_jobs=-1, random_state=1)\n",
      "{'clf__n_estimators': 900, 'clf__min_samples_split': 4, 'clf__max_features': 'log2', 'clf__max_depth': 10}\n",
      "\n",
      "Best train roc_auc score: 0.95\n",
      "Wall time: 8min 14s\n"
     ]
    }
   ],
   "source": [
    "%%time\n",
    "classifier=ensemble.RandomForestClassifier(random_state=1,n_jobs=-1)\n",
    "\n",
    "rfc_best_estimator = rand_search(X_train,y_train, rfc_params, classifier,n_iter=120) #apply random search"
   ]
  },
  {
   "cell_type": "markdown",
   "id": "3d648cf6",
   "metadata": {},
   "source": [
    "### KNeighbours Classification"
   ]
  },
  {
   "cell_type": "markdown",
   "id": "b15d59dd",
   "metadata": {},
   "source": [
    "KNeighbours classfication chooses K nearest data points to the unlabeled data point then ask the K neighbours to \"vote\" for the classes that the point belongs to.\n",
    "\n",
    "We will use the class sklearn.neighbors.KNeighborsClassifier for the implementation. Important hyperparameters that we will adjust are shown as follows:\n",
    "\n",
    "      n_neighbors: the number of closest neigbours\n",
    "      weights: weight function in prediction\n",
    "      p: Power parameter for the Minkowski metric. When p = 1, this is equivalent to using manhattan_distance (l1), and euclidean_distance (l2) for p = 2\n",
    "\n",
    "\n"
   ]
  },
  {
   "cell_type": "code",
   "execution_count": 102,
   "id": "a129fe45",
   "metadata": {},
   "outputs": [],
   "source": [
    "#Setting ranges for the hyperparameters are shown below.\n",
    "knn_params = {\"clf__n_neighbors\":[2,5,10,87,100],\n",
    "              \"clf__weights\":[\"uniform\", \"distance\"],\n",
    "              \"clf__p\":[1,2] \n",
    "             }"
   ]
  },
  {
   "cell_type": "code",
   "execution_count": 103,
   "id": "8414b40e",
   "metadata": {},
   "outputs": [
    {
     "name": "stdout",
     "output_type": "stream",
     "text": [
      "Fitting 5 folds for each of 20 candidates, totalling 100 fits\n",
      "Best parameters for  KNeighborsClassifier(n_jobs=-1)\n",
      "{'clf__n_neighbors': 87, 'clf__p': 1, 'clf__weights': 'distance'}\n",
      "\n",
      "Best train roc_auc score: 0.92\n",
      "Wall time: 3.68 s\n"
     ]
    }
   ],
   "source": [
    "%%time\n",
    "classifier = neighbors.KNeighborsClassifier(n_jobs=-1)\n",
    "knn_best_estimator = grid_search(X_train,y_train, knn_params, classifier)"
   ]
  },
  {
   "cell_type": "markdown",
   "id": "59768bd7",
   "metadata": {},
   "source": [
    "### XGBoost Classification"
   ]
  },
  {
   "cell_type": "markdown",
   "id": "66157fba",
   "metadata": {},
   "source": [
    "XGBoost uses gradient boosting technique, and is on the priciples of decison tree ensemble, which a set of classification and regression trees. It is similar to Random Forest difference is how the algorithms train the models.\n",
    "\n",
    "The hyperparameters we need to fine-tune are as follows:\n",
    "\n",
    "      learning_rate: the learning rate of gradient boosting\n",
    "      max_depth:maximum tree depth\n",
    "      min_child_weight: minimum sum of instance weight(hessian) needed in a child. Useful to reduce overfitting\n",
    "      reg_lambda: L2 regularisation\n"
   ]
  },
  {
   "cell_type": "code",
   "execution_count": 104,
   "id": "e18d5139",
   "metadata": {},
   "outputs": [],
   "source": [
    "#Settingranges for the hyperparameter are shown below.\n",
    "xgb_params = {\"clf__learning_rate\": [0.05, 0.1, 0.2, 0.3, 0.4, 0.5],\n",
    "               \"clf__max_depth\": np.arange(2,7),\n",
    "               \"clf__min_child_weight\": np.arange(1,11),\n",
    "               \"clf__reg_lambda\": np.linspace(0.1,1,num=10)\n",
    "              }"
   ]
  },
  {
   "cell_type": "code",
   "execution_count": 105,
   "id": "6be6aa02",
   "metadata": {},
   "outputs": [
    {
     "name": "stdout",
     "output_type": "stream",
     "text": [
      "Fitting 5 folds for each of 120 candidates, totalling 600 fits\n",
      "Best parameters for  XGBClassifier(base_score=None, booster='gbtree', colsample_bylevel=None,\n",
      "              colsample_bynode=None, colsample_bytree=None,\n",
      "              enable_categorical=False, gamma=None, gpu_id=None,\n",
      "              importance_type=None, interaction_constraints=None,\n",
      "              learning_rate=None, max_delta_step=None, max_depth=None,\n",
      "              min_child_weight=None, missing=nan, monotone_constraints=None,\n",
      "              n_estimators=100, n_jobs=-1, num_parallel_tree=None,\n",
      "              predictor=None, random_state=None, reg_alpha=None,\n",
      "              reg_lambda=None, scale_pos_weight=None, subsample=None,\n",
      "              tree_method=None, use_label_encoder=False,\n",
      "              validate_parameters=None, verbosity=0)\n",
      "{'clf__reg_lambda': 0.30000000000000004, 'clf__min_child_weight': 4, 'clf__max_depth': 6, 'clf__learning_rate': 0.05}\n",
      "\n",
      "Best train roc_auc score: 0.95\n",
      "Wall time: 1min 15s\n"
     ]
    }
   ],
   "source": [
    "%%time\n",
    "classifier = XGBClassifier(booster=\"gbtree\", verbosity=0, use_label_encoder=False,n_jobs=-1)\n",
    "\n",
    "xgb_best_estimator = rand_search(X_train,y_train, xgb_params,classifier,n_iter=120)"
   ]
  },
  {
   "cell_type": "markdown",
   "id": "5b90d1d0",
   "metadata": {},
   "source": [
    "### Evaluation "
   ]
  },
  {
   "cell_type": "markdown",
   "id": "5b262165",
   "metadata": {},
   "source": [
    "Now run the model using the best estimators on the test set, and print out the confusion matrix and evaluation metrics."
   ]
  },
  {
   "cell_type": "code",
   "execution_count": 106,
   "id": "87959c9c",
   "metadata": {},
   "outputs": [],
   "source": [
    "from numpy import sqrt\n",
    "from numpy import argmax"
   ]
  },
  {
   "cell_type": "code",
   "execution_count": 107,
   "id": "ec475142",
   "metadata": {},
   "outputs": [],
   "source": [
    "# Evaluation outputs\n",
    "evaluation = pd.DataFrame({'Model': [],\n",
    "                           'Accuracy':[],\n",
    "                          'Recall':[],\n",
    "                          'Precision':[],\n",
    "                          'F1':[],\n",
    "                          'ROC_AUC':[]})"
   ]
  },
  {
   "cell_type": "code",
   "execution_count": 108,
   "id": "ec9056f8",
   "metadata": {},
   "outputs": [],
   "source": [
    "def calc_threshold(tpr,fpr,thresholds,clf_name):\n",
    "    idx = np.argmax(tpr - fpr)\n",
    "    \n",
    "    max_thresholds = round(thresholds[idx],4)\n",
    "\n",
    "    print('Best Threshold for {0}={1}'.format(clf_name,max_thresholds))\n",
    "    roc_auc = round(metrics.auc(fpr, tpr),4)\n",
    "    return idx,roc_auc"
   ]
  },
  {
   "cell_type": "code",
   "execution_count": 109,
   "id": "7e4e9e03",
   "metadata": {},
   "outputs": [],
   "source": [
    "def evaluate_model(estimator, X_test, y_test, name):\n",
    "    y_pred = estimator.predict(X_test)\n",
    "    y_confusion = metrics.confusion_matrix(y_test, y_pred)\n",
    "    y_class_report = metrics.classification_report(y_test, y_pred, target_names=[\"not 1\", \"1\"])\n",
    "    accuracy = metrics.accuracy_score(y_test, y_pred)*100\n",
    "    recall = metrics.recall_score(y_test, y_pred)*100\n",
    "    precision = metrics.precision_score(y_test, y_pred)*100\n",
    "    f1 = metrics.f1_score(y_test, y_pred)*100\n",
    "    \n",
    "    if name != 'LogReg':\n",
    "        y_proba = estimator.predict_proba(X_test)\n",
    "        fpr, tpr, threshold = metrics.roc_curve(y_test, y_proba[:,1])\n",
    "    else:\n",
    "        y_proba = estimator.decision_function(X_test)\n",
    "        fpr, tpr,threshold = metrics.roc_curve(y_test, y_proba)\n",
    "\n",
    "    y_auc = metrics.auc(fpr, tpr)*100\n",
    "                                                                                                                                                                                                                                             \n",
    "    r = evaluation.shape[0]\n",
    "    evaluation.loc[r] = [name, accuracy, recall, precision, f1, y_auc]  \n",
    "\n",
    "    print(name, \"ROC_AUC Score: %.2f\" % y_auc)\n",
    "    print(name, \"confusion matrix\\n\", y_confusion )\n",
    "    print(name, \"classification report\\n\", y_class_report )\n",
    "    \n",
    "    #plot_roc(y_test,y_pred)\n",
    "    metrics.roc_curve(y_test, y_pred)\n",
    "    display = metrics.RocCurveDisplay(fpr=fpr, tpr=tpr, roc_auc=y_auc)\n",
    "    display.plot()\n",
    "    plt.show()\n",
    "    \n",
    "    calc_threshold(tpr,fpr,threshold,name)"
   ]
  },
  {
   "cell_type": "markdown",
   "id": "9b8b5354",
   "metadata": {},
   "source": [
    "### Logistic Regression"
   ]
  },
  {
   "cell_type": "code",
   "execution_count": 110,
   "id": "68701327",
   "metadata": {},
   "outputs": [
    {
     "name": "stdout",
     "output_type": "stream",
     "text": [
      "Logistic Regression ROC_AUC Score: 73.33\n",
      "Logistic Regression confusion matrix\n",
      " [[2520   31]\n",
      " [ 441   47]]\n",
      "Logistic Regression classification report\n",
      "               precision    recall  f1-score   support\n",
      "\n",
      "       not 1       0.85      0.99      0.91      2551\n",
      "           1       0.60      0.10      0.17       488\n",
      "\n",
      "    accuracy                           0.84      3039\n",
      "   macro avg       0.73      0.54      0.54      3039\n",
      "weighted avg       0.81      0.84      0.79      3039\n",
      "\n"
     ]
    },
    {
     "data": {
      "image/png": "[encoded data removed]",
      "text/plain": [
       "<Figure size 432x288 with 1 Axes>"
      ]
     },
     "metadata": {},
     "output_type": "display_data"
    },
    {
     "name": "stdout",
     "output_type": "stream",
     "text": [
      "Best Threshold for Logistic Regression=0.2772\n"
     ]
    }
   ],
   "source": [
    "evaluate_model(log_best_estimator,X_test,y_test, 'Logistic Regression')"
   ]
  },
  {
   "cell_type": "markdown",
   "id": "502c421e",
   "metadata": {},
   "source": [
    "### Feature Importance"
   ]
  },
  {
   "cell_type": "code",
   "execution_count": 111,
   "id": "f0714a4e",
   "metadata": {},
   "outputs": [],
   "source": [
    "'''cols = ['Customer_Age', 'Credit_Limit', 'Total_Revolving_Bal',\n",
    "       'Total_Trans_Amt', 'Avg_Utilization_Ratio', 'Total_Relationship_Count',\n",
    "        'Contacts_Count_12_mon','Months_Inactive_12_mon']\n",
    "'''\n",
    "\n",
    "cols = ['Customer_Age', 'Credit_Limit', 'Total_Revolving_Bal',\n",
    "       'Total_Trans_Amt', 'Avg_Utilization_Ratio']\n",
    "        \n",
    "X_train = pd.DataFrame(X_train,columns=cols)\n",
    "X_test = pd.DataFrame(X_test,columns=cols)"
   ]
  },
  {
   "cell_type": "code",
   "execution_count": 112,
   "id": "5ad5c49f",
   "metadata": {},
   "outputs": [
    {
     "data": {
      "image/png": "[encoded data removed]",
      "text/plain": [
       "<Figure size 576x576 with 1 Axes>"
      ]
     },
     "metadata": {},
     "output_type": "display_data"
    }
   ],
   "source": [
    "plt.style.use('ggplot')\n",
    "plt.figure(figsize=(8,8))\n",
    "plt.title('Feature Importance  for Logistic Regression', fontsize=14)\n",
    "feat_importances = pd.Series(log_best_estimator.named_steps[\"clf\"].coef_.tolist()[0], index=X_train.columns)\n",
    "feat_importances.nlargest(50).plot(kind='barh',fontsize=14,color=\"olive\")\n",
    "plt.show()"
   ]
  },
  {
   "cell_type": "markdown",
   "id": "0b96a6ed",
   "metadata": {},
   "source": [
    "### Random Forest Classification "
   ]
  },
  {
   "cell_type": "code",
   "execution_count": 113,
   "id": "421ff210",
   "metadata": {},
   "outputs": [
    {
     "name": "stdout",
     "output_type": "stream",
     "text": [
      "RandomForest Classifier ROC_AUC Score: 93.89\n",
      "RandomForest Classifier confusion matrix\n",
      " [[2479   72]\n",
      " [ 186  302]]\n",
      "RandomForest Classifier classification report\n",
      "               precision    recall  f1-score   support\n",
      "\n",
      "       not 1       0.93      0.97      0.95      2551\n",
      "           1       0.81      0.62      0.70       488\n",
      "\n",
      "    accuracy                           0.92      3039\n",
      "   macro avg       0.87      0.80      0.83      3039\n",
      "weighted avg       0.91      0.92      0.91      3039\n",
      "\n"
     ]
    },
    {
     "data": {
      "image/png": "[encoded data removed]",
      "text/plain": [
       "<Figure size 432x288 with 1 Axes>"
      ]
     },
     "metadata": {},
     "output_type": "display_data"
    },
    {
     "name": "stdout",
     "output_type": "stream",
     "text": [
      "Best Threshold for RandomForest Classifier=0.1504\n"
     ]
    }
   ],
   "source": [
    "evaluate_model(rfc_best_estimator,X_test,y_test, 'RandomForest Classifier')"
   ]
  },
  {
   "cell_type": "markdown",
   "id": "7b38aeba",
   "metadata": {},
   "source": [
    "### Feature Importance"
   ]
  },
  {
   "cell_type": "code",
   "execution_count": 114,
   "id": "97059f5f",
   "metadata": {},
   "outputs": [
    {
     "data": {
      "image/png": "[encoded data removed]",
      "text/plain": [
       "<Figure size 576x576 with 1 Axes>"
      ]
     },
     "metadata": {},
     "output_type": "display_data"
    }
   ],
   "source": [
    "plt.style.use('ggplot')\n",
    "plt.figure(figsize=(8,8))\n",
    "plt.title('Feature Importance for Raondom Forest Classifier)', fontsize=14)\n",
    "feat_importances = pd.Series(rfc_best_estimator.named_steps[\"clf\"].feature_importances_, index=X_train.columns)\n",
    "feat_importances.nlargest(50).plot(kind='barh',fontsize = 14,color ='maroon')\n",
    "plt.show()"
   ]
  },
  {
   "cell_type": "markdown",
   "id": "ee87ee25",
   "metadata": {},
   "source": [
    "### KNeighbours Classification "
   ]
  },
  {
   "cell_type": "code",
   "execution_count": 115,
   "id": "8b6aac0e",
   "metadata": {},
   "outputs": [
    {
     "name": "stdout",
     "output_type": "stream",
     "text": [
      "KNeigbours Classifier ROC_AUC Score: 90.56\n",
      "KNeigbours Classifier confusion matrix\n",
      " [[2485   66]\n",
      " [ 293  195]]\n",
      "KNeigbours Classifier classification report\n",
      "               precision    recall  f1-score   support\n",
      "\n",
      "       not 1       0.89      0.97      0.93      2551\n",
      "           1       0.75      0.40      0.52       488\n",
      "\n",
      "    accuracy                           0.88      3039\n",
      "   macro avg       0.82      0.69      0.73      3039\n",
      "weighted avg       0.87      0.88      0.87      3039\n",
      "\n"
     ]
    },
    {
     "data": {
      "image/png": "[encoded data removed]",
      "text/plain": [
       "<Figure size 432x288 with 1 Axes>"
      ]
     },
     "metadata": {},
     "output_type": "display_data"
    },
    {
     "name": "stdout",
     "output_type": "stream",
     "text": [
      "Best Threshold for KNeigbours Classifier=0.1233\n"
     ]
    }
   ],
   "source": [
    "evaluate_model(knn_best_estimator,X_test,y_test, 'KNeigbours Classifier')"
   ]
  },
  {
   "cell_type": "markdown",
   "id": "285fb321",
   "metadata": {},
   "source": [
    "### Feature Importance"
   ]
  },
  {
   "cell_type": "markdown",
   "id": "1c392c0c",
   "metadata": {},
   "source": [
    "KNN does not have \"feature_importances_\" object"
   ]
  },
  {
   "cell_type": "markdown",
   "id": "ca3a453f",
   "metadata": {},
   "source": [
    "### XGBoost Classification"
   ]
  },
  {
   "cell_type": "code",
   "execution_count": 116,
   "id": "b2eebc9e",
   "metadata": {},
   "outputs": [
    {
     "name": "stdout",
     "output_type": "stream",
     "text": [
      "XGBoost Classifier ROC_AUC Score: 94.92\n",
      "XGBoost Classifier confusion matrix\n",
      " [[2476   75]\n",
      " [ 163  325]]\n",
      "XGBoost Classifier classification report\n",
      "               precision    recall  f1-score   support\n",
      "\n",
      "       not 1       0.94      0.97      0.95      2551\n",
      "           1       0.81      0.67      0.73       488\n",
      "\n",
      "    accuracy                           0.92      3039\n",
      "   macro avg       0.88      0.82      0.84      3039\n",
      "weighted avg       0.92      0.92      0.92      3039\n",
      "\n"
     ]
    },
    {
     "data": {
      "image/png": "[encoded data removed]",
      "text/plain": [
       "<Figure size 432x288 with 1 Axes>"
      ]
     },
     "metadata": {},
     "output_type": "display_data"
    },
    {
     "name": "stdout",
     "output_type": "stream",
     "text": [
      "Best Threshold for XGBoost Classifier=0.13740000128746033\n"
     ]
    }
   ],
   "source": [
    "evaluate_model(xgb_best_estimator,X_test,y_test, 'XGBoost Classifier')"
   ]
  },
  {
   "cell_type": "markdown",
   "id": "4adaf00c",
   "metadata": {},
   "source": [
    "### Feature Importance"
   ]
  },
  {
   "cell_type": "code",
   "execution_count": 117,
   "id": "8519a3f3",
   "metadata": {},
   "outputs": [
    {
     "data": {
      "image/png": "[encoded data removed]",
      "text/plain": [
       "<Figure size 576x576 with 1 Axes>"
      ]
     },
     "metadata": {},
     "output_type": "display_data"
    }
   ],
   "source": [
    "plt.style.use('ggplot')\n",
    "plt.figure(figsize=(8,8))\n",
    "plt.title('Feature Importance for XGBoost Classifier)')\n",
    "feat_importances = pd.Series(xgb_best_estimator.named_steps[\"clf\"].feature_importances_, index=X_train.columns)\n",
    "feat_importances.nlargest(50).plot(kind='barh',fontsize=14,color='orange')\n",
    "plt.show()"
   ]
  },
  {
   "cell_type": "markdown",
   "id": "48e65c12",
   "metadata": {},
   "source": [
    "### Metrics Comparision"
   ]
  },
  {
   "cell_type": "code",
   "execution_count": 118,
   "id": "023820bb",
   "metadata": {},
   "outputs": [
    {
     "data": {
      "text/html": [
       "<div>\n",
       "<style scoped>\n",
       "    .dataframe tbody tr th:only-of-type {\n",
       "        vertical-align: middle;\n",
       "    }\n",
       "\n",
       "    .dataframe tbody tr th {\n",
       "        vertical-align: top;\n",
       "    }\n",
       "\n",
       "    .dataframe thead th {\n",
       "        text-align: right;\n",
       "    }\n",
       "</style>\n",
       "<table border=\"1\" class=\"dataframe\">\n",
       "  <thead>\n",
       "    <tr style=\"text-align: right;\">\n",
       "      <th></th>\n",
       "      <th>Model</th>\n",
       "      <th>Accuracy</th>\n",
       "      <th>Recall</th>\n",
       "      <th>Precision</th>\n",
       "      <th>F1</th>\n",
       "      <th>ROC_AUC</th>\n",
       "    </tr>\n",
       "  </thead>\n",
       "  <tbody>\n",
       "    <tr>\n",
       "      <th>3</th>\n",
       "      <td>XGBoost Classifier</td>\n",
       "      <td>92.168476</td>\n",
       "      <td>66.598361</td>\n",
       "      <td>81.250000</td>\n",
       "      <td>73.198198</td>\n",
       "      <td>94.924403</td>\n",
       "    </tr>\n",
       "    <tr>\n",
       "      <th>1</th>\n",
       "      <td>RandomForest Classifier</td>\n",
       "      <td>91.510365</td>\n",
       "      <td>61.885246</td>\n",
       "      <td>80.748663</td>\n",
       "      <td>70.069606</td>\n",
       "      <td>93.894230</td>\n",
       "    </tr>\n",
       "    <tr>\n",
       "      <th>2</th>\n",
       "      <td>KNeigbours Classifier</td>\n",
       "      <td>88.186904</td>\n",
       "      <td>39.959016</td>\n",
       "      <td>74.712644</td>\n",
       "      <td>52.069426</td>\n",
       "      <td>90.561159</td>\n",
       "    </tr>\n",
       "    <tr>\n",
       "      <th>0</th>\n",
       "      <td>Logistic Regression</td>\n",
       "      <td>84.468575</td>\n",
       "      <td>9.631148</td>\n",
       "      <td>60.256410</td>\n",
       "      <td>16.607774</td>\n",
       "      <td>73.330934</td>\n",
       "    </tr>\n",
       "  </tbody>\n",
       "</table>\n",
       "</div>"
      ],
      "text/plain": [
       "                     Model   Accuracy     Recall  Precision         F1  \\\n",
       "3       XGBoost Classifier  92.168476  66.598361  81.250000  73.198198   \n",
       "1  RandomForest Classifier  91.510365  61.885246  80.748663  70.069606   \n",
       "2    KNeigbours Classifier  88.186904  39.959016  74.712644  52.069426   \n",
       "0      Logistic Regression  84.468575   9.631148  60.256410  16.607774   \n",
       "\n",
       "     ROC_AUC  \n",
       "3  94.924403  \n",
       "1  93.894230  \n",
       "2  90.561159  \n",
       "0  73.330934  "
      ]
     },
     "execution_count": 118,
     "metadata": {},
     "output_type": "execute_result"
    }
   ],
   "source": [
    "evaluation.sort_values(by ='ROC_AUC', ascending = False)"
   ]
  },
  {
   "cell_type": "markdown",
   "id": "12676ef7",
   "metadata": {},
   "source": [
    "XGBoost Classifier tops interms of ROC_AUC and F1 score.\n",
    "If I look for Precision again XGBoost Classifier leads.\n",
    "This means, it is safe conclude XGBoost Classifier is the best among these."
   ]
  },
  {
   "cell_type": "markdown",
   "id": "6f4d0750",
   "metadata": {},
   "source": [
    "### ROC Curve "
   ]
  },
  {
   "cell_type": "code",
   "execution_count": 119,
   "id": "4d75b0f2",
   "metadata": {},
   "outputs": [
    {
     "name": "stdout",
     "output_type": "stream",
     "text": [
      "Best Threshold for KNeighbors=0.1233\n",
      "Best Threshold for RandForest=0.1504\n",
      "Best Threshold for XGBoost=0.1374\n",
      "Best Threshold for LogRegr=-0.9583\n"
     ]
    },
    {
     "data": {
      "image/png": "[encoded data removed]",
      "text/plain": [
       "<Figure size 576x576 with 1 Axes>"
      ]
     },
     "metadata": {},
     "output_type": "display_data"
    }
   ],
   "source": [
    "y_proba_knn = knn_best_estimator.predict_proba(X_test)\n",
    "y_proba_rfc = rfc_best_estimator.predict_proba(X_test)\n",
    "y_proba_xgb = xgb_best_estimator.predict_proba(X_test)\n",
    "y_scores_log = log_best_estimator.decision_function(X_test)\n",
    "\n",
    "fpr_knn, tpr_knn, knn_thresholds = metrics.roc_curve(y_test, y_proba_knn[:,1])\n",
    "fpr_rfc, tpr_rfc, rfc_thresholds = metrics.roc_curve(y_test, y_proba_rfc[:,1])\n",
    "fpr_xgb, tpr_xgb, xgb_thresholds = metrics.roc_curve(y_test, y_proba_xgb[:,1])\n",
    "fpr_log, tpr_log, log_thresholds = metrics.roc_curve(y_test, y_scores_log)\n",
    "\n",
    "plt.figure(figsize=(8,8))\n",
    "plt.xlim([-0.01, 1.00])\n",
    "plt.ylim([-0.01, 1.01])\n",
    "plt.plot([0,1], [0,1], linestyle='--')\n",
    "\n",
    "ix,roc_auc = calc_threshold(tpr_knn,fpr_knn,knn_thresholds,'KNeighbors')\n",
    "plt.plot(fpr_knn, tpr_knn, lw=1,label='KNeighbors: roc_auc - {0}'.format(roc_auc), color='orange')\n",
    "plt.scatter(fpr_knn[ix], tpr_knn[ix], marker='o', color='orange')\n",
    "\n",
    "ix,roc_auc = calc_threshold(tpr_rfc,fpr_rfc,rfc_thresholds,'RandForest')\n",
    "plt.plot(fpr_rfc, tpr_rfc, lw=1, label=('RandForest: roc_auc - {0}'.format(roc_auc)), color='blue')\n",
    "plt.scatter(fpr_rfc[ix], tpr_rfc[ix], marker='o', color='blue')\n",
    "\n",
    "xgb_thresholds=np.float64(xgb_thresholds)\n",
    "ix,roc_auc = calc_threshold(tpr_xgb,fpr_xgb,xgb_thresholds,'XGBoost')\n",
    "plt.plot(fpr_xgb, tpr_xgb, lw=1, label=('XGBoost: roc_auc - {0}'.format(roc_auc)), color='maroon')\n",
    "plt.scatter(fpr_xgb[ix], tpr_xgb[ix], marker='o', color='maroon')\n",
    "\n",
    "ix,roc_auc = calc_threshold(tpr_log,fpr_log,log_thresholds,'LogRegr')\n",
    "plt.plot(fpr_log, tpr_log, lw=1, label=('LogRegr: roc_auc - {0}'.format(roc_auc)), color='red')\n",
    "plt.scatter(fpr_log[ix], tpr_log[ix], marker='o', color='red')\n",
    "\n",
    "plt.xlabel('False Positive Rate', fontsize=16)\n",
    "plt.ylabel('True Positive Rate', fontsize=16)\n",
    "plt.title('ROC curve', fontsize=16)\n",
    "plt.legend(loc='lower right', fontsize=13)\n",
    "\n",
    "plt.show();"
   ]
  },
  {
   "cell_type": "markdown",
   "id": "3175672e",
   "metadata": {},
   "source": [
    "XGBoost is performed well with AUC 95%. At production this model can be deployed to predict potential churner.\n",
    "\n",
    "Random Forest is the nest classifier on these kind of data set. This means, ensemble and boosting algo work on these type of dataset."
   ]
  },
  {
   "cell_type": "markdown",
   "id": "ffad988b",
   "metadata": {},
   "source": [
    "## Additional Models: <a id=AdditionalModels></a>"
   ]
  },
  {
   "cell_type": "markdown",
   "id": "1287956a",
   "metadata": {},
   "source": [
    "We have selected four of the many machine learning models available. It would be interesting to see the results of other models. Feature importance: With the knowledge of the feature importance, we can run the model on a dataset containing only the important features with the respective thresholds and compare the results.\n",
    "\n",
    "Along with neural networks, other popular prediction techniques can be applied in combination, such as support vector machine develop hybrid model.\n"
   ]
  },
  {
   "cell_type": "markdown",
   "id": "677616a1",
   "metadata": {},
   "source": [
    "## Summary <a id =Summary> </a>"
   ]
  },
  {
   "cell_type": "markdown",
   "id": "aa88c7d0",
   "metadata": {},
   "source": [
    "XGbooost performed best with grid search along with Random Forest among teh four models interms of ROC_AUC\n",
    "\n",
    "The top 3 most important feature from  all 4 selected models are:\n",
    "\n",
    "    Total_Revolving_Bal (Total revolving balance on the credit card)\n",
    "    Total_Trans_Amt (Total transaction count in the last 12 months)\n",
    "    Total_Relationship_Count (Total number of products held by the customer)\n",
    "\n",
    "It can be concluded above 3 features are the most important common predictor of churners based on these findings.\n"
   ]
  },
  {
   "cell_type": "markdown",
   "id": "b8e4b569",
   "metadata": {},
   "source": [
    "## Recommendations <a id = Recom></a>"
   ]
  },
  {
   "cell_type": "markdown",
   "id": "4b689d4e",
   "metadata": {},
   "source": [
    "Lower transcation count on credit card , less revolving balance , less transcational amount are an indication that customer will attrite.\n",
    "Lower transcation indicate customer is not using this credit card , Bank may need to consider Cash back, or rewards or some other offers to customer to use the credit card more.\n",
    "\n",
    "  From the EDA \n",
    "* Customers who have had high number of contacts with the bank in the last 12 months have attrited. This needs to be investigated whether there were any issues of customers that were not resolved made customer leaving the bank.\n",
    "* The proportion of income category of attrited customer, it is highly concentrated around 60K - 80K income, followed by Less than 40K income  compare to attrited customers with higher annual income of 80K-120K and over 120K+.\n",
    "* Customers who are inactive for a month show high chances of attrition.Bank should focus on these customers as well.\n",
    "* Customer in age range 36-55 ,who were doctorate or postgraduate  and/or Female attrited more.Reasons need to be further investigated.\n",
    "* customer having more product with the bank he/she is less likely to attrite.This may be indication for Bank to offer different service to customer.\n",
    "* Avg utilization ratio is lower amongst attrited customers."
   ]
  }
 ],
 "metadata": {
  "kernelspec": {
   "display_name": "Python 3",
   "language": "python",
   "name": "python3"
  },
  "language_info": {
   "codemirror_mode": {
    "name": "ipython",
    "version": 3
   },
   "file_extension": ".py",
   "mimetype": "text/x-python",
   "name": "python",
   "nbconvert_exporter": "python",
   "pygments_lexer": "ipython3",
   "version": "3.8.8"
  }
 },
 "nbformat": 4,
 "nbformat_minor": 5
}
