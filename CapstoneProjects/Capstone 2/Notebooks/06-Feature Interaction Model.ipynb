{
 "cells": [
  {
   "cell_type": "markdown",
   "id": "9faed4d5",
   "metadata": {},
   "source": [
    "### Feature Importance"
   ]
  },
  {
   "cell_type": "markdown",
   "id": "3ab8d149",
   "metadata": {},
   "source": [
    "Feature Importance is a process used to select features in the dataset that contributes the most in predicting the target variable. Working with selected features instead of all the features reduces the risk of over-fitting, improves accuracy, and decreases the training time.\n",
    "\n",
    "Finding Feature importance and selecting top 8 features\n"
   ]
  },
  {
   "cell_type": "code",
   "execution_count": 41,
   "id": "a4071aad",
   "metadata": {},
   "outputs": [],
   "source": [
    "import pandas as pd\n",
    "import numpy as np\n",
    "from xgboost import XGBClassifier\n",
    "from sklearn.pipeline import Pipeline\n",
    "from sklearn import model_selection\n",
    "import seaborn as sns\n",
    "from sklearn import metrics"
   ]
  },
  {
   "cell_type": "code",
   "execution_count": 38,
   "id": "b33d13d3",
   "metadata": {},
   "outputs": [],
   "source": [
    "def threshhold_and_plot(y_test, target, n_points=50, plot=True):\n",
    "    \"\"\"\n",
    "    :param y_test: binary vector of actual targets\n",
    "    :param target: vector of probabilities\n",
    "    :param n_points: number of points to evaluate for a threshold\n",
    "    :param plot: Boolean; whether or not to plot the results\n",
    "    :return: vector of values of precision, recall, F1 for given points\n",
    "    \"\"\"\n",
    "    # plot the value of the metric against the threshold\n",
    "    #plt.figure(figsize=(12,12))\n",
    "    probs = np.linspace(0, 1, n_points)\n",
    "    def make_thresh():  # try n_points = 50 or 100...\n",
    "        # calculate each metric here\n",
    "        precision = [metrics.precision_score(y_test, np.where(target > thresh, 1, 0),zero_division=1)\n",
    "                     for thresh in probs]\n",
    "        recall = [metrics.recall_score(y_test, np.where(target > thresh, 1, 0),zero_division=1)\n",
    "                  for thresh in probs]\n",
    "        f1 = [metrics.f1_score(y_test, np.where(target > thresh, 1, 0),zero_division=1)\n",
    "              for thresh in probs]\n",
    "        roc_auc = [metrics.roc_auc_score(y_test,np.where(target > thresh,1,0))\n",
    "                   for thresh in probs]\n",
    "       \n",
    "        return precision, recall, f1, roc_auc\n",
    "\n",
    "    precision, recall, f1, roc_auc = make_thresh()\n",
    "\n",
    "    \n",
    "    if plot:\n",
    "        plt.plot(probs, precision, label='precision')\n",
    "        plt.plot(probs, recall, label='recall')\n",
    "        plt.plot(probs, f1, label='f1')\n",
    "        plt.plot(probs, roc_auc, label=\"roc auc\")\n",
    "        # plt.plot(probs, pr_auc, label=\"pr auc\")\n",
    "        plt.title(\"Metrics at various thresholds\");\n",
    "        plt.xlabel(\"Probability\");\n",
    "        plt.legend();\n",
    "        return precision, recall, f1, roc_auc\n",
    "    else:\n",
    "        return precision, recall, f1, roc_auc\n",
    "\n",
    "def max_thresh(score_vec):\n",
    "  # can either unpack a tuple or feed in iterable by itself\n",
    "    max_idx = np.argmax(score_vec)\n",
    "    max_score = score_vec[max_idx]\n",
    "    return max_idx, max_score"
   ]
  },
  {
   "cell_type": "code",
   "execution_count": 48,
   "id": "97f6679d",
   "metadata": {},
   "outputs": [],
   "source": [
    "def plot_Confusionmatrix(actuals,target):\n",
    "    plt.figure(figsize=(5,4))\n",
    "    ConfMatrix = metrics.confusion_matrix(actuals,target, labels=[0,1], normalize='true')\n",
    "    \n",
    "    sns.heatmap(ConfMatrix,annot=True, cmap=\"Blues\", \n",
    "                xticklabels = [\"Staying\",\"Attrited\"], \n",
    "                yticklabels = [\"Staying\",\"Attrited\"])\n",
    "    plt.ylabel('True label')\n",
    "    plt.xlabel('Predicted label')\n",
    "    plt.title(\"Confusion Matrix\");\n",
    "    return"
   ]
  },
  {
   "cell_type": "code",
   "execution_count": 3,
   "id": "1aed5e39",
   "metadata": {},
   "outputs": [],
   "source": [
    "X_train = pd.read_csv(\"../data/4.X_train.csv\")\n",
    "y_train = pd.read_csv(\"../data/4.y_train.csv\")\n",
    "X_test = pd.read_csv(\"../data/4.X_test.csv\")\n",
    "y_test = pd.read_csv(\"../data/4.y_test.csv\")"
   ]
  },
  {
   "cell_type": "code",
   "execution_count": 6,
   "id": "04f9b664",
   "metadata": {},
   "outputs": [
    {
     "data": {
      "image/png": "[encoded data removed]",
      "text/plain": [
       "<Figure size 432x288 with 1 Axes>"
      ]
     },
     "metadata": {
      "needs_background": "light"
     },
     "output_type": "display_data"
    },
    {
     "data": {
      "text/plain": [
       "<Figure size 1440x1440 with 0 Axes>"
      ]
     },
     "metadata": {},
     "output_type": "display_data"
    },
    {
     "name": "stdout",
     "output_type": "stream",
     "text": [
      "['Total_Revolving_Bal', 0.18961056]\n",
      "['Total_Trans_Amt', 0.14141884]\n",
      "['Total_Relationship_Count', 0.1392616]\n",
      "['Months_Inactive_12_mon', 0.08161943]\n",
      "['Gender_Encoded', 0.07091206]\n",
      "['Customer_Age', 0.063494116]\n",
      "['Contacts_Count_12_mon', 0.050714638]\n",
      "['Credit_Limit', 0.045570944]\n",
      "['Marital_Status_sorted_Married', 0.045564655]\n",
      "['Dependent_count', 0.03548129]\n",
      "['Avg_Utilization_Ratio', 0.034051042]\n",
      "['Marital_Status_sorted_Single', 0.02745477]\n",
      "['Education_Level_sorted', 0.025964404]\n",
      "['Income_Category_sorted', 0.024694106]\n",
      "['Card_Category_sorted', 0.024187576]\n",
      "['Months_on_book', 0.0]\n"
     ]
    }
   ],
   "source": [
    "#find top 8 feature using XGBoost, using built in XGB \n",
    "\n",
    "from xgboost import XGBRegressor,plot_importance\n",
    "import matplotlib.pyplot as plt\n",
    "#xgb = XGBRegressor(n_estimators=100)\n",
    "xgb = XGBClassifier(booster=\"gbtree\", verbosity=0, use_label_encoder=False,n_jobs=-1)\n",
    "xgb.fit(X_train, y_train)\n",
    "\n",
    "# from Builtin XGB\n",
    "plot_importance(xgb, max_num_features = 10,height=0.5)\n",
    "plt.figure(figsize=(20,20))\n",
    "plt.show()\n",
    "\n",
    "sorted_idx = np.argsort(xgb.feature_importances_)[::-1]\n",
    "for index in sorted_idx:\n",
    "   print([X_train.columns[index], xgb.feature_importances_[index]])"
   ]
  },
  {
   "cell_type": "raw",
   "id": "4ead4deb",
   "metadata": {},
   "source": [
    "The top 8 features can influence prediction are as below.\n",
    "\n",
    "    Total_Trans_Amt: Total Transaction Amount in Last 12 months((one year))\n",
    "    Credit_Limit: Credit Limit on the Credit Card\n",
    "    Customer_Age: Age in Years\n",
    "    Total_Revolving_Bal: The balance that carries over from one month to the next is the revolving balance\n",
    "    Avg_Utilization_Ratio: Represents how much of the available credit the customer spent\n",
    "    Total_Relationship_Count: Total no. of products held by the customer\n",
    "    Contacts_Count_12_mon: No. of Contacts between the customer and bank in the last 12 months(one year)\n",
    "    Months_Inactive_12_mon: No. of months inactive in the last 12 months(one year)\n",
    "\n"
   ]
  },
  {
   "cell_type": "markdown",
   "id": "ce1edaf0",
   "metadata": {},
   "source": [
    "### Feature interactions"
   ]
  },
  {
   "cell_type": "markdown",
   "id": "e9a25967",
   "metadata": {},
   "source": [
    "For this purpose I am using python package called 'patsy'. And here is the intoduction and references.\n",
    "\n",
    "Feature interaction using design Matrix. The design matrix contains data on the independent variables (also called explanatory variables) in statistical models which attempt to explain observed data on a response variable (often called a dependent variable) in terms of the explanatory variables. The theory relating to such models makes substantial use of matrix manipulations involving the design matrix: see for example linear regression. A notable feature of the concept of a design matrix is that it is able to represent a number of different experimental designs and statistical models, e.g., ANOVA, ANCOVA, and linear regression.[ ref: https://en.wikipedia.org/wiki/Design_matrix\n",
    "\n",
    "ref:\n",
    "\n",
    "    https://learn-scikit.oneoffcoder.com/patsy.html\n",
    "    https://learn-scikit.oneoffcoder.com/xgboost.html\n",
    "    https://readthedocs.org/projects/patsy/downloads/pdf/latest/\n",
    "    https://www.programcreek.com/python/example/120751/patsy.dmatrix\n",
    "\n",
    "patsy is a Python package for describing statistical models (especially linear models, or models that have a linear component) and building design matrices. It is closely inspired by and compatible with the formula mini-language used in R and S. For instance, if we have some variable y, and we want to regress it against some other variables x, a, b, and the interaction of a and b, then we simply write: patsy.dmatrices(\"y ~ x + a + b + a:b\", data) and Patsy takes care of building appropriate matrices. ref: https://patsy.readthedocs.io/en/latest/overview.html\n",
    "\n",
    "Patsy is a neat API to transform your data into experimentation model form. For regression and classification problems, you often want your data in the Xy form where X is a matrix (independent variable) and y is a column vector (dependent variable). ref: https://learn-scikit.oneoffcoder.com/patsy.html\n"
   ]
  },
  {
   "cell_type": "code",
   "execution_count": 8,
   "id": "99d28434",
   "metadata": {},
   "outputs": [],
   "source": [
    "from patsy import dmatrix\n",
    "#formula = 'Customer_Age*Credit_Limit*Total_Revolving_Bal*Total_Trans_Amt*Avg_Utilization_Ratio*Total_Relationship_Count*Contacts_Count_12_mon*Months_Inactive_12_mon'\n",
    "# only top 5 is used.\n",
    "#create model formula\n",
    "model_formula = 'Total_Trans_Amt*Credit_Limit*Customer_Age*Total_Revolving_Bal*Avg_Utilization_Ratio'\n",
    "#Apply model formula to train and test\n",
    "X_train_f = dmatrix(model_formula, X_train, return_type='dataframe')\n",
    "X_test_f = dmatrix(model_formula, X_test, return_type='dataframe')"
   ]
  },
  {
   "cell_type": "code",
   "execution_count": 9,
   "id": "66621e4e",
   "metadata": {},
   "outputs": [
    {
     "data": {
      "text/html": [
       "<div>\n",
       "<style scoped>\n",
       "    .dataframe tbody tr th:only-of-type {\n",
       "        vertical-align: middle;\n",
       "    }\n",
       "\n",
       "    .dataframe tbody tr th {\n",
       "        vertical-align: top;\n",
       "    }\n",
       "\n",
       "    .dataframe thead th {\n",
       "        text-align: right;\n",
       "    }\n",
       "</style>\n",
       "<table border=\"1\" class=\"dataframe\">\n",
       "  <thead>\n",
       "    <tr style=\"text-align: right;\">\n",
       "      <th></th>\n",
       "      <th>Customer_Age</th>\n",
       "      <th>Credit_Limit</th>\n",
       "      <th>Total_Revolving_Bal</th>\n",
       "      <th>Total_Trans_Amt</th>\n",
       "      <th>Avg_Utilization_Ratio</th>\n",
       "      <th>Gender_Encoded</th>\n",
       "      <th>Dependent_count</th>\n",
       "      <th>Education_Level_sorted</th>\n",
       "      <th>Income_Category_sorted</th>\n",
       "      <th>Card_Category_sorted</th>\n",
       "      <th>Months_on_book</th>\n",
       "      <th>Total_Relationship_Count</th>\n",
       "      <th>Months_Inactive_12_mon</th>\n",
       "      <th>Contacts_Count_12_mon</th>\n",
       "      <th>Marital_Status_sorted_Married</th>\n",
       "      <th>Marital_Status_sorted_Single</th>\n",
       "    </tr>\n",
       "  </thead>\n",
       "  <tbody>\n",
       "    <tr>\n",
       "      <th>0</th>\n",
       "      <td>-0.536671</td>\n",
       "      <td>10.312845</td>\n",
       "      <td>1.672427</td>\n",
       "      <td>8.978408</td>\n",
       "      <td>0.071</td>\n",
       "      <td>0</td>\n",
       "      <td>3</td>\n",
       "      <td>3</td>\n",
       "      <td>3</td>\n",
       "      <td>1</td>\n",
       "      <td>-0.536671</td>\n",
       "      <td>1</td>\n",
       "      <td>1</td>\n",
       "      <td>2</td>\n",
       "      <td>1</td>\n",
       "      <td>0</td>\n",
       "    </tr>\n",
       "    <tr>\n",
       "      <th>1</th>\n",
       "      <td>-0.536671</td>\n",
       "      <td>8.285009</td>\n",
       "      <td>0.956795</td>\n",
       "      <td>8.429454</td>\n",
       "      <td>0.307</td>\n",
       "      <td>1</td>\n",
       "      <td>2</td>\n",
       "      <td>2</td>\n",
       "      <td>1</td>\n",
       "      <td>1</td>\n",
       "      <td>-0.536671</td>\n",
       "      <td>3</td>\n",
       "      <td>5</td>\n",
       "      <td>2</td>\n",
       "      <td>1</td>\n",
       "      <td>0</td>\n",
       "    </tr>\n",
       "    <tr>\n",
       "      <th>2</th>\n",
       "      <td>-0.038008</td>\n",
       "      <td>7.555905</td>\n",
       "      <td>0.920660</td>\n",
       "      <td>8.484877</td>\n",
       "      <td>0.613</td>\n",
       "      <td>1</td>\n",
       "      <td>4</td>\n",
       "      <td>3</td>\n",
       "      <td>2</td>\n",
       "      <td>1</td>\n",
       "      <td>-0.038008</td>\n",
       "      <td>6</td>\n",
       "      <td>4</td>\n",
       "      <td>2</td>\n",
       "      <td>1</td>\n",
       "      <td>0</td>\n",
       "    </tr>\n",
       "    <tr>\n",
       "      <th>3</th>\n",
       "      <td>-1.284665</td>\n",
       "      <td>9.568294</td>\n",
       "      <td>0.549097</td>\n",
       "      <td>8.465057</td>\n",
       "      <td>0.049</td>\n",
       "      <td>1</td>\n",
       "      <td>2</td>\n",
       "      <td>1</td>\n",
       "      <td>1</td>\n",
       "      <td>1</td>\n",
       "      <td>-1.284665</td>\n",
       "      <td>3</td>\n",
       "      <td>2</td>\n",
       "      <td>1</td>\n",
       "      <td>0</td>\n",
       "      <td>0</td>\n",
       "    </tr>\n",
       "    <tr>\n",
       "      <th>4</th>\n",
       "      <td>1.582646</td>\n",
       "      <td>8.352554</td>\n",
       "      <td>0.000000</td>\n",
       "      <td>7.494430</td>\n",
       "      <td>0.000</td>\n",
       "      <td>0</td>\n",
       "      <td>0</td>\n",
       "      <td>3</td>\n",
       "      <td>2</td>\n",
       "      <td>1</td>\n",
       "      <td>1.582646</td>\n",
       "      <td>3</td>\n",
       "      <td>2</td>\n",
       "      <td>3</td>\n",
       "      <td>1</td>\n",
       "      <td>0</td>\n",
       "    </tr>\n",
       "  </tbody>\n",
       "</table>\n",
       "</div>"
      ],
      "text/plain": [
       "   Customer_Age  Credit_Limit  Total_Revolving_Bal  Total_Trans_Amt  \\\n",
       "0     -0.536671     10.312845             1.672427         8.978408   \n",
       "1     -0.536671      8.285009             0.956795         8.429454   \n",
       "2     -0.038008      7.555905             0.920660         8.484877   \n",
       "3     -1.284665      9.568294             0.549097         8.465057   \n",
       "4      1.582646      8.352554             0.000000         7.494430   \n",
       "\n",
       "   Avg_Utilization_Ratio  Gender_Encoded  Dependent_count  \\\n",
       "0                  0.071               0                3   \n",
       "1                  0.307               1                2   \n",
       "2                  0.613               1                4   \n",
       "3                  0.049               1                2   \n",
       "4                  0.000               0                0   \n",
       "\n",
       "   Education_Level_sorted  Income_Category_sorted  Card_Category_sorted  \\\n",
       "0                       3                       3                     1   \n",
       "1                       2                       1                     1   \n",
       "2                       3                       2                     1   \n",
       "3                       1                       1                     1   \n",
       "4                       3                       2                     1   \n",
       "\n",
       "   Months_on_book  Total_Relationship_Count  Months_Inactive_12_mon  \\\n",
       "0       -0.536671                         1                       1   \n",
       "1       -0.536671                         3                       5   \n",
       "2       -0.038008                         6                       4   \n",
       "3       -1.284665                         3                       2   \n",
       "4        1.582646                         3                       2   \n",
       "\n",
       "   Contacts_Count_12_mon  Marital_Status_sorted_Married  \\\n",
       "0                      2                              1   \n",
       "1                      2                              1   \n",
       "2                      2                              1   \n",
       "3                      1                              0   \n",
       "4                      3                              1   \n",
       "\n",
       "   Marital_Status_sorted_Single  \n",
       "0                             0  \n",
       "1                             0  \n",
       "2                             0  \n",
       "3                             0  \n",
       "4                             0  "
      ]
     },
     "execution_count": 9,
     "metadata": {},
     "output_type": "execute_result"
    }
   ],
   "source": [
    "X_train.head(5)"
   ]
  },
  {
   "cell_type": "code",
   "execution_count": 17,
   "id": "9995fc18",
   "metadata": {},
   "outputs": [],
   "source": [
    "# rand search function\n",
    "def rand_search(X_train,y_train,parameters,model,n_iter=100):\n",
    "    #pipeline\n",
    "    clf_pipeline = Pipeline([(\"clf\",model)])\n",
    "    #Grid search CV\n",
    "    scoring = 'roc_auc'\n",
    "    verbose = 1\n",
    "    clf_rand = model_selection.RandomizedSearchCV(clf_pipeline, parameters, n_iter = n_iter,scoring=scoring,verbose = verbose, random_state=1,n_jobs=-1)\n",
    "    #Learn from training\n",
    "    clf_rand.fit(X_train,y_train)  #learn the training set\n",
    "    \n",
    "    print(\"Best parameters for \", model) \n",
    "    print(clf_rand.best_params_)\n",
    "    print(f\"\\nBest train %s score: {clf_rand.best_score_ :.2f}\" % (scoring))\n",
    "    return clf_rand.best_estimator_"
   ]
  },
  {
   "cell_type": "code",
   "execution_count": 18,
   "id": "943da0f2",
   "metadata": {},
   "outputs": [],
   "source": [
    "#Settingranges for the hyperparameter are shown below.\n",
    "xgb_params = {\"clf__learning_rate\": [0.05, 0.1, 0.2, 0.3, 0.4, 0.5],\n",
    "               \"clf__max_depth\": np.arange(2,7),\n",
    "               \"clf__min_child_weight\": np.arange(1,11),\n",
    "               \"clf__reg_lambda\": np.linspace(0.1,1,num=10)\n",
    "              }"
   ]
  },
  {
   "cell_type": "code",
   "execution_count": 25,
   "id": "cd1cddb8",
   "metadata": {},
   "outputs": [
    {
     "name": "stdout",
     "output_type": "stream",
     "text": [
      "Fitting 5 folds for each of 120 candidates, totalling 600 fits\n",
      "Best parameters for  XGBClassifier(base_score=None, booster='gbtree', colsample_bylevel=None,\n",
      "              colsample_bynode=None, colsample_bytree=None,\n",
      "              enable_categorical=False, gamma=None, gpu_id=None,\n",
      "              importance_type=None, interaction_constraints=None,\n",
      "              learning_rate=None, max_delta_step=None, max_depth=None,\n",
      "              min_child_weight=None, missing=nan, monotone_constraints=None,\n",
      "              n_estimators=100, n_jobs=-1, num_parallel_tree=None,\n",
      "              predictor=None, random_state=None, reg_alpha=None,\n",
      "              reg_lambda=None, scale_pos_weight=None, subsample=None,\n",
      "              tree_method=None, use_label_encoder=False,\n",
      "              validate_parameters=None, verbosity=0)\n",
      "{'clf__reg_lambda': 0.4, 'clf__min_child_weight': 2, 'clf__max_depth': 5, 'clf__learning_rate': 0.1}\n",
      "\n",
      "Best train roc_auc score: 0.95\n",
      "Wall time: 4min 40s\n"
     ]
    }
   ],
   "source": [
    "%%time\n",
    "classifier = XGBClassifier(booster=\"gbtree\", verbosity=0, use_label_encoder=False,n_jobs=-1)\n",
    "\n",
    "xgb_best_estimator = rand_search(X_train_f,y_train, xgb_params,classifier,n_iter=120)"
   ]
  },
  {
   "cell_type": "code",
   "execution_count": 27,
   "id": "a067d003",
   "metadata": {},
   "outputs": [
    {
     "name": "stdout",
     "output_type": "stream",
     "text": [
      "Wall time: 31.8 s\n"
     ]
    }
   ],
   "source": [
    "%%time\n",
    "cross_validator = (model_selection.StratifiedShuffleSplit(train_size=0.8,random_state=1337,n_splits=50))\n",
    "cv_scores_xgb = (\n",
    "  model_selection.cross_val_score(xgb_best_estimator,\n",
    "                                  X_train_f,\n",
    "                                  y_train,\n",
    "                                  scoring=\"roc_auc\",\n",
    "                                  cv=cross_validator,\n",
    "                                  n_jobs=-1))"
   ]
  },
  {
   "cell_type": "code",
   "execution_count": 29,
   "id": "188bdb00",
   "metadata": {},
   "outputs": [
    {
     "name": "stdout",
     "output_type": "stream",
     "text": [
      " Performance on training set is in range between 0.942 to 0.965,with average roc_auc:0.955\n"
     ]
    }
   ],
   "source": [
    "cv_quantiles = np.quantile(a=cv_scores_xgb,q=[0.025,0.975])\n",
    "print(f\" Performance on training set is in range between {cv_quantiles[0]:.3f} to {cv_quantiles[1]:.3f},with average roc_auc:{cv_scores_xgb.mean():.3f}\")"
   ]
  },
  {
   "cell_type": "code",
   "execution_count": 33,
   "id": "f1febb79",
   "metadata": {},
   "outputs": [
    {
     "data": {
      "text/plain": [
       "<AxesSubplot:ylabel='Count'>"
      ]
     },
     "execution_count": 33,
     "metadata": {},
     "output_type": "execute_result"
    },
    {
     "data": {
      "image/png": "[encoded data removed]",
      "text/plain": [
       "<Figure size 432x288 with 1 Axes>"
      ]
     },
     "metadata": {},
     "output_type": "display_data"
    }
   ],
   "source": [
    "sns.set_style(\"darkgrid\")\n",
    "sns.histplot(cv_scores_xgb, bins=10)"
   ]
  },
  {
   "cell_type": "markdown",
   "id": "ec615899",
   "metadata": {},
   "source": [
    "### Get threshold using train set"
   ]
  },
  {
   "cell_type": "code",
   "execution_count": 36,
   "id": "78916c54",
   "metadata": {},
   "outputs": [],
   "source": [
    "#use train data to get threshold for roc_auc\n",
    "y_proba_xgb = xgb_best_estimator.predict_proba(X_train_f)\n",
    "y_proba_xgb = y_proba_xgb[:,1]"
   ]
  },
  {
   "cell_type": "code",
   "execution_count": 42,
   "id": "fea40c14",
   "metadata": {},
   "outputs": [
    {
     "data": {
      "image/png": "[encoded data removed]",
      "text/plain": [
       "<Figure size 432x288 with 1 Axes>"
      ]
     },
     "metadata": {},
     "output_type": "display_data"
    }
   ],
   "source": [
    "xgb_prec, xgb_rec, xgb_f1, xgb_roc_auc = threshhold_and_plot(y_train,y_proba_xgb)"
   ]
  },
  {
   "cell_type": "code",
   "execution_count": 43,
   "id": "0ae4314b",
   "metadata": {},
   "outputs": [
    {
     "name": "stdout",
     "output_type": "stream",
     "text": [
      "max_roc_auc is: 0.942022260918126\n"
     ]
    }
   ],
   "source": [
    "xgb_thresh_idx, xgb_max_score = max_thresh(xgb_roc_auc)\n",
    "print(f'max_roc_auc is: {xgb_max_score}')"
   ]
  },
  {
   "cell_type": "markdown",
   "id": "ac67b4c6",
   "metadata": {},
   "source": [
    "### Apply threshold on train set"
   ]
  },
  {
   "cell_type": "code",
   "execution_count": 46,
   "id": "dd0e3bc0",
   "metadata": {},
   "outputs": [],
   "source": [
    "xgb_train_labels = np.where(y_proba_xgb >= xgb_max_score, 1, 0)"
   ]
  },
  {
   "cell_type": "code",
   "execution_count": 49,
   "id": "91d887a7",
   "metadata": {},
   "outputs": [
    {
     "name": "stdout",
     "output_type": "stream",
     "text": [
      "classification report\n",
      "               precision    recall  f1-score   support\n",
      "\n",
      "     Staying       0.87      1.00      0.93      5949\n",
      "    Attrited       1.00      0.19      0.32      1139\n",
      "\n",
      "    accuracy                           0.87      7088\n",
      "   macro avg       0.93      0.59      0.62      7088\n",
      "weighted avg       0.89      0.87      0.83      7088\n",
      "\n"
     ]
    },
    {
     "data": {
      "image/png": "[encoded data removed]",
      "text/plain": [
       "<Figure size 360x288 with 2 Axes>"
      ]
     },
     "metadata": {},
     "output_type": "display_data"
    }
   ],
   "source": [
    "plot_Confusionmatrix(y_train,xgb_train_labels)\n",
    "y_class_report = metrics.classification_report(y_train,xgb_train_labels,zero_division=1, target_names=[\"Staying\",\"Attrited\"])\n",
    "print(\"classification report\\n\", y_class_report )"
   ]
  },
  {
   "cell_type": "markdown",
   "id": "ee73e1af",
   "metadata": {},
   "source": [
    "### Apply threshold on test set"
   ]
  },
  {
   "cell_type": "code",
   "execution_count": 52,
   "id": "53c7d7ec",
   "metadata": {},
   "outputs": [],
   "source": [
    "xgb_test_predict = xgb_best_estimator.predict_proba(X_test_f)"
   ]
  },
  {
   "cell_type": "code",
   "execution_count": 53,
   "id": "dce33325",
   "metadata": {},
   "outputs": [],
   "source": [
    "xgb_test_labels = np.where(xgb_test_predict[:,1] >= xgb_max_score, 1, 0)"
   ]
  },
  {
   "cell_type": "code",
   "execution_count": 54,
   "id": "699b87c2",
   "metadata": {},
   "outputs": [
    {
     "name": "stdout",
     "output_type": "stream",
     "text": [
      "classification report\n",
      "               precision    recall  f1-score   support\n",
      "\n",
      "     Staying       0.86      1.00      0.93      2551\n",
      "    Attrited       0.96      0.17      0.29       488\n",
      "\n",
      "    accuracy                           0.87      3039\n",
      "   macro avg       0.91      0.58      0.61      3039\n",
      "weighted avg       0.88      0.87      0.82      3039\n",
      "\n"
     ]
    },
    {
     "data": {
      "image/png": "[encoded data removed]",
      "text/plain": [
       "<Figure size 360x288 with 2 Axes>"
      ]
     },
     "metadata": {},
     "output_type": "display_data"
    }
   ],
   "source": [
    "plot_Confusionmatrix(y_test,xgb_test_labels)\n",
    "y_class_report = metrics.classification_report(y_test,xgb_test_labels,zero_division=1, target_names=[\"Staying\",\"Attrited\"])\n",
    "print(\"classification report\\n\", y_class_report )"
   ]
  },
  {
   "cell_type": "code",
   "execution_count": 55,
   "id": "5aeeb760",
   "metadata": {},
   "outputs": [
    {
     "data": {
      "image/png": "[encoded data removed]",
      "text/plain": [
       "<Figure size 432x288 with 1 Axes>"
      ]
     },
     "metadata": {},
     "output_type": "display_data"
    }
   ],
   "source": [
    "#roc_auc\n",
    "fig = metrics.RocCurveDisplay.from_predictions(y_train, xgb_train_labels,name='XGB')\n",
    "fig = metrics.RocCurveDisplay.from_predictions(y_test, xgb_test_labels, ax = fig.ax_,name='XGB')\n",
    "plt.show()"
   ]
  },
  {
   "cell_type": "markdown",
   "id": "a72af291",
   "metadata": {},
   "source": [
    "Not much of improvement with feature interactions. selected top 8 features so rest of the features are not influencing. "
   ]
  },
  {
   "cell_type": "code",
   "execution_count": null,
   "id": "bbb7b8b6",
   "metadata": {},
   "outputs": [],
   "source": []
  }
 ],
 "metadata": {
  "kernelspec": {
   "display_name": "Python 3",
   "language": "python",
   "name": "python3"
  },
  "language_info": {
   "codemirror_mode": {
    "name": "ipython",
    "version": 3
   },
   "file_extension": ".py",
   "mimetype": "text/x-python",
   "name": "python",
   "nbconvert_exporter": "python",
   "pygments_lexer": "ipython3",
   "version": "3.8.8"
  }
 },
 "nbformat": 4,
 "nbformat_minor": 5
}
