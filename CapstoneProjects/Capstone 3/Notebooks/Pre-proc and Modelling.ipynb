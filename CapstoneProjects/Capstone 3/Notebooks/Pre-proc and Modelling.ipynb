{
 "cells": [
  {
   "cell_type": "markdown",
   "id": "396bf568",
   "metadata": {},
   "source": [
    "## Imports"
   ]
  },
  {
   "cell_type": "code",
   "execution_count": 1,
   "id": "44bc74cf",
   "metadata": {},
   "outputs": [],
   "source": [
    "import pandas as pd\n",
    "import numpy as np"
   ]
  },
  {
   "cell_type": "code",
   "execution_count": 2,
   "id": "5966191c",
   "metadata": {},
   "outputs": [],
   "source": [
    "dfr = pd.read_csv('../Data/2.electronics_cleaned.csv',header=0)"
   ]
  },
  {
   "cell_type": "code",
   "execution_count": 3,
   "id": "1cf9f6f0",
   "metadata": {},
   "outputs": [
    {
     "data": {
      "text/html": [
       "<div>\n",
       "<style scoped>\n",
       "    .dataframe tbody tr th:only-of-type {\n",
       "        vertical-align: middle;\n",
       "    }\n",
       "\n",
       "    .dataframe tbody tr th {\n",
       "        vertical-align: top;\n",
       "    }\n",
       "\n",
       "    .dataframe thead th {\n",
       "        text-align: right;\n",
       "    }\n",
       "</style>\n",
       "<table border=\"1\" class=\"dataframe\">\n",
       "  <thead>\n",
       "    <tr style=\"text-align: right;\">\n",
       "      <th></th>\n",
       "      <th>reviewerId</th>\n",
       "      <th>productId</th>\n",
       "      <th>ratings</th>\n",
       "      <th>timestamp</th>\n",
       "    </tr>\n",
       "  </thead>\n",
       "  <tbody>\n",
       "    <tr>\n",
       "      <th>0</th>\n",
       "      <td>AO94DHGC771SJ</td>\n",
       "      <td>0528881469</td>\n",
       "      <td>5.0</td>\n",
       "      <td>1370131200</td>\n",
       "    </tr>\n",
       "    <tr>\n",
       "      <th>1</th>\n",
       "      <td>AMO214LNFCEI4</td>\n",
       "      <td>0528881469</td>\n",
       "      <td>1.0</td>\n",
       "      <td>1290643200</td>\n",
       "    </tr>\n",
       "    <tr>\n",
       "      <th>2</th>\n",
       "      <td>A3N7T0DY83Y4IG</td>\n",
       "      <td>0528881469</td>\n",
       "      <td>3.0</td>\n",
       "      <td>1283990400</td>\n",
       "    </tr>\n",
       "    <tr>\n",
       "      <th>3</th>\n",
       "      <td>A1H8PY3QHMQQA0</td>\n",
       "      <td>0528881469</td>\n",
       "      <td>2.0</td>\n",
       "      <td>1290556800</td>\n",
       "    </tr>\n",
       "    <tr>\n",
       "      <th>4</th>\n",
       "      <td>A24EV6RXELQZ63</td>\n",
       "      <td>0528881469</td>\n",
       "      <td>1.0</td>\n",
       "      <td>1317254400</td>\n",
       "    </tr>\n",
       "  </tbody>\n",
       "</table>\n",
       "</div>"
      ],
      "text/plain": [
       "       reviewerId   productId  ratings   timestamp\n",
       "0   AO94DHGC771SJ  0528881469      5.0  1370131200\n",
       "1   AMO214LNFCEI4  0528881469      1.0  1290643200\n",
       "2  A3N7T0DY83Y4IG  0528881469      3.0  1283990400\n",
       "3  A1H8PY3QHMQQA0  0528881469      2.0  1290556800\n",
       "4  A24EV6RXELQZ63  0528881469      1.0  1317254400"
      ]
     },
     "execution_count": 3,
     "metadata": {},
     "output_type": "execute_result"
    }
   ],
   "source": [
    "dfr.head()"
   ]
  },
  {
   "cell_type": "markdown",
   "id": "d0fa76d7",
   "metadata": {},
   "source": [
    "## Model Selection"
   ]
  },
  {
   "cell_type": "markdown",
   "id": "9a71ecd0",
   "metadata": {},
   "source": [
    "### Surprise Package"
   ]
  },
  {
   "cell_type": "markdown",
   "id": "5dc0684b",
   "metadata": {},
   "source": [
    "Surprise Package  :http://surpriselib.com/\n",
    "        \n",
    "References\n",
    "\n",
    "Documentation :https://surprise.readthedocs.io/en/latest/\n",
    "Installation: http://surpriselib.com/\n",
    "Github : https://github.com/NicolasHug/Surprise\n",
    "\n",
    "There are a lot of different packages available to build a recommender system. For this one, I'm using the Surprise package. Surprise has many different algorithms built in.Itprovides various ready-to-use prediction algorithms such as baseline algorithms, neighborhood methods, matrix factorization-based ( SVD, PMF, SVD++, NMF), and many others. Also, various similarity measures (cosine, MSD, pearson…) are built-in.\n",
    "\n",
    "In this case, I need to load in a custom dataset to use with Surprise. According to the documentation, we need to make sure our data frame has three columns: the user ids, the item ids, and the ratings. Additionally, we'll need to specify the rating scale. In our case, users has used the ratings discretely from 1 to 5.\n",
    "\n",
    "With the Surprise library, I use below algorithms\n",
    "\n",
    "* <b>BaselineOnly:</b>Algorithm predicting the baseline estimate for a given user and item.\n",
    "        \n",
    "* <b>KNNBaseline:</b>A basic collaborative filtering algorithm taking into account a baseline rating.\n",
    "    \n",
    "* <b>NMF:</b>A collaborative filtering algorithm based on Non-negative Matrix Factorization. \n",
    "    \n",
    "* <b>Co-clustering:</b>A collaborative filtering algorithm based on co-clustering.\n",
    "\n",
    "* <b>SVD:</b>When baselines are not used, this is equivalent to Probabilistic Matrix Factorization, it is as popularized by Simon Funk during the Netflix Prize\n",
    "    \n",
    "I'm also split the data into training and testing data using the Surprise package\n"
   ]
  },
  {
   "cell_type": "code",
   "execution_count": 4,
   "id": "5bd6e0a0",
   "metadata": {},
   "outputs": [],
   "source": [
    "import pandas as pd\n",
    "from surprise import Reader\n",
    "from surprise import Dataset\n",
    "from surprise.model_selection import cross_validate\n",
    "from surprise import BaselineOnly\n",
    "from surprise import SVD\n",
    "from surprise import CoClustering\n",
    "from surprise.accuracy import rmse\n",
    "from surprise import accuracy\n",
    "from surprise.model_selection import train_test_split"
   ]
  },
  {
   "cell_type": "markdown",
   "id": "076b1452",
   "metadata": {},
   "source": [
    "To load a dataset from a pandas dataframe, we will use the load_from_df() method, we will also need a Reader object, and the rating_scale parameter must be specified. The dataframe must have three columns, corresponding to the user ids, the item ids, and the ratings in this order. Each row thus corresponds to a given rating."
   ]
  },
  {
   "cell_type": "code",
   "execution_count": 5,
   "id": "f9c35ffc",
   "metadata": {},
   "outputs": [],
   "source": [
    "reader = Reader(rating_scale=(0, 9))\n",
    "data = Dataset.load_from_df(dfr[['reviewerId', 'productId', 'ratings']], reader)"
   ]
  },
  {
   "cell_type": "code",
   "execution_count": 6,
   "id": "a30e7818",
   "metadata": {},
   "outputs": [
    {
     "name": "stdout",
     "output_type": "stream",
     "text": [
      "Estimating biases using als...\n",
      "Estimating biases using als...\n",
      "Estimating biases using als...\n"
     ]
    }
   ],
   "source": [
    "algoresults = []\n",
    "algorithm = BaselineOnly()\n",
    "\n",
    "# using baselineOnly Perform cross validation\n",
    "results = cross_validate(algorithm, data, measures=['RMSE', 'MAE'], cv=3, verbose=False)\n",
    "\n",
    "# Get results & append algorithm name\n",
    "tmp = pd.DataFrame.from_dict(results).mean(axis=0)\n",
    "tmp = tmp.append(pd.Series(str('BaselineOnly()'), index=['Algorithm']))\n",
    "algoresults.append(tmp)"
   ]
  },
  {
   "cell_type": "code",
   "execution_count": 11,
   "id": "6fb1ec33",
   "metadata": {},
   "outputs": [],
   "source": [
    "# using SVD Perform cross validation\n",
    "algorithm = SVD()\n",
    "results = cross_validate(algorithm, data, measures=['RMSE', 'MAE'], cv=3, verbose=False)\n",
    "    \n",
    "# Get results & append algorithm name\n",
    "tmp = pd.DataFrame.from_dict(results).mean(axis=0)\n",
    "tmp = tmp.append(pd.Series(str('SVD()'), index=['Algorithm']))\n",
    "algoresults.append(tmp)"
   ]
  },
  {
   "cell_type": "code",
   "execution_count": 12,
   "id": "100ce83a",
   "metadata": {},
   "outputs": [],
   "source": [
    "# using Coclustering Perform cross validation\n",
    "algorithm = CoClustering()\n",
    "results = cross_validate(algorithm, data, measures=['RMSE', 'MAE'], cv=3, verbose=False)\n",
    "    \n",
    "# Get results & append algorithm name\n",
    "tmp = pd.DataFrame.from_dict(results).mean(axis=0)\n",
    "tmp = tmp.append(pd.Series(str('CoClustering()'), index=['Algorithm']))\n",
    "algoresults.append(tmp)"
   ]
  },
  {
   "cell_type": "code",
   "execution_count": 13,
   "id": "4e71b8fa",
   "metadata": {},
   "outputs": [
    {
     "data": {
      "text/html": [
       "<div>\n",
       "<style scoped>\n",
       "    .dataframe tbody tr th:only-of-type {\n",
       "        vertical-align: middle;\n",
       "    }\n",
       "\n",
       "    .dataframe tbody tr th {\n",
       "        vertical-align: top;\n",
       "    }\n",
       "\n",
       "    .dataframe thead th {\n",
       "        text-align: right;\n",
       "    }\n",
       "</style>\n",
       "<table border=\"1\" class=\"dataframe\">\n",
       "  <thead>\n",
       "    <tr style=\"text-align: right;\">\n",
       "      <th></th>\n",
       "      <th>test_rmse</th>\n",
       "      <th>test_mae</th>\n",
       "      <th>fit_time</th>\n",
       "      <th>test_time</th>\n",
       "    </tr>\n",
       "    <tr>\n",
       "      <th>Algorithm</th>\n",
       "      <th></th>\n",
       "      <th></th>\n",
       "      <th></th>\n",
       "      <th></th>\n",
       "    </tr>\n",
       "  </thead>\n",
       "  <tbody>\n",
       "    <tr>\n",
       "      <th>BaselineOnly()</th>\n",
       "      <td>1.103059</td>\n",
       "      <td>0.832514</td>\n",
       "      <td>6.537677</td>\n",
       "      <td>5.055301</td>\n",
       "    </tr>\n",
       "    <tr>\n",
       "      <th>SVD()</th>\n",
       "      <td>1.107070</td>\n",
       "      <td>0.827417</td>\n",
       "      <td>66.756933</td>\n",
       "      <td>5.729319</td>\n",
       "    </tr>\n",
       "    <tr>\n",
       "      <th>SVD()</th>\n",
       "      <td>1.107347</td>\n",
       "      <td>0.827523</td>\n",
       "      <td>68.095149</td>\n",
       "      <td>5.761160</td>\n",
       "    </tr>\n",
       "    <tr>\n",
       "      <th>CoClustering()</th>\n",
       "      <td>1.234483</td>\n",
       "      <td>0.908610</td>\n",
       "      <td>60.349193</td>\n",
       "      <td>5.203793</td>\n",
       "    </tr>\n",
       "    <tr>\n",
       "      <th>CoClustering()</th>\n",
       "      <td>1.240402</td>\n",
       "      <td>0.912715</td>\n",
       "      <td>55.310668</td>\n",
       "      <td>4.777427</td>\n",
       "    </tr>\n",
       "  </tbody>\n",
       "</table>\n",
       "</div>"
      ],
      "text/plain": [
       "                test_rmse  test_mae   fit_time  test_time\n",
       "Algorithm                                                \n",
       "BaselineOnly()   1.103059  0.832514   6.537677   5.055301\n",
       "SVD()            1.107070  0.827417  66.756933   5.729319\n",
       "SVD()            1.107347  0.827523  68.095149   5.761160\n",
       "CoClustering()   1.234483  0.908610  60.349193   5.203793\n",
       "CoClustering()   1.240402  0.912715  55.310668   4.777427"
      ]
     },
     "execution_count": 13,
     "metadata": {},
     "output_type": "execute_result"
    }
   ],
   "source": [
    "surprise_results = pd.DataFrame(algoresults).set_index('Algorithm').sort_values('test_rmse')\n",
    "surprise_results"
   ]
  },
  {
   "cell_type": "markdown",
   "id": "a18aea8d",
   "metadata": {},
   "source": [
    "BaselineOnly algorithm gave us the best rmse, therefore, we will proceed further with BaselineOnly and use Alternating Least Squares (ALS)."
   ]
  },
  {
   "cell_type": "markdown",
   "id": "30797a3a",
   "metadata": {},
   "source": [
    "### Split and fine tune "
   ]
  },
  {
   "cell_type": "code",
   "execution_count": 15,
   "id": "ddb93bc9",
   "metadata": {},
   "outputs": [
    {
     "name": "stdout",
     "output_type": "stream",
     "text": [
      "Estimating biases using als...\n",
      "RMSE: 1.0966\n"
     ]
    },
    {
     "data": {
      "text/plain": [
       "1.0965603892042317"
      ]
     },
     "execution_count": 15,
     "metadata": {},
     "output_type": "execute_result"
    }
   ],
   "source": [
    "#ref :https://surprise.readthedocs.io/en/latest/prediction_algorithms.html\n",
    "trainset, testset = train_test_split(data, test_size=0.25)\n",
    "bsl_options = {'method': 'als','n_epochs': 10,'reg_u': 12,'reg_i': 10}\n",
    "algo = BaselineOnly(bsl_options=bsl_options)\n",
    "predictions = algo.fit(trainset).test(testset)\n",
    "accuracy.rmse(predictions)"
   ]
  },
  {
   "cell_type": "code",
   "execution_count": 16,
   "id": "5684c55f",
   "metadata": {},
   "outputs": [
    {
     "data": {
      "text/plain": [
       "[Prediction(uid='A1TWU0R0BB40UY', iid='B00918N4A0', r_ui=4.0, est=4.4966829821499115, details={'was_impossible': False}),\n",
       " Prediction(uid='A51LSGKI6ESTP', iid='B00009W44B', r_ui=1.0, est=4.002538708272469, details={'was_impossible': False}),\n",
       " Prediction(uid='A1PPGC5RH5MP8I', iid='B007R7DTRK', r_ui=5.0, est=4.594693830896099, details={'was_impossible': False}),\n",
       " Prediction(uid='A16XRPF40679KG', iid='B001U3Y5TI', r_ui=5.0, est=4.200104226616243, details={'was_impossible': False}),\n",
       " Prediction(uid='A169SWTUA8JKH0', iid='B004E10KFG', r_ui=2.0, est=3.768660666389859, details={'was_impossible': False})]"
      ]
     },
     "execution_count": 16,
     "metadata": {},
     "output_type": "execute_result"
    }
   ],
   "source": [
    "predictions[:5]"
   ]
  },
  {
   "cell_type": "markdown",
   "id": "281d1088",
   "metadata": {},
   "source": [
    "Let me use the train_test_split() to sample a trainset and a testset, and use the accuracy metric of rmse. Then use the fit() method to train the algorithm on the trainset, and the test() method which will return the predictions made from the testset"
   ]
  },
  {
   "cell_type": "code",
   "execution_count": 17,
   "id": "e288e382",
   "metadata": {},
   "outputs": [],
   "source": [
    "def get_itemsCounts_byReviewer(uid):\n",
    "    \"\"\"uid: the id of the user,returns:the number of items rated by the user \"\"\"\n",
    "    try:\n",
    "        return len(trainset.ur[trainset.to_inner_uid(uid)])\n",
    "    except ValueError: # user was not part of the trainset\n",
    "        return 0\n",
    "    \n",
    "    \n",
    "def get_reviwerCounts_forItem(iid):\n",
    "    \"\"\" iid: the raw id of the item,returns:the number of users that have rated the item.\"\"\"\n",
    "    try: \n",
    "        return len(trainset.ir[trainset.to_inner_iid(iid)])\n",
    "    except ValueError:\n",
    "        return 0\n",
    "    \n",
    "df = pd.DataFrame(predictions, columns=['uid', 'iid', 'rui', 'est', 'details'])\n",
    "df['itemsCounts_byReviewer'] = df.uid.apply(get_itemsCounts_byReviewer)\n",
    "df['reviwerCounts_forItem'] = df.iid.apply(get_reviwerCounts_forItem)\n",
    "df['err'] = abs(df.est - df.rui)"
   ]
  },
  {
   "cell_type": "code",
   "execution_count": 18,
   "id": "c556e267",
   "metadata": {},
   "outputs": [],
   "source": [
    "df = df.rename(columns={'uid': 'reviewerId'})\n",
    "df = df.rename(columns={'iid': 'productId'})\n",
    "df = df.rename(columns={'rui': 'ratings'})\n",
    "df = df.rename(columns={'est': 'predicted Ratings'})\n",
    "df=df.drop(['details'],axis = 1)"
   ]
  },
  {
   "cell_type": "code",
   "execution_count": 19,
   "id": "25fc428d",
   "metadata": {},
   "outputs": [
    {
     "data": {
      "text/html": [
       "<div>\n",
       "<style scoped>\n",
       "    .dataframe tbody tr th:only-of-type {\n",
       "        vertical-align: middle;\n",
       "    }\n",
       "\n",
       "    .dataframe tbody tr th {\n",
       "        vertical-align: top;\n",
       "    }\n",
       "\n",
       "    .dataframe thead th {\n",
       "        text-align: right;\n",
       "    }\n",
       "</style>\n",
       "<table border=\"1\" class=\"dataframe\">\n",
       "  <thead>\n",
       "    <tr style=\"text-align: right;\">\n",
       "      <th></th>\n",
       "      <th>reviewerId</th>\n",
       "      <th>productId</th>\n",
       "      <th>ratings</th>\n",
       "      <th>predicted Ratings</th>\n",
       "      <th>itemsCounts_byReviewer</th>\n",
       "      <th>reviwerCounts_forItem</th>\n",
       "      <th>err</th>\n",
       "    </tr>\n",
       "  </thead>\n",
       "  <tbody>\n",
       "    <tr>\n",
       "      <th>0</th>\n",
       "      <td>A1TWU0R0BB40UY</td>\n",
       "      <td>B00918N4A0</td>\n",
       "      <td>4.0</td>\n",
       "      <td>4.496683</td>\n",
       "      <td>5</td>\n",
       "      <td>10</td>\n",
       "      <td>0.496683</td>\n",
       "    </tr>\n",
       "    <tr>\n",
       "      <th>1</th>\n",
       "      <td>A51LSGKI6ESTP</td>\n",
       "      <td>B00009W44B</td>\n",
       "      <td>1.0</td>\n",
       "      <td>4.002539</td>\n",
       "      <td>2</td>\n",
       "      <td>13</td>\n",
       "      <td>3.002539</td>\n",
       "    </tr>\n",
       "    <tr>\n",
       "      <th>2</th>\n",
       "      <td>A1PPGC5RH5MP8I</td>\n",
       "      <td>B007R7DTRK</td>\n",
       "      <td>5.0</td>\n",
       "      <td>4.594694</td>\n",
       "      <td>12</td>\n",
       "      <td>7</td>\n",
       "      <td>0.405306</td>\n",
       "    </tr>\n",
       "    <tr>\n",
       "      <th>3</th>\n",
       "      <td>A16XRPF40679KG</td>\n",
       "      <td>B001U3Y5TI</td>\n",
       "      <td>5.0</td>\n",
       "      <td>4.200104</td>\n",
       "      <td>12</td>\n",
       "      <td>8</td>\n",
       "      <td>0.799896</td>\n",
       "    </tr>\n",
       "    <tr>\n",
       "      <th>4</th>\n",
       "      <td>A169SWTUA8JKH0</td>\n",
       "      <td>B004E10KFG</td>\n",
       "      <td>2.0</td>\n",
       "      <td>3.768661</td>\n",
       "      <td>3</td>\n",
       "      <td>355</td>\n",
       "      <td>1.768661</td>\n",
       "    </tr>\n",
       "  </tbody>\n",
       "</table>\n",
       "</div>"
      ],
      "text/plain": [
       "       reviewerId   productId  ratings  predicted Ratings  \\\n",
       "0  A1TWU0R0BB40UY  B00918N4A0      4.0           4.496683   \n",
       "1   A51LSGKI6ESTP  B00009W44B      1.0           4.002539   \n",
       "2  A1PPGC5RH5MP8I  B007R7DTRK      5.0           4.594694   \n",
       "3  A16XRPF40679KG  B001U3Y5TI      5.0           4.200104   \n",
       "4  A169SWTUA8JKH0  B004E10KFG      2.0           3.768661   \n",
       "\n",
       "   itemsCounts_byReviewer  reviwerCounts_forItem       err  \n",
       "0                       5                     10  0.496683  \n",
       "1                       2                     13  3.002539  \n",
       "2                      12                      7  0.405306  \n",
       "3                      12                      8  0.799896  \n",
       "4                       3                    355  1.768661  "
      ]
     },
     "execution_count": 19,
     "metadata": {},
     "output_type": "execute_result"
    }
   ],
   "source": [
    "df.head()"
   ]
  },
  {
   "cell_type": "code",
   "execution_count": 20,
   "id": "ac06761d",
   "metadata": {},
   "outputs": [],
   "source": [
    "best_predictions = df.sort_values(by='err')[:10]\n",
    "worst_predictions = df.sort_values(by='err')[-10:]"
   ]
  },
  {
   "cell_type": "code",
   "execution_count": 21,
   "id": "a4f62a99",
   "metadata": {},
   "outputs": [
    {
     "data": {
      "text/html": [
       "<div>\n",
       "<style scoped>\n",
       "    .dataframe tbody tr th:only-of-type {\n",
       "        vertical-align: middle;\n",
       "    }\n",
       "\n",
       "    .dataframe tbody tr th {\n",
       "        vertical-align: top;\n",
       "    }\n",
       "\n",
       "    .dataframe thead th {\n",
       "        text-align: right;\n",
       "    }\n",
       "</style>\n",
       "<table border=\"1\" class=\"dataframe\">\n",
       "  <thead>\n",
       "    <tr style=\"text-align: right;\">\n",
       "      <th></th>\n",
       "      <th>reviewerId</th>\n",
       "      <th>productId</th>\n",
       "      <th>ratings</th>\n",
       "      <th>predicted Ratings</th>\n",
       "      <th>itemsCounts_byReviewer</th>\n",
       "      <th>reviwerCounts_forItem</th>\n",
       "      <th>err</th>\n",
       "    </tr>\n",
       "  </thead>\n",
       "  <tbody>\n",
       "    <tr>\n",
       "      <th>368795</th>\n",
       "      <td>A2NFSABGJPM2VN</td>\n",
       "      <td>B007R5YDYA</td>\n",
       "      <td>5.0</td>\n",
       "      <td>4.999994</td>\n",
       "      <td>8</td>\n",
       "      <td>802</td>\n",
       "      <td>0.000006</td>\n",
       "    </tr>\n",
       "    <tr>\n",
       "      <th>245433</th>\n",
       "      <td>A1VIJNOIG8BEZ0</td>\n",
       "      <td>B008OHNZI0</td>\n",
       "      <td>4.0</td>\n",
       "      <td>4.000012</td>\n",
       "      <td>4</td>\n",
       "      <td>975</td>\n",
       "      <td>0.000012</td>\n",
       "    </tr>\n",
       "    <tr>\n",
       "      <th>63491</th>\n",
       "      <td>A22X35CEX6STB3</td>\n",
       "      <td>B005I2IVB0</td>\n",
       "      <td>4.0</td>\n",
       "      <td>3.999985</td>\n",
       "      <td>2</td>\n",
       "      <td>21</td>\n",
       "      <td>0.000015</td>\n",
       "    </tr>\n",
       "    <tr>\n",
       "      <th>381733</th>\n",
       "      <td>A2JX5WDY0UQCFK</td>\n",
       "      <td>B002IT1BFO</td>\n",
       "      <td>4.0</td>\n",
       "      <td>3.999982</td>\n",
       "      <td>3</td>\n",
       "      <td>28</td>\n",
       "      <td>0.000018</td>\n",
       "    </tr>\n",
       "    <tr>\n",
       "      <th>80595</th>\n",
       "      <td>AEW4HSN0NS2RI</td>\n",
       "      <td>B001Q6TZ5S</td>\n",
       "      <td>4.0</td>\n",
       "      <td>4.000031</td>\n",
       "      <td>3</td>\n",
       "      <td>85</td>\n",
       "      <td>0.000031</td>\n",
       "    </tr>\n",
       "    <tr>\n",
       "      <th>396534</th>\n",
       "      <td>AETQIN7OH0RL9</td>\n",
       "      <td>B0000BZL5A</td>\n",
       "      <td>4.0</td>\n",
       "      <td>4.000041</td>\n",
       "      <td>37</td>\n",
       "      <td>102</td>\n",
       "      <td>0.000041</td>\n",
       "    </tr>\n",
       "    <tr>\n",
       "      <th>272088</th>\n",
       "      <td>A200BNTIJC2LQO</td>\n",
       "      <td>B007CO5DZ4</td>\n",
       "      <td>4.0</td>\n",
       "      <td>4.000042</td>\n",
       "      <td>5</td>\n",
       "      <td>140</td>\n",
       "      <td>0.000042</td>\n",
       "    </tr>\n",
       "    <tr>\n",
       "      <th>213481</th>\n",
       "      <td>A2PSVETZUVZUQR</td>\n",
       "      <td>B0096YOQRY</td>\n",
       "      <td>4.0</td>\n",
       "      <td>4.000048</td>\n",
       "      <td>5</td>\n",
       "      <td>340</td>\n",
       "      <td>0.000048</td>\n",
       "    </tr>\n",
       "    <tr>\n",
       "      <th>293874</th>\n",
       "      <td>A2WA8TDCTGUADI</td>\n",
       "      <td>B008X1BVH4</td>\n",
       "      <td>4.0</td>\n",
       "      <td>4.000053</td>\n",
       "      <td>41</td>\n",
       "      <td>25</td>\n",
       "      <td>0.000053</td>\n",
       "    </tr>\n",
       "    <tr>\n",
       "      <th>323810</th>\n",
       "      <td>A35NSIHU4KL51A</td>\n",
       "      <td>B000M3GODW</td>\n",
       "      <td>4.0</td>\n",
       "      <td>4.000054</td>\n",
       "      <td>3</td>\n",
       "      <td>95</td>\n",
       "      <td>0.000054</td>\n",
       "    </tr>\n",
       "  </tbody>\n",
       "</table>\n",
       "</div>"
      ],
      "text/plain": [
       "            reviewerId   productId  ratings  predicted Ratings  \\\n",
       "368795  A2NFSABGJPM2VN  B007R5YDYA      5.0           4.999994   \n",
       "245433  A1VIJNOIG8BEZ0  B008OHNZI0      4.0           4.000012   \n",
       "63491   A22X35CEX6STB3  B005I2IVB0      4.0           3.999985   \n",
       "381733  A2JX5WDY0UQCFK  B002IT1BFO      4.0           3.999982   \n",
       "80595    AEW4HSN0NS2RI  B001Q6TZ5S      4.0           4.000031   \n",
       "396534   AETQIN7OH0RL9  B0000BZL5A      4.0           4.000041   \n",
       "272088  A200BNTIJC2LQO  B007CO5DZ4      4.0           4.000042   \n",
       "213481  A2PSVETZUVZUQR  B0096YOQRY      4.0           4.000048   \n",
       "293874  A2WA8TDCTGUADI  B008X1BVH4      4.0           4.000053   \n",
       "323810  A35NSIHU4KL51A  B000M3GODW      4.0           4.000054   \n",
       "\n",
       "        itemsCounts_byReviewer  reviwerCounts_forItem       err  \n",
       "368795                       8                    802  0.000006  \n",
       "245433                       4                    975  0.000012  \n",
       "63491                        2                     21  0.000015  \n",
       "381733                       3                     28  0.000018  \n",
       "80595                        3                     85  0.000031  \n",
       "396534                      37                    102  0.000041  \n",
       "272088                       5                    140  0.000042  \n",
       "213481                       5                    340  0.000048  \n",
       "293874                      41                     25  0.000053  \n",
       "323810                       3                     95  0.000054  "
      ]
     },
     "execution_count": 21,
     "metadata": {},
     "output_type": "execute_result"
    }
   ],
   "source": [
    "best_predictions"
   ]
  },
  {
   "cell_type": "markdown",
   "id": "6d36ae38",
   "metadata": {},
   "source": [
    "The above are the top 10 best Predictions. The product 'B00CO8TBOW' is rated best with ratings 5 and 102 reviewer rated the this product.\n",
    "Followed by B004R0RQ8S and B000PCBVA6"
   ]
  },
  {
   "cell_type": "code",
   "execution_count": 22,
   "id": "89f12918",
   "metadata": {},
   "outputs": [
    {
     "data": {
      "text/html": [
       "<div>\n",
       "<style scoped>\n",
       "    .dataframe tbody tr th:only-of-type {\n",
       "        vertical-align: middle;\n",
       "    }\n",
       "\n",
       "    .dataframe tbody tr th {\n",
       "        vertical-align: top;\n",
       "    }\n",
       "\n",
       "    .dataframe thead th {\n",
       "        text-align: right;\n",
       "    }\n",
       "</style>\n",
       "<table border=\"1\" class=\"dataframe\">\n",
       "  <thead>\n",
       "    <tr style=\"text-align: right;\">\n",
       "      <th></th>\n",
       "      <th>reviewerId</th>\n",
       "      <th>productId</th>\n",
       "      <th>ratings</th>\n",
       "      <th>predicted Ratings</th>\n",
       "      <th>itemsCounts_byReviewer</th>\n",
       "      <th>reviwerCounts_forItem</th>\n",
       "      <th>err</th>\n",
       "    </tr>\n",
       "  </thead>\n",
       "  <tbody>\n",
       "    <tr>\n",
       "      <th>386713</th>\n",
       "      <td>A3V0D97QKXDN5R</td>\n",
       "      <td>B003ES5ZUU</td>\n",
       "      <td>1.0</td>\n",
       "      <td>4.993414</td>\n",
       "      <td>11</td>\n",
       "      <td>3097</td>\n",
       "      <td>3.993414</td>\n",
       "    </tr>\n",
       "    <tr>\n",
       "      <th>370237</th>\n",
       "      <td>A3M6HVV3XJPLS7</td>\n",
       "      <td>B000JLP5UK</td>\n",
       "      <td>1.0</td>\n",
       "      <td>5.013205</td>\n",
       "      <td>9</td>\n",
       "      <td>63</td>\n",
       "      <td>4.013205</td>\n",
       "    </tr>\n",
       "    <tr>\n",
       "      <th>69204</th>\n",
       "      <td>A201HVME20DUW0</td>\n",
       "      <td>B0043WJRRS</td>\n",
       "      <td>1.0</td>\n",
       "      <td>5.016983</td>\n",
       "      <td>8</td>\n",
       "      <td>440</td>\n",
       "      <td>4.016983</td>\n",
       "    </tr>\n",
       "    <tr>\n",
       "      <th>241677</th>\n",
       "      <td>A2SKEQT0WTB954</td>\n",
       "      <td>B00005ABC5</td>\n",
       "      <td>1.0</td>\n",
       "      <td>5.018741</td>\n",
       "      <td>76</td>\n",
       "      <td>37</td>\n",
       "      <td>4.018741</td>\n",
       "    </tr>\n",
       "    <tr>\n",
       "      <th>223735</th>\n",
       "      <td>A1JRD0WYIOFRJY</td>\n",
       "      <td>B00GTGETFG</td>\n",
       "      <td>1.0</td>\n",
       "      <td>5.025394</td>\n",
       "      <td>7</td>\n",
       "      <td>514</td>\n",
       "      <td>4.025394</td>\n",
       "    </tr>\n",
       "    <tr>\n",
       "      <th>360049</th>\n",
       "      <td>ARGO3CB3O9DXZ</td>\n",
       "      <td>B0006I1TRY</td>\n",
       "      <td>1.0</td>\n",
       "      <td>5.044767</td>\n",
       "      <td>15</td>\n",
       "      <td>120</td>\n",
       "      <td>4.044767</td>\n",
       "    </tr>\n",
       "    <tr>\n",
       "      <th>193419</th>\n",
       "      <td>A3LAUW2UZ5SWS6</td>\n",
       "      <td>B0095ZC7VQ</td>\n",
       "      <td>1.0</td>\n",
       "      <td>5.053597</td>\n",
       "      <td>10</td>\n",
       "      <td>37</td>\n",
       "      <td>4.053597</td>\n",
       "    </tr>\n",
       "    <tr>\n",
       "      <th>404893</th>\n",
       "      <td>A2M6JXJ94DS4YJ</td>\n",
       "      <td>B0011UPBMA</td>\n",
       "      <td>1.0</td>\n",
       "      <td>5.073686</td>\n",
       "      <td>15</td>\n",
       "      <td>32</td>\n",
       "      <td>4.073686</td>\n",
       "    </tr>\n",
       "    <tr>\n",
       "      <th>155526</th>\n",
       "      <td>A18QOK7A5XLV1Q</td>\n",
       "      <td>B001KB6Z2U</td>\n",
       "      <td>1.0</td>\n",
       "      <td>5.088349</td>\n",
       "      <td>15</td>\n",
       "      <td>131</td>\n",
       "      <td>4.088349</td>\n",
       "    </tr>\n",
       "    <tr>\n",
       "      <th>231799</th>\n",
       "      <td>A19IH70IIDS31C</td>\n",
       "      <td>B007SZ0EOW</td>\n",
       "      <td>1.0</td>\n",
       "      <td>5.174732</td>\n",
       "      <td>27</td>\n",
       "      <td>157</td>\n",
       "      <td>4.174732</td>\n",
       "    </tr>\n",
       "  </tbody>\n",
       "</table>\n",
       "</div>"
      ],
      "text/plain": [
       "            reviewerId   productId  ratings  predicted Ratings  \\\n",
       "386713  A3V0D97QKXDN5R  B003ES5ZUU      1.0           4.993414   \n",
       "370237  A3M6HVV3XJPLS7  B000JLP5UK      1.0           5.013205   \n",
       "69204   A201HVME20DUW0  B0043WJRRS      1.0           5.016983   \n",
       "241677  A2SKEQT0WTB954  B00005ABC5      1.0           5.018741   \n",
       "223735  A1JRD0WYIOFRJY  B00GTGETFG      1.0           5.025394   \n",
       "360049   ARGO3CB3O9DXZ  B0006I1TRY      1.0           5.044767   \n",
       "193419  A3LAUW2UZ5SWS6  B0095ZC7VQ      1.0           5.053597   \n",
       "404893  A2M6JXJ94DS4YJ  B0011UPBMA      1.0           5.073686   \n",
       "155526  A18QOK7A5XLV1Q  B001KB6Z2U      1.0           5.088349   \n",
       "231799  A19IH70IIDS31C  B007SZ0EOW      1.0           5.174732   \n",
       "\n",
       "        itemsCounts_byReviewer  reviwerCounts_forItem       err  \n",
       "386713                      11                   3097  3.993414  \n",
       "370237                       9                     63  4.013205  \n",
       "69204                        8                    440  4.016983  \n",
       "241677                      76                     37  4.018741  \n",
       "223735                       7                    514  4.025394  \n",
       "360049                      15                    120  4.044767  \n",
       "193419                      10                     37  4.053597  \n",
       "404893                      15                     32  4.073686  \n",
       "155526                      15                    131  4.088349  \n",
       "231799                      27                    157  4.174732  "
      ]
     },
     "execution_count": 22,
     "metadata": {},
     "output_type": "execute_result"
    }
   ],
   "source": [
    "worst_predictions"
   ]
  },
  {
   "cell_type": "markdown",
   "id": "95a2f01b",
   "metadata": {},
   "source": [
    "The above the bottom 10 predictions, can safely categorized under worst predictions. The B007P4VOWC is rated 1 and reviwed by 606 reviewer.\n",
    "Followed by B003GSLU3E and B004X68JPK."
   ]
  },
  {
   "cell_type": "markdown",
   "id": "f3853791",
   "metadata": {},
   "source": [
    "The author of Surprise has written a function we can use to get the top-N recommendations for each user in our dataset. \n",
    "I'll be using <a href = https://surprise.readthedocs.io/en/stable/FAQ.html#how-to-get-the-top-n-recommendations-for-each-user>same function.</a>"
   ]
  },
  {
   "cell_type": "code",
   "execution_count": 23,
   "id": "bf947af3",
   "metadata": {},
   "outputs": [],
   "source": [
    "from collections import defaultdict\n",
    "\n",
    "\"\"\"Return the top-N recommendation for each user from a set of predictions.\n",
    "    Args:\n",
    "        predictions(list of Prediction objects): The list of predictions, as\n",
    "            returned by the test method of an algorithm.\n",
    "        n(int): The number of recommendation to output for each user. Default\n",
    "            is 10.\n",
    "    Returns:\n",
    "    A dict where keys are user (raw) ids and values are lists of tuples:\n",
    "        [(raw item id, rating estimation), ...] of size n.\n",
    "\"\"\"\n",
    "\n",
    "def get_top_n(predictions, n=10):\n",
    "\n",
    "    # First map the predictions to each user.\n",
    "    top_n = defaultdict(list)\n",
    "    for uid, iid, true_r, est, _ in predictions:\n",
    "        top_n[uid].append((iid, round(est,2)))\n",
    "\n",
    "    # Then sort the predictions for each user and retrieve the k highest ones.\n",
    "    for uid, user_ratings in top_n.items():\n",
    "        user_ratings.sort(key=lambda x: x[1], reverse=True)\n",
    "        top_n[uid] = user_ratings[:n]\n",
    "\n",
    "    return top_n\n",
    "\n",
    "\n",
    "top_n = get_top_n(predictions, n=10)"
   ]
  },
  {
   "cell_type": "code",
   "execution_count": 24,
   "id": "a20534ec",
   "metadata": {},
   "outputs": [
    {
     "data": {
      "text/plain": [
       "'for uid, user_ratings in top_n.items():\\n    print(uid, [iid for (iid, _) in user_ratings])\\n'"
      ]
     },
     "execution_count": 24,
     "metadata": {},
     "output_type": "execute_result"
    }
   ],
   "source": [
    "# Print the recommended items for each user\n",
    "'''for uid, user_ratings in top_n.items():\n",
    "    print(uid, [iid for (iid, _) in user_ratings])\n",
    "'''"
   ]
  },
  {
   "cell_type": "code",
   "execution_count": 25,
   "id": "292f9455",
   "metadata": {},
   "outputs": [],
   "source": [
    "Recom = {}\n",
    "for i in range(10):\n",
    "    Recom[dfr.reviewerId[i]] = top_n[dfr.reviewerId[i]]"
   ]
  },
  {
   "cell_type": "code",
   "execution_count": 26,
   "id": "e975be75",
   "metadata": {},
   "outputs": [
    {
     "name": "stdout",
     "output_type": "stream",
     "text": [
      "AO94DHGC771SJ [('B0096TK6MI', 4.55), ('B001TQSFXS', 4.45)]\n",
      "AMO214LNFCEI4 []\n",
      "A3N7T0DY83Y4IG [('B004AX6Z3Y', 4.28), ('B0036UU40C', 4.26), ('0528881469', 3.79)]\n",
      "A1H8PY3QHMQQA0 [('B00005AXHW', 4.69), ('B00BNIO4H8', 4.66), ('B0051WAM64', 4.57), ('B005MHN6K2', 4.47), ('B001FOM1T8', 4.05)]\n",
      "A24EV6RXELQZ63 [('B001212ELY', 3.98)]\n",
      "A2JXAZZI9PHK9Z [('B003TPC2JU', 4.43), ('0594451647', 4.12), ('B000GD3J3G', 4.09), ('B009X676NQ', 4.03)]\n",
      "A2P5U7BDKKT7FW [('B00BJN502A', 4.2)]\n",
      "AAZ084UMH8VZ2 [('B00DR0PDNE', 4.33)]\n",
      "AEZ3CR6BKIROJ [('B00BP5N498', 4.08)]\n",
      "A3BY5KCNQZXV5U [('B000QUUFRW', 4.93), ('B003XM73P2', 4.87), ('B002K450RM', 4.66), ('B00603RU9A', 4.64), ('B0007Y794O', 4.64), ('B00BN1Q5JA', 4.56), ('B001W6Q2H6', 4.5), ('B004OOTRPC', 4.48), ('B005B47AIU', 4.47), ('B0076AUCKU', 4.45)]\n"
     ]
    }
   ],
   "source": [
    "for i in Recom :\n",
    "    print(i, Recom[i])"
   ]
  },
  {
   "cell_type": "markdown",
   "id": "7231a87f",
   "metadata": {},
   "source": [
    "This function doesn't always recommend ten items. May be because the data is very sparse, and there is a high number of customers who have only rated one product, as well as many products that have only one rating. "
   ]
  },
  {
   "cell_type": "markdown",
   "id": "cf584a7b",
   "metadata": {},
   "source": [
    "A simple yet effective way to generate recommendations is to recommend the most popular products."
   ]
  },
  {
   "cell_type": "markdown",
   "id": "7242c398",
   "metadata": {},
   "source": [
    "First, I need to build a dataset of popular products. Each person could define popular in a different way, but in this scenario I'm only going to consider products that have received at least 100 reviews. Then, I'll find the average rating for each product and sort them in descending order."
   ]
  },
  {
   "cell_type": "code",
   "execution_count": 27,
   "id": "69debb3c",
   "metadata": {},
   "outputs": [],
   "source": [
    "review_count = dfr['productId'].value_counts()\n",
    "review_count_ten = review_count[review_count >= 100]\n",
    "hundred_reviews = dfr[dfr['productId'].isin(review_count_ten.index)]\n",
    "items = (hundred_reviews[['productId', 'ratings'\n",
    "                          ]].groupby('productId').agg('mean').sort_values(\n",
    "                              'ratings', ascending=False).index)"
   ]
  },
  {
   "cell_type": "markdown",
   "id": "f7b05ec3",
   "metadata": {},
   "source": [
    "Go over each user's recommendations and add the most popular products that aren't already recommended."
   ]
  },
  {
   "cell_type": "code",
   "execution_count": 28,
   "id": "9444efd6",
   "metadata": {},
   "outputs": [],
   "source": [
    "def recommendation_list(user_list, user_predictions, item_list):\n",
    "    recommendations = {}\n",
    "    for i in range(100):\n",
    "        user = user_list[i]\n",
    "        if user in user_predictions:\n",
    "            user_recs = [\n",
    "                user_predictions[user][i][0]\n",
    "                for i in range(len(user_predictions[user]))\n",
    "            ]\n",
    "            if user_recs:\n",
    "                num_items = len(user_recs)\n",
    "            else:\n",
    "                num_items = 0\n",
    "\n",
    "            idx = 0\n",
    "            while num_items < 10:\n",
    "                product = item_list[idx]\n",
    "                if product not in user_recs:\n",
    "                    user_recs.append(product)\n",
    "                    num_items = len(user_recs)\n",
    "                idx += 1\n",
    "            recommendations.update({user: user_recs})\n",
    "    return recommendations\n",
    "\n",
    "\n",
    "recs = recommendation_list(dfr['reviewerId'].unique().tolist(), top_n, items)"
   ]
  },
  {
   "cell_type": "code",
   "execution_count": 29,
   "id": "83b3f411",
   "metadata": {},
   "outputs": [
    {
     "data": {
      "text/plain": [
       "['B004EBUXHQ',\n",
       " 'B001BTCSI6',\n",
       " 'B0033PRWSW',\n",
       " 'B004FA8NOQ',\n",
       " 'B007SZ0E1K',\n",
       " 'B0029N3U8K',\n",
       " 'B003FVVMS0',\n",
       " 'B002NEGTSI',\n",
       " 'B000I1X3W8',\n",
       " 'B004EBX5GW']"
      ]
     },
     "execution_count": 29,
     "metadata": {},
     "output_type": "execute_result"
    }
   ],
   "source": [
    "example_user = dfr['reviewerId'].unique().tolist()[1]\n",
    "recs[example_user]"
   ]
  },
  {
   "cell_type": "markdown",
   "id": "9ef41c68",
   "metadata": {},
   "source": [
    "### Conclusion"
   ]
  },
  {
   "cell_type": "markdown",
   "id": "ac66fd12",
   "metadata": {},
   "source": [
    "There are a many ways to build and improve this recommender system.\n",
    "I couldn't use k-NN algorithms from the Surprise package, as it needs more memory, neither I could complete it on google colab.\n",
    "Use more tuned parameters\n",
    "I did some basic cross validation to select the best parameters. To improve the recommendations, tune these parameters and make sure that the algorithm is serving the best recommendations possible with the data available."
   ]
  },
  {
   "cell_type": "code",
   "execution_count": null,
   "id": "d7e43dc6",
   "metadata": {},
   "outputs": [],
   "source": []
  },
  {
   "cell_type": "code",
   "execution_count": null,
   "id": "38d00441",
   "metadata": {},
   "outputs": [],
   "source": []
  }
 ],
 "metadata": {
  "kernelspec": {
   "display_name": "Python 3",
   "language": "python",
   "name": "python3"
  },
  "language_info": {
   "codemirror_mode": {
    "name": "ipython",
    "version": 3
   },
   "file_extension": ".py",
   "mimetype": "text/x-python",
   "name": "python",
   "nbconvert_exporter": "python",
   "pygments_lexer": "ipython3",
   "version": "3.8.8"
  }
 },
 "nbformat": 4,
 "nbformat_minor": 5
}
