{
 "cells": [
  {
   "cell_type": "markdown",
   "id": "5eb21f4f",
   "metadata": {},
   "source": [
    "# Product Recommender for Online Stores"
   ]
  },
  {
   "cell_type": "markdown",
   "id": "57a65a0f",
   "metadata": {},
   "source": [
    "How online stores can help customers to buy the right product from their millions of products,so that online retailers can retain the customer from going elsewhere and see yearly increase in their average order value. Build a recommendation system so that customers can get the right product with personalized info."
   ]
  },
  {
   "cell_type": "markdown",
   "id": "f403d4b4",
   "metadata": {},
   "source": [
    "Online stores show millions of products to the customer from their catalog. Choosing the correct product for their needs is becoming difficult because of so much information.Since customers are more likely to buy based on personalized recommendations, management has decided to go for a recommendation system so that they can retain the customer and hence increase yearly product sales"
   ]
  },
  {
   "cell_type": "markdown",
   "id": "e84274d5",
   "metadata": {},
   "source": [
    "## Refernces"
   ]
  },
  {
   "cell_type": "markdown",
   "id": "d7c9fe6b",
   "metadata": {},
   "source": [
    "The dataset here is taken from the below website.\n",
    "\n",
    "Source - Amazon Reviews data (http://jmcauley.ucsd.edu/data/amazon/) The repository has several datasets. For this case study, I am using the Electronics dataset."
   ]
  },
  {
   "cell_type": "markdown",
   "id": "c51b5ba4",
   "metadata": {},
   "source": [
    "## Data Dictionary"
   ]
  },
  {
   "cell_type": "markdown",
   "id": "294f217c",
   "metadata": {},
   "source": [
    "### Sample review dataset:"
   ]
  },
  {
   "cell_type": "markdown",
   "id": "be99a55a",
   "metadata": {},
   "source": [
    "\"reviewerID\": \"A2SUAM1J3GNN3B\",  \n",
    "\"asin\": \"0000013714\",  \n",
    "\"reviewerName\": \"J. McDonald\",  \n",
    "\"helpful\": [2, 3],  \n",
    "\"reviewText\": \"I bought this for my husband who plays the piano.  He is having a wonderful time playing these old hymns.  The music  is at times hard to read because we think the book was published for singing from more than playing from.  Great purchase though!\",  \n",
    "\"overall\": 5.0,  \n",
    "\"summary\": \"Heavenly Highway Hymns\",  \n",
    "\"unixReviewTime\": 1252800000,  \n",
    "\"reviewTime\": \"09 13, 2009\"  "
   ]
  },
  {
   "cell_type": "markdown",
   "id": "396bf568",
   "metadata": {},
   "source": [
    "## Imports"
   ]
  },
  {
   "cell_type": "code",
   "execution_count": 1,
   "id": "44bc74cf",
   "metadata": {},
   "outputs": [],
   "source": [
    "import pandas as pd\n",
    "import numpy as np\n",
    "import matplotlib.pyplot as plt\n",
    "import seaborn as sns"
   ]
  },
  {
   "cell_type": "code",
   "execution_count": 2,
   "id": "5966191c",
   "metadata": {},
   "outputs": [],
   "source": [
    "dfr = pd.read_csv('../Data/Amzn_Electronics_Reviews.csv',header=0)"
   ]
  },
  {
   "cell_type": "code",
   "execution_count": 3,
   "id": "1cf9f6f0",
   "metadata": {},
   "outputs": [
    {
     "data": {
      "text/html": [
       "<div>\n",
       "<style scoped>\n",
       "    .dataframe tbody tr th:only-of-type {\n",
       "        vertical-align: middle;\n",
       "    }\n",
       "\n",
       "    .dataframe tbody tr th {\n",
       "        vertical-align: top;\n",
       "    }\n",
       "\n",
       "    .dataframe thead th {\n",
       "        text-align: right;\n",
       "    }\n",
       "</style>\n",
       "<table border=\"1\" class=\"dataframe\">\n",
       "  <thead>\n",
       "    <tr style=\"text-align: right;\">\n",
       "      <th></th>\n",
       "      <th>reviewerID</th>\n",
       "      <th>asin</th>\n",
       "      <th>reviewerName</th>\n",
       "      <th>helpful</th>\n",
       "      <th>reviewText</th>\n",
       "      <th>overall</th>\n",
       "      <th>summary</th>\n",
       "      <th>unixReviewTime</th>\n",
       "      <th>reviewTime</th>\n",
       "    </tr>\n",
       "  </thead>\n",
       "  <tbody>\n",
       "    <tr>\n",
       "      <th>0</th>\n",
       "      <td>AO94DHGC771SJ</td>\n",
       "      <td>0528881469</td>\n",
       "      <td>amazdnu</td>\n",
       "      <td>[0, 0]</td>\n",
       "      <td>We got this GPS for my husband who is an (OTR)...</td>\n",
       "      <td>5.0</td>\n",
       "      <td>Gotta have GPS!</td>\n",
       "      <td>1370131200</td>\n",
       "      <td>06 2, 2013</td>\n",
       "    </tr>\n",
       "    <tr>\n",
       "      <th>1</th>\n",
       "      <td>AMO214LNFCEI4</td>\n",
       "      <td>0528881469</td>\n",
       "      <td>Amazon Customer</td>\n",
       "      <td>[12, 15]</td>\n",
       "      <td>I'm a professional OTR truck driver, and I bou...</td>\n",
       "      <td>1.0</td>\n",
       "      <td>Very Disappointed</td>\n",
       "      <td>1290643200</td>\n",
       "      <td>11 25, 2010</td>\n",
       "    </tr>\n",
       "    <tr>\n",
       "      <th>2</th>\n",
       "      <td>A3N7T0DY83Y4IG</td>\n",
       "      <td>0528881469</td>\n",
       "      <td>C. A. Freeman</td>\n",
       "      <td>[43, 45]</td>\n",
       "      <td>Well, what can I say.  I've had this unit in m...</td>\n",
       "      <td>3.0</td>\n",
       "      <td>1st impression</td>\n",
       "      <td>1283990400</td>\n",
       "      <td>09 9, 2010</td>\n",
       "    </tr>\n",
       "    <tr>\n",
       "      <th>3</th>\n",
       "      <td>A1H8PY3QHMQQA0</td>\n",
       "      <td>0528881469</td>\n",
       "      <td>Dave M. Shaw \"mack dave\"</td>\n",
       "      <td>[9, 10]</td>\n",
       "      <td>Not going to write a long review, even thought...</td>\n",
       "      <td>2.0</td>\n",
       "      <td>Great grafics, POOR GPS</td>\n",
       "      <td>1290556800</td>\n",
       "      <td>11 24, 2010</td>\n",
       "    </tr>\n",
       "    <tr>\n",
       "      <th>4</th>\n",
       "      <td>A24EV6RXELQZ63</td>\n",
       "      <td>0528881469</td>\n",
       "      <td>Wayne Smith</td>\n",
       "      <td>[0, 0]</td>\n",
       "      <td>I've had mine for a year and here's what we go...</td>\n",
       "      <td>1.0</td>\n",
       "      <td>Major issues, only excuses for support</td>\n",
       "      <td>1317254400</td>\n",
       "      <td>09 29, 2011</td>\n",
       "    </tr>\n",
       "  </tbody>\n",
       "</table>\n",
       "</div>"
      ],
      "text/plain": [
       "       reviewerID        asin              reviewerName   helpful  \\\n",
       "0   AO94DHGC771SJ  0528881469                   amazdnu    [0, 0]   \n",
       "1   AMO214LNFCEI4  0528881469           Amazon Customer  [12, 15]   \n",
       "2  A3N7T0DY83Y4IG  0528881469             C. A. Freeman  [43, 45]   \n",
       "3  A1H8PY3QHMQQA0  0528881469  Dave M. Shaw \"mack dave\"   [9, 10]   \n",
       "4  A24EV6RXELQZ63  0528881469               Wayne Smith    [0, 0]   \n",
       "\n",
       "                                          reviewText  overall  \\\n",
       "0  We got this GPS for my husband who is an (OTR)...      5.0   \n",
       "1  I'm a professional OTR truck driver, and I bou...      1.0   \n",
       "2  Well, what can I say.  I've had this unit in m...      3.0   \n",
       "3  Not going to write a long review, even thought...      2.0   \n",
       "4  I've had mine for a year and here's what we go...      1.0   \n",
       "\n",
       "                                  summary  unixReviewTime   reviewTime  \n",
       "0                         Gotta have GPS!      1370131200   06 2, 2013  \n",
       "1                       Very Disappointed      1290643200  11 25, 2010  \n",
       "2                          1st impression      1283990400   09 9, 2010  \n",
       "3                 Great grafics, POOR GPS      1290556800  11 24, 2010  \n",
       "4  Major issues, only excuses for support      1317254400  09 29, 2011  "
      ]
     },
     "execution_count": 3,
     "metadata": {},
     "output_type": "execute_result"
    }
   ],
   "source": [
    "dfr.head()"
   ]
  },
  {
   "cell_type": "code",
   "execution_count": 4,
   "id": "d789c744",
   "metadata": {},
   "outputs": [
    {
     "data": {
      "text/plain": [
       "(1689188, 9)"
      ]
     },
     "execution_count": 4,
     "metadata": {},
     "output_type": "execute_result"
    }
   ],
   "source": [
    "dfr.shape"
   ]
  },
  {
   "cell_type": "code",
   "execution_count": 5,
   "id": "7cc1dcc5",
   "metadata": {},
   "outputs": [
    {
     "name": "stdout",
     "output_type": "stream",
     "text": [
      "<class 'pandas.core.frame.DataFrame'>\n",
      "RangeIndex: 1689188 entries, 0 to 1689187\n",
      "Data columns (total 9 columns):\n",
      " #   Column          Non-Null Count    Dtype  \n",
      "---  ------          --------------    -----  \n",
      " 0   reviewerID      1689188 non-null  object \n",
      " 1   asin            1689188 non-null  object \n",
      " 2   reviewerName    1664309 non-null  object \n",
      " 3   helpful         1689188 non-null  object \n",
      " 4   reviewText      1688117 non-null  object \n",
      " 5   overall         1689188 non-null  float64\n",
      " 6   summary         1689173 non-null  object \n",
      " 7   unixReviewTime  1689188 non-null  int64  \n",
      " 8   reviewTime      1689188 non-null  object \n",
      "dtypes: float64(1), int64(1), object(7)\n",
      "memory usage: 116.0+ MB\n"
     ]
    }
   ],
   "source": [
    "dfr.info()"
   ]
  },
  {
   "cell_type": "code",
   "execution_count": 6,
   "id": "3463fe9b",
   "metadata": {},
   "outputs": [],
   "source": [
    "# change column name \n",
    "dfr = dfr.rename(columns={'reviewerID': 'reviewerId'})\n",
    "dfr = dfr.rename(columns={'asin': 'productId'})\n",
    "dfr = dfr.rename(columns={'overall': 'ratings'})\n",
    "dfr = dfr.rename(columns={'unixReviewTime': 'timestamp'})"
   ]
  },
  {
   "cell_type": "code",
   "execution_count": 7,
   "id": "0fbefab5",
   "metadata": {},
   "outputs": [
    {
     "name": "stdout",
     "output_type": "stream",
     "text": [
      "<class 'pandas.core.frame.DataFrame'>\n",
      "RangeIndex: 1689188 entries, 0 to 1689187\n",
      "Data columns (total 9 columns):\n",
      " #   Column        Non-Null Count    Dtype  \n",
      "---  ------        --------------    -----  \n",
      " 0   reviewerId    1689188 non-null  object \n",
      " 1   productId     1689188 non-null  object \n",
      " 2   reviewerName  1664309 non-null  object \n",
      " 3   helpful       1689188 non-null  object \n",
      " 4   reviewText    1688117 non-null  object \n",
      " 5   ratings       1689188 non-null  float64\n",
      " 6   summary       1689173 non-null  object \n",
      " 7   timestamp     1689188 non-null  int64  \n",
      " 8   reviewTime    1689188 non-null  object \n",
      "dtypes: float64(1), int64(1), object(7)\n",
      "memory usage: 116.0+ MB\n"
     ]
    }
   ],
   "source": [
    "dfr.info()"
   ]
  },
  {
   "cell_type": "code",
   "execution_count": 8,
   "id": "a468653e",
   "metadata": {},
   "outputs": [
    {
     "data": {
      "text/plain": [
       "count    1.689188e+06\n",
       "mean     4.222779e+00\n",
       "std      1.185632e+00\n",
       "min      1.000000e+00\n",
       "25%      4.000000e+00\n",
       "50%      5.000000e+00\n",
       "75%      5.000000e+00\n",
       "max      5.000000e+00\n",
       "Name: ratings, dtype: float64"
      ]
     },
     "execution_count": 8,
     "metadata": {},
     "output_type": "execute_result"
    }
   ],
   "source": [
    "# Average Score\n",
    "dfr.describe()['ratings'].T"
   ]
  },
  {
   "cell_type": "code",
   "execution_count": 9,
   "id": "98623820",
   "metadata": {},
   "outputs": [
    {
     "data": {
      "text/plain": [
       "reviewerId          0\n",
       "productId           0\n",
       "reviewerName    24879\n",
       "helpful             0\n",
       "reviewText       1071\n",
       "ratings             0\n",
       "summary            15\n",
       "timestamp           0\n",
       "reviewTime          0\n",
       "dtype: int64"
      ]
     },
     "execution_count": 9,
     "metadata": {},
     "output_type": "execute_result"
    }
   ],
   "source": [
    "# Check for missing values\n",
    "dfr.isnull().sum()"
   ]
  },
  {
   "cell_type": "code",
   "execution_count": 10,
   "id": "44dee66a",
   "metadata": {},
   "outputs": [],
   "source": [
    "# considering 4 columns\n",
    "cols=['reviewerId', 'productId', 'ratings','timestamp']\n",
    "dfr_new = dfr[cols]"
   ]
  },
  {
   "cell_type": "code",
   "execution_count": 11,
   "id": "66ffb43d",
   "metadata": {},
   "outputs": [
    {
     "name": "stdout",
     "output_type": "stream",
     "text": [
      "<class 'pandas.core.frame.DataFrame'>\n",
      "RangeIndex: 1689188 entries, 0 to 1689187\n",
      "Data columns (total 4 columns):\n",
      " #   Column      Non-Null Count    Dtype  \n",
      "---  ------      --------------    -----  \n",
      " 0   reviewerId  1689188 non-null  object \n",
      " 1   productId   1689188 non-null  object \n",
      " 2   ratings     1689188 non-null  float64\n",
      " 3   timestamp   1689188 non-null  int64  \n",
      "dtypes: float64(1), int64(1), object(2)\n",
      "memory usage: 51.6+ MB\n"
     ]
    }
   ],
   "source": [
    "dfr_new.info()"
   ]
  },
  {
   "cell_type": "code",
   "execution_count": 59,
   "id": "b01414a4",
   "metadata": {},
   "outputs": [
    {
     "name": "stdout",
     "output_type": "stream",
     "text": [
      "Number of reviews:  1689188\n",
      "Number of unique reviewers =  192403\n",
      "Number of unique products =  63001\n",
      "Average rating score:  4.223\n"
     ]
    }
   ],
   "source": [
    "print ('Number of reviews: ',len(dfr))\n",
    "print('Number of unique reviewers = ', dfr['reviewerId'].nunique())\n",
    "print('Number of unique products = ', dfr['productId'].nunique())\n",
    "print (\"Average rating score: \",round(dfr['ratings'].mean(),3))"
   ]
  },
  {
   "cell_type": "code",
   "execution_count": 54,
   "id": "dfc89fae",
   "metadata": {},
   "outputs": [
    {
     "data": {
      "text/plain": [
       "reviewerId\n",
       "ADLVFFE4VBT8      431\n",
       "A3OXHLG6DIBRW8    407\n",
       "A6FIAB28IS79      367\n",
       "A680RUE1FDO8B     352\n",
       "A5JLAU2ARJ0BO     351\n",
       "Name: ratings, dtype: int64"
      ]
     },
     "execution_count": 54,
     "metadata": {},
     "output_type": "execute_result"
    }
   ],
   "source": [
    "#Analysis of rating given by the user \n",
    "rated_products_per_user = dfr_new.groupby(by='reviewerId')['ratings'].count().sort_values(ascending=False)\n",
    "rated_products_per_user.head()"
   ]
  },
  {
   "cell_type": "code",
   "execution_count": 13,
   "id": "89f28df5",
   "metadata": {},
   "outputs": [
    {
     "data": {
      "text/plain": [
       "(array([0, 1, 2, 3, 4]),\n",
       " [Text(0, 0, '1.0'),\n",
       "  Text(1, 0, '2.0'),\n",
       "  Text(2, 0, '3.0'),\n",
       "  Text(3, 0, '4.0'),\n",
       "  Text(4, 0, '5.0')])"
      ]
     },
     "execution_count": 13,
     "metadata": {},
     "output_type": "execute_result"
    },
    {
     "data": {
      "image/png": "[encoded data removed]",
      "text/plain": [
       "<Figure size 432x288 with 1 Axes>"
      ]
     },
     "metadata": {
      "needs_background": "light"
     },
     "output_type": "display_data"
    }
   ],
   "source": [
    "# Distribution of rating score\n",
    "dfr.groupby('ratings').size().plot(kind='bar')\n",
    "plt.title(\"Frequency of Review Rating\")\n",
    "plt.xlabel(\"Rating\")\n",
    "plt.ylabel(\"Number of reviews\")\n",
    "plt.xticks(rotation=0)"
   ]
  },
  {
   "cell_type": "code",
   "execution_count": 14,
   "id": "44fb525b",
   "metadata": {},
   "outputs": [
    {
     "data": {
      "text/plain": [
       "<AxesSubplot:xlabel='productId'>"
      ]
     },
     "execution_count": 14,
     "metadata": {},
     "output_type": "execute_result"
    },
    {
     "data": {
      "image/png": "[encoded data removed]",
      "text/plain": [
       "<Figure size 1800x864 with 1 Axes>"
      ]
     },
     "metadata": {
      "needs_background": "light"
     },
     "output_type": "display_data"
    }
   ],
   "source": [
    "# puplar products\n",
    "df_popular_pd = pd.DataFrame(dfr_new.groupby('productId')['ratings'].count())\n",
    "most_popular = df_popular_pd.sort_values('ratings', ascending=False)\n",
    "most_popular.head(30).plot(kind = \"bar\",figsize=(25, 12))"
   ]
  },
  {
   "cell_type": "code",
   "execution_count": 61,
   "id": "d020bf8f",
   "metadata": {},
   "outputs": [],
   "source": [
    "# save the data to a new csv file\n",
    "import os\n",
    "datapath = '../data'\n",
    "\n",
    "datapath= os.path.join(datapath, '2.electronics_cleaned.csv')\n",
    "#if not os.path.exists(datapath_ccattr_step2):\n",
    "dfr_new.to_csv(datapath, index=False)"
   ]
  },
  {
   "cell_type": "code",
   "execution_count": null,
   "id": "722bbe3b",
   "metadata": {},
   "outputs": [],
   "source": []
  }
 ],
 "metadata": {
  "kernelspec": {
   "display_name": "Python 3",
   "language": "python",
   "name": "python3"
  },
  "language_info": {
   "codemirror_mode": {
    "name": "ipython",
    "version": 3
   },
   "file_extension": ".py",
   "mimetype": "text/x-python",
   "name": "python",
   "nbconvert_exporter": "python",
   "pygments_lexer": "ipython3",
   "version": "3.8.8"
  }
 },
 "nbformat": 4,
 "nbformat_minor": 5
}
